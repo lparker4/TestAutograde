{
 "cells": [
  {
   "cell_type": "code",
   "execution_count": 2,
   "metadata": {},
   "outputs": [],
   "source": [
    "import ColabTurtlePlus.Turtle as t\n",
    "import random  # Import the random module for color randomness\n",
    "from PIL import Image # NEW IMPORT ADDED\n"
   ]
  },
  {
   "cell_type": "code",
   "execution_count": null,
   "metadata": {},
   "outputs": [],
   "source": []
  },
  {
   "cell_type": "code",
   "execution_count": 4,
   "metadata": {},
   "outputs": [
    {
     "data": {
      "text/html": [
       "\n",
       "      <svg width=\"500\" height=\"500\">  \n",
       "        <rect width=\"100%\" height=\"100%\" style=\"fill:aliceblue;stroke:gray;stroke-width:1\"/>\n",
       "        \n",
       "        \n",
       "        <path fill-rule=\"evenodd\" fill-opacity=\"1\" d=\"M 250.0 250.0  L 350.0 250.0  L 300.0 163.397  L 250.0 250.0 \" stroke-linecap=\"round\" style=\"stroke:black;stroke-width:1\" fill=\"lightblue\" />\n",
       "        <circle cx=\"250.0\" cy=\"250.0\" r=\"5.0\" fill=\"yellow\" fill-opacity=\"1\" />\n",
       "        \n",
       "        <g id=\"turtle2\" visibility=\"visible\" transform=\"rotate(-90,250.0,250.0) translate(250.0, 250.0)\">\n",
       "<polygon points=\"0,16 2,14 1,10 4,7 7,9 9,8 6,5 7,1 5,-3 8,-6 6,-8 4,-5 0,-7 -4,-5 -6,-8 -8,-6 -5,-3 -7,1 -6,5 -9,8 -7,9 -4,7 -1,10 -2,14\" transform=\"skewX(0) scale(1,1)\" style=\"stroke:darkgreen;stroke-width:1;fill:darkgreen\" />\n",
       "</g>\n",
       "      </svg>\n",
       "    "
      ],
      "text/plain": [
       "<IPython.core.display.HTML object>"
      ]
     },
     "metadata": {},
     "output_type": "display_data"
    },
    {
     "ename": "AttributeError",
     "evalue": "'NoneType' object has no attribute 'postscript'",
     "output_type": "error",
     "traceback": [
      "\u001b[1;31m---------------------------------------------------------------------------\u001b[0m",
      "\u001b[1;31mAttributeError\u001b[0m                            Traceback (most recent call last)",
      "\u001b[1;32mc:\\Users\\laure\\OneDrive\\Documents\\Research\\TestAutograde\\turtle_colabs\\hw2pr1 (1).ipynb Cell 2\u001b[0m line \u001b[0;36m3\n\u001b[0;32m     <a href='vscode-notebook-cell:/c%3A/Users/laure/OneDrive/Documents/Research/TestAutograde/turtle_colabs/hw2pr1%20%281%29.ipynb#W0sZmlsZQ%3D%3D?line=32'>33</a>\u001b[0m \u001b[39m# ADDED CODE\u001b[39;00m\n\u001b[0;32m     <a href='vscode-notebook-cell:/c%3A/Users/laure/OneDrive/Documents/Research/TestAutograde/turtle_colabs/hw2pr1%20%281%29.ipynb#W0sZmlsZQ%3D%3D?line=33'>34</a>\u001b[0m cv \u001b[39m=\u001b[39m t\u001b[39m.\u001b[39msaveSVG(turtle \u001b[39m=\u001b[39m \u001b[39mTrue\u001b[39;00m)\n\u001b[1;32m---> <a href='vscode-notebook-cell:/c%3A/Users/laure/OneDrive/Documents/Research/TestAutograde/turtle_colabs/hw2pr1%20%281%29.ipynb#W0sZmlsZQ%3D%3D?line=34'>35</a>\u001b[0m cv\u001b[39m.\u001b[39;49mpostscript(file\u001b[39m=\u001b[39m\u001b[39m\"\u001b[39m\u001b[39mone.ps\u001b[39m\u001b[39m\"\u001b[39m, colormode\u001b[39m=\u001b[39m\u001b[39m'\u001b[39m\u001b[39mcolor\u001b[39m\u001b[39m'\u001b[39m)\n\u001b[0;32m     <a href='vscode-notebook-cell:/c%3A/Users/laure/OneDrive/Documents/Research/TestAutograde/turtle_colabs/hw2pr1%20%281%29.ipynb#W0sZmlsZQ%3D%3D?line=35'>36</a>\u001b[0m psimage\u001b[39m=\u001b[39mImage\u001b[39m.\u001b[39mopen(\u001b[39m'\u001b[39m\u001b[39mone.ps\u001b[39m\u001b[39m'\u001b[39m)\n\u001b[0;32m     <a href='vscode-notebook-cell:/c%3A/Users/laure/OneDrive/Documents/Research/TestAutograde/turtle_colabs/hw2pr1%20%281%29.ipynb#W0sZmlsZQ%3D%3D?line=36'>37</a>\u001b[0m psimage\u001b[39m.\u001b[39msave(\u001b[39m'\u001b[39m\u001b[39mone.png\u001b[39m\u001b[39m'\u001b[39m)\n",
      "\u001b[1;31mAttributeError\u001b[0m: 'NoneType' object has no attribute 'postscript'"
     ]
    }
   ],
   "source": [
    "\n",
    "t.clearscreen()\n",
    "t.setup(500, 500)\n",
    "t.showborder()\n",
    "t.bgcolor(\"AliceBlue\")\n",
    "t.shape('turtle2')\n",
    "t.speed(10)  # Adjust the speed as needed\n",
    "\n",
    "def tri(n):\n",
    "    \"\"\"Draws n 100-pixel sides of an equilateral triangle.\n",
    "    Note that n doesn't have to be 3 (!)\n",
    "    \"\"\"\n",
    "    if n == 0:\n",
    "        return  # No sides to draw, so stop drawing\n",
    "    else:\n",
    "        t.forward(100)\n",
    "        t.left(120)\n",
    "        tri(n-1)  # Recur to draw the rest of the sides!\n",
    "\n",
    "# Filling the triangle with a color\n",
    "t.fillcolor('lightblue')  # Change the fill color as needed\n",
    "t.begin_fill()\n",
    "tri(3)\n",
    "t.end_fill()\n",
    "# Changing line thickness and color randomly\n",
    "t.width(5)  # Adjust line thickness as needed\n",
    "clr = random.choice(['darkgreen', 'red', 'blue'])  # Random color selection\n",
    "t.color(clr)\n",
    "\n",
    "# Drawing a filled circle (dot)\n",
    "t.dot(10, 'yellow')  # Adjust dot size and color as needed\n",
    "\n",
    "t.penup()\n",
    "cv = t.saveSVG(turtle = True)\n",
    "\n"
   ]
  },
  {
   "cell_type": "code",
   "execution_count": 19,
   "metadata": {},
   "outputs": [
    {
     "data": {
      "text/html": [
       "\n",
       "      <svg width=\"500\" height=\"500\">  \n",
       "        <rect width=\"100%\" height=\"100%\" style=\"fill:aliceblue;stroke:gray;stroke-width:1\"/>\n",
       "        \n",
       "        \n",
       "        <line x1=\"50.0\" y1=\"250.0\" x2=\"61.111\" y2=\"250.0\" stroke-linecap=\"round\" style=\"stroke:black;stroke-width:2\" /><line x1=\"61.111\" y1=\"250.0\" x2=\"66.667\" y2=\"240.377\" stroke-linecap=\"round\" style=\"stroke:black;stroke-width:2\" /><line x1=\"66.667\" y1=\"240.377\" x2=\"72.223\" y2=\"250.0\" stroke-linecap=\"round\" style=\"stroke:black;stroke-width:2\" /><line x1=\"72.223\" y1=\"250.0\" x2=\"83.334\" y2=\"250.0\" stroke-linecap=\"round\" style=\"stroke:black;stroke-width:2\" /><line x1=\"83.334\" y1=\"250.0\" x2=\"88.89\" y2=\"240.377\" stroke-linecap=\"round\" style=\"stroke:black;stroke-width:2\" /><line x1=\"88.89\" y1=\"240.377\" x2=\"83.334\" y2=\"230.754\" stroke-linecap=\"round\" style=\"stroke:black;stroke-width:2\" /><line x1=\"83.334\" y1=\"230.754\" x2=\"94.445\" y2=\"230.754\" stroke-linecap=\"round\" style=\"stroke:black;stroke-width:2\" /><line x1=\"94.445\" y1=\"230.754\" x2=\"100.001\" y2=\"221.131\" stroke-linecap=\"round\" style=\"stroke:black;stroke-width:2\" /><line x1=\"100.001\" y1=\"221.131\" x2=\"105.557\" y2=\"230.754\" stroke-linecap=\"round\" style=\"stroke:black;stroke-width:2\" /><line x1=\"105.557\" y1=\"230.754\" x2=\"116.668\" y2=\"230.754\" stroke-linecap=\"round\" style=\"stroke:black;stroke-width:2\" /><line x1=\"116.668\" y1=\"230.754\" x2=\"111.112\" y2=\"240.377\" stroke-linecap=\"round\" style=\"stroke:black;stroke-width:2\" /><line x1=\"111.112\" y1=\"240.377\" x2=\"116.668\" y2=\"250.0\" stroke-linecap=\"round\" style=\"stroke:black;stroke-width:2\" /><line x1=\"116.668\" y1=\"250.0\" x2=\"127.779\" y2=\"250.0\" stroke-linecap=\"round\" style=\"stroke:black;stroke-width:2\" /><line x1=\"127.779\" y1=\"250.0\" x2=\"133.335\" y2=\"240.377\" stroke-linecap=\"round\" style=\"stroke:black;stroke-width:2\" /><line x1=\"133.335\" y1=\"240.377\" x2=\"138.891\" y2=\"250.0\" stroke-linecap=\"round\" style=\"stroke:black;stroke-width:2\" /><line x1=\"138.891\" y1=\"250.0\" x2=\"150.002\" y2=\"250.0\" stroke-linecap=\"round\" style=\"stroke:black;stroke-width:2\" /><line x1=\"150.002\" y1=\"250.0\" x2=\"155.558\" y2=\"240.377\" stroke-linecap=\"round\" style=\"stroke:black;stroke-width:2\" /><line x1=\"155.558\" y1=\"240.377\" x2=\"150.002\" y2=\"230.754\" stroke-linecap=\"round\" style=\"stroke:black;stroke-width:2\" /><line x1=\"150.002\" y1=\"230.754\" x2=\"161.113\" y2=\"230.754\" stroke-linecap=\"round\" style=\"stroke:black;stroke-width:2\" /><line x1=\"161.113\" y1=\"230.754\" x2=\"166.669\" y2=\"221.131\" stroke-linecap=\"round\" style=\"stroke:black;stroke-width:2\" /><line x1=\"166.669\" y1=\"221.131\" x2=\"161.113\" y2=\"211.508\" stroke-linecap=\"round\" style=\"stroke:black;stroke-width:2\" /><line x1=\"161.113\" y1=\"211.508\" x2=\"150.002\" y2=\"211.508\" stroke-linecap=\"round\" style=\"stroke:black;stroke-width:2\" /><line x1=\"150.002\" y1=\"211.508\" x2=\"155.558\" y2=\"201.885\" stroke-linecap=\"round\" style=\"stroke:black;stroke-width:2\" /><line x1=\"155.558\" y1=\"201.885\" x2=\"150.002\" y2=\"192.262\" stroke-linecap=\"round\" style=\"stroke:black;stroke-width:2\" /><line x1=\"150.002\" y1=\"192.262\" x2=\"161.113\" y2=\"192.262\" stroke-linecap=\"round\" style=\"stroke:black;stroke-width:2\" /><line x1=\"161.113\" y1=\"192.262\" x2=\"166.669\" y2=\"182.639\" stroke-linecap=\"round\" style=\"stroke:black;stroke-width:2\" /><line x1=\"166.669\" y1=\"182.639\" x2=\"172.225\" y2=\"192.262\" stroke-linecap=\"round\" style=\"stroke:black;stroke-width:2\" /><line x1=\"172.225\" y1=\"192.262\" x2=\"183.336\" y2=\"192.262\" stroke-linecap=\"round\" style=\"stroke:black;stroke-width:2\" /><line x1=\"183.336\" y1=\"192.262\" x2=\"188.892\" y2=\"182.639\" stroke-linecap=\"round\" style=\"stroke:black;stroke-width:2\" /><line x1=\"188.892\" y1=\"182.639\" x2=\"183.336\" y2=\"173.016\" stroke-linecap=\"round\" style=\"stroke:black;stroke-width:2\" /><line x1=\"183.336\" y1=\"173.016\" x2=\"194.447\" y2=\"173.016\" stroke-linecap=\"round\" style=\"stroke:black;stroke-width:2\" /><line x1=\"194.447\" y1=\"173.016\" x2=\"200.003\" y2=\"163.393\" stroke-linecap=\"round\" style=\"stroke:black;stroke-width:2\" /><line x1=\"200.003\" y1=\"163.393\" x2=\"205.559\" y2=\"173.016\" stroke-linecap=\"round\" style=\"stroke:black;stroke-width:2\" /><line x1=\"205.559\" y1=\"173.016\" x2=\"216.67\" y2=\"173.016\" stroke-linecap=\"round\" style=\"stroke:black;stroke-width:2\" /><line x1=\"216.67\" y1=\"173.016\" x2=\"211.114\" y2=\"182.639\" stroke-linecap=\"round\" style=\"stroke:black;stroke-width:2\" /><line x1=\"211.114\" y1=\"182.639\" x2=\"216.67\" y2=\"192.262\" stroke-linecap=\"round\" style=\"stroke:black;stroke-width:2\" /><line x1=\"216.67\" y1=\"192.262\" x2=\"227.781\" y2=\"192.262\" stroke-linecap=\"round\" style=\"stroke:black;stroke-width:2\" /><line x1=\"227.781\" y1=\"192.262\" x2=\"233.337\" y2=\"182.639\" stroke-linecap=\"round\" style=\"stroke:black;stroke-width:2\" /><line x1=\"233.337\" y1=\"182.639\" x2=\"238.893\" y2=\"192.262\" stroke-linecap=\"round\" style=\"stroke:black;stroke-width:2\" /><line x1=\"238.893\" y1=\"192.262\" x2=\"250.004\" y2=\"192.262\" stroke-linecap=\"round\" style=\"stroke:black;stroke-width:2\" /><line x1=\"250.004\" y1=\"192.262\" x2=\"244.448\" y2=\"201.885\" stroke-linecap=\"round\" style=\"stroke:black;stroke-width:2\" /><line x1=\"244.448\" y1=\"201.885\" x2=\"250.004\" y2=\"211.508\" stroke-linecap=\"round\" style=\"stroke:black;stroke-width:2\" /><line x1=\"250.004\" y1=\"211.508\" x2=\"238.893\" y2=\"211.508\" stroke-linecap=\"round\" style=\"stroke:black;stroke-width:2\" /><line x1=\"238.893\" y1=\"211.508\" x2=\"233.337\" y2=\"221.131\" stroke-linecap=\"round\" style=\"stroke:black;stroke-width:2\" /><line x1=\"233.337\" y1=\"221.131\" x2=\"238.893\" y2=\"230.754\" stroke-linecap=\"round\" style=\"stroke:black;stroke-width:2\" /><line x1=\"238.893\" y1=\"230.754\" x2=\"250.004\" y2=\"230.754\" stroke-linecap=\"round\" style=\"stroke:black;stroke-width:2\" /><line x1=\"250.004\" y1=\"230.754\" x2=\"244.448\" y2=\"240.377\" stroke-linecap=\"round\" style=\"stroke:black;stroke-width:2\" /><line x1=\"244.448\" y1=\"240.377\" x2=\"250.004\" y2=\"250.0\" stroke-linecap=\"round\" style=\"stroke:black;stroke-width:2\" /><line x1=\"250.004\" y1=\"250.0\" x2=\"261.115\" y2=\"250.0\" stroke-linecap=\"round\" style=\"stroke:black;stroke-width:2\" /><line x1=\"261.115\" y1=\"250.0\" x2=\"266.671\" y2=\"240.377\" stroke-linecap=\"round\" style=\"stroke:black;stroke-width:2\" /><line x1=\"266.671\" y1=\"240.377\" x2=\"272.227\" y2=\"250.0\" stroke-linecap=\"round\" style=\"stroke:black;stroke-width:2\" /><line x1=\"272.227\" y1=\"250.0\" x2=\"283.338\" y2=\"250.0\" stroke-linecap=\"round\" style=\"stroke:black;stroke-width:2\" /><line x1=\"283.338\" y1=\"250.0\" x2=\"288.894\" y2=\"240.377\" stroke-linecap=\"round\" style=\"stroke:black;stroke-width:2\" /><line x1=\"288.894\" y1=\"240.377\" x2=\"283.338\" y2=\"230.754\" stroke-linecap=\"round\" style=\"stroke:black;stroke-width:2\" /><line x1=\"283.338\" y1=\"230.754\" x2=\"294.449\" y2=\"230.754\" stroke-linecap=\"round\" style=\"stroke:black;stroke-width:2\" /><line x1=\"294.449\" y1=\"230.754\" x2=\"300.005\" y2=\"221.131\" stroke-linecap=\"round\" style=\"stroke:black;stroke-width:2\" /><line x1=\"300.005\" y1=\"221.131\" x2=\"305.561\" y2=\"230.754\" stroke-linecap=\"round\" style=\"stroke:black;stroke-width:2\" /><line x1=\"305.561\" y1=\"230.754\" x2=\"316.672\" y2=\"230.754\" stroke-linecap=\"round\" style=\"stroke:black;stroke-width:2\" /><line x1=\"316.672\" y1=\"230.754\" x2=\"311.116\" y2=\"240.377\" stroke-linecap=\"round\" style=\"stroke:black;stroke-width:2\" /><line x1=\"311.116\" y1=\"240.377\" x2=\"316.672\" y2=\"250.0\" stroke-linecap=\"round\" style=\"stroke:black;stroke-width:2\" /><line x1=\"316.672\" y1=\"250.0\" x2=\"327.783\" y2=\"250.0\" stroke-linecap=\"round\" style=\"stroke:black;stroke-width:2\" /><line x1=\"327.783\" y1=\"250.0\" x2=\"333.339\" y2=\"240.377\" stroke-linecap=\"round\" style=\"stroke:black;stroke-width:2\" /><line x1=\"333.339\" y1=\"240.377\" x2=\"338.895\" y2=\"250.0\" stroke-linecap=\"round\" style=\"stroke:black;stroke-width:2\" /><line x1=\"338.895\" y1=\"250.0\" x2=\"348.895\" y2=\"250.0\" stroke-linecap=\"round\" style=\"stroke:black;stroke-width:2\" /><line x1=\"348.895\" y1=\"250.0\" x2=\"350.00611111111107\" y2=\"250.0\" stroke-linecap=\"round\" style=\"stroke:black;stroke-width:2\" />\n",
       "        \n",
       "        \n",
       "        <g id=\"turtle2\" visibility=\"visible\" transform=\"rotate(-90,350.00611111111107,250.0) translate(350.00611111111107, 250.0)\">\n",
       "<polygon points=\"0,16 2,14 1,10 4,7 7,9 9,8 6,5 7,1 5,-3 8,-6 6,-8 4,-5 0,-7 -4,-5 -6,-8 -8,-6 -5,-3 -7,1 -6,5 -9,8 -7,9 -4,7 -1,10 -2,14\" transform=\"skewX(0) scale(1,1)\" style=\"stroke:black;stroke-width:1;fill:black\" />\n",
       "</g>\n",
       "      </svg>\n",
       "    "
      ],
      "text/plain": [
       "<IPython.core.display.HTML object>"
      ]
     },
     "metadata": {},
     "output_type": "display_data"
    }
   ],
   "source": [
    "import ColabTurtlePlus.Turtle as t\n",
    "\n",
    "t.clearscreen()\n",
    "t.setup(500, 500)\n",
    "t.showborder()\n",
    "t.bgcolor(\"AliceBlue\")\n",
    "t.shape(\"turtle2\")\n",
    "t.speed(10)\n",
    "t.width(2)\n",
    "\n",
    "def flakeside(sidelength, levels):\n",
    "    \"\"\"flakeside draws one side of the fractal Koch snowflake.\"\"\"\n",
    "    if levels == 0:\n",
    "        t.forward(sidelength)\n",
    "    else:\n",
    "        sidelength /= 3.0\n",
    "        flakeside(sidelength, levels - 1)\n",
    "        t.left(60)\n",
    "        flakeside(sidelength, levels - 1)\n",
    "        t.right(120)\n",
    "        flakeside(sidelength, levels - 1)\n",
    "        t.left(60)\n",
    "        flakeside(sidelength, levels - 1)\n",
    "\n",
    "# Try it!\n",
    "t.penup()\n",
    "t.goto(-200, 0)  # move the pen to a \"southwest\" corner...\n",
    "t.pendown()\n",
    "flakeside(300, 3)  # Try different levels here"
   ]
  },
  {
   "cell_type": "code",
   "execution_count": 20,
   "metadata": {},
   "outputs": [
    {
     "data": {
      "text/html": [
       "\n",
       "      <svg width=\"500\" height=\"500\">  \n",
       "        <rect width=\"100%\" height=\"100%\" style=\"fill:aliceblue;stroke:gray;stroke-width:1\"/>\n",
       "        \n",
       "        \n",
       "        <line x1=\"250.0\" y1=\"250.0\" x2=\"350.0\" y2=\"250.0\" stroke-linecap=\"round\" style=\"stroke:black;stroke-width:2\" /><line x1=\"350.0\" y1=\"250.0\" x2=\"350.0\" y2=\"160.0\" stroke-linecap=\"round\" style=\"stroke:black;stroke-width:2\" /><line x1=\"350.0\" y1=\"160.0\" x2=\"269.0\" y2=\"160.0\" stroke-linecap=\"round\" style=\"stroke:black;stroke-width:2\" /><line x1=\"269.0\" y1=\"160.0\" x2=\"269.0\" y2=\"232.9\" stroke-linecap=\"round\" style=\"stroke:black;stroke-width:2\" /><line x1=\"269.0\" y1=\"232.9\" x2=\"334.61\" y2=\"232.9\" stroke-linecap=\"round\" style=\"stroke:black;stroke-width:2\" /><line x1=\"334.61\" y1=\"232.9\" x2=\"334.61\" y2=\"173.851\" stroke-linecap=\"round\" style=\"stroke:black;stroke-width:2\" /><line x1=\"334.61\" y1=\"173.851\" x2=\"281.466\" y2=\"173.851\" stroke-linecap=\"round\" style=\"stroke:black;stroke-width:2\" /><line x1=\"281.466\" y1=\"173.851\" x2=\"281.466\" y2=\"221.681\" stroke-linecap=\"round\" style=\"stroke:black;stroke-width:2\" /><line x1=\"281.466\" y1=\"221.681\" x2=\"324.513\" y2=\"221.681\" stroke-linecap=\"round\" style=\"stroke:black;stroke-width:2\" /><line x1=\"324.513\" y1=\"221.681\" x2=\"324.513\" y2=\"182.939\" stroke-linecap=\"round\" style=\"stroke:black;stroke-width:2\" /><line x1=\"324.513\" y1=\"182.939\" x2=\"289.645\" y2=\"182.939\" stroke-linecap=\"round\" style=\"stroke:black;stroke-width:2\" /><line x1=\"289.645\" y1=\"182.939\" x2=\"289.645\" y2=\"214.32\" stroke-linecap=\"round\" style=\"stroke:black;stroke-width:2\" /><line x1=\"289.645\" y1=\"214.32\" x2=\"317.888\" y2=\"214.32\" stroke-linecap=\"round\" style=\"stroke:black;stroke-width:2\" /><line x1=\"317.888\" y1=\"214.32\" x2=\"317.888\" y2=\"188.901\" stroke-linecap=\"round\" style=\"stroke:black;stroke-width:2\" /><line x1=\"317.888\" y1=\"188.901\" x2=\"295.011\" y2=\"188.901\" stroke-linecap=\"round\" style=\"stroke:black;stroke-width:2\" /><line x1=\"295.011\" y1=\"188.901\" x2=\"295.011\" y2=\"209.49\" stroke-linecap=\"round\" style=\"stroke:black;stroke-width:2\" /><line x1=\"295.011\" y1=\"209.49\" x2=\"313.541\" y2=\"209.49\" stroke-linecap=\"round\" style=\"stroke:black;stroke-width:2\" /><line x1=\"313.541\" y1=\"209.49\" x2=\"313.541\" y2=\"192.813\" stroke-linecap=\"round\" style=\"stroke:black;stroke-width:2\" /><line x1=\"313.541\" y1=\"192.813\" x2=\"298.532\" y2=\"192.813\" stroke-linecap=\"round\" style=\"stroke:black;stroke-width:2\" /><line x1=\"298.532\" y1=\"192.813\" x2=\"298.532\" y2=\"206.322\" stroke-linecap=\"round\" style=\"stroke:black;stroke-width:2\" /><line x1=\"298.532\" y1=\"206.322\" x2=\"310.69\" y2=\"206.322\" stroke-linecap=\"round\" style=\"stroke:black;stroke-width:2\" /><line x1=\"310.69\" y1=\"206.322\" x2=\"310.69\" y2=\"195.38\" stroke-linecap=\"round\" style=\"stroke:black;stroke-width:2\" /><line x1=\"310.69\" y1=\"195.38\" x2=\"300.842\" y2=\"195.38\" stroke-linecap=\"round\" style=\"stroke:black;stroke-width:2\" /><line x1=\"300.842\" y1=\"195.38\" x2=\"300.842\" y2=\"204.243\" stroke-linecap=\"round\" style=\"stroke:black;stroke-width:2\" /><line x1=\"300.842\" y1=\"204.243\" x2=\"308.819\" y2=\"204.243\" stroke-linecap=\"round\" style=\"stroke:black;stroke-width:2\" /><line x1=\"308.819\" y1=\"204.243\" x2=\"308.819\" y2=\"197.064\" stroke-linecap=\"round\" style=\"stroke:black;stroke-width:2\" /><line x1=\"308.819\" y1=\"197.064\" x2=\"302.358\" y2=\"197.064\" stroke-linecap=\"round\" style=\"stroke:black;stroke-width:2\" /><line x1=\"302.358\" y1=\"197.064\" x2=\"302.358\" y2=\"202.879\" stroke-linecap=\"round\" style=\"stroke:black;stroke-width:2\" /><line x1=\"302.358\" y1=\"202.879\" x2=\"307.591\" y2=\"202.879\" stroke-linecap=\"round\" style=\"stroke:black;stroke-width:2\" /><line x1=\"307.591\" y1=\"202.879\" x2=\"307.591\" y2=\"198.169\" stroke-linecap=\"round\" style=\"stroke:black;stroke-width:2\" /><line x1=\"307.591\" y1=\"198.169\" x2=\"303.352\" y2=\"198.169\" stroke-linecap=\"round\" style=\"stroke:black;stroke-width:2\" /><line x1=\"303.352\" y1=\"198.169\" x2=\"303.352\" y2=\"201.984\" stroke-linecap=\"round\" style=\"stroke:black;stroke-width:2\" /><line x1=\"303.352\" y1=\"201.984\" x2=\"306.786\" y2=\"201.984\" stroke-linecap=\"round\" style=\"stroke:black;stroke-width:2\" /><line x1=\"306.786\" y1=\"201.984\" x2=\"306.786\" y2=\"198.894\" stroke-linecap=\"round\" style=\"stroke:black;stroke-width:2\" /><line x1=\"306.786\" y1=\"198.894\" x2=\"304.005\" y2=\"198.894\" stroke-linecap=\"round\" style=\"stroke:black;stroke-width:2\" /><line x1=\"304.005\" y1=\"198.894\" x2=\"304.005\" y2=\"201.397\" stroke-linecap=\"round\" style=\"stroke:black;stroke-width:2\" /><line x1=\"304.005\" y1=\"201.397\" x2=\"306.258\" y2=\"201.397\" stroke-linecap=\"round\" style=\"stroke:black;stroke-width:2\" /><line x1=\"306.258\" y1=\"201.397\" x2=\"306.258\" y2=\"199.369\" stroke-linecap=\"round\" style=\"stroke:black;stroke-width:2\" /><line x1=\"306.258\" y1=\"199.369\" x2=\"304.433\" y2=\"199.369\" stroke-linecap=\"round\" style=\"stroke:black;stroke-width:2\" /><line x1=\"304.433\" y1=\"199.369\" x2=\"304.433\" y2=\"201.011\" stroke-linecap=\"round\" style=\"stroke:black;stroke-width:2\" /><line x1=\"304.433\" y1=\"201.011\" x2=\"305.911\" y2=\"201.011\" stroke-linecap=\"round\" style=\"stroke:black;stroke-width:2\" /><line x1=\"305.911\" y1=\"201.011\" x2=\"305.911\" y2=\"199.681\" stroke-linecap=\"round\" style=\"stroke:black;stroke-width:2\" /><line x1=\"305.911\" y1=\"199.681\" x2=\"304.714\" y2=\"199.681\" stroke-linecap=\"round\" style=\"stroke:black;stroke-width:2\" /><line x1=\"304.714\" y1=\"199.681\" x2=\"304.714\" y2=\"200.759\" stroke-linecap=\"round\" style=\"stroke:black;stroke-width:2\" />\n",
       "        \n",
       "        \n",
       "        <g id=\"turtle2\" visibility=\"visible\" transform=\"rotate(0,304.714,200.759) translate(304.714, 200.759)\">\n",
       "<polygon points=\"0,16 2,14 1,10 4,7 7,9 9,8 6,5 7,1 5,-3 8,-6 6,-8 4,-5 0,-7 -4,-5 -6,-8 -8,-6 -5,-3 -7,1 -6,5 -9,8 -7,9 -4,7 -1,10 -2,14\" transform=\"skewX(0) scale(1,1)\" style=\"stroke:black;stroke-width:1;fill:black\" />\n",
       "<animateTransform id = \"one\" attributeName=\"transform\" \n",
       "                      type=\"scale\"\n",
       "                      from=\"1 1\" to=\"1 1\"\n",
       "                      begin=\"0s\" dur=\"0.01s\"\n",
       "                      repeatCount=\"1\"\n",
       "                      additive=\"sum\"\n",
       "                      fill=\"freeze\"\n",
       "                /><animateTransform attributeName=\"transform\"\n",
       "                    type=\"rotate\"\n",
       "                    from=\"0 0 0\" to =\"-90 0 0\"\n",
       "                    begin=\"one.end\" dur=\"0.08s\"\n",
       "                    repeatCount=\"1\"\n",
       "                    additive=\"sum\"\n",
       "                    fill=\"freeze\"\n",
       "                /></g>\n",
       "      </svg>\n",
       "    "
      ],
      "text/plain": [
       "<IPython.core.display.HTML object>"
      ]
     },
     "metadata": {},
     "output_type": "display_data"
    }
   ],
   "source": [
    "import ColabTurtlePlus.Turtle as t\n",
    "\n",
    "t.clearscreen()\n",
    "t.setup(500, 500)\n",
    "t.showborder()\n",
    "t.bgcolor(\"AliceBlue\")\n",
    "t.shape(\"turtle2\")\n",
    "t.speed(10)\n",
    "t.width(2)\n",
    "\n",
    "def spiral(initialLength, angle, multiplier):\n",
    "    \"\"\"Spiral-drawing function. Arguments:\n",
    "       initialLength = the length of the first leg of the spiral\n",
    "       angle = the angle, in degrees, turned after each spiral's leg\n",
    "       multiplier = the fraction by which each leg of the spiral changes\n",
    "    \"\"\"\n",
    "    if initialLength <= 1 or initialLength > 1000:\n",
    "        return  # No more to draw, this base case stops the recursion\n",
    "    else:\n",
    "        t.forward(initialLength)  # Draw the current leg\n",
    "        t.left(angle)            # Turn left by the specified angle\n",
    "        # Recursively call spiral with updated parameters\n",
    "        spiral(initialLength * multiplier, angle, multiplier)\n",
    "\n",
    "spiral(100, 90, 0.9)   # Call spiral with initial values\n"
   ]
  },
  {
   "cell_type": "code",
   "execution_count": 21,
   "metadata": {},
   "outputs": [
    {
     "data": {
      "text/html": [
       "\n",
       "      <svg width=\"500\" height=\"500\">  \n",
       "        <rect width=\"100%\" height=\"100%\" style=\"fill:aliceblue;stroke:gray;stroke-width:1\"/>\n",
       "        \n",
       "        \n",
       "        <line x1=\"250.0\" y1=\"250.0\" x2=\"350.0\" y2=\"250.0\" stroke-linecap=\"round\" style=\"stroke:black;stroke-width:2\" /><line x1=\"350.0\" y1=\"250.0\" x2=\"350.0\" y2=\"200.0\" stroke-linecap=\"round\" style=\"stroke:black;stroke-width:2\" /><line x1=\"350.0\" y1=\"200.0\" x2=\"400.0\" y2=\"200.0\" stroke-linecap=\"round\" style=\"stroke:black;stroke-width:2\" /><line x1=\"400.0\" y1=\"200.0\" x2=\"400.0\" y2=\"175.0\" stroke-linecap=\"round\" style=\"stroke:black;stroke-width:2\" /><line x1=\"400.0\" y1=\"175.0\" x2=\"425.0\" y2=\"175.0\" stroke-linecap=\"round\" style=\"stroke:black;stroke-width:2\" /><line x1=\"425.0\" y1=\"175.0\" x2=\"425.0\" y2=\"162.5\" stroke-linecap=\"round\" style=\"stroke:black;stroke-width:2\" /><line x1=\"425.0\" y1=\"162.5\" x2=\"437.5\" y2=\"162.5\" stroke-linecap=\"round\" style=\"stroke:black;stroke-width:2\" /><line x1=\"437.5\" y1=\"162.5\" x2=\"437.5\" y2=\"156.25\" stroke-linecap=\"round\" style=\"stroke:black;stroke-width:2\" /><line x1=\"437.5\" y1=\"156.25\" x2=\"443.75\" y2=\"156.25\" stroke-linecap=\"round\" style=\"stroke:black;stroke-width:2\" /><line x1=\"443.75\" y1=\"156.25\" x2=\"443.75\" y2=\"153.125\" stroke-linecap=\"round\" style=\"stroke:black;stroke-width:2\" /><line x1=\"443.75\" y1=\"153.125\" x2=\"443.75\" y2=\"159.375\" stroke-linecap=\"round\" style=\"stroke:black;stroke-width:2\" /><line x1=\"443.75\" y1=\"159.375\" x2=\"443.75\" y2=\"156.25\" stroke-linecap=\"round\" style=\"stroke:black;stroke-width:2\" /><line x1=\"443.75\" y1=\"156.25\" x2=\"437.5\" y2=\"156.25\" stroke-linecap=\"round\" style=\"stroke:black;stroke-width:2\" /><line x1=\"437.5\" y1=\"156.25\" x2=\"437.5\" y2=\"168.75\" stroke-linecap=\"round\" style=\"stroke:black;stroke-width:2\" /><line x1=\"437.5\" y1=\"168.75\" x2=\"443.75\" y2=\"168.75\" stroke-linecap=\"round\" style=\"stroke:black;stroke-width:2\" /><line x1=\"443.75\" y1=\"168.75\" x2=\"443.75\" y2=\"165.625\" stroke-linecap=\"round\" style=\"stroke:black;stroke-width:2\" /><line x1=\"443.75\" y1=\"165.625\" x2=\"443.75\" y2=\"171.875\" stroke-linecap=\"round\" style=\"stroke:black;stroke-width:2\" /><line x1=\"443.75\" y1=\"171.875\" x2=\"443.75\" y2=\"168.75\" stroke-linecap=\"round\" style=\"stroke:black;stroke-width:2\" /><line x1=\"443.75\" y1=\"168.75\" x2=\"437.5\" y2=\"168.75\" stroke-linecap=\"round\" style=\"stroke:black;stroke-width:2\" /><line x1=\"437.5\" y1=\"168.75\" x2=\"437.5\" y2=\"162.5\" stroke-linecap=\"round\" style=\"stroke:black;stroke-width:2\" /><line x1=\"437.5\" y1=\"162.5\" x2=\"425.0\" y2=\"162.5\" stroke-linecap=\"round\" style=\"stroke:black;stroke-width:2\" /><line x1=\"425.0\" y1=\"162.5\" x2=\"425.0\" y2=\"187.5\" stroke-linecap=\"round\" style=\"stroke:black;stroke-width:2\" /><line x1=\"425.0\" y1=\"187.5\" x2=\"437.5\" y2=\"187.5\" stroke-linecap=\"round\" style=\"stroke:black;stroke-width:2\" /><line x1=\"437.5\" y1=\"187.5\" x2=\"437.5\" y2=\"181.25\" stroke-linecap=\"round\" style=\"stroke:black;stroke-width:2\" /><line x1=\"437.5\" y1=\"181.25\" x2=\"443.75\" y2=\"181.25\" stroke-linecap=\"round\" style=\"stroke:black;stroke-width:2\" /><line x1=\"443.75\" y1=\"181.25\" x2=\"443.75\" y2=\"178.125\" stroke-linecap=\"round\" style=\"stroke:black;stroke-width:2\" /><line x1=\"443.75\" y1=\"178.125\" x2=\"443.75\" y2=\"184.375\" stroke-linecap=\"round\" style=\"stroke:black;stroke-width:2\" /><line x1=\"443.75\" y1=\"184.375\" x2=\"443.75\" y2=\"181.25\" stroke-linecap=\"round\" style=\"stroke:black;stroke-width:2\" /><line x1=\"443.75\" y1=\"181.25\" x2=\"437.5\" y2=\"181.25\" stroke-linecap=\"round\" style=\"stroke:black;stroke-width:2\" /><line x1=\"437.5\" y1=\"181.25\" x2=\"437.5\" y2=\"193.75\" stroke-linecap=\"round\" style=\"stroke:black;stroke-width:2\" /><line x1=\"437.5\" y1=\"193.75\" x2=\"443.75\" y2=\"193.75\" stroke-linecap=\"round\" style=\"stroke:black;stroke-width:2\" /><line x1=\"443.75\" y1=\"193.75\" x2=\"443.75\" y2=\"190.625\" stroke-linecap=\"round\" style=\"stroke:black;stroke-width:2\" /><line x1=\"443.75\" y1=\"190.625\" x2=\"443.75\" y2=\"196.875\" stroke-linecap=\"round\" style=\"stroke:black;stroke-width:2\" /><line x1=\"443.75\" y1=\"196.875\" x2=\"443.75\" y2=\"193.75\" stroke-linecap=\"round\" style=\"stroke:black;stroke-width:2\" /><line x1=\"443.75\" y1=\"193.75\" x2=\"437.5\" y2=\"193.75\" stroke-linecap=\"round\" style=\"stroke:black;stroke-width:2\" /><line x1=\"437.5\" y1=\"193.75\" x2=\"437.5\" y2=\"187.5\" stroke-linecap=\"round\" style=\"stroke:black;stroke-width:2\" /><line x1=\"437.5\" y1=\"187.5\" x2=\"425.0\" y2=\"187.5\" stroke-linecap=\"round\" style=\"stroke:black;stroke-width:2\" /><line x1=\"425.0\" y1=\"187.5\" x2=\"425.0\" y2=\"175.0\" stroke-linecap=\"round\" style=\"stroke:black;stroke-width:2\" /><line x1=\"425.0\" y1=\"175.0\" x2=\"400.0\" y2=\"175.0\" stroke-linecap=\"round\" style=\"stroke:black;stroke-width:2\" /><line x1=\"400.0\" y1=\"175.0\" x2=\"400.0\" y2=\"225.0\" stroke-linecap=\"round\" style=\"stroke:black;stroke-width:2\" /><line x1=\"400.0\" y1=\"225.0\" x2=\"425.0\" y2=\"225.0\" stroke-linecap=\"round\" style=\"stroke:black;stroke-width:2\" /><line x1=\"425.0\" y1=\"225.0\" x2=\"425.0\" y2=\"212.5\" stroke-linecap=\"round\" style=\"stroke:black;stroke-width:2\" /><line x1=\"425.0\" y1=\"212.5\" x2=\"437.5\" y2=\"212.5\" stroke-linecap=\"round\" style=\"stroke:black;stroke-width:2\" /><line x1=\"437.5\" y1=\"212.5\" x2=\"437.5\" y2=\"206.25\" stroke-linecap=\"round\" style=\"stroke:black;stroke-width:2\" /><line x1=\"437.5\" y1=\"206.25\" x2=\"443.75\" y2=\"206.25\" stroke-linecap=\"round\" style=\"stroke:black;stroke-width:2\" /><line x1=\"443.75\" y1=\"206.25\" x2=\"443.75\" y2=\"203.125\" stroke-linecap=\"round\" style=\"stroke:black;stroke-width:2\" /><line x1=\"443.75\" y1=\"203.125\" x2=\"443.75\" y2=\"209.375\" stroke-linecap=\"round\" style=\"stroke:black;stroke-width:2\" /><line x1=\"443.75\" y1=\"209.375\" x2=\"443.75\" y2=\"206.25\" stroke-linecap=\"round\" style=\"stroke:black;stroke-width:2\" /><line x1=\"443.75\" y1=\"206.25\" x2=\"437.5\" y2=\"206.25\" stroke-linecap=\"round\" style=\"stroke:black;stroke-width:2\" /><line x1=\"437.5\" y1=\"206.25\" x2=\"437.5\" y2=\"218.75\" stroke-linecap=\"round\" style=\"stroke:black;stroke-width:2\" /><line x1=\"437.5\" y1=\"218.75\" x2=\"443.75\" y2=\"218.75\" stroke-linecap=\"round\" style=\"stroke:black;stroke-width:2\" /><line x1=\"443.75\" y1=\"218.75\" x2=\"443.75\" y2=\"215.625\" stroke-linecap=\"round\" style=\"stroke:black;stroke-width:2\" /><line x1=\"443.75\" y1=\"215.625\" x2=\"443.75\" y2=\"221.875\" stroke-linecap=\"round\" style=\"stroke:black;stroke-width:2\" /><line x1=\"443.75\" y1=\"221.875\" x2=\"443.75\" y2=\"218.75\" stroke-linecap=\"round\" style=\"stroke:black;stroke-width:2\" /><line x1=\"443.75\" y1=\"218.75\" x2=\"437.5\" y2=\"218.75\" stroke-linecap=\"round\" style=\"stroke:black;stroke-width:2\" /><line x1=\"437.5\" y1=\"218.75\" x2=\"437.5\" y2=\"212.5\" stroke-linecap=\"round\" style=\"stroke:black;stroke-width:2\" /><line x1=\"437.5\" y1=\"212.5\" x2=\"425.0\" y2=\"212.5\" stroke-linecap=\"round\" style=\"stroke:black;stroke-width:2\" /><line x1=\"425.0\" y1=\"212.5\" x2=\"425.0\" y2=\"237.5\" stroke-linecap=\"round\" style=\"stroke:black;stroke-width:2\" /><line x1=\"425.0\" y1=\"237.5\" x2=\"437.5\" y2=\"237.5\" stroke-linecap=\"round\" style=\"stroke:black;stroke-width:2\" /><line x1=\"437.5\" y1=\"237.5\" x2=\"437.5\" y2=\"231.25\" stroke-linecap=\"round\" style=\"stroke:black;stroke-width:2\" /><line x1=\"437.5\" y1=\"231.25\" x2=\"443.75\" y2=\"231.25\" stroke-linecap=\"round\" style=\"stroke:black;stroke-width:2\" /><line x1=\"443.75\" y1=\"231.25\" x2=\"443.75\" y2=\"228.125\" stroke-linecap=\"round\" style=\"stroke:black;stroke-width:2\" /><line x1=\"443.75\" y1=\"228.125\" x2=\"443.75\" y2=\"234.375\" stroke-linecap=\"round\" style=\"stroke:black;stroke-width:2\" /><line x1=\"443.75\" y1=\"234.375\" x2=\"443.75\" y2=\"231.25\" stroke-linecap=\"round\" style=\"stroke:black;stroke-width:2\" /><line x1=\"443.75\" y1=\"231.25\" x2=\"437.5\" y2=\"231.25\" stroke-linecap=\"round\" style=\"stroke:black;stroke-width:2\" /><line x1=\"437.5\" y1=\"231.25\" x2=\"437.5\" y2=\"243.75\" stroke-linecap=\"round\" style=\"stroke:black;stroke-width:2\" /><line x1=\"437.5\" y1=\"243.75\" x2=\"443.75\" y2=\"243.75\" stroke-linecap=\"round\" style=\"stroke:black;stroke-width:2\" /><line x1=\"443.75\" y1=\"243.75\" x2=\"443.75\" y2=\"240.625\" stroke-linecap=\"round\" style=\"stroke:black;stroke-width:2\" /><line x1=\"443.75\" y1=\"240.625\" x2=\"443.75\" y2=\"246.875\" stroke-linecap=\"round\" style=\"stroke:black;stroke-width:2\" /><line x1=\"443.75\" y1=\"246.875\" x2=\"443.75\" y2=\"243.75\" stroke-linecap=\"round\" style=\"stroke:black;stroke-width:2\" /><line x1=\"443.75\" y1=\"243.75\" x2=\"437.5\" y2=\"243.75\" stroke-linecap=\"round\" style=\"stroke:black;stroke-width:2\" /><line x1=\"437.5\" y1=\"243.75\" x2=\"437.5\" y2=\"237.5\" stroke-linecap=\"round\" style=\"stroke:black;stroke-width:2\" /><line x1=\"437.5\" y1=\"237.5\" x2=\"425.0\" y2=\"237.5\" stroke-linecap=\"round\" style=\"stroke:black;stroke-width:2\" /><line x1=\"425.0\" y1=\"237.5\" x2=\"425.0\" y2=\"225.0\" stroke-linecap=\"round\" style=\"stroke:black;stroke-width:2\" /><line x1=\"425.0\" y1=\"225.0\" x2=\"400.0\" y2=\"225.0\" stroke-linecap=\"round\" style=\"stroke:black;stroke-width:2\" /><line x1=\"400.0\" y1=\"225.0\" x2=\"400.0\" y2=\"200.0\" stroke-linecap=\"round\" style=\"stroke:black;stroke-width:2\" /><line x1=\"400.0\" y1=\"200.0\" x2=\"350.0\" y2=\"200.0\" stroke-linecap=\"round\" style=\"stroke:black;stroke-width:2\" /><line x1=\"350.0\" y1=\"200.0\" x2=\"350.0\" y2=\"300.0\" stroke-linecap=\"round\" style=\"stroke:black;stroke-width:2\" /><line x1=\"350.0\" y1=\"300.0\" x2=\"400.0\" y2=\"300.0\" stroke-linecap=\"round\" style=\"stroke:black;stroke-width:2\" /><line x1=\"400.0\" y1=\"300.0\" x2=\"400.0\" y2=\"275.0\" stroke-linecap=\"round\" style=\"stroke:black;stroke-width:2\" /><line x1=\"400.0\" y1=\"275.0\" x2=\"425.0\" y2=\"275.0\" stroke-linecap=\"round\" style=\"stroke:black;stroke-width:2\" /><line x1=\"425.0\" y1=\"275.0\" x2=\"425.0\" y2=\"262.5\" stroke-linecap=\"round\" style=\"stroke:black;stroke-width:2\" /><line x1=\"425.0\" y1=\"262.5\" x2=\"437.5\" y2=\"262.5\" stroke-linecap=\"round\" style=\"stroke:black;stroke-width:2\" /><line x1=\"437.5\" y1=\"262.5\" x2=\"437.5\" y2=\"256.25\" stroke-linecap=\"round\" style=\"stroke:black;stroke-width:2\" /><line x1=\"437.5\" y1=\"256.25\" x2=\"443.75\" y2=\"256.25\" stroke-linecap=\"round\" style=\"stroke:black;stroke-width:2\" /><line x1=\"443.75\" y1=\"256.25\" x2=\"443.75\" y2=\"253.125\" stroke-linecap=\"round\" style=\"stroke:black;stroke-width:2\" /><line x1=\"443.75\" y1=\"253.125\" x2=\"443.75\" y2=\"259.375\" stroke-linecap=\"round\" style=\"stroke:black;stroke-width:2\" /><line x1=\"443.75\" y1=\"259.375\" x2=\"443.75\" y2=\"256.25\" stroke-linecap=\"round\" style=\"stroke:black;stroke-width:2\" /><line x1=\"443.75\" y1=\"256.25\" x2=\"437.5\" y2=\"256.25\" stroke-linecap=\"round\" style=\"stroke:black;stroke-width:2\" /><line x1=\"437.5\" y1=\"256.25\" x2=\"437.5\" y2=\"268.75\" stroke-linecap=\"round\" style=\"stroke:black;stroke-width:2\" /><line x1=\"437.5\" y1=\"268.75\" x2=\"443.75\" y2=\"268.75\" stroke-linecap=\"round\" style=\"stroke:black;stroke-width:2\" /><line x1=\"443.75\" y1=\"268.75\" x2=\"443.75\" y2=\"265.625\" stroke-linecap=\"round\" style=\"stroke:black;stroke-width:2\" /><line x1=\"443.75\" y1=\"265.625\" x2=\"443.75\" y2=\"271.875\" stroke-linecap=\"round\" style=\"stroke:black;stroke-width:2\" /><line x1=\"443.75\" y1=\"271.875\" x2=\"443.75\" y2=\"268.75\" stroke-linecap=\"round\" style=\"stroke:black;stroke-width:2\" /><line x1=\"443.75\" y1=\"268.75\" x2=\"437.5\" y2=\"268.75\" stroke-linecap=\"round\" style=\"stroke:black;stroke-width:2\" /><line x1=\"437.5\" y1=\"268.75\" x2=\"437.5\" y2=\"262.5\" stroke-linecap=\"round\" style=\"stroke:black;stroke-width:2\" /><line x1=\"437.5\" y1=\"262.5\" x2=\"425.0\" y2=\"262.5\" stroke-linecap=\"round\" style=\"stroke:black;stroke-width:2\" /><line x1=\"425.0\" y1=\"262.5\" x2=\"425.0\" y2=\"287.5\" stroke-linecap=\"round\" style=\"stroke:black;stroke-width:2\" /><line x1=\"425.0\" y1=\"287.5\" x2=\"437.5\" y2=\"287.5\" stroke-linecap=\"round\" style=\"stroke:black;stroke-width:2\" /><line x1=\"437.5\" y1=\"287.5\" x2=\"437.5\" y2=\"281.25\" stroke-linecap=\"round\" style=\"stroke:black;stroke-width:2\" /><line x1=\"437.5\" y1=\"281.25\" x2=\"443.75\" y2=\"281.25\" stroke-linecap=\"round\" style=\"stroke:black;stroke-width:2\" /><line x1=\"443.75\" y1=\"281.25\" x2=\"443.75\" y2=\"278.125\" stroke-linecap=\"round\" style=\"stroke:black;stroke-width:2\" /><line x1=\"443.75\" y1=\"278.125\" x2=\"443.75\" y2=\"284.375\" stroke-linecap=\"round\" style=\"stroke:black;stroke-width:2\" /><line x1=\"443.75\" y1=\"284.375\" x2=\"443.75\" y2=\"281.25\" stroke-linecap=\"round\" style=\"stroke:black;stroke-width:2\" /><line x1=\"443.75\" y1=\"281.25\" x2=\"437.5\" y2=\"281.25\" stroke-linecap=\"round\" style=\"stroke:black;stroke-width:2\" /><line x1=\"437.5\" y1=\"281.25\" x2=\"437.5\" y2=\"293.75\" stroke-linecap=\"round\" style=\"stroke:black;stroke-width:2\" /><line x1=\"437.5\" y1=\"293.75\" x2=\"443.75\" y2=\"293.75\" stroke-linecap=\"round\" style=\"stroke:black;stroke-width:2\" /><line x1=\"443.75\" y1=\"293.75\" x2=\"443.75\" y2=\"290.625\" stroke-linecap=\"round\" style=\"stroke:black;stroke-width:2\" /><line x1=\"443.75\" y1=\"290.625\" x2=\"443.75\" y2=\"296.875\" stroke-linecap=\"round\" style=\"stroke:black;stroke-width:2\" /><line x1=\"443.75\" y1=\"296.875\" x2=\"443.75\" y2=\"293.75\" stroke-linecap=\"round\" style=\"stroke:black;stroke-width:2\" /><line x1=\"443.75\" y1=\"293.75\" x2=\"437.5\" y2=\"293.75\" stroke-linecap=\"round\" style=\"stroke:black;stroke-width:2\" /><line x1=\"437.5\" y1=\"293.75\" x2=\"437.5\" y2=\"287.5\" stroke-linecap=\"round\" style=\"stroke:black;stroke-width:2\" /><line x1=\"437.5\" y1=\"287.5\" x2=\"425.0\" y2=\"287.5\" stroke-linecap=\"round\" style=\"stroke:black;stroke-width:2\" /><line x1=\"425.0\" y1=\"287.5\" x2=\"425.0\" y2=\"275.0\" stroke-linecap=\"round\" style=\"stroke:black;stroke-width:2\" /><line x1=\"425.0\" y1=\"275.0\" x2=\"400.0\" y2=\"275.0\" stroke-linecap=\"round\" style=\"stroke:black;stroke-width:2\" /><line x1=\"400.0\" y1=\"275.0\" x2=\"400.0\" y2=\"325.0\" stroke-linecap=\"round\" style=\"stroke:black;stroke-width:2\" /><line x1=\"400.0\" y1=\"325.0\" x2=\"425.0\" y2=\"325.0\" stroke-linecap=\"round\" style=\"stroke:black;stroke-width:2\" /><line x1=\"425.0\" y1=\"325.0\" x2=\"425.0\" y2=\"312.5\" stroke-linecap=\"round\" style=\"stroke:black;stroke-width:2\" /><line x1=\"425.0\" y1=\"312.5\" x2=\"437.5\" y2=\"312.5\" stroke-linecap=\"round\" style=\"stroke:black;stroke-width:2\" /><line x1=\"437.5\" y1=\"312.5\" x2=\"437.5\" y2=\"306.25\" stroke-linecap=\"round\" style=\"stroke:black;stroke-width:2\" /><line x1=\"437.5\" y1=\"306.25\" x2=\"443.75\" y2=\"306.25\" stroke-linecap=\"round\" style=\"stroke:black;stroke-width:2\" /><line x1=\"443.75\" y1=\"306.25\" x2=\"443.75\" y2=\"303.125\" stroke-linecap=\"round\" style=\"stroke:black;stroke-width:2\" /><line x1=\"443.75\" y1=\"303.125\" x2=\"443.75\" y2=\"309.375\" stroke-linecap=\"round\" style=\"stroke:black;stroke-width:2\" /><line x1=\"443.75\" y1=\"309.375\" x2=\"443.75\" y2=\"306.25\" stroke-linecap=\"round\" style=\"stroke:black;stroke-width:2\" /><line x1=\"443.75\" y1=\"306.25\" x2=\"437.5\" y2=\"306.25\" stroke-linecap=\"round\" style=\"stroke:black;stroke-width:2\" /><line x1=\"437.5\" y1=\"306.25\" x2=\"437.5\" y2=\"318.75\" stroke-linecap=\"round\" style=\"stroke:black;stroke-width:2\" /><line x1=\"437.5\" y1=\"318.75\" x2=\"443.75\" y2=\"318.75\" stroke-linecap=\"round\" style=\"stroke:black;stroke-width:2\" /><line x1=\"443.75\" y1=\"318.75\" x2=\"443.75\" y2=\"315.625\" stroke-linecap=\"round\" style=\"stroke:black;stroke-width:2\" /><line x1=\"443.75\" y1=\"315.625\" x2=\"443.75\" y2=\"321.875\" stroke-linecap=\"round\" style=\"stroke:black;stroke-width:2\" /><line x1=\"443.75\" y1=\"321.875\" x2=\"443.75\" y2=\"318.75\" stroke-linecap=\"round\" style=\"stroke:black;stroke-width:2\" /><line x1=\"443.75\" y1=\"318.75\" x2=\"437.5\" y2=\"318.75\" stroke-linecap=\"round\" style=\"stroke:black;stroke-width:2\" /><line x1=\"437.5\" y1=\"318.75\" x2=\"437.5\" y2=\"312.5\" stroke-linecap=\"round\" style=\"stroke:black;stroke-width:2\" /><line x1=\"437.5\" y1=\"312.5\" x2=\"425.0\" y2=\"312.5\" stroke-linecap=\"round\" style=\"stroke:black;stroke-width:2\" /><line x1=\"425.0\" y1=\"312.5\" x2=\"425.0\" y2=\"337.5\" stroke-linecap=\"round\" style=\"stroke:black;stroke-width:2\" /><line x1=\"425.0\" y1=\"337.5\" x2=\"437.5\" y2=\"337.5\" stroke-linecap=\"round\" style=\"stroke:black;stroke-width:2\" /><line x1=\"437.5\" y1=\"337.5\" x2=\"437.5\" y2=\"331.25\" stroke-linecap=\"round\" style=\"stroke:black;stroke-width:2\" /><line x1=\"437.5\" y1=\"331.25\" x2=\"443.75\" y2=\"331.25\" stroke-linecap=\"round\" style=\"stroke:black;stroke-width:2\" /><line x1=\"443.75\" y1=\"331.25\" x2=\"443.75\" y2=\"328.125\" stroke-linecap=\"round\" style=\"stroke:black;stroke-width:2\" /><line x1=\"443.75\" y1=\"328.125\" x2=\"443.75\" y2=\"334.375\" stroke-linecap=\"round\" style=\"stroke:black;stroke-width:2\" /><line x1=\"443.75\" y1=\"334.375\" x2=\"443.75\" y2=\"331.25\" stroke-linecap=\"round\" style=\"stroke:black;stroke-width:2\" /><line x1=\"443.75\" y1=\"331.25\" x2=\"437.5\" y2=\"331.25\" stroke-linecap=\"round\" style=\"stroke:black;stroke-width:2\" /><line x1=\"437.5\" y1=\"331.25\" x2=\"437.5\" y2=\"343.75\" stroke-linecap=\"round\" style=\"stroke:black;stroke-width:2\" /><line x1=\"437.5\" y1=\"343.75\" x2=\"443.75\" y2=\"343.75\" stroke-linecap=\"round\" style=\"stroke:black;stroke-width:2\" /><line x1=\"443.75\" y1=\"343.75\" x2=\"443.75\" y2=\"340.625\" stroke-linecap=\"round\" style=\"stroke:black;stroke-width:2\" /><line x1=\"443.75\" y1=\"340.625\" x2=\"443.75\" y2=\"346.875\" stroke-linecap=\"round\" style=\"stroke:black;stroke-width:2\" /><line x1=\"443.75\" y1=\"346.875\" x2=\"443.75\" y2=\"343.75\" stroke-linecap=\"round\" style=\"stroke:black;stroke-width:2\" /><line x1=\"443.75\" y1=\"343.75\" x2=\"437.5\" y2=\"343.75\" stroke-linecap=\"round\" style=\"stroke:black;stroke-width:2\" /><line x1=\"437.5\" y1=\"343.75\" x2=\"437.5\" y2=\"337.5\" stroke-linecap=\"round\" style=\"stroke:black;stroke-width:2\" /><line x1=\"437.5\" y1=\"337.5\" x2=\"425.0\" y2=\"337.5\" stroke-linecap=\"round\" style=\"stroke:black;stroke-width:2\" /><line x1=\"425.0\" y1=\"337.5\" x2=\"425.0\" y2=\"325.0\" stroke-linecap=\"round\" style=\"stroke:black;stroke-width:2\" /><line x1=\"425.0\" y1=\"325.0\" x2=\"400.0\" y2=\"325.0\" stroke-linecap=\"round\" style=\"stroke:black;stroke-width:2\" /><line x1=\"400.0\" y1=\"325.0\" x2=\"400.0\" y2=\"300.0\" stroke-linecap=\"round\" style=\"stroke:black;stroke-width:2\" /><line x1=\"400.0\" y1=\"300.0\" x2=\"350.0\" y2=\"300.0\" stroke-linecap=\"round\" style=\"stroke:black;stroke-width:2\" /><line x1=\"350.0\" y1=\"300.0\" x2=\"350.0\" y2=\"250.0\" stroke-linecap=\"round\" style=\"stroke:black;stroke-width:2\" /><line x1=\"350.0\" y1=\"250.0\" x2=\"340.0\" y2=\"250.0\" stroke-linecap=\"round\" style=\"stroke:black;stroke-width:2\" /><line x1=\"340.0\" y1=\"250.0\" x2=\"330.0\" y2=\"250.0\" stroke-linecap=\"round\" style=\"stroke:black;stroke-width:2\" /><line x1=\"330.0\" y1=\"250.0\" x2=\"320.0\" y2=\"250.0\" stroke-linecap=\"round\" style=\"stroke:black;stroke-width:2\" /><line x1=\"320.0\" y1=\"250.0\" x2=\"310.0\" y2=\"250.0\" stroke-linecap=\"round\" style=\"stroke:black;stroke-width:2\" /><line x1=\"310.0\" y1=\"250.0\" x2=\"300.0\" y2=\"250.0\" stroke-linecap=\"round\" style=\"stroke:black;stroke-width:2\" /><line x1=\"300.0\" y1=\"250.0\" x2=\"290.0\" y2=\"250.0\" stroke-linecap=\"round\" style=\"stroke:black;stroke-width:2\" /><line x1=\"290.0\" y1=\"250.0\" x2=\"280.0\" y2=\"250.0\" stroke-linecap=\"round\" style=\"stroke:black;stroke-width:2\" /><line x1=\"280.0\" y1=\"250.0\" x2=\"270.0\" y2=\"250.0\" stroke-linecap=\"round\" style=\"stroke:black;stroke-width:2\" /><line x1=\"270.0\" y1=\"250.0\" x2=\"260.0\" y2=\"250.0\" stroke-linecap=\"round\" style=\"stroke:black;stroke-width:2\" /><line x1=\"260.0\" y1=\"250.0\" x2=\"250.0\" y2=\"250.0\" stroke-linecap=\"round\" style=\"stroke:black;stroke-width:2\" />\n",
       "        \n",
       "        \n",
       "        <g id=\"turtle2\" visibility=\"visible\" transform=\"rotate(-90,250.0,250.0) translate(250.0, 250.0)\">\n",
       "<polygon points=\"0,16 2,14 1,10 4,7 7,9 9,8 6,5 7,1 5,-3 8,-6 6,-8 4,-5 0,-7 -4,-5 -6,-8 -8,-6 -5,-3 -7,1 -6,5 -9,8 -7,9 -4,7 -1,10 -2,14\" transform=\"skewX(0) scale(1,1)\" style=\"stroke:black;stroke-width:1;fill:black\" />\n",
       "</g>\n",
       "      </svg>\n",
       "    "
      ],
      "text/plain": [
       "<IPython.core.display.HTML object>"
      ]
     },
     "metadata": {},
     "output_type": "display_data"
    }
   ],
   "source": [
    "import ColabTurtlePlus.Turtle as t\n",
    "\n",
    "t.clearscreen()\n",
    "t.setup(500, 500)\n",
    "t.showborder()\n",
    "t.bgcolor(\"AliceBlue\")\n",
    "t.shape(\"turtle2\")\n",
    "t.speed(10)\n",
    "t.width(2)\n",
    "\n",
    "def chai(size):\n",
    "    \"\"\"Our chai function!\"\"\"\n",
    "    if size < 5:\n",
    "        return\n",
    "    else:\n",
    "        t.forward(size)\n",
    "        t.left(90)\n",
    "        t.forward(size / 2)\n",
    "        t.right(90)\n",
    "\n",
    "        # First recursive branch\n",
    "        chai(size / 2)\n",
    "\n",
    "        t.right(90)\n",
    "        t.forward(size)\n",
    "        t.left(90)\n",
    "\n",
    "        # Second recursive branch\n",
    "        chai(size / 2)\n",
    "\n",
    "        t.left(90)\n",
    "        t.forward(size / 2)\n",
    "        t.right(90)\n",
    "        t.backward(size)\n",
    "        return\n",
    "\n",
    "# This runs the chai function:\n",
    "chai(100)\n",
    "\n"
   ]
  },
  {
   "cell_type": "code",
   "execution_count": 22,
   "metadata": {},
   "outputs": [
    {
     "data": {
      "text/html": [
       "\n",
       "      <svg width=\"500\" height=\"500\">  \n",
       "        <rect width=\"100%\" height=\"100%\" style=\"fill:aliceblue;stroke:gray;stroke-width:1\"/>\n",
       "        \n",
       "        \n",
       "        <line x1=\"250.0\" y1=\"250.0\" x2=\"350.0\" y2=\"250.0\" stroke-linecap=\"round\" style=\"stroke:black;stroke-width:2\" /><line x1=\"350.0\" y1=\"250.0\" x2=\"393.301\" y2=\"225.0\" stroke-linecap=\"round\" style=\"stroke:black;stroke-width:2\" /><line x1=\"393.301\" y1=\"225.0\" x2=\"405.801\" y2=\"203.349\" stroke-linecap=\"round\" style=\"stroke:black;stroke-width:2\" /><line x1=\"405.801\" y1=\"203.349\" x2=\"405.801\" y2=\"190.849\" stroke-linecap=\"round\" style=\"stroke:black;stroke-width:2\" /><line x1=\"405.801\" y1=\"190.849\" x2=\"405.801\" y2=\"203.349\" stroke-linecap=\"round\" style=\"stroke:black;stroke-width:2\" /><line x1=\"405.801\" y1=\"203.349\" x2=\"405.801\" y2=\"190.849\" stroke-linecap=\"round\" style=\"stroke:black;stroke-width:2\" /><line x1=\"405.801\" y1=\"190.849\" x2=\"405.801\" y2=\"203.349\" stroke-linecap=\"round\" style=\"stroke:black;stroke-width:2\" /><line x1=\"405.801\" y1=\"203.349\" x2=\"405.801\" y2=\"190.849\" stroke-linecap=\"round\" style=\"stroke:black;stroke-width:2\" /><line x1=\"405.801\" y1=\"190.849\" x2=\"405.801\" y2=\"203.349\" stroke-linecap=\"round\" style=\"stroke:black;stroke-width:2\" /><line x1=\"405.801\" y1=\"203.349\" x2=\"393.301\" y2=\"225.0\" stroke-linecap=\"round\" style=\"stroke:black;stroke-width:2\" /><line x1=\"393.301\" y1=\"225.0\" x2=\"405.801\" y2=\"203.349\" stroke-linecap=\"round\" style=\"stroke:black;stroke-width:2\" /><line x1=\"405.801\" y1=\"203.349\" x2=\"405.801\" y2=\"190.849\" stroke-linecap=\"round\" style=\"stroke:black;stroke-width:2\" /><line x1=\"405.801\" y1=\"190.849\" x2=\"405.801\" y2=\"203.349\" stroke-linecap=\"round\" style=\"stroke:black;stroke-width:2\" /><line x1=\"405.801\" y1=\"203.349\" x2=\"405.801\" y2=\"190.849\" stroke-linecap=\"round\" style=\"stroke:black;stroke-width:2\" /><line x1=\"405.801\" y1=\"190.849\" x2=\"405.801\" y2=\"203.349\" stroke-linecap=\"round\" style=\"stroke:black;stroke-width:2\" /><line x1=\"405.801\" y1=\"203.349\" x2=\"405.801\" y2=\"190.849\" stroke-linecap=\"round\" style=\"stroke:black;stroke-width:2\" /><line x1=\"405.801\" y1=\"190.849\" x2=\"405.801\" y2=\"203.349\" stroke-linecap=\"round\" style=\"stroke:black;stroke-width:2\" /><line x1=\"405.801\" y1=\"203.349\" x2=\"393.301\" y2=\"225.0\" stroke-linecap=\"round\" style=\"stroke:black;stroke-width:2\" /><line x1=\"393.301\" y1=\"225.0\" x2=\"405.801\" y2=\"203.349\" stroke-linecap=\"round\" style=\"stroke:black;stroke-width:2\" /><line x1=\"405.801\" y1=\"203.349\" x2=\"405.801\" y2=\"190.849\" stroke-linecap=\"round\" style=\"stroke:black;stroke-width:2\" /><line x1=\"405.801\" y1=\"190.849\" x2=\"405.801\" y2=\"203.349\" stroke-linecap=\"round\" style=\"stroke:black;stroke-width:2\" /><line x1=\"405.801\" y1=\"203.349\" x2=\"405.801\" y2=\"190.849\" stroke-linecap=\"round\" style=\"stroke:black;stroke-width:2\" /><line x1=\"405.801\" y1=\"190.849\" x2=\"405.801\" y2=\"203.349\" stroke-linecap=\"round\" style=\"stroke:black;stroke-width:2\" /><line x1=\"405.801\" y1=\"203.349\" x2=\"405.801\" y2=\"190.849\" stroke-linecap=\"round\" style=\"stroke:black;stroke-width:2\" /><line x1=\"405.801\" y1=\"190.849\" x2=\"405.801\" y2=\"203.349\" stroke-linecap=\"round\" style=\"stroke:black;stroke-width:2\" /><line x1=\"405.801\" y1=\"203.349\" x2=\"393.301\" y2=\"225.0\" stroke-linecap=\"round\" style=\"stroke:black;stroke-width:2\" /><line x1=\"393.301\" y1=\"225.0\" x2=\"350.0\" y2=\"250.0\" stroke-linecap=\"round\" style=\"stroke:black;stroke-width:2\" /><line x1=\"350.0\" y1=\"250.0\" x2=\"393.301\" y2=\"225.0\" stroke-linecap=\"round\" style=\"stroke:black;stroke-width:2\" /><line x1=\"393.301\" y1=\"225.0\" x2=\"405.801\" y2=\"203.349\" stroke-linecap=\"round\" style=\"stroke:black;stroke-width:2\" /><line x1=\"405.801\" y1=\"203.349\" x2=\"405.801\" y2=\"190.849\" stroke-linecap=\"round\" style=\"stroke:black;stroke-width:2\" /><line x1=\"405.801\" y1=\"190.849\" x2=\"405.801\" y2=\"203.349\" stroke-linecap=\"round\" style=\"stroke:black;stroke-width:2\" /><line x1=\"405.801\" y1=\"203.349\" x2=\"405.801\" y2=\"190.849\" stroke-linecap=\"round\" style=\"stroke:black;stroke-width:2\" /><line x1=\"405.801\" y1=\"190.849\" x2=\"405.801\" y2=\"203.349\" stroke-linecap=\"round\" style=\"stroke:black;stroke-width:2\" /><line x1=\"405.801\" y1=\"203.349\" x2=\"405.801\" y2=\"190.849\" stroke-linecap=\"round\" style=\"stroke:black;stroke-width:2\" /><line x1=\"405.801\" y1=\"190.849\" x2=\"405.801\" y2=\"203.349\" stroke-linecap=\"round\" style=\"stroke:black;stroke-width:2\" /><line x1=\"405.801\" y1=\"203.349\" x2=\"393.301\" y2=\"225.0\" stroke-linecap=\"round\" style=\"stroke:black;stroke-width:2\" /><line x1=\"393.301\" y1=\"225.0\" x2=\"405.801\" y2=\"203.349\" stroke-linecap=\"round\" style=\"stroke:black;stroke-width:2\" /><line x1=\"405.801\" y1=\"203.349\" x2=\"405.801\" y2=\"190.849\" stroke-linecap=\"round\" style=\"stroke:black;stroke-width:2\" /><line x1=\"405.801\" y1=\"190.849\" x2=\"405.801\" y2=\"203.349\" stroke-linecap=\"round\" style=\"stroke:black;stroke-width:2\" /><line x1=\"405.801\" y1=\"203.349\" x2=\"405.801\" y2=\"190.849\" stroke-linecap=\"round\" style=\"stroke:black;stroke-width:2\" /><line x1=\"405.801\" y1=\"190.849\" x2=\"405.801\" y2=\"203.349\" stroke-linecap=\"round\" style=\"stroke:black;stroke-width:2\" /><line x1=\"405.801\" y1=\"203.349\" x2=\"405.801\" y2=\"190.849\" stroke-linecap=\"round\" style=\"stroke:black;stroke-width:2\" /><line x1=\"405.801\" y1=\"190.849\" x2=\"405.801\" y2=\"203.349\" stroke-linecap=\"round\" style=\"stroke:black;stroke-width:2\" /><line x1=\"405.801\" y1=\"203.349\" x2=\"393.301\" y2=\"225.0\" stroke-linecap=\"round\" style=\"stroke:black;stroke-width:2\" /><line x1=\"393.301\" y1=\"225.0\" x2=\"405.801\" y2=\"203.349\" stroke-linecap=\"round\" style=\"stroke:black;stroke-width:2\" /><line x1=\"405.801\" y1=\"203.349\" x2=\"405.801\" y2=\"190.849\" stroke-linecap=\"round\" style=\"stroke:black;stroke-width:2\" /><line x1=\"405.801\" y1=\"190.849\" x2=\"405.801\" y2=\"203.349\" stroke-linecap=\"round\" style=\"stroke:black;stroke-width:2\" /><line x1=\"405.801\" y1=\"203.349\" x2=\"405.801\" y2=\"190.849\" stroke-linecap=\"round\" style=\"stroke:black;stroke-width:2\" /><line x1=\"405.801\" y1=\"190.849\" x2=\"405.801\" y2=\"203.349\" stroke-linecap=\"round\" style=\"stroke:black;stroke-width:2\" /><line x1=\"405.801\" y1=\"203.349\" x2=\"405.801\" y2=\"190.849\" stroke-linecap=\"round\" style=\"stroke:black;stroke-width:2\" /><line x1=\"405.801\" y1=\"190.849\" x2=\"405.801\" y2=\"203.349\" stroke-linecap=\"round\" style=\"stroke:black;stroke-width:2\" /><line x1=\"405.801\" y1=\"203.349\" x2=\"393.301\" y2=\"225.0\" stroke-linecap=\"round\" style=\"stroke:black;stroke-width:2\" /><line x1=\"393.301\" y1=\"225.0\" x2=\"350.0\" y2=\"250.0\" stroke-linecap=\"round\" style=\"stroke:black;stroke-width:2\" /><line x1=\"350.0\" y1=\"250.0\" x2=\"393.301\" y2=\"225.0\" stroke-linecap=\"round\" style=\"stroke:black;stroke-width:2\" /><line x1=\"393.301\" y1=\"225.0\" x2=\"405.801\" y2=\"203.349\" stroke-linecap=\"round\" style=\"stroke:black;stroke-width:2\" /><line x1=\"405.801\" y1=\"203.349\" x2=\"405.801\" y2=\"190.849\" stroke-linecap=\"round\" style=\"stroke:black;stroke-width:2\" /><line x1=\"405.801\" y1=\"190.849\" x2=\"405.801\" y2=\"203.349\" stroke-linecap=\"round\" style=\"stroke:black;stroke-width:2\" /><line x1=\"405.801\" y1=\"203.349\" x2=\"405.801\" y2=\"190.849\" stroke-linecap=\"round\" style=\"stroke:black;stroke-width:2\" /><line x1=\"405.801\" y1=\"190.849\" x2=\"405.801\" y2=\"203.349\" stroke-linecap=\"round\" style=\"stroke:black;stroke-width:2\" /><line x1=\"405.801\" y1=\"203.349\" x2=\"405.801\" y2=\"190.849\" stroke-linecap=\"round\" style=\"stroke:black;stroke-width:2\" /><line x1=\"405.801\" y1=\"190.849\" x2=\"405.801\" y2=\"203.349\" stroke-linecap=\"round\" style=\"stroke:black;stroke-width:2\" /><line x1=\"405.801\" y1=\"203.349\" x2=\"393.301\" y2=\"225.0\" stroke-linecap=\"round\" style=\"stroke:black;stroke-width:2\" /><line x1=\"393.301\" y1=\"225.0\" x2=\"405.801\" y2=\"203.349\" stroke-linecap=\"round\" style=\"stroke:black;stroke-width:2\" /><line x1=\"405.801\" y1=\"203.349\" x2=\"405.801\" y2=\"190.849\" stroke-linecap=\"round\" style=\"stroke:black;stroke-width:2\" /><line x1=\"405.801\" y1=\"190.849\" x2=\"405.801\" y2=\"203.349\" stroke-linecap=\"round\" style=\"stroke:black;stroke-width:2\" /><line x1=\"405.801\" y1=\"203.349\" x2=\"405.801\" y2=\"190.849\" stroke-linecap=\"round\" style=\"stroke:black;stroke-width:2\" /><line x1=\"405.801\" y1=\"190.849\" x2=\"405.801\" y2=\"203.349\" stroke-linecap=\"round\" style=\"stroke:black;stroke-width:2\" /><line x1=\"405.801\" y1=\"203.349\" x2=\"405.801\" y2=\"190.849\" stroke-linecap=\"round\" style=\"stroke:black;stroke-width:2\" /><line x1=\"405.801\" y1=\"190.849\" x2=\"405.801\" y2=\"203.349\" stroke-linecap=\"round\" style=\"stroke:black;stroke-width:2\" /><line x1=\"405.801\" y1=\"203.349\" x2=\"393.301\" y2=\"225.0\" stroke-linecap=\"round\" style=\"stroke:black;stroke-width:2\" /><line x1=\"393.301\" y1=\"225.0\" x2=\"405.801\" y2=\"203.349\" stroke-linecap=\"round\" style=\"stroke:black;stroke-width:2\" /><line x1=\"405.801\" y1=\"203.349\" x2=\"405.801\" y2=\"190.849\" stroke-linecap=\"round\" style=\"stroke:black;stroke-width:2\" /><line x1=\"405.801\" y1=\"190.849\" x2=\"405.801\" y2=\"203.349\" stroke-linecap=\"round\" style=\"stroke:black;stroke-width:2\" /><line x1=\"405.801\" y1=\"203.349\" x2=\"405.801\" y2=\"190.849\" stroke-linecap=\"round\" style=\"stroke:black;stroke-width:2\" /><line x1=\"405.801\" y1=\"190.849\" x2=\"405.801\" y2=\"203.349\" stroke-linecap=\"round\" style=\"stroke:black;stroke-width:2\" /><line x1=\"405.801\" y1=\"203.349\" x2=\"405.801\" y2=\"190.849\" stroke-linecap=\"round\" style=\"stroke:black;stroke-width:2\" /><line x1=\"405.801\" y1=\"190.849\" x2=\"405.801\" y2=\"203.349\" stroke-linecap=\"round\" style=\"stroke:black;stroke-width:2\" /><line x1=\"405.801\" y1=\"203.349\" x2=\"393.301\" y2=\"225.0\" stroke-linecap=\"round\" style=\"stroke:black;stroke-width:2\" /><line x1=\"393.301\" y1=\"225.0\" x2=\"350.0\" y2=\"250.0\" stroke-linecap=\"round\" style=\"stroke:black;stroke-width:2\" /><line x1=\"350.0\" y1=\"250.0\" x2=\"340.0\" y2=\"250.0\" stroke-linecap=\"round\" style=\"stroke:black;stroke-width:2\" /><line x1=\"340.0\" y1=\"250.0\" x2=\"330.0\" y2=\"250.0\" stroke-linecap=\"round\" style=\"stroke:black;stroke-width:2\" /><line x1=\"330.0\" y1=\"250.0\" x2=\"320.0\" y2=\"250.0\" stroke-linecap=\"round\" style=\"stroke:black;stroke-width:2\" /><line x1=\"320.0\" y1=\"250.0\" x2=\"310.0\" y2=\"250.0\" stroke-linecap=\"round\" style=\"stroke:black;stroke-width:2\" /><line x1=\"310.0\" y1=\"250.0\" x2=\"300.0\" y2=\"250.0\" stroke-linecap=\"round\" style=\"stroke:black;stroke-width:2\" /><line x1=\"300.0\" y1=\"250.0\" x2=\"290.0\" y2=\"250.0\" stroke-linecap=\"round\" style=\"stroke:black;stroke-width:2\" /><line x1=\"290.0\" y1=\"250.0\" x2=\"280.0\" y2=\"250.0\" stroke-linecap=\"round\" style=\"stroke:black;stroke-width:2\" /><line x1=\"280.0\" y1=\"250.0\" x2=\"270.0\" y2=\"250.0\" stroke-linecap=\"round\" style=\"stroke:black;stroke-width:2\" /><line x1=\"270.0\" y1=\"250.0\" x2=\"260.0\" y2=\"250.0\" stroke-linecap=\"round\" style=\"stroke:black;stroke-width:2\" /><line x1=\"260.0\" y1=\"250.0\" x2=\"250.0\" y2=\"250.0\" stroke-linecap=\"round\" style=\"stroke:black;stroke-width:2\" />\n",
       "        \n",
       "        \n",
       "        <g id=\"turtle2\" visibility=\"visible\" transform=\"rotate(-90,250.0,250.0) translate(250.0, 250.0)\">\n",
       "<polygon points=\"0,16 2,14 1,10 4,7 7,9 9,8 6,5 7,1 5,-3 8,-6 6,-8 4,-5 0,-7 -4,-5 -6,-8 -8,-6 -5,-3 -7,1 -6,5 -9,8 -7,9 -4,7 -1,10 -2,14\" transform=\"skewX(0) scale(1,1)\" style=\"stroke:black;stroke-width:1;fill:black\" />\n",
       "</g>\n",
       "      </svg>\n",
       "    "
      ],
      "text/plain": [
       "<IPython.core.display.HTML object>"
      ]
     },
     "metadata": {},
     "output_type": "display_data"
    }
   ],
   "source": [
    "import ColabTurtlePlus.Turtle as t\n",
    "\n",
    "t.clearscreen()\n",
    "t.setup(500, 500)\n",
    "t.showborder()\n",
    "t.bgcolor(\"AliceBlue\")\n",
    "t.shape(\"turtle2\")\n",
    "t.speed(10)\n",
    "t.width(2)\n",
    "\n",
    "def svtree(trunklength, levels, branches=2, angle=45):\n",
    "    \"\"\"svtree: draws a side-view tree with customizable branches and angles\n",
    "       trunklength = the length of the first line drawn (\"the trunk\")\n",
    "       levels = the depth of recursion to which it continues branching\n",
    "       branches = the number of branches (default is 2)\n",
    "       angle = the angle between branches (default is 45 degrees)\n",
    "    \"\"\"\n",
    "    if levels == 0:\n",
    "        return\n",
    "    else:\n",
    "        # Draw the original trunk (1 line)\n",
    "        t.forward(trunklength)\n",
    "\n",
    "        # Recursive branches\n",
    "        for _ in range(branches):\n",
    "            t.left(angle)\n",
    "            svtree(trunklength / 2, levels - 1, branches, angle)\n",
    "            t.right(angle)\n",
    "\n",
    "        # Go back to the trunk's position and orientation\n",
    "        t.backward(trunklength)\n",
    "\n",
    "# Go! Example with 3 branches and a 30-degree angle:\n",
    "svtree(100, 4, branches=3, angle=30)\n"
   ]
  },
  {
   "cell_type": "code",
   "execution_count": 23,
   "metadata": {},
   "outputs": [
    {
     "data": {
      "text/html": [
       "\n",
       "      <svg width=\"500\" height=\"500\">  \n",
       "        <rect width=\"100%\" height=\"100%\" style=\"fill:aliceblue;stroke:gray;stroke-width:1\"/>\n",
       "        \n",
       "        \n",
       "        <path fill-rule=\"evenodd\" fill-opacity=\"1\" d=\"M 250.0 250.0  L 350.0 250.0  L 269.098 308.779  L 300.0 213.673  L 330.902 308.779  L 250.0 250.0 \" stroke-linecap=\"round\" style=\"stroke:black;stroke-width:2\" fill=\"gold\" />\n",
       "        \n",
       "        \n",
       "        <g id=\"turtle2\" visibility=\"visible\" transform=\"rotate(-90,150.0,250.0) translate(150.0, 250.0)\">\n",
       "<polygon points=\"0,16 2,14 1,10 4,7 7,9 9,8 6,5 7,1 5,-3 8,-6 6,-8 4,-5 0,-7 -4,-5 -6,-8 -8,-6 -5,-3 -7,1 -6,5 -9,8 -7,9 -4,7 -1,10 -2,14\" transform=\"skewX(0) scale(1,1)\" style=\"stroke:black;stroke-width:1;fill:gold\" />\n",
       "</g>\n",
       "      </svg>\n",
       "    "
      ],
      "text/plain": [
       "<IPython.core.display.HTML object>"
      ]
     },
     "metadata": {},
     "output_type": "display_data"
    }
   ],
   "source": [
    "# run this cell to create a good-job-for-finishing star 🤩\n",
    "\n",
    "t.clearscreen()      # it's good to start every cell with this\n",
    "t.setup(500,500)     # setup the drawing area to be 500 pixels x 500 pixels\n",
    "t.showborder()       # show the border of the drawing area\n",
    "\n",
    "t.bgcolor(\"AliceBlue\")   # adjust to your preferences!\n",
    "t.shape(\"turtle2\")\n",
    "t.speed(10)\n",
    "t.width(2)\n",
    "\n",
    "def star(n):\n",
    "    \"\"\" draws a star!\n",
    "        call with star(5)\n",
    "    \"\"\"\n",
    "    if n == 0:\n",
    "        return\n",
    "    else:\n",
    "        t.forward(100)\n",
    "        t.right(144)\n",
    "        star(n-1)\n",
    "\n",
    "t.fillcolor(\"gold\")\n",
    "t.begin_fill()\n",
    "star(5)\n",
    "t.end_fill()\n",
    "\n",
    "t.penup()\n",
    "t.backward(100)\n",
    "t.pendown()"
   ]
  }
 ],
 "metadata": {
  "kernelspec": {
   "display_name": "Python 3",
   "language": "python",
   "name": "python3"
  },
  "language_info": {
   "codemirror_mode": {
    "name": "ipython",
    "version": 3
   },
   "file_extension": ".py",
   "mimetype": "text/x-python",
   "name": "python",
   "nbconvert_exporter": "python",
   "pygments_lexer": "ipython3",
   "version": "3.10.11"
  },
  "orig_nbformat": 4
 },
 "nbformat": 4,
 "nbformat_minor": 2
}
