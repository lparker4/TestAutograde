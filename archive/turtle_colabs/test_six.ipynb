{
  "cells": [
    {
      "cell_type": "markdown",
      "metadata": {
        "id": "EafH-zQxEcnr"
      },
      "source": [
        "\n",
        "\n",
        "# Notebooks and Recursion and Turtles!\n",
        "\n",
        "\n",
        "Welcome to Python notebooks! They're ever more ubiquitous:\n",
        "+ They interleave <i>code cells</i> that have Python and\n",
        "+ <i>context cells</i> with descriptions and context.\n",
        "+ This cell is a <i>context cell</i>\n",
        "+ If you double-click on it, you'll be able to see its source, a mix of markup and markdown...\n",
        "\n",
        "### Onward!"
      ]
    },
    {
      "cell_type": "code",
      "execution_count": null,
      "metadata": {
        "colab": {
          "base_uri": "https://localhost:8080/"
        },
        "id": "Ig1xmKQP7ait",
        "outputId": "1a73aaf9-b46f-4d42-d18d-554303ec4c55"
      },
      "outputs": [
        {
          "name": "stdout",
          "output_type": "stream",
          "text": [
            "Hello from Colab!\n",
            "\n",
            "The answer is  42.0\n"
          ]
        }
      ],
      "source": [
        "#\n",
        "# This is a code cell - here, you're able to run arbitrary Python scripts.\n",
        "#\n",
        "\n",
        "# For example, try running this four-fours example:\n",
        "\n",
        "from math import *\n",
        "\n",
        "print(\"Hello from Colab!\")\n",
        "print()\n",
        "print(\"The answer is \", factorial(4)+factorial(4)-4-sqrt(4) )"
      ]
    },
    {
      "cell_type": "markdown",
      "metadata": {
        "id": "lUABUfml1I-x"
      },
      "source": [
        "\n",
        "### <font color=\"DodgerBlue\"><b>Make your own copy of this notebook</b></font>\n",
        "+ Under the <i>File</i> menu in the upper left, choose <i><u>Save a copy in Drive</u></i> to create your own copy\n",
        "+ That copy you'll be able to edit, run, and save\n",
        "+ <b><i>Later on</i></b>, when you're ready to submit, you should\n",
        "  + Choose <i><u>File - Download - Download <tt>.ipynb</tt></u></i>, which is near the bottom of the <i>File</i> menu\n",
        "  + That will save the file to your machine with the extension <tt>.ipynb</tt>\n",
        "  + Then, you'll submit that file to the usual GradeScope site, at the appropriate spot.\n",
        "\n",
        "<br>\n",
        "\n",
        "Onward, to turtle!\n"
      ]
    },
    {
      "cell_type": "markdown",
      "metadata": {
        "id": "KtcS8v2_1e-7"
      },
      "source": [
        "# <font color=\"DodgerBlue\"><b>Turtle Scripting </b></font>\n",
        "\n",
        "Start by running the code boxes below to install our turtle library, named <tt>ColabTurtlePlus</tt>:\n",
        "\n",
        "<!--\n",
        "The line `t.initializeTurtle()` creates a turtle graphic terminal? box? if you haven't created one, and erases/refreshes the turtle graphic if you already have one.\n",
        "-->"
      ]
    },
    {
      "cell_type": "code",
      "execution_count": 5,
      "metadata": {
        "colab": {
          "base_uri": "https://localhost:8080/"
        },
        "id": "ccYZMirB5ZxD",
        "outputId": "1c9a01d3-dd93-4d8b-e311-b24caba20649"
      },
      "outputs": [
        {
          "name": "stdout",
          "output_type": "stream",
          "text": [
            "Collecting ColabTurtlePlus\n",
            "  Downloading ColabTurtlePlus-2.0.1-py3-none-any.whl (31 kB)\n",
            "Installing collected packages: ColabTurtlePlus\n",
            "Successfully installed ColabTurtlePlus-2.0.1\n"
          ]
        }
      ],
      "source": [
        "!pip install ColabTurtlePlus"
      ]
    },
    {
      "cell_type": "code",
      "execution_count": 8,
      "metadata": {
        "colab": {
          "base_uri": "https://localhost:8080/",
          "height": 621
        },
        "id": "ZldMkZqQEm9O",
        "outputId": "45b0fee8-ca14-4434-fae8-baa68d935f45"
      },
      "outputs": [
        {
          "data": {
            "text/html": [
              "\n",
              "      <svg width=\"800\" height=\"600\">  \n",
              "        <rect width=\"100%\" height=\"100%\" style=\"fill:white;stroke:;stroke-width:1\"/>\n",
              "        \n",
              "        \n",
              "        \n",
              "        \n",
              "        \n",
              "        \n",
              "      </svg>\n",
              "    "
            ],
            "text/plain": [
              "<IPython.core.display.HTML object>"
            ]
          },
          "metadata": {},
          "output_type": "display_data"
        }
      ],
      "source": [
        "import ColabTurtlePlus.Turtle as t\n",
        "t.clearscreen()\n",
        "\n",
        "# after installing, run this cell...\n",
        "# if it works, you may see a message -- and you should be set!"
      ]
    },
    {
      "cell_type": "markdown",
      "metadata": {
        "id": "MAALe3_424CH"
      },
      "source": [
        "### Next, try an example turtle-drawing script:\n",
        "\n",
        "- <font size = \"-1\"> Note:   A script usually describes code that's <i>not</i> organized into a function:"
      ]
    },
    {
      "cell_type": "code",
      "execution_count": 6,
      "metadata": {
        "colab": {
          "base_uri": "https://localhost:8080/",
          "height": 521
        },
        "id": "38lmk3NC2pOs",
        "outputId": "8e6e4a79-c0c6-423b-a3a1-dc1c69f48481"
      },
      "outputs": [
        {
          "data": {
            "text/html": [
              "\n",
              "      <svg width=\"500\" height=\"500\">  \n",
              "        <rect width=\"100%\" height=\"100%\" style=\"fill:aliceblue;stroke:gray;stroke-width:1\"/>\n",
              "        \n",
              "        \n",
              "        <line x1=\"250.0\" y1=\"250.0\" x2=\"350.0\" y2=\"250.0\" stroke-linecap=\"round\" style=\"stroke:green;stroke-width:5\" /><line x1=\"350.0\" y1=\"250.0\" x2=\"350.0\" y2=\"150.0\" stroke-linecap=\"round\" style=\"stroke:dodgerblue;stroke-width:2\" /><line x1=\"250.0\" y1=\"150.0\" x2=\"250.0\" y2=\"250.0\" stroke-linecap=\"round\" style=\"stroke:purple;stroke-width:2\" />\n",
              "        \n",
              "        \n",
              "        <g id=\"turtle2\" visibility=\"visible\" transform=\"rotate(225,300.0,200.0) translate(300.0, 200.0)\">\n",
              "<polygon points=\"0,16 2,14 1,10 4,7 7,9 9,8 6,5 7,1 5,-3 8,-6 6,-8 4,-5 0,-7 -4,-5 -6,-8 -8,-6 -5,-3 -7,1 -6,5 -9,8 -7,9 -4,7 -1,10 -2,14\" transform=\"skewX(0) scale(1,1)\" style=\"stroke:green;stroke-width:1;fill:green\" />\n",
              "</g>\n",
              "      </svg>\n",
              "    "
            ],
            "text/plain": [
              "<IPython.core.display.HTML object>"
            ]
          },
          "metadata": {},
          "output_type": "display_data"
        },
        {
          "ename": "UnidentifiedImageError",
          "evalue": "cannot identify image file 'C:/Users/laure/OneDrive/Documents/Research/TestAutograde/turtle_colabs/SVGimage.svg'",
          "output_type": "error",
          "traceback": [
            "\u001b[1;31m---------------------------------------------------------------------------\u001b[0m",
            "\u001b[1;31mUnidentifiedImageError\u001b[0m                    Traceback (most recent call last)",
            "\u001b[1;32mc:\\Users\\laure\\OneDrive\\Documents\\Research\\TestAutograde\\turtle_colabs\\test_six.ipynb Cell 8\u001b[0m line \u001b[0;36m3\n\u001b[0;32m     <a href='vscode-notebook-cell:/c%3A/Users/laure/OneDrive/Documents/Research/TestAutograde/turtle_colabs/test_six.ipynb#X10sZmlsZQ%3D%3D?line=36'>37</a>\u001b[0m t\u001b[39m.\u001b[39mcolor(\u001b[39m\"\u001b[39m\u001b[39mgreen\u001b[39m\u001b[39m\"\u001b[39m)\n\u001b[0;32m     <a href='vscode-notebook-cell:/c%3A/Users/laure/OneDrive/Documents/Research/TestAutograde/turtle_colabs/test_six.ipynb#X10sZmlsZQ%3D%3D?line=37'>38</a>\u001b[0m cv \u001b[39m=\u001b[39m t\u001b[39m.\u001b[39msaveSVG(turtle \u001b[39m=\u001b[39m \u001b[39mTrue\u001b[39;00m)\n\u001b[1;32m---> <a href='vscode-notebook-cell:/c%3A/Users/laure/OneDrive/Documents/Research/TestAutograde/turtle_colabs/test_six.ipynb#X10sZmlsZQ%3D%3D?line=38'>39</a>\u001b[0m earth   \u001b[39m=\u001b[39m plt\u001b[39m.\u001b[39;49mimread(\u001b[39m\"\u001b[39;49m\u001b[39mC:/Users/laure/OneDrive/Documents/Research/TestAutograde/turtle_colabs/SVGimage.svg\u001b[39;49m\u001b[39m\"\u001b[39;49m)\n\u001b[0;32m     <a href='vscode-notebook-cell:/c%3A/Users/laure/OneDrive/Documents/Research/TestAutograde/turtle_colabs/test_six.ipynb#X10sZmlsZQ%3D%3D?line=39'>40</a>\u001b[0m fig, ax \u001b[39m=\u001b[39m plt\u001b[39m.\u001b[39msubplots()\n\u001b[0;32m     <a href='vscode-notebook-cell:/c%3A/Users/laure/OneDrive/Documents/Research/TestAutograde/turtle_colabs/test_six.ipynb#X10sZmlsZQ%3D%3D?line=40'>41</a>\u001b[0m im      \u001b[39m=\u001b[39m ax\u001b[39m.\u001b[39mimshow(earth)\n",
            "File \u001b[1;32m~\\AppData\\Local\\Packages\\PythonSoftwareFoundation.Python.3.10_qbz5n2kfra8p0\\LocalCache\\local-packages\\Python310\\site-packages\\matplotlib\\pyplot.py:2158\u001b[0m, in \u001b[0;36mimread\u001b[1;34m(fname, format)\u001b[0m\n\u001b[0;32m   2156\u001b[0m \u001b[39m@_copy_docstring_and_deprecators\u001b[39m(matplotlib\u001b[39m.\u001b[39mimage\u001b[39m.\u001b[39mimread)\n\u001b[0;32m   2157\u001b[0m \u001b[39mdef\u001b[39;00m \u001b[39mimread\u001b[39m(fname, \u001b[39mformat\u001b[39m\u001b[39m=\u001b[39m\u001b[39mNone\u001b[39;00m):\n\u001b[1;32m-> 2158\u001b[0m     \u001b[39mreturn\u001b[39;00m matplotlib\u001b[39m.\u001b[39;49mimage\u001b[39m.\u001b[39;49mimread(fname, \u001b[39mformat\u001b[39;49m)\n",
            "File \u001b[1;32m~\\AppData\\Local\\Packages\\PythonSoftwareFoundation.Python.3.10_qbz5n2kfra8p0\\LocalCache\\local-packages\\Python310\\site-packages\\matplotlib\\image.py:1560\u001b[0m, in \u001b[0;36mimread\u001b[1;34m(fname, format)\u001b[0m\n\u001b[0;32m   1558\u001b[0m                 response \u001b[39m=\u001b[39m io\u001b[39m.\u001b[39mBytesIO(response\u001b[39m.\u001b[39mread())\n\u001b[0;32m   1559\u001b[0m             \u001b[39mreturn\u001b[39;00m imread(response, \u001b[39mformat\u001b[39m\u001b[39m=\u001b[39mext)\n\u001b[1;32m-> 1560\u001b[0m \u001b[39mwith\u001b[39;00m img_open(fname) \u001b[39mas\u001b[39;00m image:\n\u001b[0;32m   1561\u001b[0m     \u001b[39mreturn\u001b[39;00m (_pil_png_to_float_array(image)\n\u001b[0;32m   1562\u001b[0m             \u001b[39mif\u001b[39;00m \u001b[39misinstance\u001b[39m(image, PIL\u001b[39m.\u001b[39mPngImagePlugin\u001b[39m.\u001b[39mPngImageFile) \u001b[39melse\u001b[39;00m\n\u001b[0;32m   1563\u001b[0m             pil_to_array(image))\n",
            "File \u001b[1;32m~\\AppData\\Local\\Packages\\PythonSoftwareFoundation.Python.3.10_qbz5n2kfra8p0\\LocalCache\\local-packages\\Python310\\site-packages\\PIL\\Image.py:3298\u001b[0m, in \u001b[0;36mopen\u001b[1;34m(fp, mode, formats)\u001b[0m\n\u001b[0;32m   3296\u001b[0m     warnings\u001b[39m.\u001b[39mwarn(message)\n\u001b[0;32m   3297\u001b[0m msg \u001b[39m=\u001b[39m \u001b[39m\"\u001b[39m\u001b[39mcannot identify image file \u001b[39m\u001b[39m%r\u001b[39;00m\u001b[39m\"\u001b[39m \u001b[39m%\u001b[39m (filename \u001b[39mif\u001b[39;00m filename \u001b[39melse\u001b[39;00m fp)\n\u001b[1;32m-> 3298\u001b[0m \u001b[39mraise\u001b[39;00m UnidentifiedImageError(msg)\n",
            "\u001b[1;31mUnidentifiedImageError\u001b[0m: cannot identify image file 'C:/Users/laure/OneDrive/Documents/Research/TestAutograde/turtle_colabs/SVGimage.svg'"
          ]
        }
      ],
      "source": [
        "import ColabTurtlePlus.Turtle as t\n",
        "import matplotlib.pyplot as plt\n",
        "t.clearscreen()      # it's good to start every cell with this\n",
        "t.setup(500,500)     # setup the drawing area to be 500 pixels x 500 pixels\n",
        "t.showborder()       # show the border of the drawing area\n",
        "t.bgcolor(\"AliceBlue\") # sets the background color (could also use \"#E0E0FF\" on the Mac)\n",
        "\n",
        "t.shape('turtle2') # Options: ['turtle', 'ring', 'classic', 'arrow', 'square', 'triangle', 'circle', 'turtle2', 'blank']\n",
        "\n",
        "t.speed(5)         # 10 is fastest, 1 is slowest\n",
        "\n",
        "# side one\n",
        "t.color(\"green\")   # a link below shares _all_ the colors\n",
        "t.width(5)         # number of pixels wide for the turtle's trail\n",
        "t.forward(100)     # forward 100 pixels\n",
        "t.left(90)         # left 90 degrees\n",
        "\n",
        "# side two\n",
        "t.color(\"DodgerBlue\")    # hometeam?!\n",
        "t.width(2)\n",
        "t.forward(100)\n",
        "t.left(90)\n",
        "\n",
        "# side three\n",
        "t.penup()          # \"lift\" the pen - the turtle will not draw\n",
        "t.forward(100)\n",
        "t.left(90)\n",
        "t.pendown()        # put the pen back \"down\": drawing will resume\n",
        "\n",
        "# side four\n",
        "t.color(\"purple\")\n",
        "t.forward(100)\n",
        "t.left(135)        # to aim \"northeast\"\n",
        "t.penup()\n",
        "from math import sqrt\n",
        "t.forward(50*sqrt(2))   # move to the \"middle\": 50*sqrt(2)\n",
        "t.color(\"green\")\n",
        "cv = t.saveSVG(turtle = True)\n"
      ]
    },
    {
      "cell_type": "code",
      "execution_count": null,
      "metadata": {},
      "outputs": [],
      "source": [
        "import matplotlib.pyplot as plt\n",
        "plt.plot(*zip(*((v, v ** 5 + (v - 5) ** 3 - (3 * v) ** 2) for v in range(-20, 20))))\n",
        "plt.savefig('plot.png')"
      ]
    },
    {
      "cell_type": "markdown",
      "metadata": {
        "id": "0FgRysh53FmK"
      },
      "source": [
        "#### <font color = \"blue\"> **Turtle Task #1:    *Drawing practice!***\n",
        "\n",
        "For the first task, play around a bit by copying the\n",
        "Turtle script above to the cell below.\n",
        "\n",
        "The, <i>change</i> it so that:\n",
        "+ You draw a _different_ set of lines -- with at least ***5*** lines, in this case...\n",
        "+ Don't take overmuch time on this - Turtle-drawing can be addicting!\n",
        "+ If you want to \"teleport\" to coordinates `(42,42)` you can do so with `t.goto(42,42)`\n",
        "+ Also, experiment with different colors:\n",
        "\n",
        "**Colors**\n",
        "+ [This page](https://www.w3schools.com/colors/colors_names.asp) shows the colornames available on all browsers.\n",
        "+ You can change the background with  `bgcolor(\"darkblue\")` or, perhaps, other colors!\n",
        "\n",
        "Leave your drawing in the notebook (we look forward to seeing _all_ of the drawings!)\n",
        "\n",
        "Onward to **functioning** with Turtles...\n",
        "\n"
      ]
    },
    {
      "cell_type": "code",
      "execution_count": 36,
      "metadata": {
        "colab": {
          "base_uri": "https://localhost:8080/",
          "height": 521
        },
        "id": "mlHvMa3TCV6E",
        "outputId": "429f3163-23f3-426f-9f37-cf2fd7200dd0"
      },
      "outputs": [
        {
          "data": {
            "text/html": [
              "\n",
              "      <svg width=\"500\" height=\"500\">  \n",
              "        <rect width=\"100%\" height=\"100%\" style=\"fill:aliceblue;stroke:gray;stroke-width:1\"/>\n",
              "        \n",
              "        \n",
              "        <line x1=\"250.0\" y1=\"250.0\" x2=\"350.0\" y2=\"76.795\" stroke-linecap=\"round\" style=\"stroke:black;stroke-width:5\" /><line x1=\"350.0\" y1=\"76.795\" x2=\"250.0\" y2=\"250.0\" stroke-linecap=\"round\" style=\"stroke:black;stroke-width:5\" /><line x1=\"250.0\" y1=\"250.0\" x2=\"431.262\" y2=\"165.476\" stroke-linecap=\"round\" style=\"stroke:black;stroke-width:5\" /><line x1=\"431.262\" y1=\"165.476\" x2=\"234.3\" y2=\"130.746\" stroke-linecap=\"round\" style=\"stroke:black;stroke-width:5\" /><line x1=\"234.3\" y1=\"130.746\" x2=\"375.721\" y2=\"272.167\" stroke-linecap=\"round\" style=\"stroke:black;stroke-width:5\" /><line x1=\"375.721\" y1=\"272.167\" x2=\"373.9845182233307\" y2=\"262.3189224698779\" stroke-linecap=\"round\" style=\"stroke:black;stroke-width:5\" /><line x1=\"373.9845182233307\" y1=\"262.3189224698779\" x2=\"372.24803644666144\" y2=\"252.47084493975584\" stroke-linecap=\"round\" style=\"stroke:black;stroke-width:5\" /><line x1=\"372.24803644666144\" y1=\"252.47084493975584\" x2=\"370.51155466999217\" y2=\"242.62276740963375\" stroke-linecap=\"round\" style=\"stroke:black;stroke-width:5\" /><line x1=\"370.51155466999217\" y1=\"242.62276740963375\" x2=\"368.7750728933229\" y2=\"232.77468987951167\" stroke-linecap=\"round\" style=\"stroke:black;stroke-width:5\" /><line x1=\"368.7750728933229\" y1=\"232.77468987951167\" x2=\"367.0385911166536\" y2=\"222.9266123493896\" stroke-linecap=\"round\" style=\"stroke:black;stroke-width:5\" /><line x1=\"367.0385911166536\" y1=\"222.9266123493896\" x2=\"365.3021093399843\" y2=\"213.0785348192675\" stroke-linecap=\"round\" style=\"stroke:black;stroke-width:5\" /><line x1=\"365.3021093399843\" y1=\"213.0785348192675\" x2=\"363.56562756331505\" y2=\"203.23045728914542\" stroke-linecap=\"round\" style=\"stroke:black;stroke-width:5\" /><line x1=\"363.56562756331505\" y1=\"203.23045728914542\" x2=\"361.82914578664577\" y2=\"193.38237975902334\" stroke-linecap=\"round\" style=\"stroke:black;stroke-width:5\" /><line x1=\"361.82914578664577\" y1=\"193.38237975902334\" x2=\"360.0926640099765\" y2=\"183.53430222890125\" stroke-linecap=\"round\" style=\"stroke:black;stroke-width:5\" /><line x1=\"360.0926640099765\" y1=\"183.53430222890125\" x2=\"358.3561822333072\" y2=\"173.68622469877917\" stroke-linecap=\"round\" style=\"stroke:black;stroke-width:5\" /><line x1=\"358.3561822333072\" y1=\"173.68622469877917\" x2=\"356.61970045663793\" y2=\"163.8381471686571\" stroke-linecap=\"round\" style=\"stroke:black;stroke-width:5\" /><line x1=\"356.61970045663793\" y1=\"163.8381471686571\" x2=\"354.88321867996865\" y2=\"153.990069638535\" stroke-linecap=\"round\" style=\"stroke:black;stroke-width:5\" /><line x1=\"354.88321867996865\" y1=\"153.990069638535\" x2=\"353.14673690329937\" y2=\"144.14199210841292\" stroke-linecap=\"round\" style=\"stroke:black;stroke-width:5\" /><line x1=\"353.14673690329937\" y1=\"144.14199210841292\" x2=\"351.4102551266301\" y2=\"134.29391457829084\" stroke-linecap=\"round\" style=\"stroke:black;stroke-width:5\" /><line x1=\"351.4102551266301\" y1=\"134.29391457829084\" x2=\"349.6737733499608\" y2=\"124.44583704816876\" stroke-linecap=\"round\" style=\"stroke:black;stroke-width:5\" /><line x1=\"349.6737733499608\" y1=\"124.44583704816876\" x2=\"347.93729157329153\" y2=\"114.59775951804667\" stroke-linecap=\"round\" style=\"stroke:black;stroke-width:5\" /><line x1=\"347.93729157329153\" y1=\"114.59775951804667\" x2=\"346.20080979662225\" y2=\"104.74968198792459\" stroke-linecap=\"round\" style=\"stroke:black;stroke-width:5\" /><line x1=\"346.20080979662225\" y1=\"104.74968198792459\" x2=\"344.464328019953\" y2=\"94.9016044578025\" stroke-linecap=\"round\" style=\"stroke:black;stroke-width:5\" /><line x1=\"344.464328019953\" y1=\"94.9016044578025\" x2=\"342.7278462432837\" y2=\"85.05352692768042\" stroke-linecap=\"round\" style=\"stroke:black;stroke-width:5\" /><line x1=\"342.7278462432837\" y1=\"85.05352692768042\" x2=\"340.9913644666144\" y2=\"75.20544939755834\" stroke-linecap=\"round\" style=\"stroke:black;stroke-width:5\" />\n",
              "        \n",
              "        \n",
              "        <g id=\"turtle2\" visibility=\"visible\" transform=\"rotate(170,340.9913644666144,75.20544939755834) translate(340.9913644666144, 75.20544939755834)\">\n",
              "<polygon points=\"0,16 2,14 1,10 4,7 7,9 9,8 6,5 7,1 5,-3 8,-6 6,-8 4,-5 0,-7 -4,-5 -6,-8 -8,-6 -5,-3 -7,1 -6,5 -9,8 -7,9 -4,7 -1,10 -2,14\" transform=\"skewX(0) scale(1,1)\" style=\"stroke:black;stroke-width:1;fill:black\" />\n",
              "</g>\n",
              "      </svg>\n",
              "    "
            ],
            "text/plain": [
              "<IPython.core.display.HTML object>"
            ]
          },
          "metadata": {},
          "output_type": "display_data"
        }
      ],
      "source": [
        "# Here is a Colab cell for your \"Polygon practice\"\n",
        "#\n",
        "#      (feel free to copy-paste-adapt, from above)\n",
        "\n",
        "import ColabTurtlePlus.Turtle as t\n",
        "from ColabTurtlePlus.Turtle import *\n",
        "\n",
        "clearscreen()      # it's good to start every cell with this\n",
        "setup(500,500)     # setup the drawing area to be 500 pixels x 500 pixels\n",
        "showborder()       # show the border of the drawing area\n",
        "bgcolor(\"AliceBlue\") # sets the background color (could also use \"#F0F8FF\")\n",
        "\n",
        "t.shape('turtle2') # Options: ['turtle', 'ring', 'classic', 'arrow', 'square', 'triangle', 'circle', 'turtle2', 'blank']\n",
        "\n",
        "t.speed(10)         # 10 is fastest, 1 is slowest\n",
        "\n",
        "# side one\n",
        "t.color(\"black\")   # a link below shares _all_ the colors\n",
        "t.width(5)         # number of pixels wide for the turtle's trail\n",
        "t.left(60)\n",
        "t.forward(200)     # forward 100 pixels\n",
        "t.left(180)\n",
        "t.forward(200)\n",
        "\n",
        "# side two\n",
        "t.left(145)\n",
        "t.forward(200)\n",
        "t.left(145)\n",
        "\n",
        "# side three\n",
        "t.forward(200)\n",
        "t.left(145)\n",
        "\n",
        "# side four\n",
        "t.forward(200)\n",
        "t.left(145)\n",
        "\n",
        "# side five\n",
        "t.forward(200)\n",
        "\n",
        "\n"
      ]
    },
    {
      "cell_type": "markdown",
      "metadata": {
        "id": "-LbLya3h7xdY"
      },
      "source": [
        "## <font color=\"#f96d7b\"><b>Turtle <i>Functioning</i> </b></font>\n",
        "\n",
        "Below is the recursive <tt>tri</tt> function from class...\n",
        "\n",
        "- First, look over the code.\n",
        "- Then, run it and - we hope - it will draw a triangle.\n",
        "- Notice the call to `tri(3)` at the bottom. That's the \"function call\" that runs our function, `tri`"
      ]
    },
    {
      "cell_type": "code",
      "execution_count": 46,
      "metadata": {
        "colab": {
          "base_uri": "https://localhost:8080/",
          "height": 521
        },
        "id": "Ffp6015lD5ro",
        "outputId": "41dac336-d841-496e-c2b3-ad277f0f0bd4"
      },
      "outputs": [
        {
          "data": {
            "text/html": [
              "\n",
              "      <svg width=\"500\" height=\"500\">  \n",
              "        <rect width=\"100%\" height=\"100%\" style=\"fill:aliceblue;stroke:gray;stroke-width:1\"/>\n",
              "        \n",
              "        \n",
              "        <path fill-rule=\"evenodd\" fill-opacity=\"1\" d=\"M 250.0 250.0  L 350.0 250.0  L 300.0 163.397  L 250.0 250.0 \" stroke-linecap=\"round\" style=\"stroke:red;stroke-width:10\" fill=\"pink\" />\n",
              "        <circle cx=\"250.0\" cy=\"250.0\" r=\"5.0\" fill=\"yellow\" fill-opacity=\"1\" /><circle cx=\"350.0\" cy=\"250.0\" r=\"5.0\" fill=\"yellow\" fill-opacity=\"1\" /><circle cx=\"300.0\" cy=\"163.397\" r=\"5.0\" fill=\"yellow\" fill-opacity=\"1\" />\n",
              "        \n",
              "        <g id=\"turtle2\" visibility=\"visible\" transform=\"rotate(-90,250.0,250.0) translate(250.0, 250.0)\">\n",
              "<polygon points=\"0,16 2,14 1,10 4,7 7,9 9,8 6,5 7,1 5,-3 8,-6 6,-8 4,-5 0,-7 -4,-5 -6,-8 -8,-6 -5,-3 -7,1 -6,5 -9,8 -7,9 -4,7 -1,10 -2,14\" transform=\"skewX(0) scale(1,1)\" style=\"stroke:red;stroke-width:1;fill:pink\" />\n",
              "</g>\n",
              "      </svg>\n",
              "    "
            ],
            "text/plain": [
              "<IPython.core.display.HTML object>"
            ]
          },
          "metadata": {},
          "output_type": "display_data"
        }
      ],
      "source": [
        "import ColabTurtlePlus.Turtle as t\n",
        "import random\n",
        "\n",
        "t.clearscreen()      # it's good to start every cell with this\n",
        "t.setup(500,500)     # setup the drawing area to be 500 pixels x 500 pixels\n",
        "t.showborder()       # show the border of the drawing area\n",
        "\n",
        "t.bgcolor(\"AliceBlue\")   # adjust to your preferences!\n",
        "t.shape(\"turtle2\")\n",
        "t.speed(10)\n",
        "t.width(2)\n",
        "\n",
        "#\n",
        "# our tri function\n",
        "#\n",
        "def tri(n):\n",
        "    \"\"\"Draws n 100-pixel sides of an equilateral triangle.\n",
        "      Note that n doesn't have to be 3 (!)\n",
        "    \"\"\"\n",
        "    if n == 0:\n",
        "        return      # No sides to draw, so stop drawing\n",
        "    else:\n",
        "        t.dot(10, 'yellow')\n",
        "        t.forward(100)\n",
        "        t.left(120)\n",
        "        tri(n-1)    # Recur to draw the rest of the sides!\n",
        "\n",
        "#\n",
        "# here, run tri(3)\n",
        "#\n",
        "clr = random.choice(['darkgreen', 'red', 'blue'])\n",
        "t.color(clr)\n",
        "t.width(10)\n",
        "t.fillcolor('pink')\n",
        "t.begin_fill()\n",
        "tri(3)\n",
        "t.end_fill()\n",
        "\n"
      ]
    },
    {
      "cell_type": "markdown",
      "metadata": {
        "id": "Z5-yS_AK8MdP"
      },
      "source": [
        "Consider the code's pieces:\n",
        "\n",
        "+ First, we setup the Turtle's canvas (adjust to suit!)\n",
        "+ Then we define the `tri` function, and finally\n",
        "+ we call it at the bottom with `tri(3)`\n",
        "\n",
        "\n",
        "You'll notice that the internal turtle-drawing calls all begin with \"`t.`\" i.e., \"`t`\" followed by a dot. That is because the underlying code creates a variable named `t` known as <i>an object</i> and then it makes changes to that object, and that object makes changes to the drawing canvas.\n",
        "+ Not worth worrying about! Just a placeholder. Later in the semester, you will use, create, and design <i>objects</i> in much more depth.\n",
        "\n",
        "When run, the above code should create a graphic that looks similar to this:\n",
        "\n",
        "<img src = \"https://www.cs.hmc.edu/twiki/pub/CS5Fall2022/Lab2Turtle/tri_3.png\" height=\"100px\">\n",
        "\n",
        "Stop for a moment and ask yourself how `tri` actually works:\n",
        "+ In particular, `tri` only draws one line: `t.forward(100)`\n",
        "+ How does it draw a complete triangle?\n",
        "+ Why do we have `tri(n-1)`?\n",
        "\n",
        "Note that the base case (or empty case) returns - without actually returning any value. This is because the function does not produce a value - instead, it simply changes pixels on the screen!\n",
        "\n",
        "In this code, we are calling `tri` for its <i>side effects,</i> which are changes to the world that aren't part of any return value. In this case, the side effects are graphics on your screen.\n",
        "\n"
      ]
    },
    {
      "cell_type": "markdown",
      "metadata": {
        "id": "YuZElPxp_o1V"
      },
      "source": [
        "## <font color=\"#f96d7b\"><b>`Tri`-ing fills, options, and colors! </b></font>\n",
        "\n",
        "Now, change the above `tri`-ing function, using a fill:\n",
        "\n",
        "To fill any shape, you can wrap it in `t.begin_fill()`, followed by the function that creates the shape, followed by `t.end_fill()`.\n",
        "+ For the triangle, try altering the bottom part of the cell to read:\n",
        "```\n",
        "t.fillcolor('blue')\n",
        "t.begin_fill()\n",
        "tri(3)\n",
        "t.end_fill()\n",
        "```\n",
        "+ Then, change the fill color!\n",
        "\n",
        "<hr>\n",
        "\n",
        "Next, change your `tri` function and re-running it in order to try at least one out of the many turtle options:\n",
        "\n",
        "+ (_Line thickness_)   Put the line    `t.width(10)`    as the first overall line of the `tri` <i>function</i>.\n",
        "   - ***Or*** put the line    `t.width(3*n+1)`    as the first line of the `else` block in the `tri` function!\n",
        "+ (_Colorfulness_)   Put the line    `t.color('darkgreen')`    as the first line of the function.\n",
        "   - Or `import random` near the top of the code box and put the two lines:\n",
        "        ```\n",
        "        clr = random.choice(['darkgreen', 'red', 'blue'])\n",
        "        t.color(clr)\n",
        "        ```\n",
        "   as the first lines of the function.\n",
        "+ (_Other Python turtle-drawing commands_)   Put the line `t.dot(10, 'yellow')` as the first line of the `else` block.\n",
        "   - This should draw a filled circle (a dot) just before it runs the other lines of the `else` block.\n",
        "   - Note that you can make the dot a different color than the line color by including the color as the second argument to `dot`.\n",
        "\n",
        "<br>\n",
        "\n",
        "<font size=\"-2\">Here is [the documentation for the ColabTurtlePlus library.](https://larryriddle.agnesscott.org/ColabTurtlePlus/documentation2.html) and [the documentation for the Python turtle library.](https://docs.python.org/3/library/turtle.html). No need to reference these - here just in case.</font>\n",
        "\n",
        "\n",
        "\n",
        "\n",
        "\n",
        "\n"
      ]
    },
    {
      "cell_type": "markdown",
      "metadata": {
        "id": "wKatZHgFjH4x"
      },
      "source": [
        "## <font color = \"blue\"> <b>Turtle Task #2:    <i>Spiraling</i></b>\n",
        "\n",
        "We look forward to seeing your final `tri` !\n",
        "\n",
        "Does turtle have you <i>spiraling</i> yet? That's next:"
      ]
    },
    {
      "cell_type": "markdown",
      "metadata": {
        "id": "XZnJWoxWkHc2"
      },
      "source": [
        "## <font color=\"#f96d7b\"><b>The `spiral` function </b> <font size = \"-1\"> [10 points]</font>\n",
        "\n",
        "Next, you'll build another <i>single-path</i> recursive function, named `spiral`. It will be similar to `tri`.\n",
        "\n",
        "First, a picture from the call `spiral(100, 90, 0.9)`:\n",
        "\n",
        "<img src = \"https://www.cs.hmc.edu/twiki/pub/CS5Fall2022/Lab2Turtle/spiral_90.png\">\n",
        "\n",
        "The idea is to write `spiral(initialLength, angle, multiplier)`\n",
        "+ `initialLength` is the length of the first \"spiral leg\"\n",
        "+ `angle` is the amount the turtle turns after each leg\n",
        "+ `multiplier` is the multiplier used, with each spiral-leg!\n",
        "\n",
        "Take a look:\n",
        "+ It won't run as-is...\n",
        "+ See if you can fill in lines 22-24\n",
        "+ Then, run it by uncommenting the call to `spiral(100, 90, 0.9)` on line 28"
      ]
    },
    {
      "cell_type": "code",
      "execution_count": 64,
      "metadata": {
        "colab": {
          "base_uri": "https://localhost:8080/",
          "height": 521
        },
        "id": "lTgFbs3Ilmtw",
        "outputId": "4c0ad14a-0831-46e4-9ba2-57f831ec2de3"
      },
      "outputs": [
        {
          "data": {
            "text/html": [
              "\n",
              "      <svg width=\"500\" height=\"500\">  \n",
              "        <rect width=\"100%\" height=\"100%\" style=\"fill:aliceblue;stroke:gray;stroke-width:1\"/>\n",
              "        \n",
              "        \n",
              "        <line x1=\"250.0\" y1=\"250.0\" x2=\"350.0\" y2=\"250.0\" stroke-linecap=\"round\" style=\"stroke:black;stroke-width:2\" /><line x1=\"350.0\" y1=\"250.0\" x2=\"395.0\" y2=\"172.058\" stroke-linecap=\"round\" style=\"stroke:black;stroke-width:2\" /><line x1=\"395.0\" y1=\"172.058\" x2=\"354.5\" y2=\"101.91\" stroke-linecap=\"round\" style=\"stroke:black;stroke-width:2\" /><line x1=\"354.5\" y1=\"101.91\" x2=\"281.6\" y2=\"101.91\" stroke-linecap=\"round\" style=\"stroke:black;stroke-width:2\" /><line x1=\"281.6\" y1=\"101.91\" x2=\"248.795\" y2=\"158.73\" stroke-linecap=\"round\" style=\"stroke:black;stroke-width:2\" /><line x1=\"248.795\" y1=\"158.73\" x2=\"278.32\" y2=\"209.868\" stroke-linecap=\"round\" style=\"stroke:black;stroke-width:2\" /><line x1=\"278.32\" y1=\"209.868\" x2=\"331.464\" y2=\"209.868\" stroke-linecap=\"round\" style=\"stroke:black;stroke-width:2\" /><line x1=\"331.464\" y1=\"209.868\" x2=\"355.379\" y2=\"168.446\" stroke-linecap=\"round\" style=\"stroke:black;stroke-width:2\" /><line x1=\"355.379\" y1=\"168.446\" x2=\"333.856\" y2=\"131.166\" stroke-linecap=\"round\" style=\"stroke:black;stroke-width:2\" /><line x1=\"333.856\" y1=\"131.166\" x2=\"295.114\" y2=\"131.166\" stroke-linecap=\"round\" style=\"stroke:black;stroke-width:2\" /><line x1=\"295.114\" y1=\"131.166\" x2=\"277.68\" y2=\"161.362\" stroke-linecap=\"round\" style=\"stroke:black;stroke-width:2\" /><line x1=\"277.68\" y1=\"161.362\" x2=\"293.371\" y2=\"188.539\" stroke-linecap=\"round\" style=\"stroke:black;stroke-width:2\" /><line x1=\"293.371\" y1=\"188.539\" x2=\"321.614\" y2=\"188.539\" stroke-linecap=\"round\" style=\"stroke:black;stroke-width:2\" /><line x1=\"321.614\" y1=\"188.539\" x2=\"334.323\" y2=\"166.526\" stroke-linecap=\"round\" style=\"stroke:black;stroke-width:2\" /><line x1=\"334.323\" y1=\"166.526\" x2=\"322.885\" y2=\"146.714\" stroke-linecap=\"round\" style=\"stroke:black;stroke-width:2\" /><line x1=\"322.885\" y1=\"146.714\" x2=\"302.296\" y2=\"146.714\" stroke-linecap=\"round\" style=\"stroke:black;stroke-width:2\" /><line x1=\"302.296\" y1=\"146.714\" x2=\"293.031\" y2=\"162.762\" stroke-linecap=\"round\" style=\"stroke:black;stroke-width:2\" /><line x1=\"293.031\" y1=\"162.762\" x2=\"301.37\" y2=\"177.205\" stroke-linecap=\"round\" style=\"stroke:black;stroke-width:2\" /><line x1=\"301.37\" y1=\"177.205\" x2=\"316.379\" y2=\"177.205\" stroke-linecap=\"round\" style=\"stroke:black;stroke-width:2\" /><line x1=\"316.379\" y1=\"177.205\" x2=\"323.133\" y2=\"165.506\" stroke-linecap=\"round\" style=\"stroke:black;stroke-width:2\" /><line x1=\"323.133\" y1=\"165.506\" x2=\"317.054\" y2=\"154.977\" stroke-linecap=\"round\" style=\"stroke:black;stroke-width:2\" /><line x1=\"317.054\" y1=\"154.977\" x2=\"306.112\" y2=\"154.977\" stroke-linecap=\"round\" style=\"stroke:black;stroke-width:2\" /><line x1=\"306.112\" y1=\"154.977\" x2=\"301.188\" y2=\"163.505\" stroke-linecap=\"round\" style=\"stroke:black;stroke-width:2\" /><line x1=\"301.188\" y1=\"163.505\" x2=\"305.619\" y2=\"171.181\" stroke-linecap=\"round\" style=\"stroke:black;stroke-width:2\" /><line x1=\"305.619\" y1=\"171.181\" x2=\"313.596\" y2=\"171.181\" stroke-linecap=\"round\" style=\"stroke:black;stroke-width:2\" /><line x1=\"313.596\" y1=\"171.181\" x2=\"317.185\" y2=\"164.964\" stroke-linecap=\"round\" style=\"stroke:black;stroke-width:2\" /><line x1=\"317.185\" y1=\"164.964\" x2=\"313.954\" y2=\"159.369\" stroke-linecap=\"round\" style=\"stroke:black;stroke-width:2\" /><line x1=\"313.954\" y1=\"159.369\" x2=\"308.139\" y2=\"159.369\" stroke-linecap=\"round\" style=\"stroke:black;stroke-width:2\" /><line x1=\"308.139\" y1=\"159.369\" x2=\"305.522\" y2=\"163.901\" stroke-linecap=\"round\" style=\"stroke:black;stroke-width:2\" /><line x1=\"305.522\" y1=\"163.901\" x2=\"307.877\" y2=\"167.98\" stroke-linecap=\"round\" style=\"stroke:black;stroke-width:2\" /><line x1=\"307.877\" y1=\"167.98\" x2=\"312.116\" y2=\"167.98\" stroke-linecap=\"round\" style=\"stroke:black;stroke-width:2\" /><line x1=\"312.116\" y1=\"167.98\" x2=\"314.024\" y2=\"164.676\" stroke-linecap=\"round\" style=\"stroke:black;stroke-width:2\" /><line x1=\"314.024\" y1=\"164.676\" x2=\"312.307\" y2=\"161.702\" stroke-linecap=\"round\" style=\"stroke:black;stroke-width:2\" /><line x1=\"312.307\" y1=\"161.702\" x2=\"309.217\" y2=\"161.702\" stroke-linecap=\"round\" style=\"stroke:black;stroke-width:2\" /><line x1=\"309.217\" y1=\"161.702\" x2=\"307.826\" y2=\"164.111\" stroke-linecap=\"round\" style=\"stroke:black;stroke-width:2\" /><line x1=\"307.826\" y1=\"164.111\" x2=\"309.078\" y2=\"166.279\" stroke-linecap=\"round\" style=\"stroke:black;stroke-width:2\" /><line x1=\"309.078\" y1=\"166.279\" x2=\"311.331\" y2=\"166.279\" stroke-linecap=\"round\" style=\"stroke:black;stroke-width:2\" /><line x1=\"311.331\" y1=\"166.279\" x2=\"312.345\" y2=\"164.523\" stroke-linecap=\"round\" style=\"stroke:black;stroke-width:2\" /><line x1=\"312.345\" y1=\"164.523\" x2=\"311.433\" y2=\"162.943\" stroke-linecap=\"round\" style=\"stroke:black;stroke-width:2\" /><line x1=\"311.433\" y1=\"162.943\" x2=\"309.791\" y2=\"162.943\" stroke-linecap=\"round\" style=\"stroke:black;stroke-width:2\" /><line x1=\"309.791\" y1=\"162.943\" x2=\"309.052\" y2=\"164.223\" stroke-linecap=\"round\" style=\"stroke:black;stroke-width:2\" /><line x1=\"309.052\" y1=\"164.223\" x2=\"309.717\" y2=\"165.375\" stroke-linecap=\"round\" style=\"stroke:black;stroke-width:2\" /><line x1=\"309.717\" y1=\"165.375\" x2=\"310.914\" y2=\"165.375\" stroke-linecap=\"round\" style=\"stroke:black;stroke-width:2\" /><line x1=\"310.914\" y1=\"165.375\" x2=\"311.453\" y2=\"164.442\" stroke-linecap=\"round\" style=\"stroke:black;stroke-width:2\" />\n",
              "        \n",
              "        \n",
              "        <g id=\"turtle2\" visibility=\"visible\" transform=\"rotate(210,311.453,164.442) translate(311.453, 164.442)\">\n",
              "<polygon points=\"0,16 2,14 1,10 4,7 7,9 9,8 6,5 7,1 5,-3 8,-6 6,-8 4,-5 0,-7 -4,-5 -6,-8 -8,-6 -5,-3 -7,1 -6,5 -9,8 -7,9 -4,7 -1,10 -2,14\" transform=\"skewX(0) scale(1,1)\" style=\"stroke:black;stroke-width:1;fill:black\" />\n",
              "<animateTransform id = \"one\" attributeName=\"transform\" \n",
              "                      type=\"scale\"\n",
              "                      from=\"1 1\" to=\"1 1\"\n",
              "                      begin=\"0s\" dur=\"0.01s\"\n",
              "                      repeatCount=\"1\"\n",
              "                      additive=\"sum\"\n",
              "                      fill=\"freeze\"\n",
              "                /><animateTransform attributeName=\"transform\"\n",
              "                    type=\"rotate\"\n",
              "                    from=\"0 0 0\" to =\"-60 0 0\"\n",
              "                    begin=\"one.end\" dur=\"0.05333333333333333s\"\n",
              "                    repeatCount=\"1\"\n",
              "                    additive=\"sum\"\n",
              "                    fill=\"freeze\"\n",
              "                /></g>\n",
              "      </svg>\n",
              "    "
            ],
            "text/plain": [
              "<IPython.core.display.HTML object>"
            ]
          },
          "metadata": {},
          "output_type": "display_data"
        }
      ],
      "source": [
        "import ColabTurtlePlus.Turtle as t\n",
        "\n",
        "t.clearscreen()      # it's good to start every cell with this\n",
        "t.setup(500,500)     # setup the drawing area to be 500 pixels x 500 pixels\n",
        "t.showborder()       # show the border of the drawing area\n",
        "\n",
        "t.bgcolor(\"AliceBlue\")   # adjust to your preferences!\n",
        "t.shape(\"turtle2\")\n",
        "t.speed(10)\n",
        "t.width(2)\n",
        "\n",
        "def spiral(initialLength, angle, multiplier):\n",
        "    \"\"\"Spiral-drawing function.  Arguments:\n",
        "       initialLength = the length of the first leg of the spiral\n",
        "       angle = the angle, in degrees, turned after each spiral's leg\n",
        "       multiplier = the fraction by which each leg of the spiral changes\n",
        "    \"\"\"\n",
        "    if initialLength <= 1 or initialLength > 1000:\n",
        "        return      # No more to draw, this base case stops the recursion\n",
        "    else:\n",
        "        t.forward(initialLength)\n",
        "        t.left(angle)\n",
        "        spiral(initialLength*multiplier, angle, multiplier)\n",
        "        # You will want to recurse here! That is, make a new call to spiral:\n",
        "        # use this: spiral( _______________  , ______  , ____ )  # What inputs?!\n",
        "\n",
        "spiral(100,60,.9)\n",
        "\n"
      ]
    },
    {
      "cell_type": "markdown",
      "metadata": {
        "id": "DQhAcY_KlpAH"
      },
      "source": [
        "### <font color = \"blue\"> **Additional hints/explanation on `spiral`...**\n",
        "\n",
        "It's helpful to take in `spiral`'s self-similarity. Here's an overview and explanation from the slides:\n",
        "\n",
        "\n",
        "<img src = \"https://www.cs.hmc.edu/twiki/pub/CS5/Lab2Turtle/spiralslide.png\" height=\"400px\">\n",
        "\n",
        "\n",
        "\n",
        "The spiral function should use the turtle drawing functions to create a spiral that\n",
        "+ Draws its first segment of length `initialLength`\n",
        "+ then turns `angle` degrees to the left after that segment, then\n",
        "+ calls `spiral` recursively, using `multiplier` to change its first argument - the second and third arguments won't change!\n",
        "\n",
        "**Base cases!**\n",
        "\n",
        "Note that, for your base case, the code checks if the `initialLength` is too big or too small... and then stops.\n",
        "\n",
        "<hr>\n",
        "\n",
        "For fun, you might try these calls.\n",
        "```\n",
        "spiral(100, 90, 0.9)\n",
        "spiral(100, 170, 0.95) # More of a \"star\" than a spiral...\n",
        "spiral(400, 120, 0.8) # A triangular spiral...\n",
        "```\n",
        "\n",
        "Variations welcome!\n",
        "\n",
        "Below is a picture from our version of the call `spiral(300, 170, 0.99)`:\n",
        "\n",
        "<img src = \"https://www.cs.hmc.edu/twiki/pub/CS5Fall2022/Lab2Turtle/spiral_170.png\" height=\"150px\">\n",
        "\n",
        "\n",
        "Create a spiral you like and leave your favorite spiral in the notebook --\n",
        "\n",
        "We look forward to seeing all of the <i>spiraling</i> going on...\n",
        "\n",
        "\n",
        "\n"
      ]
    },
    {
      "cell_type": "markdown",
      "metadata": {
        "id": "chvTfOrEoheL"
      },
      "source": [
        " ## <font color = \"blue\"> <b>Turtle Task #3: <i>Recursive Chai</i></b>  </font>\n",
        "\n",
        "The `tri` and `spiral` examples demonstrate what's called <i><u>single-path</u></i> recursion:\n",
        "+ the recursive calls are made a single time, so that\n",
        "+ there is a single, step-by-step path taken.\n",
        "\n",
        "\n",
        "\n",
        "But for us, the <i>spiral</i> into the depths of recursion has only begun!\n",
        "\n",
        "Next up: <i><b>Branching</b></i> recursion!\n"
      ]
    },
    {
      "cell_type": "markdown",
      "metadata": {
        "id": "A1pc8iIyo7JP"
      },
      "source": [
        "## <font color=\"#f96d7b\"><b>The `chai` function: branching recursion </b> <font size = \"-1\"> [10 points]</font>\n",
        "\n",
        "Now to _branching-recursion_.\n",
        "\n",
        "Branching is when recursion is at its most \"magical.\"\n",
        "\n",
        "As a result, _writing_, branching recursion can feel especially mind-bending!\n",
        "\n",
        "In the end, all of the \"magic's\" tricks are revealed: it's fully understandable. (It does take some getting used to.)\n",
        "\n",
        " Here is a starter code for the `chai` function from class. It's not recursive, yet:"
      ]
    },
    {
      "cell_type": "code",
      "execution_count": 65,
      "metadata": {
        "colab": {
          "base_uri": "https://localhost:8080/",
          "height": 521
        },
        "id": "4i16KGnQDc7o",
        "outputId": "f5738b2a-3b33-4d42-b418-b66440fb210b"
      },
      "outputs": [
        {
          "data": {
            "text/html": [
              "\n",
              "      <svg width=\"500\" height=\"500\">  \n",
              "        <rect width=\"100%\" height=\"100%\" style=\"fill:aliceblue;stroke:gray;stroke-width:1\"/>\n",
              "        \n",
              "        \n",
              "        <line x1=\"250.0\" y1=\"250.0\" x2=\"350.0\" y2=\"250.0\" stroke-linecap=\"round\" style=\"stroke:black;stroke-width:2\" /><line x1=\"350.0\" y1=\"250.0\" x2=\"350.0\" y2=\"200.0\" stroke-linecap=\"round\" style=\"stroke:black;stroke-width:2\" /><line x1=\"350.0\" y1=\"200.0\" x2=\"400.0\" y2=\"200.0\" stroke-linecap=\"round\" style=\"stroke:black;stroke-width:2\" /><line x1=\"400.0\" y1=\"200.0\" x2=\"400.0\" y2=\"175.0\" stroke-linecap=\"round\" style=\"stroke:black;stroke-width:2\" /><line x1=\"400.0\" y1=\"175.0\" x2=\"425.0\" y2=\"175.0\" stroke-linecap=\"round\" style=\"stroke:black;stroke-width:2\" /><line x1=\"425.0\" y1=\"175.0\" x2=\"425.0\" y2=\"162.5\" stroke-linecap=\"round\" style=\"stroke:black;stroke-width:2\" /><line x1=\"425.0\" y1=\"162.5\" x2=\"437.5\" y2=\"162.5\" stroke-linecap=\"round\" style=\"stroke:black;stroke-width:2\" /><line x1=\"437.5\" y1=\"162.5\" x2=\"437.5\" y2=\"156.25\" stroke-linecap=\"round\" style=\"stroke:black;stroke-width:2\" /><line x1=\"437.5\" y1=\"156.25\" x2=\"443.75\" y2=\"156.25\" stroke-linecap=\"round\" style=\"stroke:black;stroke-width:2\" /><line x1=\"443.75\" y1=\"156.25\" x2=\"443.75\" y2=\"153.125\" stroke-linecap=\"round\" style=\"stroke:black;stroke-width:2\" /><line x1=\"443.75\" y1=\"153.125\" x2=\"443.75\" y2=\"159.375\" stroke-linecap=\"round\" style=\"stroke:black;stroke-width:2\" /><line x1=\"443.75\" y1=\"159.375\" x2=\"443.75\" y2=\"156.25\" stroke-linecap=\"round\" style=\"stroke:black;stroke-width:2\" /><line x1=\"443.75\" y1=\"156.25\" x2=\"437.5\" y2=\"156.25\" stroke-linecap=\"round\" style=\"stroke:black;stroke-width:2\" /><line x1=\"437.5\" y1=\"156.25\" x2=\"437.5\" y2=\"168.75\" stroke-linecap=\"round\" style=\"stroke:black;stroke-width:2\" /><line x1=\"437.5\" y1=\"168.75\" x2=\"443.75\" y2=\"168.75\" stroke-linecap=\"round\" style=\"stroke:black;stroke-width:2\" /><line x1=\"443.75\" y1=\"168.75\" x2=\"443.75\" y2=\"165.625\" stroke-linecap=\"round\" style=\"stroke:black;stroke-width:2\" /><line x1=\"443.75\" y1=\"165.625\" x2=\"443.75\" y2=\"171.875\" stroke-linecap=\"round\" style=\"stroke:black;stroke-width:2\" /><line x1=\"443.75\" y1=\"171.875\" x2=\"443.75\" y2=\"168.75\" stroke-linecap=\"round\" style=\"stroke:black;stroke-width:2\" /><line x1=\"443.75\" y1=\"168.75\" x2=\"437.5\" y2=\"168.75\" stroke-linecap=\"round\" style=\"stroke:black;stroke-width:2\" /><line x1=\"437.5\" y1=\"168.75\" x2=\"437.5\" y2=\"162.5\" stroke-linecap=\"round\" style=\"stroke:black;stroke-width:2\" /><line x1=\"437.5\" y1=\"162.5\" x2=\"425.0\" y2=\"162.5\" stroke-linecap=\"round\" style=\"stroke:black;stroke-width:2\" /><line x1=\"425.0\" y1=\"162.5\" x2=\"425.0\" y2=\"187.5\" stroke-linecap=\"round\" style=\"stroke:black;stroke-width:2\" /><line x1=\"425.0\" y1=\"187.5\" x2=\"437.5\" y2=\"187.5\" stroke-linecap=\"round\" style=\"stroke:black;stroke-width:2\" /><line x1=\"437.5\" y1=\"187.5\" x2=\"437.5\" y2=\"181.25\" stroke-linecap=\"round\" style=\"stroke:black;stroke-width:2\" /><line x1=\"437.5\" y1=\"181.25\" x2=\"443.75\" y2=\"181.25\" stroke-linecap=\"round\" style=\"stroke:black;stroke-width:2\" /><line x1=\"443.75\" y1=\"181.25\" x2=\"443.75\" y2=\"178.125\" stroke-linecap=\"round\" style=\"stroke:black;stroke-width:2\" /><line x1=\"443.75\" y1=\"178.125\" x2=\"443.75\" y2=\"184.375\" stroke-linecap=\"round\" style=\"stroke:black;stroke-width:2\" /><line x1=\"443.75\" y1=\"184.375\" x2=\"443.75\" y2=\"181.25\" stroke-linecap=\"round\" style=\"stroke:black;stroke-width:2\" /><line x1=\"443.75\" y1=\"181.25\" x2=\"437.5\" y2=\"181.25\" stroke-linecap=\"round\" style=\"stroke:black;stroke-width:2\" /><line x1=\"437.5\" y1=\"181.25\" x2=\"437.5\" y2=\"193.75\" stroke-linecap=\"round\" style=\"stroke:black;stroke-width:2\" /><line x1=\"437.5\" y1=\"193.75\" x2=\"443.75\" y2=\"193.75\" stroke-linecap=\"round\" style=\"stroke:black;stroke-width:2\" /><line x1=\"443.75\" y1=\"193.75\" x2=\"443.75\" y2=\"190.625\" stroke-linecap=\"round\" style=\"stroke:black;stroke-width:2\" /><line x1=\"443.75\" y1=\"190.625\" x2=\"443.75\" y2=\"196.875\" stroke-linecap=\"round\" style=\"stroke:black;stroke-width:2\" /><line x1=\"443.75\" y1=\"196.875\" x2=\"443.75\" y2=\"193.75\" stroke-linecap=\"round\" style=\"stroke:black;stroke-width:2\" /><line x1=\"443.75\" y1=\"193.75\" x2=\"437.5\" y2=\"193.75\" stroke-linecap=\"round\" style=\"stroke:black;stroke-width:2\" /><line x1=\"437.5\" y1=\"193.75\" x2=\"437.5\" y2=\"187.5\" stroke-linecap=\"round\" style=\"stroke:black;stroke-width:2\" /><line x1=\"437.5\" y1=\"187.5\" x2=\"425.0\" y2=\"187.5\" stroke-linecap=\"round\" style=\"stroke:black;stroke-width:2\" /><line x1=\"425.0\" y1=\"187.5\" x2=\"425.0\" y2=\"175.0\" stroke-linecap=\"round\" style=\"stroke:black;stroke-width:2\" /><line x1=\"425.0\" y1=\"175.0\" x2=\"400.0\" y2=\"175.0\" stroke-linecap=\"round\" style=\"stroke:black;stroke-width:2\" /><line x1=\"400.0\" y1=\"175.0\" x2=\"400.0\" y2=\"225.0\" stroke-linecap=\"round\" style=\"stroke:black;stroke-width:2\" /><line x1=\"400.0\" y1=\"225.0\" x2=\"425.0\" y2=\"225.0\" stroke-linecap=\"round\" style=\"stroke:black;stroke-width:2\" /><line x1=\"425.0\" y1=\"225.0\" x2=\"425.0\" y2=\"212.5\" stroke-linecap=\"round\" style=\"stroke:black;stroke-width:2\" /><line x1=\"425.0\" y1=\"212.5\" x2=\"437.5\" y2=\"212.5\" stroke-linecap=\"round\" style=\"stroke:black;stroke-width:2\" /><line x1=\"437.5\" y1=\"212.5\" x2=\"437.5\" y2=\"206.25\" stroke-linecap=\"round\" style=\"stroke:black;stroke-width:2\" /><line x1=\"437.5\" y1=\"206.25\" x2=\"443.75\" y2=\"206.25\" stroke-linecap=\"round\" style=\"stroke:black;stroke-width:2\" /><line x1=\"443.75\" y1=\"206.25\" x2=\"443.75\" y2=\"203.125\" stroke-linecap=\"round\" style=\"stroke:black;stroke-width:2\" /><line x1=\"443.75\" y1=\"203.125\" x2=\"443.75\" y2=\"209.375\" stroke-linecap=\"round\" style=\"stroke:black;stroke-width:2\" /><line x1=\"443.75\" y1=\"209.375\" x2=\"443.75\" y2=\"206.25\" stroke-linecap=\"round\" style=\"stroke:black;stroke-width:2\" /><line x1=\"443.75\" y1=\"206.25\" x2=\"437.5\" y2=\"206.25\" stroke-linecap=\"round\" style=\"stroke:black;stroke-width:2\" /><line x1=\"437.5\" y1=\"206.25\" x2=\"437.5\" y2=\"218.75\" stroke-linecap=\"round\" style=\"stroke:black;stroke-width:2\" /><line x1=\"437.5\" y1=\"218.75\" x2=\"443.75\" y2=\"218.75\" stroke-linecap=\"round\" style=\"stroke:black;stroke-width:2\" /><line x1=\"443.75\" y1=\"218.75\" x2=\"443.75\" y2=\"215.625\" stroke-linecap=\"round\" style=\"stroke:black;stroke-width:2\" /><line x1=\"443.75\" y1=\"215.625\" x2=\"443.75\" y2=\"221.875\" stroke-linecap=\"round\" style=\"stroke:black;stroke-width:2\" /><line x1=\"443.75\" y1=\"221.875\" x2=\"443.75\" y2=\"218.75\" stroke-linecap=\"round\" style=\"stroke:black;stroke-width:2\" /><line x1=\"443.75\" y1=\"218.75\" x2=\"437.5\" y2=\"218.75\" stroke-linecap=\"round\" style=\"stroke:black;stroke-width:2\" /><line x1=\"437.5\" y1=\"218.75\" x2=\"437.5\" y2=\"212.5\" stroke-linecap=\"round\" style=\"stroke:black;stroke-width:2\" /><line x1=\"437.5\" y1=\"212.5\" x2=\"425.0\" y2=\"212.5\" stroke-linecap=\"round\" style=\"stroke:black;stroke-width:2\" /><line x1=\"425.0\" y1=\"212.5\" x2=\"425.0\" y2=\"237.5\" stroke-linecap=\"round\" style=\"stroke:black;stroke-width:2\" /><line x1=\"425.0\" y1=\"237.5\" x2=\"437.5\" y2=\"237.5\" stroke-linecap=\"round\" style=\"stroke:black;stroke-width:2\" /><line x1=\"437.5\" y1=\"237.5\" x2=\"437.5\" y2=\"231.25\" stroke-linecap=\"round\" style=\"stroke:black;stroke-width:2\" /><line x1=\"437.5\" y1=\"231.25\" x2=\"443.75\" y2=\"231.25\" stroke-linecap=\"round\" style=\"stroke:black;stroke-width:2\" /><line x1=\"443.75\" y1=\"231.25\" x2=\"443.75\" y2=\"228.125\" stroke-linecap=\"round\" style=\"stroke:black;stroke-width:2\" /><line x1=\"443.75\" y1=\"228.125\" x2=\"443.75\" y2=\"234.375\" stroke-linecap=\"round\" style=\"stroke:black;stroke-width:2\" /><line x1=\"443.75\" y1=\"234.375\" x2=\"443.75\" y2=\"231.25\" stroke-linecap=\"round\" style=\"stroke:black;stroke-width:2\" /><line x1=\"443.75\" y1=\"231.25\" x2=\"437.5\" y2=\"231.25\" stroke-linecap=\"round\" style=\"stroke:black;stroke-width:2\" /><line x1=\"437.5\" y1=\"231.25\" x2=\"437.5\" y2=\"243.75\" stroke-linecap=\"round\" style=\"stroke:black;stroke-width:2\" /><line x1=\"437.5\" y1=\"243.75\" x2=\"443.75\" y2=\"243.75\" stroke-linecap=\"round\" style=\"stroke:black;stroke-width:2\" /><line x1=\"443.75\" y1=\"243.75\" x2=\"443.75\" y2=\"240.625\" stroke-linecap=\"round\" style=\"stroke:black;stroke-width:2\" /><line x1=\"443.75\" y1=\"240.625\" x2=\"443.75\" y2=\"246.875\" stroke-linecap=\"round\" style=\"stroke:black;stroke-width:2\" /><line x1=\"443.75\" y1=\"246.875\" x2=\"443.75\" y2=\"243.75\" stroke-linecap=\"round\" style=\"stroke:black;stroke-width:2\" /><line x1=\"443.75\" y1=\"243.75\" x2=\"437.5\" y2=\"243.75\" stroke-linecap=\"round\" style=\"stroke:black;stroke-width:2\" /><line x1=\"437.5\" y1=\"243.75\" x2=\"437.5\" y2=\"237.5\" stroke-linecap=\"round\" style=\"stroke:black;stroke-width:2\" /><line x1=\"437.5\" y1=\"237.5\" x2=\"425.0\" y2=\"237.5\" stroke-linecap=\"round\" style=\"stroke:black;stroke-width:2\" /><line x1=\"425.0\" y1=\"237.5\" x2=\"425.0\" y2=\"225.0\" stroke-linecap=\"round\" style=\"stroke:black;stroke-width:2\" /><line x1=\"425.0\" y1=\"225.0\" x2=\"400.0\" y2=\"225.0\" stroke-linecap=\"round\" style=\"stroke:black;stroke-width:2\" /><line x1=\"400.0\" y1=\"225.0\" x2=\"400.0\" y2=\"200.0\" stroke-linecap=\"round\" style=\"stroke:black;stroke-width:2\" /><line x1=\"400.0\" y1=\"200.0\" x2=\"350.0\" y2=\"200.0\" stroke-linecap=\"round\" style=\"stroke:black;stroke-width:2\" /><line x1=\"350.0\" y1=\"200.0\" x2=\"350.0\" y2=\"300.0\" stroke-linecap=\"round\" style=\"stroke:black;stroke-width:2\" /><line x1=\"350.0\" y1=\"300.0\" x2=\"400.0\" y2=\"300.0\" stroke-linecap=\"round\" style=\"stroke:black;stroke-width:2\" /><line x1=\"400.0\" y1=\"300.0\" x2=\"400.0\" y2=\"275.0\" stroke-linecap=\"round\" style=\"stroke:black;stroke-width:2\" /><line x1=\"400.0\" y1=\"275.0\" x2=\"425.0\" y2=\"275.0\" stroke-linecap=\"round\" style=\"stroke:black;stroke-width:2\" /><line x1=\"425.0\" y1=\"275.0\" x2=\"425.0\" y2=\"262.5\" stroke-linecap=\"round\" style=\"stroke:black;stroke-width:2\" /><line x1=\"425.0\" y1=\"262.5\" x2=\"437.5\" y2=\"262.5\" stroke-linecap=\"round\" style=\"stroke:black;stroke-width:2\" /><line x1=\"437.5\" y1=\"262.5\" x2=\"437.5\" y2=\"256.25\" stroke-linecap=\"round\" style=\"stroke:black;stroke-width:2\" /><line x1=\"437.5\" y1=\"256.25\" x2=\"443.75\" y2=\"256.25\" stroke-linecap=\"round\" style=\"stroke:black;stroke-width:2\" /><line x1=\"443.75\" y1=\"256.25\" x2=\"443.75\" y2=\"253.125\" stroke-linecap=\"round\" style=\"stroke:black;stroke-width:2\" /><line x1=\"443.75\" y1=\"253.125\" x2=\"443.75\" y2=\"259.375\" stroke-linecap=\"round\" style=\"stroke:black;stroke-width:2\" /><line x1=\"443.75\" y1=\"259.375\" x2=\"443.75\" y2=\"256.25\" stroke-linecap=\"round\" style=\"stroke:black;stroke-width:2\" /><line x1=\"443.75\" y1=\"256.25\" x2=\"437.5\" y2=\"256.25\" stroke-linecap=\"round\" style=\"stroke:black;stroke-width:2\" /><line x1=\"437.5\" y1=\"256.25\" x2=\"437.5\" y2=\"268.75\" stroke-linecap=\"round\" style=\"stroke:black;stroke-width:2\" /><line x1=\"437.5\" y1=\"268.75\" x2=\"443.75\" y2=\"268.75\" stroke-linecap=\"round\" style=\"stroke:black;stroke-width:2\" /><line x1=\"443.75\" y1=\"268.75\" x2=\"443.75\" y2=\"265.625\" stroke-linecap=\"round\" style=\"stroke:black;stroke-width:2\" /><line x1=\"443.75\" y1=\"265.625\" x2=\"443.75\" y2=\"271.875\" stroke-linecap=\"round\" style=\"stroke:black;stroke-width:2\" /><line x1=\"443.75\" y1=\"271.875\" x2=\"443.75\" y2=\"268.75\" stroke-linecap=\"round\" style=\"stroke:black;stroke-width:2\" /><line x1=\"443.75\" y1=\"268.75\" x2=\"437.5\" y2=\"268.75\" stroke-linecap=\"round\" style=\"stroke:black;stroke-width:2\" /><line x1=\"437.5\" y1=\"268.75\" x2=\"437.5\" y2=\"262.5\" stroke-linecap=\"round\" style=\"stroke:black;stroke-width:2\" /><line x1=\"437.5\" y1=\"262.5\" x2=\"425.0\" y2=\"262.5\" stroke-linecap=\"round\" style=\"stroke:black;stroke-width:2\" /><line x1=\"425.0\" y1=\"262.5\" x2=\"425.0\" y2=\"287.5\" stroke-linecap=\"round\" style=\"stroke:black;stroke-width:2\" /><line x1=\"425.0\" y1=\"287.5\" x2=\"437.5\" y2=\"287.5\" stroke-linecap=\"round\" style=\"stroke:black;stroke-width:2\" /><line x1=\"437.5\" y1=\"287.5\" x2=\"437.5\" y2=\"281.25\" stroke-linecap=\"round\" style=\"stroke:black;stroke-width:2\" /><line x1=\"437.5\" y1=\"281.25\" x2=\"443.75\" y2=\"281.25\" stroke-linecap=\"round\" style=\"stroke:black;stroke-width:2\" /><line x1=\"443.75\" y1=\"281.25\" x2=\"443.75\" y2=\"278.125\" stroke-linecap=\"round\" style=\"stroke:black;stroke-width:2\" /><line x1=\"443.75\" y1=\"278.125\" x2=\"443.75\" y2=\"284.375\" stroke-linecap=\"round\" style=\"stroke:black;stroke-width:2\" /><line x1=\"443.75\" y1=\"284.375\" x2=\"443.75\" y2=\"281.25\" stroke-linecap=\"round\" style=\"stroke:black;stroke-width:2\" /><line x1=\"443.75\" y1=\"281.25\" x2=\"437.5\" y2=\"281.25\" stroke-linecap=\"round\" style=\"stroke:black;stroke-width:2\" /><line x1=\"437.5\" y1=\"281.25\" x2=\"437.5\" y2=\"293.75\" stroke-linecap=\"round\" style=\"stroke:black;stroke-width:2\" /><line x1=\"437.5\" y1=\"293.75\" x2=\"443.75\" y2=\"293.75\" stroke-linecap=\"round\" style=\"stroke:black;stroke-width:2\" /><line x1=\"443.75\" y1=\"293.75\" x2=\"443.75\" y2=\"290.625\" stroke-linecap=\"round\" style=\"stroke:black;stroke-width:2\" /><line x1=\"443.75\" y1=\"290.625\" x2=\"443.75\" y2=\"296.875\" stroke-linecap=\"round\" style=\"stroke:black;stroke-width:2\" /><line x1=\"443.75\" y1=\"296.875\" x2=\"443.75\" y2=\"293.75\" stroke-linecap=\"round\" style=\"stroke:black;stroke-width:2\" /><line x1=\"443.75\" y1=\"293.75\" x2=\"437.5\" y2=\"293.75\" stroke-linecap=\"round\" style=\"stroke:black;stroke-width:2\" /><line x1=\"437.5\" y1=\"293.75\" x2=\"437.5\" y2=\"287.5\" stroke-linecap=\"round\" style=\"stroke:black;stroke-width:2\" /><line x1=\"437.5\" y1=\"287.5\" x2=\"425.0\" y2=\"287.5\" stroke-linecap=\"round\" style=\"stroke:black;stroke-width:2\" /><line x1=\"425.0\" y1=\"287.5\" x2=\"425.0\" y2=\"275.0\" stroke-linecap=\"round\" style=\"stroke:black;stroke-width:2\" /><line x1=\"425.0\" y1=\"275.0\" x2=\"400.0\" y2=\"275.0\" stroke-linecap=\"round\" style=\"stroke:black;stroke-width:2\" /><line x1=\"400.0\" y1=\"275.0\" x2=\"400.0\" y2=\"325.0\" stroke-linecap=\"round\" style=\"stroke:black;stroke-width:2\" /><line x1=\"400.0\" y1=\"325.0\" x2=\"425.0\" y2=\"325.0\" stroke-linecap=\"round\" style=\"stroke:black;stroke-width:2\" /><line x1=\"425.0\" y1=\"325.0\" x2=\"425.0\" y2=\"312.5\" stroke-linecap=\"round\" style=\"stroke:black;stroke-width:2\" /><line x1=\"425.0\" y1=\"312.5\" x2=\"437.5\" y2=\"312.5\" stroke-linecap=\"round\" style=\"stroke:black;stroke-width:2\" /><line x1=\"437.5\" y1=\"312.5\" x2=\"437.5\" y2=\"306.25\" stroke-linecap=\"round\" style=\"stroke:black;stroke-width:2\" /><line x1=\"437.5\" y1=\"306.25\" x2=\"443.75\" y2=\"306.25\" stroke-linecap=\"round\" style=\"stroke:black;stroke-width:2\" /><line x1=\"443.75\" y1=\"306.25\" x2=\"443.75\" y2=\"303.125\" stroke-linecap=\"round\" style=\"stroke:black;stroke-width:2\" /><line x1=\"443.75\" y1=\"303.125\" x2=\"443.75\" y2=\"309.375\" stroke-linecap=\"round\" style=\"stroke:black;stroke-width:2\" /><line x1=\"443.75\" y1=\"309.375\" x2=\"443.75\" y2=\"306.25\" stroke-linecap=\"round\" style=\"stroke:black;stroke-width:2\" /><line x1=\"443.75\" y1=\"306.25\" x2=\"437.5\" y2=\"306.25\" stroke-linecap=\"round\" style=\"stroke:black;stroke-width:2\" /><line x1=\"437.5\" y1=\"306.25\" x2=\"437.5\" y2=\"318.75\" stroke-linecap=\"round\" style=\"stroke:black;stroke-width:2\" /><line x1=\"437.5\" y1=\"318.75\" x2=\"443.75\" y2=\"318.75\" stroke-linecap=\"round\" style=\"stroke:black;stroke-width:2\" /><line x1=\"443.75\" y1=\"318.75\" x2=\"443.75\" y2=\"315.625\" stroke-linecap=\"round\" style=\"stroke:black;stroke-width:2\" /><line x1=\"443.75\" y1=\"315.625\" x2=\"443.75\" y2=\"321.875\" stroke-linecap=\"round\" style=\"stroke:black;stroke-width:2\" /><line x1=\"443.75\" y1=\"321.875\" x2=\"443.75\" y2=\"318.75\" stroke-linecap=\"round\" style=\"stroke:black;stroke-width:2\" /><line x1=\"443.75\" y1=\"318.75\" x2=\"437.5\" y2=\"318.75\" stroke-linecap=\"round\" style=\"stroke:black;stroke-width:2\" /><line x1=\"437.5\" y1=\"318.75\" x2=\"437.5\" y2=\"312.5\" stroke-linecap=\"round\" style=\"stroke:black;stroke-width:2\" /><line x1=\"437.5\" y1=\"312.5\" x2=\"425.0\" y2=\"312.5\" stroke-linecap=\"round\" style=\"stroke:black;stroke-width:2\" /><line x1=\"425.0\" y1=\"312.5\" x2=\"425.0\" y2=\"337.5\" stroke-linecap=\"round\" style=\"stroke:black;stroke-width:2\" /><line x1=\"425.0\" y1=\"337.5\" x2=\"437.5\" y2=\"337.5\" stroke-linecap=\"round\" style=\"stroke:black;stroke-width:2\" /><line x1=\"437.5\" y1=\"337.5\" x2=\"437.5\" y2=\"331.25\" stroke-linecap=\"round\" style=\"stroke:black;stroke-width:2\" /><line x1=\"437.5\" y1=\"331.25\" x2=\"443.75\" y2=\"331.25\" stroke-linecap=\"round\" style=\"stroke:black;stroke-width:2\" /><line x1=\"443.75\" y1=\"331.25\" x2=\"443.75\" y2=\"328.125\" stroke-linecap=\"round\" style=\"stroke:black;stroke-width:2\" /><line x1=\"443.75\" y1=\"328.125\" x2=\"443.75\" y2=\"334.375\" stroke-linecap=\"round\" style=\"stroke:black;stroke-width:2\" /><line x1=\"443.75\" y1=\"334.375\" x2=\"443.75\" y2=\"331.25\" stroke-linecap=\"round\" style=\"stroke:black;stroke-width:2\" /><line x1=\"443.75\" y1=\"331.25\" x2=\"437.5\" y2=\"331.25\" stroke-linecap=\"round\" style=\"stroke:black;stroke-width:2\" /><line x1=\"437.5\" y1=\"331.25\" x2=\"437.5\" y2=\"343.75\" stroke-linecap=\"round\" style=\"stroke:black;stroke-width:2\" /><line x1=\"437.5\" y1=\"343.75\" x2=\"443.75\" y2=\"343.75\" stroke-linecap=\"round\" style=\"stroke:black;stroke-width:2\" /><line x1=\"443.75\" y1=\"343.75\" x2=\"443.75\" y2=\"340.625\" stroke-linecap=\"round\" style=\"stroke:black;stroke-width:2\" /><line x1=\"443.75\" y1=\"340.625\" x2=\"443.75\" y2=\"346.875\" stroke-linecap=\"round\" style=\"stroke:black;stroke-width:2\" /><line x1=\"443.75\" y1=\"346.875\" x2=\"443.75\" y2=\"343.75\" stroke-linecap=\"round\" style=\"stroke:black;stroke-width:2\" /><line x1=\"443.75\" y1=\"343.75\" x2=\"437.5\" y2=\"343.75\" stroke-linecap=\"round\" style=\"stroke:black;stroke-width:2\" /><line x1=\"437.5\" y1=\"343.75\" x2=\"437.5\" y2=\"337.5\" stroke-linecap=\"round\" style=\"stroke:black;stroke-width:2\" /><line x1=\"437.5\" y1=\"337.5\" x2=\"425.0\" y2=\"337.5\" stroke-linecap=\"round\" style=\"stroke:black;stroke-width:2\" /><line x1=\"425.0\" y1=\"337.5\" x2=\"425.0\" y2=\"325.0\" stroke-linecap=\"round\" style=\"stroke:black;stroke-width:2\" /><line x1=\"425.0\" y1=\"325.0\" x2=\"400.0\" y2=\"325.0\" stroke-linecap=\"round\" style=\"stroke:black;stroke-width:2\" /><line x1=\"400.0\" y1=\"325.0\" x2=\"400.0\" y2=\"300.0\" stroke-linecap=\"round\" style=\"stroke:black;stroke-width:2\" /><line x1=\"400.0\" y1=\"300.0\" x2=\"350.0\" y2=\"300.0\" stroke-linecap=\"round\" style=\"stroke:black;stroke-width:2\" /><line x1=\"350.0\" y1=\"300.0\" x2=\"350.0\" y2=\"250.0\" stroke-linecap=\"round\" style=\"stroke:black;stroke-width:2\" /><line x1=\"350.0\" y1=\"250.0\" x2=\"340.0\" y2=\"250.0\" stroke-linecap=\"round\" style=\"stroke:black;stroke-width:2\" /><line x1=\"340.0\" y1=\"250.0\" x2=\"330.0\" y2=\"250.0\" stroke-linecap=\"round\" style=\"stroke:black;stroke-width:2\" /><line x1=\"330.0\" y1=\"250.0\" x2=\"320.0\" y2=\"250.0\" stroke-linecap=\"round\" style=\"stroke:black;stroke-width:2\" /><line x1=\"320.0\" y1=\"250.0\" x2=\"310.0\" y2=\"250.0\" stroke-linecap=\"round\" style=\"stroke:black;stroke-width:2\" /><line x1=\"310.0\" y1=\"250.0\" x2=\"300.0\" y2=\"250.0\" stroke-linecap=\"round\" style=\"stroke:black;stroke-width:2\" /><line x1=\"300.0\" y1=\"250.0\" x2=\"290.0\" y2=\"250.0\" stroke-linecap=\"round\" style=\"stroke:black;stroke-width:2\" /><line x1=\"290.0\" y1=\"250.0\" x2=\"280.0\" y2=\"250.0\" stroke-linecap=\"round\" style=\"stroke:black;stroke-width:2\" /><line x1=\"280.0\" y1=\"250.0\" x2=\"270.0\" y2=\"250.0\" stroke-linecap=\"round\" style=\"stroke:black;stroke-width:2\" /><line x1=\"270.0\" y1=\"250.0\" x2=\"260.0\" y2=\"250.0\" stroke-linecap=\"round\" style=\"stroke:black;stroke-width:2\" /><line x1=\"260.0\" y1=\"250.0\" x2=\"250.0\" y2=\"250.0\" stroke-linecap=\"round\" style=\"stroke:black;stroke-width:2\" />\n",
              "        \n",
              "        \n",
              "        <g id=\"turtle2\" visibility=\"visible\" transform=\"rotate(-90,250.0,250.0) translate(250.0, 250.0)\">\n",
              "<polygon points=\"0,16 2,14 1,10 4,7 7,9 9,8 6,5 7,1 5,-3 8,-6 6,-8 4,-5 0,-7 -4,-5 -6,-8 -8,-6 -5,-3 -7,1 -6,5 -9,8 -7,9 -4,7 -1,10 -2,14\" transform=\"skewX(0) scale(1,1)\" style=\"stroke:black;stroke-width:1;fill:black\" />\n",
              "</g>\n",
              "      </svg>\n",
              "    "
            ],
            "text/plain": [
              "<IPython.core.display.HTML object>"
            ]
          },
          "metadata": {},
          "output_type": "display_data"
        }
      ],
      "source": [
        "# The chai function\n",
        "\n",
        "import ColabTurtlePlus.Turtle as t\n",
        "\n",
        "t.clearscreen()      # it's good to start every cell with this\n",
        "t.setup(500,500)     # setup the drawing area to be 500 pixels x 500 pixels\n",
        "t.showborder()       # show the border of the drawing area\n",
        "\n",
        "t.bgcolor(\"AliceBlue\")   # adjust to your preferences!\n",
        "t.shape(\"turtle2\")\n",
        "t.speed(10)\n",
        "t.width(2)\n",
        "\n",
        "def chai(size):\n",
        "    \"\"\"Our chai function!\"\"\"\n",
        "    if (size < 5):\n",
        "        return\n",
        "    else:\n",
        "        t.forward(size)\n",
        "        t.left(90)\n",
        "        t.forward(size/2)\n",
        "        t.right(90)\n",
        "\n",
        "        # first you'll recurse here\n",
        "        chai(size/2)\n",
        "        t.right(90)\n",
        "        t.forward(size)\n",
        "        t.left(90)\n",
        "\n",
        "        # then you'll recurse here, as well!\n",
        "        chai(size/2)\n",
        "        t.left(90)\n",
        "        t.forward(size/2)\n",
        "        t.right(90)\n",
        "        t.backward(size)\n",
        "        return\n",
        "\n",
        "#\n",
        "# This runs the chai function:\n",
        "#\n",
        "chai(100)"
      ]
    },
    {
      "cell_type": "markdown",
      "metadata": {
        "id": "BEEgtG4jDt12"
      },
      "source": [
        "When you run this code with `chai(100)`, you should see a side-view \"T\"!\n",
        "\n",
        "\n",
        "Take a moment to digest what `chai` draws:\n",
        "+ How is the final \"T\" shape formed? You might act it out, on paper or in person!\n",
        "+ Notice where in the \"T\"  the two hash-tagged `# recurse here` comments in the code, at the \"T\"'s top ends...\n",
        "+ Next, you'll add one recursive branch, then a second:\n",
        "\n",
        "To that end, add one branch of recursion to `chai`:\n",
        "\n",
        "+ First, paste this recursive call: `chai(size/2)` between the two calls to `t.right(90)` (i.e., where the first recursion is called for.\n",
        "\n",
        "Try it out!\n",
        "\n",
        "<hr>\n",
        "\n",
        "<b>Next</b>, add a second branch.\n",
        "\n",
        "+ That is, place a _second_ recursive call to `chai(size/2)` between the two calls to `t.left(90)`\n",
        "\n",
        "It's nothing more than a second branch, __but__ because it's called recursively on _all_ of the subbranches, the resulting work - and visual intricacy - is _much more_ than doubled!\n",
        "\n",
        "Again, try it out!\n",
        "\n",
        "<hr>\n",
        "\n",
        "In the end, branching recursion works by creating a smaller version of the overall structure at <b><i>more than one location</i></b> within that structure.\n",
        "\n",
        "\n",
        "Take a moment again here to analyze the final `chai` function, the branching-recursion one:\n",
        "+ Why does it draw such a complex figure?\n",
        "+ Again, it might help to act it out -- or use paper. You'll see that a _lot_ of bookkeeping is going on! The process is keeping track of where in the recursion it is ... <i>at all times</i>.\n",
        "\n",
        "<br>\n",
        "\n",
        "<font size = \"+1.5\">Key idea: <b>Be sure to end where you began</b>\n",
        "\n",
        "***One key*** to making branching recursion \"work\" is _making sure that your turtle __ends__ at the same __location__ that it begins, and ends up __facing the same direction__._ That ensures the statements after the recursive calls are moving the turtle as expected -- and that the subsequent drawing is \"right on schedule\"!\n",
        "\n",
        "No need to customize `chai` here.\n",
        "\n",
        "Instead, you'll customize it with `svtree`, our <i>side-view tree</i>, next:\n",
        "\n"
      ]
    },
    {
      "cell_type": "markdown",
      "metadata": {
        "id": "hztMWEZUM9-9"
      },
      "source": [
        " ## <font color = \"blue\"> <b>Turtle Task #4: The `svtree` function</b>  </font> <font size = \"-1\"> [10 points]</font>\n",
        "\n",
        "\n",
        "Next, you'll write another branching example: the _side-view_ tree.\n",
        "\n",
        "\"Branching\" seems like a particularly appropriate descriptor in this case!\n",
        "\n",
        "The idea is to create a function that draws the _side view_ of a tree, hence `svtree`. Read over this docstring to get a sense of the two arguments. Then, look over the outline and images below the code:"
      ]
    },
    {
      "cell_type": "code",
      "execution_count": 78,
      "metadata": {
        "colab": {
          "base_uri": "https://localhost:8080/",
          "height": 521
        },
        "id": "1FHfXGUENPUG",
        "outputId": "ba40161e-7c5a-4308-860c-6dc4fbdd3f83"
      },
      "outputs": [
        {
          "data": {
            "text/html": [
              "\n",
              "      <svg width=\"500\" height=\"500\">  \n",
              "        <rect width=\"100%\" height=\"100%\" style=\"fill:aliceblue;stroke:gray;stroke-width:1\"/>\n",
              "        \n",
              "        \n",
              "        <line x1=\"100.0\" y1=\"250.0\" x2=\"300.0\" y2=\"250.0\" stroke-linecap=\"round\" style=\"stroke:black;stroke-width:2\" /><line x1=\"300.0\" y1=\"250.0\" x2=\"386.603\" y2=\"200.0\" stroke-linecap=\"round\" style=\"stroke:black;stroke-width:2\" /><line x1=\"386.603\" y1=\"200.0\" x2=\"411.603\" y2=\"156.699\" stroke-linecap=\"round\" style=\"stroke:black;stroke-width:2\" /><line x1=\"411.603\" y1=\"156.699\" x2=\"411.603\" y2=\"131.699\" stroke-linecap=\"round\" style=\"stroke:black;stroke-width:2\" /><line x1=\"411.603\" y1=\"131.699\" x2=\"405.353\" y2=\"120.874\" stroke-linecap=\"round\" style=\"stroke:black;stroke-width:2\" /><line x1=\"405.353\" y1=\"120.874\" x2=\"399.94\" y2=\"117.749\" stroke-linecap=\"round\" style=\"stroke:black;stroke-width:2\" /><line x1=\"399.94\" y1=\"117.749\" x2=\"396.815\" y2=\"117.749\" stroke-linecap=\"round\" style=\"stroke:black;stroke-width:2\" /><line x1=\"396.815\" y1=\"117.749\" x2=\"395.462\" y2=\"118.53\" stroke-linecap=\"round\" style=\"stroke:black;stroke-width:2\" /><line x1=\"395.462\" y1=\"118.53\" x2=\"396.815\" y2=\"117.749\" stroke-linecap=\"round\" style=\"stroke:black;stroke-width:2\" /><line x1=\"396.815\" y1=\"117.749\" x2=\"395.462\" y2=\"116.968\" stroke-linecap=\"round\" style=\"stroke:black;stroke-width:2\" /><line x1=\"395.462\" y1=\"116.968\" x2=\"396.815\" y2=\"117.749\" stroke-linecap=\"round\" style=\"stroke:black;stroke-width:2\" /><line x1=\"396.815\" y1=\"117.749\" x2=\"399.94\" y2=\"117.749\" stroke-linecap=\"round\" style=\"stroke:black;stroke-width:2\" /><line x1=\"399.94\" y1=\"117.749\" x2=\"398.377\" y2=\"115.043\" stroke-linecap=\"round\" style=\"stroke:black;stroke-width:2\" /><line x1=\"398.377\" y1=\"115.043\" x2=\"397.024\" y2=\"114.262\" stroke-linecap=\"round\" style=\"stroke:black;stroke-width:2\" /><line x1=\"397.024\" y1=\"114.262\" x2=\"398.377\" y2=\"115.043\" stroke-linecap=\"round\" style=\"stroke:black;stroke-width:2\" /><line x1=\"398.377\" y1=\"115.043\" x2=\"398.377\" y2=\"113.481\" stroke-linecap=\"round\" style=\"stroke:black;stroke-width:2\" /><line x1=\"398.377\" y1=\"113.481\" x2=\"398.377\" y2=\"115.043\" stroke-linecap=\"round\" style=\"stroke:black;stroke-width:2\" /><line x1=\"398.377\" y1=\"115.043\" x2=\"399.94\" y2=\"117.749\" stroke-linecap=\"round\" style=\"stroke:black;stroke-width:2\" /><line x1=\"399.94\" y1=\"117.749\" x2=\"405.353\" y2=\"120.874\" stroke-linecap=\"round\" style=\"stroke:black;stroke-width:2\" /><line x1=\"405.353\" y1=\"120.874\" x2=\"405.353\" y2=\"114.624\" stroke-linecap=\"round\" style=\"stroke:black;stroke-width:2\" /><line x1=\"405.353\" y1=\"114.624\" x2=\"403.791\" y2=\"111.918\" stroke-linecap=\"round\" style=\"stroke:black;stroke-width:2\" /><line x1=\"403.791\" y1=\"111.918\" x2=\"402.438\" y2=\"111.137\" stroke-linecap=\"round\" style=\"stroke:black;stroke-width:2\" /><line x1=\"402.438\" y1=\"111.137\" x2=\"403.791\" y2=\"111.918\" stroke-linecap=\"round\" style=\"stroke:black;stroke-width:2\" /><line x1=\"403.791\" y1=\"111.918\" x2=\"403.791\" y2=\"110.356\" stroke-linecap=\"round\" style=\"stroke:black;stroke-width:2\" /><line x1=\"403.791\" y1=\"110.356\" x2=\"403.791\" y2=\"111.918\" stroke-linecap=\"round\" style=\"stroke:black;stroke-width:2\" /><line x1=\"403.791\" y1=\"111.918\" x2=\"405.353\" y2=\"114.624\" stroke-linecap=\"round\" style=\"stroke:black;stroke-width:2\" /><line x1=\"405.353\" y1=\"114.624\" x2=\"406.916\" y2=\"111.918\" stroke-linecap=\"round\" style=\"stroke:black;stroke-width:2\" /><line x1=\"406.916\" y1=\"111.918\" x2=\"406.916\" y2=\"110.356\" stroke-linecap=\"round\" style=\"stroke:black;stroke-width:2\" /><line x1=\"406.916\" y1=\"110.356\" x2=\"406.916\" y2=\"111.918\" stroke-linecap=\"round\" style=\"stroke:black;stroke-width:2\" /><line x1=\"406.916\" y1=\"111.918\" x2=\"408.269\" y2=\"111.137\" stroke-linecap=\"round\" style=\"stroke:black;stroke-width:2\" /><line x1=\"408.269\" y1=\"111.137\" x2=\"406.916\" y2=\"111.918\" stroke-linecap=\"round\" style=\"stroke:black;stroke-width:2\" /><line x1=\"406.916\" y1=\"111.918\" x2=\"405.353\" y2=\"114.624\" stroke-linecap=\"round\" style=\"stroke:black;stroke-width:2\" /><line x1=\"405.353\" y1=\"114.624\" x2=\"405.353\" y2=\"120.874\" stroke-linecap=\"round\" style=\"stroke:black;stroke-width:2\" /><line x1=\"405.353\" y1=\"120.874\" x2=\"411.603\" y2=\"131.699\" stroke-linecap=\"round\" style=\"stroke:black;stroke-width:2\" /><line x1=\"411.603\" y1=\"131.699\" x2=\"417.853\" y2=\"120.874\" stroke-linecap=\"round\" style=\"stroke:black;stroke-width:2\" /><line x1=\"417.853\" y1=\"120.874\" x2=\"417.853\" y2=\"114.624\" stroke-linecap=\"round\" style=\"stroke:black;stroke-width:2\" /><line x1=\"417.853\" y1=\"114.624\" x2=\"416.291\" y2=\"111.918\" stroke-linecap=\"round\" style=\"stroke:black;stroke-width:2\" /><line x1=\"416.291\" y1=\"111.918\" x2=\"414.938\" y2=\"111.137\" stroke-linecap=\"round\" style=\"stroke:black;stroke-width:2\" /><line x1=\"414.938\" y1=\"111.137\" x2=\"416.291\" y2=\"111.918\" stroke-linecap=\"round\" style=\"stroke:black;stroke-width:2\" /><line x1=\"416.291\" y1=\"111.918\" x2=\"416.291\" y2=\"110.356\" stroke-linecap=\"round\" style=\"stroke:black;stroke-width:2\" /><line x1=\"416.291\" y1=\"110.356\" x2=\"416.291\" y2=\"111.918\" stroke-linecap=\"round\" style=\"stroke:black;stroke-width:2\" /><line x1=\"416.291\" y1=\"111.918\" x2=\"417.853\" y2=\"114.624\" stroke-linecap=\"round\" style=\"stroke:black;stroke-width:2\" /><line x1=\"417.853\" y1=\"114.624\" x2=\"419.416\" y2=\"111.918\" stroke-linecap=\"round\" style=\"stroke:black;stroke-width:2\" /><line x1=\"419.416\" y1=\"111.918\" x2=\"419.416\" y2=\"110.356\" stroke-linecap=\"round\" style=\"stroke:black;stroke-width:2\" /><line x1=\"419.416\" y1=\"110.356\" x2=\"419.416\" y2=\"111.918\" stroke-linecap=\"round\" style=\"stroke:black;stroke-width:2\" /><line x1=\"419.416\" y1=\"111.918\" x2=\"420.769\" y2=\"111.137\" stroke-linecap=\"round\" style=\"stroke:black;stroke-width:2\" /><line x1=\"420.769\" y1=\"111.137\" x2=\"419.416\" y2=\"111.918\" stroke-linecap=\"round\" style=\"stroke:black;stroke-width:2\" /><line x1=\"419.416\" y1=\"111.918\" x2=\"417.853\" y2=\"114.624\" stroke-linecap=\"round\" style=\"stroke:black;stroke-width:2\" /><line x1=\"417.853\" y1=\"114.624\" x2=\"417.853\" y2=\"120.874\" stroke-linecap=\"round\" style=\"stroke:black;stroke-width:2\" /><line x1=\"417.853\" y1=\"120.874\" x2=\"423.266\" y2=\"117.749\" stroke-linecap=\"round\" style=\"stroke:black;stroke-width:2\" /><line x1=\"423.266\" y1=\"117.749\" x2=\"424.829\" y2=\"115.043\" stroke-linecap=\"round\" style=\"stroke:black;stroke-width:2\" /><line x1=\"424.829\" y1=\"115.043\" x2=\"424.829\" y2=\"113.481\" stroke-linecap=\"round\" style=\"stroke:black;stroke-width:2\" /><line x1=\"424.829\" y1=\"113.481\" x2=\"424.829\" y2=\"115.043\" stroke-linecap=\"round\" style=\"stroke:black;stroke-width:2\" /><line x1=\"424.829\" y1=\"115.043\" x2=\"426.182\" y2=\"114.262\" stroke-linecap=\"round\" style=\"stroke:black;stroke-width:2\" /><line x1=\"426.182\" y1=\"114.262\" x2=\"424.829\" y2=\"115.043\" stroke-linecap=\"round\" style=\"stroke:black;stroke-width:2\" /><line x1=\"424.829\" y1=\"115.043\" x2=\"423.267\" y2=\"117.749\" stroke-linecap=\"round\" style=\"stroke:black;stroke-width:2\" /><line x1=\"423.267\" y1=\"117.749\" x2=\"426.392\" y2=\"117.749\" stroke-linecap=\"round\" style=\"stroke:black;stroke-width:2\" /><line x1=\"426.392\" y1=\"117.749\" x2=\"427.745\" y2=\"116.968\" stroke-linecap=\"round\" style=\"stroke:black;stroke-width:2\" /><line x1=\"427.745\" y1=\"116.968\" x2=\"426.392\" y2=\"117.749\" stroke-linecap=\"round\" style=\"stroke:black;stroke-width:2\" /><line x1=\"426.392\" y1=\"117.749\" x2=\"427.745\" y2=\"118.53\" stroke-linecap=\"round\" style=\"stroke:black;stroke-width:2\" /><line x1=\"427.745\" y1=\"118.53\" x2=\"426.392\" y2=\"117.749\" stroke-linecap=\"round\" style=\"stroke:black;stroke-width:2\" /><line x1=\"426.392\" y1=\"117.749\" x2=\"423.267\" y2=\"117.749\" stroke-linecap=\"round\" style=\"stroke:black;stroke-width:2\" /><line x1=\"423.267\" y1=\"117.749\" x2=\"417.854\" y2=\"120.874\" stroke-linecap=\"round\" style=\"stroke:black;stroke-width:2\" /><line x1=\"417.854\" y1=\"120.874\" x2=\"411.604\" y2=\"131.699\" stroke-linecap=\"round\" style=\"stroke:black;stroke-width:2\" /><line x1=\"411.604\" y1=\"131.699\" x2=\"411.604\" y2=\"156.699\" stroke-linecap=\"round\" style=\"stroke:black;stroke-width:2\" /><line x1=\"411.604\" y1=\"156.699\" x2=\"433.255\" y2=\"144.199\" stroke-linecap=\"round\" style=\"stroke:black;stroke-width:2\" /><line x1=\"433.255\" y1=\"144.199\" x2=\"439.505\" y2=\"133.374\" stroke-linecap=\"round\" style=\"stroke:black;stroke-width:2\" /><line x1=\"439.505\" y1=\"133.374\" x2=\"439.505\" y2=\"127.124\" stroke-linecap=\"round\" style=\"stroke:black;stroke-width:2\" /><line x1=\"439.505\" y1=\"127.124\" x2=\"437.942\" y2=\"124.418\" stroke-linecap=\"round\" style=\"stroke:black;stroke-width:2\" /><line x1=\"437.942\" y1=\"124.418\" x2=\"436.589\" y2=\"123.637\" stroke-linecap=\"round\" style=\"stroke:black;stroke-width:2\" /><line x1=\"436.589\" y1=\"123.637\" x2=\"437.942\" y2=\"124.418\" stroke-linecap=\"round\" style=\"stroke:black;stroke-width:2\" /><line x1=\"437.942\" y1=\"124.418\" x2=\"437.942\" y2=\"122.856\" stroke-linecap=\"round\" style=\"stroke:black;stroke-width:2\" /><line x1=\"437.942\" y1=\"122.856\" x2=\"437.942\" y2=\"124.418\" stroke-linecap=\"round\" style=\"stroke:black;stroke-width:2\" /><line x1=\"437.942\" y1=\"124.418\" x2=\"439.505\" y2=\"127.124\" stroke-linecap=\"round\" style=\"stroke:black;stroke-width:2\" /><line x1=\"439.505\" y1=\"127.124\" x2=\"441.067\" y2=\"124.418\" stroke-linecap=\"round\" style=\"stroke:black;stroke-width:2\" /><line x1=\"441.067\" y1=\"124.418\" x2=\"441.067\" y2=\"122.856\" stroke-linecap=\"round\" style=\"stroke:black;stroke-width:2\" /><line x1=\"441.067\" y1=\"122.856\" x2=\"441.067\" y2=\"124.418\" stroke-linecap=\"round\" style=\"stroke:black;stroke-width:2\" /><line x1=\"441.067\" y1=\"124.418\" x2=\"442.42\" y2=\"123.637\" stroke-linecap=\"round\" style=\"stroke:black;stroke-width:2\" /><line x1=\"442.42\" y1=\"123.637\" x2=\"441.067\" y2=\"124.418\" stroke-linecap=\"round\" style=\"stroke:black;stroke-width:2\" /><line x1=\"441.067\" y1=\"124.418\" x2=\"439.505\" y2=\"127.124\" stroke-linecap=\"round\" style=\"stroke:black;stroke-width:2\" /><line x1=\"439.505\" y1=\"127.124\" x2=\"439.505\" y2=\"133.374\" stroke-linecap=\"round\" style=\"stroke:black;stroke-width:2\" /><line x1=\"439.505\" y1=\"133.374\" x2=\"444.918\" y2=\"130.249\" stroke-linecap=\"round\" style=\"stroke:black;stroke-width:2\" /><line x1=\"444.918\" y1=\"130.249\" x2=\"446.481\" y2=\"127.543\" stroke-linecap=\"round\" style=\"stroke:black;stroke-width:2\" /><line x1=\"446.481\" y1=\"127.543\" x2=\"446.481\" y2=\"125.981\" stroke-linecap=\"round\" style=\"stroke:black;stroke-width:2\" /><line x1=\"446.481\" y1=\"125.981\" x2=\"446.481\" y2=\"127.543\" stroke-linecap=\"round\" style=\"stroke:black;stroke-width:2\" /><line x1=\"446.481\" y1=\"127.543\" x2=\"447.834\" y2=\"126.762\" stroke-linecap=\"round\" style=\"stroke:black;stroke-width:2\" /><line x1=\"447.834\" y1=\"126.762\" x2=\"446.481\" y2=\"127.543\" stroke-linecap=\"round\" style=\"stroke:black;stroke-width:2\" /><line x1=\"446.481\" y1=\"127.543\" x2=\"444.918\" y2=\"130.249\" stroke-linecap=\"round\" style=\"stroke:black;stroke-width:2\" /><line x1=\"444.918\" y1=\"130.249\" x2=\"448.043\" y2=\"130.249\" stroke-linecap=\"round\" style=\"stroke:black;stroke-width:2\" /><line x1=\"448.043\" y1=\"130.249\" x2=\"449.396\" y2=\"129.468\" stroke-linecap=\"round\" style=\"stroke:black;stroke-width:2\" /><line x1=\"449.396\" y1=\"129.468\" x2=\"448.043\" y2=\"130.249\" stroke-linecap=\"round\" style=\"stroke:black;stroke-width:2\" /><line x1=\"448.043\" y1=\"130.249\" x2=\"449.396\" y2=\"131.03\" stroke-linecap=\"round\" style=\"stroke:black;stroke-width:2\" /><line x1=\"449.396\" y1=\"131.03\" x2=\"448.043\" y2=\"130.249\" stroke-linecap=\"round\" style=\"stroke:black;stroke-width:2\" /><line x1=\"448.043\" y1=\"130.249\" x2=\"444.918\" y2=\"130.249\" stroke-linecap=\"round\" style=\"stroke:black;stroke-width:2\" /><line x1=\"444.918\" y1=\"130.249\" x2=\"439.505\" y2=\"133.374\" stroke-linecap=\"round\" style=\"stroke:black;stroke-width:2\" /><line x1=\"439.505\" y1=\"133.374\" x2=\"433.255\" y2=\"144.199\" stroke-linecap=\"round\" style=\"stroke:black;stroke-width:2\" /><line x1=\"433.255\" y1=\"144.199\" x2=\"445.755\" y2=\"144.199\" stroke-linecap=\"round\" style=\"stroke:black;stroke-width:2\" /><line x1=\"445.755\" y1=\"144.199\" x2=\"451.168\" y2=\"141.074\" stroke-linecap=\"round\" style=\"stroke:black;stroke-width:2\" /><line x1=\"451.168\" y1=\"141.074\" x2=\"452.731\" y2=\"138.368\" stroke-linecap=\"round\" style=\"stroke:black;stroke-width:2\" /><line x1=\"452.731\" y1=\"138.368\" x2=\"452.731\" y2=\"136.805\" stroke-linecap=\"round\" style=\"stroke:black;stroke-width:2\" /><line x1=\"452.731\" y1=\"136.805\" x2=\"452.731\" y2=\"138.368\" stroke-linecap=\"round\" style=\"stroke:black;stroke-width:2\" /><line x1=\"452.731\" y1=\"138.368\" x2=\"454.084\" y2=\"137.587\" stroke-linecap=\"round\" style=\"stroke:black;stroke-width:2\" /><line x1=\"454.084\" y1=\"137.587\" x2=\"452.731\" y2=\"138.368\" stroke-linecap=\"round\" style=\"stroke:black;stroke-width:2\" /><line x1=\"452.731\" y1=\"138.368\" x2=\"451.168\" y2=\"141.074\" stroke-linecap=\"round\" style=\"stroke:black;stroke-width:2\" /><line x1=\"451.168\" y1=\"141.074\" x2=\"454.293\" y2=\"141.074\" stroke-linecap=\"round\" style=\"stroke:black;stroke-width:2\" /><line x1=\"454.293\" y1=\"141.074\" x2=\"455.646\" y2=\"140.293\" stroke-linecap=\"round\" style=\"stroke:black;stroke-width:2\" /><line x1=\"455.646\" y1=\"140.293\" x2=\"454.293\" y2=\"141.074\" stroke-linecap=\"round\" style=\"stroke:black;stroke-width:2\" /><line x1=\"454.293\" y1=\"141.074\" x2=\"455.646\" y2=\"141.855\" stroke-linecap=\"round\" style=\"stroke:black;stroke-width:2\" /><line x1=\"455.646\" y1=\"141.855\" x2=\"454.293\" y2=\"141.074\" stroke-linecap=\"round\" style=\"stroke:black;stroke-width:2\" /><line x1=\"454.293\" y1=\"141.074\" x2=\"451.168\" y2=\"141.074\" stroke-linecap=\"round\" style=\"stroke:black;stroke-width:2\" /><line x1=\"451.168\" y1=\"141.074\" x2=\"445.755\" y2=\"144.199\" stroke-linecap=\"round\" style=\"stroke:black;stroke-width:2\" /><line x1=\"445.755\" y1=\"144.199\" x2=\"451.168\" y2=\"147.324\" stroke-linecap=\"round\" style=\"stroke:black;stroke-width:2\" /><line x1=\"451.168\" y1=\"147.324\" x2=\"454.293\" y2=\"147.324\" stroke-linecap=\"round\" style=\"stroke:black;stroke-width:2\" /><line x1=\"454.293\" y1=\"147.324\" x2=\"455.646\" y2=\"146.543\" stroke-linecap=\"round\" style=\"stroke:black;stroke-width:2\" /><line x1=\"455.646\" y1=\"146.543\" x2=\"454.293\" y2=\"147.324\" stroke-linecap=\"round\" style=\"stroke:black;stroke-width:2\" /><line x1=\"454.293\" y1=\"147.324\" x2=\"455.646\" y2=\"148.105\" stroke-linecap=\"round\" style=\"stroke:black;stroke-width:2\" /><line x1=\"455.646\" y1=\"148.105\" x2=\"454.293\" y2=\"147.324\" stroke-linecap=\"round\" style=\"stroke:black;stroke-width:2\" /><line x1=\"454.293\" y1=\"147.324\" x2=\"451.168\" y2=\"147.324\" stroke-linecap=\"round\" style=\"stroke:black;stroke-width:2\" /><line x1=\"451.168\" y1=\"147.324\" x2=\"452.731\" y2=\"150.03\" stroke-linecap=\"round\" style=\"stroke:black;stroke-width:2\" /><line x1=\"452.731\" y1=\"150.03\" x2=\"454.084\" y2=\"150.811\" stroke-linecap=\"round\" style=\"stroke:black;stroke-width:2\" /><line x1=\"454.084\" y1=\"150.811\" x2=\"452.731\" y2=\"150.03\" stroke-linecap=\"round\" style=\"stroke:black;stroke-width:2\" /><line x1=\"452.731\" y1=\"150.03\" x2=\"452.731\" y2=\"151.593\" stroke-linecap=\"round\" style=\"stroke:black;stroke-width:2\" /><line x1=\"452.731\" y1=\"151.593\" x2=\"452.731\" y2=\"150.03\" stroke-linecap=\"round\" style=\"stroke:black;stroke-width:2\" /><line x1=\"452.731\" y1=\"150.03\" x2=\"451.168\" y2=\"147.324\" stroke-linecap=\"round\" style=\"stroke:black;stroke-width:2\" /><line x1=\"451.168\" y1=\"147.324\" x2=\"445.755\" y2=\"144.199\" stroke-linecap=\"round\" style=\"stroke:black;stroke-width:2\" /><line x1=\"445.755\" y1=\"144.199\" x2=\"433.255\" y2=\"144.199\" stroke-linecap=\"round\" style=\"stroke:black;stroke-width:2\" /><line x1=\"433.255\" y1=\"144.199\" x2=\"411.604\" y2=\"156.699\" stroke-linecap=\"round\" style=\"stroke:black;stroke-width:2\" /><line x1=\"411.604\" y1=\"156.699\" x2=\"386.604\" y2=\"200.0\" stroke-linecap=\"round\" style=\"stroke:black;stroke-width:2\" /><line x1=\"386.604\" y1=\"200.0\" x2=\"436.604\" y2=\"200.0\" stroke-linecap=\"round\" style=\"stroke:black;stroke-width:2\" /><line x1=\"436.604\" y1=\"200.0\" x2=\"458.255\" y2=\"187.5\" stroke-linecap=\"round\" style=\"stroke:black;stroke-width:2\" /><line x1=\"458.255\" y1=\"187.5\" x2=\"464.505\" y2=\"176.675\" stroke-linecap=\"round\" style=\"stroke:black;stroke-width:2\" /><line x1=\"464.505\" y1=\"176.675\" x2=\"464.505\" y2=\"170.425\" stroke-linecap=\"round\" style=\"stroke:black;stroke-width:2\" /><line x1=\"464.505\" y1=\"170.425\" x2=\"462.942\" y2=\"167.719\" stroke-linecap=\"round\" style=\"stroke:black;stroke-width:2\" /><line x1=\"462.942\" y1=\"167.719\" x2=\"461.589\" y2=\"166.938\" stroke-linecap=\"round\" style=\"stroke:black;stroke-width:2\" /><line x1=\"461.589\" y1=\"166.938\" x2=\"462.942\" y2=\"167.719\" stroke-linecap=\"round\" style=\"stroke:black;stroke-width:2\" /><line x1=\"462.942\" y1=\"167.719\" x2=\"462.942\" y2=\"166.156\" stroke-linecap=\"round\" style=\"stroke:black;stroke-width:2\" /><line x1=\"462.942\" y1=\"166.156\" x2=\"462.942\" y2=\"167.719\" stroke-linecap=\"round\" style=\"stroke:black;stroke-width:2\" /><line x1=\"462.942\" y1=\"167.719\" x2=\"464.505\" y2=\"170.425\" stroke-linecap=\"round\" style=\"stroke:black;stroke-width:2\" /><line x1=\"464.505\" y1=\"170.425\" x2=\"466.067\" y2=\"167.719\" stroke-linecap=\"round\" style=\"stroke:black;stroke-width:2\" /><line x1=\"466.067\" y1=\"167.719\" x2=\"466.067\" y2=\"166.156\" stroke-linecap=\"round\" style=\"stroke:black;stroke-width:2\" /><line x1=\"466.067\" y1=\"166.156\" x2=\"466.067\" y2=\"167.719\" stroke-linecap=\"round\" style=\"stroke:black;stroke-width:2\" /><line x1=\"466.067\" y1=\"167.719\" x2=\"467.42\" y2=\"166.938\" stroke-linecap=\"round\" style=\"stroke:black;stroke-width:2\" /><line x1=\"467.42\" y1=\"166.938\" x2=\"466.067\" y2=\"167.719\" stroke-linecap=\"round\" style=\"stroke:black;stroke-width:2\" /><line x1=\"466.067\" y1=\"167.719\" x2=\"464.505\" y2=\"170.425\" stroke-linecap=\"round\" style=\"stroke:black;stroke-width:2\" /><line x1=\"464.505\" y1=\"170.425\" x2=\"464.505\" y2=\"176.675\" stroke-linecap=\"round\" style=\"stroke:black;stroke-width:2\" /><line x1=\"464.505\" y1=\"176.675\" x2=\"469.918\" y2=\"173.55\" stroke-linecap=\"round\" style=\"stroke:black;stroke-width:2\" /><line x1=\"469.918\" y1=\"173.55\" x2=\"471.481\" y2=\"170.844\" stroke-linecap=\"round\" style=\"stroke:black;stroke-width:2\" /><line x1=\"471.481\" y1=\"170.844\" x2=\"471.481\" y2=\"169.281\" stroke-linecap=\"round\" style=\"stroke:black;stroke-width:2\" /><line x1=\"471.481\" y1=\"169.281\" x2=\"471.481\" y2=\"170.844\" stroke-linecap=\"round\" style=\"stroke:black;stroke-width:2\" /><line x1=\"471.481\" y1=\"170.844\" x2=\"472.834\" y2=\"170.063\" stroke-linecap=\"round\" style=\"stroke:black;stroke-width:2\" /><line x1=\"472.834\" y1=\"170.063\" x2=\"471.481\" y2=\"170.844\" stroke-linecap=\"round\" style=\"stroke:black;stroke-width:2\" /><line x1=\"471.481\" y1=\"170.844\" x2=\"469.918\" y2=\"173.55\" stroke-linecap=\"round\" style=\"stroke:black;stroke-width:2\" /><line x1=\"469.918\" y1=\"173.55\" x2=\"473.043\" y2=\"173.55\" stroke-linecap=\"round\" style=\"stroke:black;stroke-width:2\" /><line x1=\"473.043\" y1=\"173.55\" x2=\"474.396\" y2=\"172.769\" stroke-linecap=\"round\" style=\"stroke:black;stroke-width:2\" /><line x1=\"474.396\" y1=\"172.769\" x2=\"473.043\" y2=\"173.55\" stroke-linecap=\"round\" style=\"stroke:black;stroke-width:2\" /><line x1=\"473.043\" y1=\"173.55\" x2=\"474.396\" y2=\"174.331\" stroke-linecap=\"round\" style=\"stroke:black;stroke-width:2\" /><line x1=\"474.396\" y1=\"174.331\" x2=\"473.043\" y2=\"173.55\" stroke-linecap=\"round\" style=\"stroke:black;stroke-width:2\" /><line x1=\"473.043\" y1=\"173.55\" x2=\"469.918\" y2=\"173.55\" stroke-linecap=\"round\" style=\"stroke:black;stroke-width:2\" /><line x1=\"469.918\" y1=\"173.55\" x2=\"464.505\" y2=\"176.675\" stroke-linecap=\"round\" style=\"stroke:black;stroke-width:2\" /><line x1=\"464.505\" y1=\"176.675\" x2=\"458.255\" y2=\"187.5\" stroke-linecap=\"round\" style=\"stroke:black;stroke-width:2\" /><line x1=\"458.255\" y1=\"187.5\" x2=\"470.755\" y2=\"187.5\" stroke-linecap=\"round\" style=\"stroke:black;stroke-width:2\" /><line x1=\"470.755\" y1=\"187.5\" x2=\"476.168\" y2=\"184.375\" stroke-linecap=\"round\" style=\"stroke:black;stroke-width:2\" /><line x1=\"476.168\" y1=\"184.375\" x2=\"477.731\" y2=\"181.669\" stroke-linecap=\"round\" style=\"stroke:black;stroke-width:2\" /><line x1=\"477.731\" y1=\"181.669\" x2=\"477.731\" y2=\"180.107\" stroke-linecap=\"round\" style=\"stroke:black;stroke-width:2\" /><line x1=\"477.731\" y1=\"180.107\" x2=\"477.731\" y2=\"181.669\" stroke-linecap=\"round\" style=\"stroke:black;stroke-width:2\" /><line x1=\"477.731\" y1=\"181.669\" x2=\"479.084\" y2=\"180.888\" stroke-linecap=\"round\" style=\"stroke:black;stroke-width:2\" /><line x1=\"479.084\" y1=\"180.888\" x2=\"477.731\" y2=\"181.669\" stroke-linecap=\"round\" style=\"stroke:black;stroke-width:2\" /><line x1=\"477.731\" y1=\"181.669\" x2=\"476.168\" y2=\"184.375\" stroke-linecap=\"round\" style=\"stroke:black;stroke-width:2\" /><line x1=\"476.168\" y1=\"184.375\" x2=\"479.293\" y2=\"184.375\" stroke-linecap=\"round\" style=\"stroke:black;stroke-width:2\" /><line x1=\"479.293\" y1=\"184.375\" x2=\"480.646\" y2=\"183.594\" stroke-linecap=\"round\" style=\"stroke:black;stroke-width:2\" /><line x1=\"480.646\" y1=\"183.594\" x2=\"479.293\" y2=\"184.375\" stroke-linecap=\"round\" style=\"stroke:black;stroke-width:2\" /><line x1=\"479.293\" y1=\"184.375\" x2=\"480.646\" y2=\"185.156\" stroke-linecap=\"round\" style=\"stroke:black;stroke-width:2\" /><line x1=\"480.646\" y1=\"185.156\" x2=\"479.293\" y2=\"184.375\" stroke-linecap=\"round\" style=\"stroke:black;stroke-width:2\" /><line x1=\"479.293\" y1=\"184.375\" x2=\"476.168\" y2=\"184.375\" stroke-linecap=\"round\" style=\"stroke:black;stroke-width:2\" /><line x1=\"476.168\" y1=\"184.375\" x2=\"470.755\" y2=\"187.5\" stroke-linecap=\"round\" style=\"stroke:black;stroke-width:2\" /><line x1=\"470.755\" y1=\"187.5\" x2=\"476.168\" y2=\"190.625\" stroke-linecap=\"round\" style=\"stroke:black;stroke-width:2\" /><line x1=\"476.168\" y1=\"190.625\" x2=\"479.293\" y2=\"190.625\" stroke-linecap=\"round\" style=\"stroke:black;stroke-width:2\" /><line x1=\"479.293\" y1=\"190.625\" x2=\"480.646\" y2=\"189.844\" stroke-linecap=\"round\" style=\"stroke:black;stroke-width:2\" /><line x1=\"480.646\" y1=\"189.844\" x2=\"479.293\" y2=\"190.625\" stroke-linecap=\"round\" style=\"stroke:black;stroke-width:2\" /><line x1=\"479.293\" y1=\"190.625\" x2=\"480.646\" y2=\"191.406\" stroke-linecap=\"round\" style=\"stroke:black;stroke-width:2\" /><line x1=\"480.646\" y1=\"191.406\" x2=\"479.293\" y2=\"190.625\" stroke-linecap=\"round\" style=\"stroke:black;stroke-width:2\" /><line x1=\"479.293\" y1=\"190.625\" x2=\"476.168\" y2=\"190.625\" stroke-linecap=\"round\" style=\"stroke:black;stroke-width:2\" /><line x1=\"476.168\" y1=\"190.625\" x2=\"477.731\" y2=\"193.331\" stroke-linecap=\"round\" style=\"stroke:black;stroke-width:2\" /><line x1=\"477.731\" y1=\"193.331\" x2=\"479.084\" y2=\"194.112\" stroke-linecap=\"round\" style=\"stroke:black;stroke-width:2\" /><line x1=\"479.084\" y1=\"194.112\" x2=\"477.731\" y2=\"193.331\" stroke-linecap=\"round\" style=\"stroke:black;stroke-width:2\" /><line x1=\"477.731\" y1=\"193.331\" x2=\"477.731\" y2=\"194.893\" stroke-linecap=\"round\" style=\"stroke:black;stroke-width:2\" /><line x1=\"477.731\" y1=\"194.893\" x2=\"477.731\" y2=\"193.331\" stroke-linecap=\"round\" style=\"stroke:black;stroke-width:2\" /><line x1=\"477.731\" y1=\"193.331\" x2=\"476.168\" y2=\"190.625\" stroke-linecap=\"round\" style=\"stroke:black;stroke-width:2\" /><line x1=\"476.168\" y1=\"190.625\" x2=\"470.755\" y2=\"187.5\" stroke-linecap=\"round\" style=\"stroke:black;stroke-width:2\" /><line x1=\"470.755\" y1=\"187.5\" x2=\"458.255\" y2=\"187.5\" stroke-linecap=\"round\" style=\"stroke:black;stroke-width:2\" /><line x1=\"458.255\" y1=\"187.5\" x2=\"436.604\" y2=\"200.0\" stroke-linecap=\"round\" style=\"stroke:black;stroke-width:2\" /><line x1=\"436.604\" y1=\"200.0\" x2=\"458.255\" y2=\"212.5\" stroke-linecap=\"round\" style=\"stroke:black;stroke-width:2\" /><line x1=\"458.255\" y1=\"212.5\" x2=\"470.755\" y2=\"212.5\" stroke-linecap=\"round\" style=\"stroke:black;stroke-width:2\" /><line x1=\"470.755\" y1=\"212.5\" x2=\"476.168\" y2=\"209.375\" stroke-linecap=\"round\" style=\"stroke:black;stroke-width:2\" /><line x1=\"476.168\" y1=\"209.375\" x2=\"477.731\" y2=\"206.669\" stroke-linecap=\"round\" style=\"stroke:black;stroke-width:2\" /><line x1=\"477.731\" y1=\"206.669\" x2=\"477.731\" y2=\"205.107\" stroke-linecap=\"round\" style=\"stroke:black;stroke-width:2\" /><line x1=\"477.731\" y1=\"205.107\" x2=\"477.731\" y2=\"206.669\" stroke-linecap=\"round\" style=\"stroke:black;stroke-width:2\" /><line x1=\"477.731\" y1=\"206.669\" x2=\"479.084\" y2=\"205.888\" stroke-linecap=\"round\" style=\"stroke:black;stroke-width:2\" /><line x1=\"479.084\" y1=\"205.888\" x2=\"477.731\" y2=\"206.669\" stroke-linecap=\"round\" style=\"stroke:black;stroke-width:2\" /><line x1=\"477.731\" y1=\"206.669\" x2=\"476.168\" y2=\"209.375\" stroke-linecap=\"round\" style=\"stroke:black;stroke-width:2\" /><line x1=\"476.168\" y1=\"209.375\" x2=\"479.293\" y2=\"209.375\" stroke-linecap=\"round\" style=\"stroke:black;stroke-width:2\" /><line x1=\"479.293\" y1=\"209.375\" x2=\"480.646\" y2=\"208.594\" stroke-linecap=\"round\" style=\"stroke:black;stroke-width:2\" /><line x1=\"480.646\" y1=\"208.594\" x2=\"479.293\" y2=\"209.375\" stroke-linecap=\"round\" style=\"stroke:black;stroke-width:2\" /><line x1=\"479.293\" y1=\"209.375\" x2=\"480.646\" y2=\"210.156\" stroke-linecap=\"round\" style=\"stroke:black;stroke-width:2\" /><line x1=\"480.646\" y1=\"210.156\" x2=\"479.293\" y2=\"209.375\" stroke-linecap=\"round\" style=\"stroke:black;stroke-width:2\" /><line x1=\"479.293\" y1=\"209.375\" x2=\"476.168\" y2=\"209.375\" stroke-linecap=\"round\" style=\"stroke:black;stroke-width:2\" /><line x1=\"476.168\" y1=\"209.375\" x2=\"470.755\" y2=\"212.5\" stroke-linecap=\"round\" style=\"stroke:black;stroke-width:2\" /><line x1=\"470.755\" y1=\"212.5\" x2=\"476.168\" y2=\"215.625\" stroke-linecap=\"round\" style=\"stroke:black;stroke-width:2\" /><line x1=\"476.168\" y1=\"215.625\" x2=\"479.293\" y2=\"215.625\" stroke-linecap=\"round\" style=\"stroke:black;stroke-width:2\" /><line x1=\"479.293\" y1=\"215.625\" x2=\"480.646\" y2=\"214.844\" stroke-linecap=\"round\" style=\"stroke:black;stroke-width:2\" /><line x1=\"480.646\" y1=\"214.844\" x2=\"479.293\" y2=\"215.625\" stroke-linecap=\"round\" style=\"stroke:black;stroke-width:2\" /><line x1=\"479.293\" y1=\"215.625\" x2=\"480.646\" y2=\"216.406\" stroke-linecap=\"round\" style=\"stroke:black;stroke-width:2\" /><line x1=\"480.646\" y1=\"216.406\" x2=\"479.293\" y2=\"215.625\" stroke-linecap=\"round\" style=\"stroke:black;stroke-width:2\" /><line x1=\"479.293\" y1=\"215.625\" x2=\"476.168\" y2=\"215.625\" stroke-linecap=\"round\" style=\"stroke:black;stroke-width:2\" /><line x1=\"476.168\" y1=\"215.625\" x2=\"477.731\" y2=\"218.331\" stroke-linecap=\"round\" style=\"stroke:black;stroke-width:2\" /><line x1=\"477.731\" y1=\"218.331\" x2=\"479.084\" y2=\"219.112\" stroke-linecap=\"round\" style=\"stroke:black;stroke-width:2\" /><line x1=\"479.084\" y1=\"219.112\" x2=\"477.731\" y2=\"218.331\" stroke-linecap=\"round\" style=\"stroke:black;stroke-width:2\" /><line x1=\"477.731\" y1=\"218.331\" x2=\"477.731\" y2=\"219.893\" stroke-linecap=\"round\" style=\"stroke:black;stroke-width:2\" /><line x1=\"477.731\" y1=\"219.893\" x2=\"477.731\" y2=\"218.331\" stroke-linecap=\"round\" style=\"stroke:black;stroke-width:2\" /><line x1=\"477.731\" y1=\"218.331\" x2=\"476.168\" y2=\"215.625\" stroke-linecap=\"round\" style=\"stroke:black;stroke-width:2\" /><line x1=\"476.168\" y1=\"215.625\" x2=\"470.755\" y2=\"212.5\" stroke-linecap=\"round\" style=\"stroke:black;stroke-width:2\" /><line x1=\"470.755\" y1=\"212.5\" x2=\"458.255\" y2=\"212.5\" stroke-linecap=\"round\" style=\"stroke:black;stroke-width:2\" /><line x1=\"458.255\" y1=\"212.5\" x2=\"464.505\" y2=\"223.325\" stroke-linecap=\"round\" style=\"stroke:black;stroke-width:2\" /><line x1=\"464.505\" y1=\"223.325\" x2=\"469.918\" y2=\"226.45\" stroke-linecap=\"round\" style=\"stroke:black;stroke-width:2\" /><line x1=\"469.918\" y1=\"226.45\" x2=\"473.043\" y2=\"226.45\" stroke-linecap=\"round\" style=\"stroke:black;stroke-width:2\" /><line x1=\"473.043\" y1=\"226.45\" x2=\"474.396\" y2=\"225.669\" stroke-linecap=\"round\" style=\"stroke:black;stroke-width:2\" /><line x1=\"474.396\" y1=\"225.669\" x2=\"473.043\" y2=\"226.45\" stroke-linecap=\"round\" style=\"stroke:black;stroke-width:2\" /><line x1=\"473.043\" y1=\"226.45\" x2=\"474.396\" y2=\"227.231\" stroke-linecap=\"round\" style=\"stroke:black;stroke-width:2\" /><line x1=\"474.396\" y1=\"227.231\" x2=\"473.043\" y2=\"226.45\" stroke-linecap=\"round\" style=\"stroke:black;stroke-width:2\" /><line x1=\"473.043\" y1=\"226.45\" x2=\"469.918\" y2=\"226.45\" stroke-linecap=\"round\" style=\"stroke:black;stroke-width:2\" /><line x1=\"469.918\" y1=\"226.45\" x2=\"471.481\" y2=\"229.156\" stroke-linecap=\"round\" style=\"stroke:black;stroke-width:2\" /><line x1=\"471.481\" y1=\"229.156\" x2=\"472.834\" y2=\"229.937\" stroke-linecap=\"round\" style=\"stroke:black;stroke-width:2\" /><line x1=\"472.834\" y1=\"229.937\" x2=\"471.481\" y2=\"229.156\" stroke-linecap=\"round\" style=\"stroke:black;stroke-width:2\" /><line x1=\"471.481\" y1=\"229.156\" x2=\"471.481\" y2=\"230.719\" stroke-linecap=\"round\" style=\"stroke:black;stroke-width:2\" /><line x1=\"471.481\" y1=\"230.719\" x2=\"471.481\" y2=\"229.156\" stroke-linecap=\"round\" style=\"stroke:black;stroke-width:2\" /><line x1=\"471.481\" y1=\"229.156\" x2=\"469.918\" y2=\"226.45\" stroke-linecap=\"round\" style=\"stroke:black;stroke-width:2\" /><line x1=\"469.918\" y1=\"226.45\" x2=\"464.505\" y2=\"223.325\" stroke-linecap=\"round\" style=\"stroke:black;stroke-width:2\" /><line x1=\"464.505\" y1=\"223.325\" x2=\"464.505\" y2=\"229.575\" stroke-linecap=\"round\" style=\"stroke:black;stroke-width:2\" /><line x1=\"464.505\" y1=\"229.575\" x2=\"466.067\" y2=\"232.281\" stroke-linecap=\"round\" style=\"stroke:black;stroke-width:2\" /><line x1=\"466.067\" y1=\"232.281\" x2=\"467.42\" y2=\"233.062\" stroke-linecap=\"round\" style=\"stroke:black;stroke-width:2\" /><line x1=\"467.42\" y1=\"233.062\" x2=\"466.067\" y2=\"232.281\" stroke-linecap=\"round\" style=\"stroke:black;stroke-width:2\" /><line x1=\"466.067\" y1=\"232.281\" x2=\"466.067\" y2=\"233.844\" stroke-linecap=\"round\" style=\"stroke:black;stroke-width:2\" /><line x1=\"466.067\" y1=\"233.844\" x2=\"466.067\" y2=\"232.281\" stroke-linecap=\"round\" style=\"stroke:black;stroke-width:2\" /><line x1=\"466.067\" y1=\"232.281\" x2=\"464.505\" y2=\"229.575\" stroke-linecap=\"round\" style=\"stroke:black;stroke-width:2\" /><line x1=\"464.505\" y1=\"229.575\" x2=\"462.942\" y2=\"232.281\" stroke-linecap=\"round\" style=\"stroke:black;stroke-width:2\" /><line x1=\"462.942\" y1=\"232.281\" x2=\"462.942\" y2=\"233.844\" stroke-linecap=\"round\" style=\"stroke:black;stroke-width:2\" /><line x1=\"462.942\" y1=\"233.844\" x2=\"462.942\" y2=\"232.281\" stroke-linecap=\"round\" style=\"stroke:black;stroke-width:2\" /><line x1=\"462.942\" y1=\"232.281\" x2=\"461.589\" y2=\"233.062\" stroke-linecap=\"round\" style=\"stroke:black;stroke-width:2\" /><line x1=\"461.589\" y1=\"233.062\" x2=\"462.942\" y2=\"232.281\" stroke-linecap=\"round\" style=\"stroke:black;stroke-width:2\" /><line x1=\"462.942\" y1=\"232.281\" x2=\"464.505\" y2=\"229.575\" stroke-linecap=\"round\" style=\"stroke:black;stroke-width:2\" /><line x1=\"464.505\" y1=\"229.575\" x2=\"464.505\" y2=\"223.325\" stroke-linecap=\"round\" style=\"stroke:black;stroke-width:2\" /><line x1=\"464.505\" y1=\"223.325\" x2=\"458.255\" y2=\"212.5\" stroke-linecap=\"round\" style=\"stroke:black;stroke-width:2\" /><line x1=\"458.255\" y1=\"212.5\" x2=\"436.604\" y2=\"200.0\" stroke-linecap=\"round\" style=\"stroke:black;stroke-width:2\" /><line x1=\"436.604\" y1=\"200.0\" x2=\"386.604\" y2=\"200.0\" stroke-linecap=\"round\" style=\"stroke:black;stroke-width:2\" /><line x1=\"386.604\" y1=\"200.0\" x2=\"300.001\" y2=\"250.0\" stroke-linecap=\"round\" style=\"stroke:black;stroke-width:2\" /><line x1=\"300.001\" y1=\"250.0\" x2=\"386.604\" y2=\"300.0\" stroke-linecap=\"round\" style=\"stroke:black;stroke-width:2\" /><line x1=\"386.604\" y1=\"300.0\" x2=\"436.604\" y2=\"300.0\" stroke-linecap=\"round\" style=\"stroke:black;stroke-width:2\" /><line x1=\"436.604\" y1=\"300.0\" x2=\"458.255\" y2=\"287.5\" stroke-linecap=\"round\" style=\"stroke:black;stroke-width:2\" /><line x1=\"458.255\" y1=\"287.5\" x2=\"464.505\" y2=\"276.675\" stroke-linecap=\"round\" style=\"stroke:black;stroke-width:2\" /><line x1=\"464.505\" y1=\"276.675\" x2=\"464.505\" y2=\"270.425\" stroke-linecap=\"round\" style=\"stroke:black;stroke-width:2\" /><line x1=\"464.505\" y1=\"270.425\" x2=\"462.942\" y2=\"267.719\" stroke-linecap=\"round\" style=\"stroke:black;stroke-width:2\" /><line x1=\"462.942\" y1=\"267.719\" x2=\"461.589\" y2=\"266.938\" stroke-linecap=\"round\" style=\"stroke:black;stroke-width:2\" /><line x1=\"461.589\" y1=\"266.938\" x2=\"462.942\" y2=\"267.719\" stroke-linecap=\"round\" style=\"stroke:black;stroke-width:2\" /><line x1=\"462.942\" y1=\"267.719\" x2=\"462.942\" y2=\"266.156\" stroke-linecap=\"round\" style=\"stroke:black;stroke-width:2\" /><line x1=\"462.942\" y1=\"266.156\" x2=\"462.942\" y2=\"267.719\" stroke-linecap=\"round\" style=\"stroke:black;stroke-width:2\" /><line x1=\"462.942\" y1=\"267.719\" x2=\"464.505\" y2=\"270.425\" stroke-linecap=\"round\" style=\"stroke:black;stroke-width:2\" /><line x1=\"464.505\" y1=\"270.425\" x2=\"466.067\" y2=\"267.719\" stroke-linecap=\"round\" style=\"stroke:black;stroke-width:2\" /><line x1=\"466.067\" y1=\"267.719\" x2=\"466.067\" y2=\"266.156\" stroke-linecap=\"round\" style=\"stroke:black;stroke-width:2\" /><line x1=\"466.067\" y1=\"266.156\" x2=\"466.067\" y2=\"267.719\" stroke-linecap=\"round\" style=\"stroke:black;stroke-width:2\" /><line x1=\"466.067\" y1=\"267.719\" x2=\"467.42\" y2=\"266.938\" stroke-linecap=\"round\" style=\"stroke:black;stroke-width:2\" /><line x1=\"467.42\" y1=\"266.938\" x2=\"466.067\" y2=\"267.719\" stroke-linecap=\"round\" style=\"stroke:black;stroke-width:2\" /><line x1=\"466.067\" y1=\"267.719\" x2=\"464.505\" y2=\"270.425\" stroke-linecap=\"round\" style=\"stroke:black;stroke-width:2\" /><line x1=\"464.505\" y1=\"270.425\" x2=\"464.505\" y2=\"276.675\" stroke-linecap=\"round\" style=\"stroke:black;stroke-width:2\" /><line x1=\"464.505\" y1=\"276.675\" x2=\"469.918\" y2=\"273.55\" stroke-linecap=\"round\" style=\"stroke:black;stroke-width:2\" /><line x1=\"469.918\" y1=\"273.55\" x2=\"471.481\" y2=\"270.844\" stroke-linecap=\"round\" style=\"stroke:black;stroke-width:2\" /><line x1=\"471.481\" y1=\"270.844\" x2=\"471.481\" y2=\"269.281\" stroke-linecap=\"round\" style=\"stroke:black;stroke-width:2\" /><line x1=\"471.481\" y1=\"269.281\" x2=\"471.481\" y2=\"270.844\" stroke-linecap=\"round\" style=\"stroke:black;stroke-width:2\" /><line x1=\"471.481\" y1=\"270.844\" x2=\"472.834\" y2=\"270.063\" stroke-linecap=\"round\" style=\"stroke:black;stroke-width:2\" /><line x1=\"472.834\" y1=\"270.063\" x2=\"471.481\" y2=\"270.844\" stroke-linecap=\"round\" style=\"stroke:black;stroke-width:2\" /><line x1=\"471.481\" y1=\"270.844\" x2=\"469.918\" y2=\"273.55\" stroke-linecap=\"round\" style=\"stroke:black;stroke-width:2\" /><line x1=\"469.918\" y1=\"273.55\" x2=\"473.043\" y2=\"273.55\" stroke-linecap=\"round\" style=\"stroke:black;stroke-width:2\" /><line x1=\"473.043\" y1=\"273.55\" x2=\"474.396\" y2=\"272.769\" stroke-linecap=\"round\" style=\"stroke:black;stroke-width:2\" /><line x1=\"474.396\" y1=\"272.769\" x2=\"473.043\" y2=\"273.55\" stroke-linecap=\"round\" style=\"stroke:black;stroke-width:2\" /><line x1=\"473.043\" y1=\"273.55\" x2=\"474.396\" y2=\"274.331\" stroke-linecap=\"round\" style=\"stroke:black;stroke-width:2\" /><line x1=\"474.396\" y1=\"274.331\" x2=\"473.043\" y2=\"273.55\" stroke-linecap=\"round\" style=\"stroke:black;stroke-width:2\" /><line x1=\"473.043\" y1=\"273.55\" x2=\"469.918\" y2=\"273.55\" stroke-linecap=\"round\" style=\"stroke:black;stroke-width:2\" /><line x1=\"469.918\" y1=\"273.55\" x2=\"464.505\" y2=\"276.675\" stroke-linecap=\"round\" style=\"stroke:black;stroke-width:2\" /><line x1=\"464.505\" y1=\"276.675\" x2=\"458.255\" y2=\"287.5\" stroke-linecap=\"round\" style=\"stroke:black;stroke-width:2\" /><line x1=\"458.255\" y1=\"287.5\" x2=\"470.755\" y2=\"287.5\" stroke-linecap=\"round\" style=\"stroke:black;stroke-width:2\" /><line x1=\"470.755\" y1=\"287.5\" x2=\"476.168\" y2=\"284.375\" stroke-linecap=\"round\" style=\"stroke:black;stroke-width:2\" /><line x1=\"476.168\" y1=\"284.375\" x2=\"477.731\" y2=\"281.669\" stroke-linecap=\"round\" style=\"stroke:black;stroke-width:2\" /><line x1=\"477.731\" y1=\"281.669\" x2=\"477.731\" y2=\"280.106\" stroke-linecap=\"round\" style=\"stroke:black;stroke-width:2\" /><line x1=\"477.731\" y1=\"280.106\" x2=\"477.731\" y2=\"281.668\" stroke-linecap=\"round\" style=\"stroke:black;stroke-width:2\" /><line x1=\"477.731\" y1=\"281.668\" x2=\"479.084\" y2=\"280.887\" stroke-linecap=\"round\" style=\"stroke:black;stroke-width:2\" /><line x1=\"479.084\" y1=\"280.887\" x2=\"477.731\" y2=\"281.668\" stroke-linecap=\"round\" style=\"stroke:black;stroke-width:2\" /><line x1=\"477.731\" y1=\"281.668\" x2=\"476.168\" y2=\"284.374\" stroke-linecap=\"round\" style=\"stroke:black;stroke-width:2\" /><line x1=\"476.168\" y1=\"284.374\" x2=\"479.293\" y2=\"284.374\" stroke-linecap=\"round\" style=\"stroke:black;stroke-width:2\" /><line x1=\"479.293\" y1=\"284.374\" x2=\"480.646\" y2=\"283.593\" stroke-linecap=\"round\" style=\"stroke:black;stroke-width:2\" /><line x1=\"480.646\" y1=\"283.593\" x2=\"479.293\" y2=\"284.374\" stroke-linecap=\"round\" style=\"stroke:black;stroke-width:2\" /><line x1=\"479.293\" y1=\"284.374\" x2=\"480.646\" y2=\"285.155\" stroke-linecap=\"round\" style=\"stroke:black;stroke-width:2\" /><line x1=\"480.646\" y1=\"285.155\" x2=\"479.293\" y2=\"284.374\" stroke-linecap=\"round\" style=\"stroke:black;stroke-width:2\" /><line x1=\"479.293\" y1=\"284.374\" x2=\"476.168\" y2=\"284.374\" stroke-linecap=\"round\" style=\"stroke:black;stroke-width:2\" /><line x1=\"476.168\" y1=\"284.374\" x2=\"470.755\" y2=\"287.499\" stroke-linecap=\"round\" style=\"stroke:black;stroke-width:2\" /><line x1=\"470.755\" y1=\"287.499\" x2=\"476.168\" y2=\"290.624\" stroke-linecap=\"round\" style=\"stroke:black;stroke-width:2\" /><line x1=\"476.168\" y1=\"290.624\" x2=\"479.293\" y2=\"290.624\" stroke-linecap=\"round\" style=\"stroke:black;stroke-width:2\" /><line x1=\"479.293\" y1=\"290.624\" x2=\"480.646\" y2=\"289.843\" stroke-linecap=\"round\" style=\"stroke:black;stroke-width:2\" /><line x1=\"480.646\" y1=\"289.843\" x2=\"479.293\" y2=\"290.624\" stroke-linecap=\"round\" style=\"stroke:black;stroke-width:2\" /><line x1=\"479.293\" y1=\"290.624\" x2=\"480.646\" y2=\"291.405\" stroke-linecap=\"round\" style=\"stroke:black;stroke-width:2\" /><line x1=\"480.646\" y1=\"291.405\" x2=\"479.293\" y2=\"290.624\" stroke-linecap=\"round\" style=\"stroke:black;stroke-width:2\" /><line x1=\"479.293\" y1=\"290.624\" x2=\"476.168\" y2=\"290.624\" stroke-linecap=\"round\" style=\"stroke:black;stroke-width:2\" /><line x1=\"476.168\" y1=\"290.624\" x2=\"477.731\" y2=\"293.33\" stroke-linecap=\"round\" style=\"stroke:black;stroke-width:2\" /><line x1=\"477.731\" y1=\"293.33\" x2=\"479.084\" y2=\"294.111\" stroke-linecap=\"round\" style=\"stroke:black;stroke-width:2\" /><line x1=\"479.084\" y1=\"294.111\" x2=\"477.731\" y2=\"293.33\" stroke-linecap=\"round\" style=\"stroke:black;stroke-width:2\" /><line x1=\"477.731\" y1=\"293.33\" x2=\"477.731\" y2=\"294.892\" stroke-linecap=\"round\" style=\"stroke:black;stroke-width:2\" /><line x1=\"477.731\" y1=\"294.892\" x2=\"477.731\" y2=\"293.329\" stroke-linecap=\"round\" style=\"stroke:black;stroke-width:2\" /><line x1=\"477.731\" y1=\"293.329\" x2=\"476.168\" y2=\"290.623\" stroke-linecap=\"round\" style=\"stroke:black;stroke-width:2\" /><line x1=\"476.168\" y1=\"290.623\" x2=\"470.755\" y2=\"287.498\" stroke-linecap=\"round\" style=\"stroke:black;stroke-width:2\" /><line x1=\"470.755\" y1=\"287.498\" x2=\"458.255\" y2=\"287.498\" stroke-linecap=\"round\" style=\"stroke:black;stroke-width:2\" /><line x1=\"458.255\" y1=\"287.498\" x2=\"436.604\" y2=\"299.998\" stroke-linecap=\"round\" style=\"stroke:black;stroke-width:2\" /><line x1=\"436.604\" y1=\"299.998\" x2=\"458.255\" y2=\"312.498\" stroke-linecap=\"round\" style=\"stroke:black;stroke-width:2\" /><line x1=\"458.255\" y1=\"312.498\" x2=\"470.755\" y2=\"312.498\" stroke-linecap=\"round\" style=\"stroke:black;stroke-width:2\" /><line x1=\"470.755\" y1=\"312.498\" x2=\"476.168\" y2=\"309.373\" stroke-linecap=\"round\" style=\"stroke:black;stroke-width:2\" /><line x1=\"476.168\" y1=\"309.373\" x2=\"477.731\" y2=\"306.667\" stroke-linecap=\"round\" style=\"stroke:black;stroke-width:2\" /><line x1=\"477.731\" y1=\"306.667\" x2=\"477.731\" y2=\"305.104\" stroke-linecap=\"round\" style=\"stroke:black;stroke-width:2\" /><line x1=\"477.731\" y1=\"305.104\" x2=\"477.731\" y2=\"306.666\" stroke-linecap=\"round\" style=\"stroke:black;stroke-width:2\" /><line x1=\"477.731\" y1=\"306.666\" x2=\"479.084\" y2=\"305.885\" stroke-linecap=\"round\" style=\"stroke:black;stroke-width:2\" /><line x1=\"479.084\" y1=\"305.885\" x2=\"477.731\" y2=\"306.666\" stroke-linecap=\"round\" style=\"stroke:black;stroke-width:2\" /><line x1=\"477.731\" y1=\"306.666\" x2=\"476.168\" y2=\"309.372\" stroke-linecap=\"round\" style=\"stroke:black;stroke-width:2\" /><line x1=\"476.168\" y1=\"309.372\" x2=\"479.293\" y2=\"309.372\" stroke-linecap=\"round\" style=\"stroke:black;stroke-width:2\" /><line x1=\"479.293\" y1=\"309.372\" x2=\"480.646\" y2=\"308.591\" stroke-linecap=\"round\" style=\"stroke:black;stroke-width:2\" /><line x1=\"480.646\" y1=\"308.591\" x2=\"479.293\" y2=\"309.372\" stroke-linecap=\"round\" style=\"stroke:black;stroke-width:2\" /><line x1=\"479.293\" y1=\"309.372\" x2=\"480.646\" y2=\"310.153\" stroke-linecap=\"round\" style=\"stroke:black;stroke-width:2\" /><line x1=\"480.646\" y1=\"310.153\" x2=\"479.293\" y2=\"309.372\" stroke-linecap=\"round\" style=\"stroke:black;stroke-width:2\" /><line x1=\"479.293\" y1=\"309.372\" x2=\"476.168\" y2=\"309.372\" stroke-linecap=\"round\" style=\"stroke:black;stroke-width:2\" /><line x1=\"476.168\" y1=\"309.372\" x2=\"470.755\" y2=\"312.497\" stroke-linecap=\"round\" style=\"stroke:black;stroke-width:2\" /><line x1=\"470.755\" y1=\"312.497\" x2=\"476.168\" y2=\"315.622\" stroke-linecap=\"round\" style=\"stroke:black;stroke-width:2\" /><line x1=\"476.168\" y1=\"315.622\" x2=\"479.293\" y2=\"315.622\" stroke-linecap=\"round\" style=\"stroke:black;stroke-width:2\" /><line x1=\"479.293\" y1=\"315.622\" x2=\"480.646\" y2=\"314.841\" stroke-linecap=\"round\" style=\"stroke:black;stroke-width:2\" /><line x1=\"480.646\" y1=\"314.841\" x2=\"479.293\" y2=\"315.622\" stroke-linecap=\"round\" style=\"stroke:black;stroke-width:2\" /><line x1=\"479.293\" y1=\"315.622\" x2=\"480.646\" y2=\"316.403\" stroke-linecap=\"round\" style=\"stroke:black;stroke-width:2\" /><line x1=\"480.646\" y1=\"316.403\" x2=\"479.293\" y2=\"315.622\" stroke-linecap=\"round\" style=\"stroke:black;stroke-width:2\" /><line x1=\"479.293\" y1=\"315.622\" x2=\"476.168\" y2=\"315.622\" stroke-linecap=\"round\" style=\"stroke:black;stroke-width:2\" /><line x1=\"476.168\" y1=\"315.622\" x2=\"477.731\" y2=\"318.328\" stroke-linecap=\"round\" style=\"stroke:black;stroke-width:2\" /><line x1=\"477.731\" y1=\"318.328\" x2=\"479.084\" y2=\"319.109\" stroke-linecap=\"round\" style=\"stroke:black;stroke-width:2\" /><line x1=\"479.084\" y1=\"319.109\" x2=\"477.731\" y2=\"318.328\" stroke-linecap=\"round\" style=\"stroke:black;stroke-width:2\" /><line x1=\"477.731\" y1=\"318.328\" x2=\"477.731\" y2=\"319.89\" stroke-linecap=\"round\" style=\"stroke:black;stroke-width:2\" /><line x1=\"477.731\" y1=\"319.89\" x2=\"477.731\" y2=\"318.327\" stroke-linecap=\"round\" style=\"stroke:black;stroke-width:2\" /><line x1=\"477.731\" y1=\"318.327\" x2=\"476.168\" y2=\"315.621\" stroke-linecap=\"round\" style=\"stroke:black;stroke-width:2\" /><line x1=\"476.168\" y1=\"315.621\" x2=\"470.755\" y2=\"312.496\" stroke-linecap=\"round\" style=\"stroke:black;stroke-width:2\" /><line x1=\"470.755\" y1=\"312.496\" x2=\"458.255\" y2=\"312.496\" stroke-linecap=\"round\" style=\"stroke:black;stroke-width:2\" /><line x1=\"458.255\" y1=\"312.496\" x2=\"464.505\" y2=\"323.321\" stroke-linecap=\"round\" style=\"stroke:black;stroke-width:2\" /><line x1=\"464.505\" y1=\"323.321\" x2=\"469.918\" y2=\"326.446\" stroke-linecap=\"round\" style=\"stroke:black;stroke-width:2\" /><line x1=\"469.918\" y1=\"326.446\" x2=\"473.043\" y2=\"326.446\" stroke-linecap=\"round\" style=\"stroke:black;stroke-width:2\" /><line x1=\"473.043\" y1=\"326.446\" x2=\"474.396\" y2=\"325.665\" stroke-linecap=\"round\" style=\"stroke:black;stroke-width:2\" /><line x1=\"474.396\" y1=\"325.665\" x2=\"473.043\" y2=\"326.446\" stroke-linecap=\"round\" style=\"stroke:black;stroke-width:2\" /><line x1=\"473.043\" y1=\"326.446\" x2=\"474.396\" y2=\"327.227\" stroke-linecap=\"round\" style=\"stroke:black;stroke-width:2\" /><line x1=\"474.396\" y1=\"327.227\" x2=\"473.043\" y2=\"326.446\" stroke-linecap=\"round\" style=\"stroke:black;stroke-width:2\" /><line x1=\"473.043\" y1=\"326.446\" x2=\"469.918\" y2=\"326.446\" stroke-linecap=\"round\" style=\"stroke:black;stroke-width:2\" /><line x1=\"469.918\" y1=\"326.446\" x2=\"471.481\" y2=\"329.152\" stroke-linecap=\"round\" style=\"stroke:black;stroke-width:2\" /><line x1=\"471.481\" y1=\"329.152\" x2=\"472.834\" y2=\"329.933\" stroke-linecap=\"round\" style=\"stroke:black;stroke-width:2\" /><line x1=\"472.834\" y1=\"329.933\" x2=\"471.481\" y2=\"329.152\" stroke-linecap=\"round\" style=\"stroke:black;stroke-width:2\" /><line x1=\"471.481\" y1=\"329.152\" x2=\"471.481\" y2=\"330.714\" stroke-linecap=\"round\" style=\"stroke:black;stroke-width:2\" /><line x1=\"471.481\" y1=\"330.714\" x2=\"471.481\" y2=\"329.151\" stroke-linecap=\"round\" style=\"stroke:black;stroke-width:2\" /><line x1=\"471.481\" y1=\"329.151\" x2=\"469.918\" y2=\"326.445\" stroke-linecap=\"round\" style=\"stroke:black;stroke-width:2\" /><line x1=\"469.918\" y1=\"326.445\" x2=\"464.505\" y2=\"323.32\" stroke-linecap=\"round\" style=\"stroke:black;stroke-width:2\" /><line x1=\"464.505\" y1=\"323.32\" x2=\"464.505\" y2=\"329.57\" stroke-linecap=\"round\" style=\"stroke:black;stroke-width:2\" /><line x1=\"464.505\" y1=\"329.57\" x2=\"466.067\" y2=\"332.276\" stroke-linecap=\"round\" style=\"stroke:black;stroke-width:2\" /><line x1=\"466.067\" y1=\"332.276\" x2=\"467.42\" y2=\"333.057\" stroke-linecap=\"round\" style=\"stroke:black;stroke-width:2\" /><line x1=\"467.42\" y1=\"333.057\" x2=\"466.067\" y2=\"332.276\" stroke-linecap=\"round\" style=\"stroke:black;stroke-width:2\" /><line x1=\"466.067\" y1=\"332.276\" x2=\"466.067\" y2=\"333.839\" stroke-linecap=\"round\" style=\"stroke:black;stroke-width:2\" /><line x1=\"466.067\" y1=\"333.839\" x2=\"466.067\" y2=\"332.276\" stroke-linecap=\"round\" style=\"stroke:black;stroke-width:2\" /><line x1=\"466.067\" y1=\"332.276\" x2=\"464.505\" y2=\"329.57\" stroke-linecap=\"round\" style=\"stroke:black;stroke-width:2\" /><line x1=\"464.505\" y1=\"329.57\" x2=\"462.942\" y2=\"332.276\" stroke-linecap=\"round\" style=\"stroke:black;stroke-width:2\" /><line x1=\"462.942\" y1=\"332.276\" x2=\"462.942\" y2=\"333.839\" stroke-linecap=\"round\" style=\"stroke:black;stroke-width:2\" /><line x1=\"462.942\" y1=\"333.839\" x2=\"462.942\" y2=\"332.276\" stroke-linecap=\"round\" style=\"stroke:black;stroke-width:2\" /><line x1=\"462.942\" y1=\"332.276\" x2=\"461.589\" y2=\"333.057\" stroke-linecap=\"round\" style=\"stroke:black;stroke-width:2\" /><line x1=\"461.589\" y1=\"333.057\" x2=\"462.942\" y2=\"332.276\" stroke-linecap=\"round\" style=\"stroke:black;stroke-width:2\" /><line x1=\"462.942\" y1=\"332.276\" x2=\"464.505\" y2=\"329.57\" stroke-linecap=\"round\" style=\"stroke:black;stroke-width:2\" /><line x1=\"464.505\" y1=\"329.57\" x2=\"464.505\" y2=\"323.32\" stroke-linecap=\"round\" style=\"stroke:black;stroke-width:2\" /><line x1=\"464.505\" y1=\"323.32\" x2=\"458.255\" y2=\"312.495\" stroke-linecap=\"round\" style=\"stroke:black;stroke-width:2\" /><line x1=\"458.255\" y1=\"312.495\" x2=\"436.604\" y2=\"299.995\" stroke-linecap=\"round\" style=\"stroke:black;stroke-width:2\" /><line x1=\"436.604\" y1=\"299.995\" x2=\"386.604\" y2=\"299.995\" stroke-linecap=\"round\" style=\"stroke:black;stroke-width:2\" /><line x1=\"386.604\" y1=\"299.995\" x2=\"411.604\" y2=\"343.296\" stroke-linecap=\"round\" style=\"stroke:black;stroke-width:2\" /><line x1=\"411.604\" y1=\"343.296\" x2=\"433.255\" y2=\"355.796\" stroke-linecap=\"round\" style=\"stroke:black;stroke-width:2\" /><line x1=\"433.255\" y1=\"355.796\" x2=\"445.755\" y2=\"355.796\" stroke-linecap=\"round\" style=\"stroke:black;stroke-width:2\" /><line x1=\"445.755\" y1=\"355.796\" x2=\"451.168\" y2=\"352.671\" stroke-linecap=\"round\" style=\"stroke:black;stroke-width:2\" /><line x1=\"451.168\" y1=\"352.671\" x2=\"452.731\" y2=\"349.965\" stroke-linecap=\"round\" style=\"stroke:black;stroke-width:2\" /><line x1=\"452.731\" y1=\"349.965\" x2=\"452.731\" y2=\"348.402\" stroke-linecap=\"round\" style=\"stroke:black;stroke-width:2\" /><line x1=\"452.731\" y1=\"348.402\" x2=\"452.731\" y2=\"349.964\" stroke-linecap=\"round\" style=\"stroke:black;stroke-width:2\" /><line x1=\"452.731\" y1=\"349.964\" x2=\"454.084\" y2=\"349.183\" stroke-linecap=\"round\" style=\"stroke:black;stroke-width:2\" /><line x1=\"454.084\" y1=\"349.183\" x2=\"452.731\" y2=\"349.964\" stroke-linecap=\"round\" style=\"stroke:black;stroke-width:2\" /><line x1=\"452.731\" y1=\"349.964\" x2=\"451.168\" y2=\"352.67\" stroke-linecap=\"round\" style=\"stroke:black;stroke-width:2\" /><line x1=\"451.168\" y1=\"352.67\" x2=\"454.293\" y2=\"352.67\" stroke-linecap=\"round\" style=\"stroke:black;stroke-width:2\" /><line x1=\"454.293\" y1=\"352.67\" x2=\"455.646\" y2=\"351.889\" stroke-linecap=\"round\" style=\"stroke:black;stroke-width:2\" /><line x1=\"455.646\" y1=\"351.889\" x2=\"454.293\" y2=\"352.67\" stroke-linecap=\"round\" style=\"stroke:black;stroke-width:2\" /><line x1=\"454.293\" y1=\"352.67\" x2=\"455.646\" y2=\"353.451\" stroke-linecap=\"round\" style=\"stroke:black;stroke-width:2\" /><line x1=\"455.646\" y1=\"353.451\" x2=\"454.293\" y2=\"352.67\" stroke-linecap=\"round\" style=\"stroke:black;stroke-width:2\" /><line x1=\"454.293\" y1=\"352.67\" x2=\"451.168\" y2=\"352.67\" stroke-linecap=\"round\" style=\"stroke:black;stroke-width:2\" /><line x1=\"451.168\" y1=\"352.67\" x2=\"445.755\" y2=\"355.795\" stroke-linecap=\"round\" style=\"stroke:black;stroke-width:2\" /><line x1=\"445.755\" y1=\"355.795\" x2=\"451.168\" y2=\"358.92\" stroke-linecap=\"round\" style=\"stroke:black;stroke-width:2\" /><line x1=\"451.168\" y1=\"358.92\" x2=\"454.293\" y2=\"358.92\" stroke-linecap=\"round\" style=\"stroke:black;stroke-width:2\" /><line x1=\"454.293\" y1=\"358.92\" x2=\"455.646\" y2=\"358.139\" stroke-linecap=\"round\" style=\"stroke:black;stroke-width:2\" /><line x1=\"455.646\" y1=\"358.139\" x2=\"454.293\" y2=\"358.92\" stroke-linecap=\"round\" style=\"stroke:black;stroke-width:2\" /><line x1=\"454.293\" y1=\"358.92\" x2=\"455.646\" y2=\"359.701\" stroke-linecap=\"round\" style=\"stroke:black;stroke-width:2\" /><line x1=\"455.646\" y1=\"359.701\" x2=\"454.293\" y2=\"358.92\" stroke-linecap=\"round\" style=\"stroke:black;stroke-width:2\" /><line x1=\"454.293\" y1=\"358.92\" x2=\"451.168\" y2=\"358.92\" stroke-linecap=\"round\" style=\"stroke:black;stroke-width:2\" /><line x1=\"451.168\" y1=\"358.92\" x2=\"452.731\" y2=\"361.626\" stroke-linecap=\"round\" style=\"stroke:black;stroke-width:2\" /><line x1=\"452.731\" y1=\"361.626\" x2=\"454.084\" y2=\"362.407\" stroke-linecap=\"round\" style=\"stroke:black;stroke-width:2\" /><line x1=\"454.084\" y1=\"362.407\" x2=\"452.731\" y2=\"361.626\" stroke-linecap=\"round\" style=\"stroke:black;stroke-width:2\" /><line x1=\"452.731\" y1=\"361.626\" x2=\"452.731\" y2=\"363.188\" stroke-linecap=\"round\" style=\"stroke:black;stroke-width:2\" /><line x1=\"452.731\" y1=\"363.188\" x2=\"452.731\" y2=\"361.625\" stroke-linecap=\"round\" style=\"stroke:black;stroke-width:2\" /><line x1=\"452.731\" y1=\"361.625\" x2=\"451.168\" y2=\"358.919\" stroke-linecap=\"round\" style=\"stroke:black;stroke-width:2\" /><line x1=\"451.168\" y1=\"358.919\" x2=\"445.755\" y2=\"355.794\" stroke-linecap=\"round\" style=\"stroke:black;stroke-width:2\" /><line x1=\"445.755\" y1=\"355.794\" x2=\"433.255\" y2=\"355.794\" stroke-linecap=\"round\" style=\"stroke:black;stroke-width:2\" /><line x1=\"433.255\" y1=\"355.794\" x2=\"439.505\" y2=\"366.619\" stroke-linecap=\"round\" style=\"stroke:black;stroke-width:2\" /><line x1=\"439.505\" y1=\"366.619\" x2=\"444.918\" y2=\"369.744\" stroke-linecap=\"round\" style=\"stroke:black;stroke-width:2\" /><line x1=\"444.918\" y1=\"369.744\" x2=\"448.043\" y2=\"369.744\" stroke-linecap=\"round\" style=\"stroke:black;stroke-width:2\" /><line x1=\"448.043\" y1=\"369.744\" x2=\"449.396\" y2=\"368.963\" stroke-linecap=\"round\" style=\"stroke:black;stroke-width:2\" /><line x1=\"449.396\" y1=\"368.963\" x2=\"448.043\" y2=\"369.744\" stroke-linecap=\"round\" style=\"stroke:black;stroke-width:2\" /><line x1=\"448.043\" y1=\"369.744\" x2=\"449.396\" y2=\"370.525\" stroke-linecap=\"round\" style=\"stroke:black;stroke-width:2\" /><line x1=\"449.396\" y1=\"370.525\" x2=\"448.043\" y2=\"369.744\" stroke-linecap=\"round\" style=\"stroke:black;stroke-width:2\" /><line x1=\"448.043\" y1=\"369.744\" x2=\"444.918\" y2=\"369.744\" stroke-linecap=\"round\" style=\"stroke:black;stroke-width:2\" /><line x1=\"444.918\" y1=\"369.744\" x2=\"446.481\" y2=\"372.45\" stroke-linecap=\"round\" style=\"stroke:black;stroke-width:2\" /><line x1=\"446.481\" y1=\"372.45\" x2=\"447.834\" y2=\"373.231\" stroke-linecap=\"round\" style=\"stroke:black;stroke-width:2\" /><line x1=\"447.834\" y1=\"373.231\" x2=\"446.481\" y2=\"372.45\" stroke-linecap=\"round\" style=\"stroke:black;stroke-width:2\" /><line x1=\"446.481\" y1=\"372.45\" x2=\"446.481\" y2=\"374.012\" stroke-linecap=\"round\" style=\"stroke:black;stroke-width:2\" /><line x1=\"446.481\" y1=\"374.012\" x2=\"446.481\" y2=\"372.45\" stroke-linecap=\"round\" style=\"stroke:black;stroke-width:2\" /><line x1=\"446.481\" y1=\"372.45\" x2=\"444.918\" y2=\"369.744\" stroke-linecap=\"round\" style=\"stroke:black;stroke-width:2\" /><line x1=\"444.918\" y1=\"369.744\" x2=\"439.505\" y2=\"366.619\" stroke-linecap=\"round\" style=\"stroke:black;stroke-width:2\" /><line x1=\"439.505\" y1=\"366.619\" x2=\"439.505\" y2=\"372.869\" stroke-linecap=\"round\" style=\"stroke:black;stroke-width:2\" /><line x1=\"439.505\" y1=\"372.869\" x2=\"441.067\" y2=\"375.575\" stroke-linecap=\"round\" style=\"stroke:black;stroke-width:2\" /><line x1=\"441.067\" y1=\"375.575\" x2=\"442.42\" y2=\"376.356\" stroke-linecap=\"round\" style=\"stroke:black;stroke-width:2\" /><line x1=\"442.42\" y1=\"376.356\" x2=\"441.067\" y2=\"375.575\" stroke-linecap=\"round\" style=\"stroke:black;stroke-width:2\" /><line x1=\"441.067\" y1=\"375.575\" x2=\"441.067\" y2=\"377.137\" stroke-linecap=\"round\" style=\"stroke:black;stroke-width:2\" /><line x1=\"441.067\" y1=\"377.137\" x2=\"441.067\" y2=\"375.575\" stroke-linecap=\"round\" style=\"stroke:black;stroke-width:2\" /><line x1=\"441.067\" y1=\"375.575\" x2=\"439.505\" y2=\"372.869\" stroke-linecap=\"round\" style=\"stroke:black;stroke-width:2\" /><line x1=\"439.505\" y1=\"372.869\" x2=\"437.942\" y2=\"375.575\" stroke-linecap=\"round\" style=\"stroke:black;stroke-width:2\" /><line x1=\"437.942\" y1=\"375.575\" x2=\"437.942\" y2=\"377.137\" stroke-linecap=\"round\" style=\"stroke:black;stroke-width:2\" /><line x1=\"437.942\" y1=\"377.137\" x2=\"437.942\" y2=\"375.575\" stroke-linecap=\"round\" style=\"stroke:black;stroke-width:2\" /><line x1=\"437.942\" y1=\"375.575\" x2=\"436.589\" y2=\"376.356\" stroke-linecap=\"round\" style=\"stroke:black;stroke-width:2\" /><line x1=\"436.589\" y1=\"376.356\" x2=\"437.942\" y2=\"375.575\" stroke-linecap=\"round\" style=\"stroke:black;stroke-width:2\" /><line x1=\"437.942\" y1=\"375.575\" x2=\"439.505\" y2=\"372.869\" stroke-linecap=\"round\" style=\"stroke:black;stroke-width:2\" /><line x1=\"439.505\" y1=\"372.869\" x2=\"439.505\" y2=\"366.619\" stroke-linecap=\"round\" style=\"stroke:black;stroke-width:2\" /><line x1=\"439.505\" y1=\"366.619\" x2=\"433.255\" y2=\"355.794\" stroke-linecap=\"round\" style=\"stroke:black;stroke-width:2\" /><line x1=\"433.255\" y1=\"355.794\" x2=\"411.604\" y2=\"343.294\" stroke-linecap=\"round\" style=\"stroke:black;stroke-width:2\" /><line x1=\"411.604\" y1=\"343.294\" x2=\"411.604\" y2=\"368.294\" stroke-linecap=\"round\" style=\"stroke:black;stroke-width:2\" /><line x1=\"411.604\" y1=\"368.294\" x2=\"417.854\" y2=\"379.119\" stroke-linecap=\"round\" style=\"stroke:black;stroke-width:2\" /><line x1=\"417.854\" y1=\"379.119\" x2=\"423.267\" y2=\"382.244\" stroke-linecap=\"round\" style=\"stroke:black;stroke-width:2\" /><line x1=\"423.267\" y1=\"382.244\" x2=\"426.392\" y2=\"382.244\" stroke-linecap=\"round\" style=\"stroke:black;stroke-width:2\" /><line x1=\"426.392\" y1=\"382.244\" x2=\"427.745\" y2=\"381.463\" stroke-linecap=\"round\" style=\"stroke:black;stroke-width:2\" /><line x1=\"427.745\" y1=\"381.463\" x2=\"426.392\" y2=\"382.244\" stroke-linecap=\"round\" style=\"stroke:black;stroke-width:2\" /><line x1=\"426.392\" y1=\"382.244\" x2=\"427.745\" y2=\"383.025\" stroke-linecap=\"round\" style=\"stroke:black;stroke-width:2\" /><line x1=\"427.745\" y1=\"383.025\" x2=\"426.392\" y2=\"382.244\" stroke-linecap=\"round\" style=\"stroke:black;stroke-width:2\" /><line x1=\"426.392\" y1=\"382.244\" x2=\"423.267\" y2=\"382.244\" stroke-linecap=\"round\" style=\"stroke:black;stroke-width:2\" /><line x1=\"423.267\" y1=\"382.244\" x2=\"424.829\" y2=\"384.95\" stroke-linecap=\"round\" style=\"stroke:black;stroke-width:2\" /><line x1=\"424.829\" y1=\"384.95\" x2=\"426.182\" y2=\"385.731\" stroke-linecap=\"round\" style=\"stroke:black;stroke-width:2\" /><line x1=\"426.182\" y1=\"385.731\" x2=\"424.829\" y2=\"384.95\" stroke-linecap=\"round\" style=\"stroke:black;stroke-width:2\" /><line x1=\"424.829\" y1=\"384.95\" x2=\"424.829\" y2=\"386.512\" stroke-linecap=\"round\" style=\"stroke:black;stroke-width:2\" /><line x1=\"424.829\" y1=\"386.512\" x2=\"424.829\" y2=\"384.95\" stroke-linecap=\"round\" style=\"stroke:black;stroke-width:2\" /><line x1=\"424.829\" y1=\"384.95\" x2=\"423.267\" y2=\"382.244\" stroke-linecap=\"round\" style=\"stroke:black;stroke-width:2\" /><line x1=\"423.267\" y1=\"382.244\" x2=\"417.854\" y2=\"379.119\" stroke-linecap=\"round\" style=\"stroke:black;stroke-width:2\" /><line x1=\"417.854\" y1=\"379.119\" x2=\"417.854\" y2=\"385.369\" stroke-linecap=\"round\" style=\"stroke:black;stroke-width:2\" /><line x1=\"417.854\" y1=\"385.369\" x2=\"419.416\" y2=\"388.075\" stroke-linecap=\"round\" style=\"stroke:black;stroke-width:2\" /><line x1=\"419.416\" y1=\"388.075\" x2=\"420.769\" y2=\"388.856\" stroke-linecap=\"round\" style=\"stroke:black;stroke-width:2\" /><line x1=\"420.769\" y1=\"388.856\" x2=\"419.416\" y2=\"388.075\" stroke-linecap=\"round\" style=\"stroke:black;stroke-width:2\" /><line x1=\"419.416\" y1=\"388.075\" x2=\"419.416\" y2=\"389.637\" stroke-linecap=\"round\" style=\"stroke:black;stroke-width:2\" /><line x1=\"419.416\" y1=\"389.637\" x2=\"419.416\" y2=\"388.075\" stroke-linecap=\"round\" style=\"stroke:black;stroke-width:2\" /><line x1=\"419.416\" y1=\"388.075\" x2=\"417.853\" y2=\"385.369\" stroke-linecap=\"round\" style=\"stroke:black;stroke-width:2\" /><line x1=\"417.853\" y1=\"385.369\" x2=\"416.291\" y2=\"388.075\" stroke-linecap=\"round\" style=\"stroke:black;stroke-width:2\" /><line x1=\"416.291\" y1=\"388.075\" x2=\"416.291\" y2=\"389.637\" stroke-linecap=\"round\" style=\"stroke:black;stroke-width:2\" /><line x1=\"416.291\" y1=\"389.637\" x2=\"416.291\" y2=\"388.075\" stroke-linecap=\"round\" style=\"stroke:black;stroke-width:2\" /><line x1=\"416.291\" y1=\"388.075\" x2=\"414.938\" y2=\"388.856\" stroke-linecap=\"round\" style=\"stroke:black;stroke-width:2\" /><line x1=\"414.938\" y1=\"388.856\" x2=\"416.291\" y2=\"388.075\" stroke-linecap=\"round\" style=\"stroke:black;stroke-width:2\" /><line x1=\"416.291\" y1=\"388.075\" x2=\"417.853\" y2=\"385.369\" stroke-linecap=\"round\" style=\"stroke:black;stroke-width:2\" /><line x1=\"417.853\" y1=\"385.369\" x2=\"417.853\" y2=\"379.119\" stroke-linecap=\"round\" style=\"stroke:black;stroke-width:2\" /><line x1=\"417.853\" y1=\"379.119\" x2=\"411.603\" y2=\"368.294\" stroke-linecap=\"round\" style=\"stroke:black;stroke-width:2\" /><line x1=\"411.603\" y1=\"368.294\" x2=\"405.353\" y2=\"379.119\" stroke-linecap=\"round\" style=\"stroke:black;stroke-width:2\" /><line x1=\"405.353\" y1=\"379.119\" x2=\"405.353\" y2=\"385.369\" stroke-linecap=\"round\" style=\"stroke:black;stroke-width:2\" /><line x1=\"405.353\" y1=\"385.369\" x2=\"406.916\" y2=\"388.075\" stroke-linecap=\"round\" style=\"stroke:black;stroke-width:2\" /><line x1=\"406.916\" y1=\"388.075\" x2=\"408.269\" y2=\"388.856\" stroke-linecap=\"round\" style=\"stroke:black;stroke-width:2\" /><line x1=\"408.269\" y1=\"388.856\" x2=\"406.916\" y2=\"388.075\" stroke-linecap=\"round\" style=\"stroke:black;stroke-width:2\" /><line x1=\"406.916\" y1=\"388.075\" x2=\"406.916\" y2=\"389.637\" stroke-linecap=\"round\" style=\"stroke:black;stroke-width:2\" /><line x1=\"406.916\" y1=\"389.637\" x2=\"406.916\" y2=\"388.075\" stroke-linecap=\"round\" style=\"stroke:black;stroke-width:2\" /><line x1=\"406.916\" y1=\"388.075\" x2=\"405.353\" y2=\"385.369\" stroke-linecap=\"round\" style=\"stroke:black;stroke-width:2\" /><line x1=\"405.353\" y1=\"385.369\" x2=\"403.791\" y2=\"388.075\" stroke-linecap=\"round\" style=\"stroke:black;stroke-width:2\" /><line x1=\"403.791\" y1=\"388.075\" x2=\"403.791\" y2=\"389.637\" stroke-linecap=\"round\" style=\"stroke:black;stroke-width:2\" /><line x1=\"403.791\" y1=\"389.637\" x2=\"403.791\" y2=\"388.075\" stroke-linecap=\"round\" style=\"stroke:black;stroke-width:2\" /><line x1=\"403.791\" y1=\"388.075\" x2=\"402.438\" y2=\"388.856\" stroke-linecap=\"round\" style=\"stroke:black;stroke-width:2\" /><line x1=\"402.438\" y1=\"388.856\" x2=\"403.791\" y2=\"388.075\" stroke-linecap=\"round\" style=\"stroke:black;stroke-width:2\" /><line x1=\"403.791\" y1=\"388.075\" x2=\"405.353\" y2=\"385.369\" stroke-linecap=\"round\" style=\"stroke:black;stroke-width:2\" /><line x1=\"405.353\" y1=\"385.369\" x2=\"405.353\" y2=\"379.119\" stroke-linecap=\"round\" style=\"stroke:black;stroke-width:2\" /><line x1=\"405.353\" y1=\"379.119\" x2=\"399.94\" y2=\"382.244\" stroke-linecap=\"round\" style=\"stroke:black;stroke-width:2\" /><line x1=\"399.94\" y1=\"382.244\" x2=\"398.377\" y2=\"384.95\" stroke-linecap=\"round\" style=\"stroke:black;stroke-width:2\" /><line x1=\"398.377\" y1=\"384.95\" x2=\"398.377\" y2=\"386.512\" stroke-linecap=\"round\" style=\"stroke:black;stroke-width:2\" /><line x1=\"398.377\" y1=\"386.512\" x2=\"398.377\" y2=\"384.95\" stroke-linecap=\"round\" style=\"stroke:black;stroke-width:2\" /><line x1=\"398.377\" y1=\"384.95\" x2=\"397.024\" y2=\"385.731\" stroke-linecap=\"round\" style=\"stroke:black;stroke-width:2\" /><line x1=\"397.024\" y1=\"385.731\" x2=\"398.377\" y2=\"384.95\" stroke-linecap=\"round\" style=\"stroke:black;stroke-width:2\" /><line x1=\"398.377\" y1=\"384.95\" x2=\"399.94\" y2=\"382.244\" stroke-linecap=\"round\" style=\"stroke:black;stroke-width:2\" /><line x1=\"399.94\" y1=\"382.244\" x2=\"396.815\" y2=\"382.244\" stroke-linecap=\"round\" style=\"stroke:black;stroke-width:2\" /><line x1=\"396.815\" y1=\"382.244\" x2=\"395.462\" y2=\"383.025\" stroke-linecap=\"round\" style=\"stroke:black;stroke-width:2\" /><line x1=\"395.462\" y1=\"383.025\" x2=\"396.815\" y2=\"382.244\" stroke-linecap=\"round\" style=\"stroke:black;stroke-width:2\" /><line x1=\"396.815\" y1=\"382.244\" x2=\"395.462\" y2=\"381.463\" stroke-linecap=\"round\" style=\"stroke:black;stroke-width:2\" /><line x1=\"395.462\" y1=\"381.463\" x2=\"396.815\" y2=\"382.244\" stroke-linecap=\"round\" style=\"stroke:black;stroke-width:2\" /><line x1=\"396.815\" y1=\"382.244\" x2=\"399.94\" y2=\"382.244\" stroke-linecap=\"round\" style=\"stroke:black;stroke-width:2\" /><line x1=\"399.94\" y1=\"382.244\" x2=\"405.353\" y2=\"379.119\" stroke-linecap=\"round\" style=\"stroke:black;stroke-width:2\" /><line x1=\"405.353\" y1=\"379.119\" x2=\"411.603\" y2=\"368.294\" stroke-linecap=\"round\" style=\"stroke:black;stroke-width:2\" /><line x1=\"411.603\" y1=\"368.294\" x2=\"411.603\" y2=\"343.294\" stroke-linecap=\"round\" style=\"stroke:black;stroke-width:2\" /><line x1=\"411.603\" y1=\"343.294\" x2=\"386.603\" y2=\"299.993\" stroke-linecap=\"round\" style=\"stroke:black;stroke-width:2\" /><line x1=\"386.603\" y1=\"299.993\" x2=\"300.0\" y2=\"249.993\" stroke-linecap=\"round\" style=\"stroke:black;stroke-width:2\" /><line x1=\"300.0\" y1=\"249.993\" x2=\"290.0\" y2=\"249.993\" stroke-linecap=\"round\" style=\"stroke:black;stroke-width:2\" /><line x1=\"290.0\" y1=\"249.993\" x2=\"280.0\" y2=\"249.993\" stroke-linecap=\"round\" style=\"stroke:black;stroke-width:2\" /><line x1=\"280.0\" y1=\"249.993\" x2=\"270.0\" y2=\"249.993\" stroke-linecap=\"round\" style=\"stroke:black;stroke-width:2\" /><line x1=\"270.0\" y1=\"249.993\" x2=\"260.0\" y2=\"249.993\" stroke-linecap=\"round\" style=\"stroke:black;stroke-width:2\" /><line x1=\"260.0\" y1=\"249.993\" x2=\"250.0\" y2=\"249.993\" stroke-linecap=\"round\" style=\"stroke:black;stroke-width:2\" /><line x1=\"250.0\" y1=\"249.993\" x2=\"240.0\" y2=\"249.993\" stroke-linecap=\"round\" style=\"stroke:black;stroke-width:2\" /><line x1=\"240.0\" y1=\"249.993\" x2=\"230.0\" y2=\"249.993\" stroke-linecap=\"round\" style=\"stroke:black;stroke-width:2\" /><line x1=\"230.0\" y1=\"249.993\" x2=\"220.0\" y2=\"249.993\" stroke-linecap=\"round\" style=\"stroke:black;stroke-width:2\" /><line x1=\"220.0\" y1=\"249.993\" x2=\"210.0\" y2=\"249.993\" stroke-linecap=\"round\" style=\"stroke:black;stroke-width:2\" /><line x1=\"210.0\" y1=\"249.993\" x2=\"200.0\" y2=\"249.993\" stroke-linecap=\"round\" style=\"stroke:black;stroke-width:2\" /><line x1=\"200.0\" y1=\"249.993\" x2=\"190.0\" y2=\"249.993\" stroke-linecap=\"round\" style=\"stroke:black;stroke-width:2\" /><line x1=\"190.0\" y1=\"249.993\" x2=\"180.0\" y2=\"249.993\" stroke-linecap=\"round\" style=\"stroke:black;stroke-width:2\" /><line x1=\"180.0\" y1=\"249.993\" x2=\"170.0\" y2=\"249.993\" stroke-linecap=\"round\" style=\"stroke:black;stroke-width:2\" /><line x1=\"170.0\" y1=\"249.993\" x2=\"160.0\" y2=\"249.993\" stroke-linecap=\"round\" style=\"stroke:black;stroke-width:2\" /><line x1=\"160.0\" y1=\"249.993\" x2=\"150.0\" y2=\"249.993\" stroke-linecap=\"round\" style=\"stroke:black;stroke-width:2\" /><line x1=\"150.0\" y1=\"249.993\" x2=\"140.0\" y2=\"249.993\" stroke-linecap=\"round\" style=\"stroke:black;stroke-width:2\" /><line x1=\"140.0\" y1=\"249.993\" x2=\"130.0\" y2=\"249.993\" stroke-linecap=\"round\" style=\"stroke:black;stroke-width:2\" /><line x1=\"130.0\" y1=\"249.993\" x2=\"120.0\" y2=\"249.993\" stroke-linecap=\"round\" style=\"stroke:black;stroke-width:2\" /><line x1=\"120.0\" y1=\"249.993\" x2=\"110.0\" y2=\"249.993\" stroke-linecap=\"round\" style=\"stroke:black;stroke-width:2\" /><line x1=\"110.0\" y1=\"249.993\" x2=\"100.0\" y2=\"249.993\" stroke-linecap=\"round\" style=\"stroke:black;stroke-width:2\" />\n",
              "        \n",
              "        \n",
              "        <g id=\"turtle2\" visibility=\"visible\" transform=\"rotate(-90,100.0,249.993) translate(100.0, 249.993)\">\n",
              "<polygon points=\"0,16 2,14 1,10 4,7 7,9 9,8 6,5 7,1 5,-3 8,-6 6,-8 4,-5 0,-7 -4,-5 -6,-8 -8,-6 -5,-3 -7,1 -6,5 -9,8 -7,9 -4,7 -1,10 -2,14\" transform=\"skewX(0) scale(1,1)\" style=\"stroke:black;stroke-width:1;fill:black\" />\n",
              "</g>\n",
              "      </svg>\n",
              "    "
            ],
            "text/plain": [
              "<IPython.core.display.HTML object>"
            ]
          },
          "metadata": {},
          "output_type": "display_data"
        }
      ],
      "source": [
        "import ColabTurtlePlus.Turtle as t\n",
        "\n",
        "t.clearscreen()      # it's good to start every cell with this\n",
        "t.setup(500,500)     # setup the drawing area to be 500 pixels x 500 pixels\n",
        "t.showborder()       # show the border of the drawing area\n",
        "\n",
        "t.bgcolor(\"AliceBlue\")   # adjust to your preferences!\n",
        "t.shape(\"turtle2\")\n",
        "t.speed(10)\n",
        "t.width(2)\n",
        "\n",
        "def svtree(trunklength, levels):\n",
        "    \"\"\"svtree: draws a side-view tree\n",
        "       trunklength = the length of the first line drawn (\"the trunk\")\n",
        "       levels = the depth of recursion to which it continues branching\n",
        "    \"\"\"\n",
        "    if levels == 0:\n",
        "        return\n",
        "    else:\n",
        "        t.forward(trunklength)# Draw the original trunk (1 line)\n",
        "        t.left(30)# Turn a little bit to position the first subtree (1 line)\n",
        "        svtree(trunklength/2, levels - 1)# Recurse! with both a smaller trunk and fewer levels (1 line)\n",
        "        t.right(60)# Turn the other way to position the second subtree (1 line)\n",
        "        svtree(trunklength/2, levels - 1)# Recurse again! (1 line)\n",
        "        t.left(30)# Turn and go BACKWARDS (2 steps: 2 lines)\n",
        "        t.backward(trunklength)\n",
        "\n",
        "\n",
        "#\n",
        "# setup - move the turtle backward a bit:\n",
        "#\n",
        "t.penup()\n",
        "t.backward(150)\n",
        "t.pendown()\n",
        "\n",
        "# Go!  One example:\n",
        "svtree(200, 8)\n",
        "\n",
        "# try svtree(100,5)\n"
      ]
    },
    {
      "cell_type": "markdown",
      "metadata": {
        "id": "0pQOhwduNYAw"
      },
      "source": [
        "### <font color = \"blue\"> **More on `svtree`...**\n",
        "\n",
        "Before diving in, take a look at two examples and some analysis. First, here is an example of the possible output when `svtree(50, 2)` is run:\n",
        "\n",
        "\n",
        "<img src = \"https://www.cs.hmc.edu/twiki/pub/CS5Fall2022/Lab2Turtle/svtree_2.png\" height=\"142px\">\n",
        "\n",
        "Caution: because the function draws a sideways tree, it can go off the screen really fast. The lines of code at the bottom (`t.penup()` through `t.pendown()`) ensure that that doesn't happen, so make sure that you call svtree _after_ them.\n",
        "\n",
        "Here is an example of the output from our function when `svtree(128, 6)` is run:\n",
        "\n",
        "<img src = \"https://www.cs.hmc.edu/twiki/pub/CS5Fall2022/Lab2Turtle/svtree_6.png\" height=\"200px\">\n",
        "\n",
        "\n",
        "Note that this __really__ is side-view!\n",
        "\n",
        "Also, if `svtree(50, 0)` is run, the result should be no drawing at all. _The base case occurs when `levels` equals 0._\n",
        "\n",
        "<br>\n",
        "\n",
        "<font size = \"+1.5\"> <b> Strategy and analysis </font></b>\n",
        "\n",
        "**Base case:**   for `svtree`, you want to draw nothing (and `return` from `svtree`) when `levels == 0`.\n",
        "\n",
        "**Recursive case:**   We tackle it conceptually.\n",
        "\n",
        "Here is a picture showing the self-similar breakdown of `svtree` (from the Gold slides). This is, in fact, an almost complete map of the svtree code!\n",
        "\n",
        "\n",
        "<img src = \"https://www.cs.hmc.edu/twiki/pub/CS5/Lab2Turtle/svtree.png\" height=\"442px\">\n",
        "\n",
        "\n",
        "The key to happiness with recursive drawing is this: ___the pen must be back at the start (root) of the tree at the end of the function call, and the turtle must be facing in the original direction!___ That way, each portion of the recursion \"takes care of itself\" relative to the other parts of the image. Here are the steps:\n",
        "\n",
        "- Go forward the `trunklength`.\n",
        "- Turn left some amount.\n",
        "- Recur! (call `svtree` with a fraction of the `trunklength` and 1 fewer levels).\n",
        "- Turn right some amount (if you want to be symmetric, turn right by double the amount you turned left).\n",
        "- Recur again! (make the same call to `svtree` with a fraction of the `trunklength` and 1 fewer levels).\n",
        "- _Finish up, part 1_: Turn left so that the turtle is facing its original direction (if your tree is symmetric, the same as the original left turn).\n",
        "- _finish up, part 2_: Go __backward__ the original `trunklength`.\n",
        "\n",
        "<br>\n",
        "\n",
        "**Notes and Hints**\n",
        "\n",
        "- Don't worry about the exact angle of branching...\n",
        "- Don't worry about the exact amount of reduction of the trunklength in sub-branches, etc.\n",
        "- Design your own tree by making aesthetic choices for each of these!\n",
        "\n",
        "Also, calling `t.left(90)` before the code at the bottom will yield a more traditional, skyward, tree pose!\n",
        "\n",
        "\n",
        "\n",
        "\n",
        "\n",
        "\n",
        "\n",
        "\n"
      ]
    },
    {
      "cell_type": "markdown",
      "metadata": {
        "id": "yBoWs_GvPzGP"
      },
      "source": [
        "#### **Try more branches!**\n",
        "\n",
        "Once you have the `svtree` function working, alter it so that it has three or more branches, instead of only two...\n",
        "\n",
        "- You can get some very dense \"foliage\" very quickly.\n",
        "- Even more \"life-like\" results are possible if you use non-identical branching angles and size multipliers.\n",
        "- Also, you could have the `pensize` or `pencolor` depend on the value of `levels`.\n",
        "- If you make the final \"level\" red, you can create an apple tree.\n",
        "   - See the `dot` example from `tri` for other ways to add fruit to a tree...\n",
        "- Or, if you make that final \"level\" a random color, you can produce fall-foliage-type effects..."
      ]
    },
    {
      "cell_type": "markdown",
      "metadata": {
        "id": "IHnTo1HZQAnF"
      },
      "source": [
        "For the fourth task, as with the previous ones,\n",
        "+ leave in the notebook your final/favorite tree, one that's different from this page's provided examples.\n",
        "\n"
      ]
    },
    {
      "cell_type": "markdown",
      "metadata": {
        "id": "I5wCTsO_QN68"
      },
      "source": [
        "### _What - only two branches?!_    \n",
        "\n",
        " As the branching factor increases, things can get __icy__... or, perhaps, numbing:"
      ]
    },
    {
      "cell_type": "markdown",
      "metadata": {
        "id": "kCe2pKeiQt1V"
      },
      "source": [
        "## <font color = \"blue\"> <b>Turtle Task #5: The `flakeside` function </b> <font size = \"-1\"> [10 points]</font>\n",
        "\n",
        "A challenge! The Koch Snowflake is an example of _deeply_ branching recursion.\n",
        "\n",
        "The Koch snowflake is a fractal with three identical sides—it's the sides themselves that are defined recursively, not the set of three of them.\n",
        "\n",
        "Because of this, we provide the overall `snowflake` function for you to use—it's here.\n",
        "\n",
        "<b>Note</b> - you won't be able to use the <tt>snowflake</tt> function until you define `flakeside` below."
      ]
    },
    {
      "cell_type": "code",
      "execution_count": 138,
      "metadata": {
        "colab": {
          "base_uri": "https://localhost:8080/",
          "height": 1000
        },
        "id": "PwbAEbdARUGk",
        "outputId": "844a258c-dc9b-4bff-9ec7-81927c899696"
      },
      "outputs": [
        {
          "data": {
            "text/html": [
              "\n",
              "      <svg width=\"1500\" height=\"1500\">  \n",
              "        <rect width=\"100%\" height=\"100%\" style=\"fill:aliceblue;stroke:gray;stroke-width:1\"/>\n",
              "        \n",
              "        \n",
              "        <line x1=\"350.0\" y1=\"750.0\" x2=\"370.0\" y2=\"750.0\" stroke-linecap=\"round\" style=\"stroke:black;stroke-width:2\" /><line x1=\"370.0\" y1=\"750.0\" x2=\"380.0\" y2=\"767.321\" stroke-linecap=\"round\" style=\"stroke:black;stroke-width:2\" /><line x1=\"380.0\" y1=\"767.321\" x2=\"390.0\" y2=\"750.0\" stroke-linecap=\"round\" style=\"stroke:black;stroke-width:2\" /><line x1=\"390.0\" y1=\"750.0\" x2=\"410.0\" y2=\"750.0\" stroke-linecap=\"round\" style=\"stroke:black;stroke-width:2\" /><line x1=\"410.0\" y1=\"750.0\" x2=\"420.0\" y2=\"767.321\" stroke-linecap=\"round\" style=\"stroke:black;stroke-width:2\" /><line x1=\"420.0\" y1=\"767.321\" x2=\"410.0\" y2=\"784.642\" stroke-linecap=\"round\" style=\"stroke:black;stroke-width:2\" /><line x1=\"410.0\" y1=\"784.642\" x2=\"430.0\" y2=\"784.642\" stroke-linecap=\"round\" style=\"stroke:black;stroke-width:2\" /><line x1=\"430.0\" y1=\"784.642\" x2=\"440.0\" y2=\"801.963\" stroke-linecap=\"round\" style=\"stroke:black;stroke-width:2\" /><line x1=\"440.0\" y1=\"801.963\" x2=\"450.0\" y2=\"784.642\" stroke-linecap=\"round\" style=\"stroke:black;stroke-width:2\" /><line x1=\"450.0\" y1=\"784.642\" x2=\"470.0\" y2=\"784.642\" stroke-linecap=\"round\" style=\"stroke:black;stroke-width:2\" /><line x1=\"470.0\" y1=\"784.642\" x2=\"460.0\" y2=\"767.321\" stroke-linecap=\"round\" style=\"stroke:black;stroke-width:2\" /><line x1=\"460.0\" y1=\"767.321\" x2=\"470.0\" y2=\"750.0\" stroke-linecap=\"round\" style=\"stroke:black;stroke-width:2\" /><line x1=\"470.0\" y1=\"750.0\" x2=\"490.0\" y2=\"750.0\" stroke-linecap=\"round\" style=\"stroke:black;stroke-width:2\" /><line x1=\"490.0\" y1=\"750.0\" x2=\"500.0\" y2=\"767.321\" stroke-linecap=\"round\" style=\"stroke:black;stroke-width:2\" /><line x1=\"500.0\" y1=\"767.321\" x2=\"510.0\" y2=\"750.0\" stroke-linecap=\"round\" style=\"stroke:black;stroke-width:2\" /><line x1=\"510.0\" y1=\"750.0\" x2=\"530.0\" y2=\"750.0\" stroke-linecap=\"round\" style=\"stroke:black;stroke-width:2\" /><line x1=\"530.0\" y1=\"750.0\" x2=\"540.0\" y2=\"767.321\" stroke-linecap=\"round\" style=\"stroke:black;stroke-width:2\" /><line x1=\"540.0\" y1=\"767.321\" x2=\"530.0\" y2=\"784.642\" stroke-linecap=\"round\" style=\"stroke:black;stroke-width:2\" /><line x1=\"530.0\" y1=\"784.642\" x2=\"550.0\" y2=\"784.642\" stroke-linecap=\"round\" style=\"stroke:black;stroke-width:2\" /><line x1=\"550.0\" y1=\"784.642\" x2=\"560.0\" y2=\"801.963\" stroke-linecap=\"round\" style=\"stroke:black;stroke-width:2\" /><line x1=\"560.0\" y1=\"801.963\" x2=\"550.0\" y2=\"819.284\" stroke-linecap=\"round\" style=\"stroke:black;stroke-width:2\" /><line x1=\"550.0\" y1=\"819.284\" x2=\"530.0\" y2=\"819.284\" stroke-linecap=\"round\" style=\"stroke:black;stroke-width:2\" /><line x1=\"530.0\" y1=\"819.284\" x2=\"540.0\" y2=\"836.605\" stroke-linecap=\"round\" style=\"stroke:black;stroke-width:2\" /><line x1=\"540.0\" y1=\"836.605\" x2=\"530.0\" y2=\"853.926\" stroke-linecap=\"round\" style=\"stroke:black;stroke-width:2\" /><line x1=\"530.0\" y1=\"853.926\" x2=\"550.0\" y2=\"853.926\" stroke-linecap=\"round\" style=\"stroke:black;stroke-width:2\" /><line x1=\"550.0\" y1=\"853.926\" x2=\"560.0\" y2=\"871.247\" stroke-linecap=\"round\" style=\"stroke:black;stroke-width:2\" /><line x1=\"560.0\" y1=\"871.247\" x2=\"570.0\" y2=\"853.926\" stroke-linecap=\"round\" style=\"stroke:black;stroke-width:2\" /><line x1=\"570.0\" y1=\"853.926\" x2=\"590.0\" y2=\"853.926\" stroke-linecap=\"round\" style=\"stroke:black;stroke-width:2\" /><line x1=\"590.0\" y1=\"853.926\" x2=\"600.0\" y2=\"871.247\" stroke-linecap=\"round\" style=\"stroke:black;stroke-width:2\" /><line x1=\"600.0\" y1=\"871.247\" x2=\"590.0\" y2=\"888.568\" stroke-linecap=\"round\" style=\"stroke:black;stroke-width:2\" /><line x1=\"590.0\" y1=\"888.568\" x2=\"610.0\" y2=\"888.568\" stroke-linecap=\"round\" style=\"stroke:black;stroke-width:2\" /><line x1=\"610.0\" y1=\"888.568\" x2=\"620.0\" y2=\"905.889\" stroke-linecap=\"round\" style=\"stroke:black;stroke-width:2\" /><line x1=\"620.0\" y1=\"905.889\" x2=\"630.0\" y2=\"888.568\" stroke-linecap=\"round\" style=\"stroke:black;stroke-width:2\" /><line x1=\"630.0\" y1=\"888.568\" x2=\"650.0\" y2=\"888.568\" stroke-linecap=\"round\" style=\"stroke:black;stroke-width:2\" /><line x1=\"650.0\" y1=\"888.568\" x2=\"640.0\" y2=\"871.247\" stroke-linecap=\"round\" style=\"stroke:black;stroke-width:2\" /><line x1=\"640.0\" y1=\"871.247\" x2=\"650.0\" y2=\"853.926\" stroke-linecap=\"round\" style=\"stroke:black;stroke-width:2\" /><line x1=\"650.0\" y1=\"853.926\" x2=\"670.0\" y2=\"853.926\" stroke-linecap=\"round\" style=\"stroke:black;stroke-width:2\" /><line x1=\"670.0\" y1=\"853.926\" x2=\"680.0\" y2=\"871.247\" stroke-linecap=\"round\" style=\"stroke:black;stroke-width:2\" /><line x1=\"680.0\" y1=\"871.247\" x2=\"690.0\" y2=\"853.926\" stroke-linecap=\"round\" style=\"stroke:black;stroke-width:2\" /><line x1=\"690.0\" y1=\"853.926\" x2=\"710.0\" y2=\"853.926\" stroke-linecap=\"round\" style=\"stroke:black;stroke-width:2\" /><line x1=\"710.0\" y1=\"853.926\" x2=\"700.0\" y2=\"836.605\" stroke-linecap=\"round\" style=\"stroke:black;stroke-width:2\" /><line x1=\"700.0\" y1=\"836.605\" x2=\"710.0\" y2=\"819.284\" stroke-linecap=\"round\" style=\"stroke:black;stroke-width:2\" /><line x1=\"710.0\" y1=\"819.284\" x2=\"690.0\" y2=\"819.284\" stroke-linecap=\"round\" style=\"stroke:black;stroke-width:2\" /><line x1=\"690.0\" y1=\"819.284\" x2=\"680.0\" y2=\"801.963\" stroke-linecap=\"round\" style=\"stroke:black;stroke-width:2\" /><line x1=\"680.0\" y1=\"801.963\" x2=\"690.0\" y2=\"784.642\" stroke-linecap=\"round\" style=\"stroke:black;stroke-width:2\" /><line x1=\"690.0\" y1=\"784.642\" x2=\"710.0\" y2=\"784.642\" stroke-linecap=\"round\" style=\"stroke:black;stroke-width:2\" /><line x1=\"710.0\" y1=\"784.642\" x2=\"700.0\" y2=\"767.321\" stroke-linecap=\"round\" style=\"stroke:black;stroke-width:2\" /><line x1=\"700.0\" y1=\"767.321\" x2=\"710.0\" y2=\"750.0\" stroke-linecap=\"round\" style=\"stroke:black;stroke-width:2\" /><line x1=\"710.0\" y1=\"750.0\" x2=\"730.0\" y2=\"750.0\" stroke-linecap=\"round\" style=\"stroke:black;stroke-width:2\" /><line x1=\"730.0\" y1=\"750.0\" x2=\"740.0\" y2=\"767.321\" stroke-linecap=\"round\" style=\"stroke:black;stroke-width:2\" /><line x1=\"740.0\" y1=\"767.321\" x2=\"750.0\" y2=\"750.0\" stroke-linecap=\"round\" style=\"stroke:black;stroke-width:2\" /><line x1=\"750.0\" y1=\"750.0\" x2=\"770.0\" y2=\"750.0\" stroke-linecap=\"round\" style=\"stroke:black;stroke-width:2\" /><line x1=\"770.0\" y1=\"750.0\" x2=\"780.0\" y2=\"767.321\" stroke-linecap=\"round\" style=\"stroke:black;stroke-width:2\" /><line x1=\"780.0\" y1=\"767.321\" x2=\"770.0\" y2=\"784.642\" stroke-linecap=\"round\" style=\"stroke:black;stroke-width:2\" /><line x1=\"770.0\" y1=\"784.642\" x2=\"790.0\" y2=\"784.642\" stroke-linecap=\"round\" style=\"stroke:black;stroke-width:2\" /><line x1=\"790.0\" y1=\"784.642\" x2=\"800.0\" y2=\"801.963\" stroke-linecap=\"round\" style=\"stroke:black;stroke-width:2\" /><line x1=\"800.0\" y1=\"801.963\" x2=\"810.0\" y2=\"784.642\" stroke-linecap=\"round\" style=\"stroke:black;stroke-width:2\" /><line x1=\"810.0\" y1=\"784.642\" x2=\"830.0\" y2=\"784.642\" stroke-linecap=\"round\" style=\"stroke:black;stroke-width:2\" /><line x1=\"830.0\" y1=\"784.642\" x2=\"820.0\" y2=\"767.321\" stroke-linecap=\"round\" style=\"stroke:black;stroke-width:2\" /><line x1=\"820.0\" y1=\"767.321\" x2=\"830.0\" y2=\"750.0\" stroke-linecap=\"round\" style=\"stroke:black;stroke-width:2\" /><line x1=\"830.0\" y1=\"750.0\" x2=\"850.0\" y2=\"750.0\" stroke-linecap=\"round\" style=\"stroke:black;stroke-width:2\" /><line x1=\"850.0\" y1=\"750.0\" x2=\"860.0\" y2=\"767.321\" stroke-linecap=\"round\" style=\"stroke:black;stroke-width:2\" /><line x1=\"860.0\" y1=\"767.321\" x2=\"870.0\" y2=\"750.0\" stroke-linecap=\"round\" style=\"stroke:black;stroke-width:2\" /><line x1=\"870.0\" y1=\"750.0\" x2=\"890.0\" y2=\"750.0\" stroke-linecap=\"round\" style=\"stroke:black;stroke-width:2\" /><line x1=\"890.0\" y1=\"750.0\" x2=\"880.0\" y2=\"732.679\" stroke-linecap=\"round\" style=\"stroke:black;stroke-width:2\" /><line x1=\"880.0\" y1=\"732.679\" x2=\"890.0\" y2=\"715.358\" stroke-linecap=\"round\" style=\"stroke:black;stroke-width:2\" /><line x1=\"890.0\" y1=\"715.358\" x2=\"870.0\" y2=\"715.358\" stroke-linecap=\"round\" style=\"stroke:black;stroke-width:2\" /><line x1=\"870.0\" y1=\"715.358\" x2=\"860.0\" y2=\"698.037\" stroke-linecap=\"round\" style=\"stroke:black;stroke-width:2\" /><line x1=\"860.0\" y1=\"698.037\" x2=\"870.0\" y2=\"680.716\" stroke-linecap=\"round\" style=\"stroke:black;stroke-width:2\" /><line x1=\"870.0\" y1=\"680.716\" x2=\"890.0\" y2=\"680.716\" stroke-linecap=\"round\" style=\"stroke:black;stroke-width:2\" /><line x1=\"890.0\" y1=\"680.716\" x2=\"880.0\" y2=\"663.395\" stroke-linecap=\"round\" style=\"stroke:black;stroke-width:2\" /><line x1=\"880.0\" y1=\"663.395\" x2=\"890.0\" y2=\"646.074\" stroke-linecap=\"round\" style=\"stroke:black;stroke-width:2\" /><line x1=\"890.0\" y1=\"646.074\" x2=\"870.0\" y2=\"646.074\" stroke-linecap=\"round\" style=\"stroke:black;stroke-width:2\" /><line x1=\"870.0\" y1=\"646.074\" x2=\"860.0\" y2=\"628.753\" stroke-linecap=\"round\" style=\"stroke:black;stroke-width:2\" /><line x1=\"860.0\" y1=\"628.753\" x2=\"850.0\" y2=\"646.074\" stroke-linecap=\"round\" style=\"stroke:black;stroke-width:2\" /><line x1=\"850.0\" y1=\"646.074\" x2=\"830.0\" y2=\"646.074\" stroke-linecap=\"round\" style=\"stroke:black;stroke-width:2\" /><line x1=\"830.0\" y1=\"646.074\" x2=\"820.0\" y2=\"628.753\" stroke-linecap=\"round\" style=\"stroke:black;stroke-width:2\" /><line x1=\"820.0\" y1=\"628.753\" x2=\"830.0\" y2=\"611.432\" stroke-linecap=\"round\" style=\"stroke:black;stroke-width:2\" /><line x1=\"830.0\" y1=\"611.432\" x2=\"810.0\" y2=\"611.432\" stroke-linecap=\"round\" style=\"stroke:black;stroke-width:2\" /><line x1=\"810.0\" y1=\"611.432\" x2=\"800.0\" y2=\"594.111\" stroke-linecap=\"round\" style=\"stroke:black;stroke-width:2\" /><line x1=\"800.0\" y1=\"594.111\" x2=\"810.0\" y2=\"576.79\" stroke-linecap=\"round\" style=\"stroke:black;stroke-width:2\" /><line x1=\"810.0\" y1=\"576.79\" x2=\"830.0\" y2=\"576.79\" stroke-linecap=\"round\" style=\"stroke:black;stroke-width:2\" /><line x1=\"830.0\" y1=\"576.79\" x2=\"820.0\" y2=\"559.469\" stroke-linecap=\"round\" style=\"stroke:black;stroke-width:2\" /><line x1=\"820.0\" y1=\"559.469\" x2=\"830.0\" y2=\"542.148\" stroke-linecap=\"round\" style=\"stroke:black;stroke-width:2\" /><line x1=\"830.0\" y1=\"542.148\" x2=\"850.0\" y2=\"542.148\" stroke-linecap=\"round\" style=\"stroke:black;stroke-width:2\" /><line x1=\"850.0\" y1=\"542.148\" x2=\"860.0\" y2=\"559.469\" stroke-linecap=\"round\" style=\"stroke:black;stroke-width:2\" /><line x1=\"860.0\" y1=\"559.469\" x2=\"870.0\" y2=\"542.148\" stroke-linecap=\"round\" style=\"stroke:black;stroke-width:2\" /><line x1=\"870.0\" y1=\"542.148\" x2=\"890.0\" y2=\"542.148\" stroke-linecap=\"round\" style=\"stroke:black;stroke-width:2\" /><line x1=\"890.0\" y1=\"542.148\" x2=\"880.0\" y2=\"524.827\" stroke-linecap=\"round\" style=\"stroke:black;stroke-width:2\" /><line x1=\"880.0\" y1=\"524.827\" x2=\"890.0\" y2=\"507.506\" stroke-linecap=\"round\" style=\"stroke:black;stroke-width:2\" /><line x1=\"890.0\" y1=\"507.506\" x2=\"870.0\" y2=\"507.506\" stroke-linecap=\"round\" style=\"stroke:black;stroke-width:2\" /><line x1=\"870.0\" y1=\"507.506\" x2=\"860.0\" y2=\"490.185\" stroke-linecap=\"round\" style=\"stroke:black;stroke-width:2\" /><line x1=\"860.0\" y1=\"490.185\" x2=\"870.0\" y2=\"472.864\" stroke-linecap=\"round\" style=\"stroke:black;stroke-width:2\" /><line x1=\"870.0\" y1=\"472.864\" x2=\"890.0\" y2=\"472.864\" stroke-linecap=\"round\" style=\"stroke:black;stroke-width:2\" /><line x1=\"890.0\" y1=\"472.864\" x2=\"880.0\" y2=\"455.543\" stroke-linecap=\"round\" style=\"stroke:black;stroke-width:2\" /><line x1=\"880.0\" y1=\"455.543\" x2=\"890.0\" y2=\"438.222\" stroke-linecap=\"round\" style=\"stroke:black;stroke-width:2\" /><line x1=\"890.0\" y1=\"438.222\" x2=\"870.0\" y2=\"438.222\" stroke-linecap=\"round\" style=\"stroke:black;stroke-width:2\" /><line x1=\"870.0\" y1=\"438.222\" x2=\"860.0\" y2=\"420.901\" stroke-linecap=\"round\" style=\"stroke:black;stroke-width:2\" /><line x1=\"860.0\" y1=\"420.901\" x2=\"850.0\" y2=\"438.222\" stroke-linecap=\"round\" style=\"stroke:black;stroke-width:2\" /><line x1=\"850.0\" y1=\"438.222\" x2=\"830.0\" y2=\"438.222\" stroke-linecap=\"round\" style=\"stroke:black;stroke-width:2\" /><line x1=\"830.0\" y1=\"438.222\" x2=\"820.0\" y2=\"420.901\" stroke-linecap=\"round\" style=\"stroke:black;stroke-width:2\" /><line x1=\"820.0\" y1=\"420.901\" x2=\"830.0\" y2=\"403.58\" stroke-linecap=\"round\" style=\"stroke:black;stroke-width:2\" /><line x1=\"830.0\" y1=\"403.58\" x2=\"810.0\" y2=\"403.58\" stroke-linecap=\"round\" style=\"stroke:black;stroke-width:2\" /><line x1=\"810.0\" y1=\"403.58\" x2=\"800.0\" y2=\"386.259\" stroke-linecap=\"round\" style=\"stroke:black;stroke-width:2\" /><line x1=\"800.0\" y1=\"386.259\" x2=\"790.0\" y2=\"403.58\" stroke-linecap=\"round\" style=\"stroke:black;stroke-width:2\" /><line x1=\"790.0\" y1=\"403.58\" x2=\"770.0\" y2=\"403.58\" stroke-linecap=\"round\" style=\"stroke:black;stroke-width:2\" /><line x1=\"770.0\" y1=\"403.58\" x2=\"780.0\" y2=\"420.901\" stroke-linecap=\"round\" style=\"stroke:black;stroke-width:2\" /><line x1=\"780.0\" y1=\"420.901\" x2=\"770.0\" y2=\"438.222\" stroke-linecap=\"round\" style=\"stroke:black;stroke-width:2\" /><line x1=\"770.0\" y1=\"438.222\" x2=\"750.0\" y2=\"438.222\" stroke-linecap=\"round\" style=\"stroke:black;stroke-width:2\" /><line x1=\"750.0\" y1=\"438.222\" x2=\"740.0\" y2=\"420.901\" stroke-linecap=\"round\" style=\"stroke:black;stroke-width:2\" /><line x1=\"740.0\" y1=\"420.901\" x2=\"730.0\" y2=\"438.222\" stroke-linecap=\"round\" style=\"stroke:black;stroke-width:2\" /><line x1=\"730.0\" y1=\"438.222\" x2=\"710.0\" y2=\"438.222\" stroke-linecap=\"round\" style=\"stroke:black;stroke-width:2\" /><line x1=\"710.0\" y1=\"438.222\" x2=\"700.0\" y2=\"420.901\" stroke-linecap=\"round\" style=\"stroke:black;stroke-width:2\" /><line x1=\"700.0\" y1=\"420.901\" x2=\"710.0\" y2=\"403.58\" stroke-linecap=\"round\" style=\"stroke:black;stroke-width:2\" /><line x1=\"710.0\" y1=\"403.58\" x2=\"690.0\" y2=\"403.58\" stroke-linecap=\"round\" style=\"stroke:black;stroke-width:2\" /><line x1=\"690.0\" y1=\"403.58\" x2=\"680.0\" y2=\"386.259\" stroke-linecap=\"round\" style=\"stroke:black;stroke-width:2\" /><line x1=\"680.0\" y1=\"386.259\" x2=\"690.0\" y2=\"368.938\" stroke-linecap=\"round\" style=\"stroke:black;stroke-width:2\" /><line x1=\"690.0\" y1=\"368.938\" x2=\"710.0\" y2=\"368.938\" stroke-linecap=\"round\" style=\"stroke:black;stroke-width:2\" /><line x1=\"710.0\" y1=\"368.938\" x2=\"700.0\" y2=\"351.617\" stroke-linecap=\"round\" style=\"stroke:black;stroke-width:2\" /><line x1=\"700.0\" y1=\"351.617\" x2=\"710.0\" y2=\"334.296\" stroke-linecap=\"round\" style=\"stroke:black;stroke-width:2\" /><line x1=\"710.0\" y1=\"334.296\" x2=\"690.0\" y2=\"334.296\" stroke-linecap=\"round\" style=\"stroke:black;stroke-width:2\" /><line x1=\"690.0\" y1=\"334.296\" x2=\"680.0\" y2=\"316.975\" stroke-linecap=\"round\" style=\"stroke:black;stroke-width:2\" /><line x1=\"680.0\" y1=\"316.975\" x2=\"670.0\" y2=\"334.296\" stroke-linecap=\"round\" style=\"stroke:black;stroke-width:2\" /><line x1=\"670.0\" y1=\"334.296\" x2=\"650.0\" y2=\"334.296\" stroke-linecap=\"round\" style=\"stroke:black;stroke-width:2\" /><line x1=\"650.0\" y1=\"334.296\" x2=\"640.0\" y2=\"316.975\" stroke-linecap=\"round\" style=\"stroke:black;stroke-width:2\" /><line x1=\"640.0\" y1=\"316.975\" x2=\"650.0\" y2=\"299.654\" stroke-linecap=\"round\" style=\"stroke:black;stroke-width:2\" /><line x1=\"650.0\" y1=\"299.654\" x2=\"630.0\" y2=\"299.654\" stroke-linecap=\"round\" style=\"stroke:black;stroke-width:2\" /><line x1=\"630.0\" y1=\"299.654\" x2=\"620.0\" y2=\"282.333\" stroke-linecap=\"round\" style=\"stroke:black;stroke-width:2\" /><line x1=\"620.0\" y1=\"282.333\" x2=\"610.0\" y2=\"299.654\" stroke-linecap=\"round\" style=\"stroke:black;stroke-width:2\" /><line x1=\"610.0\" y1=\"299.654\" x2=\"590.0\" y2=\"299.654\" stroke-linecap=\"round\" style=\"stroke:black;stroke-width:2\" /><line x1=\"590.0\" y1=\"299.654\" x2=\"600.0\" y2=\"316.975\" stroke-linecap=\"round\" style=\"stroke:black;stroke-width:2\" /><line x1=\"600.0\" y1=\"316.975\" x2=\"590.0\" y2=\"334.296\" stroke-linecap=\"round\" style=\"stroke:black;stroke-width:2\" /><line x1=\"590.0\" y1=\"334.296\" x2=\"570.0\" y2=\"334.296\" stroke-linecap=\"round\" style=\"stroke:black;stroke-width:2\" /><line x1=\"570.0\" y1=\"334.296\" x2=\"560.0\" y2=\"316.975\" stroke-linecap=\"round\" style=\"stroke:black;stroke-width:2\" /><line x1=\"560.0\" y1=\"316.975\" x2=\"550.0\" y2=\"334.296\" stroke-linecap=\"round\" style=\"stroke:black;stroke-width:2\" /><line x1=\"550.0\" y1=\"334.296\" x2=\"530.0\" y2=\"334.296\" stroke-linecap=\"round\" style=\"stroke:black;stroke-width:2\" /><line x1=\"530.0\" y1=\"334.296\" x2=\"540.0\" y2=\"351.617\" stroke-linecap=\"round\" style=\"stroke:black;stroke-width:2\" /><line x1=\"540.0\" y1=\"351.617\" x2=\"530.0\" y2=\"368.938\" stroke-linecap=\"round\" style=\"stroke:black;stroke-width:2\" /><line x1=\"530.0\" y1=\"368.938\" x2=\"550.0\" y2=\"368.938\" stroke-linecap=\"round\" style=\"stroke:black;stroke-width:2\" /><line x1=\"550.0\" y1=\"368.938\" x2=\"560.0\" y2=\"386.259\" stroke-linecap=\"round\" style=\"stroke:black;stroke-width:2\" /><line x1=\"560.0\" y1=\"386.259\" x2=\"550.0\" y2=\"403.58\" stroke-linecap=\"round\" style=\"stroke:black;stroke-width:2\" /><line x1=\"550.0\" y1=\"403.58\" x2=\"530.0\" y2=\"403.58\" stroke-linecap=\"round\" style=\"stroke:black;stroke-width:2\" /><line x1=\"530.0\" y1=\"403.58\" x2=\"540.0\" y2=\"420.901\" stroke-linecap=\"round\" style=\"stroke:black;stroke-width:2\" /><line x1=\"540.0\" y1=\"420.901\" x2=\"530.0\" y2=\"438.222\" stroke-linecap=\"round\" style=\"stroke:black;stroke-width:2\" /><line x1=\"530.0\" y1=\"438.222\" x2=\"510.0\" y2=\"438.222\" stroke-linecap=\"round\" style=\"stroke:black;stroke-width:2\" /><line x1=\"510.0\" y1=\"438.222\" x2=\"500.0\" y2=\"420.901\" stroke-linecap=\"round\" style=\"stroke:black;stroke-width:2\" /><line x1=\"500.0\" y1=\"420.901\" x2=\"490.0\" y2=\"438.222\" stroke-linecap=\"round\" style=\"stroke:black;stroke-width:2\" /><line x1=\"490.0\" y1=\"438.222\" x2=\"470.0\" y2=\"438.222\" stroke-linecap=\"round\" style=\"stroke:black;stroke-width:2\" /><line x1=\"470.0\" y1=\"438.222\" x2=\"460.0\" y2=\"420.901\" stroke-linecap=\"round\" style=\"stroke:black;stroke-width:2\" /><line x1=\"460.0\" y1=\"420.901\" x2=\"470.0\" y2=\"403.58\" stroke-linecap=\"round\" style=\"stroke:black;stroke-width:2\" /><line x1=\"470.0\" y1=\"403.58\" x2=\"450.0\" y2=\"403.58\" stroke-linecap=\"round\" style=\"stroke:black;stroke-width:2\" /><line x1=\"450.0\" y1=\"403.58\" x2=\"440.0\" y2=\"386.259\" stroke-linecap=\"round\" style=\"stroke:black;stroke-width:2\" /><line x1=\"440.0\" y1=\"386.259\" x2=\"430.0\" y2=\"403.58\" stroke-linecap=\"round\" style=\"stroke:black;stroke-width:2\" /><line x1=\"430.0\" y1=\"403.58\" x2=\"410.0\" y2=\"403.58\" stroke-linecap=\"round\" style=\"stroke:black;stroke-width:2\" /><line x1=\"410.0\" y1=\"403.58\" x2=\"420.0\" y2=\"420.901\" stroke-linecap=\"round\" style=\"stroke:black;stroke-width:2\" /><line x1=\"420.0\" y1=\"420.901\" x2=\"410.0\" y2=\"438.222\" stroke-linecap=\"round\" style=\"stroke:black;stroke-width:2\" /><line x1=\"410.0\" y1=\"438.222\" x2=\"390.0\" y2=\"438.222\" stroke-linecap=\"round\" style=\"stroke:black;stroke-width:2\" /><line x1=\"390.0\" y1=\"438.222\" x2=\"380.0\" y2=\"420.901\" stroke-linecap=\"round\" style=\"stroke:black;stroke-width:2\" /><line x1=\"380.0\" y1=\"420.901\" x2=\"370.0\" y2=\"438.222\" stroke-linecap=\"round\" style=\"stroke:black;stroke-width:2\" /><line x1=\"370.0\" y1=\"438.222\" x2=\"350.0\" y2=\"438.222\" stroke-linecap=\"round\" style=\"stroke:black;stroke-width:2\" /><line x1=\"350.0\" y1=\"438.222\" x2=\"360.0\" y2=\"455.543\" stroke-linecap=\"round\" style=\"stroke:black;stroke-width:2\" /><line x1=\"360.0\" y1=\"455.543\" x2=\"350.0\" y2=\"472.864\" stroke-linecap=\"round\" style=\"stroke:black;stroke-width:2\" /><line x1=\"350.0\" y1=\"472.864\" x2=\"370.0\" y2=\"472.864\" stroke-linecap=\"round\" style=\"stroke:black;stroke-width:2\" /><line x1=\"370.0\" y1=\"472.864\" x2=\"380.0\" y2=\"490.185\" stroke-linecap=\"round\" style=\"stroke:black;stroke-width:2\" /><line x1=\"380.0\" y1=\"490.185\" x2=\"370.0\" y2=\"507.506\" stroke-linecap=\"round\" style=\"stroke:black;stroke-width:2\" /><line x1=\"370.0\" y1=\"507.506\" x2=\"350.0\" y2=\"507.506\" stroke-linecap=\"round\" style=\"stroke:black;stroke-width:2\" /><line x1=\"350.0\" y1=\"507.506\" x2=\"360.0\" y2=\"524.827\" stroke-linecap=\"round\" style=\"stroke:black;stroke-width:2\" /><line x1=\"360.0\" y1=\"524.827\" x2=\"350.0\" y2=\"542.148\" stroke-linecap=\"round\" style=\"stroke:black;stroke-width:2\" /><line x1=\"350.0\" y1=\"542.148\" x2=\"370.0\" y2=\"542.148\" stroke-linecap=\"round\" style=\"stroke:black;stroke-width:2\" /><line x1=\"370.0\" y1=\"542.148\" x2=\"380.0\" y2=\"559.469\" stroke-linecap=\"round\" style=\"stroke:black;stroke-width:2\" /><line x1=\"380.0\" y1=\"559.469\" x2=\"390.0\" y2=\"542.148\" stroke-linecap=\"round\" style=\"stroke:black;stroke-width:2\" /><line x1=\"390.0\" y1=\"542.148\" x2=\"410.0\" y2=\"542.148\" stroke-linecap=\"round\" style=\"stroke:black;stroke-width:2\" /><line x1=\"410.0\" y1=\"542.148\" x2=\"420.0\" y2=\"559.469\" stroke-linecap=\"round\" style=\"stroke:black;stroke-width:2\" /><line x1=\"420.0\" y1=\"559.469\" x2=\"410.0\" y2=\"576.79\" stroke-linecap=\"round\" style=\"stroke:black;stroke-width:2\" /><line x1=\"410.0\" y1=\"576.79\" x2=\"430.0\" y2=\"576.79\" stroke-linecap=\"round\" style=\"stroke:black;stroke-width:2\" /><line x1=\"430.0\" y1=\"576.79\" x2=\"440.0\" y2=\"594.111\" stroke-linecap=\"round\" style=\"stroke:black;stroke-width:2\" /><line x1=\"440.0\" y1=\"594.111\" x2=\"430.0\" y2=\"611.432\" stroke-linecap=\"round\" style=\"stroke:black;stroke-width:2\" /><line x1=\"430.0\" y1=\"611.432\" x2=\"410.0\" y2=\"611.432\" stroke-linecap=\"round\" style=\"stroke:black;stroke-width:2\" /><line x1=\"410.0\" y1=\"611.432\" x2=\"420.0\" y2=\"628.753\" stroke-linecap=\"round\" style=\"stroke:black;stroke-width:2\" /><line x1=\"420.0\" y1=\"628.753\" x2=\"410.0\" y2=\"646.074\" stroke-linecap=\"round\" style=\"stroke:black;stroke-width:2\" /><line x1=\"410.0\" y1=\"646.074\" x2=\"390.0\" y2=\"646.074\" stroke-linecap=\"round\" style=\"stroke:black;stroke-width:2\" /><line x1=\"390.0\" y1=\"646.074\" x2=\"380.0\" y2=\"628.753\" stroke-linecap=\"round\" style=\"stroke:black;stroke-width:2\" /><line x1=\"380.0\" y1=\"628.753\" x2=\"370.0\" y2=\"646.074\" stroke-linecap=\"round\" style=\"stroke:black;stroke-width:2\" /><line x1=\"370.0\" y1=\"646.074\" x2=\"350.0\" y2=\"646.074\" stroke-linecap=\"round\" style=\"stroke:black;stroke-width:2\" /><line x1=\"350.0\" y1=\"646.074\" x2=\"360.0\" y2=\"663.395\" stroke-linecap=\"round\" style=\"stroke:black;stroke-width:2\" /><line x1=\"360.0\" y1=\"663.395\" x2=\"350.0\" y2=\"680.716\" stroke-linecap=\"round\" style=\"stroke:black;stroke-width:2\" /><line x1=\"350.0\" y1=\"680.716\" x2=\"370.0\" y2=\"680.716\" stroke-linecap=\"round\" style=\"stroke:black;stroke-width:2\" /><line x1=\"370.0\" y1=\"680.716\" x2=\"380.0\" y2=\"698.037\" stroke-linecap=\"round\" style=\"stroke:black;stroke-width:2\" /><line x1=\"380.0\" y1=\"698.037\" x2=\"370.0\" y2=\"715.358\" stroke-linecap=\"round\" style=\"stroke:black;stroke-width:2\" /><line x1=\"370.0\" y1=\"715.358\" x2=\"350.0\" y2=\"715.358\" stroke-linecap=\"round\" style=\"stroke:black;stroke-width:2\" /><line x1=\"350.0\" y1=\"715.358\" x2=\"360.0\" y2=\"732.679\" stroke-linecap=\"round\" style=\"stroke:black;stroke-width:2\" /><line x1=\"360.0\" y1=\"732.679\" x2=\"350.0\" y2=\"750.0\" stroke-linecap=\"round\" style=\"stroke:black;stroke-width:2\" />\n",
              "        \n",
              "        \n",
              "        <g id=\"turtle2\" visibility=\"visible\" transform=\"rotate(30,350.0,750.0) translate(350.0, 750.0)\">\n",
              "<polygon points=\"0,16 2,14 1,10 4,7 7,9 9,8 6,5 7,1 5,-3 8,-6 6,-8 4,-5 0,-7 -4,-5 -6,-8 -8,-6 -5,-3 -7,1 -6,5 -9,8 -7,9 -4,7 -1,10 -2,14\" transform=\"skewX(0) scale(1,1)\" style=\"stroke:black;stroke-width:1;fill:black\" />\n",
              "<animateTransform id = \"one\" attributeName=\"transform\" \n",
              "                      type=\"scale\"\n",
              "                      from=\"1 1\" to=\"1 1\"\n",
              "                      begin=\"0s\" dur=\"0.01s\"\n",
              "                      repeatCount=\"1\"\n",
              "                      additive=\"sum\"\n",
              "                      fill=\"freeze\"\n",
              "                /><animateTransform attributeName=\"transform\"\n",
              "                    type=\"rotate\"\n",
              "                    from=\"0 0 0\" to =\"-120 0 0\"\n",
              "                    begin=\"one.end\" dur=\"0.10666666666666666s\"\n",
              "                    repeatCount=\"1\"\n",
              "                    additive=\"sum\"\n",
              "                    fill=\"freeze\"\n",
              "                /></g>\n",
              "      </svg>\n",
              "    "
            ],
            "text/plain": [
              "<IPython.core.display.HTML object>"
            ]
          },
          "metadata": {},
          "output_type": "display_data"
        }
      ],
      "source": [
        "import ColabTurtlePlus.Turtle as t\n",
        "\n",
        "t.clearscreen()      # it's good to start every cell with this\n",
        "t.setup(1500,1500)     # setup the drawing area to be 500 pixels x 500 pixels\n",
        "t.showborder()       # show the border of the drawing area\n",
        "\n",
        "t.bgcolor(\"AliceBlue\")   # adjust to your preferences!\n",
        "t.shape(\"turtle2\")\n",
        "t.speed(10)\n",
        "t.width(2)\n",
        "\n",
        "def flakeside(sidelength, levels):\n",
        "    if levels == 0:\n",
        "      t.forward(sidelength)\n",
        "    else:\n",
        "      flakeside(sidelength, levels - 1)\n",
        "      t.right(60)\n",
        "      flakeside(sidelength, levels - 1)\n",
        "      t.left(120)\n",
        "      flakeside(sidelength, levels - 1)\n",
        "      t.right(60)\n",
        "      flakeside(sidelength, levels - 1)\n",
        "\n",
        "def snowflake(sidelength, levels):\n",
        "    \"\"\"Fractal snowflake function, complete.\n",
        "       sidelength: pixels in the largest-scale triangle side\n",
        "       levels: the number of recursive levels in each side\n",
        "    \"\"\"\n",
        "    if levels == 0:\n",
        "      return\n",
        "    else:\n",
        "      flakeside(sidelength, levels)     # needs to be implemented - see below\n",
        "      t.left(120)\n",
        "      flakeside(sidelength, levels)\n",
        "      t.left(120)\n",
        "      flakeside(sidelength, levels)\n",
        "      t.left(120)\n",
        "t.penup()\n",
        "t.goto(-400,0)\n",
        "t.pendown()\n",
        "\n",
        "snowflake(20,3)"
      ]
    },
    {
      "cell_type": "markdown",
      "metadata": {
        "id": "OkAsXbEhRn4-"
      },
      "source": [
        "### <font color = \"blue\"> **Writing the `flakeside` function!**\n",
        "\n",
        "Your task is to implement `flakeside(sidelength, levels)`, which will draw one snowflake side:\n",
        "\n",
        "There is a starter code below. First, here is a graphical summary of a snowflake-side's structure:\n",
        "\n",
        "<img src = \"https://www.cs.hmc.edu/twiki/pub/CS5/Lab2Turtle/flakeside.png\" height=\"542px\">"
      ]
    },
    {
      "cell_type": "code",
      "execution_count": 133,
      "metadata": {
        "colab": {
          "base_uri": "https://localhost:8080/",
          "height": 1000
        },
        "id": "c5JjE7a5R3EV",
        "outputId": "b35ccee3-ea27-432a-ae8e-8c1035316ce4"
      },
      "outputs": [
        {
          "data": {
            "text/html": [
              "\n",
              "      <svg width=\"1000\" height=\"1000\">  \n",
              "        <rect width=\"100%\" height=\"100%\" style=\"fill:aliceblue;stroke:gray;stroke-width:1\"/>\n",
              "        \n",
              "        \n",
              "        <line x1=\"100.0\" y1=\"500.0\" x2=\"110.0\" y2=\"500.0\" stroke-linecap=\"round\" style=\"stroke:black;stroke-width:2\" /><line x1=\"110.0\" y1=\"500.0\" x2=\"120.0\" y2=\"500.0\" stroke-linecap=\"round\" style=\"stroke:black;stroke-width:2\" /><line x1=\"120.0\" y1=\"500.0\" x2=\"130.0\" y2=\"500.0\" stroke-linecap=\"round\" style=\"stroke:black;stroke-width:2\" /><line x1=\"130.0\" y1=\"500.0\" x2=\"140.0\" y2=\"500.0\" stroke-linecap=\"round\" style=\"stroke:black;stroke-width:2\" /><line x1=\"140.0\" y1=\"500.0\" x2=\"150.0\" y2=\"500.0\" stroke-linecap=\"round\" style=\"stroke:black;stroke-width:2\" /><line x1=\"150.0\" y1=\"500.0\" x2=\"160.0\" y2=\"500.0\" stroke-linecap=\"round\" style=\"stroke:black;stroke-width:2\" /><line x1=\"160.0\" y1=\"500.0\" x2=\"170.0\" y2=\"500.0\" stroke-linecap=\"round\" style=\"stroke:black;stroke-width:2\" /><line x1=\"170.0\" y1=\"500.0\" x2=\"180.0\" y2=\"500.0\" stroke-linecap=\"round\" style=\"stroke:black;stroke-width:2\" />\n",
              "        \n",
              "        \n",
              "        <g id=\"turtle2\" visibility=\"visible\" transform=\"rotate(-90,180.0,500.0) translate(180.0, 500.0)\">\n",
              "<polygon points=\"0,16 2,14 1,10 4,7 7,9 9,8 6,5 7,1 5,-3 8,-6 6,-8 4,-5 0,-7 -4,-5 -6,-8 -8,-6 -5,-3 -7,1 -6,5 -9,8 -7,9 -4,7 -1,10 -2,14\" transform=\"skewX(0) scale(1,1)\" style=\"stroke:black;stroke-width:1;fill:black\" />\n",
              "</g>\n",
              "      </svg>\n",
              "    "
            ],
            "text/plain": [
              "<IPython.core.display.HTML object>"
            ]
          },
          "metadata": {},
          "output_type": "display_data"
        }
      ],
      "source": [
        "import ColabTurtlePlus.Turtle as t\n",
        "\n",
        "t.clearscreen()      # it's good to start every cell with this\n",
        "t.setup(1000,1000)     # setup the drawing area to be 500 pixels x 500 pixels\n",
        "t.showborder()       # show the border of the drawing area\n",
        "\n",
        "t.bgcolor(\"AliceBlue\")   # adjust to your preferences!\n",
        "t.shape(\"turtle2\")\n",
        "t.speed(10)\n",
        "t.width(2)\n",
        "\n",
        "def flakeside(sidelength, levels):\n",
        "    \"\"\" flakeside draws _one side_ of the fractal Koch snowflake\n",
        "    \"\"\"\n",
        "    if levels == 0:\n",
        "      t.forward(sidelength)\n",
        "    else:\n",
        "        flakeside(sidelength, levels -1)\n",
        "        t.right(60)\n",
        "        flakeside(sidelength, levels - 1)\n",
        "        t.left(120)\n",
        "        flakeside(sidelength, levels - 1)\n",
        "        t.right(60)\n",
        "        flakeside(sidelength, levels - 1)\n",
        "    # see hints below! This function is _deeply_ recursive!\n",
        "\n",
        "\n",
        "#\n",
        "# try it!\n",
        "#\n",
        "t.penup()\n",
        "t.goto(-400,0)  # move the pen to a \"southwest\" corner...\n",
        "t.pendown()\n",
        "\n",
        "flakeside(80,0)  # try it...\n"
      ]
    },
    {
      "cell_type": "markdown",
      "metadata": {
        "id": "NhV44qPTSrrh"
      },
      "source": [
        "### <font color= \"salmon\"> Hints for  flakeside\n",
        "\n",
        "\n",
        "\n",
        "- A base-case Koch snowflake side is simply a straight line of length `sidelength`!\n",
        "- Other than the base case, you should never draw a line directly. Instead, use a recursive call to `flakeside`.\n",
        "- Each recursive level replaces the _middle third_ of the snowflake's side with a \"bump,\" i.e., two sides that would be part of a one-third-scale equilateral triangle.\n",
        "- Notice there are four _sub-sides_ to each flake side. This means that `flakeside` will call itself recursively ___four times___!\n",
        "- At the three spots _between_ those four calls, there will be an appropriate turn...\n",
        "- Thus, the recursive case will include seven total lines (4 recursions and three turns)."
      ]
    },
    {
      "cell_type": "markdown",
      "metadata": {
        "id": "UYKpOVENTG61"
      },
      "source": [
        "#### **Calls to try...**\n",
        "\n",
        "- Try `flakeside(300, 0)`—make sure you get a straight line\n",
        "- Try `flakeside(300, 1)`—make sure you get a four-segment contour\n",
        "- Try `flakeside(300, 2)`—make sure you get four \"level-1\" flakesides\n",
        "- Try `flakeside(300, 3)`—pretty! and pretty cool! Olaf approves.\n",
        "\n",
        "\n",
        "Remember that `flakeside` is creating ___only one___ of the three sides of the snowflake!\n",
        "\n",
        "- Because of this, it does __not__ have to end in the same location as it begins.\n",
        "- After all, if it did, all three sides of the overall snowflake would be on top of one another."
      ]
    },
    {
      "cell_type": "markdown",
      "metadata": {
        "id": "Tq1S1_iKTg4b"
      },
      "source": [
        "### From `flakeside` to `snowflake`\n",
        "\n",
        "Once your `flakeside` function works, try out `snowflake`!\n",
        "\n",
        "- The `snowflake` function simply calls `flakeside` three times.\n",
        "- Depending on the directions that `flakeside` uses, you may need to change the `left`s in `snowflake` to `right`s.\n",
        "- Examples to try might include `snowflake(300, 2)` and `snowflake(300, 3)`\n",
        "\n",
        "Like `svtree`, if you are having trouble seeing everything you may need to move the turtle at the beginning. Try:\n",
        "```\n",
        "t.penup()\n",
        "t.setposition(x, y)\n",
        "t.pendown()\n",
        "```\n",
        "Put the coordinates you want into `setposition`. Note that `(0, 0)` is the upper left corner.\n",
        "\n",
        "Here are images of four different values of `levels` for a snowflake, `0`, `1`, `2`, and `3`:\n",
        "\n",
        "\n",
        "<img src = \"http://www.cs.hmc.edu/~cs5grad/cs5/koch.png\" height=\"442px\">\n",
        "\n",
        "\n",
        "Consider the following script:\n",
        "```\n",
        "t.penup()\n",
        "t.goto(-200,-100)  # move the pen to a \"southwest\" corner...\n",
        "t.pendown()\n",
        "snowflake(300,2)   # two recursive levels deep!\n",
        "```\n",
        "Here's an in-progress run from this script:\n",
        "\n",
        "<img src = \"https://www.cs.hmc.edu/twiki/pub/CS5Fall2022/Lab2Turtle/snowflake_partial.png\" height=\"442px\">\n",
        "\n",
        "Try it here:\n",
        "\n",
        "\n",
        "\n",
        "\n"
      ]
    },
    {
      "cell_type": "code",
      "execution_count": null,
      "metadata": {
        "id": "6HrMaSOH-0rP"
      },
      "outputs": [],
      "source": [
        "#\n",
        "# Drawing the Koch snowflake\n",
        "#\n",
        "\n",
        "t.clearscreen()      # it's good to start every cell with this\n",
        "t.setup(500,500)     # setup the drawing area to be 500 pixels x 500 pixels\n",
        "t.showborder()       # show the border of the drawing area\n",
        "\n",
        "t.bgcolor(\"AliceBlue\")   # adjust to your preferences!\n",
        "t.shape(\"turtle2\")\n",
        "t.speed(10)\n",
        "t.width(2)\n",
        "\n",
        "\n",
        "\n",
        "# You'll need both the snowflake function (provided) and flakeside, which you will have written:\n",
        "\n",
        "t.penup()\n",
        "t.goto(-200,-100)  # move the pen to a \"southwest\" corner...\n",
        "t.pendown()\n",
        "\n",
        "snowflake(300,2)   # two recursive levels deep!\n",
        "\n",
        "#\n",
        "# Try three - or four - levels, as well."
      ]
    },
    {
      "cell_type": "markdown",
      "metadata": {
        "id": "ztXw3JL-B1V1"
      },
      "source": [
        "#### More snow!\n",
        "\n",
        "There is lots more about the Koch snowflake and its kin...   \n",
        "\n",
        "Google around and you'll find that branching recursion and fractals are one and the same thing:\n",
        "\n",
        "- [the Koch Snowflake](https://en.wikipedia.org/wiki/Koch_snowflake)\n",
        "- [the Menger Sponge](https://en.wikipedia.org/wiki/Menger_sponge)\n",
        "- [Julia Sets](https://en.wikipedia.org/wiki/Julia_set#/media/File:Julia_set,_plotted_with_Matplotlib.svg)\n",
        "- [space-filling curves](https://en.wikipedia.org/wiki/Space-filling_curve)\n",
        "\n",
        "\n",
        "<br>"
      ]
    },
    {
      "cell_type": "markdown",
      "metadata": {
        "id": "7OtpwkwL1Uao"
      },
      "source": [
        "# <font color = \"dodgerblue\"> **Submitting...**\n",
        "\n",
        "To submit,\n",
        "+ first, download your <tt>.ipynb</tt> notebook - with your turtle images present\n",
        "+ then upload the resulting file to GradeScope\n",
        "\n",
        "You're set!\n",
        "\n",
        "<br>\n",
        "\n",
        "If you're in the mood for more turtle (or have homework in other courses to procrastinate...), read on!\n",
        "\n"
      ]
    },
    {
      "cell_type": "markdown",
      "metadata": {
        "id": "m_n0JcwaaqVC"
      },
      "source": [
        "### More turtle?\n",
        "\n",
        "<b>Extra credit options</b>\n",
        "\n",
        "If you enjoy creating turtle graphics, whether recursive or not, you're invited to try more!\n",
        "\n",
        "+ For extra-credit of up to +8.42 points, include additional cell(s) with your own custom-designed turtle creations...  (and the code used to create them)\n",
        "  + This is your \"turtle-graphics portfolio\"!\n",
        "+ In fact, you may already have a portfolio! If you've already created a work you like, you can always copy the code to a new cell and then continue working/developing from there. It's completely OK if it was accidental!\n",
        "+ Feel free to build something new, whether by designed or <i>unencumbered by strategic assembly</i> ...\n",
        "+ Since lab does usually have as much e.c., if you do create additional turtle-artwork, please submit you under this week's e.c. problem, <tt>hw2pr5</tt>\n",
        "\n",
        "\n",
        "The grutors - and we - look forward to your turtle-visions!\n",
        "\n",
        "<br>\n",
        "\n",
        "<i>Happy turtling!</i>\n"
      ]
    },
    {
      "cell_type": "code",
      "execution_count": null,
      "metadata": {
        "id": "NDBKSska90kK"
      },
      "outputs": [],
      "source": [
        "# run this cell to create a good-job-for-finishing star 🤩\n",
        "\n",
        "t.clearscreen()      # it's good to start every cell with this\n",
        "t.setup(500,500)     # setup the drawing area to be 500 pixels x 500 pixels\n",
        "t.showborder()       # show the border of the drawing area\n",
        "\n",
        "t.bgcolor(\"AliceBlue\")   # adjust to your preferences!\n",
        "t.shape(\"turtle2\")\n",
        "t.speed(10)\n",
        "t.width(2)\n",
        "\n",
        "def star(n):\n",
        "    \"\"\" draws a star!\n",
        "        call with star(5)\n",
        "    \"\"\"\n",
        "    if n == 0:\n",
        "        return\n",
        "    else:\n",
        "        t.forward(100)\n",
        "        t.right(144)\n",
        "        star(n-1)\n",
        "\n",
        "t.fillcolor(\"gold\")\n",
        "t.begin_fill()\n",
        "star(5)\n",
        "t.end_fill()\n",
        "\n",
        "t.penup()\n",
        "t.backward(100)\n",
        "t.pendown()"
      ]
    }
  ],
  "metadata": {
    "colab": {
      "provenance": []
    },
    "kernelspec": {
      "display_name": "Python 3",
      "name": "python3"
    },
    "language_info": {
      "codemirror_mode": {
        "name": "ipython",
        "version": 3
      },
      "file_extension": ".py",
      "mimetype": "text/x-python",
      "name": "python",
      "nbconvert_exporter": "python",
      "pygments_lexer": "ipython3",
      "version": "3.10.11"
    }
  },
  "nbformat": 4,
  "nbformat_minor": 0
}
