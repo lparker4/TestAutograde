{
 "cells": [
  {
   "cell_type": "markdown",
   "metadata": {},
   "source": [
    "# Sample Assignment\n",
    "\n",
    "## Grading Tips\n",
    "\n",
    "Your assignment will be evaluated by both an autograder and grutor.\n",
    "The autograder will execute your notebook once, and some test functions will be run on the results.\n",
    "\n",
    "**Example recommendations from the autograder library**\n",
    "- Submit valid _Python3_ code only!\n",
    "- Use **external** libraries if and only if specified by task.\n",
    "  Using the standard library is fine unless you are told otherwise.\n",
    "- Ensure your definitions (functions, classes, methods, variables) follow the specification.\n",
    "  The signature of a function/method/class usually can be inferred from task description, code skeletons and test cases.\n",
    "- Ensure your code does not rely on the current notebook or system state!\n",
    "  - Use `Kernel > Restart & Run All` to see if you are using any definitions, variables etc. that are not in scope anymore.\n",
    "  - Double check if your code relies on presence of files or directories other than those mentioned in given tasks.\n",
    "  - Tests run under Linux, hence do not use Windows style paths (`some\\path`, `C:\\another\\path`).\n",
    "    `pathlib` provides neat abstractions for that, use it!\n",
    "    Also, use paths only that are relative to and within your working directory (OK: `some/path`, `./some/path`; NOT OK: `/home/alice/python`, `../../python`).\n",
    "- Keep your code [idempotent](https://en.wikipedia.org/wiki/Idempotence)!\n",
    "  Running your code or parts of it multiple times must not yield different results.\n",
    "  Minimize usage of global variables.\n",
    "- Ensure your code/notebook terminates in reasonable time.\n",
    "  We enforce timeouts during notebook/test execution.\n",
    "  Exceeding those results in an error and potentially no points for that sub-task.\n",
    "- Textual answers must always be backed by code and may not refer to results that are not part of your submission.\n",
    "- Do not use IPython special commands (lines starting with `%` or `!`).\n",
    "\n"
   ]
  },
  {
   "cell_type": "markdown",
   "metadata": {},
   "source": [
    "Credentials of all individuals working on this assignment (add and remove list items as needed)"
   ]
  },
  {
   "cell_type": "code",
   "execution_count": 14,
   "metadata": {},
   "outputs": [],
   "source": [
    "team_members = [\n",
    "    {\n",
    "        'first_name': 'Sample',\n",
    "        'last_name': 'Student',\n",
    "        'student_id': 12345\n",
    "    }\n",
    "]"
   ]
  },
  {
   "cell_type": "markdown",
   "metadata": {},
   "source": [
    "Put all necessary imports for the assignment in the cell below."
   ]
  },
  {
   "cell_type": "code",
   "execution_count": 27,
   "metadata": {},
   "outputs": [],
   "source": [
    "# Imports:\n",
    "import time\n"
   ]
  },
  {
   "cell_type": "markdown",
   "metadata": {},
   "source": [
    "Write a function that turns each element in the following two arrays into the key or value of a python dictionary.\n",
    "Your solution should use a single for loop and return the dictionary when complete."
   ]
  },
  {
   "cell_type": "code",
   "execution_count": 21,
   "metadata": {},
   "outputs": [],
   "source": [
    "\n",
    "# Your solution here:\n",
    "def turnToDictionary(first, second):\n",
    "    dictionary = {}\n",
    "    for i in range(len(first)):\n",
    "        dictionary[first[i]] = second[i]\n",
    "    return dictionary\n"
   ]
  },
  {
   "cell_type": "markdown",
   "metadata": {},
   "source": [
    "Write a function that returns an array of the next 10 leap years (no parameters)"
   ]
  },
  {
   "cell_type": "code",
   "execution_count": 24,
   "metadata": {},
   "outputs": [],
   "source": [
    "# Your solution here:\n",
    "def tenLeapYears():\n",
    "    years = [2024]\n",
    "    for i in range (9):\n",
    "        years.append(years[i] + 4)\n",
    "    return years"
   ]
  },
  {
   "cell_type": "markdown",
   "metadata": {},
   "source": [
    "Write a function that takes in a string variable, translates the words to pig latin, and returns the new string. English is translated to Pig Latin by taking the first letter of every word, moving it to the end of the word and adding ‘ay’. “The quick brown fox” becomes “Hetay uickqay rownbay oxfay”.\n",
    "**Bonus points for correct sentence capitalization as shown above.**"
   ]
  },
  {
   "cell_type": "code",
   "execution_count": 26,
   "metadata": {},
   "outputs": [],
   "source": [
    "# Your solution here:\n",
    "def toPigLatin(original):\n",
    "    words = str(original).split(sep=\" \")\n",
    "    newString = \"\"\n",
    "    print(words)\n",
    "    for i in range (len(words)):\n",
    "        tempWord = words[i][1:len(words)] + words[i][0] + \"ay\"\n",
    "        newString += tempWord.lower()\n",
    "        if i < len(words) - 1:\n",
    "            newString += \" \"\n",
    "    return newString\n"
   ]
  },
  {
   "cell_type": "markdown",
   "metadata": {},
   "source": [
    "**Another problematic problem**"
   ]
  },
  {
   "cell_type": "code",
   "execution_count": null,
   "metadata": {},
   "outputs": [],
   "source": [
    "def problematic():\n",
    "    raise AssertionError('This function does not work properly.')"
   ]
  },
  {
   "cell_type": "markdown",
   "metadata": {},
   "source": [
    "**Write a comment about how you found this assignment (difficulty wise)**"
   ]
  },
  {
   "cell_type": "markdown",
   "metadata": {},
   "source": [
    "Your answer goes here."
   ]
  }
 ],
 "metadata": {
  "kernelspec": {
   "display_name": "Python 3",
   "language": "python",
   "name": "python3"
  },
  "language_info": {
   "codemirror_mode": {
    "name": "ipython",
    "version": 3
   },
   "file_extension": ".py",
   "mimetype": "text/x-python",
   "name": "python",
   "nbconvert_exporter": "python",
   "pygments_lexer": "ipython3",
   "version": "3.10.11"
  },
  "orig_nbformat": 4
 },
 "nbformat": 4,
 "nbformat_minor": 2
}
