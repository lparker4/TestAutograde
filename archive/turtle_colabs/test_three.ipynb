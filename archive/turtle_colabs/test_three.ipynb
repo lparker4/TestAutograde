{
  "nbformat": 4,
  "nbformat_minor": 0,
  "metadata": {
    "colab": {
      "provenance": []
    },
    "kernelspec": {
      "name": "python3",
      "display_name": "Python 3"
    },
    "language_info": {
      "name": "python"
    }
  },
  "cells": [
    {
      "cell_type": "markdown",
      "source": [
        "\n",
        "\n",
        "# Notebooks and Recursion and Turtles!\n",
        "\n",
        "\n",
        "Welcome to Python notebooks! They're ever more ubiquitous:\n",
        "+ They interleave <i>code cells</i> that have Python and\n",
        "+ <i>context cells</i> with descriptions and context.\n",
        "+ This cell is a <i>context cell</i>\n",
        "+ If you double-click on it, you'll be able to see its source, a mix of markup and markdown...\n",
        "\n",
        "### Onward!"
      ],
      "metadata": {
        "id": "EafH-zQxEcnr"
      }
    },
    {
      "cell_type": "code",
      "source": [
        "#\n",
        "# This is a code cell - here, you're able to run arbitrary Python scripts.\n",
        "#\n",
        "\n",
        "# For example, try running this four-fours example:\n",
        "\n",
        "from math import *\n",
        "\n",
        "print(\"Hello from Colab!\")\n",
        "print()\n",
        "print(\"The answer is \", factorial(4)+factorial(4)-4-sqrt(4) )"
      ],
      "metadata": {
        "id": "Ig1xmKQP7ait",
        "colab": {
          "base_uri": "https://localhost:8080/"
        },
        "outputId": "dea5da5f-e159-44d7-f3cc-6fa6819694dd"
      },
      "execution_count": 1,
      "outputs": [
        {
          "output_type": "stream",
          "name": "stdout",
          "text": [
            "Hello from Colab!\n",
            "\n",
            "The answer is  42.0\n"
          ]
        }
      ]
    },
    {
      "cell_type": "markdown",
      "source": [
        "\n",
        "### <font color=\"DodgerBlue\"><b>Make your own copy of this notebook</b></font>\n",
        "+ Under the <i>File</i> menu in the upper left, choose <i><u>Save a copy in Drive</u></i> to create your own copy\n",
        "+ That copy you'll be able to edit, run, and save\n",
        "+ <b><i>Later on</i></b>, when you're ready to submit, you should\n",
        "  + Choose <i><u>File - Download - Download <tt>.ipynb</tt></u></i>, which is near the bottom of the <i>File</i> menu\n",
        "  + That will save the file to your machine with the extension <tt>.ipynb</tt>\n",
        "  + Then, you'll submit that file to the usual GradeScope site, at the appropriate spot.\n",
        "\n",
        "<br>\n",
        "\n",
        "Onward, to turtle!\n"
      ],
      "metadata": {
        "id": "lUABUfml1I-x"
      }
    },
    {
      "cell_type": "markdown",
      "source": [
        "# <font color=\"DodgerBlue\"><b>Turtle Scripting </b></font>\n",
        "\n",
        "Start by running the code boxes below to install our turtle library, named <tt>ColabTurtlePlus</tt>:\n",
        "\n",
        "<!--\n",
        "The line `t.initializeTurtle()` creates a turtle graphic terminal? box? if you haven't created one, and erases/refreshes the turtle graphic if you already have one.\n",
        "-->"
      ],
      "metadata": {
        "id": "KtcS8v2_1e-7"
      }
    },
    {
      "cell_type": "code",
      "source": [
        "!pip install ColabTurtlePlus"
      ],
      "metadata": {
        "id": "ccYZMirB5ZxD",
        "colab": {
          "base_uri": "https://localhost:8080/"
        },
        "outputId": "158120a3-357a-4ef3-b152-23b8cfbd8bd1"
      },
      "execution_count": 4,
      "outputs": [
        {
          "output_type": "stream",
          "name": "stdout",
          "text": [
            "Collecting ColabTurtlePlus\n",
            "  Downloading ColabTurtlePlus-2.0.1-py3-none-any.whl (31 kB)\n",
            "Installing collected packages: ColabTurtlePlus\n",
            "Successfully installed ColabTurtlePlus-2.0.1\n"
          ]
        }
      ]
    },
    {
      "cell_type": "code",
      "source": [
        "import ColabTurtlePlus.Turtle as t\n",
        "\n",
        "# after installing, run this cell...\n",
        "# if it works, you may see a message -- and you should be set!"
      ],
      "metadata": {
        "id": "ZldMkZqQEm9O",
        "outputId": "dedb25f1-e603-4ac5-d0f1-bc3890d83a14",
        "colab": {
          "base_uri": "https://localhost:8080/"
        }
      },
      "execution_count": 5,
      "outputs": [
        {
          "output_type": "stream",
          "name": "stdout",
          "text": [
            "Put clearscreen() as the first line in a cell (after the import command) to re-run turtle commands in the cell\n"
          ]
        }
      ]
    },
    {
      "cell_type": "markdown",
      "source": [
        "### Next, try an example turtle-drawing script:\n",
        "\n",
        "- <font size = \"-1\"> Note:   A script usually describes code that's <i>not</i> organized into a function:"
      ],
      "metadata": {
        "id": "MAALe3_424CH"
      }
    },
    {
      "cell_type": "code",
      "source": [
        "import ColabTurtlePlus.Turtle as t\n",
        "\n",
        "t.clearscreen()      # it's good to start every cell with this\n",
        "t.setup(500,500)     # setup the drawing area to be 500 pixels x 500 pixels\n",
        "t.showborder()       # show the border of the drawing area\n",
        "t.bgcolor(\"AliceBlue\") # sets the background color (could also use \"#E0E0FF\" on the Mac)\n",
        "\n",
        "t.shape('turtle2') # Options: ['turtle', 'ring', 'classic', 'arrow', 'square', 'triangle', 'circle', 'turtle2', 'blank']\n",
        "\n",
        "t.speed(5)         # 10 is fastest, 1 is slowest\n",
        "\n",
        "# side one\n",
        "t.color(\"green\")   # a link below shares _all_ the colors\n",
        "t.width(5)         # number of pixels wide for the turtle's trail\n",
        "t.forward(100)     # forward 100 pixels\n",
        "t.left(90)         # left 90 degrees\n",
        "\n",
        "# side two\n",
        "t.color(\"DodgerBlue\")    # hometeam?!\n",
        "t.width(2)\n",
        "t.forward(100)\n",
        "t.left(90)\n",
        "\n",
        "# side three\n",
        "t.penup()          # \"lift\" the pen - the turtle will not draw\n",
        "t.forward(100)\n",
        "t.left(90)\n",
        "t.pendown()        # put the pen back \"down\": drawing will resume\n",
        "\n",
        "# side four\n",
        "t.color(\"purple\")\n",
        "t.forward(100)\n",
        "t.left(135)        # to aim \"northeast\"\n",
        "t.penup()\n",
        "from math import sqrt\n",
        "t.forward(50*sqrt(2))   # move to the \"middle\": 50*sqrt(2)\n",
        "t.color(\"green\")"
      ],
      "metadata": {
        "colab": {
          "base_uri": "https://localhost:8080/",
          "height": 521
        },
        "id": "38lmk3NC2pOs",
        "outputId": "4da8209c-5d88-49d6-f91e-1e3a9ed77a5b"
      },
      "execution_count": 7,
      "outputs": [
        {
          "output_type": "display_data",
          "data": {
            "text/plain": [
              "<IPython.core.display.HTML object>"
            ],
            "text/html": [
              "\n",
              "      <svg width=\"500\" height=\"500\">  \n",
              "        <rect width=\"100%\" height=\"100%\" style=\"fill:aliceblue;stroke:gray;stroke-width:1\"/>\n",
              "        \n",
              "        \n",
              "        <line x1=\"250.0\" y1=\"250.0\" x2=\"350.0\" y2=\"250.0\" stroke-linecap=\"round\" style=\"stroke:green;stroke-width:5\" /><line x1=\"350.0\" y1=\"250.0\" x2=\"350.0\" y2=\"150.0\" stroke-linecap=\"round\" style=\"stroke:dodgerblue;stroke-width:2\" /><line x1=\"250.0\" y1=\"150.0\" x2=\"250.0\" y2=\"250.0\" stroke-linecap=\"round\" style=\"stroke:purple;stroke-width:2\" />\n",
              "        \n",
              "        \n",
              "        <g id=\"turtle2\" visibility=\"visible\" transform=\"rotate(225,300.0,200.0) translate(300.0, 200.0)\">\n",
              "<polygon points=\"0,16 2,14 1,10 4,7 7,9 9,8 6,5 7,1 5,-3 8,-6 6,-8 4,-5 0,-7 -4,-5 -6,-8 -8,-6 -5,-3 -7,1 -6,5 -9,8 -7,9 -4,7 -1,10 -2,14\" transform=\"skewX(0) scale(1,1)\" style=\"stroke:green;stroke-width:1;fill:green\" />\n",
              "</g>\n",
              "      </svg>\n",
              "    "
            ]
          },
          "metadata": {}
        }
      ]
    },
    {
      "cell_type": "markdown",
      "source": [
        "#### <font color = \"blue\"> **Turtle Task #1:    *Drawing practice!***\n",
        "\n",
        "For the first task, play around a bit by copying the\n",
        "Turtle script above to the cell below.\n",
        "\n",
        "The, <i>change</i> it so that:\n",
        "+ You draw a _different_ set of lines -- with at least ***5*** lines, in this case...\n",
        "+ Don't take overmuch time on this - Turtle-drawing can be addicting!\n",
        "+ If you want to \"teleport\" to coordinates `(42,42)` you can do so with `t.goto(42,42)`\n",
        "+ Also, experiment with different colors:\n",
        "\n",
        "**Colors**\n",
        "+ [This page](https://www.w3schools.com/colors/colors_names.asp) shows the colornames available on all browsers.\n",
        "+ You can change the background with  `bgcolor(\"darkblue\")` or, perhaps, other colors!\n",
        "\n",
        "Leave your drawing in the notebook (we look forward to seeing _all_ of the drawings!)\n",
        "\n",
        "Onward to **functioning** with Turtles...\n",
        "\n"
      ],
      "metadata": {
        "id": "0FgRysh53FmK"
      }
    },
    {
      "cell_type": "code",
      "source": [
        "# Here is a Colab cell for your \"Polygon practice\"\n",
        "#\n",
        "#      (feel free to copy-paste-adapt, from above)\n",
        "\n",
        "import ColabTurtlePlus.Turtle as t\n",
        "from ColabTurtlePlus.Turtle import *\n",
        "\n",
        "clearscreen()      # it's good to start every cell with this\n",
        "setup(500,500)     # setup the drawing area to be 500 pixels x 500 pixels\n",
        "showborder()       # show the border of the drawing area\n",
        "bgcolor(\"darkblue\") # sets the background color (could also use \"#F0F8FF\")\n",
        "\n",
        "t.shape('turtle2') # Options: ['turtle', 'ring', 'classic', 'arrow', 'square', 'triangle', 'circle', 'turtle2', 'blank']\n",
        "\n",
        "t.speed(10)         # 10 is fastest, 1 is slowest\n",
        "\n",
        "# side one\n",
        "t.color(\"green\") # a link below shares _all_ the colors\n",
        "t.width(5) # number of pixels wide for the turtle's trail\n",
        "t.goto(20,20)\n",
        "t.forward(100)     # forward 100 pixels\n",
        "t.left(90)         # left 90 degrees\n",
        "t.goto(40,40)\n",
        "t.forward(100)\n",
        "t.goto(60,60)\n",
        "t.forward(100)\n",
        "t.goto(80,80)\n",
        "t.forward(100)\n",
        "t.goto(100,100)\n",
        "t.forward(100)\n",
        "t.goto(120,120)\n",
        "t.forward(100)"
      ],
      "metadata": {
        "colab": {
          "base_uri": "https://localhost:8080/",
          "height": 521
        },
        "id": "mlHvMa3TCV6E",
        "outputId": "9c95a3be-89c2-4089-980a-de550535e0d8"
      },
      "execution_count": 21,
      "outputs": [
        {
          "output_type": "display_data",
          "data": {
            "text/plain": [
              "<IPython.core.display.HTML object>"
            ],
            "text/html": [
              "\n",
              "      <svg width=\"500\" height=\"500\">  \n",
              "        <rect width=\"100%\" height=\"100%\" style=\"fill:darkblue;stroke:gray;stroke-width:1\"/>\n",
              "        \n",
              "        \n",
              "        <line x1=\"250.0\" y1=\"250.0\" x2=\"270.0\" y2=\"230.0\" stroke-linecap=\"round\" style=\"stroke:green;stroke-width:5\" /><line x1=\"270.0\" y1=\"230.0\" x2=\"370.0\" y2=\"230.0\" stroke-linecap=\"round\" style=\"stroke:green;stroke-width:5\" /><line x1=\"370.0\" y1=\"230.0\" x2=\"290.0\" y2=\"210.0\" stroke-linecap=\"round\" style=\"stroke:green;stroke-width:5\" /><line x1=\"290.0\" y1=\"210.0\" x2=\"290.0\" y2=\"110.0\" stroke-linecap=\"round\" style=\"stroke:green;stroke-width:5\" /><line x1=\"290.0\" y1=\"110.0\" x2=\"310.0\" y2=\"190.0\" stroke-linecap=\"round\" style=\"stroke:green;stroke-width:5\" /><line x1=\"310.0\" y1=\"190.0\" x2=\"310.0\" y2=\"90.0\" stroke-linecap=\"round\" style=\"stroke:green;stroke-width:5\" /><line x1=\"310.0\" y1=\"90.0\" x2=\"330.0\" y2=\"170.0\" stroke-linecap=\"round\" style=\"stroke:green;stroke-width:5\" /><line x1=\"330.0\" y1=\"170.0\" x2=\"330.0\" y2=\"70.0\" stroke-linecap=\"round\" style=\"stroke:green;stroke-width:5\" /><line x1=\"330.0\" y1=\"70.0\" x2=\"350.0\" y2=\"150.0\" stroke-linecap=\"round\" style=\"stroke:green;stroke-width:5\" /><line x1=\"350.0\" y1=\"150.0\" x2=\"350.0\" y2=\"50.0\" stroke-linecap=\"round\" style=\"stroke:green;stroke-width:5\" /><line x1=\"350.0\" y1=\"50.0\" x2=\"370.0\" y2=\"130.0\" stroke-linecap=\"round\" style=\"stroke:green;stroke-width:5\" /><line x1=\"370.0\" y1=\"130.0\" x2=\"370.0\" y2=\"120.0\" stroke-linecap=\"round\" style=\"stroke:green;stroke-width:5\" /><line x1=\"370.0\" y1=\"120.0\" x2=\"370.0\" y2=\"110.0\" stroke-linecap=\"round\" style=\"stroke:green;stroke-width:5\" /><line x1=\"370.0\" y1=\"110.0\" x2=\"370.0\" y2=\"100.0\" stroke-linecap=\"round\" style=\"stroke:green;stroke-width:5\" /><line x1=\"370.0\" y1=\"100.0\" x2=\"370.0\" y2=\"90.0\" stroke-linecap=\"round\" style=\"stroke:green;stroke-width:5\" /><line x1=\"370.0\" y1=\"90.0\" x2=\"370.0\" y2=\"80.0\" stroke-linecap=\"round\" style=\"stroke:green;stroke-width:5\" /><line x1=\"370.0\" y1=\"80.0\" x2=\"370.0\" y2=\"70.0\" stroke-linecap=\"round\" style=\"stroke:green;stroke-width:5\" /><line x1=\"370.0\" y1=\"70.0\" x2=\"370.0\" y2=\"60.0\" stroke-linecap=\"round\" style=\"stroke:green;stroke-width:5\" /><line x1=\"370.0\" y1=\"60.0\" x2=\"370.0\" y2=\"50.0\" stroke-linecap=\"round\" style=\"stroke:green;stroke-width:5\" /><line x1=\"370.0\" y1=\"50.0\" x2=\"370.0\" y2=\"40.0\" stroke-linecap=\"round\" style=\"stroke:green;stroke-width:5\" /><line x1=\"370.0\" y1=\"40.0\" x2=\"370.0\" y2=\"30.0\" stroke-linecap=\"round\" style=\"stroke:green;stroke-width:5\" />\n",
              "        \n",
              "        \n",
              "        <g id=\"turtle2\" visibility=\"visible\" transform=\"rotate(180,370.0,30.0) translate(370.0, 30.0)\">\n",
              "<polygon points=\"0,16 2,14 1,10 4,7 7,9 9,8 6,5 7,1 5,-3 8,-6 6,-8 4,-5 0,-7 -4,-5 -6,-8 -8,-6 -5,-3 -7,1 -6,5 -9,8 -7,9 -4,7 -1,10 -2,14\" transform=\"skewX(0) scale(1,1)\" style=\"stroke:green;stroke-width:1;fill:green\" />\n",
              "</g>\n",
              "      </svg>\n",
              "    "
            ]
          },
          "metadata": {}
        }
      ]
    },
    {
      "cell_type": "markdown",
      "source": [
        "## <font color=\"#f96d7b\"><b>Turtle <i>Functioning</i> </b></font>\n",
        "\n",
        "Below is the recursive <tt>tri</tt> function from class...\n",
        "\n",
        "- First, look over the code.\n",
        "- Then, run it and - we hope - it will draw a triangle.\n",
        "- Notice the call to `tri(3)` at the bottom. That's the \"function call\" that runs our function, `tri`"
      ],
      "metadata": {
        "id": "-LbLya3h7xdY"
      }
    },
    {
      "cell_type": "code",
      "source": [
        "import ColabTurtlePlus.Turtle as t\n",
        "import random\n",
        "\n",
        "t.clearscreen()      # it's good to start every cell with this\n",
        "t.setup(500,500)     # setup the drawing area to be 500 pixels x 500 pixels\n",
        "t.showborder()       # show the border of the drawing area\n",
        "\n",
        "t.bgcolor(\"AliceBlue\")   # adjust to your preferences!\n",
        "t.shape(\"turtle2\")\n",
        "t.speed(10)\n",
        "t.width(2)\n",
        "\n",
        "#\n",
        "# our tri function\n",
        "#\n",
        "def tri(n):\n",
        "    \"\"\"Draws n 100-pixel sides of an equilateral triangle.\n",
        "      Note that n doesn't have to be 3 (!)\n",
        "    \"\"\"\n",
        "    clr = random.choice(['darkgreen', 'red', 'blue'])\n",
        "    t.color(clr)\n",
        "    if n == 0:\n",
        "        return      # No sides to draw, so stop drawing\n",
        "    else:\n",
        "        t.dot(10, 'yellow')\n",
        "        t.width(3*n+1)\n",
        "        t.forward(100)\n",
        "        t.left(120)\n",
        "        tri(n-1)    # Recur to draw the rest of the sides!\n",
        "\n",
        "#\n",
        "# here, run tri(3)\n",
        "t.fillcolor('blue')\n",
        "t.begin_fill()\n",
        "tri(3)\n",
        "t.end_fill()\n"
      ],
      "metadata": {
        "colab": {
          "base_uri": "https://localhost:8080/",
          "height": 521
        },
        "id": "Ffp6015lD5ro",
        "outputId": "c445ed59-43e2-4862-8f99-f4825582b746"
      },
      "execution_count": 38,
      "outputs": [
        {
          "output_type": "display_data",
          "data": {
            "text/plain": [
              "<IPython.core.display.HTML object>"
            ],
            "text/html": [
              "\n",
              "      <svg width=\"500\" height=\"500\">  \n",
              "        <rect width=\"100%\" height=\"100%\" style=\"fill:aliceblue;stroke:gray;stroke-width:1\"/>\n",
              "        \n",
              "        \n",
              "        <path fill-rule=\"evenodd\" fill-opacity=\"1\" d=\"M 250.0 250.0  L 350.0 250.0  L 300.0 163.397  L 250.0 250.0 \" stroke-linecap=\"round\" style=\"stroke:darkgreen;stroke-width:4\" fill=\"darkgreen\" />\n",
              "        <circle cx=\"250.0\" cy=\"250.0\" r=\"5.0\" fill=\"yellow\" fill-opacity=\"1\" /><circle cx=\"350.0\" cy=\"250.0\" r=\"5.0\" fill=\"yellow\" fill-opacity=\"1\" /><circle cx=\"300.0\" cy=\"163.397\" r=\"5.0\" fill=\"yellow\" fill-opacity=\"1\" />\n",
              "        \n",
              "        <g id=\"turtle2\" visibility=\"visible\" transform=\"rotate(-90,250.0,250.0) translate(250.0, 250.0)\">\n",
              "<polygon points=\"0,16 2,14 1,10 4,7 7,9 9,8 6,5 7,1 5,-3 8,-6 6,-8 4,-5 0,-7 -4,-5 -6,-8 -8,-6 -5,-3 -7,1 -6,5 -9,8 -7,9 -4,7 -1,10 -2,14\" transform=\"skewX(0) scale(1,1)\" style=\"stroke:darkgreen;stroke-width:1;fill:darkgreen\" />\n",
              "</g>\n",
              "      </svg>\n",
              "    "
            ]
          },
          "metadata": {}
        }
      ]
    },
    {
      "cell_type": "markdown",
      "source": [
        "Consider the code's pieces:\n",
        "\n",
        "+ First, we setup the Turtle's canvas (adjust to suit!)\n",
        "+ Then we define the `tri` function, and finally\n",
        "+ we call it at the bottom with `tri(3)`\n",
        "\n",
        "\n",
        "You'll notice that the internal turtle-drawing calls all begin with \"`t.`\" i.e., \"`t`\" followed by a dot. That is because the underlying code creates a variable named `t` known as <i>an object</i> and then it makes changes to that object, and that object makes changes to the drawing canvas.\n",
        "+ Not worth worrying about! Just a placeholder. Later in the semester, you will use, create, and design <i>objects</i> in much more depth.\n",
        "\n",
        "When run, the above code should create a graphic that looks similar to this:\n",
        "\n",
        "<img src = \"https://www.cs.hmc.edu/twiki/pub/CS5Fall2022/Lab2Turtle/tri_3.png\" height=\"100px\">\n",
        "\n",
        "Stop for a moment and ask yourself how `tri` actually works:\n",
        "+ In particular, `tri` only draws one line: `t.forward(100)`\n",
        "+ How does it draw a complete triangle?\n",
        "+ Why do we have `tri(n-1)`?\n",
        "\n",
        "Note that the base case (or empty case) returns - without actually returning any value. This is because the function does not produce a value - instead, it simply changes pixels on the screen!\n",
        "\n",
        "In this code, we are calling `tri` for its <i>side effects,</i> which are changes to the world that aren't part of any return value. In this case, the side effects are graphics on your screen.\n",
        "\n"
      ],
      "metadata": {
        "id": "Z5-yS_AK8MdP"
      }
    },
    {
      "cell_type": "markdown",
      "source": [
        "## <font color=\"#f96d7b\"><b>`Tri`-ing fills, options, and colors! </b></font>\n",
        "\n",
        "Now, change the above `tri`-ing function, using a fill:\n",
        "\n",
        "To fill any shape, you can wrap it in `t.begin_fill()`, followed by the function that creates the shape, followed by `t.end_fill()`.\n",
        "+ For the triangle, try altering the bottom part of the cell to read:\n",
        "```\n",
        "t.fillcolor('blue')\n",
        "t.begin_fill()\n",
        "tri(3)\n",
        "t.end_fill()\n",
        "```\n",
        "+ Then, change the fill color!\n",
        "\n",
        "<hr>\n",
        "\n",
        "Next, change your `tri` function and re-running it in order to try at least one out of the many turtle options:\n",
        "\n",
        "+ (_Line thickness_)   Put the line    `t.width(10)`    as the first overall line of the `tri` <i>function</i>.\n",
        "   - ***Or*** put the line    `t.width(3*n+1)`    as the first line of the `else` block in the `tri` function!\n",
        "+ (_Colorfulness_)   Put the line    `t.color('darkgreen')`    as the first line of the function.\n",
        "   - Or `import random` near the top of the code box and put the two lines:\n",
        "        ```\n",
        "        clr = random.choice(['darkgreen', 'red', 'blue'])\n",
        "        t.color(clr)\n",
        "        ```\n",
        "   as the first lines of the function.\n",
        "+ (_Other Python turtle-drawing commands_)   Put the line `t.dot(10, 'yellow')` as the first line of the `else` block.\n",
        "   - This should draw a filled circle (a dot) just before it runs the other lines of the `else` block.\n",
        "   - Note that you can make the dot a different color than the line color by including the color as the second argument to `dot`.\n",
        "\n",
        "<br>\n",
        "\n",
        "<font size=\"-2\">Here is [the documentation for the ColabTurtlePlus library.](https://larryriddle.agnesscott.org/ColabTurtlePlus/documentation2.html) and [the documentation for the Python turtle library.](https://docs.python.org/3/library/turtle.html). No need to reference these - here just in case.</font>\n",
        "\n",
        "\n",
        "\n",
        "\n",
        "\n",
        "\n"
      ],
      "metadata": {
        "id": "YuZElPxp_o1V"
      }
    },
    {
      "cell_type": "markdown",
      "source": [
        "## <font color = \"blue\"> <b>Turtle Task #2:    <i>Spiraling</i></b>\n",
        "\n",
        "We look forward to seeing your final `tri` !\n",
        "\n",
        "Does turtle have you <i>spiraling</i> yet? That's next:"
      ],
      "metadata": {
        "id": "wKatZHgFjH4x"
      }
    },
    {
      "cell_type": "markdown",
      "source": [
        "## <font color=\"#f96d7b\"><b>The `spiral` function </b> <font size = \"-1\"> [10 points]</font>\n",
        "\n",
        "Next, you'll build another <i>single-path</i> recursive function, named `spiral`. It will be similar to `tri`.\n",
        "\n",
        "First, a picture from the call `spiral(100, 90, 0.9)`:\n",
        "\n",
        "<img src = \"https://www.cs.hmc.edu/twiki/pub/CS5Fall2022/Lab2Turtle/spiral_90.png\">\n",
        "\n",
        "The idea is to write `spiral(initialLength, angle, multiplier)`\n",
        "+ `initialLength` is the length of the first \"spiral leg\"\n",
        "+ `angle` is the amount the turtle turns after each leg\n",
        "+ `multiplier` is the multiplier used, with each spiral-leg!\n",
        "\n",
        "Take a look:\n",
        "+ It won't run as-is...\n",
        "+ See if you can fill in lines 22-24\n",
        "+ Then, run it by uncommenting the call to `spiral(100, 90, 0.9)` on line 28"
      ],
      "metadata": {
        "id": "XZnJWoxWkHc2"
      }
    },
    {
      "cell_type": "code",
      "source": [
        "import ColabTurtlePlus.Turtle as t\n",
        "\n",
        "t.clearscreen()      # it's good to start every cell with this\n",
        "t.setup(500,500)     # setup the drawing area to be 500 pixels x 500 pixels\n",
        "t.showborder()       # show the border of the drawing area\n",
        "\n",
        "t.bgcolor(\"AliceBlue\")   # adjust to your preferences!\n",
        "t.shape(\"turtle2\")\n",
        "t.speed(10)\n",
        "t.width(2)\n",
        "\n",
        "def spiral(initialLength, angle, multiplier):\n",
        "    \"\"\"Spiral-drawing function.  Arguments:\n",
        "       initialLength = the length of the first leg of the spiral\n",
        "       angle = the angle, in degrees, turned after each spiral's leg\n",
        "       multiplier = the fraction by which each leg of the spiral changes\n",
        "    \"\"\"\n",
        "    if initialLength <= 1 or initialLength > 1000:\n",
        "        return      # No more to draw, this base case stops the recursion\n",
        "    else:\n",
        "        t.forward(initialLength)  # You will want a call to forward on this line...\n",
        "        t.left(angle) # You will want a turn on this line...\n",
        "        spiral(initialLength*multiplier, angle, multiplier) # You will want to recurse here! That is, make a new call to spiral:\n",
        "        # use this: spiral( _______________  , ______  , ____ )  # What inputs?!\n",
        "\n",
        "        pass # delete this empty statement later\n",
        "\n",
        "\n",
        "spiral(100, 90, 0.9)   # here, call spiral!\n",
        "spiral(100, 170, 0.95) # More of a \"star\" than a spiral...\n",
        "spiral(400, 120, 0.8) # A triangular spiral...\n",
        "spiral(300, 170, 0.99)"
      ],
      "metadata": {
        "id": "lTgFbs3Ilmtw",
        "colab": {
          "base_uri": "https://localhost:8080/",
          "height": 521
        },
        "outputId": "96d24b68-faa1-42dc-d0b3-781bcfac4ce6"
      },
      "execution_count": 44,
      "outputs": [
        {
          "output_type": "display_data",
          "data": {
            "text/plain": [
              "<IPython.core.display.HTML object>"
            ],
            "text/html": [
              "\n",
              "      <svg width=\"500\" height=\"500\">  \n",
              "        <rect width=\"100%\" height=\"100%\" style=\"fill:aliceblue;stroke:gray;stroke-width:1\"/>\n",
              "        \n",
              "        \n",
              "        <line x1=\"250.0\" y1=\"250.0\" x2=\"350.0\" y2=\"250.0\" stroke-linecap=\"round\" style=\"stroke:black;stroke-width:2\" /><line x1=\"350.0\" y1=\"250.0\" x2=\"350.0\" y2=\"160.0\" stroke-linecap=\"round\" style=\"stroke:black;stroke-width:2\" /><line x1=\"350.0\" y1=\"160.0\" x2=\"269.0\" y2=\"160.0\" stroke-linecap=\"round\" style=\"stroke:black;stroke-width:2\" /><line x1=\"269.0\" y1=\"160.0\" x2=\"269.0\" y2=\"232.9\" stroke-linecap=\"round\" style=\"stroke:black;stroke-width:2\" /><line x1=\"269.0\" y1=\"232.9\" x2=\"334.61\" y2=\"232.9\" stroke-linecap=\"round\" style=\"stroke:black;stroke-width:2\" /><line x1=\"334.61\" y1=\"232.9\" x2=\"334.61\" y2=\"173.851\" stroke-linecap=\"round\" style=\"stroke:black;stroke-width:2\" /><line x1=\"334.61\" y1=\"173.851\" x2=\"281.466\" y2=\"173.851\" stroke-linecap=\"round\" style=\"stroke:black;stroke-width:2\" /><line x1=\"281.466\" y1=\"173.851\" x2=\"281.466\" y2=\"221.681\" stroke-linecap=\"round\" style=\"stroke:black;stroke-width:2\" /><line x1=\"281.466\" y1=\"221.681\" x2=\"324.513\" y2=\"221.681\" stroke-linecap=\"round\" style=\"stroke:black;stroke-width:2\" /><line x1=\"324.513\" y1=\"221.681\" x2=\"324.513\" y2=\"182.939\" stroke-linecap=\"round\" style=\"stroke:black;stroke-width:2\" /><line x1=\"324.513\" y1=\"182.939\" x2=\"289.645\" y2=\"182.939\" stroke-linecap=\"round\" style=\"stroke:black;stroke-width:2\" /><line x1=\"289.645\" y1=\"182.939\" x2=\"289.645\" y2=\"214.32\" stroke-linecap=\"round\" style=\"stroke:black;stroke-width:2\" /><line x1=\"289.645\" y1=\"214.32\" x2=\"317.888\" y2=\"214.32\" stroke-linecap=\"round\" style=\"stroke:black;stroke-width:2\" /><line x1=\"317.888\" y1=\"214.32\" x2=\"317.888\" y2=\"188.901\" stroke-linecap=\"round\" style=\"stroke:black;stroke-width:2\" /><line x1=\"317.888\" y1=\"188.901\" x2=\"295.011\" y2=\"188.901\" stroke-linecap=\"round\" style=\"stroke:black;stroke-width:2\" /><line x1=\"295.011\" y1=\"188.901\" x2=\"295.011\" y2=\"209.49\" stroke-linecap=\"round\" style=\"stroke:black;stroke-width:2\" /><line x1=\"295.011\" y1=\"209.49\" x2=\"313.541\" y2=\"209.49\" stroke-linecap=\"round\" style=\"stroke:black;stroke-width:2\" /><line x1=\"313.541\" y1=\"209.49\" x2=\"313.541\" y2=\"192.813\" stroke-linecap=\"round\" style=\"stroke:black;stroke-width:2\" /><line x1=\"313.541\" y1=\"192.813\" x2=\"298.532\" y2=\"192.813\" stroke-linecap=\"round\" style=\"stroke:black;stroke-width:2\" /><line x1=\"298.532\" y1=\"192.813\" x2=\"298.532\" y2=\"206.322\" stroke-linecap=\"round\" style=\"stroke:black;stroke-width:2\" /><line x1=\"298.532\" y1=\"206.322\" x2=\"310.69\" y2=\"206.322\" stroke-linecap=\"round\" style=\"stroke:black;stroke-width:2\" /><line x1=\"310.69\" y1=\"206.322\" x2=\"310.69\" y2=\"195.38\" stroke-linecap=\"round\" style=\"stroke:black;stroke-width:2\" /><line x1=\"310.69\" y1=\"195.38\" x2=\"300.842\" y2=\"195.38\" stroke-linecap=\"round\" style=\"stroke:black;stroke-width:2\" /><line x1=\"300.842\" y1=\"195.38\" x2=\"300.842\" y2=\"204.243\" stroke-linecap=\"round\" style=\"stroke:black;stroke-width:2\" /><line x1=\"300.842\" y1=\"204.243\" x2=\"308.819\" y2=\"204.243\" stroke-linecap=\"round\" style=\"stroke:black;stroke-width:2\" /><line x1=\"308.819\" y1=\"204.243\" x2=\"308.819\" y2=\"197.064\" stroke-linecap=\"round\" style=\"stroke:black;stroke-width:2\" /><line x1=\"308.819\" y1=\"197.064\" x2=\"302.358\" y2=\"197.064\" stroke-linecap=\"round\" style=\"stroke:black;stroke-width:2\" /><line x1=\"302.358\" y1=\"197.064\" x2=\"302.358\" y2=\"202.879\" stroke-linecap=\"round\" style=\"stroke:black;stroke-width:2\" /><line x1=\"302.358\" y1=\"202.879\" x2=\"307.591\" y2=\"202.879\" stroke-linecap=\"round\" style=\"stroke:black;stroke-width:2\" /><line x1=\"307.591\" y1=\"202.879\" x2=\"307.591\" y2=\"198.169\" stroke-linecap=\"round\" style=\"stroke:black;stroke-width:2\" /><line x1=\"307.591\" y1=\"198.169\" x2=\"303.352\" y2=\"198.169\" stroke-linecap=\"round\" style=\"stroke:black;stroke-width:2\" /><line x1=\"303.352\" y1=\"198.169\" x2=\"303.352\" y2=\"201.984\" stroke-linecap=\"round\" style=\"stroke:black;stroke-width:2\" /><line x1=\"303.352\" y1=\"201.984\" x2=\"306.786\" y2=\"201.984\" stroke-linecap=\"round\" style=\"stroke:black;stroke-width:2\" /><line x1=\"306.786\" y1=\"201.984\" x2=\"306.786\" y2=\"198.894\" stroke-linecap=\"round\" style=\"stroke:black;stroke-width:2\" /><line x1=\"306.786\" y1=\"198.894\" x2=\"304.005\" y2=\"198.894\" stroke-linecap=\"round\" style=\"stroke:black;stroke-width:2\" /><line x1=\"304.005\" y1=\"198.894\" x2=\"304.005\" y2=\"201.397\" stroke-linecap=\"round\" style=\"stroke:black;stroke-width:2\" /><line x1=\"304.005\" y1=\"201.397\" x2=\"306.258\" y2=\"201.397\" stroke-linecap=\"round\" style=\"stroke:black;stroke-width:2\" /><line x1=\"306.258\" y1=\"201.397\" x2=\"306.258\" y2=\"199.369\" stroke-linecap=\"round\" style=\"stroke:black;stroke-width:2\" /><line x1=\"306.258\" y1=\"199.369\" x2=\"304.433\" y2=\"199.369\" stroke-linecap=\"round\" style=\"stroke:black;stroke-width:2\" /><line x1=\"304.433\" y1=\"199.369\" x2=\"304.433\" y2=\"201.011\" stroke-linecap=\"round\" style=\"stroke:black;stroke-width:2\" /><line x1=\"304.433\" y1=\"201.011\" x2=\"305.911\" y2=\"201.011\" stroke-linecap=\"round\" style=\"stroke:black;stroke-width:2\" /><line x1=\"305.911\" y1=\"201.011\" x2=\"305.911\" y2=\"199.681\" stroke-linecap=\"round\" style=\"stroke:black;stroke-width:2\" /><line x1=\"305.911\" y1=\"199.681\" x2=\"304.714\" y2=\"199.681\" stroke-linecap=\"round\" style=\"stroke:black;stroke-width:2\" /><line x1=\"304.714\" y1=\"199.681\" x2=\"304.714\" y2=\"200.759\" stroke-linecap=\"round\" style=\"stroke:black;stroke-width:2\" /><line x1=\"304.714\" y1=\"200.759\" x2=\"404.714\" y2=\"200.759\" stroke-linecap=\"round\" style=\"stroke:black;stroke-width:2\" /><line x1=\"404.714\" y1=\"200.759\" x2=\"311.157\" y2=\"184.262\" stroke-linecap=\"round\" style=\"stroke:black;stroke-width:2\" /><line x1=\"311.157\" y1=\"184.262\" x2=\"395.964\" y2=\"215.129\" stroke-linecap=\"round\" style=\"stroke:black;stroke-width:2\" /><line x1=\"395.964\" y1=\"215.129\" x2=\"321.713\" y2=\"172.26\" stroke-linecap=\"round\" style=\"stroke:black;stroke-width:2\" /><line x1=\"321.713\" y1=\"172.26\" x2=\"384.108\" y2=\"224.615\" stroke-linecap=\"round\" style=\"stroke:black;stroke-width:2\" /><line x1=\"384.108\" y1=\"224.615\" x2=\"334.37\" y2=\"165.34\" stroke-linecap=\"round\" style=\"stroke:black;stroke-width:2\" /><line x1=\"334.37\" y1=\"165.34\" x2=\"371.125\" y2=\"229.001\" stroke-linecap=\"round\" style=\"stroke:black;stroke-width:2\" /><line x1=\"371.125\" y1=\"229.001\" x2=\"347.24\" y2=\"163.379\" stroke-linecap=\"round\" style=\"stroke:black;stroke-width:2\" /><line x1=\"347.24\" y1=\"163.379\" x2=\"358.76\" y2=\"228.713\" stroke-linecap=\"round\" style=\"stroke:black;stroke-width:2\" /><line x1=\"358.76\" y1=\"228.713\" x2=\"358.76\" y2=\"165.688\" stroke-linecap=\"round\" style=\"stroke:black;stroke-width:2\" /><line x1=\"358.76\" y1=\"165.688\" x2=\"348.363\" y2=\"224.652\" stroke-linecap=\"round\" style=\"stroke:black;stroke-width:2\" /><line x1=\"348.363\" y1=\"224.652\" x2=\"367.817\" y2=\"171.202\" stroke-linecap=\"round\" style=\"stroke:black;stroke-width:2\" /><line x1=\"367.817\" y1=\"171.202\" x2=\"340.799\" y2=\"217.999\" stroke-linecap=\"round\" style=\"stroke:black;stroke-width:2\" /><line x1=\"340.799\" y1=\"217.999\" x2=\"373.796\" y2=\"178.675\" stroke-linecap=\"round\" style=\"stroke:black;stroke-width:2\" /><line x1=\"373.796\" y1=\"178.675\" x2=\"336.438\" y2=\"210.022\" stroke-linecap=\"round\" style=\"stroke:black;stroke-width:2\" /><line x1=\"336.438\" y1=\"210.022\" x2=\"376.56\" y2=\"186.857\" stroke-linecap=\"round\" style=\"stroke:black;stroke-width:2\" /><line x1=\"376.56\" y1=\"186.857\" x2=\"335.202\" y2=\"201.91\" stroke-linecap=\"round\" style=\"stroke:black;stroke-width:2\" /><line x1=\"335.202\" y1=\"201.91\" x2=\"376.379\" y2=\"194.649\" stroke-linecap=\"round\" style=\"stroke:black;stroke-width:2\" /><line x1=\"376.379\" y1=\"194.649\" x2=\"336.658\" y2=\"194.649\" stroke-linecap=\"round\" style=\"stroke:black;stroke-width:2\" /><line x1=\"336.658\" y1=\"194.649\" x2=\"373.82\" y2=\"201.202\" stroke-linecap=\"round\" style=\"stroke:black;stroke-width:2\" /><line x1=\"373.82\" y1=\"201.202\" x2=\"340.133\" y2=\"188.941\" stroke-linecap=\"round\" style=\"stroke:black;stroke-width:2\" /><line x1=\"340.133\" y1=\"188.941\" x2=\"369.627\" y2=\"205.969\" stroke-linecap=\"round\" style=\"stroke:black;stroke-width:2\" /><line x1=\"369.627\" y1=\"205.969\" x2=\"344.843\" y2=\"185.173\" stroke-linecap=\"round\" style=\"stroke:black;stroke-width:2\" /><line x1=\"344.843\" y1=\"185.173\" x2=\"364.6\" y2=\"208.718\" stroke-linecap=\"round\" style=\"stroke:black;stroke-width:2\" /><line x1=\"364.6\" y1=\"208.718\" x2=\"350.001\" y2=\"183.431\" stroke-linecap=\"round\" style=\"stroke:black;stroke-width:2\" /><line x1=\"350.001\" y1=\"183.431\" x2=\"359.488\" y2=\"209.497\" stroke-linecap=\"round\" style=\"stroke:black;stroke-width:2\" /><line x1=\"359.488\" y1=\"209.497\" x2=\"354.912\" y2=\"183.545\" stroke-linecap=\"round\" style=\"stroke:black;stroke-width:2\" /><line x1=\"354.912\" y1=\"183.545\" x2=\"354.912\" y2=\"208.579\" stroke-linecap=\"round\" style=\"stroke:black;stroke-width:2\" /><line x1=\"354.912\" y1=\"208.579\" x2=\"359.042\" y2=\"185.158\" stroke-linecap=\"round\" style=\"stroke:black;stroke-width:2\" /><line x1=\"359.042\" y1=\"185.158\" x2=\"351.315\" y2=\"206.389\" stroke-linecap=\"round\" style=\"stroke:black;stroke-width:2\" /><line x1=\"351.315\" y1=\"206.389\" x2=\"362.047\" y2=\"187.801\" stroke-linecap=\"round\" style=\"stroke:black;stroke-width:2\" /><line x1=\"362.047\" y1=\"187.801\" x2=\"348.94\" y2=\"203.421\" stroke-linecap=\"round\" style=\"stroke:black;stroke-width:2\" /><line x1=\"348.94\" y1=\"203.421\" x2=\"363.779\" y2=\"190.969\" stroke-linecap=\"round\" style=\"stroke:black;stroke-width:2\" /><line x1=\"363.779\" y1=\"190.969\" x2=\"347.842\" y2=\"200.17\" stroke-linecap=\"round\" style=\"stroke:black;stroke-width:2\" /><line x1=\"347.842\" y1=\"200.17\" x2=\"364.27\" y2=\"194.191\" stroke-linecap=\"round\" style=\"stroke:black;stroke-width:2\" /><line x1=\"364.27\" y1=\"194.191\" x2=\"347.914\" y2=\"197.075\" stroke-linecap=\"round\" style=\"stroke:black;stroke-width:2\" /><line x1=\"347.914\" y1=\"197.075\" x2=\"363.692\" y2=\"197.075\" stroke-linecap=\"round\" style=\"stroke:black;stroke-width:2\" /><line x1=\"363.692\" y1=\"197.075\" x2=\"348.931\" y2=\"194.472\" stroke-linecap=\"round\" style=\"stroke:black;stroke-width:2\" /><line x1=\"348.931\" y1=\"194.472\" x2=\"362.312\" y2=\"199.342\" stroke-linecap=\"round\" style=\"stroke:black;stroke-width:2\" /><line x1=\"362.312\" y1=\"199.342\" x2=\"350.597\" y2=\"192.578\" stroke-linecap=\"round\" style=\"stroke:black;stroke-width:2\" /><line x1=\"350.597\" y1=\"192.578\" x2=\"360.442\" y2=\"200.839\" stroke-linecap=\"round\" style=\"stroke:black;stroke-width:2\" /><line x1=\"360.442\" y1=\"200.839\" x2=\"352.594\" y2=\"191.487\" stroke-linecap=\"round\" style=\"stroke:black;stroke-width:2\" /><line x1=\"352.594\" y1=\"191.487\" x2=\"358.393\" y2=\"201.531\" stroke-linecap=\"round\" style=\"stroke:black;stroke-width:2\" /><line x1=\"358.393\" y1=\"201.531\" x2=\"354.625\" y2=\"191.177\" stroke-linecap=\"round\" style=\"stroke:black;stroke-width:2\" /><line x1=\"354.625\" y1=\"191.177\" x2=\"356.443\" y2=\"201.485\" stroke-linecap=\"round\" style=\"stroke:black;stroke-width:2\" /><line x1=\"356.443\" y1=\"201.485\" x2=\"356.443\" y2=\"191.541\" stroke-linecap=\"round\" style=\"stroke:black;stroke-width:2\" /><line x1=\"356.443\" y1=\"191.541\" x2=\"354.803\" y2=\"200.844\" stroke-linecap=\"round\" style=\"stroke:black;stroke-width:2\" /><line x1=\"354.803\" y1=\"200.844\" x2=\"357.872\" y2=\"192.411\" stroke-linecap=\"round\" style=\"stroke:black;stroke-width:2\" /><line x1=\"357.872\" y1=\"192.411\" x2=\"353.609\" y2=\"199.795\" stroke-linecap=\"round\" style=\"stroke:black;stroke-width:2\" /><line x1=\"353.609\" y1=\"199.795\" x2=\"358.815\" y2=\"193.59\" stroke-linecap=\"round\" style=\"stroke:black;stroke-width:2\" /><line x1=\"358.815\" y1=\"193.59\" x2=\"352.921\" y2=\"198.536\" stroke-linecap=\"round\" style=\"stroke:black;stroke-width:2\" /><line x1=\"352.921\" y1=\"198.536\" x2=\"359.251\" y2=\"194.881\" stroke-linecap=\"round\" style=\"stroke:black;stroke-width:2\" /><line x1=\"359.251\" y1=\"194.881\" x2=\"352.726\" y2=\"197.256\" stroke-linecap=\"round\" style=\"stroke:black;stroke-width:2\" /><line x1=\"352.726\" y1=\"197.256\" x2=\"359.223\" y2=\"196.11\" stroke-linecap=\"round\" style=\"stroke:black;stroke-width:2\" /><line x1=\"359.223\" y1=\"196.11\" x2=\"352.956\" y2=\"196.11\" stroke-linecap=\"round\" style=\"stroke:black;stroke-width:2\" /><line x1=\"352.956\" y1=\"196.11\" x2=\"358.819\" y2=\"197.144\" stroke-linecap=\"round\" style=\"stroke:black;stroke-width:2\" /><line x1=\"358.819\" y1=\"197.144\" x2=\"353.504\" y2=\"195.209\" stroke-linecap=\"round\" style=\"stroke:black;stroke-width:2\" /><line x1=\"353.504\" y1=\"195.209\" x2=\"358.157\" y2=\"197.896\" stroke-linecap=\"round\" style=\"stroke:black;stroke-width:2\" /><line x1=\"358.157\" y1=\"197.896\" x2=\"354.247\" y2=\"194.615\" stroke-linecap=\"round\" style=\"stroke:black;stroke-width:2\" /><line x1=\"354.247\" y1=\"194.615\" x2=\"357.364\" y2=\"198.33\" stroke-linecap=\"round\" style=\"stroke:black;stroke-width:2\" /><line x1=\"357.364\" y1=\"198.33\" x2=\"355.061\" y2=\"194.34\" stroke-linecap=\"round\" style=\"stroke:black;stroke-width:2\" /><line x1=\"355.061\" y1=\"194.34\" x2=\"356.558\" y2=\"198.453\" stroke-linecap=\"round\" style=\"stroke:black;stroke-width:2\" /><line x1=\"356.558\" y1=\"198.453\" x2=\"355.836\" y2=\"194.358\" stroke-linecap=\"round\" style=\"stroke:black;stroke-width:2\" /><line x1=\"355.836\" y1=\"194.358\" x2=\"355.836\" y2=\"198.308\" stroke-linecap=\"round\" style=\"stroke:black;stroke-width:2\" /><line x1=\"355.836\" y1=\"198.308\" x2=\"356.488\" y2=\"194.613\" stroke-linecap=\"round\" style=\"stroke:black;stroke-width:2\" /><line x1=\"356.488\" y1=\"194.613\" x2=\"355.269\" y2=\"197.963\" stroke-linecap=\"round\" style=\"stroke:black;stroke-width:2\" /><line x1=\"355.269\" y1=\"197.963\" x2=\"356.962\" y2=\"195.03\" stroke-linecap=\"round\" style=\"stroke:black;stroke-width:2\" /><line x1=\"356.962\" y1=\"195.03\" x2=\"354.894\" y2=\"197.495\" stroke-linecap=\"round\" style=\"stroke:black;stroke-width:2\" /><line x1=\"354.894\" y1=\"197.495\" x2=\"357.235\" y2=\"195.53\" stroke-linecap=\"round\" style=\"stroke:black;stroke-width:2\" /><line x1=\"357.235\" y1=\"195.53\" x2=\"354.72\" y2=\"196.982\" stroke-linecap=\"round\" style=\"stroke:black;stroke-width:2\" /><line x1=\"354.72\" y1=\"196.982\" x2=\"357.312\" y2=\"196.039\" stroke-linecap=\"round\" style=\"stroke:black;stroke-width:2\" /><line x1=\"357.312\" y1=\"196.039\" x2=\"354.731\" y2=\"196.494\" stroke-linecap=\"round\" style=\"stroke:black;stroke-width:2\" /><line x1=\"354.731\" y1=\"196.494\" x2=\"357.22\" y2=\"196.494\" stroke-linecap=\"round\" style=\"stroke:black;stroke-width:2\" /><line x1=\"357.22\" y1=\"196.494\" x2=\"354.891\" y2=\"196.083\" stroke-linecap=\"round\" style=\"stroke:black;stroke-width:2\" /><line x1=\"354.891\" y1=\"196.083\" x2=\"357.002\" y2=\"196.851\" stroke-linecap=\"round\" style=\"stroke:black;stroke-width:2\" /><line x1=\"357.002\" y1=\"196.851\" x2=\"355.154\" y2=\"195.784\" stroke-linecap=\"round\" style=\"stroke:black;stroke-width:2\" /><line x1=\"355.154\" y1=\"195.784\" x2=\"356.707\" y2=\"197.087\" stroke-linecap=\"round\" style=\"stroke:black;stroke-width:2\" /><line x1=\"356.707\" y1=\"197.087\" x2=\"355.469\" y2=\"195.611\" stroke-linecap=\"round\" style=\"stroke:black;stroke-width:2\" /><line x1=\"355.469\" y1=\"195.611\" x2=\"356.384\" y2=\"197.196\" stroke-linecap=\"round\" style=\"stroke:black;stroke-width:2\" /><line x1=\"356.384\" y1=\"197.196\" x2=\"355.789\" y2=\"195.562\" stroke-linecap=\"round\" style=\"stroke:black;stroke-width:2\" /><line x1=\"355.789\" y1=\"195.562\" x2=\"356.076\" y2=\"197.188\" stroke-linecap=\"round\" style=\"stroke:black;stroke-width:2\" /><line x1=\"356.076\" y1=\"197.188\" x2=\"356.076\" y2=\"195.619\" stroke-linecap=\"round\" style=\"stroke:black;stroke-width:2\" /><line x1=\"356.076\" y1=\"195.619\" x2=\"355.817\" y2=\"197.087\" stroke-linecap=\"round\" style=\"stroke:black;stroke-width:2\" /><line x1=\"355.817\" y1=\"197.087\" x2=\"356.301\" y2=\"195.756\" stroke-linecap=\"round\" style=\"stroke:black;stroke-width:2\" /><line x1=\"356.301\" y1=\"195.756\" x2=\"355.628\" y2=\"196.921\" stroke-linecap=\"round\" style=\"stroke:black;stroke-width:2\" /><line x1=\"355.628\" y1=\"196.921\" x2=\"356.449\" y2=\"195.942\" stroke-linecap=\"round\" style=\"stroke:black;stroke-width:2\" /><line x1=\"356.449\" y1=\"195.942\" x2=\"355.519\" y2=\"196.722\" stroke-linecap=\"round\" style=\"stroke:black;stroke-width:2\" /><line x1=\"355.519\" y1=\"196.722\" x2=\"356.518\" y2=\"196.145\" stroke-linecap=\"round\" style=\"stroke:black;stroke-width:2\" /><line x1=\"356.518\" y1=\"196.145\" x2=\"355.488\" y2=\"196.52\" stroke-linecap=\"round\" style=\"stroke:black;stroke-width:2\" /><line x1=\"355.488\" y1=\"196.52\" x2=\"356.513\" y2=\"196.339\" stroke-linecap=\"round\" style=\"stroke:black;stroke-width:2\" /><line x1=\"356.513\" y1=\"196.339\" x2=\"-43.487\" y2=\"196.339\" stroke-linecap=\"round\" style=\"stroke:black;stroke-width:2\" /><line x1=\"-43.487\" y1=\"196.339\" x2=\"116.513\" y2=\"473.467\" stroke-linecap=\"round\" style=\"stroke:black;stroke-width:2\" /><line x1=\"116.513\" y1=\"473.467\" x2=\"244.513\" y2=\"251.764\" stroke-linecap=\"round\" style=\"stroke:black;stroke-width:2\" /><line x1=\"244.513\" y1=\"251.764\" x2=\"39.713\" y2=\"251.764\" stroke-linecap=\"round\" style=\"stroke:black;stroke-width:2\" /><line x1=\"39.713\" y1=\"251.764\" x2=\"121.633\" y2=\"393.654\" stroke-linecap=\"round\" style=\"stroke:black;stroke-width:2\" /><line x1=\"121.633\" y1=\"393.654\" x2=\"187.169\" y2=\"280.142\" stroke-linecap=\"round\" style=\"stroke:black;stroke-width:2\" /><line x1=\"187.169\" y1=\"280.142\" x2=\"82.311\" y2=\"280.142\" stroke-linecap=\"round\" style=\"stroke:black;stroke-width:2\" /><line x1=\"82.311\" y1=\"280.142\" x2=\"124.254\" y2=\"352.789\" stroke-linecap=\"round\" style=\"stroke:black;stroke-width:2\" /><line x1=\"124.254\" y1=\"352.789\" x2=\"157.808\" y2=\"294.671\" stroke-linecap=\"round\" style=\"stroke:black;stroke-width:2\" /><line x1=\"157.808\" y1=\"294.671\" x2=\"104.121\" y2=\"294.671\" stroke-linecap=\"round\" style=\"stroke:black;stroke-width:2\" /><line x1=\"104.121\" y1=\"294.671\" x2=\"125.596\" y2=\"331.867\" stroke-linecap=\"round\" style=\"stroke:black;stroke-width:2\" /><line x1=\"125.596\" y1=\"331.867\" x2=\"142.776\" y2=\"302.111\" stroke-linecap=\"round\" style=\"stroke:black;stroke-width:2\" /><line x1=\"142.776\" y1=\"302.111\" x2=\"115.288\" y2=\"302.111\" stroke-linecap=\"round\" style=\"stroke:black;stroke-width:2\" /><line x1=\"115.288\" y1=\"302.111\" x2=\"126.283\" y2=\"321.155\" stroke-linecap=\"round\" style=\"stroke:black;stroke-width:2\" /><line x1=\"126.283\" y1=\"321.155\" x2=\"135.079\" y2=\"305.92\" stroke-linecap=\"round\" style=\"stroke:black;stroke-width:2\" /><line x1=\"135.079\" y1=\"305.92\" x2=\"121.005\" y2=\"305.92\" stroke-linecap=\"round\" style=\"stroke:black;stroke-width:2\" /><line x1=\"121.005\" y1=\"305.92\" x2=\"126.634\" y2=\"315.671\" stroke-linecap=\"round\" style=\"stroke:black;stroke-width:2\" /><line x1=\"126.634\" y1=\"315.671\" x2=\"131.138\" y2=\"307.871\" stroke-linecap=\"round\" style=\"stroke:black;stroke-width:2\" /><line x1=\"131.138\" y1=\"307.871\" x2=\"123.932\" y2=\"307.871\" stroke-linecap=\"round\" style=\"stroke:black;stroke-width:2\" /><line x1=\"123.932\" y1=\"307.871\" x2=\"126.814\" y2=\"312.863\" stroke-linecap=\"round\" style=\"stroke:black;stroke-width:2\" /><line x1=\"126.814\" y1=\"312.863\" x2=\"129.12\" y2=\"308.869\" stroke-linecap=\"round\" style=\"stroke:black;stroke-width:2\" /><line x1=\"129.12\" y1=\"308.869\" x2=\"125.431\" y2=\"308.869\" stroke-linecap=\"round\" style=\"stroke:black;stroke-width:2\" /><line x1=\"125.431\" y1=\"308.869\" x2=\"126.907\" y2=\"311.425\" stroke-linecap=\"round\" style=\"stroke:black;stroke-width:2\" /><line x1=\"126.907\" y1=\"311.425\" x2=\"128.088\" y2=\"309.38\" stroke-linecap=\"round\" style=\"stroke:black;stroke-width:2\" /><line x1=\"128.088\" y1=\"309.38\" x2=\"126.199\" y2=\"309.38\" stroke-linecap=\"round\" style=\"stroke:black;stroke-width:2\" /><line x1=\"126.199\" y1=\"309.38\" x2=\"126.955\" y2=\"310.689\" stroke-linecap=\"round\" style=\"stroke:black;stroke-width:2\" /><line x1=\"126.955\" y1=\"310.689\" x2=\"127.559\" y2=\"309.642\" stroke-linecap=\"round\" style=\"stroke:black;stroke-width:2\" /><line x1=\"127.559\" y1=\"309.642\" x2=\"-172.441\" y2=\"309.642\" stroke-linecap=\"round\" style=\"stroke:black;stroke-width:2\" /><line x1=\"-172.441\" y1=\"309.642\" x2=\"120.047\" y2=\"361.216\" stroke-linecap=\"round\" style=\"stroke:black;stroke-width:2\" /><line x1=\"120.047\" y1=\"361.216\" x2=\"-156.251\" y2=\"260.652\" stroke-linecap=\"round\" style=\"stroke:black;stroke-width:2\" /><line x1=\"-156.251\" y1=\"260.652\" x2=\"95.84\" y2=\"406.197\" stroke-linecap=\"round\" style=\"stroke:black;stroke-width:2\" /><line x1=\"95.84\" y1=\"406.197\" x2=\"-124.918\" y2=\"220.959\" stroke-linecap=\"round\" style=\"stroke:black;stroke-width:2\" /><line x1=\"-124.918\" y1=\"220.959\" x2=\"58.467\" y2=\"439.509\" stroke-linecap=\"round\" style=\"stroke:black;stroke-width:2\" /><line x1=\"58.467\" y1=\"439.509\" x2=\"-82.755\" y2=\"194.905\" stroke-linecap=\"round\" style=\"stroke:black;stroke-width:2\" /><line x1=\"-82.755\" y1=\"194.905\" x2=\"12.881\" y2=\"457.661\" stroke-linecap=\"round\" style=\"stroke:black;stroke-width:2\" /><line x1=\"12.881\" y1=\"457.661\" x2=\"-35.189\" y2=\"185.043\" stroke-linecap=\"round\" style=\"stroke:black;stroke-width:2\" /><line x1=\"-35.189\" y1=\"185.043\" x2=\"-35.189\" y2=\"459.098\" stroke-linecap=\"round\" style=\"stroke:black;stroke-width:2\" /><line x1=\"-35.189\" y1=\"459.098\" x2=\"11.924\" y2=\"191.905\" stroke-linecap=\"round\" style=\"stroke:black;stroke-width:2\" /><line x1=\"11.924\" y1=\"191.905\" x2=\"-79.943\" y2=\"444.308\" stroke-linecap=\"round\" style=\"stroke:black;stroke-width:2\" /><line x1=\"-79.943\" y1=\"444.308\" x2=\"53.015\" y2=\"214.018\" stroke-linecap=\"round\" style=\"stroke:black;stroke-width:2\" /><line x1=\"53.015\" y1=\"214.018\" x2=\"-116.203\" y2=\"415.684\" stroke-linecap=\"round\" style=\"stroke:black;stroke-width:2\" /><line x1=\"-116.203\" y1=\"415.684\" x2=\"83.446\" y2=\"248.158\" stroke-linecap=\"round\" style=\"stroke:black;stroke-width:2\" /><line x1=\"83.446\" y1=\"248.158\" x2=\"-140.004\" y2=\"377.167\" stroke-linecap=\"round\" style=\"stroke:black;stroke-width:2\" /><line x1=\"-140.004\" y1=\"377.167\" x2=\"100.029\" y2=\"289.802\" stroke-linecap=\"round\" style=\"stroke:black;stroke-width:2\" /><line x1=\"100.029\" y1=\"289.802\" x2=\"-149.012\" y2=\"333.715\" stroke-linecap=\"round\" style=\"stroke:black;stroke-width:2\" /><line x1=\"-149.012\" y1=\"333.715\" x2=\"101.342\" y2=\"333.715\" stroke-linecap=\"round\" style=\"stroke:black;stroke-width:2\" /><line x1=\"101.342\" y1=\"333.715\" x2=\"-142.743\" y2=\"290.676\" stroke-linecap=\"round\" style=\"stroke:black;stroke-width:2\" /><line x1=\"-142.743\" y1=\"290.676\" x2=\"87.831\" y2=\"374.598\" stroke-linecap=\"round\" style=\"stroke:black;stroke-width:2\" /><line x1=\"87.831\" y1=\"374.598\" x2=\"-122.542\" y2=\"253.139\" stroke-linecap=\"round\" style=\"stroke:black;stroke-width:2\" /><line x1=\"-122.542\" y1=\"253.139\" x2=\"61.683\" y2=\"407.722\" stroke-linecap=\"round\" style=\"stroke:black;stroke-width:2\" /><line x1=\"61.683\" y1=\"407.722\" x2=\"-91.355\" y2=\"225.339\" stroke-linecap=\"round\" style=\"stroke:black;stroke-width:2\" /><line x1=\"-91.355\" y1=\"225.339\" x2=\"26.497\" y2=\"429.464\" stroke-linecap=\"round\" style=\"stroke:black;stroke-width:2\" /><line x1=\"26.497\" y1=\"429.464\" x2=\"-53.312\" y2=\"210.19\" stroke-linecap=\"round\" style=\"stroke:black;stroke-width:2\" /><line x1=\"-53.312\" y1=\"210.19\" x2=\"-13.197\" y2=\"437.693\" stroke-linecap=\"round\" style=\"stroke:black;stroke-width:2\" /><line x1=\"-13.197\" y1=\"437.693\" x2=\"-13.197\" y2=\"208.99\" stroke-linecap=\"round\" style=\"stroke:black;stroke-width:2\" /><line x1=\"-13.197\" y1=\"208.99\" x2=\"-52.514\" y2=\"431.966\" stroke-linecap=\"round\" style=\"stroke:black;stroke-width:2\" /><line x1=\"-52.514\" y1=\"431.966\" x2=\"24.15\" y2=\"221.332\" stroke-linecap=\"round\" style=\"stroke:black;stroke-width:2\" /><line x1=\"24.15\" y1=\"221.332\" x2=\"-86.805\" y2=\"413.512\" stroke-linecap=\"round\" style=\"stroke:black;stroke-width:2\" /><line x1=\"-86.805\" y1=\"413.512\" x2=\"54.41\" y2=\"245.219\" stroke-linecap=\"round\" style=\"stroke:black;stroke-width:2\" /><line x1=\"54.41\" y1=\"245.219\" x2=\"-112.2\" y2=\"385.022\" stroke-linecap=\"round\" style=\"stroke:black;stroke-width:2\" /><line x1=\"-112.2\" y1=\"385.022\" x2=\"74.272\" y2=\"277.362\" stroke-linecap=\"round\" style=\"stroke:black;stroke-width:2\" /><line x1=\"74.272\" y1=\"277.362\" x2=\"-126.038\" y2=\"350.269\" stroke-linecap=\"round\" style=\"stroke:black;stroke-width:2\" /><line x1=\"-126.038\" y1=\"350.269\" x2=\"81.79\" y2=\"313.623\" stroke-linecap=\"round\" style=\"stroke:black;stroke-width:2\" /><line x1=\"81.79\" y1=\"313.623\" x2=\"-127.134\" y2=\"313.623\" stroke-linecap=\"round\" style=\"stroke:black;stroke-width:2\" /><line x1=\"-127.134\" y1=\"313.623\" x2=\"76.558\" y2=\"349.539\" stroke-linecap=\"round\" style=\"stroke:black;stroke-width:2\" /><line x1=\"76.558\" y1=\"349.539\" x2=\"-115.859\" y2=\"279.505\" stroke-linecap=\"round\" style=\"stroke:black;stroke-width:2\" /><line x1=\"-115.859\" y1=\"279.505\" x2=\"59.701\" y2=\"380.864\" stroke-linecap=\"round\" style=\"stroke:black;stroke-width:2\" /><line x1=\"59.701\" y1=\"380.864\" x2=\"-94.038\" y2=\"251.862\" stroke-linecap=\"round\" style=\"stroke:black;stroke-width:2\" /><line x1=\"-94.038\" y1=\"251.862\" x2=\"33.674\" y2=\"404.063\" stroke-linecap=\"round\" style=\"stroke:black;stroke-width:2\" /><line x1=\"33.674\" y1=\"404.063\" x2=\"-64.675\" y2=\"233.718\" stroke-linecap=\"round\" style=\"stroke:black;stroke-width:2\" /><line x1=\"-64.675\" y1=\"233.718\" x2=\"1.927\" y2=\"416.705\" stroke-linecap=\"round\" style=\"stroke:black;stroke-width:2\" /><line x1=\"1.927\" y1=\"416.705\" x2=\"-31.55\" y2=\"226.85\" stroke-linecap=\"round\" style=\"stroke:black;stroke-width:2\" /><line x1=\"-31.55\" y1=\"226.85\" x2=\"-31.55\" y2=\"417.706\" stroke-linecap=\"round\" style=\"stroke:black;stroke-width:2\" /><line x1=\"-31.55\" y1=\"417.706\" x2=\"1.26\" y2=\"231.629\" stroke-linecap=\"round\" style=\"stroke:black;stroke-width:2\" /><line x1=\"1.26\" y1=\"231.629\" x2=\"-62.717\" y2=\"407.406\" stroke-linecap=\"round\" style=\"stroke:black;stroke-width:2\" /><line x1=\"-62.717\" y1=\"407.406\" x2=\"29.877\" y2=\"247.029\" stroke-linecap=\"round\" style=\"stroke:black;stroke-width:2\" /><line x1=\"29.877\" y1=\"247.029\" x2=\"-87.969\" y2=\"387.472\" stroke-linecap=\"round\" style=\"stroke:black;stroke-width:2\" /><line x1=\"-87.969\" y1=\"387.472\" x2=\"51.069\" y2=\"270.805\" stroke-linecap=\"round\" style=\"stroke:black;stroke-width:2\" /><line x1=\"51.069\" y1=\"270.805\" x2=\"-104.544\" y2=\"360.648\" stroke-linecap=\"round\" style=\"stroke:black;stroke-width:2\" /><line x1=\"-104.544\" y1=\"360.648\" x2=\"62.618\" y2=\"299.806\" stroke-linecap=\"round\" style=\"stroke:black;stroke-width:2\" /><line x1=\"62.618\" y1=\"299.806\" x2=\"-110.818\" y2=\"330.387\" stroke-linecap=\"round\" style=\"stroke:black;stroke-width:2\" /><line x1=\"-110.818\" y1=\"330.387\" x2=\"63.532\" y2=\"330.387\" stroke-linecap=\"round\" style=\"stroke:black;stroke-width:2\" /><line x1=\"63.532\" y1=\"330.387\" x2=\"-106.452\" y2=\"300.414\" stroke-linecap=\"round\" style=\"stroke:black;stroke-width:2\" /><line x1=\"-106.452\" y1=\"300.414\" x2=\"54.123\" y2=\"358.859\" stroke-linecap=\"round\" style=\"stroke:black;stroke-width:2\" /><line x1=\"54.123\" y1=\"358.859\" x2=\"-92.384\" y2=\"274.273\" stroke-linecap=\"round\" style=\"stroke:black;stroke-width:2\" /><line x1=\"-92.384\" y1=\"274.273\" x2=\"35.913\" y2=\"381.927\" stroke-linecap=\"round\" style=\"stroke:black;stroke-width:2\" /><line x1=\"35.913\" y1=\"381.927\" x2=\"-70.664\" y2=\"254.913\" stroke-linecap=\"round\" style=\"stroke:black;stroke-width:2\" /><line x1=\"-70.664\" y1=\"254.913\" x2=\"11.409\" y2=\"397.068\" stroke-linecap=\"round\" style=\"stroke:black;stroke-width:2\" /><line x1=\"11.409\" y1=\"397.068\" x2=\"-44.171\" y2=\"244.363\" stroke-linecap=\"round\" style=\"stroke:black;stroke-width:2\" /><line x1=\"-44.171\" y1=\"244.363\" x2=\"-16.234\" y2=\"402.799\" stroke-linecap=\"round\" style=\"stroke:black;stroke-width:2\" /><line x1=\"-16.234\" y1=\"402.799\" x2=\"-16.234\" y2=\"243.527\" stroke-linecap=\"round\" style=\"stroke:black;stroke-width:2\" /><line x1=\"-16.234\" y1=\"243.527\" x2=\"-43.615\" y2=\"398.81\" stroke-linecap=\"round\" style=\"stroke:black;stroke-width:2\" /><line x1=\"-43.615\" y1=\"398.81\" x2=\"9.775\" y2=\"252.122\" stroke-linecap=\"round\" style=\"stroke:black;stroke-width:2\" /><line x1=\"9.775\" y1=\"252.122\" x2=\"-67.496\" y2=\"385.959\" stroke-linecap=\"round\" style=\"stroke:black;stroke-width:2\" /><line x1=\"-67.496\" y1=\"385.959\" x2=\"30.848\" y2=\"268.757\" stroke-linecap=\"round\" style=\"stroke:black;stroke-width:2\" /><line x1=\"30.848\" y1=\"268.757\" x2=\"-85.182\" y2=\"366.117\" stroke-linecap=\"round\" style=\"stroke:black;stroke-width:2\" /><line x1=\"-85.182\" y1=\"366.117\" x2=\"44.679\" y2=\"291.141\" stroke-linecap=\"round\" style=\"stroke:black;stroke-width:2\" /><line x1=\"44.679\" y1=\"291.141\" x2=\"-94.82\" y2=\"341.914\" stroke-linecap=\"round\" style=\"stroke:black;stroke-width:2\" /><line x1=\"-94.82\" y1=\"341.914\" x2=\"49.914\" y2=\"316.393\" stroke-linecap=\"round\" style=\"stroke:black;stroke-width:2\" /><line x1=\"49.914\" y1=\"316.393\" x2=\"-95.583\" y2=\"316.393\" stroke-linecap=\"round\" style=\"stroke:black;stroke-width:2\" /><line x1=\"-95.583\" y1=\"316.393\" x2=\"46.271\" y2=\"341.406\" stroke-linecap=\"round\" style=\"stroke:black;stroke-width:2\" /><line x1=\"46.271\" y1=\"341.406\" x2=\"-87.731\" y2=\"292.633\" stroke-linecap=\"round\" style=\"stroke:black;stroke-width:2\" /><line x1=\"-87.731\" y1=\"292.633\" x2=\"34.531\" y2=\"363.221\" stroke-linecap=\"round\" style=\"stroke:black;stroke-width:2\" /><line x1=\"34.531\" y1=\"363.221\" x2=\"-72.535\" y2=\"273.382\" stroke-linecap=\"round\" style=\"stroke:black;stroke-width:2\" /><line x1=\"-72.535\" y1=\"273.382\" x2=\"16.405\" y2=\"379.377\" stroke-linecap=\"round\" style=\"stroke:black;stroke-width:2\" /><line x1=\"16.405\" y1=\"379.377\" x2=\"-52.086\" y2=\"260.746\" stroke-linecap=\"round\" style=\"stroke:black;stroke-width:2\" /><line x1=\"-52.086\" y1=\"260.746\" x2=\"-5.704\" y2=\"388.181\" stroke-linecap=\"round\" style=\"stroke:black;stroke-width:2\" /><line x1=\"-5.704\" y1=\"388.181\" x2=\"-29.017\" y2=\"255.964\" stroke-linecap=\"round\" style=\"stroke:black;stroke-width:2\" /><line x1=\"-29.017\" y1=\"255.964\" x2=\"-29.017\" y2=\"388.878\" stroke-linecap=\"round\" style=\"stroke:black;stroke-width:2\" /><line x1=\"-29.017\" y1=\"388.878\" x2=\"-6.167\" y2=\"259.292\" stroke-linecap=\"round\" style=\"stroke:black;stroke-width:2\" /><line x1=\"-6.167\" y1=\"259.292\" x2=\"-50.722\" y2=\"381.705\" stroke-linecap=\"round\" style=\"stroke:black;stroke-width:2\" /><line x1=\"-50.722\" y1=\"381.705\" x2=\"13.761\" y2=\"270.017\" stroke-linecap=\"round\" style=\"stroke:black;stroke-width:2\" /><line x1=\"13.761\" y1=\"270.017\" x2=\"-68.308\" y2=\"367.823\" stroke-linecap=\"round\" style=\"stroke:black;stroke-width:2\" /><line x1=\"-68.308\" y1=\"367.823\" x2=\"28.52\" y2=\"286.574\" stroke-linecap=\"round\" style=\"stroke:black;stroke-width:2\" /><line x1=\"28.52\" y1=\"286.574\" x2=\"-79.851\" y2=\"349.142\" stroke-linecap=\"round\" style=\"stroke:black;stroke-width:2\" /><line x1=\"-79.851\" y1=\"349.142\" x2=\"36.563\" y2=\"306.771\" stroke-linecap=\"round\" style=\"stroke:black;stroke-width:2\" /><line x1=\"36.563\" y1=\"306.771\" x2=\"-84.22\" y2=\"328.068\" stroke-linecap=\"round\" style=\"stroke:black;stroke-width:2\" /><line x1=\"-84.22\" y1=\"328.068\" x2=\"37.2\" y2=\"328.068\" stroke-linecap=\"round\" style=\"stroke:black;stroke-width:2\" /><line x1=\"37.2\" y1=\"328.068\" x2=\"-81.179\" y2=\"307.195\" stroke-linecap=\"round\" style=\"stroke:black;stroke-width:2\" /><line x1=\"-81.179\" y1=\"307.195\" x2=\"30.648\" y2=\"347.897\" stroke-linecap=\"round\" style=\"stroke:black;stroke-width:2\" /><line x1=\"30.648\" y1=\"347.897\" x2=\"-71.381\" y2=\"288.99\" stroke-linecap=\"round\" style=\"stroke:black;stroke-width:2\" /><line x1=\"-71.381\" y1=\"288.99\" x2=\"17.967\" y2=\"363.962\" stroke-linecap=\"round\" style=\"stroke:black;stroke-width:2\" /><line x1=\"17.967\" y1=\"363.962\" x2=\"-56.255\" y2=\"275.508\" stroke-linecap=\"round\" style=\"stroke:black;stroke-width:2\" /><line x1=\"-56.255\" y1=\"275.508\" x2=\"0.902\" y2=\"374.507\" stroke-linecap=\"round\" style=\"stroke:black;stroke-width:2\" /><line x1=\"0.902\" y1=\"374.507\" x2=\"-37.805\" y2=\"268.161\" stroke-linecap=\"round\" style=\"stroke:black;stroke-width:2\" /><line x1=\"-37.805\" y1=\"268.161\" x2=\"-18.35\" y2=\"378.498\" stroke-linecap=\"round\" style=\"stroke:black;stroke-width:2\" /><line x1=\"-18.35\" y1=\"378.498\" x2=\"-18.35\" y2=\"267.579\" stroke-linecap=\"round\" style=\"stroke:black;stroke-width:2\" /><line x1=\"-18.35\" y1=\"267.579\" x2=\"-37.418\" y2=\"375.72\" stroke-linecap=\"round\" style=\"stroke:black;stroke-width:2\" /><line x1=\"-37.418\" y1=\"375.72\" x2=\"-0.236\" y2=\"273.565\" stroke-linecap=\"round\" style=\"stroke:black;stroke-width:2\" /><line x1=\"-0.236\" y1=\"273.565\" x2=\"-54.048\" y2=\"366.771\" stroke-linecap=\"round\" style=\"stroke:black;stroke-width:2\" /><line x1=\"-54.048\" y1=\"366.771\" x2=\"14.44\" y2=\"285.15\" stroke-linecap=\"round\" style=\"stroke:black;stroke-width:2\" /><line x1=\"14.44\" y1=\"285.15\" x2=\"-66.364\" y2=\"352.953\" stroke-linecap=\"round\" style=\"stroke:black;stroke-width:2\" /><line x1=\"-66.364\" y1=\"352.953\" x2=\"24.073\" y2=\"300.739\" stroke-linecap=\"round\" style=\"stroke:black;stroke-width:2\" /><line x1=\"24.073\" y1=\"300.739\" x2=\"-73.076\" y2=\"336.098\" stroke-linecap=\"round\" style=\"stroke:black;stroke-width:2\" /><line x1=\"-73.076\" y1=\"336.098\" x2=\"27.719\" y2=\"318.325\" stroke-linecap=\"round\" style=\"stroke:black;stroke-width:2\" /><line x1=\"27.719\" y1=\"318.325\" x2=\"-73.607\" y2=\"318.325\" stroke-linecap=\"round\" style=\"stroke:black;stroke-width:2\" /><line x1=\"-73.607\" y1=\"318.325\" x2=\"25.182\" y2=\"335.744\" stroke-linecap=\"round\" style=\"stroke:black;stroke-width:2\" /><line x1=\"25.182\" y1=\"335.744\" x2=\"-68.139\" y2=\"301.778\" stroke-linecap=\"round\" style=\"stroke:black;stroke-width:2\" /><line x1=\"-68.139\" y1=\"301.778\" x2=\"17.006\" y2=\"350.936\" stroke-linecap=\"round\" style=\"stroke:black;stroke-width:2\" /><line x1=\"17.006\" y1=\"350.936\" x2=\"-57.556\" y2=\"288.371\" stroke-linecap=\"round\" style=\"stroke:black;stroke-width:2\" /><line x1=\"-57.556\" y1=\"288.371\" x2=\"4.383\" y2=\"362.187\" stroke-linecap=\"round\" style=\"stroke:black;stroke-width:2\" /><line x1=\"4.383\" y1=\"362.187\" x2=\"-43.315\" y2=\"279.571\" stroke-linecap=\"round\" style=\"stroke:black;stroke-width:2\" /><line x1=\"-43.315\" y1=\"279.571\" x2=\"-11.014\" y2=\"368.318\" stroke-linecap=\"round\" style=\"stroke:black;stroke-width:2\" /><line x1=\"-11.014\" y1=\"368.318\" x2=\"-27.25\" y2=\"276.24\" stroke-linecap=\"round\" style=\"stroke:black;stroke-width:2\" /><line x1=\"-27.25\" y1=\"276.24\" x2=\"-27.25\" y2=\"368.803\" stroke-linecap=\"round\" style=\"stroke:black;stroke-width:2\" /><line x1=\"-27.25\" y1=\"368.803\" x2=\"-11.337\" y2=\"278.557\" stroke-linecap=\"round\" style=\"stroke:black;stroke-width:2\" /><line x1=\"-11.337\" y1=\"278.557\" x2=\"-42.366\" y2=\"363.807\" stroke-linecap=\"round\" style=\"stroke:black;stroke-width:2\" /><line x1=\"-42.366\" y1=\"363.807\" x2=\"2.541\" y2=\"286.026\" stroke-linecap=\"round\" style=\"stroke:black;stroke-width:2\" /><line x1=\"2.541\" y1=\"286.026\" x2=\"-54.613\" y2=\"354.14\" stroke-linecap=\"round\" style=\"stroke:black;stroke-width:2\" /><line x1=\"-54.613\" y1=\"354.14\" x2=\"12.819\" y2=\"297.557\" stroke-linecap=\"round\" style=\"stroke:black;stroke-width:2\" /><line x1=\"12.819\" y1=\"297.557\" x2=\"-62.652\" y2=\"341.13\" stroke-linecap=\"round\" style=\"stroke:black;stroke-width:2\" /><line x1=\"-62.652\" y1=\"341.13\" x2=\"18.42\" y2=\"311.622\" stroke-linecap=\"round\" style=\"stroke:black;stroke-width:2\" /><line x1=\"18.42\" y1=\"311.622\" x2=\"-65.695\" y2=\"326.454\" stroke-linecap=\"round\" style=\"stroke:black;stroke-width:2\" /><line x1=\"-65.695\" y1=\"326.454\" x2=\"18.863\" y2=\"326.454\" stroke-linecap=\"round\" style=\"stroke:black;stroke-width:2\" /><line x1=\"18.863\" y1=\"326.454\" x2=\"-63.578\" y2=\"311.917\" stroke-linecap=\"round\" style=\"stroke:black;stroke-width:2\" /><line x1=\"-63.578\" y1=\"311.917\" x2=\"14.299\" y2=\"340.262\" stroke-linecap=\"round\" style=\"stroke:black;stroke-width:2\" /><line x1=\"14.299\" y1=\"340.262\" x2=\"-56.756\" y2=\"299.239\" stroke-linecap=\"round\" style=\"stroke:black;stroke-width:2\" /><line x1=\"-56.756\" y1=\"299.239\" x2=\"5.467\" y2=\"351.45\" stroke-linecap=\"round\" style=\"stroke:black;stroke-width:2\" /><line x1=\"5.467\" y1=\"351.45\" x2=\"-46.222\" y2=\"289.849\" stroke-linecap=\"round\" style=\"stroke:black;stroke-width:2\" /><line x1=\"-46.222\" y1=\"289.849\" x2=\"-6.417\" y2=\"358.793\" stroke-linecap=\"round\" style=\"stroke:black;stroke-width:2\" /><line x1=\"-6.417\" y1=\"358.793\" x2=\"-33.373\" y2=\"284.732\" stroke-linecap=\"round\" style=\"stroke:black;stroke-width:2\" /><line x1=\"-33.373\" y1=\"284.732\" x2=\"-19.824\" y2=\"361.572\" stroke-linecap=\"round\" style=\"stroke:black;stroke-width:2\" /><line x1=\"-19.824\" y1=\"361.572\" x2=\"-19.824\" y2=\"284.327\" stroke-linecap=\"round\" style=\"stroke:black;stroke-width:2\" /><line x1=\"-19.824\" y1=\"284.327\" x2=\"-33.103\" y2=\"359.638\" stroke-linecap=\"round\" style=\"stroke:black;stroke-width:2\" /><line x1=\"-33.103\" y1=\"359.638\" x2=\"-7.209\" y2=\"288.496\" stroke-linecap=\"round\" style=\"stroke:black;stroke-width:2\" /><line x1=\"-7.209\" y1=\"288.496\" x2=\"-44.685\" y2=\"353.406\" stroke-linecap=\"round\" style=\"stroke:black;stroke-width:2\" /><line x1=\"-44.685\" y1=\"353.406\" x2=\"3.011\" y2=\"296.564\" stroke-linecap=\"round\" style=\"stroke:black;stroke-width:2\" /><line x1=\"3.011\" y1=\"296.564\" x2=\"-53.262\" y2=\"343.783\" stroke-linecap=\"round\" style=\"stroke:black;stroke-width:2\" /><line x1=\"-53.262\" y1=\"343.783\" x2=\"9.72\" y2=\"307.421\" stroke-linecap=\"round\" style=\"stroke:black;stroke-width:2\" /><line x1=\"9.72\" y1=\"307.421\" x2=\"-57.936\" y2=\"332.046\" stroke-linecap=\"round\" style=\"stroke:black;stroke-width:2\" /><line x1=\"-57.936\" y1=\"332.046\" x2=\"12.259\" y2=\"319.669\" stroke-linecap=\"round\" style=\"stroke:black;stroke-width:2\" /><line x1=\"12.259\" y1=\"319.669\" x2=\"-58.306\" y2=\"319.669\" stroke-linecap=\"round\" style=\"stroke:black;stroke-width:2\" /><line x1=\"-58.306\" y1=\"319.669\" x2=\"10.492\" y2=\"331.8\" stroke-linecap=\"round\" style=\"stroke:black;stroke-width:2\" /><line x1=\"10.492\" y1=\"331.8\" x2=\"-54.498\" y2=\"308.146\" stroke-linecap=\"round\" style=\"stroke:black;stroke-width:2\" /><line x1=\"-54.498\" y1=\"308.146\" x2=\"4.798\" y2=\"342.381\" stroke-linecap=\"round\" style=\"stroke:black;stroke-width:2\" /><line x1=\"4.798\" y1=\"342.381\" x2=\"-47.128\" y2=\"298.81\" stroke-linecap=\"round\" style=\"stroke:black;stroke-width:2\" /><line x1=\"-47.128\" y1=\"298.81\" x2=\"-3.993\" y2=\"350.217\" stroke-linecap=\"round\" style=\"stroke:black;stroke-width:2\" /><line x1=\"-3.993\" y1=\"350.217\" x2=\"-37.211\" y2=\"292.682\" stroke-linecap=\"round\" style=\"stroke:black;stroke-width:2\" /><line x1=\"-37.211\" y1=\"292.682\" x2=\"-14.716\" y2=\"354.487\" stroke-linecap=\"round\" style=\"stroke:black;stroke-width:2\" /><line x1=\"-14.716\" y1=\"354.487\" x2=\"-26.023\" y2=\"290.363\" stroke-linecap=\"round\" style=\"stroke:black;stroke-width:2\" /><line x1=\"-26.023\" y1=\"290.363\" x2=\"-26.023\" y2=\"354.825\" stroke-linecap=\"round\" style=\"stroke:black;stroke-width:2\" /><line x1=\"-26.023\" y1=\"354.825\" x2=\"-14.941\" y2=\"291.977\" stroke-linecap=\"round\" style=\"stroke:black;stroke-width:2\" /><line x1=\"-14.941\" y1=\"291.977\" x2=\"-36.55\" y2=\"351.346\" stroke-linecap=\"round\" style=\"stroke:black;stroke-width:2\" /><line x1=\"-36.55\" y1=\"351.346\" x2=\"-5.276\" y2=\"297.178\" stroke-linecap=\"round\" style=\"stroke:black;stroke-width:2\" /><line x1=\"-5.276\" y1=\"297.178\" x2=\"-45.079\" y2=\"344.613\" stroke-linecap=\"round\" style=\"stroke:black;stroke-width:2\" /><line x1=\"-45.079\" y1=\"344.613\" x2=\"1.882\" y2=\"305.208\" stroke-linecap=\"round\" style=\"stroke:black;stroke-width:2\" /><line x1=\"1.882\" y1=\"305.208\" x2=\"-50.677\" y2=\"335.553\" stroke-linecap=\"round\" style=\"stroke:black;stroke-width:2\" /><line x1=\"-50.677\" y1=\"335.553\" x2=\"5.783\" y2=\"315.003\" stroke-linecap=\"round\" style=\"stroke:black;stroke-width:2\" /><line x1=\"5.783\" y1=\"315.003\" x2=\"-52.796\" y2=\"325.332\" stroke-linecap=\"round\" style=\"stroke:black;stroke-width:2\" /><line x1=\"-52.796\" y1=\"325.332\" x2=\"6.091\" y2=\"325.332\" stroke-linecap=\"round\" style=\"stroke:black;stroke-width:2\" /><line x1=\"6.091\" y1=\"325.332\" x2=\"-51.322\" y2=\"315.209\" stroke-linecap=\"round\" style=\"stroke:black;stroke-width:2\" /><line x1=\"-51.322\" y1=\"315.209\" x2=\"2.913\" y2=\"334.949\" stroke-linecap=\"round\" style=\"stroke:black;stroke-width:2\" /><line x1=\"2.913\" y1=\"334.949\" x2=\"-46.57\" y2=\"306.38\" stroke-linecap=\"round\" style=\"stroke:black;stroke-width:2\" /><line x1=\"-46.57\" y1=\"306.38\" x2=\"-3.237\" y2=\"342.741\" stroke-linecap=\"round\" style=\"stroke:black;stroke-width:2\" /><line x1=\"-3.237\" y1=\"342.741\" x2=\"-39.234\" y2=\"299.841\" stroke-linecap=\"round\" style=\"stroke:black;stroke-width:2\" /><line x1=\"-39.234\" y1=\"299.841\" x2=\"-11.513\" y2=\"347.855\" stroke-linecap=\"round\" style=\"stroke:black;stroke-width:2\" /><line x1=\"-11.513\" y1=\"347.855\" x2=\"-30.285\" y2=\"296.278\" stroke-linecap=\"round\" style=\"stroke:black;stroke-width:2\" /><line x1=\"-30.285\" y1=\"296.278\" x2=\"-20.849\" y2=\"349.791\" stroke-linecap=\"round\" style=\"stroke:black;stroke-width:2\" /><line x1=\"-20.849\" y1=\"349.791\" x2=\"-20.849\" y2=\"295.996\" stroke-linecap=\"round\" style=\"stroke:black;stroke-width:2\" /><line x1=\"-20.849\" y1=\"295.996\" x2=\"-30.097\" y2=\"348.444\" stroke-linecap=\"round\" style=\"stroke:black;stroke-width:2\" /><line x1=\"-30.097\" y1=\"348.444\" x2=\"-12.064\" y2=\"298.899\" stroke-linecap=\"round\" style=\"stroke:black;stroke-width:2\" /><line x1=\"-12.064\" y1=\"298.899\" x2=\"-38.162\" y2=\"344.103\" stroke-linecap=\"round\" style=\"stroke:black;stroke-width:2\" /><line x1=\"-38.162\" y1=\"344.103\" x2=\"-4.946\" y2=\"304.518\" stroke-linecap=\"round\" style=\"stroke:black;stroke-width:2\" /><line x1=\"-4.946\" y1=\"304.518\" x2=\"-44.135\" y2=\"337.402\" stroke-linecap=\"round\" style=\"stroke:black;stroke-width:2\" /><line x1=\"-44.135\" y1=\"337.402\" x2=\"-0.274\" y2=\"312.079\" stroke-linecap=\"round\" style=\"stroke:black;stroke-width:2\" /><line x1=\"-0.274\" y1=\"312.079\" x2=\"-47.39\" y2=\"329.228\" stroke-linecap=\"round\" style=\"stroke:black;stroke-width:2\" /><line x1=\"-47.39\" y1=\"329.228\" x2=\"1.495\" y2=\"320.608\" stroke-linecap=\"round\" style=\"stroke:black;stroke-width:2\" /><line x1=\"1.495\" y1=\"320.608\" x2=\"-47.647\" y2=\"320.608\" stroke-linecap=\"round\" style=\"stroke:black;stroke-width:2\" /><line x1=\"-47.647\" y1=\"320.608\" x2=\"0.265\" y2=\"329.056\" stroke-linecap=\"round\" style=\"stroke:black;stroke-width:2\" /><line x1=\"0.265\" y1=\"329.056\" x2=\"-44.995\" y2=\"312.583\" stroke-linecap=\"round\" style=\"stroke:black;stroke-width:2\" /><line x1=\"-44.995\" y1=\"312.583\" x2=\"-3.7\" y2=\"336.424\" stroke-linecap=\"round\" style=\"stroke:black;stroke-width:2\" /><line x1=\"-3.7\" y1=\"336.424\" x2=\"-39.862\" y2=\"306.081\" stroke-linecap=\"round\" style=\"stroke:black;stroke-width:2\" /><line x1=\"-39.862\" y1=\"306.081\" x2=\"-9.822\" y2=\"341.881\" stroke-linecap=\"round\" style=\"stroke:black;stroke-width:2\" /><line x1=\"-9.822\" y1=\"341.881\" x2=\"-32.955\" y2=\"301.813\" stroke-linecap=\"round\" style=\"stroke:black;stroke-width:2\" /><line x1=\"-32.955\" y1=\"301.813\" x2=\"-17.289\" y2=\"344.855\" stroke-linecap=\"round\" style=\"stroke:black;stroke-width:2\" /><line x1=\"-17.289\" y1=\"344.855\" x2=\"-25.163\" y2=\"300.198\" stroke-linecap=\"round\" style=\"stroke:black;stroke-width:2\" /><line x1=\"-25.163\" y1=\"300.198\" x2=\"-25.163\" y2=\"345.09\" stroke-linecap=\"round\" style=\"stroke:black;stroke-width:2\" /><line x1=\"-25.163\" y1=\"345.09\" x2=\"-17.445\" y2=\"301.322\" stroke-linecap=\"round\" style=\"stroke:black;stroke-width:2\" /><line x1=\"-17.445\" y1=\"301.322\" x2=\"-32.494\" y2=\"342.668\" stroke-linecap=\"round\" style=\"stroke:black;stroke-width:2\" /><line x1=\"-32.494\" y1=\"342.668\" x2=\"-10.714\" y2=\"304.945\" stroke-linecap=\"round\" style=\"stroke:black;stroke-width:2\" /><line x1=\"-10.714\" y1=\"304.945\" x2=\"-38.433\" y2=\"337.98\" stroke-linecap=\"round\" style=\"stroke:black;stroke-width:2\" /><line x1=\"-38.433\" y1=\"337.98\" x2=\"-5.729\" y2=\"310.538\" stroke-linecap=\"round\" style=\"stroke:black;stroke-width:2\" /><line x1=\"-5.729\" y1=\"310.538\" x2=\"-42.332\" y2=\"331.671\" stroke-linecap=\"round\" style=\"stroke:black;stroke-width:2\" /><line x1=\"-42.332\" y1=\"331.671\" x2=\"-3.013\" y2=\"317.36\" stroke-linecap=\"round\" style=\"stroke:black;stroke-width:2\" /><line x1=\"-3.013\" y1=\"317.36\" x2=\"-43.808\" y2=\"324.553\" stroke-linecap=\"round\" style=\"stroke:black;stroke-width:2\" /><line x1=\"-43.808\" y1=\"324.553\" x2=\"-2.798\" y2=\"324.553\" stroke-linecap=\"round\" style=\"stroke:black;stroke-width:2\" /><line x1=\"-2.798\" y1=\"324.553\" x2=\"-42.781\" y2=\"317.503\" stroke-linecap=\"round\" style=\"stroke:black;stroke-width:2\" /><line x1=\"-42.781\" y1=\"317.503\" x2=\"-5.011\" y2=\"331.25\" stroke-linecap=\"round\" style=\"stroke:black;stroke-width:2\" /><line x1=\"-5.011\" y1=\"331.25\" x2=\"-39.472\" y2=\"311.354\" stroke-linecap=\"round\" style=\"stroke:black;stroke-width:2\" /><line x1=\"-39.472\" y1=\"311.354\" x2=\"-9.294\" y2=\"336.676\" stroke-linecap=\"round\" style=\"stroke:black;stroke-width:2\" /><line x1=\"-9.294\" y1=\"336.676\" x2=\"-34.363\" y2=\"306.8\" stroke-linecap=\"round\" style=\"stroke:black;stroke-width:2\" /><line x1=\"-34.363\" y1=\"306.8\" x2=\"-15.058\" y2=\"340.237\" stroke-linecap=\"round\" style=\"stroke:black;stroke-width:2\" /><line x1=\"-15.058\" y1=\"340.237\" x2=\"-28.131\" y2=\"304.318\" stroke-linecap=\"round\" style=\"stroke:black;stroke-width:2\" /><line x1=\"-28.131\" y1=\"304.318\" x2=\"-21.56\" y2=\"341.585\" stroke-linecap=\"round\" style=\"stroke:black;stroke-width:2\" /><line x1=\"-21.56\" y1=\"341.585\" x2=\"-21.56\" y2=\"304.122\" stroke-linecap=\"round\" style=\"stroke:black;stroke-width:2\" /><line x1=\"-21.56\" y1=\"304.122\" x2=\"-28.0\" y2=\"340.647\" stroke-linecap=\"round\" style=\"stroke:black;stroke-width:2\" /><line x1=\"-28.0\" y1=\"340.647\" x2=\"-15.442\" y2=\"306.144\" stroke-linecap=\"round\" style=\"stroke:black;stroke-width:2\" /><line x1=\"-15.442\" y1=\"306.144\" x2=\"-33.617\" y2=\"337.625\" stroke-linecap=\"round\" style=\"stroke:black;stroke-width:2\" /><line x1=\"-33.617\" y1=\"337.625\" x2=\"-10.485\" y2=\"310.057\" stroke-linecap=\"round\" style=\"stroke:black;stroke-width:2\" /><line x1=\"-10.485\" y1=\"310.057\" x2=\"-37.777\" y2=\"332.958\" stroke-linecap=\"round\" style=\"stroke:black;stroke-width:2\" /><line x1=\"-37.777\" y1=\"332.958\" x2=\"-7.231\" y2=\"315.323\" stroke-linecap=\"round\" style=\"stroke:black;stroke-width:2\" /><line x1=\"-7.231\" y1=\"315.323\" x2=\"-40.043\" y2=\"327.266\" stroke-linecap=\"round\" style=\"stroke:black;stroke-width:2\" /><line x1=\"-40.043\" y1=\"327.266\" x2=\"-5.999\" y2=\"321.263\" stroke-linecap=\"round\" style=\"stroke:black;stroke-width:2\" /><line x1=\"-5.999\" y1=\"321.263\" x2=\"-40.222\" y2=\"321.263\" stroke-linecap=\"round\" style=\"stroke:black;stroke-width:2\" /><line x1=\"-40.222\" y1=\"321.263\" x2=\"-6.856\" y2=\"327.146\" stroke-linecap=\"round\" style=\"stroke:black;stroke-width:2\" /><line x1=\"-6.856\" y1=\"327.146\" x2=\"-38.376\" y2=\"315.674\" stroke-linecap=\"round\" style=\"stroke:black;stroke-width:2\" /><line x1=\"-38.376\" y1=\"315.674\" x2=\"-9.618\" y2=\"332.277\" stroke-linecap=\"round\" style=\"stroke:black;stroke-width:2\" /><line x1=\"-9.618\" y1=\"332.277\" x2=\"-34.802\" y2=\"311.145\" stroke-linecap=\"round\" style=\"stroke:black;stroke-width:2\" /><line x1=\"-34.802\" y1=\"311.145\" x2=\"-13.882\" y2=\"336.077\" stroke-linecap=\"round\" style=\"stroke:black;stroke-width:2\" /><line x1=\"-13.882\" y1=\"336.077\" x2=\"-29.992\" y2=\"308.173\" stroke-linecap=\"round\" style=\"stroke:black;stroke-width:2\" /><line x1=\"-29.992\" y1=\"308.173\" x2=\"-19.082\" y2=\"338.148\" stroke-linecap=\"round\" style=\"stroke:black;stroke-width:2\" /><line x1=\"-19.082\" y1=\"338.148\" x2=\"-24.566\" y2=\"307.048\" stroke-linecap=\"round\" style=\"stroke:black;stroke-width:2\" /><line x1=\"-24.566\" y1=\"307.048\" x2=\"-24.566\" y2=\"338.312\" stroke-linecap=\"round\" style=\"stroke:black;stroke-width:2\" /><line x1=\"-24.566\" y1=\"338.312\" x2=\"-19.191\" y2=\"307.831\" stroke-linecap=\"round\" style=\"stroke:black;stroke-width:2\" /><line x1=\"-19.191\" y1=\"307.831\" x2=\"-29.671\" y2=\"336.625\" stroke-linecap=\"round\" style=\"stroke:black;stroke-width:2\" /><line x1=\"-29.671\" y1=\"336.625\" x2=\"-14.503\" y2=\"310.354\" stroke-linecap=\"round\" style=\"stroke:black;stroke-width:2\" /><line x1=\"-14.503\" y1=\"310.354\" x2=\"-33.807\" y2=\"333.36\" stroke-linecap=\"round\" style=\"stroke:black;stroke-width:2\" /><line x1=\"-33.807\" y1=\"333.36\" x2=\"-11.031\" y2=\"314.249\" stroke-linecap=\"round\" style=\"stroke:black;stroke-width:2\" /><line x1=\"-11.031\" y1=\"314.249\" x2=\"-36.522\" y2=\"328.966\" stroke-linecap=\"round\" style=\"stroke:black;stroke-width:2\" /><line x1=\"-36.522\" y1=\"328.966\" x2=\"-9.14\" y2=\"319.0\" stroke-linecap=\"round\" style=\"stroke:black;stroke-width:2\" /><line x1=\"-9.14\" y1=\"319.0\" x2=\"-37.55\" y2=\"324.009\" stroke-linecap=\"round\" style=\"stroke:black;stroke-width:2\" /><line x1=\"-37.55\" y1=\"324.009\" x2=\"-8.99\" y2=\"324.009\" stroke-linecap=\"round\" style=\"stroke:black;stroke-width:2\" /><line x1=\"-8.99\" y1=\"324.009\" x2=\"-36.835\" y2=\"319.099\" stroke-linecap=\"round\" style=\"stroke:black;stroke-width:2\" /><line x1=\"-36.835\" y1=\"319.099\" x2=\"-10.532\" y2=\"328.673\" stroke-linecap=\"round\" style=\"stroke:black;stroke-width:2\" /><line x1=\"-10.532\" y1=\"328.673\" x2=\"-34.531\" y2=\"314.817\" stroke-linecap=\"round\" style=\"stroke:black;stroke-width:2\" /><line x1=\"-34.531\" y1=\"314.817\" x2=\"-13.515\" y2=\"332.452\" stroke-linecap=\"round\" style=\"stroke:black;stroke-width:2\" /><line x1=\"-13.515\" y1=\"332.452\" x2=\"-30.973\" y2=\"311.646\" stroke-linecap=\"round\" style=\"stroke:black;stroke-width:2\" /><line x1=\"-30.973\" y1=\"311.646\" x2=\"-17.529\" y2=\"334.932\" stroke-linecap=\"round\" style=\"stroke:black;stroke-width:2\" /><line x1=\"-17.529\" y1=\"334.932\" x2=\"-26.633\" y2=\"309.918\" stroke-linecap=\"round\" style=\"stroke:black;stroke-width:2\" /><line x1=\"-26.633\" y1=\"309.918\" x2=\"-22.057\" y2=\"335.871\" stroke-linecap=\"round\" style=\"stroke:black;stroke-width:2\" /><line x1=\"-22.057\" y1=\"335.871\" x2=\"-22.057\" y2=\"309.781\" stroke-linecap=\"round\" style=\"stroke:black;stroke-width:2\" /><line x1=\"-22.057\" y1=\"309.781\" x2=\"-26.542\" y2=\"335.218\" stroke-linecap=\"round\" style=\"stroke:black;stroke-width:2\" /><line x1=\"-26.542\" y1=\"335.218\" x2=\"-17.796\" y2=\"311.189\" stroke-linecap=\"round\" style=\"stroke:black;stroke-width:2\" /><line x1=\"-17.796\" y1=\"311.189\" x2=\"-30.454\" y2=\"333.112\" stroke-linecap=\"round\" style=\"stroke:black;stroke-width:2\" /><line x1=\"-30.454\" y1=\"333.112\" x2=\"-14.345\" y2=\"313.913\" stroke-linecap=\"round\" style=\"stroke:black;stroke-width:2\" /><line x1=\"-14.345\" y1=\"313.913\" x2=\"-33.352\" y2=\"329.861\" stroke-linecap=\"round\" style=\"stroke:black;stroke-width:2\" /><line x1=\"-33.352\" y1=\"329.861\" x2=\"-12.08\" y2=\"317.579\" stroke-linecap=\"round\" style=\"stroke:black;stroke-width:2\" /><line x1=\"-12.08\" y1=\"317.579\" x2=\"-34.931\" y2=\"325.896\" stroke-linecap=\"round\" style=\"stroke:black;stroke-width:2\" /><line x1=\"-34.931\" y1=\"325.896\" x2=\"-11.222\" y2=\"321.716\" stroke-linecap=\"round\" style=\"stroke:black;stroke-width:2\" /><line x1=\"-11.222\" y1=\"321.716\" x2=\"-35.056\" y2=\"321.716\" stroke-linecap=\"round\" style=\"stroke:black;stroke-width:2\" /><line x1=\"-35.056\" y1=\"321.716\" x2=\"-11.819\" y2=\"325.813\" stroke-linecap=\"round\" style=\"stroke:black;stroke-width:2\" /><line x1=\"-11.819\" y1=\"325.813\" x2=\"-33.77\" y2=\"317.824\" stroke-linecap=\"round\" style=\"stroke:black;stroke-width:2\" /><line x1=\"-33.77\" y1=\"317.824\" x2=\"-13.743\" y2=\"329.387\" stroke-linecap=\"round\" style=\"stroke:black;stroke-width:2\" /><line x1=\"-13.743\" y1=\"329.387\" x2=\"-31.281\" y2=\"314.671\" stroke-linecap=\"round\" style=\"stroke:black;stroke-width:2\" /><line x1=\"-31.281\" y1=\"314.671\" x2=\"-16.712\" y2=\"332.034\" stroke-linecap=\"round\" style=\"stroke:black;stroke-width:2\" /><line x1=\"-16.712\" y1=\"332.034\" x2=\"-27.931\" y2=\"312.601\" stroke-linecap=\"round\" style=\"stroke:black;stroke-width:2\" /><line x1=\"-27.931\" y1=\"312.601\" x2=\"-20.333\" y2=\"333.476\" stroke-linecap=\"round\" style=\"stroke:black;stroke-width:2\" /><line x1=\"-20.333\" y1=\"333.476\" x2=\"-24.152\" y2=\"311.818\" stroke-linecap=\"round\" style=\"stroke:black;stroke-width:2\" /><line x1=\"-24.152\" y1=\"311.818\" x2=\"-24.152\" y2=\"333.59\" stroke-linecap=\"round\" style=\"stroke:black;stroke-width:2\" /><line x1=\"-24.152\" y1=\"333.59\" x2=\"-20.409\" y2=\"312.363\" stroke-linecap=\"round\" style=\"stroke:black;stroke-width:2\" /><line x1=\"-20.409\" y1=\"312.363\" x2=\"-27.707\" y2=\"332.415\" stroke-linecap=\"round\" style=\"stroke:black;stroke-width:2\" /><line x1=\"-27.707\" y1=\"332.415\" x2=\"-17.144\" y2=\"314.12\" stroke-linecap=\"round\" style=\"stroke:black;stroke-width:2\" /><line x1=\"-17.144\" y1=\"314.12\" x2=\"-30.588\" y2=\"330.141\" stroke-linecap=\"round\" style=\"stroke:black;stroke-width:2\" /><line x1=\"-30.588\" y1=\"330.141\" x2=\"-14.727\" y2=\"316.832\" stroke-linecap=\"round\" style=\"stroke:black;stroke-width:2\" /><line x1=\"-14.727\" y1=\"316.832\" x2=\"-32.479\" y2=\"327.081\" stroke-linecap=\"round\" style=\"stroke:black;stroke-width:2\" /><line x1=\"-32.479\" y1=\"327.081\" x2=\"-13.41\" y2=\"320.14\" stroke-linecap=\"round\" style=\"stroke:black;stroke-width:2\" /><line x1=\"-13.41\" y1=\"320.14\" x2=\"-33.195\" y2=\"323.629\" stroke-linecap=\"round\" style=\"stroke:black;stroke-width:2\" /><line x1=\"-33.195\" y1=\"323.629\" x2=\"-13.306\" y2=\"323.629\" stroke-linecap=\"round\" style=\"stroke:black;stroke-width:2\" /><line x1=\"-13.306\" y1=\"323.629\" x2=\"-32.697\" y2=\"320.21\" stroke-linecap=\"round\" style=\"stroke:black;stroke-width:2\" /><line x1=\"-32.697\" y1=\"320.21\" x2=\"-14.379\" y2=\"326.877\" stroke-linecap=\"round\" style=\"stroke:black;stroke-width:2\" /><line x1=\"-14.379\" y1=\"326.877\" x2=\"-31.092\" y2=\"317.228\" stroke-linecap=\"round\" style=\"stroke:black;stroke-width:2\" /><line x1=\"-31.092\" y1=\"317.228\" x2=\"-16.456\" y2=\"329.509\" stroke-linecap=\"round\" style=\"stroke:black;stroke-width:2\" /><line x1=\"-16.456\" y1=\"329.509\" x2=\"-28.614\" y2=\"315.019\" stroke-linecap=\"round\" style=\"stroke:black;stroke-width:2\" /><line x1=\"-28.614\" y1=\"315.019\" x2=\"-19.251\" y2=\"331.236\" stroke-linecap=\"round\" style=\"stroke:black;stroke-width:2\" /><line x1=\"-19.251\" y1=\"331.236\" x2=\"-25.591\" y2=\"313.816\" stroke-linecap=\"round\" style=\"stroke:black;stroke-width:2\" /><line x1=\"-25.591\" y1=\"313.816\" x2=\"-22.404\" y2=\"331.89\" stroke-linecap=\"round\" style=\"stroke:black;stroke-width:2\" /><line x1=\"-22.404\" y1=\"331.89\" x2=\"-22.404\" y2=\"313.721\" stroke-linecap=\"round\" style=\"stroke:black;stroke-width:2\" /><line x1=\"-22.404\" y1=\"313.721\" x2=\"-25.528\" y2=\"331.435\" stroke-linecap=\"round\" style=\"stroke:black;stroke-width:2\" /><line x1=\"-25.528\" y1=\"331.435\" x2=\"-19.437\" y2=\"314.701\" stroke-linecap=\"round\" style=\"stroke:black;stroke-width:2\" /><line x1=\"-19.437\" y1=\"314.701\" x2=\"-28.252\" y2=\"329.969\" stroke-linecap=\"round\" style=\"stroke:black;stroke-width:2\" /><line x1=\"-28.252\" y1=\"329.969\" x2=\"-17.033\" y2=\"316.599\" stroke-linecap=\"round\" style=\"stroke:black;stroke-width:2\" /><line x1=\"-17.033\" y1=\"316.599\" x2=\"-30.269\" y2=\"327.706\" stroke-linecap=\"round\" style=\"stroke:black;stroke-width:2\" /><line x1=\"-30.269\" y1=\"327.706\" x2=\"-15.455\" y2=\"319.153\" stroke-linecap=\"round\" style=\"stroke:black;stroke-width:2\" /><line x1=\"-15.455\" y1=\"319.153\" x2=\"-31.369\" y2=\"324.945\" stroke-linecap=\"round\" style=\"stroke:black;stroke-width:2\" /><line x1=\"-31.369\" y1=\"324.945\" x2=\"-14.858\" y2=\"322.034\" stroke-linecap=\"round\" style=\"stroke:black;stroke-width:2\" /><line x1=\"-14.858\" y1=\"322.034\" x2=\"-31.456\" y2=\"322.034\" stroke-linecap=\"round\" style=\"stroke:black;stroke-width:2\" /><line x1=\"-31.456\" y1=\"322.034\" x2=\"-15.274\" y2=\"324.887\" stroke-linecap=\"round\" style=\"stroke:black;stroke-width:2\" /><line x1=\"-15.274\" y1=\"324.887\" x2=\"-30.561\" y2=\"319.323\" stroke-linecap=\"round\" style=\"stroke:black;stroke-width:2\" /><line x1=\"-30.561\" y1=\"319.323\" x2=\"-16.614\" y2=\"327.376\" stroke-linecap=\"round\" style=\"stroke:black;stroke-width:2\" /><line x1=\"-16.614\" y1=\"327.376\" x2=\"-28.828\" y2=\"317.127\" stroke-linecap=\"round\" style=\"stroke:black;stroke-width:2\" /><line x1=\"-28.828\" y1=\"317.127\" x2=\"-18.682\" y2=\"329.219\" stroke-linecap=\"round\" style=\"stroke:black;stroke-width:2\" /><line x1=\"-18.682\" y1=\"329.219\" x2=\"-26.495\" y2=\"315.686\" stroke-linecap=\"round\" style=\"stroke:black;stroke-width:2\" /><line x1=\"-26.495\" y1=\"315.686\" x2=\"-21.204\" y2=\"330.223\" stroke-linecap=\"round\" style=\"stroke:black;stroke-width:2\" /><line x1=\"-21.204\" y1=\"330.223\" x2=\"-23.864\" y2=\"315.14\" stroke-linecap=\"round\" style=\"stroke:black;stroke-width:2\" /><line x1=\"-23.864\" y1=\"315.14\" x2=\"-23.864\" y2=\"330.303\" stroke-linecap=\"round\" style=\"stroke:black;stroke-width:2\" /><line x1=\"-23.864\" y1=\"330.303\" x2=\"-21.257\" y2=\"315.52\" stroke-linecap=\"round\" style=\"stroke:black;stroke-width:2\" /><line x1=\"-21.257\" y1=\"315.52\" x2=\"-26.34\" y2=\"329.485\" stroke-linecap=\"round\" style=\"stroke:black;stroke-width:2\" /><line x1=\"-26.34\" y1=\"329.485\" x2=\"-18.984\" y2=\"316.744\" stroke-linecap=\"round\" style=\"stroke:black;stroke-width:2\" /><line x1=\"-18.984\" y1=\"316.744\" x2=\"-28.346\" y2=\"327.902\" stroke-linecap=\"round\" style=\"stroke:black;stroke-width:2\" /><line x1=\"-28.346\" y1=\"327.902\" x2=\"-17.3\" y2=\"318.633\" stroke-linecap=\"round\" style=\"stroke:black;stroke-width:2\" /><line x1=\"-17.3\" y1=\"318.633\" x2=\"-29.663\" y2=\"325.771\" stroke-linecap=\"round\" style=\"stroke:black;stroke-width:2\" /><line x1=\"-29.663\" y1=\"325.771\" x2=\"-16.383\" y2=\"320.937\" stroke-linecap=\"round\" style=\"stroke:black;stroke-width:2\" /><line x1=\"-16.383\" y1=\"320.937\" x2=\"-30.162\" y2=\"323.367\" stroke-linecap=\"round\" style=\"stroke:black;stroke-width:2\" /><line x1=\"-30.162\" y1=\"323.367\" x2=\"-16.311\" y2=\"323.367\" stroke-linecap=\"round\" style=\"stroke:black;stroke-width:2\" /><line x1=\"-16.311\" y1=\"323.367\" x2=\"-29.815\" y2=\"320.986\" stroke-linecap=\"round\" style=\"stroke:black;stroke-width:2\" /><line x1=\"-29.815\" y1=\"320.986\" x2=\"-17.058\" y2=\"325.629\" stroke-linecap=\"round\" style=\"stroke:black;stroke-width:2\" /><line x1=\"-17.058\" y1=\"325.629\" x2=\"-28.697\" y2=\"318.909\" stroke-linecap=\"round\" style=\"stroke:black;stroke-width:2\" /><line x1=\"-28.697\" y1=\"318.909\" x2=\"-18.504\" y2=\"327.462\" stroke-linecap=\"round\" style=\"stroke:black;stroke-width:2\" /><line x1=\"-18.504\" y1=\"327.462\" x2=\"-26.971\" y2=\"317.371\" stroke-linecap=\"round\" style=\"stroke:black;stroke-width:2\" /><line x1=\"-26.971\" y1=\"317.371\" x2=\"-20.451\" y2=\"328.665\" stroke-linecap=\"round\" style=\"stroke:black;stroke-width:2\" /><line x1=\"-20.451\" y1=\"328.665\" x2=\"-24.867\" y2=\"316.533\" stroke-linecap=\"round\" style=\"stroke:black;stroke-width:2\" /><line x1=\"-24.867\" y1=\"316.533\" x2=\"-22.648\" y2=\"329.12\" stroke-linecap=\"round\" style=\"stroke:black;stroke-width:2\" /><line x1=\"-22.648\" y1=\"329.12\" x2=\"-22.648\" y2=\"316.467\" stroke-linecap=\"round\" style=\"stroke:black;stroke-width:2\" /><line x1=\"-22.648\" y1=\"316.467\" x2=\"-24.823\" y2=\"328.804\" stroke-linecap=\"round\" style=\"stroke:black;stroke-width:2\" /><line x1=\"-24.823\" y1=\"328.804\" x2=\"-20.581\" y2=\"317.15\" stroke-linecap=\"round\" style=\"stroke:black;stroke-width:2\" /><line x1=\"-20.581\" y1=\"317.15\" x2=\"-26.72\" y2=\"327.783\" stroke-linecap=\"round\" style=\"stroke:black;stroke-width:2\" /><line x1=\"-26.72\" y1=\"327.783\" x2=\"-18.907\" y2=\"318.472\" stroke-linecap=\"round\" style=\"stroke:black;stroke-width:2\" /><line x1=\"-18.907\" y1=\"318.472\" x2=\"-28.125\" y2=\"326.207\" stroke-linecap=\"round\" style=\"stroke:black;stroke-width:2\" /><line x1=\"-28.125\" y1=\"326.207\" x2=\"-17.808\" y2=\"320.251\" stroke-linecap=\"round\" style=\"stroke:black;stroke-width:2\" /><line x1=\"-17.808\" y1=\"320.251\" x2=\"-28.891\" y2=\"324.285\" stroke-linecap=\"round\" style=\"stroke:black;stroke-width:2\" /><line x1=\"-28.891\" y1=\"324.285\" x2=\"-17.393\" y2=\"322.258\" stroke-linecap=\"round\" style=\"stroke:black;stroke-width:2\" /><line x1=\"-17.393\" y1=\"322.258\" x2=\"-28.952\" y2=\"322.258\" stroke-linecap=\"round\" style=\"stroke:black;stroke-width:2\" /><line x1=\"-28.952\" y1=\"322.258\" x2=\"-17.682\" y2=\"324.245\" stroke-linecap=\"round\" style=\"stroke:black;stroke-width:2\" /><line x1=\"-17.682\" y1=\"324.245\" x2=\"-28.328\" y2=\"320.37\" stroke-linecap=\"round\" style=\"stroke:black;stroke-width:2\" /><line x1=\"-28.328\" y1=\"320.37\" x2=\"-18.615\" y2=\"325.978\" stroke-linecap=\"round\" style=\"stroke:black;stroke-width:2\" /><line x1=\"-18.615\" y1=\"325.978\" x2=\"-27.121\" y2=\"318.841\" stroke-linecap=\"round\" style=\"stroke:black;stroke-width:2\" /><line x1=\"-27.121\" y1=\"318.841\" x2=\"-20.055\" y2=\"327.262\" stroke-linecap=\"round\" style=\"stroke:black;stroke-width:2\" /><line x1=\"-20.055\" y1=\"327.262\" x2=\"-25.496\" y2=\"317.837\" stroke-linecap=\"round\" style=\"stroke:black;stroke-width:2\" /><line x1=\"-25.496\" y1=\"317.837\" x2=\"-21.811\" y2=\"327.961\" stroke-linecap=\"round\" style=\"stroke:black;stroke-width:2\" /><line x1=\"-21.811\" y1=\"327.961\" x2=\"-23.663\" y2=\"317.457\" stroke-linecap=\"round\" style=\"stroke:black;stroke-width:2\" /><line x1=\"-23.663\" y1=\"317.457\" x2=\"-23.663\" y2=\"328.016\" stroke-linecap=\"round\" style=\"stroke:black;stroke-width:2\" /><line x1=\"-23.663\" y1=\"328.016\" x2=\"-21.848\" y2=\"317.721\" stroke-linecap=\"round\" style=\"stroke:black;stroke-width:2\" /><line x1=\"-21.848\" y1=\"317.721\" x2=\"-25.388\" y2=\"327.446\" stroke-linecap=\"round\" style=\"stroke:black;stroke-width:2\" /><line x1=\"-25.388\" y1=\"327.446\" x2=\"-20.265\" y2=\"318.573\" stroke-linecap=\"round\" style=\"stroke:black;stroke-width:2\" /><line x1=\"-20.265\" y1=\"318.573\" x2=\"-26.785\" y2=\"326.343\" stroke-linecap=\"round\" style=\"stroke:black;stroke-width:2\" /><line x1=\"-26.785\" y1=\"326.343\" x2=\"-19.092\" y2=\"319.888\" stroke-linecap=\"round\" style=\"stroke:black;stroke-width:2\" /><line x1=\"-19.092\" y1=\"319.888\" x2=\"-27.702\" y2=\"324.859\" stroke-linecap=\"round\" style=\"stroke:black;stroke-width:2\" /><line x1=\"-27.702\" y1=\"324.859\" x2=\"-18.453\" y2=\"321.493\" stroke-linecap=\"round\" style=\"stroke:black;stroke-width:2\" /><line x1=\"-18.453\" y1=\"321.493\" x2=\"-28.049\" y2=\"323.185\" stroke-linecap=\"round\" style=\"stroke:black;stroke-width:2\" /><line x1=\"-28.049\" y1=\"323.185\" x2=\"-18.403\" y2=\"323.185\" stroke-linecap=\"round\" style=\"stroke:black;stroke-width:2\" /><line x1=\"-18.403\" y1=\"323.185\" x2=\"-27.808\" y2=\"321.527\" stroke-linecap=\"round\" style=\"stroke:black;stroke-width:2\" /><line x1=\"-27.808\" y1=\"321.527\" x2=\"-18.924\" y2=\"324.761\" stroke-linecap=\"round\" style=\"stroke:black;stroke-width:2\" /><line x1=\"-18.924\" y1=\"324.761\" x2=\"-27.03\" y2=\"320.081\" stroke-linecap=\"round\" style=\"stroke:black;stroke-width:2\" /><line x1=\"-27.03\" y1=\"320.081\" x2=\"-19.932\" y2=\"326.037\" stroke-linecap=\"round\" style=\"stroke:black;stroke-width:2\" /><line x1=\"-19.932\" y1=\"326.037\" x2=\"-25.829\" y2=\"319.01\" stroke-linecap=\"round\" style=\"stroke:black;stroke-width:2\" /><line x1=\"-25.829\" y1=\"319.01\" x2=\"-21.288\" y2=\"326.875\" stroke-linecap=\"round\" style=\"stroke:black;stroke-width:2\" /><line x1=\"-21.288\" y1=\"326.875\" x2=\"-24.363\" y2=\"318.426\" stroke-linecap=\"round\" style=\"stroke:black;stroke-width:2\" /><line x1=\"-24.363\" y1=\"318.426\" x2=\"-22.817\" y2=\"327.192\" stroke-linecap=\"round\" style=\"stroke:black;stroke-width:2\" /><line x1=\"-22.817\" y1=\"327.192\" x2=\"-22.817\" y2=\"318.38\" stroke-linecap=\"round\" style=\"stroke:black;stroke-width:2\" /><line x1=\"-22.817\" y1=\"318.38\" x2=\"-24.332\" y2=\"326.971\" stroke-linecap=\"round\" style=\"stroke:black;stroke-width:2\" /><line x1=\"-24.332\" y1=\"326.971\" x2=\"-21.378\" y2=\"318.855\" stroke-linecap=\"round\" style=\"stroke:black;stroke-width:2\" /><line x1=\"-21.378\" y1=\"318.855\" x2=\"-25.653\" y2=\"326.26\" stroke-linecap=\"round\" style=\"stroke:black;stroke-width:2\" /><line x1=\"-25.653\" y1=\"326.26\" x2=\"-20.212\" y2=\"319.776\" stroke-linecap=\"round\" style=\"stroke:black;stroke-width:2\" /><line x1=\"-20.212\" y1=\"319.776\" x2=\"-26.632\" y2=\"325.163\" stroke-linecap=\"round\" style=\"stroke:black;stroke-width:2\" /><line x1=\"-26.632\" y1=\"325.163\" x2=\"-19.447\" y2=\"321.015\" stroke-linecap=\"round\" style=\"stroke:black;stroke-width:2\" /><line x1=\"-19.447\" y1=\"321.015\" x2=\"-27.165\" y2=\"323.824\" stroke-linecap=\"round\" style=\"stroke:black;stroke-width:2\" /><line x1=\"-27.165\" y1=\"323.824\" x2=\"-19.157\" y2=\"322.412\" stroke-linecap=\"round\" style=\"stroke:black;stroke-width:2\" /><line x1=\"-19.157\" y1=\"322.412\" x2=\"-27.207\" y2=\"322.412\" stroke-linecap=\"round\" style=\"stroke:black;stroke-width:2\" /><line x1=\"-27.207\" y1=\"322.412\" x2=\"-19.359\" y2=\"323.796\" stroke-linecap=\"round\" style=\"stroke:black;stroke-width:2\" /><line x1=\"-19.359\" y1=\"323.796\" x2=\"-26.773\" y2=\"321.098\" stroke-linecap=\"round\" style=\"stroke:black;stroke-width:2\" /><line x1=\"-26.773\" y1=\"321.098\" x2=\"-20.009\" y2=\"325.003\" stroke-linecap=\"round\" style=\"stroke:black;stroke-width:2\" /><line x1=\"-20.009\" y1=\"325.003\" x2=\"-25.933\" y2=\"320.033\" stroke-linecap=\"round\" style=\"stroke:black;stroke-width:2\" /><line x1=\"-25.933\" y1=\"320.033\" x2=\"-21.012\" y2=\"325.897\" stroke-linecap=\"round\" style=\"stroke:black;stroke-width:2\" /><line x1=\"-21.012\" y1=\"325.897\" x2=\"-24.801\" y2=\"319.334\" stroke-linecap=\"round\" style=\"stroke:black;stroke-width:2\" /><line x1=\"-24.801\" y1=\"319.334\" x2=\"-22.235\" y2=\"326.385\" stroke-linecap=\"round\" style=\"stroke:black;stroke-width:2\" /><line x1=\"-22.235\" y1=\"326.385\" x2=\"-23.525\" y2=\"319.07\" stroke-linecap=\"round\" style=\"stroke:black;stroke-width:2\" /><line x1=\"-23.525\" y1=\"319.07\" x2=\"-23.525\" y2=\"326.424\" stroke-linecap=\"round\" style=\"stroke:black;stroke-width:2\" /><line x1=\"-23.525\" y1=\"326.424\" x2=\"-22.261\" y2=\"319.254\" stroke-linecap=\"round\" style=\"stroke:black;stroke-width:2\" /><line x1=\"-22.261\" y1=\"319.254\" x2=\"-24.726\" y2=\"326.027\" stroke-linecap=\"round\" style=\"stroke:black;stroke-width:2\" /><line x1=\"-24.726\" y1=\"326.027\" x2=\"-21.158\" y2=\"319.848\" stroke-linecap=\"round\" style=\"stroke:black;stroke-width:2\" /><line x1=\"-21.158\" y1=\"319.848\" x2=\"-25.699\" y2=\"325.259\" stroke-linecap=\"round\" style=\"stroke:black;stroke-width:2\" /><line x1=\"-25.699\" y1=\"325.259\" x2=\"-20.342\" y2=\"320.764\" stroke-linecap=\"round\" style=\"stroke:black;stroke-width:2\" /><line x1=\"-20.342\" y1=\"320.764\" x2=\"-26.338\" y2=\"324.226\" stroke-linecap=\"round\" style=\"stroke:black;stroke-width:2\" /><line x1=\"-26.338\" y1=\"324.226\" x2=\"-19.897\" y2=\"321.882\" stroke-linecap=\"round\" style=\"stroke:black;stroke-width:2\" /><line x1=\"-19.897\" y1=\"321.882\" x2=\"-26.58\" y2=\"323.06\" stroke-linecap=\"round\" style=\"stroke:black;stroke-width:2\" /><line x1=\"-26.58\" y1=\"323.06\" x2=\"-19.862\" y2=\"323.06\" stroke-linecap=\"round\" style=\"stroke:black;stroke-width:2\" /><line x1=\"-19.862\" y1=\"323.06\" x2=\"-26.412\" y2=\"321.905\" stroke-linecap=\"round\" style=\"stroke:black;stroke-width:2\" /><line x1=\"-26.412\" y1=\"321.905\" x2=\"-20.225\" y2=\"324.157\" stroke-linecap=\"round\" style=\"stroke:black;stroke-width:2\" /><line x1=\"-20.225\" y1=\"324.157\" x2=\"-25.87\" y2=\"320.898\" stroke-linecap=\"round\" style=\"stroke:black;stroke-width:2\" /><line x1=\"-25.87\" y1=\"320.898\" x2=\"-20.927\" y2=\"325.046\" stroke-linecap=\"round\" style=\"stroke:black;stroke-width:2\" /><line x1=\"-20.927\" y1=\"325.046\" x2=\"-25.033\" y2=\"320.152\" stroke-linecap=\"round\" style=\"stroke:black;stroke-width:2\" /><line x1=\"-25.033\" y1=\"320.152\" x2=\"-21.871\" y2=\"325.629\" stroke-linecap=\"round\" style=\"stroke:black;stroke-width:2\" /><line x1=\"-21.871\" y1=\"325.629\" x2=\"-24.013\" y2=\"319.745\" stroke-linecap=\"round\" style=\"stroke:black;stroke-width:2\" /><line x1=\"-24.013\" y1=\"319.745\" x2=\"-22.937\" y2=\"325.85\" stroke-linecap=\"round\" style=\"stroke:black;stroke-width:2\" /><line x1=\"-22.937\" y1=\"325.85\" x2=\"-22.937\" y2=\"319.713\" stroke-linecap=\"round\" style=\"stroke:black;stroke-width:2\" /><line x1=\"-22.937\" y1=\"319.713\" x2=\"-23.992\" y2=\"325.696\" stroke-linecap=\"round\" style=\"stroke:black;stroke-width:2\" /><line x1=\"-23.992\" y1=\"325.696\" x2=\"-21.935\" y2=\"320.044\" stroke-linecap=\"round\" style=\"stroke:black;stroke-width:2\" /><line x1=\"-21.935\" y1=\"320.044\" x2=\"-24.912\" y2=\"325.201\" stroke-linecap=\"round\" style=\"stroke:black;stroke-width:2\" /><line x1=\"-24.912\" y1=\"325.201\" x2=\"-21.123\" y2=\"320.685\" stroke-linecap=\"round\" style=\"stroke:black;stroke-width:2\" /><line x1=\"-21.123\" y1=\"320.685\" x2=\"-25.594\" y2=\"324.436\" stroke-linecap=\"round\" style=\"stroke:black;stroke-width:2\" /><line x1=\"-25.594\" y1=\"324.436\" x2=\"-20.59\" y2=\"321.547\" stroke-linecap=\"round\" style=\"stroke:black;stroke-width:2\" /><line x1=\"-20.59\" y1=\"321.547\" x2=\"-25.965\" y2=\"323.503\" stroke-linecap=\"round\" style=\"stroke:black;stroke-width:2\" /><line x1=\"-25.965\" y1=\"323.503\" x2=\"-20.388\" y2=\"322.52\" stroke-linecap=\"round\" style=\"stroke:black;stroke-width:2\" /><line x1=\"-20.388\" y1=\"322.52\" x2=\"-25.994\" y2=\"322.52\" stroke-linecap=\"round\" style=\"stroke:black;stroke-width:2\" /><line x1=\"-25.994\" y1=\"322.52\" x2=\"-20.528\" y2=\"323.484\" stroke-linecap=\"round\" style=\"stroke:black;stroke-width:2\" /><line x1=\"-20.528\" y1=\"323.484\" x2=\"-25.691\" y2=\"321.605\" stroke-linecap=\"round\" style=\"stroke:black;stroke-width:2\" /><line x1=\"-25.691\" y1=\"321.605\" x2=\"-20.98\" y2=\"324.325\" stroke-linecap=\"round\" style=\"stroke:black;stroke-width:2\" /><line x1=\"-20.98\" y1=\"324.325\" x2=\"-25.105\" y2=\"320.863\" stroke-linecap=\"round\" style=\"stroke:black;stroke-width:2\" /><line x1=\"-25.105\" y1=\"320.863\" x2=\"-21.678\" y2=\"324.947\" stroke-linecap=\"round\" style=\"stroke:black;stroke-width:2\" /><line x1=\"-21.678\" y1=\"324.947\" x2=\"-24.317\" y2=\"320.376\" stroke-linecap=\"round\" style=\"stroke:black;stroke-width:2\" /><line x1=\"-24.317\" y1=\"320.376\" x2=\"-22.53\" y2=\"325.286\" stroke-linecap=\"round\" style=\"stroke:black;stroke-width:2\" /><line x1=\"-22.53\" y1=\"325.286\" x2=\"-23.428\" y2=\"320.192\" stroke-linecap=\"round\" style=\"stroke:black;stroke-width:2\" /><line x1=\"-23.428\" y1=\"320.192\" x2=\"-23.428\" y2=\"325.313\" stroke-linecap=\"round\" style=\"stroke:black;stroke-width:2\" /><line x1=\"-23.428\" y1=\"325.313\" x2=\"-22.548\" y2=\"320.32\" stroke-linecap=\"round\" style=\"stroke:black;stroke-width:2\" /><line x1=\"-22.548\" y1=\"320.32\" x2=\"-24.265\" y2=\"325.037\" stroke-linecap=\"round\" style=\"stroke:black;stroke-width:2\" /><line x1=\"-24.265\" y1=\"325.037\" x2=\"-21.78\" y2=\"320.734\" stroke-linecap=\"round\" style=\"stroke:black;stroke-width:2\" /><line x1=\"-21.78\" y1=\"320.734\" x2=\"-24.942\" y2=\"324.503\" stroke-linecap=\"round\" style=\"stroke:black;stroke-width:2\" /><line x1=\"-24.942\" y1=\"324.503\" x2=\"-21.211\" y2=\"321.372\" stroke-linecap=\"round\" style=\"stroke:black;stroke-width:2\" /><line x1=\"-21.211\" y1=\"321.372\" x2=\"-25.387\" y2=\"323.783\" stroke-linecap=\"round\" style=\"stroke:black;stroke-width:2\" /><line x1=\"-25.387\" y1=\"323.783\" x2=\"-20.902\" y2=\"322.15\" stroke-linecap=\"round\" style=\"stroke:black;stroke-width:2\" /><line x1=\"-20.902\" y1=\"322.15\" x2=\"-25.556\" y2=\"322.971\" stroke-linecap=\"round\" style=\"stroke:black;stroke-width:2\" /><line x1=\"-25.556\" y1=\"322.971\" x2=\"-20.878\" y2=\"322.971\" stroke-linecap=\"round\" style=\"stroke:black;stroke-width:2\" /><line x1=\"-20.878\" y1=\"322.971\" x2=\"-25.439\" y2=\"322.167\" stroke-linecap=\"round\" style=\"stroke:black;stroke-width:2\" /><line x1=\"-25.439\" y1=\"322.167\" x2=\"-21.13\" y2=\"323.735\" stroke-linecap=\"round\" style=\"stroke:black;stroke-width:2\" /><line x1=\"-21.13\" y1=\"323.735\" x2=\"-25.061\" y2=\"321.465\" stroke-linecap=\"round\" style=\"stroke:black;stroke-width:2\" /><line x1=\"-25.061\" y1=\"321.465\" x2=\"-21.618\" y2=\"324.354\" stroke-linecap=\"round\" style=\"stroke:black;stroke-width:2\" /><line x1=\"-21.618\" y1=\"324.354\" x2=\"-24.478\" y2=\"320.946\" stroke-linecap=\"round\" style=\"stroke:black;stroke-width:2\" /><line x1=\"-24.478\" y1=\"320.946\" x2=\"-22.276\" y2=\"324.76\" stroke-linecap=\"round\" style=\"stroke:black;stroke-width:2\" /><line x1=\"-22.276\" y1=\"324.76\" x2=\"-23.767\" y2=\"320.662\" stroke-linecap=\"round\" style=\"stroke:black;stroke-width:2\" /><line x1=\"-23.767\" y1=\"320.662\" x2=\"-23.017\" y2=\"324.913\" stroke-linecap=\"round\" style=\"stroke:black;stroke-width:2\" /><line x1=\"-23.017\" y1=\"324.913\" x2=\"-23.017\" y2=\"320.639\" stroke-linecap=\"round\" style=\"stroke:black;stroke-width:2\" /><line x1=\"-23.017\" y1=\"320.639\" x2=\"-23.752\" y2=\"324.806\" stroke-linecap=\"round\" style=\"stroke:black;stroke-width:2\" /><line x1=\"-23.752\" y1=\"324.806\" x2=\"-22.319\" y2=\"320.87\" stroke-linecap=\"round\" style=\"stroke:black;stroke-width:2\" /><line x1=\"-22.319\" y1=\"320.87\" x2=\"-24.392\" y2=\"324.461\" stroke-linecap=\"round\" style=\"stroke:black;stroke-width:2\" /><line x1=\"-24.392\" y1=\"324.461\" x2=\"-21.753\" y2=\"321.316\" stroke-linecap=\"round\" style=\"stroke:black;stroke-width:2\" /><line x1=\"-21.753\" y1=\"321.316\" x2=\"-24.866\" y2=\"323.928\" stroke-linecap=\"round\" style=\"stroke:black;stroke-width:2\" /><line x1=\"-24.866\" y1=\"323.928\" x2=\"-21.381\" y2=\"321.916\" stroke-linecap=\"round\" style=\"stroke:black;stroke-width:2\" /><line x1=\"-21.381\" y1=\"321.916\" x2=\"-25.124\" y2=\"323.278\" stroke-linecap=\"round\" style=\"stroke:black;stroke-width:2\" /><line x1=\"-25.124\" y1=\"323.278\" x2=\"-21.24\" y2=\"322.593\" stroke-linecap=\"round\" style=\"stroke:black;stroke-width:2\" /><line x1=\"-21.24\" y1=\"322.593\" x2=\"-25.144\" y2=\"322.593\" stroke-linecap=\"round\" style=\"stroke:black;stroke-width:2\" /><line x1=\"-25.144\" y1=\"322.593\" x2=\"-21.338\" y2=\"323.264\" stroke-linecap=\"round\" style=\"stroke:black;stroke-width:2\" /><line x1=\"-21.338\" y1=\"323.264\" x2=\"-24.934\" y2=\"321.955\" stroke-linecap=\"round\" style=\"stroke:black;stroke-width:2\" /><line x1=\"-24.934\" y1=\"321.955\" x2=\"-21.653\" y2=\"323.849\" stroke-linecap=\"round\" style=\"stroke:black;stroke-width:2\" /><line x1=\"-21.653\" y1=\"323.849\" x2=\"-24.526\" y2=\"321.438\" stroke-linecap=\"round\" style=\"stroke:black;stroke-width:2\" /><line x1=\"-24.526\" y1=\"321.438\" x2=\"-22.139\" y2=\"324.282\" stroke-linecap=\"round\" style=\"stroke:black;stroke-width:2\" /><line x1=\"-22.139\" y1=\"324.282\" x2=\"-23.977\" y2=\"321.099\" stroke-linecap=\"round\" style=\"stroke:black;stroke-width:2\" /><line x1=\"-23.977\" y1=\"321.099\" x2=\"-22.732\" y2=\"324.518\" stroke-linecap=\"round\" style=\"stroke:black;stroke-width:2\" /><line x1=\"-22.732\" y1=\"324.518\" x2=\"-23.358\" y2=\"320.97\" stroke-linecap=\"round\" style=\"stroke:black;stroke-width:2\" /><line x1=\"-23.358\" y1=\"320.97\" x2=\"-23.358\" y2=\"324.536\" stroke-linecap=\"round\" style=\"stroke:black;stroke-width:2\" /><line x1=\"-23.358\" y1=\"324.536\" x2=\"-22.745\" y2=\"321.059\" stroke-linecap=\"round\" style=\"stroke:black;stroke-width:2\" /><line x1=\"-22.745\" y1=\"321.059\" x2=\"-23.941\" y2=\"324.344\" stroke-linecap=\"round\" style=\"stroke:black;stroke-width:2\" /><line x1=\"-23.941\" y1=\"324.344\" x2=\"-22.211\" y2=\"321.347\" stroke-linecap=\"round\" style=\"stroke:black;stroke-width:2\" /><line x1=\"-22.211\" y1=\"321.347\" x2=\"-24.413\" y2=\"323.971\" stroke-linecap=\"round\" style=\"stroke:black;stroke-width:2\" /><line x1=\"-24.413\" y1=\"323.971\" x2=\"-21.815\" y2=\"321.791\" stroke-linecap=\"round\" style=\"stroke:black;stroke-width:2\" /><line x1=\"-21.815\" y1=\"321.791\" x2=\"-24.723\" y2=\"323.47\" stroke-linecap=\"round\" style=\"stroke:black;stroke-width:2\" /><line x1=\"-24.723\" y1=\"323.47\" x2=\"-21.599\" y2=\"322.333\" stroke-linecap=\"round\" style=\"stroke:black;stroke-width:2\" /><line x1=\"-21.599\" y1=\"322.333\" x2=\"-24.84\" y2=\"322.904\" stroke-linecap=\"round\" style=\"stroke:black;stroke-width:2\" /><line x1=\"-24.84\" y1=\"322.904\" x2=\"-21.582\" y2=\"322.904\" stroke-linecap=\"round\" style=\"stroke:black;stroke-width:2\" /><line x1=\"-21.582\" y1=\"322.904\" x2=\"-24.758\" y2=\"322.344\" stroke-linecap=\"round\" style=\"stroke:black;stroke-width:2\" /><line x1=\"-24.758\" y1=\"322.344\" x2=\"-21.757\" y2=\"323.436\" stroke-linecap=\"round\" style=\"stroke:black;stroke-width:2\" /><line x1=\"-21.757\" y1=\"323.436\" x2=\"-24.495\" y2=\"321.855\" stroke-linecap=\"round\" style=\"stroke:black;stroke-width:2\" /><line x1=\"-24.495\" y1=\"321.855\" x2=\"-22.098\" y2=\"323.867\" stroke-linecap=\"round\" style=\"stroke:black;stroke-width:2\" /><line x1=\"-22.098\" y1=\"323.867\" x2=\"-24.09\" y2=\"321.494\" stroke-linecap=\"round\" style=\"stroke:black;stroke-width:2\" /><line x1=\"-24.09\" y1=\"321.494\" x2=\"-22.556\" y2=\"324.15\" stroke-linecap=\"round\" style=\"stroke:black;stroke-width:2\" /><line x1=\"-22.556\" y1=\"324.15\" x2=\"-23.595\" y2=\"321.296\" stroke-linecap=\"round\" style=\"stroke:black;stroke-width:2\" /><line x1=\"-23.595\" y1=\"321.296\" x2=\"-23.073\" y2=\"324.257\" stroke-linecap=\"round\" style=\"stroke:black;stroke-width:2\" /><line x1=\"-23.073\" y1=\"324.257\" x2=\"-23.073\" y2=\"321.281\" stroke-linecap=\"round\" style=\"stroke:black;stroke-width:2\" /><line x1=\"-23.073\" y1=\"321.281\" x2=\"-23.585\" y2=\"324.183\" stroke-linecap=\"round\" style=\"stroke:black;stroke-width:2\" /><line x1=\"-23.585\" y1=\"324.183\" x2=\"-22.587\" y2=\"321.442\" stroke-linecap=\"round\" style=\"stroke:black;stroke-width:2\" /><line x1=\"-22.587\" y1=\"321.442\" x2=\"-24.031\" y2=\"323.943\" stroke-linecap=\"round\" style=\"stroke:black;stroke-width:2\" /><line x1=\"-24.031\" y1=\"323.943\" x2=\"-22.193\" y2=\"321.753\" stroke-linecap=\"round\" style=\"stroke:black;stroke-width:2\" /><line x1=\"-22.193\" y1=\"321.753\" x2=\"-24.361\" y2=\"323.572\" stroke-linecap=\"round\" style=\"stroke:black;stroke-width:2\" /><line x1=\"-24.361\" y1=\"323.572\" x2=\"-21.934\" y2=\"322.171\" stroke-linecap=\"round\" style=\"stroke:black;stroke-width:2\" /><line x1=\"-21.934\" y1=\"322.171\" x2=\"-24.541\" y2=\"323.12\" stroke-linecap=\"round\" style=\"stroke:black;stroke-width:2\" /><line x1=\"-24.541\" y1=\"323.12\" x2=\"-21.836\" y2=\"322.643\" stroke-linecap=\"round\" style=\"stroke:black;stroke-width:2\" /><line x1=\"-21.836\" y1=\"322.643\" x2=\"-24.555\" y2=\"322.643\" stroke-linecap=\"round\" style=\"stroke:black;stroke-width:2\" /><line x1=\"-24.555\" y1=\"322.643\" x2=\"-21.904\" y2=\"323.11\" stroke-linecap=\"round\" style=\"stroke:black;stroke-width:2\" /><line x1=\"-21.904\" y1=\"323.11\" x2=\"-24.408\" y2=\"322.199\" stroke-linecap=\"round\" style=\"stroke:black;stroke-width:2\" /><line x1=\"-24.408\" y1=\"322.199\" x2=\"-22.123\" y2=\"323.518\" stroke-linecap=\"round\" style=\"stroke:black;stroke-width:2\" /><line x1=\"-22.123\" y1=\"323.518\" x2=\"-24.124\" y2=\"321.839\" stroke-linecap=\"round\" style=\"stroke:black;stroke-width:2\" /><line x1=\"-24.124\" y1=\"321.839\" x2=\"-22.462\" y2=\"323.82\" stroke-linecap=\"round\" style=\"stroke:black;stroke-width:2\" /><line x1=\"-22.462\" y1=\"323.82\" x2=\"-23.742\" y2=\"321.603\" stroke-linecap=\"round\" style=\"stroke:black;stroke-width:2\" /><line x1=\"-23.742\" y1=\"321.603\" x2=\"-22.875\" y2=\"323.984\" stroke-linecap=\"round\" style=\"stroke:black;stroke-width:2\" /><line x1=\"-22.875\" y1=\"323.984\" x2=\"-23.311\" y2=\"321.513\" stroke-linecap=\"round\" style=\"stroke:black;stroke-width:2\" /><line x1=\"-23.311\" y1=\"321.513\" x2=\"-23.311\" y2=\"323.997\" stroke-linecap=\"round\" style=\"stroke:black;stroke-width:2\" /><line x1=\"-23.311\" y1=\"323.997\" x2=\"-22.884\" y2=\"321.575\" stroke-linecap=\"round\" style=\"stroke:black;stroke-width:2\" /><line x1=\"-22.884\" y1=\"321.575\" x2=\"-23.717\" y2=\"323.863\" stroke-linecap=\"round\" style=\"stroke:black;stroke-width:2\" /><line x1=\"-23.717\" y1=\"323.863\" x2=\"-22.512\" y2=\"321.776\" stroke-linecap=\"round\" style=\"stroke:black;stroke-width:2\" /><line x1=\"-22.512\" y1=\"321.776\" x2=\"-24.046\" y2=\"323.604\" stroke-linecap=\"round\" style=\"stroke:black;stroke-width:2\" /><line x1=\"-24.046\" y1=\"323.604\" x2=\"-22.237\" y2=\"322.086\" stroke-linecap=\"round\" style=\"stroke:black;stroke-width:2\" /><line x1=\"-22.237\" y1=\"322.086\" x2=\"-24.262\" y2=\"323.255\" stroke-linecap=\"round\" style=\"stroke:black;stroke-width:2\" /><line x1=\"-24.262\" y1=\"323.255\" x2=\"-22.087\" y2=\"322.463\" stroke-linecap=\"round\" style=\"stroke:black;stroke-width:2\" /><line x1=\"-22.087\" y1=\"322.463\" x2=\"-24.344\" y2=\"322.861\" stroke-linecap=\"round\" style=\"stroke:black;stroke-width:2\" /><line x1=\"-24.344\" y1=\"322.861\" x2=\"-22.075\" y2=\"322.861\" stroke-linecap=\"round\" style=\"stroke:black;stroke-width:2\" /><line x1=\"-22.075\" y1=\"322.861\" x2=\"-24.287\" y2=\"322.471\" stroke-linecap=\"round\" style=\"stroke:black;stroke-width:2\" /><line x1=\"-24.287\" y1=\"322.471\" x2=\"-22.197\" y2=\"323.232\" stroke-linecap=\"round\" style=\"stroke:black;stroke-width:2\" /><line x1=\"-22.197\" y1=\"323.232\" x2=\"-24.104\" y2=\"322.131\" stroke-linecap=\"round\" style=\"stroke:black;stroke-width:2\" /><line x1=\"-24.104\" y1=\"322.131\" x2=\"-22.434\" y2=\"323.532\" stroke-linecap=\"round\" style=\"stroke:black;stroke-width:2\" /><line x1=\"-22.434\" y1=\"323.532\" x2=\"-23.821\" y2=\"321.879\" stroke-linecap=\"round\" style=\"stroke:black;stroke-width:2\" /><line x1=\"-23.821\" y1=\"321.879\" x2=\"-22.753\" y2=\"323.729\" stroke-linecap=\"round\" style=\"stroke:black;stroke-width:2\" /><line x1=\"-22.753\" y1=\"323.729\" x2=\"-23.476\" y2=\"321.742\" stroke-linecap=\"round\" style=\"stroke:black;stroke-width:2\" /><line x1=\"-23.476\" y1=\"321.742\" x2=\"-23.112\" y2=\"323.804\" stroke-linecap=\"round\" style=\"stroke:black;stroke-width:2\" /><line x1=\"-23.112\" y1=\"323.804\" x2=\"-23.112\" y2=\"321.731\" stroke-linecap=\"round\" style=\"stroke:black;stroke-width:2\" /><line x1=\"-23.112\" y1=\"321.731\" x2=\"-23.468\" y2=\"323.752\" stroke-linecap=\"round\" style=\"stroke:black;stroke-width:2\" /><line x1=\"-23.468\" y1=\"323.752\" x2=\"-22.773\" y2=\"321.843\" stroke-linecap=\"round\" style=\"stroke:black;stroke-width:2\" /><line x1=\"-22.773\" y1=\"321.843\" x2=\"-23.779\" y2=\"323.585\" stroke-linecap=\"round\" style=\"stroke:black;stroke-width:2\" /><line x1=\"-23.779\" y1=\"323.585\" x2=\"-22.499\" y2=\"322.06\" stroke-linecap=\"round\" style=\"stroke:black;stroke-width:2\" /><line x1=\"-22.499\" y1=\"322.06\" x2=\"-24.009\" y2=\"323.327\" stroke-linecap=\"round\" style=\"stroke:black;stroke-width:2\" /><line x1=\"-24.009\" y1=\"323.327\" x2=\"-22.319\" y2=\"322.351\" stroke-linecap=\"round\" style=\"stroke:black;stroke-width:2\" /><line x1=\"-22.319\" y1=\"322.351\" x2=\"-24.134\" y2=\"323.012\" stroke-linecap=\"round\" style=\"stroke:black;stroke-width:2\" /><line x1=\"-24.134\" y1=\"323.012\" x2=\"-22.25\" y2=\"322.68\" stroke-linecap=\"round\" style=\"stroke:black;stroke-width:2\" /><line x1=\"-22.25\" y1=\"322.68\" x2=\"-24.143\" y2=\"322.68\" stroke-linecap=\"round\" style=\"stroke:black;stroke-width:2\" /><line x1=\"-24.143\" y1=\"322.68\" x2=\"-22.297\" y2=\"323.006\" stroke-linecap=\"round\" style=\"stroke:black;stroke-width:2\" /><line x1=\"-22.297\" y1=\"323.006\" x2=\"-24.041\" y2=\"322.371\" stroke-linecap=\"round\" style=\"stroke:black;stroke-width:2\" /><line x1=\"-24.041\" y1=\"322.371\" x2=\"-22.45\" y2=\"323.29\" stroke-linecap=\"round\" style=\"stroke:black;stroke-width:2\" /><line x1=\"-22.45\" y1=\"323.29\" x2=\"-23.843\" y2=\"322.121\" stroke-linecap=\"round\" style=\"stroke:black;stroke-width:2\" /><line x1=\"-23.843\" y1=\"322.121\" x2=\"-22.686\" y2=\"323.5\" stroke-linecap=\"round\" style=\"stroke:black;stroke-width:2\" /><line x1=\"-22.686\" y1=\"323.5\" x2=\"-23.577\" y2=\"321.956\" stroke-linecap=\"round\" style=\"stroke:black;stroke-width:2\" /><line x1=\"-23.577\" y1=\"321.956\" x2=\"-22.973\" y2=\"323.614\" stroke-linecap=\"round\" style=\"stroke:black;stroke-width:2\" /><line x1=\"-22.973\" y1=\"323.614\" x2=\"-23.276\" y2=\"321.893\" stroke-linecap=\"round\" style=\"stroke:black;stroke-width:2\" /><line x1=\"-23.276\" y1=\"321.893\" x2=\"-23.276\" y2=\"323.623\" stroke-linecap=\"round\" style=\"stroke:black;stroke-width:2\" /><line x1=\"-23.276\" y1=\"323.623\" x2=\"-22.979\" y2=\"321.937\" stroke-linecap=\"round\" style=\"stroke:black;stroke-width:2\" /><line x1=\"-22.979\" y1=\"321.937\" x2=\"-23.559\" y2=\"323.53\" stroke-linecap=\"round\" style=\"stroke:black;stroke-width:2\" /><line x1=\"-23.559\" y1=\"323.53\" x2=\"-22.72\" y2=\"322.077\" stroke-linecap=\"round\" style=\"stroke:black;stroke-width:2\" /><line x1=\"-22.72\" y1=\"322.077\" x2=\"-23.788\" y2=\"323.35\" stroke-linecap=\"round\" style=\"stroke:black;stroke-width:2\" /><line x1=\"-23.788\" y1=\"323.35\" x2=\"-22.528\" y2=\"322.293\" stroke-linecap=\"round\" style=\"stroke:black;stroke-width:2\" /><line x1=\"-22.528\" y1=\"322.293\" x2=\"-23.938\" y2=\"323.107\" stroke-linecap=\"round\" style=\"stroke:black;stroke-width:2\" /><line x1=\"-23.938\" y1=\"323.107\" x2=\"-22.423\" y2=\"322.556\" stroke-linecap=\"round\" style=\"stroke:black;stroke-width:2\" /><line x1=\"-22.423\" y1=\"322.556\" x2=\"-23.995\" y2=\"322.833\" stroke-linecap=\"round\" style=\"stroke:black;stroke-width:2\" /><line x1=\"-23.995\" y1=\"322.833\" x2=\"-22.415\" y2=\"322.833\" stroke-linecap=\"round\" style=\"stroke:black;stroke-width:2\" /><line x1=\"-22.415\" y1=\"322.833\" x2=\"-23.956\" y2=\"322.561\" stroke-linecap=\"round\" style=\"stroke:black;stroke-width:2\" /><line x1=\"-23.956\" y1=\"322.561\" x2=\"-22.501\" y2=\"323.091\" stroke-linecap=\"round\" style=\"stroke:black;stroke-width:2\" /><line x1=\"-22.501\" y1=\"323.091\" x2=\"-23.829\" y2=\"322.324\" stroke-linecap=\"round\" style=\"stroke:black;stroke-width:2\" /><line x1=\"-23.829\" y1=\"322.324\" x2=\"-22.666\" y2=\"323.3\" stroke-linecap=\"round\" style=\"stroke:black;stroke-width:2\" /><line x1=\"-22.666\" y1=\"323.3\" x2=\"-23.632\" y2=\"322.149\" stroke-linecap=\"round\" style=\"stroke:black;stroke-width:2\" /><line x1=\"-23.632\" y1=\"322.149\" x2=\"-22.888\" y2=\"323.437\" stroke-linecap=\"round\" style=\"stroke:black;stroke-width:2\" /><line x1=\"-22.888\" y1=\"323.437\" x2=\"-23.392\" y2=\"322.053\" stroke-linecap=\"round\" style=\"stroke:black;stroke-width:2\" /><line x1=\"-23.392\" y1=\"322.053\" x2=\"-23.139\" y2=\"323.489\" stroke-linecap=\"round\" style=\"stroke:black;stroke-width:2\" /><line x1=\"-23.139\" y1=\"323.489\" x2=\"-23.139\" y2=\"322.046\" stroke-linecap=\"round\" style=\"stroke:black;stroke-width:2\" /><line x1=\"-23.139\" y1=\"322.046\" x2=\"-23.387\" y2=\"323.453\" stroke-linecap=\"round\" style=\"stroke:black;stroke-width:2\" /><line x1=\"-23.387\" y1=\"323.453\" x2=\"-22.903\" y2=\"322.124\" stroke-linecap=\"round\" style=\"stroke:black;stroke-width:2\" /><line x1=\"-22.903\" y1=\"322.124\" x2=\"-23.603\" y2=\"323.337\" stroke-linecap=\"round\" style=\"stroke:black;stroke-width:2\" /><line x1=\"-23.603\" y1=\"323.337\" x2=\"-22.712\" y2=\"322.275\" stroke-linecap=\"round\" style=\"stroke:black;stroke-width:2\" /><line x1=\"-22.712\" y1=\"322.275\" x2=\"-23.764\" y2=\"323.157\" stroke-linecap=\"round\" style=\"stroke:black;stroke-width:2\" /><line x1=\"-23.764\" y1=\"323.157\" x2=\"-22.587\" y2=\"322.477\" stroke-linecap=\"round\" style=\"stroke:black;stroke-width:2\" /><line x1=\"-22.587\" y1=\"322.477\" x2=\"-23.851\" y2=\"322.937\" stroke-linecap=\"round\" style=\"stroke:black;stroke-width:2\" /><line x1=\"-23.851\" y1=\"322.937\" x2=\"-22.539\" y2=\"322.706\" stroke-linecap=\"round\" style=\"stroke:black;stroke-width:2\" /><line x1=\"-22.539\" y1=\"322.706\" x2=\"-23.858\" y2=\"322.706\" stroke-linecap=\"round\" style=\"stroke:black;stroke-width:2\" /><line x1=\"-23.858\" y1=\"322.706\" x2=\"-22.572\" y2=\"322.933\" stroke-linecap=\"round\" style=\"stroke:black;stroke-width:2\" /><line x1=\"-22.572\" y1=\"322.933\" x2=\"-23.786\" y2=\"322.491\" stroke-linecap=\"round\" style=\"stroke:black;stroke-width:2\" /><line x1=\"-23.786\" y1=\"322.491\" x2=\"-22.678\" y2=\"323.131\" stroke-linecap=\"round\" style=\"stroke:black;stroke-width:2\" /><line x1=\"-22.678\" y1=\"323.131\" x2=\"-23.648\" y2=\"322.317\" stroke-linecap=\"round\" style=\"stroke:black;stroke-width:2\" /><line x1=\"-23.648\" y1=\"322.317\" x2=\"-22.842\" y2=\"323.278\" stroke-linecap=\"round\" style=\"stroke:black;stroke-width:2\" /><line x1=\"-22.842\" y1=\"323.278\" x2=\"-23.463\" y2=\"322.203\" stroke-linecap=\"round\" style=\"stroke:black;stroke-width:2\" /><line x1=\"-23.463\" y1=\"322.203\" x2=\"-23.043\" y2=\"323.358\" stroke-linecap=\"round\" style=\"stroke:black;stroke-width:2\" /><line x1=\"-23.043\" y1=\"323.358\" x2=\"-23.254\" y2=\"322.16\" stroke-linecap=\"round\" style=\"stroke:black;stroke-width:2\" /><line x1=\"-23.254\" y1=\"322.16\" x2=\"-23.254\" y2=\"323.365\" stroke-linecap=\"round\" style=\"stroke:black;stroke-width:2\" /><line x1=\"-23.254\" y1=\"323.365\" x2=\"-23.047\" y2=\"322.191\" stroke-linecap=\"round\" style=\"stroke:black;stroke-width:2\" /><line x1=\"-23.047\" y1=\"322.191\" x2=\"-23.451\" y2=\"323.3\" stroke-linecap=\"round\" style=\"stroke:black;stroke-width:2\" /><line x1=\"-23.451\" y1=\"323.3\" x2=\"-22.867\" y2=\"322.288\" stroke-linecap=\"round\" style=\"stroke:black;stroke-width:2\" /><line x1=\"-22.867\" y1=\"322.288\" x2=\"-23.611\" y2=\"323.174\" stroke-linecap=\"round\" style=\"stroke:black;stroke-width:2\" /><line x1=\"-23.611\" y1=\"323.174\" x2=\"-22.733\" y2=\"322.438\" stroke-linecap=\"round\" style=\"stroke:black;stroke-width:2\" /><line x1=\"-22.733\" y1=\"322.438\" x2=\"-23.715\" y2=\"323.005\" stroke-linecap=\"round\" style=\"stroke:black;stroke-width:2\" /><line x1=\"-23.715\" y1=\"323.005\" x2=\"-22.66\" y2=\"322.621\" stroke-linecap=\"round\" style=\"stroke:black;stroke-width:2\" /><line x1=\"-22.66\" y1=\"322.621\" x2=\"-23.755\" y2=\"322.814\" stroke-linecap=\"round\" style=\"stroke:black;stroke-width:2\" /><line x1=\"-23.755\" y1=\"322.814\" x2=\"-22.655\" y2=\"322.814\" stroke-linecap=\"round\" style=\"stroke:black;stroke-width:2\" /><line x1=\"-22.655\" y1=\"322.814\" x2=\"-23.728\" y2=\"322.625\" stroke-linecap=\"round\" style=\"stroke:black;stroke-width:2\" /><line x1=\"-23.728\" y1=\"322.625\" x2=\"-22.715\" y2=\"322.994\" stroke-linecap=\"round\" style=\"stroke:black;stroke-width:2\" /><line x1=\"-22.715\" y1=\"322.994\" x2=\"-23.64\" y2=\"322.46\" stroke-linecap=\"round\" style=\"stroke:black;stroke-width:2\" /><line x1=\"-23.64\" y1=\"322.46\" x2=\"-22.83\" y2=\"323.139\" stroke-linecap=\"round\" style=\"stroke:black;stroke-width:2\" /><line x1=\"-22.83\" y1=\"323.139\" x2=\"-23.503\" y2=\"322.337\" stroke-linecap=\"round\" style=\"stroke:black;stroke-width:2\" /><line x1=\"-23.503\" y1=\"322.337\" x2=\"-22.985\" y2=\"323.234\" stroke-linecap=\"round\" style=\"stroke:black;stroke-width:2\" /><line x1=\"-22.985\" y1=\"323.234\" x2=\"-23.336\" y2=\"322.27\" stroke-linecap=\"round\" style=\"stroke:black;stroke-width:2\" /><line x1=\"-23.336\" y1=\"322.27\" x2=\"-23.16\" y2=\"323.27\" stroke-linecap=\"round\" style=\"stroke:black;stroke-width:2\" /><line x1=\"-23.16\" y1=\"323.27\" x2=\"-23.16\" y2=\"322.265\" stroke-linecap=\"round\" style=\"stroke:black;stroke-width:2\" />\n",
              "        \n",
              "        \n",
              "        <g id=\"turtle2\" visibility=\"visible\" transform=\"rotate(180,-23.16,322.265) translate(-23.16, 322.265)\">\n",
              "<polygon points=\"0,16 2,14 1,10 4,7 7,9 9,8 6,5 7,1 5,-3 8,-6 6,-8 4,-5 0,-7 -4,-5 -6,-8 -8,-6 -5,-3 -7,1 -6,5 -9,8 -7,9 -4,7 -1,10 -2,14\" transform=\"skewX(0) scale(1,1)\" style=\"stroke:black;stroke-width:1;fill:black\" />\n",
              "<animateTransform id = \"one\" attributeName=\"transform\" \n",
              "                      type=\"scale\"\n",
              "                      from=\"1 1\" to=\"1 1\"\n",
              "                      begin=\"0s\" dur=\"0.01s\"\n",
              "                      repeatCount=\"1\"\n",
              "                      additive=\"sum\"\n",
              "                      fill=\"freeze\"\n",
              "                /><animateTransform attributeName=\"transform\"\n",
              "                    type=\"rotate\"\n",
              "                    from=\"0 0 0\" to =\"-170 0 0\"\n",
              "                    begin=\"one.end\" dur=\"0.1511111111111111s\"\n",
              "                    repeatCount=\"1\"\n",
              "                    additive=\"sum\"\n",
              "                    fill=\"freeze\"\n",
              "                /></g>\n",
              "      </svg>\n",
              "    "
            ]
          },
          "metadata": {}
        }
      ]
    },
    {
      "cell_type": "markdown",
      "source": [
        "### <font color = \"blue\"> **Additional hints/explanation on `spiral`...**\n",
        "\n",
        "It's helpful to take in `spiral`'s self-similarity. Here's an overview and explanation from the slides:\n",
        "\n",
        "\n",
        "<img src = \"https://www.cs.hmc.edu/twiki/pub/CS5/Lab2Turtle/spiralslide.png\" height=\"400px\">\n",
        "\n",
        "\n",
        "\n",
        "The spiral function should use the turtle drawing functions to create a spiral that\n",
        "+ Draws its first segment of length `initialLength`\n",
        "+ then turns `angle` degrees to the left after that segment, then\n",
        "+ calls `spiral` recursively, using `multiplier` to change its first argument - the second and third arguments won't change!\n",
        "\n",
        "**Base cases!**\n",
        "\n",
        "Note that, for your base case, the code checks if the `initialLength` is too big or too small... and then stops.\n",
        "\n",
        "<hr>\n",
        "\n",
        "For fun, you might try these calls.\n",
        "```\n",
        "spiral(100, 90, 0.9)\n",
        "spiral(100, 170, 0.95) # More of a \"star\" than a spiral...\n",
        "spiral(400, 120, 0.8) # A triangular spiral...\n",
        "```\n",
        "\n",
        "Variations welcome!\n",
        "\n",
        "Below is a picture from our version of the call `spiral(300, 170, 0.99)`:\n",
        "\n",
        "<img src = \"https://www.cs.hmc.edu/twiki/pub/CS5Fall2022/Lab2Turtle/spiral_170.png\" height=\"150px\">\n",
        "\n",
        "\n",
        "Create a spiral you like and leave your favorite spiral in the notebook --\n",
        "\n",
        "We look forward to seeing all of the <i>spiraling</i> going on...\n",
        "\n",
        "\n",
        "\n"
      ],
      "metadata": {
        "id": "DQhAcY_KlpAH"
      }
    },
    {
      "cell_type": "markdown",
      "source": [
        " ## <font color = \"blue\"> <b>Turtle Task #3: <i>Recursive Chai</i></b>  </font>\n",
        "\n",
        "The `tri` and `spiral` examples demonstrate what's called <i><u>single-path</u></i> recursion:\n",
        "+ the recursive calls are made a single time, so that\n",
        "+ there is a single, step-by-step path taken.\n",
        "\n",
        "\n",
        "\n",
        "But for us, the <i>spiral</i> into the depths of recursion has only begun!\n",
        "\n",
        "Next up: <i><b>Branching</b></i> recursion!\n"
      ],
      "metadata": {
        "id": "chvTfOrEoheL"
      }
    },
    {
      "cell_type": "markdown",
      "source": [
        "## <font color=\"#f96d7b\"><b>The `chai` function: branching recursion </b> <font size = \"-1\"> [10 points]</font>\n",
        "\n",
        "Now to _branching-recursion_.\n",
        "\n",
        "Branching is when recursion is at its most \"magical.\"\n",
        "\n",
        "As a result, _writing_, branching recursion can feel especially mind-bending!\n",
        "\n",
        "In the end, all of the \"magic's\" tricks are revealed: it's fully understandable. (It does take some getting used to.)\n",
        "\n",
        " Here is a starter code for the `chai` function from class. It's not recursive, yet:"
      ],
      "metadata": {
        "id": "A1pc8iIyo7JP"
      }
    },
    {
      "cell_type": "code",
      "source": [
        "# The chai function\n",
        "\n",
        "import ColabTurtlePlus.Turtle as t\n",
        "\n",
        "t.clearscreen()      # it's good to start every cell with this\n",
        "t.setup(500,500)     # setup the drawing area to be 500 pixels x 500 pixels\n",
        "t.showborder()       # show the border of the drawing area\n",
        "\n",
        "t.bgcolor(\"AliceBlue\")   # adjust to your preferences!\n",
        "t.shape(\"turtle2\")\n",
        "t.speed(10)\n",
        "t.width(2)\n",
        "\n",
        "def chai(size):\n",
        "    \"\"\"Our chai function!\"\"\"\n",
        "    if (size < 5):\n",
        "        return\n",
        "    else:\n",
        "        t.forward(size)\n",
        "        t.left(90)\n",
        "        t.forward(size/2)\n",
        "        t.right(90)\n",
        "\n",
        "        chai(size/2)  # first you'll recurse here\n",
        "\n",
        "        t.right(90)\n",
        "        t.forward(size)\n",
        "        t.left(90)\n",
        "\n",
        "        chai(size/2)  # then you'll recurse here, as well!\n",
        "\n",
        "        t.left(90)\n",
        "        t.forward(size/2)\n",
        "        t.right(90)\n",
        "        t.backward(size)\n",
        "        return\n",
        "\n",
        "#\n",
        "# This runs the chai function:\n",
        "#\n",
        "chai(100)"
      ],
      "metadata": {
        "colab": {
          "base_uri": "https://localhost:8080/",
          "height": 521
        },
        "id": "4i16KGnQDc7o",
        "outputId": "b640777a-6458-4794-a487-1c770f62c345"
      },
      "execution_count": 46,
      "outputs": [
        {
          "output_type": "display_data",
          "data": {
            "text/plain": [
              "<IPython.core.display.HTML object>"
            ],
            "text/html": [
              "\n",
              "      <svg width=\"500\" height=\"500\">  \n",
              "        <rect width=\"100%\" height=\"100%\" style=\"fill:aliceblue;stroke:gray;stroke-width:1\"/>\n",
              "        \n",
              "        \n",
              "        <line x1=\"250.0\" y1=\"250.0\" x2=\"350.0\" y2=\"250.0\" stroke-linecap=\"round\" style=\"stroke:black;stroke-width:2\" /><line x1=\"350.0\" y1=\"250.0\" x2=\"350.0\" y2=\"200.0\" stroke-linecap=\"round\" style=\"stroke:black;stroke-width:2\" /><line x1=\"350.0\" y1=\"200.0\" x2=\"400.0\" y2=\"200.0\" stroke-linecap=\"round\" style=\"stroke:black;stroke-width:2\" /><line x1=\"400.0\" y1=\"200.0\" x2=\"400.0\" y2=\"175.0\" stroke-linecap=\"round\" style=\"stroke:black;stroke-width:2\" /><line x1=\"400.0\" y1=\"175.0\" x2=\"425.0\" y2=\"175.0\" stroke-linecap=\"round\" style=\"stroke:black;stroke-width:2\" /><line x1=\"425.0\" y1=\"175.0\" x2=\"425.0\" y2=\"162.5\" stroke-linecap=\"round\" style=\"stroke:black;stroke-width:2\" /><line x1=\"425.0\" y1=\"162.5\" x2=\"437.5\" y2=\"162.5\" stroke-linecap=\"round\" style=\"stroke:black;stroke-width:2\" /><line x1=\"437.5\" y1=\"162.5\" x2=\"437.5\" y2=\"156.25\" stroke-linecap=\"round\" style=\"stroke:black;stroke-width:2\" /><line x1=\"437.5\" y1=\"156.25\" x2=\"443.75\" y2=\"156.25\" stroke-linecap=\"round\" style=\"stroke:black;stroke-width:2\" /><line x1=\"443.75\" y1=\"156.25\" x2=\"443.75\" y2=\"153.125\" stroke-linecap=\"round\" style=\"stroke:black;stroke-width:2\" /><line x1=\"443.75\" y1=\"153.125\" x2=\"443.75\" y2=\"159.375\" stroke-linecap=\"round\" style=\"stroke:black;stroke-width:2\" /><line x1=\"443.75\" y1=\"159.375\" x2=\"443.75\" y2=\"156.25\" stroke-linecap=\"round\" style=\"stroke:black;stroke-width:2\" /><line x1=\"443.75\" y1=\"156.25\" x2=\"437.5\" y2=\"156.25\" stroke-linecap=\"round\" style=\"stroke:black;stroke-width:2\" /><line x1=\"437.5\" y1=\"156.25\" x2=\"437.5\" y2=\"168.75\" stroke-linecap=\"round\" style=\"stroke:black;stroke-width:2\" /><line x1=\"437.5\" y1=\"168.75\" x2=\"443.75\" y2=\"168.75\" stroke-linecap=\"round\" style=\"stroke:black;stroke-width:2\" /><line x1=\"443.75\" y1=\"168.75\" x2=\"443.75\" y2=\"165.625\" stroke-linecap=\"round\" style=\"stroke:black;stroke-width:2\" /><line x1=\"443.75\" y1=\"165.625\" x2=\"443.75\" y2=\"171.875\" stroke-linecap=\"round\" style=\"stroke:black;stroke-width:2\" /><line x1=\"443.75\" y1=\"171.875\" x2=\"443.75\" y2=\"168.75\" stroke-linecap=\"round\" style=\"stroke:black;stroke-width:2\" /><line x1=\"443.75\" y1=\"168.75\" x2=\"437.5\" y2=\"168.75\" stroke-linecap=\"round\" style=\"stroke:black;stroke-width:2\" /><line x1=\"437.5\" y1=\"168.75\" x2=\"437.5\" y2=\"162.5\" stroke-linecap=\"round\" style=\"stroke:black;stroke-width:2\" /><line x1=\"437.5\" y1=\"162.5\" x2=\"425.0\" y2=\"162.5\" stroke-linecap=\"round\" style=\"stroke:black;stroke-width:2\" /><line x1=\"425.0\" y1=\"162.5\" x2=\"425.0\" y2=\"187.5\" stroke-linecap=\"round\" style=\"stroke:black;stroke-width:2\" /><line x1=\"425.0\" y1=\"187.5\" x2=\"437.5\" y2=\"187.5\" stroke-linecap=\"round\" style=\"stroke:black;stroke-width:2\" /><line x1=\"437.5\" y1=\"187.5\" x2=\"437.5\" y2=\"181.25\" stroke-linecap=\"round\" style=\"stroke:black;stroke-width:2\" /><line x1=\"437.5\" y1=\"181.25\" x2=\"443.75\" y2=\"181.25\" stroke-linecap=\"round\" style=\"stroke:black;stroke-width:2\" /><line x1=\"443.75\" y1=\"181.25\" x2=\"443.75\" y2=\"178.125\" stroke-linecap=\"round\" style=\"stroke:black;stroke-width:2\" /><line x1=\"443.75\" y1=\"178.125\" x2=\"443.75\" y2=\"184.375\" stroke-linecap=\"round\" style=\"stroke:black;stroke-width:2\" /><line x1=\"443.75\" y1=\"184.375\" x2=\"443.75\" y2=\"181.25\" stroke-linecap=\"round\" style=\"stroke:black;stroke-width:2\" /><line x1=\"443.75\" y1=\"181.25\" x2=\"437.5\" y2=\"181.25\" stroke-linecap=\"round\" style=\"stroke:black;stroke-width:2\" /><line x1=\"437.5\" y1=\"181.25\" x2=\"437.5\" y2=\"193.75\" stroke-linecap=\"round\" style=\"stroke:black;stroke-width:2\" /><line x1=\"437.5\" y1=\"193.75\" x2=\"443.75\" y2=\"193.75\" stroke-linecap=\"round\" style=\"stroke:black;stroke-width:2\" /><line x1=\"443.75\" y1=\"193.75\" x2=\"443.75\" y2=\"190.625\" stroke-linecap=\"round\" style=\"stroke:black;stroke-width:2\" /><line x1=\"443.75\" y1=\"190.625\" x2=\"443.75\" y2=\"196.875\" stroke-linecap=\"round\" style=\"stroke:black;stroke-width:2\" /><line x1=\"443.75\" y1=\"196.875\" x2=\"443.75\" y2=\"193.75\" stroke-linecap=\"round\" style=\"stroke:black;stroke-width:2\" /><line x1=\"443.75\" y1=\"193.75\" x2=\"437.5\" y2=\"193.75\" stroke-linecap=\"round\" style=\"stroke:black;stroke-width:2\" /><line x1=\"437.5\" y1=\"193.75\" x2=\"437.5\" y2=\"187.5\" stroke-linecap=\"round\" style=\"stroke:black;stroke-width:2\" /><line x1=\"437.5\" y1=\"187.5\" x2=\"425.0\" y2=\"187.5\" stroke-linecap=\"round\" style=\"stroke:black;stroke-width:2\" /><line x1=\"425.0\" y1=\"187.5\" x2=\"425.0\" y2=\"175.0\" stroke-linecap=\"round\" style=\"stroke:black;stroke-width:2\" /><line x1=\"425.0\" y1=\"175.0\" x2=\"400.0\" y2=\"175.0\" stroke-linecap=\"round\" style=\"stroke:black;stroke-width:2\" /><line x1=\"400.0\" y1=\"175.0\" x2=\"400.0\" y2=\"225.0\" stroke-linecap=\"round\" style=\"stroke:black;stroke-width:2\" /><line x1=\"400.0\" y1=\"225.0\" x2=\"425.0\" y2=\"225.0\" stroke-linecap=\"round\" style=\"stroke:black;stroke-width:2\" /><line x1=\"425.0\" y1=\"225.0\" x2=\"425.0\" y2=\"212.5\" stroke-linecap=\"round\" style=\"stroke:black;stroke-width:2\" /><line x1=\"425.0\" y1=\"212.5\" x2=\"437.5\" y2=\"212.5\" stroke-linecap=\"round\" style=\"stroke:black;stroke-width:2\" /><line x1=\"437.5\" y1=\"212.5\" x2=\"437.5\" y2=\"206.25\" stroke-linecap=\"round\" style=\"stroke:black;stroke-width:2\" /><line x1=\"437.5\" y1=\"206.25\" x2=\"443.75\" y2=\"206.25\" stroke-linecap=\"round\" style=\"stroke:black;stroke-width:2\" /><line x1=\"443.75\" y1=\"206.25\" x2=\"443.75\" y2=\"203.125\" stroke-linecap=\"round\" style=\"stroke:black;stroke-width:2\" /><line x1=\"443.75\" y1=\"203.125\" x2=\"443.75\" y2=\"209.375\" stroke-linecap=\"round\" style=\"stroke:black;stroke-width:2\" /><line x1=\"443.75\" y1=\"209.375\" x2=\"443.75\" y2=\"206.25\" stroke-linecap=\"round\" style=\"stroke:black;stroke-width:2\" /><line x1=\"443.75\" y1=\"206.25\" x2=\"437.5\" y2=\"206.25\" stroke-linecap=\"round\" style=\"stroke:black;stroke-width:2\" /><line x1=\"437.5\" y1=\"206.25\" x2=\"437.5\" y2=\"218.75\" stroke-linecap=\"round\" style=\"stroke:black;stroke-width:2\" /><line x1=\"437.5\" y1=\"218.75\" x2=\"443.75\" y2=\"218.75\" stroke-linecap=\"round\" style=\"stroke:black;stroke-width:2\" /><line x1=\"443.75\" y1=\"218.75\" x2=\"443.75\" y2=\"215.625\" stroke-linecap=\"round\" style=\"stroke:black;stroke-width:2\" /><line x1=\"443.75\" y1=\"215.625\" x2=\"443.75\" y2=\"221.875\" stroke-linecap=\"round\" style=\"stroke:black;stroke-width:2\" /><line x1=\"443.75\" y1=\"221.875\" x2=\"443.75\" y2=\"218.75\" stroke-linecap=\"round\" style=\"stroke:black;stroke-width:2\" /><line x1=\"443.75\" y1=\"218.75\" x2=\"437.5\" y2=\"218.75\" stroke-linecap=\"round\" style=\"stroke:black;stroke-width:2\" /><line x1=\"437.5\" y1=\"218.75\" x2=\"437.5\" y2=\"212.5\" stroke-linecap=\"round\" style=\"stroke:black;stroke-width:2\" /><line x1=\"437.5\" y1=\"212.5\" x2=\"425.0\" y2=\"212.5\" stroke-linecap=\"round\" style=\"stroke:black;stroke-width:2\" /><line x1=\"425.0\" y1=\"212.5\" x2=\"425.0\" y2=\"237.5\" stroke-linecap=\"round\" style=\"stroke:black;stroke-width:2\" /><line x1=\"425.0\" y1=\"237.5\" x2=\"437.5\" y2=\"237.5\" stroke-linecap=\"round\" style=\"stroke:black;stroke-width:2\" /><line x1=\"437.5\" y1=\"237.5\" x2=\"437.5\" y2=\"231.25\" stroke-linecap=\"round\" style=\"stroke:black;stroke-width:2\" /><line x1=\"437.5\" y1=\"231.25\" x2=\"443.75\" y2=\"231.25\" stroke-linecap=\"round\" style=\"stroke:black;stroke-width:2\" /><line x1=\"443.75\" y1=\"231.25\" x2=\"443.75\" y2=\"228.125\" stroke-linecap=\"round\" style=\"stroke:black;stroke-width:2\" /><line x1=\"443.75\" y1=\"228.125\" x2=\"443.75\" y2=\"234.375\" stroke-linecap=\"round\" style=\"stroke:black;stroke-width:2\" /><line x1=\"443.75\" y1=\"234.375\" x2=\"443.75\" y2=\"231.25\" stroke-linecap=\"round\" style=\"stroke:black;stroke-width:2\" /><line x1=\"443.75\" y1=\"231.25\" x2=\"437.5\" y2=\"231.25\" stroke-linecap=\"round\" style=\"stroke:black;stroke-width:2\" /><line x1=\"437.5\" y1=\"231.25\" x2=\"437.5\" y2=\"243.75\" stroke-linecap=\"round\" style=\"stroke:black;stroke-width:2\" /><line x1=\"437.5\" y1=\"243.75\" x2=\"443.75\" y2=\"243.75\" stroke-linecap=\"round\" style=\"stroke:black;stroke-width:2\" /><line x1=\"443.75\" y1=\"243.75\" x2=\"443.75\" y2=\"240.625\" stroke-linecap=\"round\" style=\"stroke:black;stroke-width:2\" /><line x1=\"443.75\" y1=\"240.625\" x2=\"443.75\" y2=\"246.875\" stroke-linecap=\"round\" style=\"stroke:black;stroke-width:2\" /><line x1=\"443.75\" y1=\"246.875\" x2=\"443.75\" y2=\"243.75\" stroke-linecap=\"round\" style=\"stroke:black;stroke-width:2\" /><line x1=\"443.75\" y1=\"243.75\" x2=\"437.5\" y2=\"243.75\" stroke-linecap=\"round\" style=\"stroke:black;stroke-width:2\" /><line x1=\"437.5\" y1=\"243.75\" x2=\"437.5\" y2=\"237.5\" stroke-linecap=\"round\" style=\"stroke:black;stroke-width:2\" /><line x1=\"437.5\" y1=\"237.5\" x2=\"425.0\" y2=\"237.5\" stroke-linecap=\"round\" style=\"stroke:black;stroke-width:2\" /><line x1=\"425.0\" y1=\"237.5\" x2=\"425.0\" y2=\"225.0\" stroke-linecap=\"round\" style=\"stroke:black;stroke-width:2\" /><line x1=\"425.0\" y1=\"225.0\" x2=\"400.0\" y2=\"225.0\" stroke-linecap=\"round\" style=\"stroke:black;stroke-width:2\" /><line x1=\"400.0\" y1=\"225.0\" x2=\"400.0\" y2=\"200.0\" stroke-linecap=\"round\" style=\"stroke:black;stroke-width:2\" /><line x1=\"400.0\" y1=\"200.0\" x2=\"350.0\" y2=\"200.0\" stroke-linecap=\"round\" style=\"stroke:black;stroke-width:2\" /><line x1=\"350.0\" y1=\"200.0\" x2=\"350.0\" y2=\"300.0\" stroke-linecap=\"round\" style=\"stroke:black;stroke-width:2\" /><line x1=\"350.0\" y1=\"300.0\" x2=\"400.0\" y2=\"300.0\" stroke-linecap=\"round\" style=\"stroke:black;stroke-width:2\" /><line x1=\"400.0\" y1=\"300.0\" x2=\"400.0\" y2=\"275.0\" stroke-linecap=\"round\" style=\"stroke:black;stroke-width:2\" /><line x1=\"400.0\" y1=\"275.0\" x2=\"425.0\" y2=\"275.0\" stroke-linecap=\"round\" style=\"stroke:black;stroke-width:2\" /><line x1=\"425.0\" y1=\"275.0\" x2=\"425.0\" y2=\"262.5\" stroke-linecap=\"round\" style=\"stroke:black;stroke-width:2\" /><line x1=\"425.0\" y1=\"262.5\" x2=\"437.5\" y2=\"262.5\" stroke-linecap=\"round\" style=\"stroke:black;stroke-width:2\" /><line x1=\"437.5\" y1=\"262.5\" x2=\"437.5\" y2=\"256.25\" stroke-linecap=\"round\" style=\"stroke:black;stroke-width:2\" /><line x1=\"437.5\" y1=\"256.25\" x2=\"443.75\" y2=\"256.25\" stroke-linecap=\"round\" style=\"stroke:black;stroke-width:2\" /><line x1=\"443.75\" y1=\"256.25\" x2=\"443.75\" y2=\"253.125\" stroke-linecap=\"round\" style=\"stroke:black;stroke-width:2\" /><line x1=\"443.75\" y1=\"253.125\" x2=\"443.75\" y2=\"259.375\" stroke-linecap=\"round\" style=\"stroke:black;stroke-width:2\" /><line x1=\"443.75\" y1=\"259.375\" x2=\"443.75\" y2=\"256.25\" stroke-linecap=\"round\" style=\"stroke:black;stroke-width:2\" /><line x1=\"443.75\" y1=\"256.25\" x2=\"437.5\" y2=\"256.25\" stroke-linecap=\"round\" style=\"stroke:black;stroke-width:2\" /><line x1=\"437.5\" y1=\"256.25\" x2=\"437.5\" y2=\"268.75\" stroke-linecap=\"round\" style=\"stroke:black;stroke-width:2\" /><line x1=\"437.5\" y1=\"268.75\" x2=\"443.75\" y2=\"268.75\" stroke-linecap=\"round\" style=\"stroke:black;stroke-width:2\" /><line x1=\"443.75\" y1=\"268.75\" x2=\"443.75\" y2=\"265.625\" stroke-linecap=\"round\" style=\"stroke:black;stroke-width:2\" /><line x1=\"443.75\" y1=\"265.625\" x2=\"443.75\" y2=\"271.875\" stroke-linecap=\"round\" style=\"stroke:black;stroke-width:2\" /><line x1=\"443.75\" y1=\"271.875\" x2=\"443.75\" y2=\"268.75\" stroke-linecap=\"round\" style=\"stroke:black;stroke-width:2\" /><line x1=\"443.75\" y1=\"268.75\" x2=\"437.5\" y2=\"268.75\" stroke-linecap=\"round\" style=\"stroke:black;stroke-width:2\" /><line x1=\"437.5\" y1=\"268.75\" x2=\"437.5\" y2=\"262.5\" stroke-linecap=\"round\" style=\"stroke:black;stroke-width:2\" /><line x1=\"437.5\" y1=\"262.5\" x2=\"425.0\" y2=\"262.5\" stroke-linecap=\"round\" style=\"stroke:black;stroke-width:2\" /><line x1=\"425.0\" y1=\"262.5\" x2=\"425.0\" y2=\"287.5\" stroke-linecap=\"round\" style=\"stroke:black;stroke-width:2\" /><line x1=\"425.0\" y1=\"287.5\" x2=\"437.5\" y2=\"287.5\" stroke-linecap=\"round\" style=\"stroke:black;stroke-width:2\" /><line x1=\"437.5\" y1=\"287.5\" x2=\"437.5\" y2=\"281.25\" stroke-linecap=\"round\" style=\"stroke:black;stroke-width:2\" /><line x1=\"437.5\" y1=\"281.25\" x2=\"443.75\" y2=\"281.25\" stroke-linecap=\"round\" style=\"stroke:black;stroke-width:2\" /><line x1=\"443.75\" y1=\"281.25\" x2=\"443.75\" y2=\"278.125\" stroke-linecap=\"round\" style=\"stroke:black;stroke-width:2\" /><line x1=\"443.75\" y1=\"278.125\" x2=\"443.75\" y2=\"284.375\" stroke-linecap=\"round\" style=\"stroke:black;stroke-width:2\" /><line x1=\"443.75\" y1=\"284.375\" x2=\"443.75\" y2=\"281.25\" stroke-linecap=\"round\" style=\"stroke:black;stroke-width:2\" /><line x1=\"443.75\" y1=\"281.25\" x2=\"437.5\" y2=\"281.25\" stroke-linecap=\"round\" style=\"stroke:black;stroke-width:2\" /><line x1=\"437.5\" y1=\"281.25\" x2=\"437.5\" y2=\"293.75\" stroke-linecap=\"round\" style=\"stroke:black;stroke-width:2\" /><line x1=\"437.5\" y1=\"293.75\" x2=\"443.75\" y2=\"293.75\" stroke-linecap=\"round\" style=\"stroke:black;stroke-width:2\" /><line x1=\"443.75\" y1=\"293.75\" x2=\"443.75\" y2=\"290.625\" stroke-linecap=\"round\" style=\"stroke:black;stroke-width:2\" /><line x1=\"443.75\" y1=\"290.625\" x2=\"443.75\" y2=\"296.875\" stroke-linecap=\"round\" style=\"stroke:black;stroke-width:2\" /><line x1=\"443.75\" y1=\"296.875\" x2=\"443.75\" y2=\"293.75\" stroke-linecap=\"round\" style=\"stroke:black;stroke-width:2\" /><line x1=\"443.75\" y1=\"293.75\" x2=\"437.5\" y2=\"293.75\" stroke-linecap=\"round\" style=\"stroke:black;stroke-width:2\" /><line x1=\"437.5\" y1=\"293.75\" x2=\"437.5\" y2=\"287.5\" stroke-linecap=\"round\" style=\"stroke:black;stroke-width:2\" /><line x1=\"437.5\" y1=\"287.5\" x2=\"425.0\" y2=\"287.5\" stroke-linecap=\"round\" style=\"stroke:black;stroke-width:2\" /><line x1=\"425.0\" y1=\"287.5\" x2=\"425.0\" y2=\"275.0\" stroke-linecap=\"round\" style=\"stroke:black;stroke-width:2\" /><line x1=\"425.0\" y1=\"275.0\" x2=\"400.0\" y2=\"275.0\" stroke-linecap=\"round\" style=\"stroke:black;stroke-width:2\" /><line x1=\"400.0\" y1=\"275.0\" x2=\"400.0\" y2=\"325.0\" stroke-linecap=\"round\" style=\"stroke:black;stroke-width:2\" /><line x1=\"400.0\" y1=\"325.0\" x2=\"425.0\" y2=\"325.0\" stroke-linecap=\"round\" style=\"stroke:black;stroke-width:2\" /><line x1=\"425.0\" y1=\"325.0\" x2=\"425.0\" y2=\"312.5\" stroke-linecap=\"round\" style=\"stroke:black;stroke-width:2\" /><line x1=\"425.0\" y1=\"312.5\" x2=\"437.5\" y2=\"312.5\" stroke-linecap=\"round\" style=\"stroke:black;stroke-width:2\" /><line x1=\"437.5\" y1=\"312.5\" x2=\"437.5\" y2=\"306.25\" stroke-linecap=\"round\" style=\"stroke:black;stroke-width:2\" /><line x1=\"437.5\" y1=\"306.25\" x2=\"443.75\" y2=\"306.25\" stroke-linecap=\"round\" style=\"stroke:black;stroke-width:2\" /><line x1=\"443.75\" y1=\"306.25\" x2=\"443.75\" y2=\"303.125\" stroke-linecap=\"round\" style=\"stroke:black;stroke-width:2\" /><line x1=\"443.75\" y1=\"303.125\" x2=\"443.75\" y2=\"309.375\" stroke-linecap=\"round\" style=\"stroke:black;stroke-width:2\" /><line x1=\"443.75\" y1=\"309.375\" x2=\"443.75\" y2=\"306.25\" stroke-linecap=\"round\" style=\"stroke:black;stroke-width:2\" /><line x1=\"443.75\" y1=\"306.25\" x2=\"437.5\" y2=\"306.25\" stroke-linecap=\"round\" style=\"stroke:black;stroke-width:2\" /><line x1=\"437.5\" y1=\"306.25\" x2=\"437.5\" y2=\"318.75\" stroke-linecap=\"round\" style=\"stroke:black;stroke-width:2\" /><line x1=\"437.5\" y1=\"318.75\" x2=\"443.75\" y2=\"318.75\" stroke-linecap=\"round\" style=\"stroke:black;stroke-width:2\" /><line x1=\"443.75\" y1=\"318.75\" x2=\"443.75\" y2=\"315.625\" stroke-linecap=\"round\" style=\"stroke:black;stroke-width:2\" /><line x1=\"443.75\" y1=\"315.625\" x2=\"443.75\" y2=\"321.875\" stroke-linecap=\"round\" style=\"stroke:black;stroke-width:2\" /><line x1=\"443.75\" y1=\"321.875\" x2=\"443.75\" y2=\"318.75\" stroke-linecap=\"round\" style=\"stroke:black;stroke-width:2\" /><line x1=\"443.75\" y1=\"318.75\" x2=\"437.5\" y2=\"318.75\" stroke-linecap=\"round\" style=\"stroke:black;stroke-width:2\" /><line x1=\"437.5\" y1=\"318.75\" x2=\"437.5\" y2=\"312.5\" stroke-linecap=\"round\" style=\"stroke:black;stroke-width:2\" /><line x1=\"437.5\" y1=\"312.5\" x2=\"425.0\" y2=\"312.5\" stroke-linecap=\"round\" style=\"stroke:black;stroke-width:2\" /><line x1=\"425.0\" y1=\"312.5\" x2=\"425.0\" y2=\"337.5\" stroke-linecap=\"round\" style=\"stroke:black;stroke-width:2\" /><line x1=\"425.0\" y1=\"337.5\" x2=\"437.5\" y2=\"337.5\" stroke-linecap=\"round\" style=\"stroke:black;stroke-width:2\" /><line x1=\"437.5\" y1=\"337.5\" x2=\"437.5\" y2=\"331.25\" stroke-linecap=\"round\" style=\"stroke:black;stroke-width:2\" /><line x1=\"437.5\" y1=\"331.25\" x2=\"443.75\" y2=\"331.25\" stroke-linecap=\"round\" style=\"stroke:black;stroke-width:2\" /><line x1=\"443.75\" y1=\"331.25\" x2=\"443.75\" y2=\"328.125\" stroke-linecap=\"round\" style=\"stroke:black;stroke-width:2\" /><line x1=\"443.75\" y1=\"328.125\" x2=\"443.75\" y2=\"334.375\" stroke-linecap=\"round\" style=\"stroke:black;stroke-width:2\" /><line x1=\"443.75\" y1=\"334.375\" x2=\"443.75\" y2=\"331.25\" stroke-linecap=\"round\" style=\"stroke:black;stroke-width:2\" /><line x1=\"443.75\" y1=\"331.25\" x2=\"437.5\" y2=\"331.25\" stroke-linecap=\"round\" style=\"stroke:black;stroke-width:2\" /><line x1=\"437.5\" y1=\"331.25\" x2=\"437.5\" y2=\"343.75\" stroke-linecap=\"round\" style=\"stroke:black;stroke-width:2\" /><line x1=\"437.5\" y1=\"343.75\" x2=\"443.75\" y2=\"343.75\" stroke-linecap=\"round\" style=\"stroke:black;stroke-width:2\" /><line x1=\"443.75\" y1=\"343.75\" x2=\"443.75\" y2=\"340.625\" stroke-linecap=\"round\" style=\"stroke:black;stroke-width:2\" /><line x1=\"443.75\" y1=\"340.625\" x2=\"443.75\" y2=\"346.875\" stroke-linecap=\"round\" style=\"stroke:black;stroke-width:2\" /><line x1=\"443.75\" y1=\"346.875\" x2=\"443.75\" y2=\"343.75\" stroke-linecap=\"round\" style=\"stroke:black;stroke-width:2\" /><line x1=\"443.75\" y1=\"343.75\" x2=\"437.5\" y2=\"343.75\" stroke-linecap=\"round\" style=\"stroke:black;stroke-width:2\" /><line x1=\"437.5\" y1=\"343.75\" x2=\"437.5\" y2=\"337.5\" stroke-linecap=\"round\" style=\"stroke:black;stroke-width:2\" /><line x1=\"437.5\" y1=\"337.5\" x2=\"425.0\" y2=\"337.5\" stroke-linecap=\"round\" style=\"stroke:black;stroke-width:2\" /><line x1=\"425.0\" y1=\"337.5\" x2=\"425.0\" y2=\"325.0\" stroke-linecap=\"round\" style=\"stroke:black;stroke-width:2\" /><line x1=\"425.0\" y1=\"325.0\" x2=\"400.0\" y2=\"325.0\" stroke-linecap=\"round\" style=\"stroke:black;stroke-width:2\" /><line x1=\"400.0\" y1=\"325.0\" x2=\"400.0\" y2=\"300.0\" stroke-linecap=\"round\" style=\"stroke:black;stroke-width:2\" /><line x1=\"400.0\" y1=\"300.0\" x2=\"350.0\" y2=\"300.0\" stroke-linecap=\"round\" style=\"stroke:black;stroke-width:2\" /><line x1=\"350.0\" y1=\"300.0\" x2=\"350.0\" y2=\"250.0\" stroke-linecap=\"round\" style=\"stroke:black;stroke-width:2\" /><line x1=\"350.0\" y1=\"250.0\" x2=\"340.0\" y2=\"250.0\" stroke-linecap=\"round\" style=\"stroke:black;stroke-width:2\" /><line x1=\"340.0\" y1=\"250.0\" x2=\"330.0\" y2=\"250.0\" stroke-linecap=\"round\" style=\"stroke:black;stroke-width:2\" /><line x1=\"330.0\" y1=\"250.0\" x2=\"320.0\" y2=\"250.0\" stroke-linecap=\"round\" style=\"stroke:black;stroke-width:2\" /><line x1=\"320.0\" y1=\"250.0\" x2=\"310.0\" y2=\"250.0\" stroke-linecap=\"round\" style=\"stroke:black;stroke-width:2\" /><line x1=\"310.0\" y1=\"250.0\" x2=\"300.0\" y2=\"250.0\" stroke-linecap=\"round\" style=\"stroke:black;stroke-width:2\" /><line x1=\"300.0\" y1=\"250.0\" x2=\"290.0\" y2=\"250.0\" stroke-linecap=\"round\" style=\"stroke:black;stroke-width:2\" /><line x1=\"290.0\" y1=\"250.0\" x2=\"280.0\" y2=\"250.0\" stroke-linecap=\"round\" style=\"stroke:black;stroke-width:2\" /><line x1=\"280.0\" y1=\"250.0\" x2=\"270.0\" y2=\"250.0\" stroke-linecap=\"round\" style=\"stroke:black;stroke-width:2\" /><line x1=\"270.0\" y1=\"250.0\" x2=\"260.0\" y2=\"250.0\" stroke-linecap=\"round\" style=\"stroke:black;stroke-width:2\" /><line x1=\"260.0\" y1=\"250.0\" x2=\"250.0\" y2=\"250.0\" stroke-linecap=\"round\" style=\"stroke:black;stroke-width:2\" />\n",
              "        \n",
              "        \n",
              "        <g id=\"turtle2\" visibility=\"visible\" transform=\"rotate(-90,250.0,250.0) translate(250.0, 250.0)\">\n",
              "<polygon points=\"0,16 2,14 1,10 4,7 7,9 9,8 6,5 7,1 5,-3 8,-6 6,-8 4,-5 0,-7 -4,-5 -6,-8 -8,-6 -5,-3 -7,1 -6,5 -9,8 -7,9 -4,7 -1,10 -2,14\" transform=\"skewX(0) scale(1,1)\" style=\"stroke:black;stroke-width:1;fill:black\" />\n",
              "</g>\n",
              "      </svg>\n",
              "    "
            ]
          },
          "metadata": {}
        }
      ]
    },
    {
      "cell_type": "markdown",
      "source": [
        "When you run this code with `chai(100)`, you should see a side-view \"T\"!\n",
        "\n",
        "\n",
        "Take a moment to digest what `chai` draws:\n",
        "+ How is the final \"T\" shape formed? You might act it out, on paper or in person!\n",
        "+ Notice where in the \"T\"  the two hash-tagged `# recurse here` comments in the code, at the \"T\"'s top ends...\n",
        "+ Next, you'll add one recursive branch, then a second:\n",
        "\n",
        "To that end, add one branch of recursion to `chai`:\n",
        "\n",
        "+ First, paste this recursive call: `chai(size/2)` between the two calls to `t.right(90)` (i.e., where the first recursion is called for.\n",
        "\n",
        "Try it out!\n",
        "\n",
        "<hr>\n",
        "\n",
        "<b>Next</b>, add a second branch.\n",
        "\n",
        "+ That is, place a _second_ recursive call to `chai(size/2)` between the two calls to `t.left(90)`\n",
        "\n",
        "It's nothing more than a second branch, __but__ because it's called recursively on _all_ of the subbranches, the resulting work - and visual intricacy - is _much more_ than doubled!\n",
        "\n",
        "Again, try it out!\n",
        "\n",
        "<hr>\n",
        "\n",
        "In the end, branching recursion works by creating a smaller version of the overall structure at <b><i>more than one location</i></b> within that structure.\n",
        "\n",
        "\n",
        "Take a moment again here to analyze the final `chai` function, the branching-recursion one:\n",
        "+ Why does it draw such a complex figure?\n",
        "+ Again, it might help to act it out -- or use paper. You'll see that a _lot_ of bookkeeping is going on! The process is keeping track of where in the recursion it is ... <i>at all times</i>.\n",
        "\n",
        "<br>\n",
        "\n",
        "<font size = \"+1.5\">Key idea: <b>Be sure to end where you began</b>\n",
        "\n",
        "***One key*** to making branching recursion \"work\" is _making sure that your turtle __ends__ at the same __location__ that it begins, and ends up __facing the same direction__._ That ensures the statements after the recursive calls are moving the turtle as expected -- and that the subsequent drawing is \"right on schedule\"!\n",
        "\n",
        "No need to customize `chai` here.\n",
        "\n",
        "Instead, you'll customize it with `svtree`, our <i>side-view tree</i>, next:\n",
        "\n"
      ],
      "metadata": {
        "id": "BEEgtG4jDt12"
      }
    },
    {
      "cell_type": "markdown",
      "source": [
        " ## <font color = \"blue\"> <b>Turtle Task #4: The `svtree` function</b>  </font> <font size = \"-1\"> [10 points]</font>\n",
        "\n",
        "\n",
        "Next, you'll write another branching example: the _side-view_ tree.\n",
        "\n",
        "\"Branching\" seems like a particularly appropriate descriptor in this case!\n",
        "\n",
        "The idea is to create a function that draws the _side view_ of a tree, hence `svtree`. Read over this docstring to get a sense of the two arguments. Then, look over the outline and images below the code:"
      ],
      "metadata": {
        "id": "hztMWEZUM9-9"
      }
    },
    {
      "cell_type": "code",
      "source": [
        "import ColabTurtlePlus.Turtle as t\n",
        "\n",
        "t.clearscreen()      # it's good to start every cell with this\n",
        "t.setup(500,500)     # setup the drawing area to be 500 pixels x 500 pixels\n",
        "t.showborder()       # show the border of the drawing area\n",
        "\n",
        "t.bgcolor(\"AliceBlue\")   # adjust to your preferences!\n",
        "t.shape(\"turtle2\")\n",
        "t.speed(10)\n",
        "t.width(2)\n",
        "\n",
        "def svtree(trunklength, levels):\n",
        "    \"\"\"svtree: draws a side-view tree\n",
        "       trunklength = the length of the first line drawn (\"the trunk\")\n",
        "       levels = the depth of recursion to which it continues branching\n",
        "    \"\"\"\n",
        "    if levels == 0:\n",
        "        return\n",
        "    else:\n",
        "        t.pensize(levels*3-1)\n",
        "        t.dot(10, 'yellow')\n",
        "        t.forward(trunklength)  # Draw the original trunk (1 line)\n",
        "        t.left(45)  # Turn a little bit to position the first subtree (1 line)\n",
        "        svtree(trunklength*0.6, levels-1) # Recurse! with both a smaller trunk and fewer levels (1 line)\n",
        "        t.right(90) # Turn the other way to position the second subtree (1 line)\n",
        "        svtree(trunklength*0.6, levels-1)# Recurse again! (1 line)\n",
        "        t.left(45)# Turn and go BACKWARDS (2 steps: 2 lines)\n",
        "        t.backward(trunklength)\n",
        "        pass # delete this empty statement later\n",
        "\n",
        "#\n",
        "# setup - move the turtle backward a bit:\n",
        "#\n",
        "t.penup()\n",
        "t.backward(150)\n",
        "t.pendown()\n",
        "\n",
        "# Go!  One example:\n",
        "svtree(100, 5)\n",
        "\n",
        "# try svtree(100,5)\n",
        "\n"
      ],
      "metadata": {
        "id": "1FHfXGUENPUG",
        "colab": {
          "base_uri": "https://localhost:8080/",
          "height": 521
        },
        "outputId": "ebc2f061-3e16-491f-956d-f8ff6eb619d8"
      },
      "execution_count": 61,
      "outputs": [
        {
          "output_type": "display_data",
          "data": {
            "text/plain": [
              "<IPython.core.display.HTML object>"
            ],
            "text/html": [
              "\n",
              "      <svg width=\"500\" height=\"500\">  \n",
              "        <rect width=\"100%\" height=\"100%\" style=\"fill:aliceblue;stroke:gray;stroke-width:1\"/>\n",
              "        \n",
              "        \n",
              "        <line x1=\"100.0\" y1=\"250.0\" x2=\"200.0\" y2=\"250.0\" stroke-linecap=\"round\" style=\"stroke:black;stroke-width:14\" /><line x1=\"200.0\" y1=\"250.0\" x2=\"242.426\" y2=\"207.574\" stroke-linecap=\"round\" style=\"stroke:black;stroke-width:11\" /><line x1=\"242.426\" y1=\"207.574\" x2=\"242.426\" y2=\"171.574\" stroke-linecap=\"round\" style=\"stroke:black;stroke-width:8\" /><line x1=\"242.426\" y1=\"171.574\" x2=\"227.152\" y2=\"156.3\" stroke-linecap=\"round\" style=\"stroke:black;stroke-width:5\" /><line x1=\"227.152\" y1=\"156.3\" x2=\"214.192\" y2=\"156.3\" stroke-linecap=\"round\" style=\"stroke:black;stroke-width:2\" /><line x1=\"214.192\" y1=\"156.3\" x2=\"227.152\" y2=\"156.3\" stroke-linecap=\"round\" style=\"stroke:black;stroke-width:2\" /><line x1=\"227.152\" y1=\"156.3\" x2=\"227.152\" y2=\"143.34\" stroke-linecap=\"round\" style=\"stroke:black;stroke-width:2\" /><line x1=\"227.152\" y1=\"143.34\" x2=\"227.152\" y2=\"156.3\" stroke-linecap=\"round\" style=\"stroke:black;stroke-width:2\" /><line x1=\"227.152\" y1=\"156.3\" x2=\"242.426\" y2=\"171.574\" stroke-linecap=\"round\" style=\"stroke:black;stroke-width:2\" /><line x1=\"242.426\" y1=\"171.574\" x2=\"257.7\" y2=\"156.3\" stroke-linecap=\"round\" style=\"stroke:black;stroke-width:5\" /><line x1=\"257.7\" y1=\"156.3\" x2=\"257.7\" y2=\"143.34\" stroke-linecap=\"round\" style=\"stroke:black;stroke-width:2\" /><line x1=\"257.7\" y1=\"143.34\" x2=\"257.7\" y2=\"156.3\" stroke-linecap=\"round\" style=\"stroke:black;stroke-width:2\" /><line x1=\"257.7\" y1=\"156.3\" x2=\"270.66\" y2=\"156.3\" stroke-linecap=\"round\" style=\"stroke:black;stroke-width:2\" /><line x1=\"270.66\" y1=\"156.3\" x2=\"257.7\" y2=\"156.3\" stroke-linecap=\"round\" style=\"stroke:black;stroke-width:2\" /><line x1=\"257.7\" y1=\"156.3\" x2=\"242.426\" y2=\"171.574\" stroke-linecap=\"round\" style=\"stroke:black;stroke-width:2\" /><line x1=\"242.426\" y1=\"171.574\" x2=\"242.426\" y2=\"207.574\" stroke-linecap=\"round\" style=\"stroke:black;stroke-width:2\" /><line x1=\"242.426\" y1=\"207.574\" x2=\"278.426\" y2=\"207.574\" stroke-linecap=\"round\" style=\"stroke:black;stroke-width:8\" /><line x1=\"278.426\" y1=\"207.574\" x2=\"293.7\" y2=\"192.3\" stroke-linecap=\"round\" style=\"stroke:black;stroke-width:5\" /><line x1=\"293.7\" y1=\"192.3\" x2=\"293.7\" y2=\"179.34\" stroke-linecap=\"round\" style=\"stroke:black;stroke-width:2\" /><line x1=\"293.7\" y1=\"179.34\" x2=\"293.7\" y2=\"192.3\" stroke-linecap=\"round\" style=\"stroke:black;stroke-width:2\" /><line x1=\"293.7\" y1=\"192.3\" x2=\"306.66\" y2=\"192.3\" stroke-linecap=\"round\" style=\"stroke:black;stroke-width:2\" /><line x1=\"306.66\" y1=\"192.3\" x2=\"293.7\" y2=\"192.3\" stroke-linecap=\"round\" style=\"stroke:black;stroke-width:2\" /><line x1=\"293.7\" y1=\"192.3\" x2=\"278.426\" y2=\"207.574\" stroke-linecap=\"round\" style=\"stroke:black;stroke-width:2\" /><line x1=\"278.426\" y1=\"207.574\" x2=\"293.7\" y2=\"222.848\" stroke-linecap=\"round\" style=\"stroke:black;stroke-width:5\" /><line x1=\"293.7\" y1=\"222.848\" x2=\"306.66\" y2=\"222.848\" stroke-linecap=\"round\" style=\"stroke:black;stroke-width:2\" /><line x1=\"306.66\" y1=\"222.848\" x2=\"293.7\" y2=\"222.848\" stroke-linecap=\"round\" style=\"stroke:black;stroke-width:2\" /><line x1=\"293.7\" y1=\"222.848\" x2=\"293.7\" y2=\"235.808\" stroke-linecap=\"round\" style=\"stroke:black;stroke-width:2\" /><line x1=\"293.7\" y1=\"235.808\" x2=\"293.7\" y2=\"222.848\" stroke-linecap=\"round\" style=\"stroke:black;stroke-width:2\" /><line x1=\"293.7\" y1=\"222.848\" x2=\"278.426\" y2=\"207.574\" stroke-linecap=\"round\" style=\"stroke:black;stroke-width:2\" /><line x1=\"278.426\" y1=\"207.574\" x2=\"242.426\" y2=\"207.574\" stroke-linecap=\"round\" style=\"stroke:black;stroke-width:2\" /><line x1=\"242.426\" y1=\"207.574\" x2=\"200.0\" y2=\"250.0\" stroke-linecap=\"round\" style=\"stroke:black;stroke-width:2\" /><line x1=\"200.0\" y1=\"250.0\" x2=\"242.426\" y2=\"292.426\" stroke-linecap=\"round\" style=\"stroke:black;stroke-width:11\" /><line x1=\"242.426\" y1=\"292.426\" x2=\"278.426\" y2=\"292.426\" stroke-linecap=\"round\" style=\"stroke:black;stroke-width:8\" /><line x1=\"278.426\" y1=\"292.426\" x2=\"293.7\" y2=\"277.152\" stroke-linecap=\"round\" style=\"stroke:black;stroke-width:5\" /><line x1=\"293.7\" y1=\"277.152\" x2=\"293.7\" y2=\"264.192\" stroke-linecap=\"round\" style=\"stroke:black;stroke-width:2\" /><line x1=\"293.7\" y1=\"264.192\" x2=\"293.7\" y2=\"277.152\" stroke-linecap=\"round\" style=\"stroke:black;stroke-width:2\" /><line x1=\"293.7\" y1=\"277.152\" x2=\"306.66\" y2=\"277.152\" stroke-linecap=\"round\" style=\"stroke:black;stroke-width:2\" /><line x1=\"306.66\" y1=\"277.152\" x2=\"293.7\" y2=\"277.152\" stroke-linecap=\"round\" style=\"stroke:black;stroke-width:2\" /><line x1=\"293.7\" y1=\"277.152\" x2=\"278.426\" y2=\"292.426\" stroke-linecap=\"round\" style=\"stroke:black;stroke-width:2\" /><line x1=\"278.426\" y1=\"292.426\" x2=\"293.7\" y2=\"307.7\" stroke-linecap=\"round\" style=\"stroke:black;stroke-width:5\" /><line x1=\"293.7\" y1=\"307.7\" x2=\"306.66\" y2=\"307.7\" stroke-linecap=\"round\" style=\"stroke:black;stroke-width:2\" /><line x1=\"306.66\" y1=\"307.7\" x2=\"293.7\" y2=\"307.7\" stroke-linecap=\"round\" style=\"stroke:black;stroke-width:2\" /><line x1=\"293.7\" y1=\"307.7\" x2=\"293.7\" y2=\"320.66\" stroke-linecap=\"round\" style=\"stroke:black;stroke-width:2\" /><line x1=\"293.7\" y1=\"320.66\" x2=\"293.7\" y2=\"307.7\" stroke-linecap=\"round\" style=\"stroke:black;stroke-width:2\" /><line x1=\"293.7\" y1=\"307.7\" x2=\"278.426\" y2=\"292.426\" stroke-linecap=\"round\" style=\"stroke:black;stroke-width:2\" /><line x1=\"278.426\" y1=\"292.426\" x2=\"242.426\" y2=\"292.426\" stroke-linecap=\"round\" style=\"stroke:black;stroke-width:2\" /><line x1=\"242.426\" y1=\"292.426\" x2=\"242.426\" y2=\"328.426\" stroke-linecap=\"round\" style=\"stroke:black;stroke-width:8\" /><line x1=\"242.426\" y1=\"328.426\" x2=\"257.7\" y2=\"343.7\" stroke-linecap=\"round\" style=\"stroke:black;stroke-width:5\" /><line x1=\"257.7\" y1=\"343.7\" x2=\"270.66\" y2=\"343.7\" stroke-linecap=\"round\" style=\"stroke:black;stroke-width:2\" /><line x1=\"270.66\" y1=\"343.7\" x2=\"257.7\" y2=\"343.7\" stroke-linecap=\"round\" style=\"stroke:black;stroke-width:2\" /><line x1=\"257.7\" y1=\"343.7\" x2=\"257.7\" y2=\"356.66\" stroke-linecap=\"round\" style=\"stroke:black;stroke-width:2\" /><line x1=\"257.7\" y1=\"356.66\" x2=\"257.7\" y2=\"343.7\" stroke-linecap=\"round\" style=\"stroke:black;stroke-width:2\" /><line x1=\"257.7\" y1=\"343.7\" x2=\"242.426\" y2=\"328.426\" stroke-linecap=\"round\" style=\"stroke:black;stroke-width:2\" /><line x1=\"242.426\" y1=\"328.426\" x2=\"227.152\" y2=\"343.7\" stroke-linecap=\"round\" style=\"stroke:black;stroke-width:5\" /><line x1=\"227.152\" y1=\"343.7\" x2=\"227.152\" y2=\"356.66\" stroke-linecap=\"round\" style=\"stroke:black;stroke-width:2\" /><line x1=\"227.152\" y1=\"356.66\" x2=\"227.152\" y2=\"343.7\" stroke-linecap=\"round\" style=\"stroke:black;stroke-width:2\" /><line x1=\"227.152\" y1=\"343.7\" x2=\"214.192\" y2=\"343.7\" stroke-linecap=\"round\" style=\"stroke:black;stroke-width:2\" /><line x1=\"214.192\" y1=\"343.7\" x2=\"227.152\" y2=\"343.7\" stroke-linecap=\"round\" style=\"stroke:black;stroke-width:2\" /><line x1=\"227.152\" y1=\"343.7\" x2=\"242.426\" y2=\"328.426\" stroke-linecap=\"round\" style=\"stroke:black;stroke-width:2\" /><line x1=\"242.426\" y1=\"328.426\" x2=\"242.426\" y2=\"292.426\" stroke-linecap=\"round\" style=\"stroke:black;stroke-width:2\" /><line x1=\"242.426\" y1=\"292.426\" x2=\"200.0\" y2=\"250.0\" stroke-linecap=\"round\" style=\"stroke:black;stroke-width:2\" /><line x1=\"200.0\" y1=\"250.0\" x2=\"190.0\" y2=\"250.0\" stroke-linecap=\"round\" style=\"stroke:black;stroke-width:2\" /><line x1=\"190.0\" y1=\"250.0\" x2=\"180.0\" y2=\"250.0\" stroke-linecap=\"round\" style=\"stroke:black;stroke-width:2\" /><line x1=\"180.0\" y1=\"250.0\" x2=\"170.0\" y2=\"250.0\" stroke-linecap=\"round\" style=\"stroke:black;stroke-width:2\" /><line x1=\"170.0\" y1=\"250.0\" x2=\"160.0\" y2=\"250.0\" stroke-linecap=\"round\" style=\"stroke:black;stroke-width:2\" /><line x1=\"160.0\" y1=\"250.0\" x2=\"150.0\" y2=\"250.0\" stroke-linecap=\"round\" style=\"stroke:black;stroke-width:2\" /><line x1=\"150.0\" y1=\"250.0\" x2=\"140.0\" y2=\"250.0\" stroke-linecap=\"round\" style=\"stroke:black;stroke-width:2\" /><line x1=\"140.0\" y1=\"250.0\" x2=\"130.0\" y2=\"250.0\" stroke-linecap=\"round\" style=\"stroke:black;stroke-width:2\" /><line x1=\"130.0\" y1=\"250.0\" x2=\"120.0\" y2=\"250.0\" stroke-linecap=\"round\" style=\"stroke:black;stroke-width:2\" /><line x1=\"120.0\" y1=\"250.0\" x2=\"110.0\" y2=\"250.0\" stroke-linecap=\"round\" style=\"stroke:black;stroke-width:2\" /><line x1=\"110.0\" y1=\"250.0\" x2=\"100.0\" y2=\"250.0\" stroke-linecap=\"round\" style=\"stroke:black;stroke-width:2\" />\n",
              "        <circle cx=\"100.0\" cy=\"250.0\" r=\"5.0\" fill=\"yellow\" fill-opacity=\"1\" /><circle cx=\"200.0\" cy=\"250.0\" r=\"5.0\" fill=\"yellow\" fill-opacity=\"1\" /><circle cx=\"242.426\" cy=\"207.574\" r=\"5.0\" fill=\"yellow\" fill-opacity=\"1\" /><circle cx=\"242.426\" cy=\"171.574\" r=\"5.0\" fill=\"yellow\" fill-opacity=\"1\" /><circle cx=\"227.152\" cy=\"156.3\" r=\"5.0\" fill=\"yellow\" fill-opacity=\"1\" /><circle cx=\"227.152\" cy=\"156.3\" r=\"5.0\" fill=\"yellow\" fill-opacity=\"1\" /><circle cx=\"242.426\" cy=\"171.574\" r=\"5.0\" fill=\"yellow\" fill-opacity=\"1\" /><circle cx=\"257.7\" cy=\"156.3\" r=\"5.0\" fill=\"yellow\" fill-opacity=\"1\" /><circle cx=\"257.7\" cy=\"156.3\" r=\"5.0\" fill=\"yellow\" fill-opacity=\"1\" /><circle cx=\"242.426\" cy=\"207.574\" r=\"5.0\" fill=\"yellow\" fill-opacity=\"1\" /><circle cx=\"278.426\" cy=\"207.574\" r=\"5.0\" fill=\"yellow\" fill-opacity=\"1\" /><circle cx=\"293.7\" cy=\"192.3\" r=\"5.0\" fill=\"yellow\" fill-opacity=\"1\" /><circle cx=\"293.7\" cy=\"192.3\" r=\"5.0\" fill=\"yellow\" fill-opacity=\"1\" /><circle cx=\"278.426\" cy=\"207.574\" r=\"5.0\" fill=\"yellow\" fill-opacity=\"1\" /><circle cx=\"293.7\" cy=\"222.848\" r=\"5.0\" fill=\"yellow\" fill-opacity=\"1\" /><circle cx=\"293.7\" cy=\"222.848\" r=\"5.0\" fill=\"yellow\" fill-opacity=\"1\" /><circle cx=\"200.0\" cy=\"250.0\" r=\"5.0\" fill=\"yellow\" fill-opacity=\"1\" /><circle cx=\"242.426\" cy=\"292.426\" r=\"5.0\" fill=\"yellow\" fill-opacity=\"1\" /><circle cx=\"278.426\" cy=\"292.426\" r=\"5.0\" fill=\"yellow\" fill-opacity=\"1\" /><circle cx=\"293.7\" cy=\"277.152\" r=\"5.0\" fill=\"yellow\" fill-opacity=\"1\" /><circle cx=\"293.7\" cy=\"277.152\" r=\"5.0\" fill=\"yellow\" fill-opacity=\"1\" /><circle cx=\"278.426\" cy=\"292.426\" r=\"5.0\" fill=\"yellow\" fill-opacity=\"1\" /><circle cx=\"293.7\" cy=\"307.7\" r=\"5.0\" fill=\"yellow\" fill-opacity=\"1\" /><circle cx=\"293.7\" cy=\"307.7\" r=\"5.0\" fill=\"yellow\" fill-opacity=\"1\" /><circle cx=\"242.426\" cy=\"292.426\" r=\"5.0\" fill=\"yellow\" fill-opacity=\"1\" /><circle cx=\"242.426\" cy=\"328.426\" r=\"5.0\" fill=\"yellow\" fill-opacity=\"1\" /><circle cx=\"257.7\" cy=\"343.7\" r=\"5.0\" fill=\"yellow\" fill-opacity=\"1\" /><circle cx=\"257.7\" cy=\"343.7\" r=\"5.0\" fill=\"yellow\" fill-opacity=\"1\" /><circle cx=\"242.426\" cy=\"328.426\" r=\"5.0\" fill=\"yellow\" fill-opacity=\"1\" /><circle cx=\"227.152\" cy=\"343.7\" r=\"5.0\" fill=\"yellow\" fill-opacity=\"1\" /><circle cx=\"227.152\" cy=\"343.7\" r=\"5.0\" fill=\"yellow\" fill-opacity=\"1\" />\n",
              "        \n",
              "        <g id=\"turtle2\" visibility=\"visible\" transform=\"rotate(-90,100.0,250.0) translate(100.0, 250.0)\">\n",
              "<polygon points=\"0,16 2,14 1,10 4,7 7,9 9,8 6,5 7,1 5,-3 8,-6 6,-8 4,-5 0,-7 -4,-5 -6,-8 -8,-6 -5,-3 -7,1 -6,5 -9,8 -7,9 -4,7 -1,10 -2,14\" transform=\"skewX(0) scale(1,1)\" style=\"stroke:black;stroke-width:1;fill:black\" />\n",
              "</g>\n",
              "      </svg>\n",
              "    "
            ]
          },
          "metadata": {}
        }
      ]
    },
    {
      "cell_type": "markdown",
      "source": [
        "### <font color = \"blue\"> **More on `svtree`...**\n",
        "\n",
        "Before diving in, take a look at two examples and some analysis. First, here is an example of the possible output when `svtree(50, 2)` is run:\n",
        "\n",
        "\n",
        "<img src = \"https://www.cs.hmc.edu/twiki/pub/CS5Fall2022/Lab2Turtle/svtree_2.png\" height=\"142px\">\n",
        "\n",
        "Caution: because the function draws a sideways tree, it can go off the screen really fast. The lines of code at the bottom (`t.penup()` through `t.pendown()`) ensure that that doesn't happen, so make sure that you call svtree _after_ them.\n",
        "\n",
        "Here is an example of the output from our function when `svtree(128, 6)` is run:\n",
        "\n",
        "<img src = \"https://www.cs.hmc.edu/twiki/pub/CS5Fall2022/Lab2Turtle/svtree_6.png\" height=\"200px\">\n",
        "\n",
        "\n",
        "Note that this __really__ is side-view!\n",
        "\n",
        "Also, if `svtree(50, 0)` is run, the result should be no drawing at all. _The base case occurs when `levels` equals 0._\n",
        "\n",
        "<br>\n",
        "\n",
        "<font size = \"+1.5\"> <b> Strategy and analysis </font></b>\n",
        "\n",
        "**Base case:**   for `svtree`, you want to draw nothing (and `return` from `svtree`) when `levels == 0`.\n",
        "\n",
        "**Recursive case:**   We tackle it conceptually.\n",
        "\n",
        "Here is a picture showing the self-similar breakdown of `svtree` (from the Gold slides). This is, in fact, an almost complete map of the svtree code!\n",
        "\n",
        "\n",
        "<img src = \"https://www.cs.hmc.edu/twiki/pub/CS5/Lab2Turtle/svtree.png\" height=\"442px\">\n",
        "\n",
        "\n",
        "The key to happiness with recursive drawing is this: ___the pen must be back at the start (root) of the tree at the end of the function call, and the turtle must be facing in the original direction!___ That way, each portion of the recursion \"takes care of itself\" relative to the other parts of the image. Here are the steps:\n",
        "\n",
        "- Go forward the `trunklength`.\n",
        "- Turn left some amount.\n",
        "- Recur! (call `svtree` with a fraction of the `trunklength` and 1 fewer levels).\n",
        "- Turn right some amount (if you want to be symmetric, turn right by double the amount you turned left).\n",
        "- Recur again! (make the same call to `svtree` with a fraction of the `trunklength` and 1 fewer levels).\n",
        "- _Finish up, part 1_: Turn left so that the turtle is facing its original direction (if your tree is symmetric, the same as the original left turn).\n",
        "- _finish up, part 2_: Go __backward__ the original `trunklength`.\n",
        "\n",
        "<br>\n",
        "\n",
        "**Notes and Hints**\n",
        "\n",
        "- Don't worry about the exact angle of branching...\n",
        "- Don't worry about the exact amount of reduction of the trunklength in sub-branches, etc.\n",
        "- Design your own tree by making aesthetic choices for each of these!\n",
        "\n",
        "Also, calling `t.left(90)` before the code at the bottom will yield a more traditional, skyward, tree pose!\n",
        "\n",
        "\n",
        "\n",
        "\n",
        "\n",
        "\n",
        "\n",
        "\n"
      ],
      "metadata": {
        "id": "0pQOhwduNYAw"
      }
    },
    {
      "cell_type": "markdown",
      "source": [
        "#### **Try more branches!**\n",
        "\n",
        "Once you have the `svtree` function working, alter it so that it has three or more branches, instead of only two...\n",
        "\n",
        "- You can get some very dense \"foliage\" very quickly.\n",
        "- Even more \"life-like\" results are possible if you use non-identical branching angles and size multipliers.\n",
        "- Also, you could have the `pensize` or `pencolor` depend on the value of `levels`.\n",
        "- If you make the final \"level\" red, you can create an apple tree.\n",
        "   - See the `dot` example from `tri` for other ways to add fruit to a tree...\n",
        "- Or, if you make that final \"level\" a random color, you can produce fall-foliage-type effects..."
      ],
      "metadata": {
        "id": "yBoWs_GvPzGP"
      }
    },
    {
      "cell_type": "markdown",
      "source": [
        "For the fourth task, as with the previous ones,\n",
        "+ leave in the notebook your final/favorite tree, one that's different from this page's provided examples.\n",
        "\n"
      ],
      "metadata": {
        "id": "IHnTo1HZQAnF"
      }
    },
    {
      "cell_type": "markdown",
      "source": [
        "### _What - only two branches?!_    \n",
        "\n",
        " As the branching factor increases, things can get __icy__... or, perhaps, numbing:"
      ],
      "metadata": {
        "id": "I5wCTsO_QN68"
      }
    },
    {
      "cell_type": "markdown",
      "source": [
        "## <font color = \"blue\"> <b>Turtle Task #5: The `flakeside` function </b> <font size = \"-1\"> [10 points]</font>\n",
        "\n",
        "A challenge! The Koch Snowflake is an example of _deeply_ branching recursion.\n",
        "\n",
        "The Koch snowflake is a fractal with three identical sides—it's the sides themselves that are defined recursively, not the set of three of them.\n",
        "\n",
        "Because of this, we provide the overall `snowflake` function for you to use—it's here.\n",
        "\n",
        "<b>Note</b> - you won't be able to use the <tt>snowflake</tt> function until you define `flakeside` below."
      ],
      "metadata": {
        "id": "kCe2pKeiQt1V"
      }
    },
    {
      "cell_type": "code",
      "source": [
        "import ColabTurtlePlus.Turtle as t\n",
        "\n",
        "t.clearscreen()      # it's good to start every cell with this\n",
        "t.setup(500,500)     # setup the drawing area to be 500 pixels x 500 pixels\n",
        "t.showborder()       # show the border of the drawing area\n",
        "\n",
        "t.bgcolor(\"AliceBlue\")   # adjust to your preferences!\n",
        "t.shape(\"turtle2\")\n",
        "t.speed(10)\n",
        "t.width(2)\n",
        "\n",
        "def snowflake(sidelength, levels):\n",
        "    \"\"\"Fractal snowflake function, complete.\n",
        "       sidelength: pixels in the largest-scale triangle side\n",
        "       levels: the number of recursive levels in each side\n",
        "    \"\"\"\n",
        "    flakeside(sidelength, levels)     # needs to be implemented - see below\n",
        "    t.left(120)\n",
        "    flakeside(sidelength, levels)\n",
        "    t.left(120)\n",
        "    flakeside(sidelength, levels)\n",
        "    t.left(120)\n",
        "\n"
      ],
      "metadata": {
        "id": "PwbAEbdARUGk",
        "colab": {
          "base_uri": "https://localhost:8080/",
          "height": 521
        },
        "outputId": "5c64f250-5710-4fc3-8e35-ffe62c6378cb"
      },
      "execution_count": 65,
      "outputs": [
        {
          "output_type": "display_data",
          "data": {
            "text/plain": [
              "<IPython.core.display.HTML object>"
            ],
            "text/html": [
              "\n",
              "      <svg width=\"500\" height=\"500\">  \n",
              "        <rect width=\"100%\" height=\"100%\" style=\"fill:aliceblue;stroke:gray;stroke-width:1\"/>\n",
              "        \n",
              "        \n",
              "        \n",
              "        \n",
              "        \n",
              "        <g id=\"turtle2\" visibility=\"visible\" transform=\"rotate(-90,250.0,250.0) translate(250.0, 250.0)\">\n",
              "<polygon points=\"0,16 2,14 1,10 4,7 7,9 9,8 6,5 7,1 5,-3 8,-6 6,-8 4,-5 0,-7 -4,-5 -6,-8 -8,-6 -5,-3 -7,1 -6,5 -9,8 -7,9 -4,7 -1,10 -2,14\" transform=\"skewX(0) scale(1,1)\" style=\"stroke:black;stroke-width:1;fill:black\" />\n",
              "</g>\n",
              "      </svg>\n",
              "    "
            ]
          },
          "metadata": {}
        }
      ]
    },
    {
      "cell_type": "markdown",
      "source": [
        "### <font color = \"blue\"> **Writing the `flakeside` function!**\n",
        "\n",
        "Your task is to implement `flakeside(sidelength, levels)`, which will draw one snowflake side:\n",
        "\n",
        "There is a starter code below. First, here is a graphical summary of a snowflake-side's structure:\n",
        "\n",
        "<img src = \"https://www.cs.hmc.edu/twiki/pub/CS5/Lab2Turtle/flakeside.png\" height=\"542px\">"
      ],
      "metadata": {
        "id": "OkAsXbEhRn4-"
      }
    },
    {
      "cell_type": "code",
      "source": [
        "import ColabTurtlePlus.Turtle as t\n",
        "\n",
        "t.clearscreen()      # it's good to start every cell with this\n",
        "t.setup(500,500)     # setup the drawing area to be 500 pixels x 500 pixels\n",
        "t.showborder()       # show the border of the drawing area\n",
        "\n",
        "t.bgcolor(\"AliceBlue\")   # adjust to your preferences!\n",
        "t.shape(\"turtle2\")\n",
        "t.speed(10)\n",
        "t.width(2)\n",
        "\n",
        "def flakeside(sidelength, levels):\n",
        "    \"\"\" flakeside draws _one side_ of the fractal Koch snowflake\n",
        "    \"\"\"\n",
        "    if levels == 0: # see hints below! This function is _deeply_ recursive!\n",
        "        t.forward(sidelength)\n",
        "    else:\n",
        "        flakeside(sidelength/3, levels-1)\n",
        "        t.right(60)\n",
        "        flakeside(sidelength/3, levels-1)\n",
        "        t.left(120)\n",
        "        flakeside(sidelength/3, levels-1)\n",
        "        t.right(60)\n",
        "        flakeside(sidelength/3, levels-1)\n",
        "    pass # remove this empty statement later\n",
        "\n",
        "#\n",
        "# try it!\n",
        "#\n",
        "t.penup()\n",
        "t.goto(-200,0)  # move the pen to a \"southwest\" corner...\n",
        "t.pendown()\n",
        "\n",
        "flakeside(300,3)  # try it...\n"
      ],
      "metadata": {
        "id": "c5JjE7a5R3EV",
        "colab": {
          "base_uri": "https://localhost:8080/",
          "height": 521
        },
        "outputId": "80277f71-539d-417a-a776-3aa7c27f1516"
      },
      "execution_count": 71,
      "outputs": [
        {
          "output_type": "display_data",
          "data": {
            "text/plain": [
              "<IPython.core.display.HTML object>"
            ],
            "text/html": [
              "\n",
              "      <svg width=\"500\" height=\"500\">  \n",
              "        <rect width=\"100%\" height=\"100%\" style=\"fill:aliceblue;stroke:gray;stroke-width:1\"/>\n",
              "        \n",
              "        \n",
              "        <line x1=\"50.0\" y1=\"250.0\" x2=\"61.111\" y2=\"250.0\" stroke-linecap=\"round\" style=\"stroke:black;stroke-width:2\" /><line x1=\"61.111\" y1=\"250.0\" x2=\"66.667\" y2=\"259.623\" stroke-linecap=\"round\" style=\"stroke:black;stroke-width:2\" /><line x1=\"66.667\" y1=\"259.623\" x2=\"72.223\" y2=\"250.0\" stroke-linecap=\"round\" style=\"stroke:black;stroke-width:2\" /><line x1=\"72.223\" y1=\"250.0\" x2=\"83.334\" y2=\"250.0\" stroke-linecap=\"round\" style=\"stroke:black;stroke-width:2\" /><line x1=\"83.334\" y1=\"250.0\" x2=\"88.89\" y2=\"259.623\" stroke-linecap=\"round\" style=\"stroke:black;stroke-width:2\" /><line x1=\"88.89\" y1=\"259.623\" x2=\"83.334\" y2=\"269.246\" stroke-linecap=\"round\" style=\"stroke:black;stroke-width:2\" /><line x1=\"83.334\" y1=\"269.246\" x2=\"94.445\" y2=\"269.246\" stroke-linecap=\"round\" style=\"stroke:black;stroke-width:2\" /><line x1=\"94.445\" y1=\"269.246\" x2=\"100.001\" y2=\"278.869\" stroke-linecap=\"round\" style=\"stroke:black;stroke-width:2\" /><line x1=\"100.001\" y1=\"278.869\" x2=\"105.557\" y2=\"269.246\" stroke-linecap=\"round\" style=\"stroke:black;stroke-width:2\" /><line x1=\"105.557\" y1=\"269.246\" x2=\"116.668\" y2=\"269.246\" stroke-linecap=\"round\" style=\"stroke:black;stroke-width:2\" /><line x1=\"116.668\" y1=\"269.246\" x2=\"111.112\" y2=\"259.623\" stroke-linecap=\"round\" style=\"stroke:black;stroke-width:2\" /><line x1=\"111.112\" y1=\"259.623\" x2=\"116.668\" y2=\"250.0\" stroke-linecap=\"round\" style=\"stroke:black;stroke-width:2\" /><line x1=\"116.668\" y1=\"250.0\" x2=\"127.779\" y2=\"250.0\" stroke-linecap=\"round\" style=\"stroke:black;stroke-width:2\" /><line x1=\"127.779\" y1=\"250.0\" x2=\"133.335\" y2=\"259.623\" stroke-linecap=\"round\" style=\"stroke:black;stroke-width:2\" /><line x1=\"133.335\" y1=\"259.623\" x2=\"138.891\" y2=\"250.0\" stroke-linecap=\"round\" style=\"stroke:black;stroke-width:2\" /><line x1=\"138.891\" y1=\"250.0\" x2=\"150.002\" y2=\"250.0\" stroke-linecap=\"round\" style=\"stroke:black;stroke-width:2\" /><line x1=\"150.002\" y1=\"250.0\" x2=\"155.558\" y2=\"259.623\" stroke-linecap=\"round\" style=\"stroke:black;stroke-width:2\" /><line x1=\"155.558\" y1=\"259.623\" x2=\"150.002\" y2=\"269.246\" stroke-linecap=\"round\" style=\"stroke:black;stroke-width:2\" /><line x1=\"150.002\" y1=\"269.246\" x2=\"161.113\" y2=\"269.246\" stroke-linecap=\"round\" style=\"stroke:black;stroke-width:2\" /><line x1=\"161.113\" y1=\"269.246\" x2=\"166.669\" y2=\"278.869\" stroke-linecap=\"round\" style=\"stroke:black;stroke-width:2\" /><line x1=\"166.669\" y1=\"278.869\" x2=\"161.113\" y2=\"288.492\" stroke-linecap=\"round\" style=\"stroke:black;stroke-width:2\" /><line x1=\"161.113\" y1=\"288.492\" x2=\"150.002\" y2=\"288.492\" stroke-linecap=\"round\" style=\"stroke:black;stroke-width:2\" /><line x1=\"150.002\" y1=\"288.492\" x2=\"155.558\" y2=\"298.115\" stroke-linecap=\"round\" style=\"stroke:black;stroke-width:2\" /><line x1=\"155.558\" y1=\"298.115\" x2=\"150.002\" y2=\"307.738\" stroke-linecap=\"round\" style=\"stroke:black;stroke-width:2\" /><line x1=\"150.002\" y1=\"307.738\" x2=\"161.113\" y2=\"307.738\" stroke-linecap=\"round\" style=\"stroke:black;stroke-width:2\" /><line x1=\"161.113\" y1=\"307.738\" x2=\"166.669\" y2=\"317.361\" stroke-linecap=\"round\" style=\"stroke:black;stroke-width:2\" /><line x1=\"166.669\" y1=\"317.361\" x2=\"172.225\" y2=\"307.738\" stroke-linecap=\"round\" style=\"stroke:black;stroke-width:2\" /><line x1=\"172.225\" y1=\"307.738\" x2=\"183.336\" y2=\"307.738\" stroke-linecap=\"round\" style=\"stroke:black;stroke-width:2\" /><line x1=\"183.336\" y1=\"307.738\" x2=\"188.892\" y2=\"317.361\" stroke-linecap=\"round\" style=\"stroke:black;stroke-width:2\" /><line x1=\"188.892\" y1=\"317.361\" x2=\"183.336\" y2=\"326.984\" stroke-linecap=\"round\" style=\"stroke:black;stroke-width:2\" /><line x1=\"183.336\" y1=\"326.984\" x2=\"194.447\" y2=\"326.984\" stroke-linecap=\"round\" style=\"stroke:black;stroke-width:2\" /><line x1=\"194.447\" y1=\"326.984\" x2=\"200.003\" y2=\"336.607\" stroke-linecap=\"round\" style=\"stroke:black;stroke-width:2\" /><line x1=\"200.003\" y1=\"336.607\" x2=\"205.559\" y2=\"326.984\" stroke-linecap=\"round\" style=\"stroke:black;stroke-width:2\" /><line x1=\"205.559\" y1=\"326.984\" x2=\"216.67\" y2=\"326.984\" stroke-linecap=\"round\" style=\"stroke:black;stroke-width:2\" /><line x1=\"216.67\" y1=\"326.984\" x2=\"211.114\" y2=\"317.361\" stroke-linecap=\"round\" style=\"stroke:black;stroke-width:2\" /><line x1=\"211.114\" y1=\"317.361\" x2=\"216.67\" y2=\"307.738\" stroke-linecap=\"round\" style=\"stroke:black;stroke-width:2\" /><line x1=\"216.67\" y1=\"307.738\" x2=\"227.781\" y2=\"307.738\" stroke-linecap=\"round\" style=\"stroke:black;stroke-width:2\" /><line x1=\"227.781\" y1=\"307.738\" x2=\"233.337\" y2=\"317.361\" stroke-linecap=\"round\" style=\"stroke:black;stroke-width:2\" /><line x1=\"233.337\" y1=\"317.361\" x2=\"238.893\" y2=\"307.738\" stroke-linecap=\"round\" style=\"stroke:black;stroke-width:2\" /><line x1=\"238.893\" y1=\"307.738\" x2=\"250.004\" y2=\"307.738\" stroke-linecap=\"round\" style=\"stroke:black;stroke-width:2\" /><line x1=\"250.004\" y1=\"307.738\" x2=\"244.448\" y2=\"298.115\" stroke-linecap=\"round\" style=\"stroke:black;stroke-width:2\" /><line x1=\"244.448\" y1=\"298.115\" x2=\"250.004\" y2=\"288.492\" stroke-linecap=\"round\" style=\"stroke:black;stroke-width:2\" /><line x1=\"250.004\" y1=\"288.492\" x2=\"238.893\" y2=\"288.492\" stroke-linecap=\"round\" style=\"stroke:black;stroke-width:2\" /><line x1=\"238.893\" y1=\"288.492\" x2=\"233.337\" y2=\"278.869\" stroke-linecap=\"round\" style=\"stroke:black;stroke-width:2\" /><line x1=\"233.337\" y1=\"278.869\" x2=\"238.893\" y2=\"269.246\" stroke-linecap=\"round\" style=\"stroke:black;stroke-width:2\" /><line x1=\"238.893\" y1=\"269.246\" x2=\"250.004\" y2=\"269.246\" stroke-linecap=\"round\" style=\"stroke:black;stroke-width:2\" /><line x1=\"250.004\" y1=\"269.246\" x2=\"244.448\" y2=\"259.623\" stroke-linecap=\"round\" style=\"stroke:black;stroke-width:2\" /><line x1=\"244.448\" y1=\"259.623\" x2=\"250.004\" y2=\"250.0\" stroke-linecap=\"round\" style=\"stroke:black;stroke-width:2\" /><line x1=\"250.004\" y1=\"250.0\" x2=\"261.115\" y2=\"250.0\" stroke-linecap=\"round\" style=\"stroke:black;stroke-width:2\" /><line x1=\"261.115\" y1=\"250.0\" x2=\"266.671\" y2=\"259.623\" stroke-linecap=\"round\" style=\"stroke:black;stroke-width:2\" /><line x1=\"266.671\" y1=\"259.623\" x2=\"272.227\" y2=\"250.0\" stroke-linecap=\"round\" style=\"stroke:black;stroke-width:2\" /><line x1=\"272.227\" y1=\"250.0\" x2=\"283.338\" y2=\"250.0\" stroke-linecap=\"round\" style=\"stroke:black;stroke-width:2\" /><line x1=\"283.338\" y1=\"250.0\" x2=\"288.894\" y2=\"259.623\" stroke-linecap=\"round\" style=\"stroke:black;stroke-width:2\" /><line x1=\"288.894\" y1=\"259.623\" x2=\"283.338\" y2=\"269.246\" stroke-linecap=\"round\" style=\"stroke:black;stroke-width:2\" /><line x1=\"283.338\" y1=\"269.246\" x2=\"294.449\" y2=\"269.246\" stroke-linecap=\"round\" style=\"stroke:black;stroke-width:2\" /><line x1=\"294.449\" y1=\"269.246\" x2=\"300.005\" y2=\"278.869\" stroke-linecap=\"round\" style=\"stroke:black;stroke-width:2\" /><line x1=\"300.005\" y1=\"278.869\" x2=\"305.561\" y2=\"269.246\" stroke-linecap=\"round\" style=\"stroke:black;stroke-width:2\" /><line x1=\"305.561\" y1=\"269.246\" x2=\"316.672\" y2=\"269.246\" stroke-linecap=\"round\" style=\"stroke:black;stroke-width:2\" /><line x1=\"316.672\" y1=\"269.246\" x2=\"311.116\" y2=\"259.623\" stroke-linecap=\"round\" style=\"stroke:black;stroke-width:2\" /><line x1=\"311.116\" y1=\"259.623\" x2=\"316.672\" y2=\"250.0\" stroke-linecap=\"round\" style=\"stroke:black;stroke-width:2\" /><line x1=\"316.672\" y1=\"250.0\" x2=\"327.783\" y2=\"250.0\" stroke-linecap=\"round\" style=\"stroke:black;stroke-width:2\" /><line x1=\"327.783\" y1=\"250.0\" x2=\"333.339\" y2=\"259.623\" stroke-linecap=\"round\" style=\"stroke:black;stroke-width:2\" /><line x1=\"333.339\" y1=\"259.623\" x2=\"338.895\" y2=\"250.0\" stroke-linecap=\"round\" style=\"stroke:black;stroke-width:2\" /><line x1=\"338.895\" y1=\"250.0\" x2=\"348.895\" y2=\"250.0\" stroke-linecap=\"round\" style=\"stroke:black;stroke-width:2\" /><line x1=\"348.895\" y1=\"250.0\" x2=\"350.00611111111107\" y2=\"250.0\" stroke-linecap=\"round\" style=\"stroke:black;stroke-width:2\" />\n",
              "        \n",
              "        \n",
              "        <g id=\"turtle2\" visibility=\"visible\" transform=\"rotate(-90,350.00611111111107,250.0) translate(350.00611111111107, 250.0)\">\n",
              "<polygon points=\"0,16 2,14 1,10 4,7 7,9 9,8 6,5 7,1 5,-3 8,-6 6,-8 4,-5 0,-7 -4,-5 -6,-8 -8,-6 -5,-3 -7,1 -6,5 -9,8 -7,9 -4,7 -1,10 -2,14\" transform=\"skewX(0) scale(1,1)\" style=\"stroke:black;stroke-width:1;fill:black\" />\n",
              "</g>\n",
              "      </svg>\n",
              "    "
            ]
          },
          "metadata": {}
        }
      ]
    },
    {
      "cell_type": "markdown",
      "source": [
        "### <font color= \"salmon\"> Hints for  flakeside\n",
        "\n",
        "\n",
        "\n",
        "- A base-case Koch snowflake side is simply a straight line of length `sidelength`!\n",
        "- Other than the base case, you should never draw a line directly. Instead, use a recursive call to `flakeside`.\n",
        "- Each recursive level replaces the _middle third_ of the snowflake's side with a \"bump,\" i.e., two sides that would be part of a one-third-scale equilateral triangle.\n",
        "- Notice there are four _sub-sides_ to each flake side. This means that `flakeside` will call itself recursively ___four times___!\n",
        "- At the three spots _between_ those four calls, there will be an appropriate turn...\n",
        "- Thus, the recursive case will include seven total lines (4 recursions and three turns)."
      ],
      "metadata": {
        "id": "NhV44qPTSrrh"
      }
    },
    {
      "cell_type": "markdown",
      "source": [
        "#### **Calls to try...**\n",
        "\n",
        "- Try `flakeside(300, 0)`—make sure you get a straight line\n",
        "- Try `flakeside(300, 1)`—make sure you get a four-segment contour\n",
        "- Try `flakeside(300, 2)`—make sure you get four \"level-1\" flakesides\n",
        "- Try `flakeside(300, 3)`—pretty! and pretty cool! Olaf approves.\n",
        "\n",
        "\n",
        "Remember that `flakeside` is creating ___only one___ of the three sides of the snowflake!\n",
        "\n",
        "- Because of this, it does __not__ have to end in the same location as it begins.\n",
        "- After all, if it did, all three sides of the overall snowflake would be on top of one another."
      ],
      "metadata": {
        "id": "UYKpOVENTG61"
      }
    },
    {
      "cell_type": "markdown",
      "source": [
        "### From `flakeside` to `snowflake`\n",
        "\n",
        "Once your `flakeside` function works, try out `snowflake`!\n",
        "\n",
        "- The `snowflake` function simply calls `flakeside` three times.\n",
        "- Depending on the directions that `flakeside` uses, you may need to change the `left`s in `snowflake` to `right`s.\n",
        "- Examples to try might include `snowflake(300, 2)` and `snowflake(300, 3)`\n",
        "\n",
        "Like `svtree`, if you are having trouble seeing everything you may need to move the turtle at the beginning. Try:\n",
        "```\n",
        "t.penup()\n",
        "t.setposition(x, y)\n",
        "t.pendown()\n",
        "```\n",
        "Put the coordinates you want into `setposition`. Note that `(0, 0)` is the upper left corner.\n",
        "\n",
        "Here are images of four different values of `levels` for a snowflake, `0`, `1`, `2`, and `3`:\n",
        "\n",
        "\n",
        "<img src = \"http://www.cs.hmc.edu/~cs5grad/cs5/koch.png\" height=\"442px\">\n",
        "\n",
        "\n",
        "Consider the following script:\n",
        "```\n",
        "t.penup()\n",
        "t.goto(-200,-100)  # move the pen to a \"southwest\" corner...\n",
        "t.pendown()\n",
        "snowflake(300,2)   # two recursive levels deep!\n",
        "```\n",
        "Here's an in-progress run from this script:\n",
        "\n",
        "<img src = \"https://www.cs.hmc.edu/twiki/pub/CS5Fall2022/Lab2Turtle/snowflake_partial.png\" height=\"442px\">\n",
        "\n",
        "Try it here:\n",
        "\n",
        "\n",
        "\n",
        "\n"
      ],
      "metadata": {
        "id": "Tq1S1_iKTg4b"
      }
    },
    {
      "cell_type": "code",
      "source": [
        "#\n",
        "# Drawing the Koch snowflake\n",
        "#\n",
        "\n",
        "t.clearscreen()      # it's good to start every cell with this\n",
        "t.setup(500,500)     # setup the drawing area to be 500 pixels x 500 pixels\n",
        "t.showborder()       # show the border of the drawing area\n",
        "\n",
        "t.bgcolor(\"AliceBlue\")   # adjust to your preferences!\n",
        "t.shape(\"turtle2\")\n",
        "t.speed(100)\n",
        "t.width(2)\n",
        "\n",
        "\n",
        "\n",
        "# You'll need both the snowflake function (provided) and flakeside, which you will have written:\n",
        "\n",
        "t.penup()\n",
        "t.goto(-200,-100)  # move the pen to a \"southwest\" corner...\n",
        "t.pendown()\n",
        "\n",
        "snowflake(300,4)   # two recursive levels deep!\n",
        "\n",
        "#\n",
        "# Try three - or four - levels, as well."
      ],
      "metadata": {
        "id": "6HrMaSOH-0rP",
        "colab": {
          "base_uri": "https://localhost:8080/",
          "height": 521
        },
        "outputId": "466dfe08-734b-481c-9731-6068abc92b55"
      },
      "execution_count": 73,
      "outputs": [
        {
          "output_type": "display_data",
          "data": {
            "text/plain": [
              "<IPython.core.display.HTML object>"
            ],
            "text/html": [
              "\n",
              "      <svg width=\"500\" height=\"500\">  \n",
              "        <rect width=\"100%\" height=\"100%\" style=\"fill:aliceblue;stroke:gray;stroke-width:1\"/>\n",
              "        \n",
              "        \n",
              "        <line x1=\"50.0\" y1=\"350.0\" x2=\"53.704\" y2=\"350.0\" stroke-linecap=\"round\" style=\"stroke:black;stroke-width:2\" /><line x1=\"53.704\" y1=\"350.0\" x2=\"55.556\" y2=\"353.208\" stroke-linecap=\"round\" style=\"stroke:black;stroke-width:2\" /><line x1=\"55.556\" y1=\"353.208\" x2=\"57.408\" y2=\"350.0\" stroke-linecap=\"round\" style=\"stroke:black;stroke-width:2\" /><line x1=\"57.408\" y1=\"350.0\" x2=\"61.112\" y2=\"350.0\" stroke-linecap=\"round\" style=\"stroke:black;stroke-width:2\" /><line x1=\"61.112\" y1=\"350.0\" x2=\"62.964\" y2=\"353.208\" stroke-linecap=\"round\" style=\"stroke:black;stroke-width:2\" /><line x1=\"62.964\" y1=\"353.208\" x2=\"61.112\" y2=\"356.416\" stroke-linecap=\"round\" style=\"stroke:black;stroke-width:2\" /><line x1=\"61.112\" y1=\"356.416\" x2=\"64.816\" y2=\"356.416\" stroke-linecap=\"round\" style=\"stroke:black;stroke-width:2\" /><line x1=\"64.816\" y1=\"356.416\" x2=\"66.668\" y2=\"359.624\" stroke-linecap=\"round\" style=\"stroke:black;stroke-width:2\" /><line x1=\"66.668\" y1=\"359.624\" x2=\"68.52\" y2=\"356.416\" stroke-linecap=\"round\" style=\"stroke:black;stroke-width:2\" /><line x1=\"68.52\" y1=\"356.416\" x2=\"72.224\" y2=\"356.416\" stroke-linecap=\"round\" style=\"stroke:black;stroke-width:2\" /><line x1=\"72.224\" y1=\"356.416\" x2=\"70.372\" y2=\"353.208\" stroke-linecap=\"round\" style=\"stroke:black;stroke-width:2\" /><line x1=\"70.372\" y1=\"353.208\" x2=\"72.224\" y2=\"350.0\" stroke-linecap=\"round\" style=\"stroke:black;stroke-width:2\" /><line x1=\"72.224\" y1=\"350.0\" x2=\"75.928\" y2=\"350.0\" stroke-linecap=\"round\" style=\"stroke:black;stroke-width:2\" /><line x1=\"75.928\" y1=\"350.0\" x2=\"77.78\" y2=\"353.208\" stroke-linecap=\"round\" style=\"stroke:black;stroke-width:2\" /><line x1=\"77.78\" y1=\"353.208\" x2=\"79.632\" y2=\"350.0\" stroke-linecap=\"round\" style=\"stroke:black;stroke-width:2\" /><line x1=\"79.632\" y1=\"350.0\" x2=\"83.336\" y2=\"350.0\" stroke-linecap=\"round\" style=\"stroke:black;stroke-width:2\" /><line x1=\"83.336\" y1=\"350.0\" x2=\"85.188\" y2=\"353.208\" stroke-linecap=\"round\" style=\"stroke:black;stroke-width:2\" /><line x1=\"85.188\" y1=\"353.208\" x2=\"83.336\" y2=\"356.416\" stroke-linecap=\"round\" style=\"stroke:black;stroke-width:2\" /><line x1=\"83.336\" y1=\"356.416\" x2=\"87.04\" y2=\"356.416\" stroke-linecap=\"round\" style=\"stroke:black;stroke-width:2\" /><line x1=\"87.04\" y1=\"356.416\" x2=\"88.892\" y2=\"359.624\" stroke-linecap=\"round\" style=\"stroke:black;stroke-width:2\" /><line x1=\"88.892\" y1=\"359.624\" x2=\"87.04\" y2=\"362.832\" stroke-linecap=\"round\" style=\"stroke:black;stroke-width:2\" /><line x1=\"87.04\" y1=\"362.832\" x2=\"83.336\" y2=\"362.832\" stroke-linecap=\"round\" style=\"stroke:black;stroke-width:2\" /><line x1=\"83.336\" y1=\"362.832\" x2=\"85.188\" y2=\"366.04\" stroke-linecap=\"round\" style=\"stroke:black;stroke-width:2\" /><line x1=\"85.188\" y1=\"366.04\" x2=\"83.336\" y2=\"369.248\" stroke-linecap=\"round\" style=\"stroke:black;stroke-width:2\" /><line x1=\"83.336\" y1=\"369.248\" x2=\"87.04\" y2=\"369.248\" stroke-linecap=\"round\" style=\"stroke:black;stroke-width:2\" /><line x1=\"87.04\" y1=\"369.248\" x2=\"88.892\" y2=\"372.456\" stroke-linecap=\"round\" style=\"stroke:black;stroke-width:2\" /><line x1=\"88.892\" y1=\"372.456\" x2=\"90.744\" y2=\"369.248\" stroke-linecap=\"round\" style=\"stroke:black;stroke-width:2\" /><line x1=\"90.744\" y1=\"369.248\" x2=\"94.448\" y2=\"369.248\" stroke-linecap=\"round\" style=\"stroke:black;stroke-width:2\" /><line x1=\"94.448\" y1=\"369.248\" x2=\"96.3\" y2=\"372.456\" stroke-linecap=\"round\" style=\"stroke:black;stroke-width:2\" /><line x1=\"96.3\" y1=\"372.456\" x2=\"94.448\" y2=\"375.664\" stroke-linecap=\"round\" style=\"stroke:black;stroke-width:2\" /><line x1=\"94.448\" y1=\"375.664\" x2=\"98.152\" y2=\"375.664\" stroke-linecap=\"round\" style=\"stroke:black;stroke-width:2\" /><line x1=\"98.152\" y1=\"375.664\" x2=\"100.004\" y2=\"378.872\" stroke-linecap=\"round\" style=\"stroke:black;stroke-width:2\" /><line x1=\"100.004\" y1=\"378.872\" x2=\"101.856\" y2=\"375.664\" stroke-linecap=\"round\" style=\"stroke:black;stroke-width:2\" /><line x1=\"101.856\" y1=\"375.664\" x2=\"105.56\" y2=\"375.664\" stroke-linecap=\"round\" style=\"stroke:black;stroke-width:2\" /><line x1=\"105.56\" y1=\"375.664\" x2=\"103.708\" y2=\"372.456\" stroke-linecap=\"round\" style=\"stroke:black;stroke-width:2\" /><line x1=\"103.708\" y1=\"372.456\" x2=\"105.56\" y2=\"369.248\" stroke-linecap=\"round\" style=\"stroke:black;stroke-width:2\" /><line x1=\"105.56\" y1=\"369.248\" x2=\"109.264\" y2=\"369.248\" stroke-linecap=\"round\" style=\"stroke:black;stroke-width:2\" /><line x1=\"109.264\" y1=\"369.248\" x2=\"111.116\" y2=\"372.456\" stroke-linecap=\"round\" style=\"stroke:black;stroke-width:2\" /><line x1=\"111.116\" y1=\"372.456\" x2=\"112.968\" y2=\"369.248\" stroke-linecap=\"round\" style=\"stroke:black;stroke-width:2\" /><line x1=\"112.968\" y1=\"369.248\" x2=\"116.672\" y2=\"369.248\" stroke-linecap=\"round\" style=\"stroke:black;stroke-width:2\" /><line x1=\"116.672\" y1=\"369.248\" x2=\"114.82\" y2=\"366.04\" stroke-linecap=\"round\" style=\"stroke:black;stroke-width:2\" /><line x1=\"114.82\" y1=\"366.04\" x2=\"116.672\" y2=\"362.832\" stroke-linecap=\"round\" style=\"stroke:black;stroke-width:2\" /><line x1=\"116.672\" y1=\"362.832\" x2=\"112.968\" y2=\"362.832\" stroke-linecap=\"round\" style=\"stroke:black;stroke-width:2\" /><line x1=\"112.968\" y1=\"362.832\" x2=\"111.116\" y2=\"359.624\" stroke-linecap=\"round\" style=\"stroke:black;stroke-width:2\" /><line x1=\"111.116\" y1=\"359.624\" x2=\"112.968\" y2=\"356.416\" stroke-linecap=\"round\" style=\"stroke:black;stroke-width:2\" /><line x1=\"112.968\" y1=\"356.416\" x2=\"116.672\" y2=\"356.416\" stroke-linecap=\"round\" style=\"stroke:black;stroke-width:2\" /><line x1=\"116.672\" y1=\"356.416\" x2=\"114.82\" y2=\"353.208\" stroke-linecap=\"round\" style=\"stroke:black;stroke-width:2\" /><line x1=\"114.82\" y1=\"353.208\" x2=\"116.672\" y2=\"350.0\" stroke-linecap=\"round\" style=\"stroke:black;stroke-width:2\" /><line x1=\"116.672\" y1=\"350.0\" x2=\"120.376\" y2=\"350.0\" stroke-linecap=\"round\" style=\"stroke:black;stroke-width:2\" /><line x1=\"120.376\" y1=\"350.0\" x2=\"122.228\" y2=\"353.208\" stroke-linecap=\"round\" style=\"stroke:black;stroke-width:2\" /><line x1=\"122.228\" y1=\"353.208\" x2=\"124.08\" y2=\"350.0\" stroke-linecap=\"round\" style=\"stroke:black;stroke-width:2\" /><line x1=\"124.08\" y1=\"350.0\" x2=\"127.784\" y2=\"350.0\" stroke-linecap=\"round\" style=\"stroke:black;stroke-width:2\" /><line x1=\"127.784\" y1=\"350.0\" x2=\"129.636\" y2=\"353.208\" stroke-linecap=\"round\" style=\"stroke:black;stroke-width:2\" /><line x1=\"129.636\" y1=\"353.208\" x2=\"127.784\" y2=\"356.416\" stroke-linecap=\"round\" style=\"stroke:black;stroke-width:2\" /><line x1=\"127.784\" y1=\"356.416\" x2=\"131.488\" y2=\"356.416\" stroke-linecap=\"round\" style=\"stroke:black;stroke-width:2\" /><line x1=\"131.488\" y1=\"356.416\" x2=\"133.34\" y2=\"359.624\" stroke-linecap=\"round\" style=\"stroke:black;stroke-width:2\" /><line x1=\"133.34\" y1=\"359.624\" x2=\"135.192\" y2=\"356.416\" stroke-linecap=\"round\" style=\"stroke:black;stroke-width:2\" /><line x1=\"135.192\" y1=\"356.416\" x2=\"138.896\" y2=\"356.416\" stroke-linecap=\"round\" style=\"stroke:black;stroke-width:2\" /><line x1=\"138.896\" y1=\"356.416\" x2=\"137.044\" y2=\"353.208\" stroke-linecap=\"round\" style=\"stroke:black;stroke-width:2\" /><line x1=\"137.044\" y1=\"353.208\" x2=\"138.896\" y2=\"350.0\" stroke-linecap=\"round\" style=\"stroke:black;stroke-width:2\" /><line x1=\"138.896\" y1=\"350.0\" x2=\"142.6\" y2=\"350.0\" stroke-linecap=\"round\" style=\"stroke:black;stroke-width:2\" /><line x1=\"142.6\" y1=\"350.0\" x2=\"144.452\" y2=\"353.208\" stroke-linecap=\"round\" style=\"stroke:black;stroke-width:2\" /><line x1=\"144.452\" y1=\"353.208\" x2=\"146.304\" y2=\"350.0\" stroke-linecap=\"round\" style=\"stroke:black;stroke-width:2\" /><line x1=\"146.304\" y1=\"350.0\" x2=\"150.008\" y2=\"350.0\" stroke-linecap=\"round\" style=\"stroke:black;stroke-width:2\" /><line x1=\"150.008\" y1=\"350.0\" x2=\"151.86\" y2=\"353.208\" stroke-linecap=\"round\" style=\"stroke:black;stroke-width:2\" /><line x1=\"151.86\" y1=\"353.208\" x2=\"150.008\" y2=\"356.416\" stroke-linecap=\"round\" style=\"stroke:black;stroke-width:2\" /><line x1=\"150.008\" y1=\"356.416\" x2=\"153.712\" y2=\"356.416\" stroke-linecap=\"round\" style=\"stroke:black;stroke-width:2\" /><line x1=\"153.712\" y1=\"356.416\" x2=\"155.564\" y2=\"359.624\" stroke-linecap=\"round\" style=\"stroke:black;stroke-width:2\" /><line x1=\"155.564\" y1=\"359.624\" x2=\"153.712\" y2=\"362.832\" stroke-linecap=\"round\" style=\"stroke:black;stroke-width:2\" /><line x1=\"153.712\" y1=\"362.832\" x2=\"150.008\" y2=\"362.832\" stroke-linecap=\"round\" style=\"stroke:black;stroke-width:2\" /><line x1=\"150.008\" y1=\"362.832\" x2=\"151.86\" y2=\"366.04\" stroke-linecap=\"round\" style=\"stroke:black;stroke-width:2\" /><line x1=\"151.86\" y1=\"366.04\" x2=\"150.008\" y2=\"369.248\" stroke-linecap=\"round\" style=\"stroke:black;stroke-width:2\" /><line x1=\"150.008\" y1=\"369.248\" x2=\"153.712\" y2=\"369.248\" stroke-linecap=\"round\" style=\"stroke:black;stroke-width:2\" /><line x1=\"153.712\" y1=\"369.248\" x2=\"155.564\" y2=\"372.456\" stroke-linecap=\"round\" style=\"stroke:black;stroke-width:2\" /><line x1=\"155.564\" y1=\"372.456\" x2=\"157.416\" y2=\"369.248\" stroke-linecap=\"round\" style=\"stroke:black;stroke-width:2\" /><line x1=\"157.416\" y1=\"369.248\" x2=\"161.12\" y2=\"369.248\" stroke-linecap=\"round\" style=\"stroke:black;stroke-width:2\" /><line x1=\"161.12\" y1=\"369.248\" x2=\"162.972\" y2=\"372.456\" stroke-linecap=\"round\" style=\"stroke:black;stroke-width:2\" /><line x1=\"162.972\" y1=\"372.456\" x2=\"161.12\" y2=\"375.664\" stroke-linecap=\"round\" style=\"stroke:black;stroke-width:2\" /><line x1=\"161.12\" y1=\"375.664\" x2=\"164.824\" y2=\"375.664\" stroke-linecap=\"round\" style=\"stroke:black;stroke-width:2\" /><line x1=\"164.824\" y1=\"375.664\" x2=\"166.676\" y2=\"378.872\" stroke-linecap=\"round\" style=\"stroke:black;stroke-width:2\" /><line x1=\"166.676\" y1=\"378.872\" x2=\"164.824\" y2=\"382.08\" stroke-linecap=\"round\" style=\"stroke:black;stroke-width:2\" /><line x1=\"164.824\" y1=\"382.08\" x2=\"161.12\" y2=\"382.08\" stroke-linecap=\"round\" style=\"stroke:black;stroke-width:2\" /><line x1=\"161.12\" y1=\"382.08\" x2=\"162.972\" y2=\"385.288\" stroke-linecap=\"round\" style=\"stroke:black;stroke-width:2\" /><line x1=\"162.972\" y1=\"385.288\" x2=\"161.12\" y2=\"388.496\" stroke-linecap=\"round\" style=\"stroke:black;stroke-width:2\" /><line x1=\"161.12\" y1=\"388.496\" x2=\"157.416\" y2=\"388.496\" stroke-linecap=\"round\" style=\"stroke:black;stroke-width:2\" /><line x1=\"157.416\" y1=\"388.496\" x2=\"155.564\" y2=\"385.288\" stroke-linecap=\"round\" style=\"stroke:black;stroke-width:2\" /><line x1=\"155.564\" y1=\"385.288\" x2=\"153.712\" y2=\"388.496\" stroke-linecap=\"round\" style=\"stroke:black;stroke-width:2\" /><line x1=\"153.712\" y1=\"388.496\" x2=\"150.008\" y2=\"388.496\" stroke-linecap=\"round\" style=\"stroke:black;stroke-width:2\" /><line x1=\"150.008\" y1=\"388.496\" x2=\"151.86\" y2=\"391.704\" stroke-linecap=\"round\" style=\"stroke:black;stroke-width:2\" /><line x1=\"151.86\" y1=\"391.704\" x2=\"150.008\" y2=\"394.912\" stroke-linecap=\"round\" style=\"stroke:black;stroke-width:2\" /><line x1=\"150.008\" y1=\"394.912\" x2=\"153.712\" y2=\"394.912\" stroke-linecap=\"round\" style=\"stroke:black;stroke-width:2\" /><line x1=\"153.712\" y1=\"394.912\" x2=\"155.564\" y2=\"398.12\" stroke-linecap=\"round\" style=\"stroke:black;stroke-width:2\" /><line x1=\"155.564\" y1=\"398.12\" x2=\"153.712\" y2=\"401.328\" stroke-linecap=\"round\" style=\"stroke:black;stroke-width:2\" /><line x1=\"153.712\" y1=\"401.328\" x2=\"150.008\" y2=\"401.328\" stroke-linecap=\"round\" style=\"stroke:black;stroke-width:2\" /><line x1=\"150.008\" y1=\"401.328\" x2=\"151.86\" y2=\"404.536\" stroke-linecap=\"round\" style=\"stroke:black;stroke-width:2\" /><line x1=\"151.86\" y1=\"404.536\" x2=\"150.008\" y2=\"407.744\" stroke-linecap=\"round\" style=\"stroke:black;stroke-width:2\" /><line x1=\"150.008\" y1=\"407.744\" x2=\"153.712\" y2=\"407.744\" stroke-linecap=\"round\" style=\"stroke:black;stroke-width:2\" /><line x1=\"153.712\" y1=\"407.744\" x2=\"155.564\" y2=\"410.952\" stroke-linecap=\"round\" style=\"stroke:black;stroke-width:2\" /><line x1=\"155.564\" y1=\"410.952\" x2=\"157.416\" y2=\"407.744\" stroke-linecap=\"round\" style=\"stroke:black;stroke-width:2\" /><line x1=\"157.416\" y1=\"407.744\" x2=\"161.12\" y2=\"407.744\" stroke-linecap=\"round\" style=\"stroke:black;stroke-width:2\" /><line x1=\"161.12\" y1=\"407.744\" x2=\"162.972\" y2=\"410.952\" stroke-linecap=\"round\" style=\"stroke:black;stroke-width:2\" /><line x1=\"162.972\" y1=\"410.952\" x2=\"161.12\" y2=\"414.16\" stroke-linecap=\"round\" style=\"stroke:black;stroke-width:2\" /><line x1=\"161.12\" y1=\"414.16\" x2=\"164.824\" y2=\"414.16\" stroke-linecap=\"round\" style=\"stroke:black;stroke-width:2\" /><line x1=\"164.824\" y1=\"414.16\" x2=\"166.676\" y2=\"417.368\" stroke-linecap=\"round\" style=\"stroke:black;stroke-width:2\" /><line x1=\"166.676\" y1=\"417.368\" x2=\"168.528\" y2=\"414.16\" stroke-linecap=\"round\" style=\"stroke:black;stroke-width:2\" /><line x1=\"168.528\" y1=\"414.16\" x2=\"172.232\" y2=\"414.16\" stroke-linecap=\"round\" style=\"stroke:black;stroke-width:2\" /><line x1=\"172.232\" y1=\"414.16\" x2=\"170.38\" y2=\"410.952\" stroke-linecap=\"round\" style=\"stroke:black;stroke-width:2\" /><line x1=\"170.38\" y1=\"410.952\" x2=\"172.232\" y2=\"407.744\" stroke-linecap=\"round\" style=\"stroke:black;stroke-width:2\" /><line x1=\"172.232\" y1=\"407.744\" x2=\"175.936\" y2=\"407.744\" stroke-linecap=\"round\" style=\"stroke:black;stroke-width:2\" /><line x1=\"175.936\" y1=\"407.744\" x2=\"177.788\" y2=\"410.952\" stroke-linecap=\"round\" style=\"stroke:black;stroke-width:2\" /><line x1=\"177.788\" y1=\"410.952\" x2=\"179.64\" y2=\"407.744\" stroke-linecap=\"round\" style=\"stroke:black;stroke-width:2\" /><line x1=\"179.64\" y1=\"407.744\" x2=\"183.344\" y2=\"407.744\" stroke-linecap=\"round\" style=\"stroke:black;stroke-width:2\" /><line x1=\"183.344\" y1=\"407.744\" x2=\"185.196\" y2=\"410.952\" stroke-linecap=\"round\" style=\"stroke:black;stroke-width:2\" /><line x1=\"185.196\" y1=\"410.952\" x2=\"183.344\" y2=\"414.16\" stroke-linecap=\"round\" style=\"stroke:black;stroke-width:2\" /><line x1=\"183.344\" y1=\"414.16\" x2=\"187.048\" y2=\"414.16\" stroke-linecap=\"round\" style=\"stroke:black;stroke-width:2\" /><line x1=\"187.048\" y1=\"414.16\" x2=\"188.9\" y2=\"417.368\" stroke-linecap=\"round\" style=\"stroke:black;stroke-width:2\" /><line x1=\"188.9\" y1=\"417.368\" x2=\"187.048\" y2=\"420.576\" stroke-linecap=\"round\" style=\"stroke:black;stroke-width:2\" /><line x1=\"187.048\" y1=\"420.576\" x2=\"183.344\" y2=\"420.576\" stroke-linecap=\"round\" style=\"stroke:black;stroke-width:2\" /><line x1=\"183.344\" y1=\"420.576\" x2=\"185.196\" y2=\"423.784\" stroke-linecap=\"round\" style=\"stroke:black;stroke-width:2\" /><line x1=\"185.196\" y1=\"423.784\" x2=\"183.344\" y2=\"426.992\" stroke-linecap=\"round\" style=\"stroke:black;stroke-width:2\" /><line x1=\"183.344\" y1=\"426.992\" x2=\"187.048\" y2=\"426.992\" stroke-linecap=\"round\" style=\"stroke:black;stroke-width:2\" /><line x1=\"187.048\" y1=\"426.992\" x2=\"188.9\" y2=\"430.2\" stroke-linecap=\"round\" style=\"stroke:black;stroke-width:2\" /><line x1=\"188.9\" y1=\"430.2\" x2=\"190.752\" y2=\"426.992\" stroke-linecap=\"round\" style=\"stroke:black;stroke-width:2\" /><line x1=\"190.752\" y1=\"426.992\" x2=\"194.456\" y2=\"426.992\" stroke-linecap=\"round\" style=\"stroke:black;stroke-width:2\" /><line x1=\"194.456\" y1=\"426.992\" x2=\"196.308\" y2=\"430.2\" stroke-linecap=\"round\" style=\"stroke:black;stroke-width:2\" /><line x1=\"196.308\" y1=\"430.2\" x2=\"194.456\" y2=\"433.408\" stroke-linecap=\"round\" style=\"stroke:black;stroke-width:2\" /><line x1=\"194.456\" y1=\"433.408\" x2=\"198.16\" y2=\"433.408\" stroke-linecap=\"round\" style=\"stroke:black;stroke-width:2\" /><line x1=\"198.16\" y1=\"433.408\" x2=\"200.012\" y2=\"436.616\" stroke-linecap=\"round\" style=\"stroke:black;stroke-width:2\" /><line x1=\"200.012\" y1=\"436.616\" x2=\"201.864\" y2=\"433.408\" stroke-linecap=\"round\" style=\"stroke:black;stroke-width:2\" /><line x1=\"201.864\" y1=\"433.408\" x2=\"205.568\" y2=\"433.408\" stroke-linecap=\"round\" style=\"stroke:black;stroke-width:2\" /><line x1=\"205.568\" y1=\"433.408\" x2=\"203.716\" y2=\"430.2\" stroke-linecap=\"round\" style=\"stroke:black;stroke-width:2\" /><line x1=\"203.716\" y1=\"430.2\" x2=\"205.568\" y2=\"426.992\" stroke-linecap=\"round\" style=\"stroke:black;stroke-width:2\" /><line x1=\"205.568\" y1=\"426.992\" x2=\"209.272\" y2=\"426.992\" stroke-linecap=\"round\" style=\"stroke:black;stroke-width:2\" /><line x1=\"209.272\" y1=\"426.992\" x2=\"211.124\" y2=\"430.2\" stroke-linecap=\"round\" style=\"stroke:black;stroke-width:2\" /><line x1=\"211.124\" y1=\"430.2\" x2=\"212.976\" y2=\"426.992\" stroke-linecap=\"round\" style=\"stroke:black;stroke-width:2\" /><line x1=\"212.976\" y1=\"426.992\" x2=\"216.68\" y2=\"426.992\" stroke-linecap=\"round\" style=\"stroke:black;stroke-width:2\" /><line x1=\"216.68\" y1=\"426.992\" x2=\"214.828\" y2=\"423.784\" stroke-linecap=\"round\" style=\"stroke:black;stroke-width:2\" /><line x1=\"214.828\" y1=\"423.784\" x2=\"216.68\" y2=\"420.576\" stroke-linecap=\"round\" style=\"stroke:black;stroke-width:2\" /><line x1=\"216.68\" y1=\"420.576\" x2=\"212.976\" y2=\"420.576\" stroke-linecap=\"round\" style=\"stroke:black;stroke-width:2\" /><line x1=\"212.976\" y1=\"420.576\" x2=\"211.124\" y2=\"417.368\" stroke-linecap=\"round\" style=\"stroke:black;stroke-width:2\" /><line x1=\"211.124\" y1=\"417.368\" x2=\"212.976\" y2=\"414.16\" stroke-linecap=\"round\" style=\"stroke:black;stroke-width:2\" /><line x1=\"212.976\" y1=\"414.16\" x2=\"216.68\" y2=\"414.16\" stroke-linecap=\"round\" style=\"stroke:black;stroke-width:2\" /><line x1=\"216.68\" y1=\"414.16\" x2=\"214.828\" y2=\"410.952\" stroke-linecap=\"round\" style=\"stroke:black;stroke-width:2\" /><line x1=\"214.828\" y1=\"410.952\" x2=\"216.68\" y2=\"407.744\" stroke-linecap=\"round\" style=\"stroke:black;stroke-width:2\" /><line x1=\"216.68\" y1=\"407.744\" x2=\"220.384\" y2=\"407.744\" stroke-linecap=\"round\" style=\"stroke:black;stroke-width:2\" /><line x1=\"220.384\" y1=\"407.744\" x2=\"222.236\" y2=\"410.952\" stroke-linecap=\"round\" style=\"stroke:black;stroke-width:2\" /><line x1=\"222.236\" y1=\"410.952\" x2=\"224.088\" y2=\"407.744\" stroke-linecap=\"round\" style=\"stroke:black;stroke-width:2\" /><line x1=\"224.088\" y1=\"407.744\" x2=\"227.792\" y2=\"407.744\" stroke-linecap=\"round\" style=\"stroke:black;stroke-width:2\" /><line x1=\"227.792\" y1=\"407.744\" x2=\"229.644\" y2=\"410.952\" stroke-linecap=\"round\" style=\"stroke:black;stroke-width:2\" /><line x1=\"229.644\" y1=\"410.952\" x2=\"227.792\" y2=\"414.16\" stroke-linecap=\"round\" style=\"stroke:black;stroke-width:2\" /><line x1=\"227.792\" y1=\"414.16\" x2=\"231.496\" y2=\"414.16\" stroke-linecap=\"round\" style=\"stroke:black;stroke-width:2\" /><line x1=\"231.496\" y1=\"414.16\" x2=\"233.348\" y2=\"417.368\" stroke-linecap=\"round\" style=\"stroke:black;stroke-width:2\" /><line x1=\"233.348\" y1=\"417.368\" x2=\"235.2\" y2=\"414.16\" stroke-linecap=\"round\" style=\"stroke:black;stroke-width:2\" /><line x1=\"235.2\" y1=\"414.16\" x2=\"238.904\" y2=\"414.16\" stroke-linecap=\"round\" style=\"stroke:black;stroke-width:2\" /><line x1=\"238.904\" y1=\"414.16\" x2=\"237.052\" y2=\"410.952\" stroke-linecap=\"round\" style=\"stroke:black;stroke-width:2\" /><line x1=\"237.052\" y1=\"410.952\" x2=\"238.904\" y2=\"407.744\" stroke-linecap=\"round\" style=\"stroke:black;stroke-width:2\" /><line x1=\"238.904\" y1=\"407.744\" x2=\"242.608\" y2=\"407.744\" stroke-linecap=\"round\" style=\"stroke:black;stroke-width:2\" /><line x1=\"242.608\" y1=\"407.744\" x2=\"244.46\" y2=\"410.952\" stroke-linecap=\"round\" style=\"stroke:black;stroke-width:2\" /><line x1=\"244.46\" y1=\"410.952\" x2=\"246.312\" y2=\"407.744\" stroke-linecap=\"round\" style=\"stroke:black;stroke-width:2\" /><line x1=\"246.312\" y1=\"407.744\" x2=\"250.016\" y2=\"407.744\" stroke-linecap=\"round\" style=\"stroke:black;stroke-width:2\" /><line x1=\"250.016\" y1=\"407.744\" x2=\"248.164\" y2=\"404.536\" stroke-linecap=\"round\" style=\"stroke:black;stroke-width:2\" /><line x1=\"248.164\" y1=\"404.536\" x2=\"250.016\" y2=\"401.328\" stroke-linecap=\"round\" style=\"stroke:black;stroke-width:2\" /><line x1=\"250.016\" y1=\"401.328\" x2=\"246.312\" y2=\"401.328\" stroke-linecap=\"round\" style=\"stroke:black;stroke-width:2\" /><line x1=\"246.312\" y1=\"401.328\" x2=\"244.46\" y2=\"398.12\" stroke-linecap=\"round\" style=\"stroke:black;stroke-width:2\" /><line x1=\"244.46\" y1=\"398.12\" x2=\"246.312\" y2=\"394.912\" stroke-linecap=\"round\" style=\"stroke:black;stroke-width:2\" /><line x1=\"246.312\" y1=\"394.912\" x2=\"250.016\" y2=\"394.912\" stroke-linecap=\"round\" style=\"stroke:black;stroke-width:2\" /><line x1=\"250.016\" y1=\"394.912\" x2=\"248.164\" y2=\"391.704\" stroke-linecap=\"round\" style=\"stroke:black;stroke-width:2\" /><line x1=\"248.164\" y1=\"391.704\" x2=\"250.016\" y2=\"388.496\" stroke-linecap=\"round\" style=\"stroke:black;stroke-width:2\" /><line x1=\"250.016\" y1=\"388.496\" x2=\"246.312\" y2=\"388.496\" stroke-linecap=\"round\" style=\"stroke:black;stroke-width:2\" /><line x1=\"246.312\" y1=\"388.496\" x2=\"244.46\" y2=\"385.288\" stroke-linecap=\"round\" style=\"stroke:black;stroke-width:2\" /><line x1=\"244.46\" y1=\"385.288\" x2=\"242.608\" y2=\"388.496\" stroke-linecap=\"round\" style=\"stroke:black;stroke-width:2\" /><line x1=\"242.608\" y1=\"388.496\" x2=\"238.904\" y2=\"388.496\" stroke-linecap=\"round\" style=\"stroke:black;stroke-width:2\" /><line x1=\"238.904\" y1=\"388.496\" x2=\"237.052\" y2=\"385.288\" stroke-linecap=\"round\" style=\"stroke:black;stroke-width:2\" /><line x1=\"237.052\" y1=\"385.288\" x2=\"238.904\" y2=\"382.08\" stroke-linecap=\"round\" style=\"stroke:black;stroke-width:2\" /><line x1=\"238.904\" y1=\"382.08\" x2=\"235.2\" y2=\"382.08\" stroke-linecap=\"round\" style=\"stroke:black;stroke-width:2\" /><line x1=\"235.2\" y1=\"382.08\" x2=\"233.348\" y2=\"378.872\" stroke-linecap=\"round\" style=\"stroke:black;stroke-width:2\" /><line x1=\"233.348\" y1=\"378.872\" x2=\"235.2\" y2=\"375.664\" stroke-linecap=\"round\" style=\"stroke:black;stroke-width:2\" /><line x1=\"235.2\" y1=\"375.664\" x2=\"238.904\" y2=\"375.664\" stroke-linecap=\"round\" style=\"stroke:black;stroke-width:2\" /><line x1=\"238.904\" y1=\"375.664\" x2=\"237.052\" y2=\"372.456\" stroke-linecap=\"round\" style=\"stroke:black;stroke-width:2\" /><line x1=\"237.052\" y1=\"372.456\" x2=\"238.904\" y2=\"369.248\" stroke-linecap=\"round\" style=\"stroke:black;stroke-width:2\" /><line x1=\"238.904\" y1=\"369.248\" x2=\"242.608\" y2=\"369.248\" stroke-linecap=\"round\" style=\"stroke:black;stroke-width:2\" /><line x1=\"242.608\" y1=\"369.248\" x2=\"244.46\" y2=\"372.456\" stroke-linecap=\"round\" style=\"stroke:black;stroke-width:2\" /><line x1=\"244.46\" y1=\"372.456\" x2=\"246.312\" y2=\"369.248\" stroke-linecap=\"round\" style=\"stroke:black;stroke-width:2\" /><line x1=\"246.312\" y1=\"369.248\" x2=\"250.016\" y2=\"369.248\" stroke-linecap=\"round\" style=\"stroke:black;stroke-width:2\" /><line x1=\"250.016\" y1=\"369.248\" x2=\"248.164\" y2=\"366.04\" stroke-linecap=\"round\" style=\"stroke:black;stroke-width:2\" /><line x1=\"248.164\" y1=\"366.04\" x2=\"250.016\" y2=\"362.832\" stroke-linecap=\"round\" style=\"stroke:black;stroke-width:2\" /><line x1=\"250.016\" y1=\"362.832\" x2=\"246.312\" y2=\"362.832\" stroke-linecap=\"round\" style=\"stroke:black;stroke-width:2\" /><line x1=\"246.312\" y1=\"362.832\" x2=\"244.46\" y2=\"359.624\" stroke-linecap=\"round\" style=\"stroke:black;stroke-width:2\" /><line x1=\"244.46\" y1=\"359.624\" x2=\"246.312\" y2=\"356.416\" stroke-linecap=\"round\" style=\"stroke:black;stroke-width:2\" /><line x1=\"246.312\" y1=\"356.416\" x2=\"250.016\" y2=\"356.416\" stroke-linecap=\"round\" style=\"stroke:black;stroke-width:2\" /><line x1=\"250.016\" y1=\"356.416\" x2=\"248.164\" y2=\"353.208\" stroke-linecap=\"round\" style=\"stroke:black;stroke-width:2\" /><line x1=\"248.164\" y1=\"353.208\" x2=\"250.016\" y2=\"350.0\" stroke-linecap=\"round\" style=\"stroke:black;stroke-width:2\" /><line x1=\"250.016\" y1=\"350.0\" x2=\"253.72\" y2=\"350.0\" stroke-linecap=\"round\" style=\"stroke:black;stroke-width:2\" /><line x1=\"253.72\" y1=\"350.0\" x2=\"255.572\" y2=\"353.208\" stroke-linecap=\"round\" style=\"stroke:black;stroke-width:2\" /><line x1=\"255.572\" y1=\"353.208\" x2=\"257.424\" y2=\"350.0\" stroke-linecap=\"round\" style=\"stroke:black;stroke-width:2\" /><line x1=\"257.424\" y1=\"350.0\" x2=\"261.128\" y2=\"350.0\" stroke-linecap=\"round\" style=\"stroke:black;stroke-width:2\" /><line x1=\"261.128\" y1=\"350.0\" x2=\"262.98\" y2=\"353.208\" stroke-linecap=\"round\" style=\"stroke:black;stroke-width:2\" /><line x1=\"262.98\" y1=\"353.208\" x2=\"261.128\" y2=\"356.416\" stroke-linecap=\"round\" style=\"stroke:black;stroke-width:2\" /><line x1=\"261.128\" y1=\"356.416\" x2=\"264.832\" y2=\"356.416\" stroke-linecap=\"round\" style=\"stroke:black;stroke-width:2\" /><line x1=\"264.832\" y1=\"356.416\" x2=\"266.684\" y2=\"359.624\" stroke-linecap=\"round\" style=\"stroke:black;stroke-width:2\" /><line x1=\"266.684\" y1=\"359.624\" x2=\"268.536\" y2=\"356.416\" stroke-linecap=\"round\" style=\"stroke:black;stroke-width:2\" /><line x1=\"268.536\" y1=\"356.416\" x2=\"272.24\" y2=\"356.416\" stroke-linecap=\"round\" style=\"stroke:black;stroke-width:2\" /><line x1=\"272.24\" y1=\"356.416\" x2=\"270.388\" y2=\"353.208\" stroke-linecap=\"round\" style=\"stroke:black;stroke-width:2\" /><line x1=\"270.388\" y1=\"353.208\" x2=\"272.24\" y2=\"350.0\" stroke-linecap=\"round\" style=\"stroke:black;stroke-width:2\" /><line x1=\"272.24\" y1=\"350.0\" x2=\"275.944\" y2=\"350.0\" stroke-linecap=\"round\" style=\"stroke:black;stroke-width:2\" /><line x1=\"275.944\" y1=\"350.0\" x2=\"277.796\" y2=\"353.208\" stroke-linecap=\"round\" style=\"stroke:black;stroke-width:2\" /><line x1=\"277.796\" y1=\"353.208\" x2=\"279.648\" y2=\"350.0\" stroke-linecap=\"round\" style=\"stroke:black;stroke-width:2\" /><line x1=\"279.648\" y1=\"350.0\" x2=\"283.352\" y2=\"350.0\" stroke-linecap=\"round\" style=\"stroke:black;stroke-width:2\" /><line x1=\"283.352\" y1=\"350.0\" x2=\"285.204\" y2=\"353.208\" stroke-linecap=\"round\" style=\"stroke:black;stroke-width:2\" /><line x1=\"285.204\" y1=\"353.208\" x2=\"283.352\" y2=\"356.416\" stroke-linecap=\"round\" style=\"stroke:black;stroke-width:2\" /><line x1=\"283.352\" y1=\"356.416\" x2=\"287.056\" y2=\"356.416\" stroke-linecap=\"round\" style=\"stroke:black;stroke-width:2\" /><line x1=\"287.056\" y1=\"356.416\" x2=\"288.908\" y2=\"359.624\" stroke-linecap=\"round\" style=\"stroke:black;stroke-width:2\" /><line x1=\"288.908\" y1=\"359.624\" x2=\"287.056\" y2=\"362.832\" stroke-linecap=\"round\" style=\"stroke:black;stroke-width:2\" /><line x1=\"287.056\" y1=\"362.832\" x2=\"283.352\" y2=\"362.832\" stroke-linecap=\"round\" style=\"stroke:black;stroke-width:2\" /><line x1=\"283.352\" y1=\"362.832\" x2=\"285.204\" y2=\"366.04\" stroke-linecap=\"round\" style=\"stroke:black;stroke-width:2\" /><line x1=\"285.204\" y1=\"366.04\" x2=\"283.352\" y2=\"369.248\" stroke-linecap=\"round\" style=\"stroke:black;stroke-width:2\" /><line x1=\"283.352\" y1=\"369.248\" x2=\"287.056\" y2=\"369.248\" stroke-linecap=\"round\" style=\"stroke:black;stroke-width:2\" /><line x1=\"287.056\" y1=\"369.248\" x2=\"288.908\" y2=\"372.456\" stroke-linecap=\"round\" style=\"stroke:black;stroke-width:2\" /><line x1=\"288.908\" y1=\"372.456\" x2=\"290.76\" y2=\"369.248\" stroke-linecap=\"round\" style=\"stroke:black;stroke-width:2\" /><line x1=\"290.76\" y1=\"369.248\" x2=\"294.464\" y2=\"369.248\" stroke-linecap=\"round\" style=\"stroke:black;stroke-width:2\" /><line x1=\"294.464\" y1=\"369.248\" x2=\"296.316\" y2=\"372.456\" stroke-linecap=\"round\" style=\"stroke:black;stroke-width:2\" /><line x1=\"296.316\" y1=\"372.456\" x2=\"294.464\" y2=\"375.664\" stroke-linecap=\"round\" style=\"stroke:black;stroke-width:2\" /><line x1=\"294.464\" y1=\"375.664\" x2=\"298.168\" y2=\"375.664\" stroke-linecap=\"round\" style=\"stroke:black;stroke-width:2\" /><line x1=\"298.168\" y1=\"375.664\" x2=\"300.02\" y2=\"378.872\" stroke-linecap=\"round\" style=\"stroke:black;stroke-width:2\" /><line x1=\"300.02\" y1=\"378.872\" x2=\"301.872\" y2=\"375.664\" stroke-linecap=\"round\" style=\"stroke:black;stroke-width:2\" /><line x1=\"301.872\" y1=\"375.664\" x2=\"305.576\" y2=\"375.664\" stroke-linecap=\"round\" style=\"stroke:black;stroke-width:2\" /><line x1=\"305.576\" y1=\"375.664\" x2=\"303.724\" y2=\"372.456\" stroke-linecap=\"round\" style=\"stroke:black;stroke-width:2\" /><line x1=\"303.724\" y1=\"372.456\" x2=\"305.576\" y2=\"369.248\" stroke-linecap=\"round\" style=\"stroke:black;stroke-width:2\" /><line x1=\"305.576\" y1=\"369.248\" x2=\"309.28\" y2=\"369.248\" stroke-linecap=\"round\" style=\"stroke:black;stroke-width:2\" /><line x1=\"309.28\" y1=\"369.248\" x2=\"311.132\" y2=\"372.456\" stroke-linecap=\"round\" style=\"stroke:black;stroke-width:2\" /><line x1=\"311.132\" y1=\"372.456\" x2=\"312.984\" y2=\"369.248\" stroke-linecap=\"round\" style=\"stroke:black;stroke-width:2\" /><line x1=\"312.984\" y1=\"369.248\" x2=\"316.688\" y2=\"369.248\" stroke-linecap=\"round\" style=\"stroke:black;stroke-width:2\" /><line x1=\"316.688\" y1=\"369.248\" x2=\"314.836\" y2=\"366.04\" stroke-linecap=\"round\" style=\"stroke:black;stroke-width:2\" /><line x1=\"314.836\" y1=\"366.04\" x2=\"316.688\" y2=\"362.832\" stroke-linecap=\"round\" style=\"stroke:black;stroke-width:2\" /><line x1=\"316.688\" y1=\"362.832\" x2=\"312.984\" y2=\"362.832\" stroke-linecap=\"round\" style=\"stroke:black;stroke-width:2\" /><line x1=\"312.984\" y1=\"362.832\" x2=\"311.132\" y2=\"359.624\" stroke-linecap=\"round\" style=\"stroke:black;stroke-width:2\" /><line x1=\"311.132\" y1=\"359.624\" x2=\"312.984\" y2=\"356.416\" stroke-linecap=\"round\" style=\"stroke:black;stroke-width:2\" /><line x1=\"312.984\" y1=\"356.416\" x2=\"316.688\" y2=\"356.416\" stroke-linecap=\"round\" style=\"stroke:black;stroke-width:2\" /><line x1=\"316.688\" y1=\"356.416\" x2=\"314.836\" y2=\"353.208\" stroke-linecap=\"round\" style=\"stroke:black;stroke-width:2\" /><line x1=\"314.836\" y1=\"353.208\" x2=\"316.688\" y2=\"350.0\" stroke-linecap=\"round\" style=\"stroke:black;stroke-width:2\" /><line x1=\"316.688\" y1=\"350.0\" x2=\"320.392\" y2=\"350.0\" stroke-linecap=\"round\" style=\"stroke:black;stroke-width:2\" /><line x1=\"320.392\" y1=\"350.0\" x2=\"322.244\" y2=\"353.208\" stroke-linecap=\"round\" style=\"stroke:black;stroke-width:2\" /><line x1=\"322.244\" y1=\"353.208\" x2=\"324.096\" y2=\"350.0\" stroke-linecap=\"round\" style=\"stroke:black;stroke-width:2\" /><line x1=\"324.096\" y1=\"350.0\" x2=\"327.8\" y2=\"350.0\" stroke-linecap=\"round\" style=\"stroke:black;stroke-width:2\" /><line x1=\"327.8\" y1=\"350.0\" x2=\"329.652\" y2=\"353.208\" stroke-linecap=\"round\" style=\"stroke:black;stroke-width:2\" /><line x1=\"329.652\" y1=\"353.208\" x2=\"327.8\" y2=\"356.416\" stroke-linecap=\"round\" style=\"stroke:black;stroke-width:2\" /><line x1=\"327.8\" y1=\"356.416\" x2=\"331.504\" y2=\"356.416\" stroke-linecap=\"round\" style=\"stroke:black;stroke-width:2\" /><line x1=\"331.504\" y1=\"356.416\" x2=\"333.356\" y2=\"359.624\" stroke-linecap=\"round\" style=\"stroke:black;stroke-width:2\" /><line x1=\"333.356\" y1=\"359.624\" x2=\"335.208\" y2=\"356.416\" stroke-linecap=\"round\" style=\"stroke:black;stroke-width:2\" /><line x1=\"335.208\" y1=\"356.416\" x2=\"338.912\" y2=\"356.416\" stroke-linecap=\"round\" style=\"stroke:black;stroke-width:2\" /><line x1=\"338.912\" y1=\"356.416\" x2=\"337.06\" y2=\"353.208\" stroke-linecap=\"round\" style=\"stroke:black;stroke-width:2\" /><line x1=\"337.06\" y1=\"353.208\" x2=\"338.912\" y2=\"350.0\" stroke-linecap=\"round\" style=\"stroke:black;stroke-width:2\" /><line x1=\"338.912\" y1=\"350.0\" x2=\"342.616\" y2=\"350.0\" stroke-linecap=\"round\" style=\"stroke:black;stroke-width:2\" /><line x1=\"342.616\" y1=\"350.0\" x2=\"344.468\" y2=\"353.208\" stroke-linecap=\"round\" style=\"stroke:black;stroke-width:2\" /><line x1=\"344.468\" y1=\"353.208\" x2=\"346.32\" y2=\"350.0\" stroke-linecap=\"round\" style=\"stroke:black;stroke-width:2\" /><line x1=\"346.32\" y1=\"350.0\" x2=\"350.024\" y2=\"350.0\" stroke-linecap=\"round\" style=\"stroke:black;stroke-width:2\" /><line x1=\"350.024\" y1=\"350.0\" x2=\"348.172\" y2=\"346.792\" stroke-linecap=\"round\" style=\"stroke:black;stroke-width:2\" /><line x1=\"348.172\" y1=\"346.792\" x2=\"350.024\" y2=\"343.584\" stroke-linecap=\"round\" style=\"stroke:black;stroke-width:2\" /><line x1=\"350.024\" y1=\"343.584\" x2=\"346.32\" y2=\"343.584\" stroke-linecap=\"round\" style=\"stroke:black;stroke-width:2\" /><line x1=\"346.32\" y1=\"343.584\" x2=\"344.468\" y2=\"340.376\" stroke-linecap=\"round\" style=\"stroke:black;stroke-width:2\" /><line x1=\"344.468\" y1=\"340.376\" x2=\"346.32\" y2=\"337.168\" stroke-linecap=\"round\" style=\"stroke:black;stroke-width:2\" /><line x1=\"346.32\" y1=\"337.168\" x2=\"350.024\" y2=\"337.168\" stroke-linecap=\"round\" style=\"stroke:black;stroke-width:2\" /><line x1=\"350.024\" y1=\"337.168\" x2=\"348.172\" y2=\"333.96\" stroke-linecap=\"round\" style=\"stroke:black;stroke-width:2\" /><line x1=\"348.172\" y1=\"333.96\" x2=\"350.024\" y2=\"330.752\" stroke-linecap=\"round\" style=\"stroke:black;stroke-width:2\" /><line x1=\"350.024\" y1=\"330.752\" x2=\"346.32\" y2=\"330.752\" stroke-linecap=\"round\" style=\"stroke:black;stroke-width:2\" /><line x1=\"346.32\" y1=\"330.752\" x2=\"344.468\" y2=\"327.544\" stroke-linecap=\"round\" style=\"stroke:black;stroke-width:2\" /><line x1=\"344.468\" y1=\"327.544\" x2=\"342.616\" y2=\"330.752\" stroke-linecap=\"round\" style=\"stroke:black;stroke-width:2\" /><line x1=\"342.616\" y1=\"330.752\" x2=\"338.912\" y2=\"330.752\" stroke-linecap=\"round\" style=\"stroke:black;stroke-width:2\" /><line x1=\"338.912\" y1=\"330.752\" x2=\"337.06\" y2=\"327.544\" stroke-linecap=\"round\" style=\"stroke:black;stroke-width:2\" /><line x1=\"337.06\" y1=\"327.544\" x2=\"338.912\" y2=\"324.336\" stroke-linecap=\"round\" style=\"stroke:black;stroke-width:2\" /><line x1=\"338.912\" y1=\"324.336\" x2=\"335.208\" y2=\"324.336\" stroke-linecap=\"round\" style=\"stroke:black;stroke-width:2\" /><line x1=\"335.208\" y1=\"324.336\" x2=\"333.356\" y2=\"321.128\" stroke-linecap=\"round\" style=\"stroke:black;stroke-width:2\" /><line x1=\"333.356\" y1=\"321.128\" x2=\"335.208\" y2=\"317.92\" stroke-linecap=\"round\" style=\"stroke:black;stroke-width:2\" /><line x1=\"335.208\" y1=\"317.92\" x2=\"338.912\" y2=\"317.92\" stroke-linecap=\"round\" style=\"stroke:black;stroke-width:2\" /><line x1=\"338.912\" y1=\"317.92\" x2=\"337.06\" y2=\"314.712\" stroke-linecap=\"round\" style=\"stroke:black;stroke-width:2\" /><line x1=\"337.06\" y1=\"314.712\" x2=\"338.912\" y2=\"311.504\" stroke-linecap=\"round\" style=\"stroke:black;stroke-width:2\" /><line x1=\"338.912\" y1=\"311.504\" x2=\"342.616\" y2=\"311.504\" stroke-linecap=\"round\" style=\"stroke:black;stroke-width:2\" /><line x1=\"342.616\" y1=\"311.504\" x2=\"344.468\" y2=\"314.712\" stroke-linecap=\"round\" style=\"stroke:black;stroke-width:2\" /><line x1=\"344.468\" y1=\"314.712\" x2=\"346.32\" y2=\"311.504\" stroke-linecap=\"round\" style=\"stroke:black;stroke-width:2\" /><line x1=\"346.32\" y1=\"311.504\" x2=\"350.024\" y2=\"311.504\" stroke-linecap=\"round\" style=\"stroke:black;stroke-width:2\" /><line x1=\"350.024\" y1=\"311.504\" x2=\"348.172\" y2=\"308.296\" stroke-linecap=\"round\" style=\"stroke:black;stroke-width:2\" /><line x1=\"348.172\" y1=\"308.296\" x2=\"350.024\" y2=\"305.088\" stroke-linecap=\"round\" style=\"stroke:black;stroke-width:2\" /><line x1=\"350.024\" y1=\"305.088\" x2=\"346.32\" y2=\"305.088\" stroke-linecap=\"round\" style=\"stroke:black;stroke-width:2\" /><line x1=\"346.32\" y1=\"305.088\" x2=\"344.468\" y2=\"301.88\" stroke-linecap=\"round\" style=\"stroke:black;stroke-width:2\" /><line x1=\"344.468\" y1=\"301.88\" x2=\"346.32\" y2=\"298.672\" stroke-linecap=\"round\" style=\"stroke:black;stroke-width:2\" /><line x1=\"346.32\" y1=\"298.672\" x2=\"350.024\" y2=\"298.672\" stroke-linecap=\"round\" style=\"stroke:black;stroke-width:2\" /><line x1=\"350.024\" y1=\"298.672\" x2=\"348.172\" y2=\"295.464\" stroke-linecap=\"round\" style=\"stroke:black;stroke-width:2\" /><line x1=\"348.172\" y1=\"295.464\" x2=\"350.024\" y2=\"292.256\" stroke-linecap=\"round\" style=\"stroke:black;stroke-width:2\" /><line x1=\"350.024\" y1=\"292.256\" x2=\"346.32\" y2=\"292.256\" stroke-linecap=\"round\" style=\"stroke:black;stroke-width:2\" /><line x1=\"346.32\" y1=\"292.256\" x2=\"344.468\" y2=\"289.048\" stroke-linecap=\"round\" style=\"stroke:black;stroke-width:2\" /><line x1=\"344.468\" y1=\"289.048\" x2=\"342.616\" y2=\"292.256\" stroke-linecap=\"round\" style=\"stroke:black;stroke-width:2\" /><line x1=\"342.616\" y1=\"292.256\" x2=\"338.912\" y2=\"292.256\" stroke-linecap=\"round\" style=\"stroke:black;stroke-width:2\" /><line x1=\"338.912\" y1=\"292.256\" x2=\"337.06\" y2=\"289.048\" stroke-linecap=\"round\" style=\"stroke:black;stroke-width:2\" /><line x1=\"337.06\" y1=\"289.048\" x2=\"338.912\" y2=\"285.84\" stroke-linecap=\"round\" style=\"stroke:black;stroke-width:2\" /><line x1=\"338.912\" y1=\"285.84\" x2=\"335.208\" y2=\"285.84\" stroke-linecap=\"round\" style=\"stroke:black;stroke-width:2\" /><line x1=\"335.208\" y1=\"285.84\" x2=\"333.356\" y2=\"282.632\" stroke-linecap=\"round\" style=\"stroke:black;stroke-width:2\" /><line x1=\"333.356\" y1=\"282.632\" x2=\"331.504\" y2=\"285.84\" stroke-linecap=\"round\" style=\"stroke:black;stroke-width:2\" /><line x1=\"331.504\" y1=\"285.84\" x2=\"327.8\" y2=\"285.84\" stroke-linecap=\"round\" style=\"stroke:black;stroke-width:2\" /><line x1=\"327.8\" y1=\"285.84\" x2=\"329.652\" y2=\"289.048\" stroke-linecap=\"round\" style=\"stroke:black;stroke-width:2\" /><line x1=\"329.652\" y1=\"289.048\" x2=\"327.8\" y2=\"292.256\" stroke-linecap=\"round\" style=\"stroke:black;stroke-width:2\" /><line x1=\"327.8\" y1=\"292.256\" x2=\"324.096\" y2=\"292.256\" stroke-linecap=\"round\" style=\"stroke:black;stroke-width:2\" /><line x1=\"324.096\" y1=\"292.256\" x2=\"322.244\" y2=\"289.048\" stroke-linecap=\"round\" style=\"stroke:black;stroke-width:2\" /><line x1=\"322.244\" y1=\"289.048\" x2=\"320.392\" y2=\"292.256\" stroke-linecap=\"round\" style=\"stroke:black;stroke-width:2\" /><line x1=\"320.392\" y1=\"292.256\" x2=\"316.688\" y2=\"292.256\" stroke-linecap=\"round\" style=\"stroke:black;stroke-width:2\" /><line x1=\"316.688\" y1=\"292.256\" x2=\"314.836\" y2=\"289.048\" stroke-linecap=\"round\" style=\"stroke:black;stroke-width:2\" /><line x1=\"314.836\" y1=\"289.048\" x2=\"316.688\" y2=\"285.84\" stroke-linecap=\"round\" style=\"stroke:black;stroke-width:2\" /><line x1=\"316.688\" y1=\"285.84\" x2=\"312.984\" y2=\"285.84\" stroke-linecap=\"round\" style=\"stroke:black;stroke-width:2\" /><line x1=\"312.984\" y1=\"285.84\" x2=\"311.132\" y2=\"282.632\" stroke-linecap=\"round\" style=\"stroke:black;stroke-width:2\" /><line x1=\"311.132\" y1=\"282.632\" x2=\"312.984\" y2=\"279.424\" stroke-linecap=\"round\" style=\"stroke:black;stroke-width:2\" /><line x1=\"312.984\" y1=\"279.424\" x2=\"316.688\" y2=\"279.424\" stroke-linecap=\"round\" style=\"stroke:black;stroke-width:2\" /><line x1=\"316.688\" y1=\"279.424\" x2=\"314.836\" y2=\"276.216\" stroke-linecap=\"round\" style=\"stroke:black;stroke-width:2\" /><line x1=\"314.836\" y1=\"276.216\" x2=\"316.688\" y2=\"273.008\" stroke-linecap=\"round\" style=\"stroke:black;stroke-width:2\" /><line x1=\"316.688\" y1=\"273.008\" x2=\"312.984\" y2=\"273.008\" stroke-linecap=\"round\" style=\"stroke:black;stroke-width:2\" /><line x1=\"312.984\" y1=\"273.008\" x2=\"311.132\" y2=\"269.8\" stroke-linecap=\"round\" style=\"stroke:black;stroke-width:2\" /><line x1=\"311.132\" y1=\"269.8\" x2=\"309.28\" y2=\"273.008\" stroke-linecap=\"round\" style=\"stroke:black;stroke-width:2\" /><line x1=\"309.28\" y1=\"273.008\" x2=\"305.576\" y2=\"273.008\" stroke-linecap=\"round\" style=\"stroke:black;stroke-width:2\" /><line x1=\"305.576\" y1=\"273.008\" x2=\"303.724\" y2=\"269.8\" stroke-linecap=\"round\" style=\"stroke:black;stroke-width:2\" /><line x1=\"303.724\" y1=\"269.8\" x2=\"305.576\" y2=\"266.592\" stroke-linecap=\"round\" style=\"stroke:black;stroke-width:2\" /><line x1=\"305.576\" y1=\"266.592\" x2=\"301.872\" y2=\"266.592\" stroke-linecap=\"round\" style=\"stroke:black;stroke-width:2\" /><line x1=\"301.872\" y1=\"266.592\" x2=\"300.02\" y2=\"263.384\" stroke-linecap=\"round\" style=\"stroke:black;stroke-width:2\" /><line x1=\"300.02\" y1=\"263.384\" x2=\"301.872\" y2=\"260.176\" stroke-linecap=\"round\" style=\"stroke:black;stroke-width:2\" /><line x1=\"301.872\" y1=\"260.176\" x2=\"305.576\" y2=\"260.176\" stroke-linecap=\"round\" style=\"stroke:black;stroke-width:2\" /><line x1=\"305.576\" y1=\"260.176\" x2=\"303.724\" y2=\"256.968\" stroke-linecap=\"round\" style=\"stroke:black;stroke-width:2\" /><line x1=\"303.724\" y1=\"256.968\" x2=\"305.576\" y2=\"253.76\" stroke-linecap=\"round\" style=\"stroke:black;stroke-width:2\" /><line x1=\"305.576\" y1=\"253.76\" x2=\"309.28\" y2=\"253.76\" stroke-linecap=\"round\" style=\"stroke:black;stroke-width:2\" /><line x1=\"309.28\" y1=\"253.76\" x2=\"311.132\" y2=\"256.968\" stroke-linecap=\"round\" style=\"stroke:black;stroke-width:2\" /><line x1=\"311.132\" y1=\"256.968\" x2=\"312.984\" y2=\"253.76\" stroke-linecap=\"round\" style=\"stroke:black;stroke-width:2\" /><line x1=\"312.984\" y1=\"253.76\" x2=\"316.688\" y2=\"253.76\" stroke-linecap=\"round\" style=\"stroke:black;stroke-width:2\" /><line x1=\"316.688\" y1=\"253.76\" x2=\"314.836\" y2=\"250.552\" stroke-linecap=\"round\" style=\"stroke:black;stroke-width:2\" /><line x1=\"314.836\" y1=\"250.552\" x2=\"316.688\" y2=\"247.344\" stroke-linecap=\"round\" style=\"stroke:black;stroke-width:2\" /><line x1=\"316.688\" y1=\"247.344\" x2=\"312.984\" y2=\"247.344\" stroke-linecap=\"round\" style=\"stroke:black;stroke-width:2\" /><line x1=\"312.984\" y1=\"247.344\" x2=\"311.132\" y2=\"244.136\" stroke-linecap=\"round\" style=\"stroke:black;stroke-width:2\" /><line x1=\"311.132\" y1=\"244.136\" x2=\"312.984\" y2=\"240.928\" stroke-linecap=\"round\" style=\"stroke:black;stroke-width:2\" /><line x1=\"312.984\" y1=\"240.928\" x2=\"316.688\" y2=\"240.928\" stroke-linecap=\"round\" style=\"stroke:black;stroke-width:2\" /><line x1=\"316.688\" y1=\"240.928\" x2=\"314.836\" y2=\"237.72\" stroke-linecap=\"round\" style=\"stroke:black;stroke-width:2\" /><line x1=\"314.836\" y1=\"237.72\" x2=\"316.688\" y2=\"234.512\" stroke-linecap=\"round\" style=\"stroke:black;stroke-width:2\" /><line x1=\"316.688\" y1=\"234.512\" x2=\"320.392\" y2=\"234.512\" stroke-linecap=\"round\" style=\"stroke:black;stroke-width:2\" /><line x1=\"320.392\" y1=\"234.512\" x2=\"322.244\" y2=\"237.72\" stroke-linecap=\"round\" style=\"stroke:black;stroke-width:2\" /><line x1=\"322.244\" y1=\"237.72\" x2=\"324.096\" y2=\"234.512\" stroke-linecap=\"round\" style=\"stroke:black;stroke-width:2\" /><line x1=\"324.096\" y1=\"234.512\" x2=\"327.8\" y2=\"234.512\" stroke-linecap=\"round\" style=\"stroke:black;stroke-width:2\" /><line x1=\"327.8\" y1=\"234.512\" x2=\"329.652\" y2=\"237.72\" stroke-linecap=\"round\" style=\"stroke:black;stroke-width:2\" /><line x1=\"329.652\" y1=\"237.72\" x2=\"327.8\" y2=\"240.928\" stroke-linecap=\"round\" style=\"stroke:black;stroke-width:2\" /><line x1=\"327.8\" y1=\"240.928\" x2=\"331.504\" y2=\"240.928\" stroke-linecap=\"round\" style=\"stroke:black;stroke-width:2\" /><line x1=\"331.504\" y1=\"240.928\" x2=\"333.356\" y2=\"244.136\" stroke-linecap=\"round\" style=\"stroke:black;stroke-width:2\" /><line x1=\"333.356\" y1=\"244.136\" x2=\"335.208\" y2=\"240.928\" stroke-linecap=\"round\" style=\"stroke:black;stroke-width:2\" /><line x1=\"335.208\" y1=\"240.928\" x2=\"338.912\" y2=\"240.928\" stroke-linecap=\"round\" style=\"stroke:black;stroke-width:2\" /><line x1=\"338.912\" y1=\"240.928\" x2=\"337.06\" y2=\"237.72\" stroke-linecap=\"round\" style=\"stroke:black;stroke-width:2\" /><line x1=\"337.06\" y1=\"237.72\" x2=\"338.912\" y2=\"234.512\" stroke-linecap=\"round\" style=\"stroke:black;stroke-width:2\" /><line x1=\"338.912\" y1=\"234.512\" x2=\"342.616\" y2=\"234.512\" stroke-linecap=\"round\" style=\"stroke:black;stroke-width:2\" /><line x1=\"342.616\" y1=\"234.512\" x2=\"344.468\" y2=\"237.72\" stroke-linecap=\"round\" style=\"stroke:black;stroke-width:2\" /><line x1=\"344.468\" y1=\"237.72\" x2=\"346.32\" y2=\"234.512\" stroke-linecap=\"round\" style=\"stroke:black;stroke-width:2\" /><line x1=\"346.32\" y1=\"234.512\" x2=\"350.024\" y2=\"234.512\" stroke-linecap=\"round\" style=\"stroke:black;stroke-width:2\" /><line x1=\"350.024\" y1=\"234.512\" x2=\"348.172\" y2=\"231.304\" stroke-linecap=\"round\" style=\"stroke:black;stroke-width:2\" /><line x1=\"348.172\" y1=\"231.304\" x2=\"350.024\" y2=\"228.096\" stroke-linecap=\"round\" style=\"stroke:black;stroke-width:2\" /><line x1=\"350.024\" y1=\"228.096\" x2=\"346.32\" y2=\"228.096\" stroke-linecap=\"round\" style=\"stroke:black;stroke-width:2\" /><line x1=\"346.32\" y1=\"228.096\" x2=\"344.468\" y2=\"224.888\" stroke-linecap=\"round\" style=\"stroke:black;stroke-width:2\" /><line x1=\"344.468\" y1=\"224.888\" x2=\"346.32\" y2=\"221.68\" stroke-linecap=\"round\" style=\"stroke:black;stroke-width:2\" /><line x1=\"346.32\" y1=\"221.68\" x2=\"350.024\" y2=\"221.68\" stroke-linecap=\"round\" style=\"stroke:black;stroke-width:2\" /><line x1=\"350.024\" y1=\"221.68\" x2=\"348.172\" y2=\"218.472\" stroke-linecap=\"round\" style=\"stroke:black;stroke-width:2\" /><line x1=\"348.172\" y1=\"218.472\" x2=\"350.024\" y2=\"215.264\" stroke-linecap=\"round\" style=\"stroke:black;stroke-width:2\" /><line x1=\"350.024\" y1=\"215.264\" x2=\"346.32\" y2=\"215.264\" stroke-linecap=\"round\" style=\"stroke:black;stroke-width:2\" /><line x1=\"346.32\" y1=\"215.264\" x2=\"344.468\" y2=\"212.056\" stroke-linecap=\"round\" style=\"stroke:black;stroke-width:2\" /><line x1=\"344.468\" y1=\"212.056\" x2=\"342.616\" y2=\"215.264\" stroke-linecap=\"round\" style=\"stroke:black;stroke-width:2\" /><line x1=\"342.616\" y1=\"215.264\" x2=\"338.912\" y2=\"215.264\" stroke-linecap=\"round\" style=\"stroke:black;stroke-width:2\" /><line x1=\"338.912\" y1=\"215.264\" x2=\"337.06\" y2=\"212.056\" stroke-linecap=\"round\" style=\"stroke:black;stroke-width:2\" /><line x1=\"337.06\" y1=\"212.056\" x2=\"338.912\" y2=\"208.848\" stroke-linecap=\"round\" style=\"stroke:black;stroke-width:2\" /><line x1=\"338.912\" y1=\"208.848\" x2=\"335.208\" y2=\"208.848\" stroke-linecap=\"round\" style=\"stroke:black;stroke-width:2\" /><line x1=\"335.208\" y1=\"208.848\" x2=\"333.356\" y2=\"205.64\" stroke-linecap=\"round\" style=\"stroke:black;stroke-width:2\" /><line x1=\"333.356\" y1=\"205.64\" x2=\"335.208\" y2=\"202.432\" stroke-linecap=\"round\" style=\"stroke:black;stroke-width:2\" /><line x1=\"335.208\" y1=\"202.432\" x2=\"338.912\" y2=\"202.432\" stroke-linecap=\"round\" style=\"stroke:black;stroke-width:2\" /><line x1=\"338.912\" y1=\"202.432\" x2=\"337.06\" y2=\"199.224\" stroke-linecap=\"round\" style=\"stroke:black;stroke-width:2\" /><line x1=\"337.06\" y1=\"199.224\" x2=\"338.912\" y2=\"196.016\" stroke-linecap=\"round\" style=\"stroke:black;stroke-width:2\" /><line x1=\"338.912\" y1=\"196.016\" x2=\"342.616\" y2=\"196.016\" stroke-linecap=\"round\" style=\"stroke:black;stroke-width:2\" /><line x1=\"342.616\" y1=\"196.016\" x2=\"344.468\" y2=\"199.224\" stroke-linecap=\"round\" style=\"stroke:black;stroke-width:2\" /><line x1=\"344.468\" y1=\"199.224\" x2=\"346.32\" y2=\"196.016\" stroke-linecap=\"round\" style=\"stroke:black;stroke-width:2\" /><line x1=\"346.32\" y1=\"196.016\" x2=\"350.024\" y2=\"196.016\" stroke-linecap=\"round\" style=\"stroke:black;stroke-width:2\" /><line x1=\"350.024\" y1=\"196.016\" x2=\"348.172\" y2=\"192.808\" stroke-linecap=\"round\" style=\"stroke:black;stroke-width:2\" /><line x1=\"348.172\" y1=\"192.808\" x2=\"350.024\" y2=\"189.6\" stroke-linecap=\"round\" style=\"stroke:black;stroke-width:2\" /><line x1=\"350.024\" y1=\"189.6\" x2=\"346.32\" y2=\"189.6\" stroke-linecap=\"round\" style=\"stroke:black;stroke-width:2\" /><line x1=\"346.32\" y1=\"189.6\" x2=\"344.468\" y2=\"186.392\" stroke-linecap=\"round\" style=\"stroke:black;stroke-width:2\" /><line x1=\"344.468\" y1=\"186.392\" x2=\"346.32\" y2=\"183.184\" stroke-linecap=\"round\" style=\"stroke:black;stroke-width:2\" /><line x1=\"346.32\" y1=\"183.184\" x2=\"350.024\" y2=\"183.184\" stroke-linecap=\"round\" style=\"stroke:black;stroke-width:2\" /><line x1=\"350.024\" y1=\"183.184\" x2=\"348.172\" y2=\"179.976\" stroke-linecap=\"round\" style=\"stroke:black;stroke-width:2\" /><line x1=\"348.172\" y1=\"179.976\" x2=\"350.024\" y2=\"176.768\" stroke-linecap=\"round\" style=\"stroke:black;stroke-width:2\" /><line x1=\"350.024\" y1=\"176.768\" x2=\"346.32\" y2=\"176.768\" stroke-linecap=\"round\" style=\"stroke:black;stroke-width:2\" /><line x1=\"346.32\" y1=\"176.768\" x2=\"344.468\" y2=\"173.56\" stroke-linecap=\"round\" style=\"stroke:black;stroke-width:2\" /><line x1=\"344.468\" y1=\"173.56\" x2=\"342.616\" y2=\"176.768\" stroke-linecap=\"round\" style=\"stroke:black;stroke-width:2\" /><line x1=\"342.616\" y1=\"176.768\" x2=\"338.912\" y2=\"176.768\" stroke-linecap=\"round\" style=\"stroke:black;stroke-width:2\" /><line x1=\"338.912\" y1=\"176.768\" x2=\"337.06\" y2=\"173.56\" stroke-linecap=\"round\" style=\"stroke:black;stroke-width:2\" /><line x1=\"337.06\" y1=\"173.56\" x2=\"338.912\" y2=\"170.352\" stroke-linecap=\"round\" style=\"stroke:black;stroke-width:2\" /><line x1=\"338.912\" y1=\"170.352\" x2=\"335.208\" y2=\"170.352\" stroke-linecap=\"round\" style=\"stroke:black;stroke-width:2\" /><line x1=\"335.208\" y1=\"170.352\" x2=\"333.356\" y2=\"167.144\" stroke-linecap=\"round\" style=\"stroke:black;stroke-width:2\" /><line x1=\"333.356\" y1=\"167.144\" x2=\"331.504\" y2=\"170.352\" stroke-linecap=\"round\" style=\"stroke:black;stroke-width:2\" /><line x1=\"331.504\" y1=\"170.352\" x2=\"327.8\" y2=\"170.352\" stroke-linecap=\"round\" style=\"stroke:black;stroke-width:2\" /><line x1=\"327.8\" y1=\"170.352\" x2=\"329.652\" y2=\"173.56\" stroke-linecap=\"round\" style=\"stroke:black;stroke-width:2\" /><line x1=\"329.652\" y1=\"173.56\" x2=\"327.8\" y2=\"176.768\" stroke-linecap=\"round\" style=\"stroke:black;stroke-width:2\" /><line x1=\"327.8\" y1=\"176.768\" x2=\"324.096\" y2=\"176.768\" stroke-linecap=\"round\" style=\"stroke:black;stroke-width:2\" /><line x1=\"324.096\" y1=\"176.768\" x2=\"322.244\" y2=\"173.56\" stroke-linecap=\"round\" style=\"stroke:black;stroke-width:2\" /><line x1=\"322.244\" y1=\"173.56\" x2=\"320.392\" y2=\"176.768\" stroke-linecap=\"round\" style=\"stroke:black;stroke-width:2\" /><line x1=\"320.392\" y1=\"176.768\" x2=\"316.688\" y2=\"176.768\" stroke-linecap=\"round\" style=\"stroke:black;stroke-width:2\" /><line x1=\"316.688\" y1=\"176.768\" x2=\"314.836\" y2=\"173.56\" stroke-linecap=\"round\" style=\"stroke:black;stroke-width:2\" /><line x1=\"314.836\" y1=\"173.56\" x2=\"316.688\" y2=\"170.352\" stroke-linecap=\"round\" style=\"stroke:black;stroke-width:2\" /><line x1=\"316.688\" y1=\"170.352\" x2=\"312.984\" y2=\"170.352\" stroke-linecap=\"round\" style=\"stroke:black;stroke-width:2\" /><line x1=\"312.984\" y1=\"170.352\" x2=\"311.132\" y2=\"167.144\" stroke-linecap=\"round\" style=\"stroke:black;stroke-width:2\" /><line x1=\"311.132\" y1=\"167.144\" x2=\"312.984\" y2=\"163.936\" stroke-linecap=\"round\" style=\"stroke:black;stroke-width:2\" /><line x1=\"312.984\" y1=\"163.936\" x2=\"316.688\" y2=\"163.936\" stroke-linecap=\"round\" style=\"stroke:black;stroke-width:2\" /><line x1=\"316.688\" y1=\"163.936\" x2=\"314.836\" y2=\"160.728\" stroke-linecap=\"round\" style=\"stroke:black;stroke-width:2\" /><line x1=\"314.836\" y1=\"160.728\" x2=\"316.688\" y2=\"157.52\" stroke-linecap=\"round\" style=\"stroke:black;stroke-width:2\" /><line x1=\"316.688\" y1=\"157.52\" x2=\"312.984\" y2=\"157.52\" stroke-linecap=\"round\" style=\"stroke:black;stroke-width:2\" /><line x1=\"312.984\" y1=\"157.52\" x2=\"311.132\" y2=\"154.312\" stroke-linecap=\"round\" style=\"stroke:black;stroke-width:2\" /><line x1=\"311.132\" y1=\"154.312\" x2=\"309.28\" y2=\"157.52\" stroke-linecap=\"round\" style=\"stroke:black;stroke-width:2\" /><line x1=\"309.28\" y1=\"157.52\" x2=\"305.576\" y2=\"157.52\" stroke-linecap=\"round\" style=\"stroke:black;stroke-width:2\" /><line x1=\"305.576\" y1=\"157.52\" x2=\"303.724\" y2=\"154.312\" stroke-linecap=\"round\" style=\"stroke:black;stroke-width:2\" /><line x1=\"303.724\" y1=\"154.312\" x2=\"305.576\" y2=\"151.104\" stroke-linecap=\"round\" style=\"stroke:black;stroke-width:2\" /><line x1=\"305.576\" y1=\"151.104\" x2=\"301.872\" y2=\"151.104\" stroke-linecap=\"round\" style=\"stroke:black;stroke-width:2\" /><line x1=\"301.872\" y1=\"151.104\" x2=\"300.02\" y2=\"147.896\" stroke-linecap=\"round\" style=\"stroke:black;stroke-width:2\" /><line x1=\"300.02\" y1=\"147.896\" x2=\"298.168\" y2=\"151.104\" stroke-linecap=\"round\" style=\"stroke:black;stroke-width:2\" /><line x1=\"298.168\" y1=\"151.104\" x2=\"294.464\" y2=\"151.104\" stroke-linecap=\"round\" style=\"stroke:black;stroke-width:2\" /><line x1=\"294.464\" y1=\"151.104\" x2=\"296.316\" y2=\"154.312\" stroke-linecap=\"round\" style=\"stroke:black;stroke-width:2\" /><line x1=\"296.316\" y1=\"154.312\" x2=\"294.464\" y2=\"157.52\" stroke-linecap=\"round\" style=\"stroke:black;stroke-width:2\" /><line x1=\"294.464\" y1=\"157.52\" x2=\"290.76\" y2=\"157.52\" stroke-linecap=\"round\" style=\"stroke:black;stroke-width:2\" /><line x1=\"290.76\" y1=\"157.52\" x2=\"288.908\" y2=\"154.312\" stroke-linecap=\"round\" style=\"stroke:black;stroke-width:2\" /><line x1=\"288.908\" y1=\"154.312\" x2=\"287.056\" y2=\"157.52\" stroke-linecap=\"round\" style=\"stroke:black;stroke-width:2\" /><line x1=\"287.056\" y1=\"157.52\" x2=\"283.352\" y2=\"157.52\" stroke-linecap=\"round\" style=\"stroke:black;stroke-width:2\" /><line x1=\"283.352\" y1=\"157.52\" x2=\"285.204\" y2=\"160.728\" stroke-linecap=\"round\" style=\"stroke:black;stroke-width:2\" /><line x1=\"285.204\" y1=\"160.728\" x2=\"283.352\" y2=\"163.936\" stroke-linecap=\"round\" style=\"stroke:black;stroke-width:2\" /><line x1=\"283.352\" y1=\"163.936\" x2=\"287.056\" y2=\"163.936\" stroke-linecap=\"round\" style=\"stroke:black;stroke-width:2\" /><line x1=\"287.056\" y1=\"163.936\" x2=\"288.908\" y2=\"167.144\" stroke-linecap=\"round\" style=\"stroke:black;stroke-width:2\" /><line x1=\"288.908\" y1=\"167.144\" x2=\"287.056\" y2=\"170.352\" stroke-linecap=\"round\" style=\"stroke:black;stroke-width:2\" /><line x1=\"287.056\" y1=\"170.352\" x2=\"283.352\" y2=\"170.352\" stroke-linecap=\"round\" style=\"stroke:black;stroke-width:2\" /><line x1=\"283.352\" y1=\"170.352\" x2=\"285.204\" y2=\"173.56\" stroke-linecap=\"round\" style=\"stroke:black;stroke-width:2\" /><line x1=\"285.204\" y1=\"173.56\" x2=\"283.352\" y2=\"176.768\" stroke-linecap=\"round\" style=\"stroke:black;stroke-width:2\" /><line x1=\"283.352\" y1=\"176.768\" x2=\"279.648\" y2=\"176.768\" stroke-linecap=\"round\" style=\"stroke:black;stroke-width:2\" /><line x1=\"279.648\" y1=\"176.768\" x2=\"277.796\" y2=\"173.56\" stroke-linecap=\"round\" style=\"stroke:black;stroke-width:2\" /><line x1=\"277.796\" y1=\"173.56\" x2=\"275.944\" y2=\"176.768\" stroke-linecap=\"round\" style=\"stroke:black;stroke-width:2\" /><line x1=\"275.944\" y1=\"176.768\" x2=\"272.24\" y2=\"176.768\" stroke-linecap=\"round\" style=\"stroke:black;stroke-width:2\" /><line x1=\"272.24\" y1=\"176.768\" x2=\"270.388\" y2=\"173.56\" stroke-linecap=\"round\" style=\"stroke:black;stroke-width:2\" /><line x1=\"270.388\" y1=\"173.56\" x2=\"272.24\" y2=\"170.352\" stroke-linecap=\"round\" style=\"stroke:black;stroke-width:2\" /><line x1=\"272.24\" y1=\"170.352\" x2=\"268.536\" y2=\"170.352\" stroke-linecap=\"round\" style=\"stroke:black;stroke-width:2\" /><line x1=\"268.536\" y1=\"170.352\" x2=\"266.684\" y2=\"167.144\" stroke-linecap=\"round\" style=\"stroke:black;stroke-width:2\" /><line x1=\"266.684\" y1=\"167.144\" x2=\"264.832\" y2=\"170.352\" stroke-linecap=\"round\" style=\"stroke:black;stroke-width:2\" /><line x1=\"264.832\" y1=\"170.352\" x2=\"261.128\" y2=\"170.352\" stroke-linecap=\"round\" style=\"stroke:black;stroke-width:2\" /><line x1=\"261.128\" y1=\"170.352\" x2=\"262.98\" y2=\"173.56\" stroke-linecap=\"round\" style=\"stroke:black;stroke-width:2\" /><line x1=\"262.98\" y1=\"173.56\" x2=\"261.128\" y2=\"176.768\" stroke-linecap=\"round\" style=\"stroke:black;stroke-width:2\" /><line x1=\"261.128\" y1=\"176.768\" x2=\"257.424\" y2=\"176.768\" stroke-linecap=\"round\" style=\"stroke:black;stroke-width:2\" /><line x1=\"257.424\" y1=\"176.768\" x2=\"255.572\" y2=\"173.56\" stroke-linecap=\"round\" style=\"stroke:black;stroke-width:2\" /><line x1=\"255.572\" y1=\"173.56\" x2=\"253.72\" y2=\"176.768\" stroke-linecap=\"round\" style=\"stroke:black;stroke-width:2\" /><line x1=\"253.72\" y1=\"176.768\" x2=\"250.016\" y2=\"176.768\" stroke-linecap=\"round\" style=\"stroke:black;stroke-width:2\" /><line x1=\"250.016\" y1=\"176.768\" x2=\"248.164\" y2=\"173.56\" stroke-linecap=\"round\" style=\"stroke:black;stroke-width:2\" /><line x1=\"248.164\" y1=\"173.56\" x2=\"250.016\" y2=\"170.352\" stroke-linecap=\"round\" style=\"stroke:black;stroke-width:2\" /><line x1=\"250.016\" y1=\"170.352\" x2=\"246.312\" y2=\"170.352\" stroke-linecap=\"round\" style=\"stroke:black;stroke-width:2\" /><line x1=\"246.312\" y1=\"170.352\" x2=\"244.46\" y2=\"167.144\" stroke-linecap=\"round\" style=\"stroke:black;stroke-width:2\" /><line x1=\"244.46\" y1=\"167.144\" x2=\"246.312\" y2=\"163.936\" stroke-linecap=\"round\" style=\"stroke:black;stroke-width:2\" /><line x1=\"246.312\" y1=\"163.936\" x2=\"250.016\" y2=\"163.936\" stroke-linecap=\"round\" style=\"stroke:black;stroke-width:2\" /><line x1=\"250.016\" y1=\"163.936\" x2=\"248.164\" y2=\"160.728\" stroke-linecap=\"round\" style=\"stroke:black;stroke-width:2\" /><line x1=\"248.164\" y1=\"160.728\" x2=\"250.016\" y2=\"157.52\" stroke-linecap=\"round\" style=\"stroke:black;stroke-width:2\" /><line x1=\"250.016\" y1=\"157.52\" x2=\"246.312\" y2=\"157.52\" stroke-linecap=\"round\" style=\"stroke:black;stroke-width:2\" /><line x1=\"246.312\" y1=\"157.52\" x2=\"244.46\" y2=\"154.312\" stroke-linecap=\"round\" style=\"stroke:black;stroke-width:2\" /><line x1=\"244.46\" y1=\"154.312\" x2=\"242.608\" y2=\"157.52\" stroke-linecap=\"round\" style=\"stroke:black;stroke-width:2\" /><line x1=\"242.608\" y1=\"157.52\" x2=\"238.904\" y2=\"157.52\" stroke-linecap=\"round\" style=\"stroke:black;stroke-width:2\" /><line x1=\"238.904\" y1=\"157.52\" x2=\"237.052\" y2=\"154.312\" stroke-linecap=\"round\" style=\"stroke:black;stroke-width:2\" /><line x1=\"237.052\" y1=\"154.312\" x2=\"238.904\" y2=\"151.104\" stroke-linecap=\"round\" style=\"stroke:black;stroke-width:2\" /><line x1=\"238.904\" y1=\"151.104\" x2=\"235.2\" y2=\"151.104\" stroke-linecap=\"round\" style=\"stroke:black;stroke-width:2\" /><line x1=\"235.2\" y1=\"151.104\" x2=\"233.348\" y2=\"147.896\" stroke-linecap=\"round\" style=\"stroke:black;stroke-width:2\" /><line x1=\"233.348\" y1=\"147.896\" x2=\"235.2\" y2=\"144.688\" stroke-linecap=\"round\" style=\"stroke:black;stroke-width:2\" /><line x1=\"235.2\" y1=\"144.688\" x2=\"238.904\" y2=\"144.688\" stroke-linecap=\"round\" style=\"stroke:black;stroke-width:2\" /><line x1=\"238.904\" y1=\"144.688\" x2=\"237.052\" y2=\"141.48\" stroke-linecap=\"round\" style=\"stroke:black;stroke-width:2\" /><line x1=\"237.052\" y1=\"141.48\" x2=\"238.904\" y2=\"138.272\" stroke-linecap=\"round\" style=\"stroke:black;stroke-width:2\" /><line x1=\"238.904\" y1=\"138.272\" x2=\"242.608\" y2=\"138.272\" stroke-linecap=\"round\" style=\"stroke:black;stroke-width:2\" /><line x1=\"242.608\" y1=\"138.272\" x2=\"244.46\" y2=\"141.48\" stroke-linecap=\"round\" style=\"stroke:black;stroke-width:2\" /><line x1=\"244.46\" y1=\"141.48\" x2=\"246.312\" y2=\"138.272\" stroke-linecap=\"round\" style=\"stroke:black;stroke-width:2\" /><line x1=\"246.312\" y1=\"138.272\" x2=\"250.016\" y2=\"138.272\" stroke-linecap=\"round\" style=\"stroke:black;stroke-width:2\" /><line x1=\"250.016\" y1=\"138.272\" x2=\"248.164\" y2=\"135.064\" stroke-linecap=\"round\" style=\"stroke:black;stroke-width:2\" /><line x1=\"248.164\" y1=\"135.064\" x2=\"250.016\" y2=\"131.856\" stroke-linecap=\"round\" style=\"stroke:black;stroke-width:2\" /><line x1=\"250.016\" y1=\"131.856\" x2=\"246.312\" y2=\"131.856\" stroke-linecap=\"round\" style=\"stroke:black;stroke-width:2\" /><line x1=\"246.312\" y1=\"131.856\" x2=\"244.46\" y2=\"128.648\" stroke-linecap=\"round\" style=\"stroke:black;stroke-width:2\" /><line x1=\"244.46\" y1=\"128.648\" x2=\"246.312\" y2=\"125.44\" stroke-linecap=\"round\" style=\"stroke:black;stroke-width:2\" /><line x1=\"246.312\" y1=\"125.44\" x2=\"250.016\" y2=\"125.44\" stroke-linecap=\"round\" style=\"stroke:black;stroke-width:2\" /><line x1=\"250.016\" y1=\"125.44\" x2=\"248.164\" y2=\"122.232\" stroke-linecap=\"round\" style=\"stroke:black;stroke-width:2\" /><line x1=\"248.164\" y1=\"122.232\" x2=\"250.016\" y2=\"119.024\" stroke-linecap=\"round\" style=\"stroke:black;stroke-width:2\" /><line x1=\"250.016\" y1=\"119.024\" x2=\"246.312\" y2=\"119.024\" stroke-linecap=\"round\" style=\"stroke:black;stroke-width:2\" /><line x1=\"246.312\" y1=\"119.024\" x2=\"244.46\" y2=\"115.816\" stroke-linecap=\"round\" style=\"stroke:black;stroke-width:2\" /><line x1=\"244.46\" y1=\"115.816\" x2=\"242.608\" y2=\"119.024\" stroke-linecap=\"round\" style=\"stroke:black;stroke-width:2\" /><line x1=\"242.608\" y1=\"119.024\" x2=\"238.904\" y2=\"119.024\" stroke-linecap=\"round\" style=\"stroke:black;stroke-width:2\" /><line x1=\"238.904\" y1=\"119.024\" x2=\"237.052\" y2=\"115.816\" stroke-linecap=\"round\" style=\"stroke:black;stroke-width:2\" /><line x1=\"237.052\" y1=\"115.816\" x2=\"238.904\" y2=\"112.608\" stroke-linecap=\"round\" style=\"stroke:black;stroke-width:2\" /><line x1=\"238.904\" y1=\"112.608\" x2=\"235.2\" y2=\"112.608\" stroke-linecap=\"round\" style=\"stroke:black;stroke-width:2\" /><line x1=\"235.2\" y1=\"112.608\" x2=\"233.348\" y2=\"109.4\" stroke-linecap=\"round\" style=\"stroke:black;stroke-width:2\" /><line x1=\"233.348\" y1=\"109.4\" x2=\"231.496\" y2=\"112.608\" stroke-linecap=\"round\" style=\"stroke:black;stroke-width:2\" /><line x1=\"231.496\" y1=\"112.608\" x2=\"227.792\" y2=\"112.608\" stroke-linecap=\"round\" style=\"stroke:black;stroke-width:2\" /><line x1=\"227.792\" y1=\"112.608\" x2=\"229.644\" y2=\"115.816\" stroke-linecap=\"round\" style=\"stroke:black;stroke-width:2\" /><line x1=\"229.644\" y1=\"115.816\" x2=\"227.792\" y2=\"119.024\" stroke-linecap=\"round\" style=\"stroke:black;stroke-width:2\" /><line x1=\"227.792\" y1=\"119.024\" x2=\"224.088\" y2=\"119.024\" stroke-linecap=\"round\" style=\"stroke:black;stroke-width:2\" /><line x1=\"224.088\" y1=\"119.024\" x2=\"222.236\" y2=\"115.816\" stroke-linecap=\"round\" style=\"stroke:black;stroke-width:2\" /><line x1=\"222.236\" y1=\"115.816\" x2=\"220.384\" y2=\"119.024\" stroke-linecap=\"round\" style=\"stroke:black;stroke-width:2\" /><line x1=\"220.384\" y1=\"119.024\" x2=\"216.68\" y2=\"119.024\" stroke-linecap=\"round\" style=\"stroke:black;stroke-width:2\" /><line x1=\"216.68\" y1=\"119.024\" x2=\"214.828\" y2=\"115.816\" stroke-linecap=\"round\" style=\"stroke:black;stroke-width:2\" /><line x1=\"214.828\" y1=\"115.816\" x2=\"216.68\" y2=\"112.608\" stroke-linecap=\"round\" style=\"stroke:black;stroke-width:2\" /><line x1=\"216.68\" y1=\"112.608\" x2=\"212.976\" y2=\"112.608\" stroke-linecap=\"round\" style=\"stroke:black;stroke-width:2\" /><line x1=\"212.976\" y1=\"112.608\" x2=\"211.124\" y2=\"109.4\" stroke-linecap=\"round\" style=\"stroke:black;stroke-width:2\" /><line x1=\"211.124\" y1=\"109.4\" x2=\"212.976\" y2=\"106.192\" stroke-linecap=\"round\" style=\"stroke:black;stroke-width:2\" /><line x1=\"212.976\" y1=\"106.192\" x2=\"216.68\" y2=\"106.192\" stroke-linecap=\"round\" style=\"stroke:black;stroke-width:2\" /><line x1=\"216.68\" y1=\"106.192\" x2=\"214.828\" y2=\"102.984\" stroke-linecap=\"round\" style=\"stroke:black;stroke-width:2\" /><line x1=\"214.828\" y1=\"102.984\" x2=\"216.68\" y2=\"99.776\" stroke-linecap=\"round\" style=\"stroke:black;stroke-width:2\" /><line x1=\"216.68\" y1=\"99.776\" x2=\"212.976\" y2=\"99.776\" stroke-linecap=\"round\" style=\"stroke:black;stroke-width:2\" /><line x1=\"212.976\" y1=\"99.776\" x2=\"211.124\" y2=\"96.568\" stroke-linecap=\"round\" style=\"stroke:black;stroke-width:2\" /><line x1=\"211.124\" y1=\"96.568\" x2=\"209.272\" y2=\"99.776\" stroke-linecap=\"round\" style=\"stroke:black;stroke-width:2\" /><line x1=\"209.272\" y1=\"99.776\" x2=\"205.568\" y2=\"99.776\" stroke-linecap=\"round\" style=\"stroke:black;stroke-width:2\" /><line x1=\"205.568\" y1=\"99.776\" x2=\"203.716\" y2=\"96.568\" stroke-linecap=\"round\" style=\"stroke:black;stroke-width:2\" /><line x1=\"203.716\" y1=\"96.568\" x2=\"205.568\" y2=\"93.36\" stroke-linecap=\"round\" style=\"stroke:black;stroke-width:2\" /><line x1=\"205.568\" y1=\"93.36\" x2=\"201.864\" y2=\"93.36\" stroke-linecap=\"round\" style=\"stroke:black;stroke-width:2\" /><line x1=\"201.864\" y1=\"93.36\" x2=\"200.012\" y2=\"90.152\" stroke-linecap=\"round\" style=\"stroke:black;stroke-width:2\" /><line x1=\"200.012\" y1=\"90.152\" x2=\"198.16\" y2=\"93.36\" stroke-linecap=\"round\" style=\"stroke:black;stroke-width:2\" /><line x1=\"198.16\" y1=\"93.36\" x2=\"194.456\" y2=\"93.36\" stroke-linecap=\"round\" style=\"stroke:black;stroke-width:2\" /><line x1=\"194.456\" y1=\"93.36\" x2=\"196.308\" y2=\"96.568\" stroke-linecap=\"round\" style=\"stroke:black;stroke-width:2\" /><line x1=\"196.308\" y1=\"96.568\" x2=\"194.456\" y2=\"99.776\" stroke-linecap=\"round\" style=\"stroke:black;stroke-width:2\" /><line x1=\"194.456\" y1=\"99.776\" x2=\"190.752\" y2=\"99.776\" stroke-linecap=\"round\" style=\"stroke:black;stroke-width:2\" /><line x1=\"190.752\" y1=\"99.776\" x2=\"188.9\" y2=\"96.568\" stroke-linecap=\"round\" style=\"stroke:black;stroke-width:2\" /><line x1=\"188.9\" y1=\"96.568\" x2=\"187.048\" y2=\"99.776\" stroke-linecap=\"round\" style=\"stroke:black;stroke-width:2\" /><line x1=\"187.048\" y1=\"99.776\" x2=\"183.344\" y2=\"99.776\" stroke-linecap=\"round\" style=\"stroke:black;stroke-width:2\" /><line x1=\"183.344\" y1=\"99.776\" x2=\"185.196\" y2=\"102.984\" stroke-linecap=\"round\" style=\"stroke:black;stroke-width:2\" /><line x1=\"185.196\" y1=\"102.984\" x2=\"183.344\" y2=\"106.192\" stroke-linecap=\"round\" style=\"stroke:black;stroke-width:2\" /><line x1=\"183.344\" y1=\"106.192\" x2=\"187.048\" y2=\"106.192\" stroke-linecap=\"round\" style=\"stroke:black;stroke-width:2\" /><line x1=\"187.048\" y1=\"106.192\" x2=\"188.9\" y2=\"109.4\" stroke-linecap=\"round\" style=\"stroke:black;stroke-width:2\" /><line x1=\"188.9\" y1=\"109.4\" x2=\"187.048\" y2=\"112.608\" stroke-linecap=\"round\" style=\"stroke:black;stroke-width:2\" /><line x1=\"187.048\" y1=\"112.608\" x2=\"183.344\" y2=\"112.608\" stroke-linecap=\"round\" style=\"stroke:black;stroke-width:2\" /><line x1=\"183.344\" y1=\"112.608\" x2=\"185.196\" y2=\"115.816\" stroke-linecap=\"round\" style=\"stroke:black;stroke-width:2\" /><line x1=\"185.196\" y1=\"115.816\" x2=\"183.344\" y2=\"119.024\" stroke-linecap=\"round\" style=\"stroke:black;stroke-width:2\" /><line x1=\"183.344\" y1=\"119.024\" x2=\"179.64\" y2=\"119.024\" stroke-linecap=\"round\" style=\"stroke:black;stroke-width:2\" /><line x1=\"179.64\" y1=\"119.024\" x2=\"177.788\" y2=\"115.816\" stroke-linecap=\"round\" style=\"stroke:black;stroke-width:2\" /><line x1=\"177.788\" y1=\"115.816\" x2=\"175.936\" y2=\"119.024\" stroke-linecap=\"round\" style=\"stroke:black;stroke-width:2\" /><line x1=\"175.936\" y1=\"119.024\" x2=\"172.232\" y2=\"119.024\" stroke-linecap=\"round\" style=\"stroke:black;stroke-width:2\" /><line x1=\"172.232\" y1=\"119.024\" x2=\"170.38\" y2=\"115.816\" stroke-linecap=\"round\" style=\"stroke:black;stroke-width:2\" /><line x1=\"170.38\" y1=\"115.816\" x2=\"172.232\" y2=\"112.608\" stroke-linecap=\"round\" style=\"stroke:black;stroke-width:2\" /><line x1=\"172.232\" y1=\"112.608\" x2=\"168.528\" y2=\"112.608\" stroke-linecap=\"round\" style=\"stroke:black;stroke-width:2\" /><line x1=\"168.528\" y1=\"112.608\" x2=\"166.676\" y2=\"109.4\" stroke-linecap=\"round\" style=\"stroke:black;stroke-width:2\" /><line x1=\"166.676\" y1=\"109.4\" x2=\"164.824\" y2=\"112.608\" stroke-linecap=\"round\" style=\"stroke:black;stroke-width:2\" /><line x1=\"164.824\" y1=\"112.608\" x2=\"161.12\" y2=\"112.608\" stroke-linecap=\"round\" style=\"stroke:black;stroke-width:2\" /><line x1=\"161.12\" y1=\"112.608\" x2=\"162.972\" y2=\"115.816\" stroke-linecap=\"round\" style=\"stroke:black;stroke-width:2\" /><line x1=\"162.972\" y1=\"115.816\" x2=\"161.12\" y2=\"119.024\" stroke-linecap=\"round\" style=\"stroke:black;stroke-width:2\" /><line x1=\"161.12\" y1=\"119.024\" x2=\"157.416\" y2=\"119.024\" stroke-linecap=\"round\" style=\"stroke:black;stroke-width:2\" /><line x1=\"157.416\" y1=\"119.024\" x2=\"155.564\" y2=\"115.816\" stroke-linecap=\"round\" style=\"stroke:black;stroke-width:2\" /><line x1=\"155.564\" y1=\"115.816\" x2=\"153.712\" y2=\"119.024\" stroke-linecap=\"round\" style=\"stroke:black;stroke-width:2\" /><line x1=\"153.712\" y1=\"119.024\" x2=\"150.008\" y2=\"119.024\" stroke-linecap=\"round\" style=\"stroke:black;stroke-width:2\" /><line x1=\"150.008\" y1=\"119.024\" x2=\"151.86\" y2=\"122.232\" stroke-linecap=\"round\" style=\"stroke:black;stroke-width:2\" /><line x1=\"151.86\" y1=\"122.232\" x2=\"150.008\" y2=\"125.44\" stroke-linecap=\"round\" style=\"stroke:black;stroke-width:2\" /><line x1=\"150.008\" y1=\"125.44\" x2=\"153.712\" y2=\"125.44\" stroke-linecap=\"round\" style=\"stroke:black;stroke-width:2\" /><line x1=\"153.712\" y1=\"125.44\" x2=\"155.564\" y2=\"128.648\" stroke-linecap=\"round\" style=\"stroke:black;stroke-width:2\" /><line x1=\"155.564\" y1=\"128.648\" x2=\"153.712\" y2=\"131.856\" stroke-linecap=\"round\" style=\"stroke:black;stroke-width:2\" /><line x1=\"153.712\" y1=\"131.856\" x2=\"150.008\" y2=\"131.856\" stroke-linecap=\"round\" style=\"stroke:black;stroke-width:2\" /><line x1=\"150.008\" y1=\"131.856\" x2=\"151.86\" y2=\"135.064\" stroke-linecap=\"round\" style=\"stroke:black;stroke-width:2\" /><line x1=\"151.86\" y1=\"135.064\" x2=\"150.008\" y2=\"138.272\" stroke-linecap=\"round\" style=\"stroke:black;stroke-width:2\" /><line x1=\"150.008\" y1=\"138.272\" x2=\"153.712\" y2=\"138.272\" stroke-linecap=\"round\" style=\"stroke:black;stroke-width:2\" /><line x1=\"153.712\" y1=\"138.272\" x2=\"155.564\" y2=\"141.48\" stroke-linecap=\"round\" style=\"stroke:black;stroke-width:2\" /><line x1=\"155.564\" y1=\"141.48\" x2=\"157.416\" y2=\"138.272\" stroke-linecap=\"round\" style=\"stroke:black;stroke-width:2\" /><line x1=\"157.416\" y1=\"138.272\" x2=\"161.12\" y2=\"138.272\" stroke-linecap=\"round\" style=\"stroke:black;stroke-width:2\" /><line x1=\"161.12\" y1=\"138.272\" x2=\"162.972\" y2=\"141.48\" stroke-linecap=\"round\" style=\"stroke:black;stroke-width:2\" /><line x1=\"162.972\" y1=\"141.48\" x2=\"161.12\" y2=\"144.688\" stroke-linecap=\"round\" style=\"stroke:black;stroke-width:2\" /><line x1=\"161.12\" y1=\"144.688\" x2=\"164.824\" y2=\"144.688\" stroke-linecap=\"round\" style=\"stroke:black;stroke-width:2\" /><line x1=\"164.824\" y1=\"144.688\" x2=\"166.676\" y2=\"147.896\" stroke-linecap=\"round\" style=\"stroke:black;stroke-width:2\" /><line x1=\"166.676\" y1=\"147.896\" x2=\"164.824\" y2=\"151.104\" stroke-linecap=\"round\" style=\"stroke:black;stroke-width:2\" /><line x1=\"164.824\" y1=\"151.104\" x2=\"161.12\" y2=\"151.104\" stroke-linecap=\"round\" style=\"stroke:black;stroke-width:2\" /><line x1=\"161.12\" y1=\"151.104\" x2=\"162.972\" y2=\"154.312\" stroke-linecap=\"round\" style=\"stroke:black;stroke-width:2\" /><line x1=\"162.972\" y1=\"154.312\" x2=\"161.12\" y2=\"157.52\" stroke-linecap=\"round\" style=\"stroke:black;stroke-width:2\" /><line x1=\"161.12\" y1=\"157.52\" x2=\"157.416\" y2=\"157.52\" stroke-linecap=\"round\" style=\"stroke:black;stroke-width:2\" /><line x1=\"157.416\" y1=\"157.52\" x2=\"155.564\" y2=\"154.312\" stroke-linecap=\"round\" style=\"stroke:black;stroke-width:2\" /><line x1=\"155.564\" y1=\"154.312\" x2=\"153.712\" y2=\"157.52\" stroke-linecap=\"round\" style=\"stroke:black;stroke-width:2\" /><line x1=\"153.712\" y1=\"157.52\" x2=\"150.008\" y2=\"157.52\" stroke-linecap=\"round\" style=\"stroke:black;stroke-width:2\" /><line x1=\"150.008\" y1=\"157.52\" x2=\"151.86\" y2=\"160.728\" stroke-linecap=\"round\" style=\"stroke:black;stroke-width:2\" /><line x1=\"151.86\" y1=\"160.728\" x2=\"150.008\" y2=\"163.936\" stroke-linecap=\"round\" style=\"stroke:black;stroke-width:2\" /><line x1=\"150.008\" y1=\"163.936\" x2=\"153.712\" y2=\"163.936\" stroke-linecap=\"round\" style=\"stroke:black;stroke-width:2\" /><line x1=\"153.712\" y1=\"163.936\" x2=\"155.564\" y2=\"167.144\" stroke-linecap=\"round\" style=\"stroke:black;stroke-width:2\" /><line x1=\"155.564\" y1=\"167.144\" x2=\"153.712\" y2=\"170.352\" stroke-linecap=\"round\" style=\"stroke:black;stroke-width:2\" /><line x1=\"153.712\" y1=\"170.352\" x2=\"150.008\" y2=\"170.352\" stroke-linecap=\"round\" style=\"stroke:black;stroke-width:2\" /><line x1=\"150.008\" y1=\"170.352\" x2=\"151.86\" y2=\"173.56\" stroke-linecap=\"round\" style=\"stroke:black;stroke-width:2\" /><line x1=\"151.86\" y1=\"173.56\" x2=\"150.008\" y2=\"176.768\" stroke-linecap=\"round\" style=\"stroke:black;stroke-width:2\" /><line x1=\"150.008\" y1=\"176.768\" x2=\"146.304\" y2=\"176.768\" stroke-linecap=\"round\" style=\"stroke:black;stroke-width:2\" /><line x1=\"146.304\" y1=\"176.768\" x2=\"144.452\" y2=\"173.56\" stroke-linecap=\"round\" style=\"stroke:black;stroke-width:2\" /><line x1=\"144.452\" y1=\"173.56\" x2=\"142.6\" y2=\"176.768\" stroke-linecap=\"round\" style=\"stroke:black;stroke-width:2\" /><line x1=\"142.6\" y1=\"176.768\" x2=\"138.896\" y2=\"176.768\" stroke-linecap=\"round\" style=\"stroke:black;stroke-width:2\" /><line x1=\"138.896\" y1=\"176.768\" x2=\"137.044\" y2=\"173.56\" stroke-linecap=\"round\" style=\"stroke:black;stroke-width:2\" /><line x1=\"137.044\" y1=\"173.56\" x2=\"138.896\" y2=\"170.352\" stroke-linecap=\"round\" style=\"stroke:black;stroke-width:2\" /><line x1=\"138.896\" y1=\"170.352\" x2=\"135.192\" y2=\"170.352\" stroke-linecap=\"round\" style=\"stroke:black;stroke-width:2\" /><line x1=\"135.192\" y1=\"170.352\" x2=\"133.34\" y2=\"167.144\" stroke-linecap=\"round\" style=\"stroke:black;stroke-width:2\" /><line x1=\"133.34\" y1=\"167.144\" x2=\"131.488\" y2=\"170.352\" stroke-linecap=\"round\" style=\"stroke:black;stroke-width:2\" /><line x1=\"131.488\" y1=\"170.352\" x2=\"127.784\" y2=\"170.352\" stroke-linecap=\"round\" style=\"stroke:black;stroke-width:2\" /><line x1=\"127.784\" y1=\"170.352\" x2=\"129.636\" y2=\"173.56\" stroke-linecap=\"round\" style=\"stroke:black;stroke-width:2\" /><line x1=\"129.636\" y1=\"173.56\" x2=\"127.784\" y2=\"176.768\" stroke-linecap=\"round\" style=\"stroke:black;stroke-width:2\" /><line x1=\"127.784\" y1=\"176.768\" x2=\"124.08\" y2=\"176.768\" stroke-linecap=\"round\" style=\"stroke:black;stroke-width:2\" /><line x1=\"124.08\" y1=\"176.768\" x2=\"122.228\" y2=\"173.56\" stroke-linecap=\"round\" style=\"stroke:black;stroke-width:2\" /><line x1=\"122.228\" y1=\"173.56\" x2=\"120.376\" y2=\"176.768\" stroke-linecap=\"round\" style=\"stroke:black;stroke-width:2\" /><line x1=\"120.376\" y1=\"176.768\" x2=\"116.672\" y2=\"176.768\" stroke-linecap=\"round\" style=\"stroke:black;stroke-width:2\" /><line x1=\"116.672\" y1=\"176.768\" x2=\"114.82\" y2=\"173.56\" stroke-linecap=\"round\" style=\"stroke:black;stroke-width:2\" /><line x1=\"114.82\" y1=\"173.56\" x2=\"116.672\" y2=\"170.352\" stroke-linecap=\"round\" style=\"stroke:black;stroke-width:2\" /><line x1=\"116.672\" y1=\"170.352\" x2=\"112.968\" y2=\"170.352\" stroke-linecap=\"round\" style=\"stroke:black;stroke-width:2\" /><line x1=\"112.968\" y1=\"170.352\" x2=\"111.116\" y2=\"167.144\" stroke-linecap=\"round\" style=\"stroke:black;stroke-width:2\" /><line x1=\"111.116\" y1=\"167.144\" x2=\"112.968\" y2=\"163.936\" stroke-linecap=\"round\" style=\"stroke:black;stroke-width:2\" /><line x1=\"112.968\" y1=\"163.936\" x2=\"116.672\" y2=\"163.936\" stroke-linecap=\"round\" style=\"stroke:black;stroke-width:2\" /><line x1=\"116.672\" y1=\"163.936\" x2=\"114.82\" y2=\"160.728\" stroke-linecap=\"round\" style=\"stroke:black;stroke-width:2\" /><line x1=\"114.82\" y1=\"160.728\" x2=\"116.672\" y2=\"157.52\" stroke-linecap=\"round\" style=\"stroke:black;stroke-width:2\" /><line x1=\"116.672\" y1=\"157.52\" x2=\"112.968\" y2=\"157.52\" stroke-linecap=\"round\" style=\"stroke:black;stroke-width:2\" /><line x1=\"112.968\" y1=\"157.52\" x2=\"111.116\" y2=\"154.312\" stroke-linecap=\"round\" style=\"stroke:black;stroke-width:2\" /><line x1=\"111.116\" y1=\"154.312\" x2=\"109.264\" y2=\"157.52\" stroke-linecap=\"round\" style=\"stroke:black;stroke-width:2\" /><line x1=\"109.264\" y1=\"157.52\" x2=\"105.56\" y2=\"157.52\" stroke-linecap=\"round\" style=\"stroke:black;stroke-width:2\" /><line x1=\"105.56\" y1=\"157.52\" x2=\"103.708\" y2=\"154.312\" stroke-linecap=\"round\" style=\"stroke:black;stroke-width:2\" /><line x1=\"103.708\" y1=\"154.312\" x2=\"105.56\" y2=\"151.104\" stroke-linecap=\"round\" style=\"stroke:black;stroke-width:2\" /><line x1=\"105.56\" y1=\"151.104\" x2=\"101.856\" y2=\"151.104\" stroke-linecap=\"round\" style=\"stroke:black;stroke-width:2\" /><line x1=\"101.856\" y1=\"151.104\" x2=\"100.004\" y2=\"147.896\" stroke-linecap=\"round\" style=\"stroke:black;stroke-width:2\" /><line x1=\"100.004\" y1=\"147.896\" x2=\"98.152\" y2=\"151.104\" stroke-linecap=\"round\" style=\"stroke:black;stroke-width:2\" /><line x1=\"98.152\" y1=\"151.104\" x2=\"94.448\" y2=\"151.104\" stroke-linecap=\"round\" style=\"stroke:black;stroke-width:2\" /><line x1=\"94.448\" y1=\"151.104\" x2=\"96.3\" y2=\"154.312\" stroke-linecap=\"round\" style=\"stroke:black;stroke-width:2\" /><line x1=\"96.3\" y1=\"154.312\" x2=\"94.448\" y2=\"157.52\" stroke-linecap=\"round\" style=\"stroke:black;stroke-width:2\" /><line x1=\"94.448\" y1=\"157.52\" x2=\"90.744\" y2=\"157.52\" stroke-linecap=\"round\" style=\"stroke:black;stroke-width:2\" /><line x1=\"90.744\" y1=\"157.52\" x2=\"88.892\" y2=\"154.312\" stroke-linecap=\"round\" style=\"stroke:black;stroke-width:2\" /><line x1=\"88.892\" y1=\"154.312\" x2=\"87.04\" y2=\"157.52\" stroke-linecap=\"round\" style=\"stroke:black;stroke-width:2\" /><line x1=\"87.04\" y1=\"157.52\" x2=\"83.336\" y2=\"157.52\" stroke-linecap=\"round\" style=\"stroke:black;stroke-width:2\" /><line x1=\"83.336\" y1=\"157.52\" x2=\"85.188\" y2=\"160.728\" stroke-linecap=\"round\" style=\"stroke:black;stroke-width:2\" /><line x1=\"85.188\" y1=\"160.728\" x2=\"83.336\" y2=\"163.936\" stroke-linecap=\"round\" style=\"stroke:black;stroke-width:2\" /><line x1=\"83.336\" y1=\"163.936\" x2=\"87.04\" y2=\"163.936\" stroke-linecap=\"round\" style=\"stroke:black;stroke-width:2\" /><line x1=\"87.04\" y1=\"163.936\" x2=\"88.892\" y2=\"167.144\" stroke-linecap=\"round\" style=\"stroke:black;stroke-width:2\" /><line x1=\"88.892\" y1=\"167.144\" x2=\"87.04\" y2=\"170.352\" stroke-linecap=\"round\" style=\"stroke:black;stroke-width:2\" /><line x1=\"87.04\" y1=\"170.352\" x2=\"83.336\" y2=\"170.352\" stroke-linecap=\"round\" style=\"stroke:black;stroke-width:2\" /><line x1=\"83.336\" y1=\"170.352\" x2=\"85.188\" y2=\"173.56\" stroke-linecap=\"round\" style=\"stroke:black;stroke-width:2\" /><line x1=\"85.188\" y1=\"173.56\" x2=\"83.336\" y2=\"176.768\" stroke-linecap=\"round\" style=\"stroke:black;stroke-width:2\" /><line x1=\"83.336\" y1=\"176.768\" x2=\"79.632\" y2=\"176.768\" stroke-linecap=\"round\" style=\"stroke:black;stroke-width:2\" /><line x1=\"79.632\" y1=\"176.768\" x2=\"77.78\" y2=\"173.56\" stroke-linecap=\"round\" style=\"stroke:black;stroke-width:2\" /><line x1=\"77.78\" y1=\"173.56\" x2=\"75.928\" y2=\"176.768\" stroke-linecap=\"round\" style=\"stroke:black;stroke-width:2\" /><line x1=\"75.928\" y1=\"176.768\" x2=\"72.224\" y2=\"176.768\" stroke-linecap=\"round\" style=\"stroke:black;stroke-width:2\" /><line x1=\"72.224\" y1=\"176.768\" x2=\"70.372\" y2=\"173.56\" stroke-linecap=\"round\" style=\"stroke:black;stroke-width:2\" /><line x1=\"70.372\" y1=\"173.56\" x2=\"72.224\" y2=\"170.352\" stroke-linecap=\"round\" style=\"stroke:black;stroke-width:2\" /><line x1=\"72.224\" y1=\"170.352\" x2=\"68.52\" y2=\"170.352\" stroke-linecap=\"round\" style=\"stroke:black;stroke-width:2\" /><line x1=\"68.52\" y1=\"170.352\" x2=\"66.668\" y2=\"167.144\" stroke-linecap=\"round\" style=\"stroke:black;stroke-width:2\" /><line x1=\"66.668\" y1=\"167.144\" x2=\"64.816\" y2=\"170.352\" stroke-linecap=\"round\" style=\"stroke:black;stroke-width:2\" /><line x1=\"64.816\" y1=\"170.352\" x2=\"61.112\" y2=\"170.352\" stroke-linecap=\"round\" style=\"stroke:black;stroke-width:2\" /><line x1=\"61.112\" y1=\"170.352\" x2=\"62.964\" y2=\"173.56\" stroke-linecap=\"round\" style=\"stroke:black;stroke-width:2\" /><line x1=\"62.964\" y1=\"173.56\" x2=\"61.112\" y2=\"176.768\" stroke-linecap=\"round\" style=\"stroke:black;stroke-width:2\" /><line x1=\"61.112\" y1=\"176.768\" x2=\"57.408\" y2=\"176.768\" stroke-linecap=\"round\" style=\"stroke:black;stroke-width:2\" /><line x1=\"57.408\" y1=\"176.768\" x2=\"55.556\" y2=\"173.56\" stroke-linecap=\"round\" style=\"stroke:black;stroke-width:2\" /><line x1=\"55.556\" y1=\"173.56\" x2=\"53.704\" y2=\"176.768\" stroke-linecap=\"round\" style=\"stroke:black;stroke-width:2\" /><line x1=\"53.704\" y1=\"176.768\" x2=\"50.0\" y2=\"176.768\" stroke-linecap=\"round\" style=\"stroke:black;stroke-width:2\" /><line x1=\"50.0\" y1=\"176.768\" x2=\"51.852\" y2=\"179.976\" stroke-linecap=\"round\" style=\"stroke:black;stroke-width:2\" /><line x1=\"51.852\" y1=\"179.976\" x2=\"50.0\" y2=\"183.184\" stroke-linecap=\"round\" style=\"stroke:black;stroke-width:2\" /><line x1=\"50.0\" y1=\"183.184\" x2=\"53.704\" y2=\"183.184\" stroke-linecap=\"round\" style=\"stroke:black;stroke-width:2\" /><line x1=\"53.704\" y1=\"183.184\" x2=\"55.556\" y2=\"186.392\" stroke-linecap=\"round\" style=\"stroke:black;stroke-width:2\" /><line x1=\"55.556\" y1=\"186.392\" x2=\"53.704\" y2=\"189.6\" stroke-linecap=\"round\" style=\"stroke:black;stroke-width:2\" /><line x1=\"53.704\" y1=\"189.6\" x2=\"50.0\" y2=\"189.6\" stroke-linecap=\"round\" style=\"stroke:black;stroke-width:2\" /><line x1=\"50.0\" y1=\"189.6\" x2=\"51.852\" y2=\"192.808\" stroke-linecap=\"round\" style=\"stroke:black;stroke-width:2\" /><line x1=\"51.852\" y1=\"192.808\" x2=\"50.0\" y2=\"196.016\" stroke-linecap=\"round\" style=\"stroke:black;stroke-width:2\" /><line x1=\"50.0\" y1=\"196.016\" x2=\"53.704\" y2=\"196.016\" stroke-linecap=\"round\" style=\"stroke:black;stroke-width:2\" /><line x1=\"53.704\" y1=\"196.016\" x2=\"55.556\" y2=\"199.224\" stroke-linecap=\"round\" style=\"stroke:black;stroke-width:2\" /><line x1=\"55.556\" y1=\"199.224\" x2=\"57.408\" y2=\"196.016\" stroke-linecap=\"round\" style=\"stroke:black;stroke-width:2\" /><line x1=\"57.408\" y1=\"196.016\" x2=\"61.112\" y2=\"196.016\" stroke-linecap=\"round\" style=\"stroke:black;stroke-width:2\" /><line x1=\"61.112\" y1=\"196.016\" x2=\"62.964\" y2=\"199.224\" stroke-linecap=\"round\" style=\"stroke:black;stroke-width:2\" /><line x1=\"62.964\" y1=\"199.224\" x2=\"61.112\" y2=\"202.432\" stroke-linecap=\"round\" style=\"stroke:black;stroke-width:2\" /><line x1=\"61.112\" y1=\"202.432\" x2=\"64.816\" y2=\"202.432\" stroke-linecap=\"round\" style=\"stroke:black;stroke-width:2\" /><line x1=\"64.816\" y1=\"202.432\" x2=\"66.668\" y2=\"205.64\" stroke-linecap=\"round\" style=\"stroke:black;stroke-width:2\" /><line x1=\"66.668\" y1=\"205.64\" x2=\"64.816\" y2=\"208.848\" stroke-linecap=\"round\" style=\"stroke:black;stroke-width:2\" /><line x1=\"64.816\" y1=\"208.848\" x2=\"61.112\" y2=\"208.848\" stroke-linecap=\"round\" style=\"stroke:black;stroke-width:2\" /><line x1=\"61.112\" y1=\"208.848\" x2=\"62.964\" y2=\"212.056\" stroke-linecap=\"round\" style=\"stroke:black;stroke-width:2\" /><line x1=\"62.964\" y1=\"212.056\" x2=\"61.112\" y2=\"215.264\" stroke-linecap=\"round\" style=\"stroke:black;stroke-width:2\" /><line x1=\"61.112\" y1=\"215.264\" x2=\"57.408\" y2=\"215.264\" stroke-linecap=\"round\" style=\"stroke:black;stroke-width:2\" /><line x1=\"57.408\" y1=\"215.264\" x2=\"55.556\" y2=\"212.056\" stroke-linecap=\"round\" style=\"stroke:black;stroke-width:2\" /><line x1=\"55.556\" y1=\"212.056\" x2=\"53.704\" y2=\"215.264\" stroke-linecap=\"round\" style=\"stroke:black;stroke-width:2\" /><line x1=\"53.704\" y1=\"215.264\" x2=\"50.0\" y2=\"215.264\" stroke-linecap=\"round\" style=\"stroke:black;stroke-width:2\" /><line x1=\"50.0\" y1=\"215.264\" x2=\"51.852\" y2=\"218.472\" stroke-linecap=\"round\" style=\"stroke:black;stroke-width:2\" /><line x1=\"51.852\" y1=\"218.472\" x2=\"50.0\" y2=\"221.68\" stroke-linecap=\"round\" style=\"stroke:black;stroke-width:2\" /><line x1=\"50.0\" y1=\"221.68\" x2=\"53.704\" y2=\"221.68\" stroke-linecap=\"round\" style=\"stroke:black;stroke-width:2\" /><line x1=\"53.704\" y1=\"221.68\" x2=\"55.556\" y2=\"224.888\" stroke-linecap=\"round\" style=\"stroke:black;stroke-width:2\" /><line x1=\"55.556\" y1=\"224.888\" x2=\"53.704\" y2=\"228.096\" stroke-linecap=\"round\" style=\"stroke:black;stroke-width:2\" /><line x1=\"53.704\" y1=\"228.096\" x2=\"50.0\" y2=\"228.096\" stroke-linecap=\"round\" style=\"stroke:black;stroke-width:2\" /><line x1=\"50.0\" y1=\"228.096\" x2=\"51.852\" y2=\"231.304\" stroke-linecap=\"round\" style=\"stroke:black;stroke-width:2\" /><line x1=\"51.852\" y1=\"231.304\" x2=\"50.0\" y2=\"234.512\" stroke-linecap=\"round\" style=\"stroke:black;stroke-width:2\" /><line x1=\"50.0\" y1=\"234.512\" x2=\"53.704\" y2=\"234.512\" stroke-linecap=\"round\" style=\"stroke:black;stroke-width:2\" /><line x1=\"53.704\" y1=\"234.512\" x2=\"55.556\" y2=\"237.72\" stroke-linecap=\"round\" style=\"stroke:black;stroke-width:2\" /><line x1=\"55.556\" y1=\"237.72\" x2=\"57.408\" y2=\"234.512\" stroke-linecap=\"round\" style=\"stroke:black;stroke-width:2\" /><line x1=\"57.408\" y1=\"234.512\" x2=\"61.112\" y2=\"234.512\" stroke-linecap=\"round\" style=\"stroke:black;stroke-width:2\" /><line x1=\"61.112\" y1=\"234.512\" x2=\"62.964\" y2=\"237.72\" stroke-linecap=\"round\" style=\"stroke:black;stroke-width:2\" /><line x1=\"62.964\" y1=\"237.72\" x2=\"61.112\" y2=\"240.928\" stroke-linecap=\"round\" style=\"stroke:black;stroke-width:2\" /><line x1=\"61.112\" y1=\"240.928\" x2=\"64.816\" y2=\"240.928\" stroke-linecap=\"round\" style=\"stroke:black;stroke-width:2\" /><line x1=\"64.816\" y1=\"240.928\" x2=\"66.668\" y2=\"244.136\" stroke-linecap=\"round\" style=\"stroke:black;stroke-width:2\" /><line x1=\"66.668\" y1=\"244.136\" x2=\"68.52\" y2=\"240.928\" stroke-linecap=\"round\" style=\"stroke:black;stroke-width:2\" /><line x1=\"68.52\" y1=\"240.928\" x2=\"72.224\" y2=\"240.928\" stroke-linecap=\"round\" style=\"stroke:black;stroke-width:2\" /><line x1=\"72.224\" y1=\"240.928\" x2=\"70.372\" y2=\"237.72\" stroke-linecap=\"round\" style=\"stroke:black;stroke-width:2\" /><line x1=\"70.372\" y1=\"237.72\" x2=\"72.224\" y2=\"234.512\" stroke-linecap=\"round\" style=\"stroke:black;stroke-width:2\" /><line x1=\"72.224\" y1=\"234.512\" x2=\"75.928\" y2=\"234.512\" stroke-linecap=\"round\" style=\"stroke:black;stroke-width:2\" /><line x1=\"75.928\" y1=\"234.512\" x2=\"77.78\" y2=\"237.72\" stroke-linecap=\"round\" style=\"stroke:black;stroke-width:2\" /><line x1=\"77.78\" y1=\"237.72\" x2=\"79.632\" y2=\"234.512\" stroke-linecap=\"round\" style=\"stroke:black;stroke-width:2\" /><line x1=\"79.632\" y1=\"234.512\" x2=\"83.336\" y2=\"234.512\" stroke-linecap=\"round\" style=\"stroke:black;stroke-width:2\" /><line x1=\"83.336\" y1=\"234.512\" x2=\"85.188\" y2=\"237.72\" stroke-linecap=\"round\" style=\"stroke:black;stroke-width:2\" /><line x1=\"85.188\" y1=\"237.72\" x2=\"83.336\" y2=\"240.928\" stroke-linecap=\"round\" style=\"stroke:black;stroke-width:2\" /><line x1=\"83.336\" y1=\"240.928\" x2=\"87.04\" y2=\"240.928\" stroke-linecap=\"round\" style=\"stroke:black;stroke-width:2\" /><line x1=\"87.04\" y1=\"240.928\" x2=\"88.892\" y2=\"244.136\" stroke-linecap=\"round\" style=\"stroke:black;stroke-width:2\" /><line x1=\"88.892\" y1=\"244.136\" x2=\"87.04\" y2=\"247.344\" stroke-linecap=\"round\" style=\"stroke:black;stroke-width:2\" /><line x1=\"87.04\" y1=\"247.344\" x2=\"83.336\" y2=\"247.344\" stroke-linecap=\"round\" style=\"stroke:black;stroke-width:2\" /><line x1=\"83.336\" y1=\"247.344\" x2=\"85.188\" y2=\"250.552\" stroke-linecap=\"round\" style=\"stroke:black;stroke-width:2\" /><line x1=\"85.188\" y1=\"250.552\" x2=\"83.336\" y2=\"253.76\" stroke-linecap=\"round\" style=\"stroke:black;stroke-width:2\" /><line x1=\"83.336\" y1=\"253.76\" x2=\"87.04\" y2=\"253.76\" stroke-linecap=\"round\" style=\"stroke:black;stroke-width:2\" /><line x1=\"87.04\" y1=\"253.76\" x2=\"88.892\" y2=\"256.968\" stroke-linecap=\"round\" style=\"stroke:black;stroke-width:2\" /><line x1=\"88.892\" y1=\"256.968\" x2=\"90.744\" y2=\"253.76\" stroke-linecap=\"round\" style=\"stroke:black;stroke-width:2\" /><line x1=\"90.744\" y1=\"253.76\" x2=\"94.448\" y2=\"253.76\" stroke-linecap=\"round\" style=\"stroke:black;stroke-width:2\" /><line x1=\"94.448\" y1=\"253.76\" x2=\"96.3\" y2=\"256.968\" stroke-linecap=\"round\" style=\"stroke:black;stroke-width:2\" /><line x1=\"96.3\" y1=\"256.968\" x2=\"94.448\" y2=\"260.176\" stroke-linecap=\"round\" style=\"stroke:black;stroke-width:2\" /><line x1=\"94.448\" y1=\"260.176\" x2=\"98.152\" y2=\"260.176\" stroke-linecap=\"round\" style=\"stroke:black;stroke-width:2\" /><line x1=\"98.152\" y1=\"260.176\" x2=\"100.004\" y2=\"263.384\" stroke-linecap=\"round\" style=\"stroke:black;stroke-width:2\" /><line x1=\"100.004\" y1=\"263.384\" x2=\"98.152\" y2=\"266.592\" stroke-linecap=\"round\" style=\"stroke:black;stroke-width:2\" /><line x1=\"98.152\" y1=\"266.592\" x2=\"94.448\" y2=\"266.592\" stroke-linecap=\"round\" style=\"stroke:black;stroke-width:2\" /><line x1=\"94.448\" y1=\"266.592\" x2=\"96.3\" y2=\"269.8\" stroke-linecap=\"round\" style=\"stroke:black;stroke-width:2\" /><line x1=\"96.3\" y1=\"269.8\" x2=\"94.448\" y2=\"273.008\" stroke-linecap=\"round\" style=\"stroke:black;stroke-width:2\" /><line x1=\"94.448\" y1=\"273.008\" x2=\"90.744\" y2=\"273.008\" stroke-linecap=\"round\" style=\"stroke:black;stroke-width:2\" /><line x1=\"90.744\" y1=\"273.008\" x2=\"88.892\" y2=\"269.8\" stroke-linecap=\"round\" style=\"stroke:black;stroke-width:2\" /><line x1=\"88.892\" y1=\"269.8\" x2=\"87.04\" y2=\"273.008\" stroke-linecap=\"round\" style=\"stroke:black;stroke-width:2\" /><line x1=\"87.04\" y1=\"273.008\" x2=\"83.336\" y2=\"273.008\" stroke-linecap=\"round\" style=\"stroke:black;stroke-width:2\" /><line x1=\"83.336\" y1=\"273.008\" x2=\"85.188\" y2=\"276.216\" stroke-linecap=\"round\" style=\"stroke:black;stroke-width:2\" /><line x1=\"85.188\" y1=\"276.216\" x2=\"83.336\" y2=\"279.424\" stroke-linecap=\"round\" style=\"stroke:black;stroke-width:2\" /><line x1=\"83.336\" y1=\"279.424\" x2=\"87.04\" y2=\"279.424\" stroke-linecap=\"round\" style=\"stroke:black;stroke-width:2\" /><line x1=\"87.04\" y1=\"279.424\" x2=\"88.892\" y2=\"282.632\" stroke-linecap=\"round\" style=\"stroke:black;stroke-width:2\" /><line x1=\"88.892\" y1=\"282.632\" x2=\"87.04\" y2=\"285.84\" stroke-linecap=\"round\" style=\"stroke:black;stroke-width:2\" /><line x1=\"87.04\" y1=\"285.84\" x2=\"83.336\" y2=\"285.84\" stroke-linecap=\"round\" style=\"stroke:black;stroke-width:2\" /><line x1=\"83.336\" y1=\"285.84\" x2=\"85.188\" y2=\"289.048\" stroke-linecap=\"round\" style=\"stroke:black;stroke-width:2\" /><line x1=\"85.188\" y1=\"289.048\" x2=\"83.336\" y2=\"292.256\" stroke-linecap=\"round\" style=\"stroke:black;stroke-width:2\" /><line x1=\"83.336\" y1=\"292.256\" x2=\"79.632\" y2=\"292.256\" stroke-linecap=\"round\" style=\"stroke:black;stroke-width:2\" /><line x1=\"79.632\" y1=\"292.256\" x2=\"77.78\" y2=\"289.048\" stroke-linecap=\"round\" style=\"stroke:black;stroke-width:2\" /><line x1=\"77.78\" y1=\"289.048\" x2=\"75.928\" y2=\"292.256\" stroke-linecap=\"round\" style=\"stroke:black;stroke-width:2\" /><line x1=\"75.928\" y1=\"292.256\" x2=\"72.224\" y2=\"292.256\" stroke-linecap=\"round\" style=\"stroke:black;stroke-width:2\" /><line x1=\"72.224\" y1=\"292.256\" x2=\"70.372\" y2=\"289.048\" stroke-linecap=\"round\" style=\"stroke:black;stroke-width:2\" /><line x1=\"70.372\" y1=\"289.048\" x2=\"72.224\" y2=\"285.84\" stroke-linecap=\"round\" style=\"stroke:black;stroke-width:2\" /><line x1=\"72.224\" y1=\"285.84\" x2=\"68.52\" y2=\"285.84\" stroke-linecap=\"round\" style=\"stroke:black;stroke-width:2\" /><line x1=\"68.52\" y1=\"285.84\" x2=\"66.668\" y2=\"282.632\" stroke-linecap=\"round\" style=\"stroke:black;stroke-width:2\" /><line x1=\"66.668\" y1=\"282.632\" x2=\"64.816\" y2=\"285.84\" stroke-linecap=\"round\" style=\"stroke:black;stroke-width:2\" /><line x1=\"64.816\" y1=\"285.84\" x2=\"61.112\" y2=\"285.84\" stroke-linecap=\"round\" style=\"stroke:black;stroke-width:2\" /><line x1=\"61.112\" y1=\"285.84\" x2=\"62.964\" y2=\"289.048\" stroke-linecap=\"round\" style=\"stroke:black;stroke-width:2\" /><line x1=\"62.964\" y1=\"289.048\" x2=\"61.112\" y2=\"292.256\" stroke-linecap=\"round\" style=\"stroke:black;stroke-width:2\" /><line x1=\"61.112\" y1=\"292.256\" x2=\"57.408\" y2=\"292.256\" stroke-linecap=\"round\" style=\"stroke:black;stroke-width:2\" /><line x1=\"57.408\" y1=\"292.256\" x2=\"55.556\" y2=\"289.048\" stroke-linecap=\"round\" style=\"stroke:black;stroke-width:2\" /><line x1=\"55.556\" y1=\"289.048\" x2=\"53.704\" y2=\"292.256\" stroke-linecap=\"round\" style=\"stroke:black;stroke-width:2\" /><line x1=\"53.704\" y1=\"292.256\" x2=\"50.0\" y2=\"292.256\" stroke-linecap=\"round\" style=\"stroke:black;stroke-width:2\" /><line x1=\"50.0\" y1=\"292.256\" x2=\"51.852\" y2=\"295.464\" stroke-linecap=\"round\" style=\"stroke:black;stroke-width:2\" /><line x1=\"51.852\" y1=\"295.464\" x2=\"50.0\" y2=\"298.672\" stroke-linecap=\"round\" style=\"stroke:black;stroke-width:2\" /><line x1=\"50.0\" y1=\"298.672\" x2=\"53.704\" y2=\"298.672\" stroke-linecap=\"round\" style=\"stroke:black;stroke-width:2\" /><line x1=\"53.704\" y1=\"298.672\" x2=\"55.556\" y2=\"301.88\" stroke-linecap=\"round\" style=\"stroke:black;stroke-width:2\" /><line x1=\"55.556\" y1=\"301.88\" x2=\"53.704\" y2=\"305.088\" stroke-linecap=\"round\" style=\"stroke:black;stroke-width:2\" /><line x1=\"53.704\" y1=\"305.088\" x2=\"50.0\" y2=\"305.088\" stroke-linecap=\"round\" style=\"stroke:black;stroke-width:2\" /><line x1=\"50.0\" y1=\"305.088\" x2=\"51.852\" y2=\"308.296\" stroke-linecap=\"round\" style=\"stroke:black;stroke-width:2\" /><line x1=\"51.852\" y1=\"308.296\" x2=\"50.0\" y2=\"311.504\" stroke-linecap=\"round\" style=\"stroke:black;stroke-width:2\" /><line x1=\"50.0\" y1=\"311.504\" x2=\"53.704\" y2=\"311.504\" stroke-linecap=\"round\" style=\"stroke:black;stroke-width:2\" /><line x1=\"53.704\" y1=\"311.504\" x2=\"55.556\" y2=\"314.712\" stroke-linecap=\"round\" style=\"stroke:black;stroke-width:2\" /><line x1=\"55.556\" y1=\"314.712\" x2=\"57.408\" y2=\"311.504\" stroke-linecap=\"round\" style=\"stroke:black;stroke-width:2\" /><line x1=\"57.408\" y1=\"311.504\" x2=\"61.112\" y2=\"311.504\" stroke-linecap=\"round\" style=\"stroke:black;stroke-width:2\" /><line x1=\"61.112\" y1=\"311.504\" x2=\"62.964\" y2=\"314.712\" stroke-linecap=\"round\" style=\"stroke:black;stroke-width:2\" /><line x1=\"62.964\" y1=\"314.712\" x2=\"61.112\" y2=\"317.92\" stroke-linecap=\"round\" style=\"stroke:black;stroke-width:2\" /><line x1=\"61.112\" y1=\"317.92\" x2=\"64.816\" y2=\"317.92\" stroke-linecap=\"round\" style=\"stroke:black;stroke-width:2\" /><line x1=\"64.816\" y1=\"317.92\" x2=\"66.668\" y2=\"321.128\" stroke-linecap=\"round\" style=\"stroke:black;stroke-width:2\" /><line x1=\"66.668\" y1=\"321.128\" x2=\"64.816\" y2=\"324.336\" stroke-linecap=\"round\" style=\"stroke:black;stroke-width:2\" /><line x1=\"64.816\" y1=\"324.336\" x2=\"61.112\" y2=\"324.336\" stroke-linecap=\"round\" style=\"stroke:black;stroke-width:2\" /><line x1=\"61.112\" y1=\"324.336\" x2=\"62.964\" y2=\"327.544\" stroke-linecap=\"round\" style=\"stroke:black;stroke-width:2\" /><line x1=\"62.964\" y1=\"327.544\" x2=\"61.112\" y2=\"330.752\" stroke-linecap=\"round\" style=\"stroke:black;stroke-width:2\" /><line x1=\"61.112\" y1=\"330.752\" x2=\"57.408\" y2=\"330.752\" stroke-linecap=\"round\" style=\"stroke:black;stroke-width:2\" /><line x1=\"57.408\" y1=\"330.752\" x2=\"55.556\" y2=\"327.544\" stroke-linecap=\"round\" style=\"stroke:black;stroke-width:2\" /><line x1=\"55.556\" y1=\"327.544\" x2=\"53.704\" y2=\"330.752\" stroke-linecap=\"round\" style=\"stroke:black;stroke-width:2\" /><line x1=\"53.704\" y1=\"330.752\" x2=\"50.0\" y2=\"330.752\" stroke-linecap=\"round\" style=\"stroke:black;stroke-width:2\" /><line x1=\"50.0\" y1=\"330.752\" x2=\"51.852\" y2=\"333.96\" stroke-linecap=\"round\" style=\"stroke:black;stroke-width:2\" /><line x1=\"51.852\" y1=\"333.96\" x2=\"50.0\" y2=\"337.168\" stroke-linecap=\"round\" style=\"stroke:black;stroke-width:2\" /><line x1=\"50.0\" y1=\"337.168\" x2=\"53.704\" y2=\"337.168\" stroke-linecap=\"round\" style=\"stroke:black;stroke-width:2\" /><line x1=\"53.704\" y1=\"337.168\" x2=\"55.556\" y2=\"340.376\" stroke-linecap=\"round\" style=\"stroke:black;stroke-width:2\" /><line x1=\"55.556\" y1=\"340.376\" x2=\"53.704\" y2=\"343.584\" stroke-linecap=\"round\" style=\"stroke:black;stroke-width:2\" /><line x1=\"53.704\" y1=\"343.584\" x2=\"50.0\" y2=\"343.584\" stroke-linecap=\"round\" style=\"stroke:black;stroke-width:2\" /><line x1=\"50.0\" y1=\"343.584\" x2=\"51.852\" y2=\"346.792\" stroke-linecap=\"round\" style=\"stroke:black;stroke-width:2\" /><line x1=\"51.852\" y1=\"346.792\" x2=\"50.0\" y2=\"350.0\" stroke-linecap=\"round\" style=\"stroke:black;stroke-width:2\" />\n",
              "        \n",
              "        \n",
              "        <g id=\"turtle2\" visibility=\"visible\" transform=\"rotate(30,50.0,350.0) translate(50.0, 350.0)\">\n",
              "<polygon points=\"0,16 2,14 1,10 4,7 7,9 9,8 6,5 7,1 5,-3 8,-6 6,-8 4,-5 0,-7 -4,-5 -6,-8 -8,-6 -5,-3 -7,1 -6,5 -9,8 -7,9 -4,7 -1,10 -2,14\" transform=\"skewX(0) scale(1,1)\" style=\"stroke:black;stroke-width:1;fill:black\" />\n",
              "<animateTransform id = \"one\" attributeName=\"transform\" \n",
              "                      type=\"scale\"\n",
              "                      from=\"1 1\" to=\"1 1\"\n",
              "                      begin=\"0s\" dur=\"0.01s\"\n",
              "                      repeatCount=\"1\"\n",
              "                      additive=\"sum\"\n",
              "                      fill=\"freeze\"\n",
              "                /><animateTransform attributeName=\"transform\"\n",
              "                    type=\"rotate\"\n",
              "                    from=\"0 0 0\" to =\"-120 0 0\"\n",
              "                    begin=\"one.end\" dur=\"0.006666666666666666s\"\n",
              "                    repeatCount=\"1\"\n",
              "                    additive=\"sum\"\n",
              "                    fill=\"freeze\"\n",
              "                /></g>\n",
              "      </svg>\n",
              "    "
            ]
          },
          "metadata": {}
        }
      ]
    },
    {
      "cell_type": "markdown",
      "source": [
        "#### More snow!\n",
        "\n",
        "There is lots more about the Koch snowflake and its kin...   \n",
        "\n",
        "Google around and you'll find that branching recursion and fractals are one and the same thing:\n",
        "\n",
        "- [the Koch Snowflake](https://en.wikipedia.org/wiki/Koch_snowflake)\n",
        "- [the Menger Sponge](https://en.wikipedia.org/wiki/Menger_sponge)\n",
        "- [Julia Sets](https://en.wikipedia.org/wiki/Julia_set#/media/File:Julia_set,_plotted_with_Matplotlib.svg)\n",
        "- [space-filling curves](https://en.wikipedia.org/wiki/Space-filling_curve)\n",
        "\n",
        "\n",
        "<br>"
      ],
      "metadata": {
        "id": "ztXw3JL-B1V1"
      }
    },
    {
      "cell_type": "markdown",
      "source": [
        "# <font color = \"dodgerblue\"> **Submitting...**\n",
        "\n",
        "To submit,\n",
        "+ first, download your <tt>.ipynb</tt> notebook - with your turtle images present\n",
        "+ then upload the resulting file to GradeScope\n",
        "\n",
        "You're set!\n",
        "\n",
        "<br>\n",
        "\n",
        "If you're in the mood for more turtle (or have homework in other courses to procrastinate...), read on!\n",
        "\n"
      ],
      "metadata": {
        "id": "7OtpwkwL1Uao"
      }
    },
    {
      "cell_type": "markdown",
      "source": [
        "### More turtle?\n",
        "\n",
        "<b>Extra credit options</b>\n",
        "\n",
        "If you enjoy creating turtle graphics, whether recursive or not, you're invited to try more!\n",
        "\n",
        "+ For extra-credit of up to +8.42 points, include additional cell(s) with your own custom-designed turtle creations...  (and the code used to create them)\n",
        "  + This is your \"turtle-graphics portfolio\"!\n",
        "+ In fact, you may already have a portfolio! If you've already created a work you like, you can always copy the code to a new cell and then continue working/developing from there. It's completely OK if it was accidental!\n",
        "+ Feel free to build something new, whether by designed or <i>unencumbered by strategic assembly</i> ...\n",
        "+ Since lab does usually have as much e.c., if you do create additional turtle-artwork, please submit you under this week's e.c. problem, <tt>hw2pr5</tt>\n",
        "\n",
        "\n",
        "The grutors - and we - look forward to your turtle-visions!\n",
        "\n",
        "<br>\n",
        "\n",
        "<i>Happy turtling!</i>\n"
      ],
      "metadata": {
        "id": "m_n0JcwaaqVC"
      }
    },
    {
      "cell_type": "code",
      "source": [
        "# run this cell to create a good-job-for-finishing star 🤩\n",
        "\n",
        "t.clearscreen()      # it's good to start every cell with this\n",
        "t.setup(500,500)     # setup the drawing area to be 500 pixels x 500 pixels\n",
        "t.showborder()       # show the border of the drawing area\n",
        "\n",
        "t.bgcolor(\"AliceBlue\")   # adjust to your preferences!\n",
        "t.shape(\"turtle2\")\n",
        "t.speed(10)\n",
        "t.width(2)\n",
        "\n",
        "def star(n):\n",
        "    \"\"\" draws a star!\n",
        "        call with star(5)\n",
        "    \"\"\"\n",
        "    if n == 0:\n",
        "        return\n",
        "    else:\n",
        "        t.forward(100)\n",
        "        t.right(144)\n",
        "        star(n-1)\n",
        "\n",
        "t.fillcolor(\"gold\")\n",
        "t.begin_fill()\n",
        "star(5)\n",
        "t.end_fill()\n",
        "\n",
        "t.penup()\n",
        "t.backward(100)\n",
        "t.pendown()"
      ],
      "metadata": {
        "id": "NDBKSska90kK",
        "colab": {
          "base_uri": "https://localhost:8080/",
          "height": 521
        },
        "outputId": "a6772c8a-65b5-4b03-dac9-1b0761cd937e"
      },
      "execution_count": 74,
      "outputs": [
        {
          "output_type": "display_data",
          "data": {
            "text/plain": [
              "<IPython.core.display.HTML object>"
            ],
            "text/html": [
              "\n",
              "      <svg width=\"500\" height=\"500\">  \n",
              "        <rect width=\"100%\" height=\"100%\" style=\"fill:aliceblue;stroke:gray;stroke-width:1\"/>\n",
              "        \n",
              "        \n",
              "        <path fill-rule=\"evenodd\" fill-opacity=\"1\" d=\"M 250.0 250.0  L 350.0 250.0  L 269.098 308.779  L 300.0 213.673  L 330.902 308.779  L 250.0 250.0 \" stroke-linecap=\"round\" style=\"stroke:black;stroke-width:2\" fill=\"gold\" />\n",
              "        \n",
              "        \n",
              "        <g id=\"turtle2\" visibility=\"visible\" transform=\"rotate(-90,150.0,250.0) translate(150.0, 250.0)\">\n",
              "<polygon points=\"0,16 2,14 1,10 4,7 7,9 9,8 6,5 7,1 5,-3 8,-6 6,-8 4,-5 0,-7 -4,-5 -6,-8 -8,-6 -5,-3 -7,1 -6,5 -9,8 -7,9 -4,7 -1,10 -2,14\" transform=\"skewX(0) scale(1,1)\" style=\"stroke:black;stroke-width:1;fill:gold\" />\n",
              "</g>\n",
              "      </svg>\n",
              "    "
            ]
          },
          "metadata": {}
        }
      ]
    }
  ]
}