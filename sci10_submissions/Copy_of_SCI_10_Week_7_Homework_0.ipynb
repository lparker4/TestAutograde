{
  "cells": [
    {
      "cell_type": "markdown",
      "metadata": {
        "id": "70oTs409JIAS"
      },
      "source": [
        "# Homework 7 Notebook\n",
        "\n",
        "\n",
        "\n",
        "\n"
      ]
    },
    {
      "cell_type": "markdown",
      "metadata": {
        "id": "1P-8j2VhO7__"
      },
      "source": [
        "This week's homework comprises a short warmup (Part 1), a code cell on selection (Part 2), one short answer question based on that code cell (Part 3), a very short question (Part 4), and a reading and short essay question (Part 5)."
      ]
    },
    {
      "cell_type": "markdown",
      "metadata": {
        "id": "BTCmwcveG2zO"
      },
      "source": [
        "<font color=\"dodgerblue\">**Submitting**</font>\n",
        "\n",
        "As in previous weeks, use this notebook as a template to\n",
        "+ make your own copy\n",
        "+ when you have worked through the five facets of the assignment:\n",
        "  + share your notebook with `zdodds@gmail.com` and `ranlibeskindhadas@gmail.com`\n",
        "  + and submit its url, _your copy's url_, to the usual spot on Canvas\n"
      ]
    },
    {
      "cell_type": "code",
      "execution_count": null,
      "metadata": {},
      "outputs": [],
      "source": []
    },
    {
      "cell_type": "markdown",
      "metadata": {
        "id": "hG4dlXiH_XUj"
      },
      "source": [
        "**Selection Pressure**\n",
        "\n",
        "In lab, you explored the effects of genetic drift using Shmoodies as our model organism. Now we'll introduce selection pressure into our model. It has been found that the `A` allele confers Shmoodies with high degree of immunity to a particular disease whereas the `B` allele does not. In particular, Shmoodies with the `A` allele have probability $p$ of living to reproductive age whereas Shmoodies with the `B` allele have probability $q$ of living to reprodutive age. We'll explore the impacts of these probabilities $p$ and $q$ in our experiments, but as probabilities they must be between $0$ and $1$ and, presumably, $p$ is close to $1.0$. Moreover, we should assume that $q < p$.\n",
        "\n",
        "Before we get started, let's take an aside on probabilities. Recall that in our absent-minded professor problem, the probability of a left move and right move was the same: $0.5$ probability for each of those two options. Imagine instead that the probability of a left move is $p$ (and, thus the probability of a right move is $1-p$). We'd like to simulate $n$ steps in the random walk process where the left and right moves have probabilities $p$ and $1-p$ respectively, rather than $0.5$ and $0.5$ as before. We can no longer use `random.choice` because that function chooses options from a list with equal probability. Instead, we generate a number at random between $0.0$ and $1.0$ using `random.random()`. If that value is less than or equal to $p$, we generate a left move and otherwise we generate a right move. The code cell demonstrates this. Try it out with different values of $p$ between $0.0$ and $1.0$. Pause for a moment to explain to yourself why this works to generate a left move with probability $p$."
      ]
    },
    {
      "cell_type": "code",
      "execution_count": null,
      "metadata": {
        "colab": {
          "base_uri": "https://localhost:8080/"
        },
        "id": "Cd3fRZI7Qt36",
        "outputId": "3ff248f2-1491-4e15-bcda-b3272a800cc4"
      },
      "outputs": [
        {
          "name": "stdout",
          "output_type": "stream",
          "text": [
            "Left\n",
            "Right\n",
            "Right\n",
            "Right\n",
            "Left\n",
            "Right\n",
            "Right\n",
            "Right\n",
            "Right\n",
            "Left\n"
          ]
        }
      ],
      "source": [
        "import random\n",
        "import time\n",
        "\n",
        "def biasedRandomWalk(p, numSteps):\n",
        "  \"\"\" Performs a biased random walk in which the probability of a left step is p\n",
        "      and the probability of a right step is (1-p). Iterates numSteps times\n",
        "      and prints Left or Right at each step. \"\"\"\n",
        "\n",
        "  for i in range(numSteps):\n",
        "    if random.uniform(0,1) <= p:\n",
        "      print(\"Left\")\n",
        "    else:\n",
        "      print(\"Right\")\n",
        "    # pause for a second... well, .46 of a second:\n",
        "    time.sleep(.46)\n",
        "\n",
        "# test with a 0.3 chance (30%) of moving left for 10 steps\n",
        "biasedRandomWalk(0.3, 10)"
      ]
    },
    {
      "cell_type": "markdown",
      "metadata": {
        "id": "05S8BIGsRUc9"
      },
      "source": [
        "<font color=\"firebrick\">**Part 1**</font> In the code cell below is another version of the biased random walk that takes the probability `p` of a left (-1) move as input and takes a positive integer distance `d` as input. It then performs the random walk until the walker has veered distance `d` from the start position - that is, until the position of the walker is either `-d` or `d`.\n",
        "\n",
        "Here are your tasks:\n",
        "   1. There is a small bug in the `biasedRandomWalk` function. You'll need to fix just one item in one line of code.\n",
        "   2. Write the code for the `experiment(numTrials, p, d)` function which runs `numTrials` trials of the biased random walk and returns the list of numbers of steps taken by the random walker for each of those trials."
      ]
    },
    {
      "cell_type": "code",
      "execution_count": 1,
      "metadata": {
        "colab": {
          "base_uri": "https://localhost:8080/"
        },
        "id": "yAVOlm5a8F0n",
        "outputId": "16670127-40bd-4400-b8e8-2a8a8a8db18b"
      },
      "outputs": [
        {
          "name": "stdout",
          "output_type": "stream",
          "text": [
            "[17, 17, 29, 23, 41, 15, 53, 43, 21, 5, 23, 9, 15, 53, 27, 15, 19, 7, 13, 25, 61, 41, 17, 13, 7, 29, 11, 9, 25, 37, 51, 7, 43, 25, 19, 29, 23, 5, 39, 9, 5, 59, 11, 51, 15, 15, 41, 11, 13, 25, 13, 13, 5, 43, 41, 19, 17, 29, 11, 27, 13, 33, 13, 31, 37, 9, 17, 11, 9, 15, 17, 53, 11, 5, 23, 19, 35, 109, 11, 43, 69, 5, 21, 5, 31, 11, 85, 47, 11, 31, 17, 37, 9, 33, 7, 15, 11, 105, 21, 21]\n",
            "Mean number of steps p = 0.5, d = 5:  25.4\n",
            "Mean number of steps p = 0.4, d = 5:  16.6\n",
            "Mean number of steps p = 0.3, d = 5:  12.4\n",
            "Mean number of steps p = 0.01, d = 5:  5.04\n"
          ]
        }
      ],
      "source": [
        "import random\n",
        "import statistics\n",
        "\n",
        "random.seed(46)\n",
        "\n",
        "def biasedRandomWalk1(p, d):\n",
        "  \"\"\" Performs a biased random walk in which the probability of a left (-1) step\n",
        "      is p and the probability of a right step is (1-p). Returns the number of\n",
        "      steps taken until the walker has moved d steps away from the start\n",
        "      position.\n",
        "  \"\"\"\n",
        "  location = 0\n",
        "  counter = 0\n",
        "  while -d < location < d:\n",
        "    counter += 1\n",
        "    if random.uniform(0,1) <= p:\n",
        "      location -= 1\n",
        "    else:\n",
        "      location += 1\n",
        "  return counter #meant to return counter instead of the location\n",
        "\n",
        "def experiment(numTrials, p, d):\n",
        "  \"\"\" Performs numTrials trials of the biasedRandomWalk with parameters p and d\n",
        "      and returns the list of the number of steps taken in each of those walks.\n",
        "  \"\"\"\n",
        "  output = []\n",
        "  for i in range(numTrials):\n",
        "    counter = 0\n",
        "    counter = biasedRandomWalk1(p, d)\n",
        "    output.append(counter)\n",
        "  return output\n",
        "\n",
        "  # FILL IN ABOUT FOUR LINES OF CODE BELOW\n",
        "\n",
        "\n",
        "# The first test will give a result of 25.4 when the random.seed(46) is used\n",
        "exp1 = experiment(100, 0.5, 5)\n",
        "print(exp1)\n",
        "print(\"Mean number of steps p = 0.5, d = 5: \", statistics.mean(exp1))\n",
        "exp2 = experiment(100, 0.4, 5)\n",
        "print(\"Mean number of steps p = 0.4, d = 5: \", statistics.mean(exp2))\n",
        "exp3 = experiment(100, 0.3, 5)\n",
        "print(\"Mean number of steps p = 0.3, d = 5: \", statistics.mean(exp3))\n",
        "exp3 = experiment(100, 0.01, 5)\n",
        "print(\"Mean number of steps p = 0.01, d = 5: \", statistics.mean(exp3))"
      ]
    },
    {
      "cell_type": "markdown",
      "metadata": {
        "id": "OSH9JQAprOHG"
      },
      "source": [
        "**Survivor!** Here's another example of the use of random numbers to do something with a particular probability. The `surviveToReproduce` function takes an `input` list of A's and B's as input as well as two probabilities, `p` and `q`. It then generates a new output list as follows: For each A organism in the input list, that A organism has probability `p` of surviving to reproduce and being added to the output list. For each B in the input list, that B has probability `q` of surviving to reproduce and being added to the output list.\n",
        "\n",
        "<font color=\"firebrick\">Try running it several times.</font> Notice that the subpopulation that survives to reproduce is generally smaller than the original population because, in this test, each A organism had a 0.9 chance (90%) of living to reproductive age and each B organism had a 0.3 chance(30%) of living to reproductive age. Fiddle with the values of `p` and `q` a bit just to see what happens."
      ]
    },
    {
      "cell_type": "code",
      "execution_count": null,
      "metadata": {
        "colab": {
          "base_uri": "https://localhost:8080/"
        },
        "id": "OeJodW9ZkIDp",
        "outputId": "adb6b2c3-5320-47e3-d006-679f8050cb56"
      },
      "outputs": [
        {
          "name": "stdout",
          "output_type": "stream",
          "text": [
            "The initial population is:  ['A', 'A', 'A', 'A', 'A', 'A', 'A', 'A', 'A', 'A', 'B', 'B', 'B', 'B', 'B', 'B', 'B', 'B', 'B', 'B']\n",
            "The subpopulation surviving to reproduce is:  ['A', 'A', 'A', 'A', 'A', 'A', 'A', 'A', 'A', 'B', 'B', 'B']\n"
          ]
        }
      ],
      "source": [
        "import random\n",
        "\n",
        "def surviveToReproduce(input, p, q):\n",
        "  ''' Takes as an input list of A's and B's\n",
        "      and probabilities p and q. Returns a new output list generated\n",
        "      by keeping each A with probability p and keeping each B with\n",
        "      probability q.\n",
        "  '''\n",
        "\n",
        "  output = []\n",
        "  for organism in input:\n",
        "    if organism == 'A':\n",
        "      if random.uniform(0,1) <= p:\n",
        "        output.append(organism)\n",
        "    else: # organism is 'B'\n",
        "      if random.uniform(0,1) <= q:\n",
        "        output.append(organism)\n",
        "  return output\n",
        "\n",
        "population = ['A']*10 + ['B']*10   # A list of 10 A's followed by 10 B's\n",
        "print(\"The initial population is: \", population)\n",
        "survivorsList = surviveToReproduce(population, 0.9, 0.3)\n",
        "print(\"The subpopulation surviving to reproduce is: \", survivorsList)"
      ]
    },
    {
      "cell_type": "markdown",
      "metadata": {
        "id": "vhlo-ceJUMaO"
      },
      "source": [
        "<font color=\"firebrick\">**Part 2**</font> Now, we'll implement a population genetics simulation for Shmoodies with natural selection.\n",
        "\n",
        "Our main function, `plotGensSelection`, takes these inputs:\n",
        "   * `Apop` and `Bpop`: The number of A and B alleles in the initial population, respectively;\n",
        "   * `fitnessA` and `fitnessB`: The probability that A's and B's survive to sexual maturity, respectively. Each of these numbers is a probability and is therefore in the range from 0 to 1.\n",
        "   * `numGens`: The number of generations to simulate.\n",
        "\n",
        "1.  We start with a population (a list) of `Apop` A's and `Bpop` B's. Let `n` denote `Apop + Bpop`, the size of our population. Every generation will have size `n`.\n",
        "2.  We record the fraction of A's in the population in another list, let's call it `fracAs`. (There no need to record the fraction of B's in the population.)\n",
        "3.  We then call the `surviveToReproduce` function with our population and `fitnessA` and `fitnessB` values, resulting in some of the A's and B's not surviving to reproduce. Let's denote the list that is returned by the `surviveToReproduce` function the `survivorsList`. That's the list of organisms that will now have an opportunity to reproduce.\n",
        "4. We construct a new population of the same size as the original population by choosing `n` elements at random from the `survivorsList`.\n",
        "5. That new list becomes our new population. We go back to step 2 and repeat this process a total of `numGen` times.\n",
        "6. Finally, we plot the `fracAs` list using matplotlib (don't forget to label the axes and include a title).\n",
        "\n",
        "\n",
        "\n"
      ]
    },
    {
      "cell_type": "code",
      "execution_count": null,
      "metadata": {
        "colab": {
          "base_uri": "https://localhost:8080/",
          "height": 295
        },
        "id": "qfRivuUBULnm",
        "outputId": "eb1fb894-32df-43ec-f58b-bb10ef1c0cd6"
      },
      "outputs": [
        {
          "data": {
            "image/png": "[encoded data removed]",
            "text/plain": [
              "<Figure size 432x288 with 1 Axes>"
            ]
          },
          "metadata": {
            "needs_background": "light"
          },
          "output_type": "display_data"
        }
      ],
      "source": [
        "import matplotlib.pyplot as plt  # This imports the tools that we need for plotting\n",
        "import random\n",
        "\n",
        "\n",
        "def surviveToReproduce(input, p, q):\n",
        "  ''' Takes as an input list of A's and B's\n",
        "      and probabilities p and q. Returns a new output list generated\n",
        "      by keeping each A with probability p and keeping each B with\n",
        "      probability q.\n",
        "  '''\n",
        "  output = []\n",
        "  for organism in input:\n",
        "    if organism == 'A':\n",
        "      if random.uniform(0,1) <= p:\n",
        "        output.append(organism)\n",
        "    else: # organism is 'B'\n",
        "      if random.uniform(0,1) <= q:\n",
        "        output.append(organism)\n",
        "  return output\n",
        "\n",
        "def plotGensSelection(Apop, Bpop, fitnessA, fitnessB, numGens):\n",
        "  ''' Inputs Apop and Bpop are the number of organisms with A and B alleles.\n",
        "      Input fitnessA is the probability that A's live to reproductive age.\n",
        "      Input fitnessB is the probability that B's live to reproductive age.\n",
        "      numGens is the number of generations for the simulation.\n",
        "      numTrials is the number of trials of the simulation.\n",
        "      This function plots the fraction of organisms that have the A allele in\n",
        "      each of numGens generations.\n",
        "  '''\n",
        "  currentGeneration = ['A'] * Apop + ['B'] * Bpop\n",
        "  n = len(currentGeneration)\n",
        "  fracAs = []\n",
        "  for i in range(numGens):\n",
        "    survivorsList = surviveToReproduce(currentGeneration, fitnessA, fitnessB)\n",
        "    nextGeneration = random.choices(currentGeneration, k=n)\n",
        "    currentGeneration = nextGeneration\n",
        "    As = currentGeneration.count(\"A\")\n",
        "    part = As/n\n",
        "    fracAs.append(part)\n",
        "\n",
        "\n",
        "  plt.plot(fracAs)\n",
        "  plt.xlabel(\"Generation\")\n",
        "  plt.ylabel(\"Fraction of A Alleles\")\n",
        "  plt.title(\"Fraction of A Alleles Over Generations\")\n",
        "  plt.show()\n",
        "\n",
        "plotGensSelection(100, 1000, .7, 0.69, 200)"
      ]
    },
    {
      "cell_type": "markdown",
      "metadata": {
        "id": "KMd-V_yqK6K1"
      },
      "source": [
        "<font color=\"firebrick\">**Part 3**</font> This is a short answer question. Notice that in the experiment above, the A allele has fitness 1.0 and the B allele has fitness 0.95 - not a very big difference!\n",
        "\n",
        "  * Run the simulation above 10 times. _What fraction of those 10 random trials resulted in fixation to the A allele?_\n",
        "  8/10 fixated to the A allele.\n",
        "  * Now, change the line `plotGensSelection(100, 1000, 1.0, 0.95, 200)` that runs your experiment so that the A allele has fitness 0.7 and the B allele has fitness 0.69. Neither A nor B is perfectly fit, and the difference in fitness is very small. Run this again for 10 random trials. _In this text cell, briefly respond to the question \"What fraction of those 10 random trials resulted in fixation to the A allele?_\" (Note, some of your trials might not fix to A or B in 200 generations.) 2/10 resulted in a fixation to the A allele."
      ]
    },
    {
      "cell_type": "markdown",
      "metadata": {
        "id": "vMNX0sa_lGXI"
      },
      "source": [
        "<font color=\"firebrick\">**Part 4**</font> An important part of science is asking questions. We'd like  you to share at least two questions that came up for _you_ in this course this week - in class, in lab, or on this homework. These can be anything of interest that you would be curious to learn more about at some point. Please place at least two such questions in this text cell.\n",
        "\n",
        "  1. To what extent has the CRISPR gene caused errors that have now affected the functioning of humans?\n",
        "  2. How does the body know when to utilize homologous or nonhomologous methods to fix breaks in DNA?"
      ]
    },
    {
      "cell_type": "markdown",
      "metadata": {
        "id": "lrTJjYeJqIvl"
      },
      "source": [
        "## Misuse and Abuse of Science\n",
        "\n",
        "In the second half of the semester, we'll be doing some writing about science, ethics, and society. This week, you'll be learning a bit about the misuse of scientific concepts and writing about that to a high school science audience. In subsequent weeks, you'll explore other issues and write for different audiences. This week, you'll notice that we've been quite explicit about the format and structure of the writing. This is just to help you with the organization of this first writing assignment. We'll be more relaxed about this in future writing assignments.\n",
        "\n",
        "While science has the potential to do great good, there is a long history of misusing and abusing science to advance racist ideologies. One particularly striking example is the attempt to apply natural selection to justify the racist ideologies of Social Darwinism and eugenics.\n",
        "\n",
        "<font color=\"firebrick\">**Part 5**</font>\n",
        "\n",
        "Take some time to explore these resources; it will probably take a total of about 45 minutes to read through them:\n",
        "   * Fact sheet on [Eugenics and Scientific Racism ](https://www.genome.gov/about-genomics/fact-sheets/Eugenics-and-Scientific-Racism) from the National Institutes of Health\n",
        "   * [In the Name of Darwin](http://www.pbs.org/wgbh/evolution/darwin/nameof/page03.html) by Dr. Daniel Keeves, Professor of History at Yale University\n",
        "   * [Eugenics and Nazi Racial Hygiene](https://encyclopedia.ushmm.org/content/en/article/deadly-medicine-creating-the-master-race?series=18) from the United States Holocaust Museum (note that this site has seven web pages; at the bottom of each page is the link to the next one - please read at least the first three of them, but reading all of them will be informative!)\n",
        "   * [What CRISPR-baby prison sentences mean for research](https://www.nature.com/articles/d41586-020-00001-y)\n",
        "\n",
        "Your task here is to write a short essay intended for a sidebar in a high school biology text. The title of the sidebar article is \"Social Darwinism and Eugenics\" Here is the prompt in detail:\n",
        "\n",
        "   * **Write your essay in the text cell below.**\n",
        "   * Your essay should be between 450 and 550 words long.\n",
        "   * You should assume that the essay is embedded in a chapter on evolution in a high school biology textbook. That chapter has already described the theory of evolution and Darwin's notion of survival of the fittest. You don't need to explain those concepts.\n",
        "   * Your essay *should* begin with an introductory paragraph that explains the related (but not entirely identical) concepts of Social Darwinism and eugenics, briefly outlines the time periods in which these theories emerged and their role in the Nazi movement in Germany and in advancing racist ideologies in the United States.\n",
        "   * In the next paragraph, describe Social Darwinism in more detail and why its tenets do not follow from Darwin's theory of evolution.\n",
        "   * In the following paragraph, describe the eugenics movement which followed from Social Darwinism and the role of scientists and medical doctors in atrocities ranging from forced sterilization to genocide.\n",
        "   * Next, briefly describe the CRISPR-baby \"scandal\", how it relates to the issues in the previous paragraphs, and the issues that it raises for the future of genetic engineering.\n",
        "   * Finally, in your conclusion paragraph, briefly summarize the key learning outcomes that you wish for the reader to take away.\n",
        "\n",
        "Here's the rubric that we'll use to grade this essay (with each sub-bullet category graded on a scale of 1-3; with 3 being strong, 2 indicating a good start but with room for refinement, and 1 indicating a need for significant refinement):\n",
        "\n",
        "*  Introduction provides a brief but clear overview of the topic and the rest of the essay\n",
        "*   Body\n",
        "   * Each paragraph begins with a topic sentence\n",
        "   * Each paragraph supports the topic sentence\n",
        "   * Paragraphs connect logically\n",
        "* Grammar, style, and convention\n",
        "   * Clear and concise prose, correct grammar and spelling\n",
        "   * Appropriate language for this audience (avoids using technical terms except when previously defined and only when necessary)\n",
        "\n",
        "\n",
        "\n",
        "\n"
      ]
    },
    {
      "cell_type": "markdown",
      "metadata": {
        "id": "WnFE9qPbPo3q"
      },
      "source": [
        "**A1:**Please write your essay here.\n",
        "\n",
        "Eugenics is the idea that through the selective breeding of populations, human society can be improved. This involves the utilization of forced sterilization and segregation to ensure that only certain characteristics are present amongst the human population. This relates back to the concept of Social Darwinism, the concept that only the “best fit” would be able to gain the most power in society. Eugenics, however, is the forced means of making the “best fit” get the power. These forced mechanisms have been implemented in many situations, the most notable being the Holocaust in Germany. Eugenics allowed for what leader Adolf Hitler felt was the best race to take over. He issued for the Nazi’s to force unfit people into sterilization and sent them to concentration camps. These “unfit” people mostly consisted of Jews. The Holocaust allowed for influence across the globe, and advanced the progression of racism in the United States with slavery.\n",
        "\n",
        "The beliefs of Social Darwinism, however, do not correspond to Darwin’s initial theory of evolution. Although it evolved from it, Social Darwinism changed it to justify racism and discrimination. Darwin’s theory of evolution focused on how species evolved overtime through the process of natural selection. Those species that were able to best adapt to their environment were claimed most fit. Social Darwinism twisted this politically to justify social and political inequality. It is important to note that Darwin did not mean this in his theory of evolution.\n",
        "\n",
        "The eugenics movement continued this evolution from the theory of evolution to Social Darwinism, to justify that only certain individuals and groups should be reproduced to improve the genetic makeup of future generations. It truly only extended the amount of immorality present within society. It allowed for even doctors to perform surgeries to restrict the reproduction of certain groups of people, to ensure that these characteristics would  no longer be present. Essentially, it extended Social Darwinism to be a physical force (where real action was taken) in restricting unwanted populations of people.\n",
        "\n",
        "It can be seen that the eugenics movement evolved even further with the introduction of CRISPR. CRISPR is a gene editing technology created to modify cells to change genes. The first uses of it, in China, resulted in the doctor being put in jail for illegal medical practices. Essentially, since it allows for modification of genes, it is considered immoral because it has the potential to continue to act on the history of eugenics by changing genes so certain characteristics and populations of groups are no longer present within society. The positives of it are that of course it can help reduce mutations, but there is so much room for harming society that it is incredibly dangerous and difficult to draw the line for where it is ethically okay. This technology will only continue humans' history of discrimination and racism.\n",
        "\n",
        "In conclusion, the concept of trying to modify the presence of certain characteristics in society has been growing for thousands of years and with the evolution of technology, it will only continue to develop. Humans need to be made more aware of the history of these concepts to not continue to allow and fund technology that advances these unethical practices. Clearly, racism is becoming instilled into society and being made okay. More control needs to be given over what technology can have the power over. No characteristics should be taking over society, as no characteristics have a way to be proven the best.\n"
      ]
    }
  ],
  "metadata": {
    "colab": {
      "provenance": []
    },
    "kernelspec": {
      "display_name": "Python 3",
      "name": "python3"
    },
    "language_info": {
      "codemirror_mode": {
        "name": "ipython",
        "version": 3
      },
      "file_extension": ".py",
      "mimetype": "text/x-python",
      "name": "python",
      "nbconvert_exporter": "python",
      "pygments_lexer": "ipython3",
      "version": "3.10.11"
    }
  },
  "nbformat": 4,
  "nbformat_minor": 0
}
