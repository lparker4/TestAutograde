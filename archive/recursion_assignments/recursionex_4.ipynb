{
  "cells": [
    {
      "cell_type": "markdown",
      "metadata": {
        "id": "UrkiOTiDEjwp"
      },
      "source": [
        "# Welcome back, CS5!\n",
        "\n",
        "\n",
        "### _Assignment 3 Notebook: Recursive Functions_\n"
      ]
    },
    {
      "cell_type": "markdown",
      "metadata": {
        "id": "NoXM4SE7QVPh"
      },
      "source": [
        "### <font color=\"Red\"><b>Overview of this week's Python Notebook</b> (this notebook)</font>\n",
        "\n",
        "Previously we introduced Python's _conditionals_.\n",
        "+ In fact, we \"completed\" them!\n",
        "+ _All_ computational decision making is expressed from the building blocks of `if` `elif` and `else` !\n",
        "\n",
        "Last week, we added _data transformation_\n",
        "+ Processes transforming input data to output data.\n",
        "+ This is \"computing,\" most stereotypically...\n",
        "\n",
        "This notebook has one main challenge, with a few subparts:\n",
        "+ control with functions: _recursion_ as a problem-solving strategy\n",
        "\n",
        "Let's dive in!"
      ]
    },
    {
      "cell_type": "markdown",
      "metadata": {
        "id": "M7dzL4m4fPYf"
      },
      "source": [
        "### <font color=\"DodgerBlue\"><b>Make your own copy of this notebook (as in each week)</b></font>\n",
        "\n",
        "**Submitting** -- When you're ready to submit, be sure to\n",
        "+ **share** the notebook with me -- for ease, please use two addresses:\n",
        "   + `dodds@g.hmc.edu`\n",
        "   + `zdodds@gmail.com`\n",
        "+ and also **submit** the downloaded copy of your notebook at the appropriate spot on Gradescope"
      ]
    },
    {
      "cell_type": "markdown",
      "metadata": {
        "id": "xQFAXxqkQUfm"
      },
      "source": [
        "# <font color=\"#f96d7b\"><b>Recursion!</b></font>\n",
        "\n",
        "A very powerful approach to problem-solving is _recursion_.\n",
        "\n",
        "It finds and uses a situation's _self-similarity_ to solve a problem:\n",
        "+ self-similarity sometimes feels less \"natural\" than sequencing\n",
        "+ however, there are problems where self-similarity is a much better fit\n",
        "+ also, if a problem is solvable, it's _always_ possible to solve it with recursion\n",
        "  + to be fair, it's also always possible to solve it with sequence-based approaches (iteration)\n",
        "  + that said, _humans_ who are familiar with both -- they tend to have a much bigger set of solution-techniques!"
      ]
    },
    {
      "cell_type": "markdown",
      "metadata": {
        "id": "YCnyoiONRcPJ"
      },
      "source": [
        "### Recursive function examples\n",
        "+ A great way to build recursive problem-solving is to, first, try some complete examples\n",
        "+ Here are several -- from class and beyond:"
      ]
    },
    {
      "cell_type": "code",
      "execution_count": 1,
      "metadata": {
        "colab": {
          "base_uri": "https://localhost:8080/"
        },
        "id": "s_J3TZPO0ZnA",
        "outputId": "262915b2-7a40-46a4-c236-218c72b087b9"
      },
      "outputs": [
        {
          "name": "stdout",
          "output_type": "stream",
          "text": [
            "replaceIs('alien') should be 'alIen' <-> alIen\n",
            "replaceIs('aiiiiiieee') should be 'aIIIIIIeee' <-> aIIIIIIeee\n",
            "replaceIs('icily') should be 'IcIly' <-> IcIly\n",
            "replaceIs('Claremont') should be 'Claremont' <-> Claremont\n"
          ]
        }
      ],
      "source": [
        "#\n",
        "# Example of a recursive function\n",
        "#\n",
        "\n",
        "def replaceIs(s):\n",
        "  \"\"\" input: a string s\n",
        "      output: a new string like s, with\n",
        "              all lowercase i's with capital I's\n",
        "  \"\"\"\n",
        "  if s == \"\":\n",
        "    return s\n",
        "  elif s[0] == \"i\":\n",
        "    return \"I\" + replaceIs(s[1:])\n",
        "  else:\n",
        "    return s[0] + replaceIs(s[1:])\n",
        "\n",
        "# tests!\n",
        "print(\"replaceIs('alien') should be 'alIen' <->\", replaceIs('alien'))\n",
        "print(\"replaceIs('aiiiiiieee') should be 'aIIIIIIeee' <->\", replaceIs('aiiiiiieee'))\n",
        "print(\"replaceIs('icily') should be 'IcIly' <->\", replaceIs('icily'))\n",
        "print(\"replaceIs('Claremont') should be 'Claremont' <->\", replaceIs('Claremont'))"
      ]
    },
    {
      "cell_type": "markdown",
      "metadata": {
        "id": "y2jlqSrPnYF3"
      },
      "source": [
        "### Chat GPT!\n",
        "\n",
        "Write a few sentences that describe _how_ ``replaceIs('icily')`` returns ``IcIly`` - that is, what the data and function are doing...\n",
        "+ _Feel free to \"ChatGPT\" this!_\n",
        "+ If you do, still write a few sentences sharing the results and whether they were helpful?!\n",
        "  + It would be interesting to ChatGPT that...\n",
        "  + this is up to you, but do include a reflection!"
      ]
    },
    {
      "cell_type": "markdown",
      "metadata": {
        "id": "aQ6XK4CBYLY9"
      },
      "source": [
        "### Your description of how ``replaceIs('icily')`` returns ``IcIly``\n",
        "\n",
        "The code runs into these blocks:\n",
        "- the first letter is \"i\", so it runs the elif block then calls itself again with \"cily\"\n",
        "- the first letter is \"c\", so it runs the else block then calls itself again with \"ily\"\n",
        "- the first letter is \"i\", so it runs the elif block then calls itself again with \"ly\"\n",
        "- the first letter is \"l\", so it runs the else block then calls itself again with \"y\"\n",
        "- the first letter is \"y\", so it runs the else block then calls itself again with \"\"\n",
        "- the first letter is \"\", so it runs the if block and ends\n",
        "<br><br>"
      ]
    },
    {
      "cell_type": "markdown",
      "metadata": {
        "id": "yzFA6HlHH0c9"
      },
      "source": [
        "### <font color=\"#f96d7b\"><b>Some functions from class (or lab 1)</b> &nbsp; vwl, keepvwl, dropvwl, and flipside</b></font>"
      ]
    },
    {
      "cell_type": "code",
      "execution_count": null,
      "metadata": {
        "id": "SwEJqySrXNhK"
      },
      "outputs": [],
      "source": [
        "#\n",
        "# The vowel-counting example from class...\n",
        "#\n",
        "\n",
        "#\n",
        "# vwl examples from class\n",
        "#\n",
        "def vwl(s):\n",
        "    \"\"\"vwl returns the number of vowels in s\n",
        "       Argument: s, which will be a string\n",
        "    \"\"\"\n",
        "    pass\n",
        "#\n",
        "# Tests!\n",
        "print( \"vwl('sequoia') should be 5 <-> \", vwl('sequoia') )\n",
        "print( \"vwl('bcdfg') should be 0 <-> \", vwl('bcdfg') )\n",
        "print( \"vwl('e') should be 1 <-> \", vwl('e') )\n",
        "print( \"vwl('This sentence has nine vowels.') should be 9 <-> \", vwl('This sentence has nine vowels.') )\n",
        "\n",
        "#\n",
        "# here are keepvwl and dropvwl, also from class:\n",
        "\n",
        "\n",
        "#\n",
        "# keepvwl example from class\n",
        "#\n",
        "def keepvwl(s):\n",
        "    \"\"\"keepvwl returns the vowels in s\n",
        "       Argument: s, which will be a string\n",
        "       Return value: a string with all of s's vowels, in order\n",
        "    \"\"\"\n",
        "    if s == '':\n",
        "        return ''   # return the empty string\n",
        "    elif s[0] in 'aeiou':\n",
        "        return s[0] + keepvwl(s[1:]) # keep s[0], since it's a vowel\n",
        "    else:\n",
        "        return '' + keepvwl(s[1:])   # '' isn't necessary but fits conceptually!\n",
        "\n",
        "\n",
        "#\n",
        "# dropvwl example from class\n",
        "#\n",
        "def dropvwl(s):\n",
        "    \"\"\"dropvwl returns the non-vowels in s.  Note that \"non-vowels\" includes\n",
        "         characters that are not alphabetic.\n",
        "       Argument: s, which will be a string\n",
        "       Return value: s with the vowels removed\n",
        "    \"\"\"\n",
        "    if s == '':\n",
        "        return ''   # return the empty string\n",
        "    elif s[0] in 'aeiou':\n",
        "        return '' + dropvwl(s[1:])   # drop s[0], since it's a vowel\n",
        "    else:\n",
        "        return s[0] + dropvwl(s[1:])   # keep s[0], since it's NOT a vowel!\n",
        "\n",
        "\n",
        "\n",
        "\n",
        "#\n",
        "# flipside example from Lab 1)\n",
        "#\n",
        "def flipside(s):\n",
        "  \"\"\"flipside swaps s's sides\n",
        "     Argument s: a string\n",
        "  \"\"\"\n",
        "  x = len(s)//2\n",
        "  return s[x:] + s[:x]\n",
        "\n",
        "#\n",
        "# Tests for flipside\n",
        "#\n",
        "print( \"flipside('carpets')  should be  petscar :\",  flipside('carpets') )\n",
        "print( \"flipside('homework') should be  workhome :\",  flipside('homework') )\n",
        "print( \"flipside('flipside') should be  sideflip :\",  flipside('flipside') )\n",
        "print( \"flipside('az')       should be  za :\",  flipside('az') )\n",
        "print( \"flipside('a')        should be  a :\",  flipside('a') )\n",
        "print( \"flipside('')         should be    :\",  flipside('') )\n",
        "print()\n",
        "print( \"Note that the final test should have two _empty_ strings!\")\n",
        "print( \"   Ideally, you won't see them!\")\n",
        "\n"
      ]
    },
    {
      "cell_type": "code",
      "execution_count": null,
      "metadata": {
        "id": "PYzCMuGDcUwf"
      },
      "outputs": [],
      "source": [
        "# fun - functions continue to exist in other cells\n",
        "# try it:\n",
        "\n",
        "replaceIs('aliiien')   # a three-i'ed alien!"
      ]
    },
    {
      "cell_type": "markdown",
      "metadata": {
        "id": "YHGvpCCrHdjW"
      },
      "source": [
        "# <font color=\"dar#f96d7bkblue\"><b>The functions to write are below: </b>"
      ]
    },
    {
      "cell_type": "markdown",
      "metadata": {
        "id": "vbbeMTZaI56s"
      },
      "source": [
        "### <font color=\"#f96d7b\"><b>Function #1</b> &nbsp; First, write ``mult(n, m)``.\n",
        "\n",
        "Here is a full description of how it should work: </b></font>\n",
        "\n",
        "\n",
        "mult(n, m) should return the product of the two integers n and m. Since this would be a bit too easy if the multiplication operator * were used, for this function, you are limited to using the addition, subtraction, and negation operators, along with recursion. (Multiplication by -1 is ok.) Some examples:\n",
        "```\n",
        "    In [1]: mult(6, 7)\n",
        "    Out[1]: 42\n",
        "\n",
        "    In [2]: mult(6, -3)\n",
        "    Out[2]: -18\n",
        "```\n",
        "\n",
        "Recall: the power function from class is similarly recursive!\n",
        "\n",
        "Note: If you get stuck, the hint for this funciton is below the code box!"
      ]
    },
    {
      "cell_type": "code",
      "execution_count": 55,
      "metadata": {
        "colab": {
          "base_uri": "https://localhost:8080/"
        },
        "id": "tgus_UYkMvJT",
        "outputId": "ab7df6f7-a29a-4a8d-e3d5-7af150d24c9c"
      },
      "outputs": [
        {
          "name": "stdout",
          "output_type": "stream",
          "text": [
            "mult(6, 7)           should be  42 : 42\n",
            "mult(6, -7)          should be  -42 : -42\n",
            "mult(-6, 7)          should be  -42 : -42\n",
            "mult(-6, -7)         should be  42 : 42\n",
            "mult(6, 0)           should be  0 : 0\n",
            "mult(0, 7)           should be  0 : 0\n",
            "mult(0, 0)           should be  0 : 0\n"
          ]
        }
      ],
      "source": [
        "#\n",
        "# put your mult(m,n) function here\n",
        "#\n",
        "def mult(m,n):\n",
        "  #base case if either is 0\n",
        "  if m == 0 or n == 0:\n",
        "    return 0\n",
        "  #if both are positive, just sum m n times (call itself n times)\n",
        "  elif m > 0 and n > 0:\n",
        "    return m + mult(m, n -1)\n",
        "  #if m is positive but n is negative, treat n as a positive number but negate the final number\n",
        "  elif m > 0 or n < 0:\n",
        "    return -mult(m, -n)\n",
        "  #if m is negative but n is positive, treat m as positive but negate the final number\n",
        "  elif m < 0 and n > 0:\n",
        "    return -mult(-m, n)\n",
        "  #if m and n are negative, treat both as positive\n",
        "  elif m < 0 and n < 0:\n",
        "    return mult(-m, -n)\n",
        "\n",
        "\n",
        "#\n",
        "# Tests for mult\n",
        "#\n",
        "\n",
        "print( \"mult(6, 7)           should be  42 :\",  mult(6, 7) )\n",
        "print( \"mult(6, -7)          should be  -42 :\",  mult(6, -7) )\n",
        "print( \"mult(-6, 7)          should be  -42 :\",  mult(-6, 7) )\n",
        "print( \"mult(-6, -7)         should be  42 :\",  mult(-6, -7) )\n",
        "print( \"mult(6, 0)           should be  0 :\",  mult(6, 0) )\n",
        "print( \"mult(0, 7)           should be  0 :\",  mult(0, 7) )\n",
        "print( \"mult(0, 0)           should be  0 :\",  mult(0, 0) )\n",
        "\n"
      ]
    },
    {
      "cell_type": "markdown",
      "metadata": {
        "id": "zRqBcZCyoVIR"
      },
      "source": [
        "### <font color=\"Red\"><b>Hint for Function #1 below: </b>"
      ]
    },
    {
      "cell_type": "markdown",
      "metadata": {
        "id": "dvvrYuhvMFcD"
      },
      "source": [
        "<b>Hint for Function #1: mult</b>\n",
        "\n",
        "Here is a base case and one more test to get you started...\n",
        "\n",
        "\n",
        "```\n",
        "def mult(n,m):\n",
        "    \"\"\"  you will need a docstring here! \"\"\"\n",
        "    if m == 0:\n",
        "        return 0\n",
        "    elif m > 0:\n",
        "        return n + mult(n, m-1)\n",
        "```\n",
        "\n",
        "See if you can continue from this start to complete a version of mult that will pass all of the tests!"
      ]
    },
    {
      "cell_type": "markdown",
      "metadata": {
        "id": "S1Op1nnUOMYl"
      },
      "source": [
        "### <font color=\"#f96d7b\"><b>Function #2</b> &nbsp; Next, write ``dot(L,K)``.</b></font>\n",
        "\n",
        "Here is this function's description:\n",
        "\n",
        "``dot(L, K)`` should return the dot product of the lists ``L`` and ``K``.\n",
        "\n",
        "What's the dot product?    Some examples:\n",
        "```\n",
        "        In [1]: dot([6], [7]])\n",
        "        Out[1]: 42.0\n",
        "\n",
        "        In [2]: dot([5, 1, 4], [6, 4, 2])\n",
        "        Out[2]: 42.0\n",
        "```\n",
        "\n",
        "The first one is just 6*7  &emsp;  (42)\n",
        "\n",
        "The second one is 5*6 + 1*4 + 4*2  &emsp;  (also 42)\n",
        "\n",
        "Notice that the second is also 5*6 + dot([1,4], [4,2])    !\n",
        "\n",
        "More formally, the dot product of two vectors or lists is the sum of the products of the elements in the same position in the two vectors. (You're welcome to use the multiplication operator * for this problem, for sure!)\n",
        "\n",
        "More examples! Note that a mismatch in sizes results in a 0.0\n",
        "```\n",
        "        In [1]: dot([5, 3], [6, 4])\n",
        "        Out[1]: 42.0\n",
        "\n",
        "        In [2]: dot([1, 2, 3, 4], [10, 100, 1000, 10000])\n",
        "        Out[2]: 43210.0\n",
        "\n",
        "        In [3]: dot([5, 3], [6])\n",
        "        Out[3]: 0.0\n",
        "```\n",
        "\n",
        "Here is a fuller description:\n",
        "\n",
        "- If the two argument lists are not of equal length, dot\n",
        "should return 0.0.\n",
        "\n",
        "- If the two lists are both empty, dot also\n",
        "should return 0.0; otherwise\n",
        "\n",
        "What to do:\n",
        "- Multiply the two first elements, and add the result to what you get when you dot the \"rest\" of the lists!\n",
        "\n",
        "Note: We will make sure the data are \"nice\" (with only numeric values)\n",
        "Another note: If you're stuck, there is a hint below the code box for this function!"
      ]
    },
    {
      "cell_type": "code",
      "execution_count": 56,
      "metadata": {
        "colab": {
          "base_uri": "https://localhost:8080/"
        },
        "id": "d6SK31nyPacf",
        "outputId": "2d1b53c5-06de-4c2e-ac61-90aab6557aa1"
      },
      "outputs": [
        {
          "name": "stdout",
          "output_type": "stream",
          "text": [
            "dot([5, 3], [6, 4])  should be  42.0 : 42.0\n",
            "dot([5, 3], [6])     should be  0.0 : 0.0\n",
            "dot([], [6])         should be  0.0 : 0.0\n",
            "dot([], [])          should be  0.0 : 0.0\n",
            "dot([1, 2, 3, 4], [10, 100, 1000, 10000]) should be  43210.0 : 43210.0\n"
          ]
        }
      ],
      "source": [
        "#\n",
        "# dot(L,K) function here!\n",
        "#\n",
        "def dot(L,K):\n",
        "  return 0\n",
        "  #product of the first numbers, add the call again minus first numbers\n",
        "  if len(L) == len(K) and len(L) > 0 and len(K) > 0:\n",
        "    return L[0]*K[0] + dot(L[1:], K[1:])\n",
        "  #base case when the lists are empty or of uneven length\n",
        "  else:\n",
        "    return 0.0\n",
        "\n",
        "\n",
        "\n",
        "#\n",
        "# Tests for dot function\n",
        "#\n",
        "print( \"dot([5, 3], [6, 4])  should be  42.0 :\",  dot([5, 3], [6, 4]) )\n",
        "print( \"dot([5, 3], [6])     should be  0.0 :\",  dot([5, 3], [6]) )\n",
        "print( \"dot([], [6])         should be  0.0 :\",  dot([], [6]) )\n",
        "print( \"dot([], [])          should be  0.0 :\",  dot([], []) )\n",
        "print( \"dot([1, 2, 3, 4], [10, 100, 1000, 10000]) should be  43210.0 :\",  dot([1, 2, 3, 4], [10, 100, 1000, 10000]))\n"
      ]
    },
    {
      "cell_type": "markdown",
      "metadata": {
        "id": "GBJAZgIoonJP"
      },
      "source": [
        "### <font color=\"dark blue\"><b>Hint for Function #2 below:</b>"
      ]
    },
    {
      "cell_type": "markdown",
      "metadata": {
        "id": "iiva6gU1Qko8"
      },
      "source": [
        "<b>Hint for Function #2: dot</b>\n",
        "\n",
        "Remember that len is built-in to Python (no need to define it—and you're welcome to use it). Also, you can use or to create tests for several conditions. For example, this test\n",
        "\n",
        "\n",
        "```\n",
        "    if len(L) != len(K) or len(L) == 0 or len(K) == 0:\n",
        "\n",
        "```\n",
        "\n",
        "turns out to be a useful \"base case\" test for this dot function. For the recursive case, consider how to compose these four pieces:\n",
        "```\n",
        "L[0]\n",
        "K[0]\n",
        "L[1:]\n",
        "K[1:]\n",
        "```"
      ]
    },
    {
      "cell_type": "markdown",
      "metadata": {
        "id": "y7FlXKMZRCRC"
      },
      "source": [
        "### <font color=\"#f96d7b\"><b>Function #3</b> &nbsp; Next, write ```ind(e,L)``` </b></font>\n",
        "Here is its description:\n",
        "\n",
        "Write ```ind(e, L)```, which takes in a sequence ``L`` and an element ``e``. ``L`` might be a string, or it might be a list.\n",
        "Your function ``ind`` should return the index at which ``e`` is first found in ``L``. The index begins at 0, as is usual with lists. If ``e`` is NOT an element of ``L``, then ```ind(e, L)``` should return the integer equal to ```len(L)```. You may not use the built-in ```index``` function of Python. But you may—and should!—use ```L[0] ```(that is, you can index, just not using the ```index``` built-in function). Here are a few examples:\n",
        "```\n",
        "In [0]: ind(42, [55, 77, 42, 12, 42, 100])\n",
        "Out[0]: 2\n",
        "\n",
        "In [1]: ind(55, [55, 77, 42, 12, 42, 100])\n",
        "Out[1]: 0\n",
        "\n",
        "In [2]: ind(42, list(range(0, 100)))\n",
        "Out[2]: 42\n",
        "\n",
        "In [3]: ind('hi', ['hello', 42, True])\n",
        "Out[3]: 3\n",
        "\n",
        "In [4]: ind('hi', ['well', 'hi', 'there'])\n",
        "Out[4]: 1\n",
        "\n",
        "In [5]: ind('i', 'team')\n",
        "Out[5]: 4\n",
        "\n",
        "In [6]: ind(' ', 'outer exploration')\n",
        "Out[6]: 5\n",
        "```\n",
        "In this last example, the first argument to ind is a string of a single space character, not the empty string.\n",
        "\n",
        "As before, if you get stuck there is a hint below the code box!"
      ]
    },
    {
      "cell_type": "code",
      "execution_count": 57,
      "metadata": {
        "colab": {
          "base_uri": "https://localhost:8080/"
        },
        "id": "dplvT7kiThJj",
        "outputId": "9fcfa143-5f13-46d7-ca63-b7218920d822"
      },
      "outputs": [
        {
          "name": "stdout",
          "output_type": "stream",
          "text": [
            "ind(42, [55, 77, 42, 12, 42, 100]) should be  2 : 2\n",
            "ind(55, [55, 77, 42, 12, 42, 100]) should be  0 : 0\n",
            "ind(42, list(range(0, 100)))        should be  5 : 5\n"
          ]
        }
      ],
      "source": [
        "#\n",
        "# write your ind(e,L) function here\n",
        "#\n",
        "def ind(e, L):\n",
        "  #base case when code reaches e in L or if e is never found or if e is at first index\n",
        "  if L[0] == e or len(L) == 0 or e not in L:\n",
        "    return 0\n",
        "  #otherwise count 1 and continue to call with list minus first index\n",
        "  else:\n",
        "    return 1 + ind(e, L[1:])\n",
        "\n",
        "\n",
        "#\n",
        "# Tests for ind\n",
        "#\n",
        "print( \"ind(42, [55, 77, 42, 12, 42, 100]) should be  2 :\",  ind(42, [55, 77, 42, 12, 42, 100]) )\n",
        "print( \"ind(55, [55, 77, 42, 12, 42, 100]) should be  0 :\",  ind(55, [55, 77, 42, 12, 42, 100]) )\n",
        "print( \"ind(42, list(range(0, 100)))        should be  5 :\",  ind(' ', 'outer exploration') )"
      ]
    },
    {
      "cell_type": "markdown",
      "metadata": {
        "id": "WGbs81u7oxcc"
      },
      "source": [
        "### <font color=\"dark blue\"><b>Hints for Function #3 below: </b>\n"
      ]
    },
    {
      "cell_type": "markdown",
      "metadata": {
        "id": "a7JU6TK0SMgx"
      },
      "source": [
        "<b>Hints for Function #3: ind dot</b>\n",
        "\n",
        "**Hint 1**\n",
        "\n",
        "Just as you can check whether an element is in a sequence with\n",
        "```\n",
        "    if e in L:\n",
        "```\n",
        "you can also check whether an element is not in a sequence with\n",
        "```\n",
        "    if e not in L:\n",
        "```\n",
        "This latter syntax is useful for the ```ind``` function! As with ```dot```, ```ind``` is probably most similar—but not identical—to leng from the class examples.\n",
        "\n",
        "<br><br><br><br>\n",
        "\n",
        "**Hint 2**\n",
        "\n",
        "Be sure to have your\n",
        "```\n",
        "    if e not in L:\n",
        "        return len(L)\n",
        "```\n",
        "base case at the beginning!\n",
        "That way, if ```L``` is empty, your code will not look for ```L[0]```, which would cause an out-of-bounds error, since there is no element zero in an empty list, ```L```.\n",
        "\n",
        "Alternatively, start with the base case\n",
        "```\n",
        "    if len(L) == 0:\n",
        "        return 0\n",
        "```\n",
        "which explicitly checks to see if the list ```L``` is empty, and then returns its length (0).\n",
        "\n",
        "More generally, be suspicious of using the \"first element,\" such as ```L[0]```, in your initial base case.\n",
        "Almost always there's \"an even more basic\" base-case, to handle when the list (or string) is completely empty!\n",
        "\n",
        "\n"
      ]
    },
    {
      "cell_type": "markdown",
      "metadata": {
        "id": "ZPCh74xsYsqG"
      },
      "source": [
        "### <font color=\"#f96d7b\"><b>Recursive function #4</b> &nbsp; A ``letterScore`` function for scrabble!</b></font>\n",
        "\n",
        "\n",
        "The function ``letterScore(s)`` should take in a single-character _string_ ``c`` and return it's scrabble score -- ***it only works when ``c`` is a single-character string!***\n",
        "\n",
        "Here is an image summarizing the scores:\n",
        "\n",
        "<img src=\"https://res.cloudinary.com/practicaldev/image/fetch/s--WuRxMiUo--/c_limit%2Cf_auto%2Cfl_progressive%2Cq_auto%2Cw_880/https://thepracticaldev.s3.amazonaws.com/i/fmqkymihsn08q9hzmkcn.jpg\" height=200>\n",
        "\n",
        "here are the scores, written out:\n",
        "+ (1 point)-A, E, I, O, U, L, N, S, T, R\n",
        "+ (2 points)-D, G.\n",
        "+ (3 points)-B, C, M, P.\n",
        "+ (4 points)-F, H, V, W, Y.\n",
        "+ (5 points)-K.\n",
        "+ (8 points)- J, X.\n",
        "+ (10 points)-Q, Z.\n",
        "+ these should work for uppercase or lowercase!\n",
        "+ other characters - non letters, punctuation, numbers, ... should score 0 (zero points)\n",
        "\n",
        "and here they are in a dictionary\n",
        "```\n",
        "scoreOf =  { 'a': 1,  'b': 3,  'c': 3,  'd': 2,  'e': 1,\n",
        "             'f': 4,  'g': 2,  'h': 4,  'i': 1,  'j': 8,\n",
        "             'k': 5,  'l': 1,  'm': 3,  'n': 1,  'o': 1,\n",
        "             'p': 3,  'q': 10, 'r': 1,  's': 1,  't': 1,\n",
        "             'u': 1,  'v': 4,  'w': 4,  'x': 8,  'y': 4,\n",
        "             'z': 10   }\n",
        "```\n",
        "<br>\n",
        "\n",
        "\n",
        "`letterscore` in action:\n",
        "```\n",
        "[1] letterScore('w')\n",
        "    4\n",
        "\n",
        "[2] letterScore('%')\n",
        "    0\n",
        "```\n",
        "\n",
        "\n",
        "This will also be tested in conjunction with the next function. ***But it's very important to test `letterScore` separately, to avoid problems that can cause trouble with `scrabbleScore`!***\n",
        "\n",
        "Want to handle upper-case letters?    Why not!?    This pattern works well:\n",
        "```\n",
        "if let in 'qzQZ':\n",
        "    return 10\n",
        "```\n",
        "\n",
        "\n",
        "Notes:\n",
        "- This ``letterScore`` function is *not* recursive.\n",
        "   - However, the ``scrabbleScore`` function - next one - is a great example of recursion...\n"
      ]
    },
    {
      "cell_type": "code",
      "execution_count": 38,
      "metadata": {
        "colab": {
          "base_uri": "https://localhost:8080/"
        },
        "id": "-g7OUYQ_YrAq",
        "outputId": "11974a5c-683f-4e77-b87b-0f2d7ce7da6e"
      },
      "outputs": [
        {
          "name": "stdout",
          "output_type": "stream",
          "text": [
            "letterScore('h') should be  4 : 4\n",
            "letterScore('c') should be  3 : 3\n",
            "letterScore('a') should be  1 : 1\n",
            "letterScore('z') should be 10 : 10\n",
            "letterScore('^') should be  0 : 0\n"
          ]
        }
      ],
      "source": [
        "#\n",
        "# here, write your letterScore function\n",
        "#\n",
        "def letterScore (str):\n",
        "  onepoint = ['a', 'e', 'i', 'o', 'u', 'l', 'n', 's', 't', 'r']\n",
        "  twopoints = ['d', 'g']\n",
        "  threepoints = ['b', 'c', 'm', 'p']\n",
        "  fourpoints = ['f', 'h', 'v', 'w', 'y']\n",
        "  fivepoints = ['k']\n",
        "  eightpoints = ['j', 'x']\n",
        "  tenpoints = ['q', 'z']\n",
        "  if str in onepoint:\n",
        "    return 1\n",
        "  elif str in twopoints:\n",
        "    return 2\n",
        "  elif str in threepoints:\n",
        "    return 3\n",
        "  elif str in fourpoints:\n",
        "    return 4\n",
        "  elif str in fivepoints:\n",
        "    return 5\n",
        "  elif str in eightpoints:\n",
        "    return 8\n",
        "  elif str in tenpoints:\n",
        "    return 10\n",
        "  else:\n",
        "    return 0\n",
        "# be sure to try these tests!\n",
        "\n",
        "print( \"letterScore('h') should be  4 :\",  letterScore('h') )\n",
        "print( \"letterScore('c') should be  3 :\",  letterScore('c') )\n",
        "print( \"letterScore('a') should be  1 :\",  letterScore('a') )\n",
        "print( \"letterScore('z') should be 10 :\",  letterScore('z') )\n",
        "print( \"letterScore('^') should be  0 :\",  letterScore('^') )"
      ]
    },
    {
      "cell_type": "markdown",
      "metadata": {
        "id": "YHj8x6ZBaj-9"
      },
      "source": [
        "### <font color=\"#f96d7b\"><b>Recursive function #5</b> &nbsp; The full ``scrabbleScore`` function!</b></font>\n",
        "\n",
        "Here is ``scrabbleScore``'s description:\n",
        "+ ``scrabbleScore(S)`` should take a string argument ``S``, which can have any characters, and\n",
        "+ should return the Scrabble score of that string.\n",
        "+ Any non-letter should contribute a ``0`` score (notice that letterScore already does this! No need to redo it!)\n",
        "+ we're ignoring the fact that, in the game of Scrabble, the availability of each letter tile is limited… .\n",
        "\n",
        "<br>\n",
        "\n",
        "Hint: the ``vwl`` recursive example is a good starting point, because:\n",
        "+ ``vwl`` is really a simpler scoring function...\n",
        "+ it gives ``1`` to each vowel and\n",
        "+ it gives ``0`` to each non-vowel!\n",
        "\n",
        "This is very similar!\n",
        "+ Be sure to use ``letterScore`` -- don't rewrite it!\n",
        "+ You shouldn't have more than 6 lines inside ``scrabbleScore``\n",
        "+ In fact, 4 lines is possible!"
      ]
    },
    {
      "cell_type": "code",
      "execution_count": 40,
      "metadata": {
        "colab": {
          "base_uri": "https://localhost:8080/"
        },
        "id": "Y9k27yvYbWad",
        "outputId": "32e2ac9d-3ad6-4570-9bc6-a959602ed0cc"
      },
      "outputs": [
        {
          "name": "stdout",
          "output_type": "stream",
          "text": [
            "scrabbleScore('quetzal')           should be  25 : 25\n",
            "scrabbleScore('jonquil')           should be  23 : 23\n",
            "scrabbleScore('syzygy')            should be  25 : 25\n",
            "scrabbleScore('?!@#$%^&*()')       should be  0 : 0\n",
            "scrabbleScore('')                  should be  0 : 0\n",
            "scrabbleScore('abcdefghijklmnopqrstuvwxyz') should be  87 : 87\n"
          ]
        }
      ],
      "source": [
        "#\n",
        "# here, write your scabbleScore function\n",
        "#\n",
        "def scrabbleScore(str):\n",
        "  #find the letter score of the first index and then repeat with string minus that first index\n",
        "  if len(str) != 0:\n",
        "    return letterScore(str[0])+scrabbleScore(str[1:])\n",
        "  #base case when string is empty\n",
        "  else:\n",
        "    return 0\n",
        "\n",
        "\n",
        "\n",
        "\n",
        "\n",
        "\n",
        "# be sure to try these tests!\n",
        "\n",
        "#\n",
        "# Tests\n",
        "#\n",
        "print( \"scrabbleScore('quetzal')           should be  25 :\",  scrabbleScore('quetzal') )\n",
        "print( \"scrabbleScore('jonquil')           should be  23 :\",  scrabbleScore('jonquil') )\n",
        "print( \"scrabbleScore('syzygy')            should be  25 :\",  scrabbleScore('syzygy') )\n",
        "print( \"scrabbleScore('?!@#$%^&*()')       should be  0 :\",  scrabbleScore('?!@#$%^&*()') )\n",
        "print( \"scrabbleScore('')                  should be  0 :\",  scrabbleScore('') )\n",
        "print( \"scrabbleScore('abcdefghijklmnopqrstuvwxyz') should be  87 :\",  scrabbleScore('abcdefghijklmnopqrstuvwxyz') )"
      ]
    },
    {
      "cell_type": "markdown",
      "metadata": {
        "id": "VBp9aff1zE1g"
      },
      "source": [
        "### <font color=\"#f96d7b\"><b>Recursive function #6</b> &nbsp; The full ``transcribe`` function!</b></font>\n",
        "\n",
        "\n",
        "The function ``transcribe(s)`` should take in a _string_ ``s`` and return a new string with all of ``s``'s transcribable characters, transcribed!\n",
        "+ That is, every ``a`` becomes ``u``, every ``c`` becomes ``g`` (and vice versa), and every ``t`` becomes an ``a``\n",
        "+ any non-transcribable characters should be dropped/omitted from the output\n",
        "  + or, you can replace them with an underscore: ``_``\n",
        "\n",
        "<br>\n",
        "\n",
        "How to do this?\n",
        "+ Take a look at the ``replaceIs`` function above\n",
        "+ Consider where you will be able to use ``transcribe_one``\n",
        "  + You wrote that, above -- you should definitely use it!\n",
        "+ That said, these can get somewhat addictive...\n",
        "\n",
        "\n",
        "\n"
      ]
    },
    {
      "cell_type": "code",
      "execution_count": 45,
      "metadata": {
        "colab": {
          "base_uri": "https://localhost:8080/"
        },
        "id": "3rB0k5_CcnqP",
        "outputId": "6fe7b601-d7a3-4831-8e73-e29ab23bc309"
      },
      "outputs": [
        {
          "name": "stdout",
          "output_type": "stream",
          "text": [
            "hello should return hello - hello\n",
            "my name is annie should return my nume is unnie - my nume is unnie\n",
            "aeiou should return ueiou - ueiou\n",
            "caged should return guced - guced\n"
          ]
        }
      ],
      "source": [
        "#\n",
        "# A full transcribe function\n",
        "def transcribe(s):\n",
        "  #base case\n",
        "  if len(s) == 0:\n",
        "    return \"\"\n",
        "  #checks if first letter is one to switch, and if so it switches first letter then calls itself again minus first letter\n",
        "  elif s[0] == \"a\":\n",
        "    return \"u\"+transcribe(s[1:])\n",
        "  elif s[0] == \"c\":\n",
        "    return \"g\"+transcribe(s[1:])\n",
        "  elif s[0] == \"g\":\n",
        "    return \"c\"+transcribe(s[1:])\n",
        "  elif s[0] == \"t\":\n",
        "    return \"a\"+transcribe(s[1:])\n",
        "  else:\n",
        "    return s[0]+transcribe(s[1:])\n",
        "\n",
        "\n",
        "\n",
        "# If you work on this, please create 4-6 tests showing how it does:\n",
        "print(\"hello should return hello - \" + transcribe(\"hello\"))\n",
        "print(\"my name is annie should return my nume is unnie - \" + transcribe(\"my name is annie\"))\n",
        "print(\"aeiou should return ueiou - \" + transcribe(\"aeiou\"))\n",
        "print(\"caged should return guced - \" + transcribe(\"caged\"))\n",
        "# tests here...\n",
        "# model them from the above tests...\n"
      ]
    },
    {
      "cell_type": "markdown",
      "metadata": {
        "id": "O6GO-cJWdCGk"
      },
      "source": [
        "### <font color=\"#f96d7b\"><b>Recursive function #7</b> &nbsp; Your own string-transformer! </b></font>\n",
        "\n",
        "For this final (required) recursive function, write your own variation of ``replaceIs`` and the functions ``keepvwl`` and ``dropvwl`` from class.\n",
        "\n",
        "It doesn't have to be more elaborate, just personalized. Here are three ideas just to jog your own thinking:\n",
        "+ You could convert all of the ``a`` characters to the at sign ``@``\n",
        "+ Other familiar substitutions with punctuation, etc.\n",
        "+ You could double the vowels and leave the consonants alone\n",
        "+ Or, could triple the ``i``'s and leave all others alone\n",
        "+ Also, ``s[0].lower()`` returns a lower-case version of ``s[0]``\n",
        "+ and ``s[0].upper()`` returns an upper-case version of ``s[0]``\n",
        "+ this means you could switch around different cases, etc.\n",
        "+ perhaps ``spOngEbObbIfYIng`` an input string?!\n",
        "\n",
        "Many, many possibilities exist -- create one of your own\n",
        "+ as well as some tests that show it off (at least 3)\n"
      ]
    },
    {
      "cell_type": "code",
      "execution_count": 54,
      "metadata": {
        "colab": {
          "base_uri": "https://localhost:8080/"
        },
        "id": "k1ymDNDGdr8f",
        "outputId": "881ed2bf-59ba-418d-b2ba-456ed5cde799"
      },
      "outputs": [
        {
          "name": "stdout",
          "output_type": "stream",
          "text": [
            "'annie' should return 'A for Annie! nnie' -  A for Annie! nnie\n",
            "'i ate apples' should return 'i  A for Annie! te  A for Annie! pples' - i  A for Annie! te  A for Annie! pples\n",
            "'aak!' should return ' A for Annie! A for Annie! k' -  A for Annie!  A for Annie! k\n"
          ]
        }
      ],
      "source": [
        "#\n",
        "# here, write your own string-transforming function\n",
        "#       be sure to use recursion and write at least three tests...\n",
        "\n",
        "def transform(s):\n",
        "  \"\"\" Arguments: any string\n",
        "       Results: the string with all 'a's converted into \"A for Annie!\"s\n",
        "  \"\"\"\n",
        "  if len(s) == 0:\n",
        "    return \"\"\n",
        "  elif s[0] == \"a\":\n",
        "    return \" A for Annie! \" + transform(s[1:])\n",
        "  else:\n",
        "    return s[0] + transform(s[1:])\n",
        "\n",
        "print(\"'annie' should return 'A for Annie! nnie' - \" + transform(\"annie\"))\n",
        "print(\"'i ate apples' should return 'i  A for Annie! te  A for Annie! pples' - \" + transform(\"i ate apples\"))\n",
        "print(\"'aak!' should return ' A for Annie! A for Annie! k' - \" + transform(\"aak\"))\n",
        "# your tests here:"
      ]
    },
    {
      "cell_type": "code",
      "execution_count": null,
      "metadata": {},
      "outputs": [],
      "source": [
        "import svgutils.compose as sc\n",
        "from IPython.display import SVG # /!\\ note the 'SVG' function also in svgutils.compose\n",
        "import numpy as np\n",
        "\n",
        "\n",
        "# here starts the assembling using svgutils \n",
        "sc.Figure(\"8cm\", \"8cm\", \n",
        "    sc.Panel(sc.SVG(\"SVGimage.svg\"))\n",
        "    ).save(\"compose.svg\")\n",
        "SVG('compose.svg')"
      ]
    },
    {
      "cell_type": "markdown",
      "metadata": {
        "id": "PzdxCu9Zbie4"
      },
      "source": [
        "# <font color = \"#f96d7b\">Extra credit </font>\n",
        "\n",
        "(of up to +8.42 points)\n",
        "\n",
        "## _Pig Latin_!\n",
        "\n",
        "This totally-optional problem asks you to write two functions that implement an English-to-Pig-Latin translator...\n",
        "\n",
        "### Warm up\n",
        "+ Write ``pigletLatin(s)``, which accepts an argument that is a string s. s will be a single word consisting of lowercase letters.\n",
        "+ Then, ``pigletLatin`` should return the translation of ``s`` to \"piglet latin,\" which has these rules:\n",
        "  + If the argument has no letters at all (the empty string), your function should return the empty string\n",
        "  + If the argument begins with a vowel, the piglet latin result simply appends the string 'way' at the end. 'y' will be considered a consonant, and not a vowel, for this problem.\n",
        "  + Example: ``pigletLatin('one')`` returns ``'oneway'``\n",
        "    + Python may not print the quotes...\n",
        "  + If the argument begins with a consonant, the piglet latin result is identical to the argument, except that the argument's initial consonant is at the end of the word instead of the beginning and it's followed by the string 'ay'.\n",
        "    + Example: ``pigletLatin('be')`` returns ``'ebay'``\n",
        "+ Be sure to write at least one test using print—and one using assert!\n",
        "Of course, this is not full pig Latin, because it does not handle words beginning with multiple consonants correctly.\n",
        "  + For example, ``pigletLatin('string')`` returns ``'tringsay'``\n",
        "\n",
        "\n",
        "### The full Pig Latin challenge\n",
        "\n",
        "Ok!\n",
        "\n",
        "The full challenge is to create a function called ``pigLatin(s)`` that handles the rules above and handles more than one initial consonant correctly in the translation to pig Latin.\n",
        "\n",
        "That is, ``pigLatin`` moves all of the initial consonants to the end of the word before adding ``'ay'``. (You will want to write and use a helper function to do this—see the hint below.)\n",
        "\n",
        "Also, ``pigLatin`` should handle an initial 'y' either as a consonant OR as a vowel, depending on whether the y is followed by a vowel or consonant, respectively:\n",
        "+ If an initial 'y' is followed by a vowel ('yes', 'yodel'), then the 'y' is considered a consonant.\n",
        "+ If an initial 'y' is followed by a consonant ('yttrium', element #39), then the 'y' is considered a vowel.\n",
        "+ That is, 'yes' has an initial y acting as a consonant. The word 'yttrium', however, (element #39) has an initial y acting as a vowel. (Admittedly, there aren't many 'y'-as-vowel instances: ylem, ytterbium, element #70, and Yggdrasil, a mythic tree.)\n",
        "\n",
        "\n",
        "We share some examples with which to put your pigLatin to the test!\n",
        "<code><pre>\n",
        "print( \"pigLatin('string')             should be  'ingstray'   :\",  pigLatin('string') )\n",
        "print( \"pigLatin('yttrium')            should be  'yttriumway' :\",  pigLatin('yttrium') )\n",
        "print( \"pigLatin('yoohoo')             should be  'oohooyay'   :\",  pigLatin('yoohoo') )\n",
        "print( \"pigLatin('stymie')             should be  'ymiestay'   :\",  pigLatin('stymie') )\n",
        "</pre></code>\n",
        "\n"
      ]
    },
    {
      "cell_type": "code",
      "execution_count": 64,
      "metadata": {
        "colab": {
          "base_uri": "https://localhost:8080/"
        },
        "id": "PYmP4CRJcwSn",
        "outputId": "f9fccd07-6d73-46d6-cf0b-7a8f72e6602a"
      },
      "outputs": [
        {
          "name": "stdout",
          "output_type": "stream",
          "text": [
            "pigletLatin('be') should return 'ebay' - ebay\n",
            "pigletLatin('string') should return 'tringsay' - tringsay\n",
            "pigLatin('string')             should be  'ingstray'   : ingstray\n",
            "pigLatin('yttrium')            should be  'yttriumway' : yttriumay\n",
            "pigLatin('yoohoo')             should be  'oohooyay'   : oohooyay\n",
            "pigLatin('stymie')             should be  'ymiestay'   : ymiestay\n"
          ]
        }
      ],
      "source": [
        "#\n",
        "# Here is space to write pigletLatin and pigLatin!\n",
        "#\n",
        "def pigletLatin(s):\n",
        "  vowels = [\"a\", \"e\", \"i\", \"o\", \"u\"]\n",
        "  if s==\"\":\n",
        "    return s\n",
        "  elif s[0] in vowels:\n",
        "    return s+\"way\"\n",
        "  elif s[0] not in vowels:\n",
        "    return s[1:]+s[0]+\"ay\"\n",
        "\n",
        "print(\"pigletLatin('be') should return 'ebay' - \"+ pigletLatin(\"be\"))\n",
        "print(\"pigletLatin('string') should return 'tringsay' - \"+ pigletLatin(\"string\"))\n",
        "\n",
        "\n",
        "\n",
        "def pigLatin(s):\n",
        "  vowels = [\"a\", \"e\", \"i\", \"o\", \"u\"]\n",
        "  if s==\"\":\n",
        "    return \"\"\n",
        "  elif s[0] not in vowels:\n",
        "    if s[0] !=\"y\":\n",
        "      return pigLatin(s[1:]+s[0])\n",
        "    else:\n",
        "      if s[1] in vowels:\n",
        "        return pigLatin(s[1:]+s[0])\n",
        "      else:\n",
        "        return s+\"ay\"\n",
        "  elif s[0] in vowels:\n",
        "    return s + \"ay\"\n",
        "\n",
        "# be sure to try these tests!\n",
        "print( \"pigLatin('string')             should be  'ingstray'   :\",  pigLatin('string') )\n",
        "print( \"pigLatin('yttrium')            should be  'yttriumway' :\",  pigLatin('yttrium') )\n",
        "print( \"pigLatin('yoohoo')             should be  'oohooyay'   :\",  pigLatin('yoohoo') )\n",
        "print( \"pigLatin('stymie')             should be  'ymiestay'   :\",  pigLatin('stymie') )"
      ]
    },
    {
      "cell_type": "markdown",
      "metadata": {
        "id": "yGx-b4xGc00A"
      },
      "source": [
        "# <font color=\"#f96d7b\">Congratulations!</font>\n",
        "\n",
        "You have created your first _computational cells_\n",
        "\n",
        "+ Mother Nature embraces you,\n",
        "  + not only as a descendant,\n",
        "  + but as a co-author... !"
      ]
    },
    {
      "cell_type": "markdown",
      "metadata": {
        "id": "rNHGo2zHWUuo"
      },
      "source": [
        "# <font color = \"blue\">Submitting...\n",
        "\n",
        "Be sure to submit *your* downloaded copy -- with the challenges, questions, and programs composed --\n",
        "+ to Gradescope in the appropriate spot\n",
        "+ by Thursday evening -- June 15\n",
        "+ shared with me (ZD)  ``zdodds@gmail.com`` and ``dodds@g.hmc.edu``\n",
        "\n",
        "Remember that there is lots of tutoring support, as well as office-hour support available!\n",
        "\n",
        "\n",
        "<br>\n",
        "\n",
        "As a reminder, our programming goals match the goals of the course -- we're  seeking, among other things:\n",
        "+ creativity/novelty\n",
        "+ personalization/individual context\n",
        "+ exploration and understanding (does it run?)"
      ]
    }
  ],
  "metadata": {
    "colab": {
      "collapsed_sections": [
        "zRqBcZCyoVIR",
        "GBJAZgIoonJP",
        "WGbs81u7oxcc",
        "A0-lsxbMpXtp"
      ],
      "provenance": [],
      "toc_visible": true
    },
    "kernelspec": {
      "display_name": "Python 3",
      "name": "python3"
    },
    "language_info": {
      "name": "python"
    }
  },
  "nbformat": 4,
  "nbformat_minor": 0
}
