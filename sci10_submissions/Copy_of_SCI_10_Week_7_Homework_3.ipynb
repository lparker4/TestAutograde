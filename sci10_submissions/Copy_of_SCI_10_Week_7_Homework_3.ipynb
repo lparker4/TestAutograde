{
  "cells": [
    {
      "cell_type": "markdown",
      "metadata": {
        "id": "70oTs409JIAS"
      },
      "source": [
        "# Homework 7 Notebook\n",
        "\n",
        "\n",
        "\n",
        "\n"
      ]
    },
    {
      "cell_type": "markdown",
      "metadata": {
        "id": "1P-8j2VhO7__"
      },
      "source": [
        "This week's homework comprises a short warmup (Part 1), a code cell on selection (Part 2), one short answer question based on that code cell (Part 3), a very short question (Part 4), and a reading and short essay question (Part 5)."
      ]
    },
    {
      "cell_type": "markdown",
      "metadata": {
        "id": "BTCmwcveG2zO"
      },
      "source": [
        "<font color=\"dodgerblue\">**Submitting**</font>\n",
        "\n",
        "As in previous weeks, use this notebook as a template to\n",
        "+ make your own copy\n",
        "+ when you have worked through the five facets of the assignment:\n",
        "  + share your notebook with `zdodds@gmail.com`\n",
        "  + and submit its url, _your copy's url_, to the usual spot on Canvas\n"
      ]
    },
    {
      "cell_type": "markdown",
      "metadata": {
        "id": "hG4dlXiH_XUj"
      },
      "source": [
        "**Selection Pressure**\n",
        "\n",
        "In lab, you explored the effects of genetic drift using Shmoodies as our model organism. Now we'll introduce selection pressure into our model. It has been found that the `A` allele confers Shmoodies with high degree of immunity to a particular disease whereas the `B` allele does not. In particular, Shmoodies with the `A` allele have probability $p$ of living to reproductive age whereas Shmoodies with the `B` allele have probability $q$ of living to reprodutive age. We'll explore the impacts of these probabilities $p$ and $q$ in our experiments, but as probabilities they must be between $0$ and $1$ and, presumably, $p$ is close to $1.0$. Moreover, we should assume that $q < p$.\n",
        "\n",
        "Before we get started, let's take an aside on probabilities. Recall that in our absent-minded professor problem, the probability of a left move and right move was the same: $0.5$ probability for each of those two options. Imagine instead that the probability of a left move is $p$ (and, thus the probability of a right move is $1-p$). We'd like to simulate $n$ steps in the random walk process where the left and right moves have probabilities $p$ and $1-p$ respectively, rather than $0.5$ and $0.5$ as before. We can no longer use `random.choice` because that function chooses options from a list with equal probability. Instead, we generate a number at random between $0.0$ and $1.0$ using `random.random()`. If that value is less than or equal to $p$, we generate a left move and otherwise we generate a right move. The code cell demonstrates this. Try it out with different values of $p$ between $0.0$ and $1.0$. Pause for a moment to explain to yourself why this works to generate a left move with probability $p$."
      ]
    },
    {
      "cell_type": "code",
      "execution_count": null,
      "metadata": {
        "colab": {
          "base_uri": "https://localhost:8080/"
        },
        "id": "Cd3fRZI7Qt36",
        "outputId": "e76ea211-b014-4a3f-ad7c-26f0fedb6d17"
      },
      "outputs": [
        {
          "name": "stdout",
          "output_type": "stream",
          "text": [
            "Right\n",
            "Left\n",
            "Right\n",
            "Right\n",
            "Right\n",
            "Right\n",
            "Right\n",
            "Right\n",
            "Right\n",
            "Left\n"
          ]
        }
      ],
      "source": [
        "import random\n",
        "import time\n",
        "\n",
        "def biasedRandomWalk(p, numSteps):\n",
        "  \"\"\" Performs a biased random walk in which the probability of a left step is p\n",
        "      and the probability of a right step is (1-p). Iterates numSteps times\n",
        "      and prints Left or Right at each step. \"\"\"\n",
        "\n",
        "  for i in range(numSteps):\n",
        "    if random.uniform(0,1) <= p:\n",
        "      print(\"Left\")\n",
        "    else:\n",
        "      print(\"Right\")\n",
        "    # pause for a second... well, .46 of a second:\n",
        "    time.sleep(.46)\n",
        "\n",
        "# test with a 0.3 chance (30%) of moving left for 10 steps\n",
        "biasedRandomWalk(0.3, 10)"
      ]
    },
    {
      "cell_type": "markdown",
      "metadata": {
        "id": "05S8BIGsRUc9"
      },
      "source": [
        "<font color=\"firebrick\">**Part 1**</font> In the code cell below is another version of the biased random walk that takes the probability `p` of a left (-1) move as input and takes a positive integer distance `d` as input. It then performs the random walk until the walker has veered distance `d` from the start position - that is, until the position of the walker is either `-d` or `d`.\n",
        "\n",
        "Here are your tasks:\n",
        "   1. There is a small bug in the `biasedRandomWalk` function. You'll need to fix just one item in one line of code.\n",
        "   2. Write the code for the `experiment(numTrials, p, d)` function which runs `numTrials` trials of the biased random walk and returns the list of numbers of steps taken by the random walker for each of those trials."
      ]
    },
    {
      "cell_type": "code",
      "execution_count": null,
      "metadata": {
        "colab": {
          "base_uri": "https://localhost:8080/"
        },
        "id": "yAVOlm5a8F0n",
        "outputId": "4a70ff6b-b536-49d3-9887-25e6a3eb5171"
      },
      "outputs": [
        {
          "name": "stdout",
          "output_type": "stream",
          "text": [
            "Mean number of steps p = 0.5, d = 5:  25.4\n",
            "Mean number of steps p = 0.4, d = 5:  16.6\n",
            "Mean number of steps p = 0.3, d = 5:  12.4\n"
          ]
        }
      ],
      "source": [
        "import random\n",
        "import statistics\n",
        "\n",
        "random.seed(46)\n",
        "\n",
        "def biasedRandomWalk1(p, d):\n",
        "  \"\"\" Performs a biased random walk in which the probability of a left (-1) step\n",
        "      is p and the probability of a right step is (1-p). Returns the number of\n",
        "      steps taken until the walker has moved d steps away from the start\n",
        "      position.\n",
        "  \"\"\"\n",
        "\n",
        "  location = 0\n",
        "  counter = 0\n",
        "  while -d < location < d:\n",
        "    counter += 1\n",
        "    if random.uniform(0,1) <= p:\n",
        "      location -= 1\n",
        "    else:\n",
        "      location += 1\n",
        "  return counter\n",
        "\n",
        "def experiment(numTrials, p, d):\n",
        "  \"\"\" Performs numTrials trials of the biasedRandomWalk with parameters p and d\n",
        "      and returns the list of the number of steps taken in each of those walks.\n",
        "  \"\"\"\n",
        "  # FILL IN ABOUT FOUR LINES OF CODE BELOW\n",
        "\n",
        "  final = []\n",
        "\n",
        "  for i in range(numTrials):\n",
        "    final.append(biasedRandomWalk1(p,d))\n",
        "  return final\n",
        "\n",
        "# The first test will give a result of 25.4 when the random.seed(46) is used\n",
        "exp1 = experiment(100, 0.5, 5)\n",
        "print(\"Mean number of steps p = 0.5, d = 5: \", statistics.mean(exp1))\n",
        "exp2 = experiment(100, 0.4, 5)\n",
        "print(\"Mean number of steps p = 0.4, d = 5: \", statistics.mean(exp2))\n",
        "exp3 = experiment(100, 0.3, 5)\n",
        "print(\"Mean number of steps p = 0.3, d = 5: \", statistics.mean(exp3))"
      ]
    },
    {
      "cell_type": "markdown",
      "metadata": {
        "id": "OSH9JQAprOHG"
      },
      "source": [
        "**Survivor!** Here's another example of the use of random numbers to do something with a particular probability. The `surviveToReproduce` function takes an `input` list of A's and B's as input as well as two probabilities, `p` and `q`. It then generates a new output list as follows: For each A organism in the input list, that A organism has probability `p` of surviving to reproduce and being added to the output list. For each B in the input list, that B has probability `q` of surviving to reproduce and being added to the output list.\n",
        "\n",
        "<font color=\"firebrick\">Try running it several times.</font> Notice that the subpopulation that survives to reproduce is generally smaller than the original population because, in this test, each A organism had a 0.9 chance (90%) of living to reproductive age and each B organism had a 0.3 chance(30%) of living to reproductive age. Fiddle with the values of `p` and `q` a bit just to see what happens."
      ]
    },
    {
      "cell_type": "code",
      "execution_count": null,
      "metadata": {
        "colab": {
          "base_uri": "https://localhost:8080/"
        },
        "id": "OeJodW9ZkIDp",
        "outputId": "a6618211-f526-46ce-e243-8a0c73c4caba"
      },
      "outputs": [
        {
          "name": "stdout",
          "output_type": "stream",
          "text": [
            "The initial population is:  ['A', 'A', 'A', 'A', 'A', 'A', 'A', 'A', 'A', 'A', 'B', 'B', 'B', 'B', 'B', 'B', 'B', 'B', 'B', 'B']\n",
            "The subpopulation surviving to reproduce is:  ['A', 'A', 'A', 'A', 'A', 'A', 'A', 'A', 'A', 'B', 'B']\n"
          ]
        }
      ],
      "source": [
        "import random\n",
        "\n",
        "def surviveToReproduce(input, p, q):\n",
        "  ''' Takes as an input list of A's and B's\n",
        "      and probabilities p and q. Returns a new output list generated\n",
        "      by keeping each A with probability p and keeping each B with\n",
        "      probability q.\n",
        "  '''\n",
        "\n",
        "  output = []\n",
        "  for organism in input:\n",
        "    if organism == 'A':\n",
        "      if random.uniform(0,1) <= p:\n",
        "        output.append(organism)\n",
        "    else: # organism is 'B'\n",
        "      if random.uniform(0,1) <= q:\n",
        "        output.append(organism)\n",
        "  return output\n",
        "\n",
        "population = ['A']*10 + ['B']*10   # A list of 10 A's followed by 10 B's\n",
        "print(\"The initial population is: \", population)\n",
        "survivorsList = surviveToReproduce(population, 0.9, 0.3)\n",
        "print(\"The subpopulation surviving to reproduce is: \", survivorsList)"
      ]
    },
    {
      "cell_type": "markdown",
      "metadata": {
        "id": "vhlo-ceJUMaO"
      },
      "source": [
        "<font color=\"firebrick\">**Part 2**</font> Now, we'll implement a population genetics simulation for Shmoodies with natural selection.\n",
        "\n",
        "Our main function, `plotGensSelection`, takes these inputs:\n",
        "   * `Apop` and `Bpop`: The number of A and B alleles in the initial population, respectively;\n",
        "   * `fitnessA` and `fitnessB`: The probability that A's and B's survive to sexual maturity, respectively. Each of these numbers is a probability and is therefore in the range from 0 to 1.\n",
        "   * `numGens`: The number of generations to simulate.\n",
        "\n",
        "1.  We start with a population (a list) of `Apop` A's and `Bpop` B's. Let `n` denote `Apop + Bpop`, the size of our population. Every generation will have size `n`.\n",
        "2.  We record the fraction of A's in the population in another list, let's call it `fracAs`. (There no need to record the fraction of B's in the population.)\n",
        "3.  We then call the `surviveToReproduce` function with our population and `fitnessA` and `fitnessB` values, resulting in some of the A's and B's not surviving to reproduce. Let's denote the list that is returned by the `surviveToReproduce` function the `survivorsList`. That's the list of organisms that will now have an opportunity to reproduce.\n",
        "4. We construct a new population of the same size as the original population by choosing `n` elements at random from the `survivorsList`.\n",
        "5. That new list becomes our new population. We go back to step 2 and repeat this process a total of `numGen` times.\n",
        "6. Finally, we plot the `fracAs` list using matplotlib (don't forget to label the axes and include a title).\n",
        "\n",
        "\n",
        "\n"
      ]
    },
    {
      "cell_type": "code",
      "execution_count": null,
      "metadata": {
        "colab": {
          "base_uri": "https://localhost:8080/",
          "height": 582
        },
        "id": "qfRivuUBULnm",
        "outputId": "52604b6c-5d9c-4612-f684-22a086d2788c"
      },
      "outputs": [
        {
          "data": {
            "image/png": "[encoded data removed]",
            "text/plain": [
              "<Figure size 432x288 with 1 Axes>"
            ]
          },
          "metadata": {
            "needs_background": "light"
          },
          "output_type": "display_data"
        },
        {
          "name": "stdout",
          "output_type": "stream",
          "text": [
            "--------------------------------------------------\n",
            "--------------------------------------------------\n",
            "--------------------------------------------------\n",
            "--------------------------------------------------\n"
          ]
        },
        {
          "data": {
            "image/png": "[encoded data removed]",
            "text/plain": [
              "<Figure size 432x288 with 1 Axes>"
            ]
          },
          "metadata": {
            "needs_background": "light"
          },
          "output_type": "display_data"
        }
      ],
      "source": [
        "import matplotlib.pyplot as plt  # This imports the tools that we need for plotting\n",
        "import random\n",
        "\n",
        "\n",
        "def surviveToReproduce(input, p, q):\n",
        "  ''' Takes as an input list of A's and B's\n",
        "      and probabilities p and q. Returns a new output list generated\n",
        "      by keeping each A with probability p and keeping each B with\n",
        "      probability q.\n",
        "  '''\n",
        "\n",
        "  output = []\n",
        "  for organism in input:\n",
        "    if organism == 'A':\n",
        "      if random.uniform(0,1) <= p:\n",
        "        output.append(organism)\n",
        "    else: # organism is 'B'\n",
        "      if random.uniform(0,1) <= q:\n",
        "        output.append(organism)\n",
        "  return output\n",
        "\n",
        "def plotGensSelection(Apop, Bpop, fitnessA, fitnessB, numGens):\n",
        "  ''' Inputs Apop and Bpop are the number of organisms with A and B alleles.\n",
        "      Input fitnessA is the probability that A's live to reproductive age.\n",
        "      Input fitnessB is the probability that B's live to reproductive age.\n",
        "      numGens is the number of generations for the simulation.\n",
        "      numTrials is the number of trials of the simulation.\n",
        "      This function plots the fraction of organisms that have the A allele in\n",
        "      each of numGens generations.\n",
        "  '''\n",
        "\n",
        "  # WRITE YOUR CODE BELOW\n",
        "\n",
        "  fracAs = []\n",
        "  n = [\"A\"]*Apop + [\"B\"]*Bpop\n",
        "\n",
        "  for i in range(numGens):\n",
        "    fracAs.append((n.count(\"A\"))/len(n))\n",
        "    survivorsList = surviveToReproduce(n,fitnessA,fitnessB)\n",
        "    newGen = []\n",
        "    for j in range(len(n)):\n",
        "      newGen.append(random.choice(survivorsList))\n",
        "    n = newGen\n",
        "    plt.plot(fracAs)\n",
        "  # CHOOSE APPROPRIATE DESCRIPTIVE LABELS AND TITLE FOR THE GRAPH\n",
        "  plt.xlabel(\"\")\n",
        "  plt.ylabel(\"\")\n",
        "  plt.title(\"\")\n",
        "  plt.show()\n",
        "\n",
        "plotGensSelection(100, 100, 1.0, 0.95, 200)\n",
        "print(\"-\"*50)\n",
        "print(\"-\"*50)\n",
        "print(\"-\"*50)\n",
        "print(\"-\"*50)\n",
        "plotGensSelection(100, 100, 0.7, 0.69, 200)\n"
      ]
    },
    {
      "cell_type": "markdown",
      "metadata": {
        "id": "KMd-V_yqK6K1"
      },
      "source": [
        "<font color=\"firebrick\">**Part 3**</font> This is a short answer question. Notice that in the experiment above, the A allele has fitness 1.0 and the B allele has fitness 0.95 - not a very big difference!\n",
        "\n",
        "  * Run the simulation above 10 times. _What fraction of those 10 random trials resulted in fixation to the A allele?_\n",
        "    - 10 out of 10 Times\n",
        "  * Now, change the line `plotGensSelection(100, 1000, 1.0, 0.95, 200)` that runs your experiment so that the A allele has fitness 0.7 and the B allele has fitness 0.69. Neither A nor B is perfectly fit, and the difference in fitness is very small. Run this again for 10 random trials. _In this text cell, briefly respond to the question \"What fraction of those 10 random trials resulted in fixation to the A allele?_\" (Note, some of your trials might not fix to A or B in 200 generations.)\n",
        "    - 6 out of 10 Times"
      ]
    },
    {
      "cell_type": "markdown",
      "metadata": {
        "id": "vMNX0sa_lGXI"
      },
      "source": [
        "<font color=\"firebrick\">**Part 4**</font> An important part of science is asking questions. We'd like  you to share at least two questions that came up for _you_ in this course this week - in class, in lab, or on this homework. These can be anything of interest that you would be curious to learn more about at some point. Please place at least two such questions in this text cell.\n",
        "\n",
        "  1. How closely would you relate biological evolution with that of generational evolution in AI? Since they both evolve to adapt to fit their needs.\n",
        "  2. How advance can Python get, by that I mean what has been the largest and most complext projects done on Python?"
      ]
    },
    {
      "cell_type": "markdown",
      "metadata": {
        "id": "lrTJjYeJqIvl"
      },
      "source": [
        "## Misuse and Abuse of Science\n",
        "\n",
        "In the second half of the semester, we'll be doing some writing about science, ethics, and society. This week, you'll be learning a bit about the misuse of scientific concepts and writing about that to a high school science audience. In subsequent weeks, you'll explore other issues and write for different audiences. This week, you'll notice that we've been quite explicit about the format and structure of the writing. This is just to help you with the organization of this first writing assignment. We'll be more relaxed about this in future writing assignments.\n",
        "\n",
        "While science has the potential to do great good, there is a long history of misusing and abusing science to advance racist ideologies. One particularly striking example is the attempt to apply natural selection to justify the racist ideologies of Social Darwinism and eugenics.\n",
        "\n",
        "<font color=\"firebrick\">**Part 5**</font>\n",
        "\n",
        "Take some time to explore these resources; it will probably take a total of about 45 minutes to read through them:\n",
        "   * Fact sheet on [Eugenics and Scientific Racism ](https://www.genome.gov/about-genomics/fact-sheets/Eugenics-and-Scientific-Racism) from the National Institutes of Health\n",
        "   * [In the Name of Darwin](http://www.pbs.org/wgbh/evolution/darwin/nameof/page03.html) by Dr. Daniel Keeves, Professor of History at Yale University\n",
        "   * [Eugenics and Nazi Racial Hygiene](https://encyclopedia.ushmm.org/content/en/article/deadly-medicine-creating-the-master-race?series=18) from the United States Holocaust Museum (note that this site has seven web pages; at the bottom of each page is the link to the next one - please read at least the first three of them, but reading all of them will be informative!)\n",
        "   * [What CRISPR-baby prison sentences mean for research](https://www.nature.com/articles/d41586-020-00001-y)\n",
        "\n",
        "Your task here is to write a short essay intended for a sidebar in a high school biology text. The title of the sidebar article is \"Social Darwinism and Eugenics\" Here is the prompt in detail:\n",
        "\n",
        "   * **Write your essay in the text cell below.**\n",
        "   * Your essay should be between 450 and 550 words long.\n",
        "   * You should assume that the essay is embedded in a chapter on evolution in a high school biology textbook. That chapter has already described the theory of evolution and Darwin's notion of survival of the fittest. You don't need to explain those concepts.\n",
        "   * Your essay *should* begin with an introductory paragraph that explains the related (but not entirely identical) concepts of Social Darwinism and eugenics, briefly outlines the time periods in which these theories emerged and their role in the Nazi movement in Germany and in advancing racist ideologies in the United States.\n",
        "   * In the next paragraph, describe Social Darwinism in more detail and why its tenets do not follow from Darwin's theory of evolution.\n",
        "   * In the following paragraph, describe the eugenics movement which followed from Social Darwinism and the role of scientists and medical doctors in atrocities ranging from forced sterilization to genocide.\n",
        "   * Next, briefly describe the CRISPR-baby \"scandal\", how it relates to the issues in the previous paragraphs, and the issues that it raises for the future of genetic engineering.\n",
        "   * Finally, in your conclusion paragraph, briefly summarize the key learning outcomes that you wish for the reader to take away.\n",
        "\n",
        "Here's the rubric that we'll use to grade this essay (with each sub-bullet category graded on a scale of 1-3; with 3 being strong, 2 indicating a good start but with room for refinement, and 1 indicating a need for significant refinement):\n",
        "\n",
        "*  Introduction provides a brief but clear overview of the topic and the rest of the essay\n",
        "*   Body\n",
        "   * Each paragraph begins with a topic sentence\n",
        "   * Each paragraph supports the topic sentence\n",
        "   * Paragraphs connect logically\n",
        "* Grammar, style, and convention\n",
        "   * Clear and concise prose, correct grammar and spelling\n",
        "   * Appropriate language for this audience (avoids using technical terms except when previously defined and only when necessary)\n",
        "\n",
        "\n",
        "\n",
        "\n"
      ]
    },
    {
      "cell_type": "markdown",
      "metadata": {
        "id": "WnFE9qPbPo3q"
      },
      "source": [
        "**A1:**Please write your essay here.\n",
        "\n",
        "  (Did You Know!) Related to the concept of Darwin’s notion of survival of the fittest are the more controversial ideas of Social Darwinism and eugenics. Social Darwinism is the idea that the least desirable traits in society should be removed from the gene pool entirely! Just like it, eugenics was a term to perpetuate Social Darwinism and eliminate anybody who has a ‘weak’ genetic background. As it may seem, these concepts are the misappropriation and wrong application of the concept of ‘survival of the fittest’. First starting in the late 19th century and mostly seen in the early and late 20th century, these immoral concepts have been used to advance the Nazi agenda and perpetuate racism in the United States.\n",
        "\n",
        "  Unlike Darwin’s theory of evolution, Social Darwinism is nowhere near as natural and has only been used to push immoral ideas in realms outside of biology. Nazi Germany, for example, believed those who had disabilities were not “fit enough” to pass on their genes to the next generation. This bias just generates greater division among people who think they are superior to others which is nowhere near Darwin’s theory. His theory was meant to show how environmental changes led to slight differentiations in nature, not the aspect of superiority and dominance.\n",
        "\n",
        "  Because of the idea of Social Darwinism, the eugenics movement followed pushing for genocide in the name of science. Tactics used by Nazi Germany during World War II, to breed the most ‘socially fit’ involved the forced sterilization of those that did not match their ‘ideal race’. Beyond that, there has been the genocide of other disproportioned groups whom they deemed inferior to them. This has been normalized in many countries because doctors and medical experts at the time were open to the inherently wrong practice of eugenics.\n",
        "\n",
        "  In recent years, there has been a scandal about using CRISPR technology (gene editing) to create modified human embryos, which echoes eugenic backgrounds. These kinds of leaps in gene editing may just be used for further propaganda in the name of eugenics. As seen in the past, events in the name of eugenics usually cause horrible results that will have a lasting impact on society. This advancement in the early stages of CRISPR technology also poses a threat because of the possible harm that it may cause inadvertently due to a lack of evidence to support this behavior.\n",
        "  \n",
        "  As you further study Darwin’s theory of evolution, learn the history of its misappropriation and how it has done harm in the false claim that it has advanced science. Social Darwinism and the term eugenics have just been tools to propagate racism and a false sense of superiority over others, as seen in the 20th century.\n"
      ]
    }
  ],
  "metadata": {
    "colab": {
      "provenance": []
    },
    "kernelspec": {
      "display_name": "Python 3",
      "name": "python3"
    },
    "language_info": {
      "name": "python"
    }
  },
  "nbformat": 4,
  "nbformat_minor": 0
}
