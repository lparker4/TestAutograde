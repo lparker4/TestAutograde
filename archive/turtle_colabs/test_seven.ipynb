{
  "cells": [
    {
      "cell_type": "markdown",
      "metadata": {
        "id": "EafH-zQxEcnr"
      },
      "source": [
        "\n",
        "\n",
        "# Notebooks and Recursion and Turtles!\n",
        "\n",
        "\n",
        "Welcome to Python notebooks! They're ever more ubiquitous:\n",
        "+ They interleave <i>code cells</i> that have Python and\n",
        "+ <i>context cells</i> with descriptions and context.\n",
        "+ This cell is a <i>context cell</i>\n",
        "+ If you double-click on it, you'll be able to see its source, a mix of markup and markdown...\n",
        "\n",
        "### Onward!"
      ]
    },
    {
      "cell_type": "code",
      "execution_count": null,
      "metadata": {},
      "outputs": [],
      "source": [
        "team_members = [\n",
        "    {\n",
        "        'first_name': 'Alice',\n",
        "        'last_name': 'Foo',\n",
        "        'student_id': 12345\n",
        "    },\n",
        "    {\n",
        "        'first_name': 'Bob',\n",
        "        'last_name': 'Bar',\n",
        "        'student_id': 54321\n",
        "    }\n",
        "]"
      ]
    },
    {
      "cell_type": "code",
      "execution_count": 2,
      "metadata": {
        "colab": {
          "base_uri": "https://localhost:8080/"
        },
        "id": "Ig1xmKQP7ait",
        "outputId": "19149de2-79da-4f92-8f37-977694c782a5"
      },
      "outputs": [
        {
          "name": "stdout",
          "output_type": "stream",
          "text": [
            "Hello from Colab!\n",
            "\n",
            "The answer is  42.0\n"
          ]
        }
      ],
      "source": [
        "#\n",
        "# This is a code cell - here, you're able to run arbitrary Python scripts.\n",
        "#\n",
        "\n",
        "# For example, try running this four-fours example:\n",
        "\n",
        "from math import *\n",
        "\n",
        "print(\"Hello from Colab!\")\n",
        "print()\n",
        "print(\"The answer is \", factorial(4)+factorial(4)-4-sqrt(4) )"
      ]
    },
    {
      "cell_type": "markdown",
      "metadata": {
        "id": "lUABUfml1I-x"
      },
      "source": [
        "\n",
        "### <font color=\"DodgerBlue\"><b>Make your own copy of this notebook</b></font>\n",
        "+ Under the <i>File</i> menu in the upper left, choose <i><u>Save a copy in Drive</u></i> to create your own copy\n",
        "+ That copy you'll be able to edit, run, and save\n",
        "+ <b><i>Later on</i></b>, when you're ready to submit, you should\n",
        "  + Choose <i><u>File - Download - Download <tt>.ipynb</tt></u></i>, which is near the bottom of the <i>File</i> menu\n",
        "  + That will save the file to your machine with the extension <tt>.ipynb</tt>\n",
        "  + Then, you'll submit that file to the usual GradeScope site, at the appropriate spot.\n",
        "\n",
        "<br>\n",
        "\n",
        "Onward, to turtle!\n"
      ]
    },
    {
      "cell_type": "markdown",
      "metadata": {
        "id": "KtcS8v2_1e-7"
      },
      "source": [
        "# <font color=\"DodgerBlue\"><b>Turtle Scripting </b></font>\n",
        "\n",
        "Start by running the code boxes below to install our turtle library, named <tt>ColabTurtlePlus</tt>:\n",
        "\n",
        "<!--\n",
        "The line `t.initializeTurtle()` creates a turtle graphic terminal? box? if you haven't created one, and erases/refreshes the turtle graphic if you already have one.\n",
        "-->"
      ]
    },
    {
      "cell_type": "code",
      "execution_count": 3,
      "metadata": {
        "colab": {
          "base_uri": "https://localhost:8080/"
        },
        "id": "ccYZMirB5ZxD",
        "outputId": "5637b86d-f56a-4ee9-89b5-ecf8c5ff1b09"
      },
      "outputs": [
        {
          "name": "stdout",
          "output_type": "stream",
          "text": [
            "Collecting ColabTurtlePlus\n",
            "  Downloading ColabTurtlePlus-2.0.1-py3-none-any.whl (31 kB)\n",
            "Installing collected packages: ColabTurtlePlus\n",
            "Successfully installed ColabTurtlePlus-2.0.1\n"
          ]
        }
      ],
      "source": [
        "!pip install ColabTurtlePlus"
      ]
    },
    {
      "cell_type": "code",
      "execution_count": 4,
      "metadata": {
        "colab": {
          "base_uri": "https://localhost:8080/"
        },
        "id": "ZldMkZqQEm9O",
        "outputId": "7db9b17c-c89f-4af6-9e5e-417fa341b386"
      },
      "outputs": [
        {
          "name": "stdout",
          "output_type": "stream",
          "text": [
            "Put clearscreen() as the first line in a cell (after the import command) to re-run turtle commands in the cell\n"
          ]
        }
      ],
      "source": [
        "import ColabTurtlePlus.Turtle as t\n",
        "\n",
        "# after installing, run this cell...\n",
        "# if it works, you may see a message -- and you should be set!"
      ]
    },
    {
      "cell_type": "markdown",
      "metadata": {
        "id": "MAALe3_424CH"
      },
      "source": [
        "### Next, try an example turtle-drawing script:\n",
        "\n",
        "- <font size = \"-1\"> Note:   A script usually describes code that's <i>not</i> organized into a function:"
      ]
    },
    {
      "cell_type": "markdown",
      "metadata": {
        "id": "0FgRysh53FmK"
      },
      "source": [
        "#### <font color = \"blue\"> **Turtle Task #1:    *Drawing practice!***\n",
        "\n",
        "For the first task, play around a bit by copying the\n",
        "Turtle script above to the cell below.\n",
        "\n",
        "The, <i>change</i> it so that:\n",
        "+ You draw a _different_ set of lines -- with at least ***5*** lines, in this case...\n",
        "+ Don't take overmuch time on this - Turtle-drawing can be addicting!\n",
        "+ If you want to \"teleport\" to coordinates `(42,42)` you can do so with `t.goto(42,42)`\n",
        "+ Also, experiment with different colors:\n",
        "\n",
        "**Colors**\n",
        "+ [This page](https://www.w3schools.com/colors/colors_names.asp) shows the colornames available on all browsers.\n",
        "+ You can change the background with  `bgcolor(\"darkblue\")` or, perhaps, other colors!\n",
        "\n",
        "Leave your drawing in the notebook (we look forward to seeing _all_ of the drawings!)\n",
        "\n",
        "Onward to **functioning** with Turtles...\n",
        "\n"
      ]
    },
    {
      "cell_type": "code",
      "execution_count": 1,
      "metadata": {
        "colab": {
          "base_uri": "https://localhost:8080/",
          "height": 521
        },
        "id": "38lmk3NC2pOs",
        "outputId": "b5acad0a-54c1-4c60-9e49-6ad35ce98b08"
      },
      "outputs": [
        {
          "name": "stdout",
          "output_type": "stream",
          "text": [
            "Put clearscreen() as the first line in a cell (after the import command) to re-run turtle commands in the cell\n"
          ]
        },
        {
          "data": {
            "text/html": [
              "\n",
              "      <svg width=\"500\" height=\"500\">  \n",
              "        <rect width=\"100%\" height=\"100%\" style=\"fill:aliceblue;stroke:gray;stroke-width:1\"/>\n",
              "        \n",
              "        \n",
              "        <line x1=\"250.0\" y1=\"250.0\" x2=\"350.0\" y2=\"250.0\" stroke-linecap=\"round\" style=\"stroke:green;stroke-width:5\" /><line x1=\"350.0\" y1=\"250.0\" x2=\"350.0\" y2=\"150.0\" stroke-linecap=\"round\" style=\"stroke:dodgerblue;stroke-width:2\" /><line x1=\"250.0\" y1=\"150.0\" x2=\"250.0\" y2=\"250.0\" stroke-linecap=\"round\" style=\"stroke:purple;stroke-width:2\" />\n",
              "        \n",
              "        \n",
              "        <g id=\"turtle2\" visibility=\"visible\" transform=\"rotate(225,300.0,200.0) translate(300.0, 200.0)\">\n",
              "<polygon points=\"0,16 2,14 1,10 4,7 7,9 9,8 6,5 7,1 5,-3 8,-6 6,-8 4,-5 0,-7 -4,-5 -6,-8 -8,-6 -5,-3 -7,1 -6,5 -9,8 -7,9 -4,7 -1,10 -2,14\" transform=\"skewX(0) scale(1,1)\" style=\"stroke:green;stroke-width:1;fill:green\" />\n",
              "</g>\n",
              "      </svg>\n",
              "    "
            ],
            "text/plain": [
              "<IPython.core.display.HTML object>"
            ]
          },
          "metadata": {},
          "output_type": "display_data"
        }
      ],
      "source": [
        "import ColabTurtlePlus.Turtle as t\n",
        "import matplotlib.pyplot as plt\n",
        "t.clearscreen()      # it's good to start every cell with this\n",
        "t.setup(500,500)     # setup the drawing area to be 500 pixels x 500 pixels\n",
        "t.showborder()       # show the border of the drawing area\n",
        "t.bgcolor(\"AliceBlue\") # sets the background color (could also use \"#E0E0FF\" on the Mac)\n",
        "\n",
        "t.shape('turtle2') # Options: ['turtle', 'ring', 'classic', 'arrow', 'square', 'triangle', 'circle', 'turtle2', 'blank']\n",
        "\n",
        "t.speed(5)         # 10 is fastest, 1 is slowest\n",
        "\n",
        "# side one\n",
        "t.color(\"green\")   # a link below shares _all_ the colors\n",
        "t.width(5)         # number of pixels wide for the turtle's trail\n",
        "t.forward(100)     # forward 100 pixels\n",
        "t.left(90)         # left 90 degrees\n",
        "\n",
        "# side two\n",
        "t.color(\"DodgerBlue\")    # hometeam?!\n",
        "t.width(2)\n",
        "t.forward(100)\n",
        "t.left(90)\n",
        "\n",
        "# side three\n",
        "t.penup()          # \"lift\" the pen - the turtle will not draw\n",
        "t.forward(100)\n",
        "t.left(90)\n",
        "t.pendown()        # put the pen back \"down\": drawing will resume\n",
        "\n",
        "# side four\n",
        "t.color(\"purple\")\n",
        "t.forward(100)\n",
        "t.left(135)        # to aim \"northeast\"\n",
        "t.penup()\n",
        "from math import sqrt\n",
        "t.forward(50*sqrt(2))   # move to the \"middle\": 50*sqrt(2)\n",
        "t.color(\"green\")\n",
        "cv = t.saveSVG(turtle = True)\n"
      ]
    },
    {
      "cell_type": "code",
      "execution_count": 15,
      "metadata": {
        "colab": {
          "base_uri": "https://localhost:8080/",
          "height": 521
        },
        "id": "mlHvMa3TCV6E",
        "outputId": "a5abcbb4-ec29-4482-efb0-563ae2c5cafb"
      },
      "outputs": [
        {
          "data": {
            "text/html": [
              "\n",
              "      <svg width=\"500\" height=\"500\">  \n",
              "        <rect width=\"100%\" height=\"100%\" style=\"fill:aliceblue;stroke:gray;stroke-width:1\"/>\n",
              "        \n",
              "        \n",
              "        <line x1=\"250.0\" y1=\"250.0\" x2=\"350.0\" y2=\"250.0\" stroke-linecap=\"round\" style=\"stroke:green;stroke-width:5\" /><line x1=\"350.0\" y1=\"250.0\" x2=\"350.0\" y2=\"150.0\" stroke-linecap=\"round\" style=\"stroke:blue;stroke-width:5\" /><line x1=\"350.0\" y1=\"150.0\" x2=\"250.0\" y2=\"150.0\" stroke-linecap=\"round\" style=\"stroke:red;stroke-width:5\" /><line x1=\"250.0\" y1=\"150.0\" x2=\"250.0\" y2=\"250.0\" stroke-linecap=\"round\" style=\"stroke:yellow;stroke-width:5\" /><line x1=\"250.0\" y1=\"250.0\" x2=\"349.702\" y2=\"150.298\" stroke-linecap=\"round\" style=\"stroke:orange;stroke-width:5\" />\n",
              "        \n",
              "        \n",
              "        <g id=\"turtle2\" visibility=\"visible\" transform=\"rotate(225,349.702,150.298) translate(349.702, 150.298)\">\n",
              "<polygon points=\"0,16 2,14 1,10 4,7 7,9 9,8 6,5 7,1 5,-3 8,-6 6,-8 4,-5 0,-7 -4,-5 -6,-8 -8,-6 -5,-3 -7,1 -6,5 -9,8 -7,9 -4,7 -1,10 -2,14\" transform=\"skewX(0) scale(1,1)\" style=\"stroke:orange;stroke-width:1;fill:orange\" />\n",
              "<animateTransform id = \"one\" attributeName=\"transform\" \n",
              "                      type=\"scale\"\n",
              "                      from=\"1 1\" to=\"1 1\"\n",
              "                      begin=\"0s\" dur=\"0.01s\"\n",
              "                      repeatCount=\"1\"\n",
              "                      additive=\"sum\"\n",
              "                      fill=\"freeze\"\n",
              "                /><animateTransform attributeName=\"transform\"\n",
              "                    type=\"rotate\"\n",
              "                    from=\"0 0 0\" to =\"-90 0 0\"\n",
              "                    begin=\"one.end\" dur=\"0.25s\"\n",
              "                    repeatCount=\"1\"\n",
              "                    additive=\"sum\"\n",
              "                    fill=\"freeze\"\n",
              "                /></g>\n",
              "      </svg>\n",
              "    "
            ],
            "text/plain": [
              "<IPython.core.display.HTML object>"
            ]
          },
          "metadata": {},
          "output_type": "display_data"
        }
      ],
      "source": [
        "# Here is a Colab cell for your \"Polygon practice\"\n",
        "#\n",
        "#      (feel free to copy-paste-adapt, from above)\n",
        "\n",
        "import ColabTurtlePlus.Turtle as t\n",
        "from ColabTurtlePlus.Turtle import *\n",
        "\n",
        "clearscreen()      # it's good to start every cell with this\n",
        "setup(500,500)     # setup the drawing area to be 500 pixels x 500 pixels\n",
        "showborder()       # show the border of the drawing area\n",
        "bgcolor(\"AliceBlue\") # sets the background color (could also use \"#F0F8FF\")\n",
        "\n",
        "t.shape('turtle2') # Options: ['turtle', 'ring', 'classic', 'arrow', 'square', 'triangle', 'circle', 'turtle2', 'blank']\n",
        "\n",
        "t.speed(5)         # 10 is fastest, 1 is slowest\n",
        "\n",
        "# side one\n",
        "t.color(\"green\")   # a link below shares _all_ the colors\n",
        "t.width(5)         # number of pixels wide for the turtle's trail\n",
        "t.forward(100)     # forward 100 pixels\n",
        "t.left(90)         # left 90 degrees\n",
        "\n",
        "t.color(\"blue\")   # a link below shares _all_ the colors\n",
        "t.width(5)         # number of pixels wide for the turtle's trail\n",
        "t.forward(100)     # forward 100 pixels\n",
        "t.left(90)         # left 90 degrees\n",
        "\n",
        "t.color(\"red\")   # a link below shares _all_ the colors\n",
        "t.width(5)         # number of pixels wide for the turtle's trail\n",
        "t.forward(100)     # forward 100 pixels\n",
        "t.left(90)         # left 90 degrees\n",
        "\n",
        "t.color(\"yellow\")   # a link below shares _all_ the colors\n",
        "t.width(5)         # number of pixels wide for the turtle's trail\n",
        "t.forward(100)     # forward 100 pixels\n",
        "t.left(135)         # left 90 degrees\n",
        "\n",
        "t.color(\"orange\")   # a link below shares _all_ the colors\n",
        "t.width(5)         # number of pixels wide for the turtle's trail\n",
        "t.forward(141)     # forward 100 pixels\n",
        "t.left(90)         # left 90 degrees"
      ]
    },
    {
      "cell_type": "markdown",
      "metadata": {
        "id": "-LbLya3h7xdY"
      },
      "source": [
        "## <font color=\"#f96d7b\"><b>Turtle <i>Functioning</i> </b></font>\n",
        "\n",
        "Below is the recursive <tt>tri</tt> function from class...\n",
        "\n",
        "- First, look over the code.\n",
        "- Then, run it and - we hope - it will draw a triangle.\n",
        "- Notice the call to `tri(3)` at the bottom. That's the \"function call\" that runs our function, `tri`"
      ]
    },
    {
      "cell_type": "code",
      "execution_count": 22,
      "metadata": {
        "colab": {
          "base_uri": "https://localhost:8080/",
          "height": 521
        },
        "id": "Ffp6015lD5ro",
        "outputId": "700a6afd-0190-4756-9875-444845f8f7cf"
      },
      "outputs": [
        {
          "data": {
            "text/html": [
              "\n",
              "      <svg width=\"500\" height=\"500\">  \n",
              "        <rect width=\"100%\" height=\"100%\" style=\"fill:aliceblue;stroke:gray;stroke-width:1\"/>\n",
              "        \n",
              "        \n",
              "        <path fill-rule=\"evenodd\" fill-opacity=\"1\" d=\"M 250.0 250.0  L 350.0 250.0  L 300.0 163.397  L 250.0 250.0 \" stroke-linecap=\"round\" style=\"stroke:violet;stroke-width:2\" fill=\"violet\" />\n",
              "        \n",
              "        \n",
              "        <g id=\"turtle2\" visibility=\"visible\" transform=\"rotate(-90,250.0,250.0) translate(250.0, 250.0)\">\n",
              "<polygon points=\"0,16 2,14 1,10 4,7 7,9 9,8 6,5 7,1 5,-3 8,-6 6,-8 4,-5 0,-7 -4,-5 -6,-8 -8,-6 -5,-3 -7,1 -6,5 -9,8 -7,9 -4,7 -1,10 -2,14\" transform=\"skewX(0) scale(1,1)\" style=\"stroke:violet;stroke-width:1;fill:violet\" />\n",
              "</g>\n",
              "      </svg>\n",
              "    "
            ],
            "text/plain": [
              "<IPython.core.display.HTML object>"
            ]
          },
          "metadata": {},
          "output_type": "display_data"
        }
      ],
      "source": [
        "import ColabTurtlePlus.Turtle as t\n",
        "import random\n",
        "\n",
        "t.clearscreen()      # it's good to start every cell with this\n",
        "t.setup(500,500)     # setup the drawing area to be 500 pixels x 500 pixels\n",
        "t.showborder()       # show the border of the drawing area\n",
        "\n",
        "t.bgcolor(\"AliceBlue\")   # adjust to your preferences!\n",
        "t.shape(\"turtle2\")\n",
        "t.speed(10)\n",
        "t.width(2)\n",
        "\n",
        "#\n",
        "# our tri function\n",
        "#\n",
        "def tri(n):\n",
        "    \"\"\"Draws n 100-pixel sides of an equilateral triangle.\n",
        "      Note that n doesn't have to be 3 (!)\n",
        "    \"\"\"\n",
        "    clr = random.choice(('purple', 'pink', 'violet'))\n",
        "    t.color(clr)\n",
        "    if n == 0:\n",
        "        return      # No sides to draw, so stop drawing\n",
        "    else:\n",
        "        t.forward(100)\n",
        "        t.left(120)\n",
        "        tri(n-1)    # Recur to draw the rest of the sides!\n",
        "\n",
        "#\n",
        "# here, run tri(3)\n",
        "#\n",
        "t.fillcolor('pink')\n",
        "t.begin_fill()\n",
        "tri(3)\n",
        "t.end_fill()"
      ]
    },
    {
      "cell_type": "markdown",
      "metadata": {
        "id": "Z5-yS_AK8MdP"
      },
      "source": [
        "Consider the code's pieces:\n",
        "\n",
        "+ First, we setup the Turtle's canvas (adjust to suit!)\n",
        "+ Then we define the `tri` function, and finally\n",
        "+ we call it at the bottom with `tri(3)`\n",
        "\n",
        "\n",
        "You'll notice that the internal turtle-drawing calls all begin with \"`t.`\" i.e., \"`t`\" followed by a dot. That is because the underlying code creates a variable named `t` known as <i>an object</i> and then it makes changes to that object, and that object makes changes to the drawing canvas.\n",
        "+ Not worth worrying about! Just a placeholder. Later in the semester, you will use, create, and design <i>objects</i> in much more depth.\n",
        "\n",
        "When run, the above code should create a graphic that looks similar to this:\n",
        "\n",
        "<img src = \"https://www.cs.hmc.edu/twiki/pub/CS5Fall2022/Lab2Turtle/tri_3.png\" height=\"100px\">\n",
        "\n",
        "Stop for a moment and ask yourself how `tri` actually works:\n",
        "+ In particular, `tri` only draws one line: `t.forward(100)`\n",
        "+ How does it draw a complete triangle?\n",
        "+ Why do we have `tri(n-1)`?\n",
        "\n",
        "Note that the base case (or empty case) returns - without actually returning any value. This is because the function does not produce a value - instead, it simply changes pixels on the screen!\n",
        "\n",
        "In this code, we are calling `tri` for its <i>side effects,</i> which are changes to the world that aren't part of any return value. In this case, the side effects are graphics on your screen.\n",
        "\n"
      ]
    },
    {
      "cell_type": "markdown",
      "metadata": {
        "id": "YuZElPxp_o1V"
      },
      "source": [
        "## <font color=\"#f96d7b\"><b>`Tri`-ing fills, options, and colors! </b></font>\n",
        "\n",
        "Now, change the above `tri`-ing function, using a fill:\n",
        "\n",
        "To fill any shape, you can wrap it in `t.begin_fill()`, followed by the function that creates the shape, followed by `t.end_fill()`.\n",
        "+ For the triangle, try altering the bottom part of the cell to read:\n",
        "```\n",
        "t.fillcolor('blue')\n",
        "t.begin_fill()\n",
        "tri(3)\n",
        "t.end_fill()\n",
        "```\n",
        "+ Then, change the fill color!\n",
        "\n",
        "<hr>\n",
        "\n",
        "Next, change your `tri` function and re-running it in order to try at least one out of the many turtle options:\n",
        "\n",
        "+ (_Line thickness_)   Put the line    `t.width(10)`    as the first overall line of the `tri` <i>function</i>.\n",
        "   - ***Or*** put the line    `t.width(3*n+1)`    as the first line of the `else` block in the `tri` function!\n",
        "+ (_Colorfulness_)   Put the line    `t.color('darkgreen')`    as the first line of the function.\n",
        "   - Or `import random` near the top of the code box and put the two lines:\n",
        "        ```\n",
        "        clr = random.choice(['darkgreen', 'red', 'blue'])\n",
        "        t.color(clr)\n",
        "        ```\n",
        "   as the first lines of the function.\n",
        "+ (_Other Python turtle-drawing commands_)   Put the line `t.dot(10, 'yellow')` as the first line of the `else` block.\n",
        "   - This should draw a filled circle (a dot) just before it runs the other lines of the `else` block.\n",
        "   - Note that you can make the dot a different color than the line color by including the color as the second argument to `dot`.\n",
        "\n",
        "<br>\n",
        "\n",
        "<font size=\"-2\">Here is [the documentation for the ColabTurtlePlus library.](https://larryriddle.agnesscott.org/ColabTurtlePlus/documentation2.html) and [the documentation for the Python turtle library.](https://docs.python.org/3/library/turtle.html). No need to reference these - here just in case.</font>\n",
        "\n",
        "\n",
        "\n",
        "\n",
        "\n",
        "\n"
      ]
    },
    {
      "cell_type": "markdown",
      "metadata": {
        "id": "wKatZHgFjH4x"
      },
      "source": [
        "## <font color = \"blue\"> <b>Turtle Task #2:    <i>Spiraling</i></b>\n",
        "\n",
        "We look forward to seeing your final `tri` !\n",
        "\n",
        "Does turtle have you <i>spiraling</i> yet? That's next:"
      ]
    },
    {
      "cell_type": "markdown",
      "metadata": {
        "id": "XZnJWoxWkHc2"
      },
      "source": [
        "## <font color=\"#f96d7b\"><b>The `spiral` function </b> <font size = \"-1\"> [10 points]</font>\n",
        "\n",
        "Next, you'll build another <i>single-path</i> recursive function, named `spiral`. It will be similar to `tri`.\n",
        "\n",
        "First, a picture from the call `spiral(100, 90, 0.9)`:\n",
        "\n",
        "<img src = \"https://www.cs.hmc.edu/twiki/pub/CS5Fall2022/Lab2Turtle/spiral_90.png\">\n",
        "\n",
        "The idea is to write `spiral(initialLength, angle, multiplier)`\n",
        "+ `initialLength` is the length of the first \"spiral leg\"\n",
        "+ `angle` is the amount the turtle turns after each leg\n",
        "+ `multiplier` is the multiplier used, with each spiral-leg!\n",
        "\n",
        "Take a look:\n",
        "+ It won't run as-is...\n",
        "+ See if you can fill in lines 22-24\n",
        "+ Then, run it by uncommenting the call to `spiral(100, 90, 0.9)` on line 28"
      ]
    },
    {
      "cell_type": "code",
      "execution_count": 25,
      "metadata": {
        "colab": {
          "base_uri": "https://localhost:8080/",
          "height": 521
        },
        "id": "lTgFbs3Ilmtw",
        "outputId": "1d646077-c796-4b14-e324-39d92df51c9b"
      },
      "outputs": [
        {
          "data": {
            "text/html": [
              "\n",
              "      <svg width=\"500\" height=\"500\">  \n",
              "        <rect width=\"100%\" height=\"100%\" style=\"fill:aliceblue;stroke:gray;stroke-width:1\"/>\n",
              "        \n",
              "        \n",
              "        <line x1=\"250.0\" y1=\"250.0\" x2=\"350.0\" y2=\"250.0\" stroke-linecap=\"round\" style=\"stroke:black;stroke-width:2\" /><line x1=\"350.0\" y1=\"250.0\" x2=\"350.0\" y2=\"160.0\" stroke-linecap=\"round\" style=\"stroke:black;stroke-width:2\" /><line x1=\"350.0\" y1=\"160.0\" x2=\"269.0\" y2=\"160.0\" stroke-linecap=\"round\" style=\"stroke:black;stroke-width:2\" /><line x1=\"269.0\" y1=\"160.0\" x2=\"269.0\" y2=\"232.9\" stroke-linecap=\"round\" style=\"stroke:black;stroke-width:2\" /><line x1=\"269.0\" y1=\"232.9\" x2=\"334.61\" y2=\"232.9\" stroke-linecap=\"round\" style=\"stroke:black;stroke-width:2\" /><line x1=\"334.61\" y1=\"232.9\" x2=\"334.61\" y2=\"173.851\" stroke-linecap=\"round\" style=\"stroke:black;stroke-width:2\" /><line x1=\"334.61\" y1=\"173.851\" x2=\"281.466\" y2=\"173.851\" stroke-linecap=\"round\" style=\"stroke:black;stroke-width:2\" /><line x1=\"281.466\" y1=\"173.851\" x2=\"281.466\" y2=\"221.681\" stroke-linecap=\"round\" style=\"stroke:black;stroke-width:2\" /><line x1=\"281.466\" y1=\"221.681\" x2=\"324.513\" y2=\"221.681\" stroke-linecap=\"round\" style=\"stroke:black;stroke-width:2\" /><line x1=\"324.513\" y1=\"221.681\" x2=\"324.513\" y2=\"182.939\" stroke-linecap=\"round\" style=\"stroke:black;stroke-width:2\" /><line x1=\"324.513\" y1=\"182.939\" x2=\"289.645\" y2=\"182.939\" stroke-linecap=\"round\" style=\"stroke:black;stroke-width:2\" /><line x1=\"289.645\" y1=\"182.939\" x2=\"289.645\" y2=\"214.32\" stroke-linecap=\"round\" style=\"stroke:black;stroke-width:2\" /><line x1=\"289.645\" y1=\"214.32\" x2=\"317.888\" y2=\"214.32\" stroke-linecap=\"round\" style=\"stroke:black;stroke-width:2\" /><line x1=\"317.888\" y1=\"214.32\" x2=\"317.888\" y2=\"188.901\" stroke-linecap=\"round\" style=\"stroke:black;stroke-width:2\" /><line x1=\"317.888\" y1=\"188.901\" x2=\"295.011\" y2=\"188.901\" stroke-linecap=\"round\" style=\"stroke:black;stroke-width:2\" /><line x1=\"295.011\" y1=\"188.901\" x2=\"295.011\" y2=\"209.49\" stroke-linecap=\"round\" style=\"stroke:black;stroke-width:2\" /><line x1=\"295.011\" y1=\"209.49\" x2=\"313.541\" y2=\"209.49\" stroke-linecap=\"round\" style=\"stroke:black;stroke-width:2\" /><line x1=\"313.541\" y1=\"209.49\" x2=\"313.541\" y2=\"192.813\" stroke-linecap=\"round\" style=\"stroke:black;stroke-width:2\" /><line x1=\"313.541\" y1=\"192.813\" x2=\"298.532\" y2=\"192.813\" stroke-linecap=\"round\" style=\"stroke:black;stroke-width:2\" /><line x1=\"298.532\" y1=\"192.813\" x2=\"298.532\" y2=\"206.322\" stroke-linecap=\"round\" style=\"stroke:black;stroke-width:2\" /><line x1=\"298.532\" y1=\"206.322\" x2=\"310.69\" y2=\"206.322\" stroke-linecap=\"round\" style=\"stroke:black;stroke-width:2\" /><line x1=\"310.69\" y1=\"206.322\" x2=\"310.69\" y2=\"195.38\" stroke-linecap=\"round\" style=\"stroke:black;stroke-width:2\" /><line x1=\"310.69\" y1=\"195.38\" x2=\"300.842\" y2=\"195.38\" stroke-linecap=\"round\" style=\"stroke:black;stroke-width:2\" /><line x1=\"300.842\" y1=\"195.38\" x2=\"300.842\" y2=\"204.243\" stroke-linecap=\"round\" style=\"stroke:black;stroke-width:2\" /><line x1=\"300.842\" y1=\"204.243\" x2=\"308.819\" y2=\"204.243\" stroke-linecap=\"round\" style=\"stroke:black;stroke-width:2\" /><line x1=\"308.819\" y1=\"204.243\" x2=\"308.819\" y2=\"197.064\" stroke-linecap=\"round\" style=\"stroke:black;stroke-width:2\" /><line x1=\"308.819\" y1=\"197.064\" x2=\"302.358\" y2=\"197.064\" stroke-linecap=\"round\" style=\"stroke:black;stroke-width:2\" /><line x1=\"302.358\" y1=\"197.064\" x2=\"302.358\" y2=\"202.879\" stroke-linecap=\"round\" style=\"stroke:black;stroke-width:2\" /><line x1=\"302.358\" y1=\"202.879\" x2=\"307.591\" y2=\"202.879\" stroke-linecap=\"round\" style=\"stroke:black;stroke-width:2\" /><line x1=\"307.591\" y1=\"202.879\" x2=\"307.591\" y2=\"198.169\" stroke-linecap=\"round\" style=\"stroke:black;stroke-width:2\" /><line x1=\"307.591\" y1=\"198.169\" x2=\"303.352\" y2=\"198.169\" stroke-linecap=\"round\" style=\"stroke:black;stroke-width:2\" /><line x1=\"303.352\" y1=\"198.169\" x2=\"303.352\" y2=\"201.984\" stroke-linecap=\"round\" style=\"stroke:black;stroke-width:2\" /><line x1=\"303.352\" y1=\"201.984\" x2=\"306.786\" y2=\"201.984\" stroke-linecap=\"round\" style=\"stroke:black;stroke-width:2\" /><line x1=\"306.786\" y1=\"201.984\" x2=\"306.786\" y2=\"198.894\" stroke-linecap=\"round\" style=\"stroke:black;stroke-width:2\" /><line x1=\"306.786\" y1=\"198.894\" x2=\"304.005\" y2=\"198.894\" stroke-linecap=\"round\" style=\"stroke:black;stroke-width:2\" /><line x1=\"304.005\" y1=\"198.894\" x2=\"304.005\" y2=\"201.397\" stroke-linecap=\"round\" style=\"stroke:black;stroke-width:2\" /><line x1=\"304.005\" y1=\"201.397\" x2=\"306.258\" y2=\"201.397\" stroke-linecap=\"round\" style=\"stroke:black;stroke-width:2\" /><line x1=\"306.258\" y1=\"201.397\" x2=\"306.258\" y2=\"199.369\" stroke-linecap=\"round\" style=\"stroke:black;stroke-width:2\" /><line x1=\"306.258\" y1=\"199.369\" x2=\"304.433\" y2=\"199.369\" stroke-linecap=\"round\" style=\"stroke:black;stroke-width:2\" /><line x1=\"304.433\" y1=\"199.369\" x2=\"304.433\" y2=\"201.011\" stroke-linecap=\"round\" style=\"stroke:black;stroke-width:2\" /><line x1=\"304.433\" y1=\"201.011\" x2=\"305.911\" y2=\"201.011\" stroke-linecap=\"round\" style=\"stroke:black;stroke-width:2\" /><line x1=\"305.911\" y1=\"201.011\" x2=\"305.911\" y2=\"199.681\" stroke-linecap=\"round\" style=\"stroke:black;stroke-width:2\" /><line x1=\"305.911\" y1=\"199.681\" x2=\"304.714\" y2=\"199.681\" stroke-linecap=\"round\" style=\"stroke:black;stroke-width:2\" /><line x1=\"304.714\" y1=\"199.681\" x2=\"304.714\" y2=\"200.759\" stroke-linecap=\"round\" style=\"stroke:black;stroke-width:2\" />\n",
              "        \n",
              "        \n",
              "        <g id=\"turtle2\" visibility=\"visible\" transform=\"rotate(0,304.714,200.759) translate(304.714, 200.759)\">\n",
              "<polygon points=\"0,16 2,14 1,10 4,7 7,9 9,8 6,5 7,1 5,-3 8,-6 6,-8 4,-5 0,-7 -4,-5 -6,-8 -8,-6 -5,-3 -7,1 -6,5 -9,8 -7,9 -4,7 -1,10 -2,14\" transform=\"skewX(0) scale(1,1)\" style=\"stroke:black;stroke-width:1;fill:black\" />\n",
              "<animateTransform id = \"one\" attributeName=\"transform\" \n",
              "                      type=\"scale\"\n",
              "                      from=\"1 1\" to=\"1 1\"\n",
              "                      begin=\"0s\" dur=\"0.01s\"\n",
              "                      repeatCount=\"1\"\n",
              "                      additive=\"sum\"\n",
              "                      fill=\"freeze\"\n",
              "                /><animateTransform attributeName=\"transform\"\n",
              "                    type=\"rotate\"\n",
              "                    from=\"0 0 0\" to =\"-90 0 0\"\n",
              "                    begin=\"one.end\" dur=\"0.08s\"\n",
              "                    repeatCount=\"1\"\n",
              "                    additive=\"sum\"\n",
              "                    fill=\"freeze\"\n",
              "                /></g>\n",
              "      </svg>\n",
              "    "
            ],
            "text/plain": [
              "<IPython.core.display.HTML object>"
            ]
          },
          "metadata": {},
          "output_type": "display_data"
        }
      ],
      "source": [
        "import ColabTurtlePlus.Turtle as t\n",
        "\n",
        "t.clearscreen()      # it's good to start every cell with this\n",
        "t.setup(500,500)     # setup the drawing area to be 500 pixels x 500 pixels\n",
        "t.showborder()       # show the border of the drawing area\n",
        "\n",
        "t.bgcolor(\"AliceBlue\")   # adjust to your preferences!\n",
        "t.shape(\"turtle2\")\n",
        "t.speed(10)\n",
        "t.width(2)\n",
        "\n",
        "def spiral(initialLength, angle, multiplier):\n",
        "    \"\"\"Spiral-drawing function.  Arguments:\n",
        "       initialLength = the length of the first leg of the spiral\n",
        "       angle = the angle, in degrees, turned after each spiral's leg\n",
        "       multiplier = the fraction by which each leg of the spiral changes\n",
        "    \"\"\"\n",
        "    if initialLength <= 1 or initialLength > 1000:\n",
        "        return      # No more to draw, this base case stops the recursion\n",
        "    else:\n",
        "        t.forward(initialLength)\n",
        "        t.left(angle)\n",
        "        spiral(multiplier * initialLength, angle, multiplier )  # What inputs?!\n",
        "\n",
        "spiral(100, 90, 0.9)   # here, call spiral!\n"
      ]
    },
    {
      "cell_type": "markdown",
      "metadata": {
        "id": "DQhAcY_KlpAH"
      },
      "source": [
        "### <font color = \"blue\"> **Additional hints/explanation on `spiral`...**\n",
        "\n",
        "It's helpful to take in `spiral`'s self-similarity. Here's an overview and explanation from the slides:\n",
        "\n",
        "\n",
        "<img src = \"https://www.cs.hmc.edu/twiki/pub/CS5/Lab2Turtle/spiralslide.png\" height=\"400px\">\n",
        "\n",
        "\n",
        "\n",
        "The spiral function should use the turtle drawing functions to create a spiral that\n",
        "+ Draws its first segment of length `initialLength`\n",
        "+ then turns `angle` degrees to the left after that segment, then\n",
        "+ calls `spiral` recursively, using `multiplier` to change its first argument - the second and third arguments won't change!\n",
        "\n",
        "**Base cases!**\n",
        "\n",
        "Note that, for your base case, the code checks if the `initialLength` is too big or too small... and then stops.\n",
        "\n",
        "<hr>\n",
        "\n",
        "For fun, you might try these calls.\n",
        "```\n",
        "spiral(100, 90, 0.9)\n",
        "spiral(100, 170, 0.95) # More of a \"star\" than a spiral...\n",
        "spiral(400, 120, 0.8) # A triangular spiral...\n",
        "```\n",
        "\n",
        "Variations welcome!\n",
        "\n",
        "Below is a picture from our version of the call `spiral(300, 170, 0.99)`:\n",
        "\n",
        "<img src = \"https://www.cs.hmc.edu/twiki/pub/CS5Fall2022/Lab2Turtle/spiral_170.png\" height=\"150px\">\n",
        "\n",
        "\n",
        "Create a spiral you like and leave your favorite spiral in the notebook --\n",
        "\n",
        "We look forward to seeing all of the <i>spiraling</i> going on...\n",
        "\n",
        "\n",
        "\n"
      ]
    },
    {
      "cell_type": "markdown",
      "metadata": {
        "id": "chvTfOrEoheL"
      },
      "source": [
        " ## <font color = \"blue\"> <b>Turtle Task #3: <i>Recursive Chai</i></b>  </font>\n",
        "\n",
        "The `tri` and `spiral` examples demonstrate what's called <i><u>single-path</u></i> recursion:\n",
        "+ the recursive calls are made a single time, so that\n",
        "+ there is a single, step-by-step path taken.\n",
        "\n",
        "\n",
        "\n",
        "But for us, the <i>spiral</i> into the depths of recursion has only begun!\n",
        "\n",
        "Next up: <i><b>Branching</b></i> recursion!\n"
      ]
    },
    {
      "cell_type": "markdown",
      "metadata": {
        "id": "A1pc8iIyo7JP"
      },
      "source": [
        "## <font color=\"#f96d7b\"><b>The `chai` function: branching recursion </b> <font size = \"-1\"> [10 points]</font>\n",
        "\n",
        "Now to _branching-recursion_.\n",
        "\n",
        "Branching is when recursion is at its most \"magical.\"\n",
        "\n",
        "As a result, _writing_, branching recursion can feel especially mind-bending!\n",
        "\n",
        "In the end, all of the \"magic's\" tricks are revealed: it's fully understandable. (It does take some getting used to.)\n",
        "\n",
        " Here is a starter code for the `chai` function from class. It's not recursive, yet:"
      ]
    },
    {
      "cell_type": "code",
      "execution_count": 29,
      "metadata": {
        "colab": {
          "base_uri": "https://localhost:8080/",
          "height": 521
        },
        "id": "4i16KGnQDc7o",
        "outputId": "cc657944-49d4-46c4-f54e-dd13ee3d0876"
      },
      "outputs": [
        {
          "data": {
            "text/html": [
              "\n",
              "      <svg width=\"500\" height=\"500\">  \n",
              "        <rect width=\"100%\" height=\"100%\" style=\"fill:aliceblue;stroke:gray;stroke-width:1\"/>\n",
              "        \n",
              "        \n",
              "        <line x1=\"250.0\" y1=\"250.0\" x2=\"350.0\" y2=\"250.0\" stroke-linecap=\"round\" style=\"stroke:black;stroke-width:2\" /><line x1=\"350.0\" y1=\"250.0\" x2=\"350.0\" y2=\"200.0\" stroke-linecap=\"round\" style=\"stroke:black;stroke-width:2\" /><line x1=\"350.0\" y1=\"200.0\" x2=\"400.0\" y2=\"200.0\" stroke-linecap=\"round\" style=\"stroke:black;stroke-width:2\" /><line x1=\"400.0\" y1=\"200.0\" x2=\"400.0\" y2=\"175.0\" stroke-linecap=\"round\" style=\"stroke:black;stroke-width:2\" /><line x1=\"400.0\" y1=\"175.0\" x2=\"425.0\" y2=\"175.0\" stroke-linecap=\"round\" style=\"stroke:black;stroke-width:2\" /><line x1=\"425.0\" y1=\"175.0\" x2=\"425.0\" y2=\"162.5\" stroke-linecap=\"round\" style=\"stroke:black;stroke-width:2\" /><line x1=\"425.0\" y1=\"162.5\" x2=\"437.5\" y2=\"162.5\" stroke-linecap=\"round\" style=\"stroke:black;stroke-width:2\" /><line x1=\"437.5\" y1=\"162.5\" x2=\"437.5\" y2=\"156.25\" stroke-linecap=\"round\" style=\"stroke:black;stroke-width:2\" /><line x1=\"437.5\" y1=\"156.25\" x2=\"443.75\" y2=\"156.25\" stroke-linecap=\"round\" style=\"stroke:black;stroke-width:2\" /><line x1=\"443.75\" y1=\"156.25\" x2=\"443.75\" y2=\"153.125\" stroke-linecap=\"round\" style=\"stroke:black;stroke-width:2\" /><line x1=\"443.75\" y1=\"153.125\" x2=\"443.75\" y2=\"159.375\" stroke-linecap=\"round\" style=\"stroke:black;stroke-width:2\" /><line x1=\"443.75\" y1=\"159.375\" x2=\"443.75\" y2=\"156.25\" stroke-linecap=\"round\" style=\"stroke:black;stroke-width:2\" /><line x1=\"443.75\" y1=\"156.25\" x2=\"437.5\" y2=\"156.25\" stroke-linecap=\"round\" style=\"stroke:black;stroke-width:2\" /><line x1=\"437.5\" y1=\"156.25\" x2=\"437.5\" y2=\"168.75\" stroke-linecap=\"round\" style=\"stroke:black;stroke-width:2\" /><line x1=\"437.5\" y1=\"168.75\" x2=\"443.75\" y2=\"168.75\" stroke-linecap=\"round\" style=\"stroke:black;stroke-width:2\" /><line x1=\"443.75\" y1=\"168.75\" x2=\"443.75\" y2=\"165.625\" stroke-linecap=\"round\" style=\"stroke:black;stroke-width:2\" /><line x1=\"443.75\" y1=\"165.625\" x2=\"443.75\" y2=\"171.875\" stroke-linecap=\"round\" style=\"stroke:black;stroke-width:2\" /><line x1=\"443.75\" y1=\"171.875\" x2=\"443.75\" y2=\"168.75\" stroke-linecap=\"round\" style=\"stroke:black;stroke-width:2\" /><line x1=\"443.75\" y1=\"168.75\" x2=\"437.5\" y2=\"168.75\" stroke-linecap=\"round\" style=\"stroke:black;stroke-width:2\" /><line x1=\"437.5\" y1=\"168.75\" x2=\"437.5\" y2=\"162.5\" stroke-linecap=\"round\" style=\"stroke:black;stroke-width:2\" /><line x1=\"437.5\" y1=\"162.5\" x2=\"425.0\" y2=\"162.5\" stroke-linecap=\"round\" style=\"stroke:black;stroke-width:2\" /><line x1=\"425.0\" y1=\"162.5\" x2=\"425.0\" y2=\"187.5\" stroke-linecap=\"round\" style=\"stroke:black;stroke-width:2\" /><line x1=\"425.0\" y1=\"187.5\" x2=\"437.5\" y2=\"187.5\" stroke-linecap=\"round\" style=\"stroke:black;stroke-width:2\" /><line x1=\"437.5\" y1=\"187.5\" x2=\"437.5\" y2=\"181.25\" stroke-linecap=\"round\" style=\"stroke:black;stroke-width:2\" /><line x1=\"437.5\" y1=\"181.25\" x2=\"443.75\" y2=\"181.25\" stroke-linecap=\"round\" style=\"stroke:black;stroke-width:2\" /><line x1=\"443.75\" y1=\"181.25\" x2=\"443.75\" y2=\"178.125\" stroke-linecap=\"round\" style=\"stroke:black;stroke-width:2\" /><line x1=\"443.75\" y1=\"178.125\" x2=\"443.75\" y2=\"184.375\" stroke-linecap=\"round\" style=\"stroke:black;stroke-width:2\" /><line x1=\"443.75\" y1=\"184.375\" x2=\"443.75\" y2=\"181.25\" stroke-linecap=\"round\" style=\"stroke:black;stroke-width:2\" /><line x1=\"443.75\" y1=\"181.25\" x2=\"437.5\" y2=\"181.25\" stroke-linecap=\"round\" style=\"stroke:black;stroke-width:2\" /><line x1=\"437.5\" y1=\"181.25\" x2=\"437.5\" y2=\"193.75\" stroke-linecap=\"round\" style=\"stroke:black;stroke-width:2\" /><line x1=\"437.5\" y1=\"193.75\" x2=\"443.75\" y2=\"193.75\" stroke-linecap=\"round\" style=\"stroke:black;stroke-width:2\" /><line x1=\"443.75\" y1=\"193.75\" x2=\"443.75\" y2=\"190.625\" stroke-linecap=\"round\" style=\"stroke:black;stroke-width:2\" /><line x1=\"443.75\" y1=\"190.625\" x2=\"443.75\" y2=\"196.875\" stroke-linecap=\"round\" style=\"stroke:black;stroke-width:2\" /><line x1=\"443.75\" y1=\"196.875\" x2=\"443.75\" y2=\"193.75\" stroke-linecap=\"round\" style=\"stroke:black;stroke-width:2\" /><line x1=\"443.75\" y1=\"193.75\" x2=\"437.5\" y2=\"193.75\" stroke-linecap=\"round\" style=\"stroke:black;stroke-width:2\" /><line x1=\"437.5\" y1=\"193.75\" x2=\"437.5\" y2=\"187.5\" stroke-linecap=\"round\" style=\"stroke:black;stroke-width:2\" /><line x1=\"437.5\" y1=\"187.5\" x2=\"425.0\" y2=\"187.5\" stroke-linecap=\"round\" style=\"stroke:black;stroke-width:2\" /><line x1=\"425.0\" y1=\"187.5\" x2=\"425.0\" y2=\"175.0\" stroke-linecap=\"round\" style=\"stroke:black;stroke-width:2\" /><line x1=\"425.0\" y1=\"175.0\" x2=\"400.0\" y2=\"175.0\" stroke-linecap=\"round\" style=\"stroke:black;stroke-width:2\" /><line x1=\"400.0\" y1=\"175.0\" x2=\"400.0\" y2=\"225.0\" stroke-linecap=\"round\" style=\"stroke:black;stroke-width:2\" /><line x1=\"400.0\" y1=\"225.0\" x2=\"425.0\" y2=\"225.0\" stroke-linecap=\"round\" style=\"stroke:black;stroke-width:2\" /><line x1=\"425.0\" y1=\"225.0\" x2=\"425.0\" y2=\"212.5\" stroke-linecap=\"round\" style=\"stroke:black;stroke-width:2\" /><line x1=\"425.0\" y1=\"212.5\" x2=\"437.5\" y2=\"212.5\" stroke-linecap=\"round\" style=\"stroke:black;stroke-width:2\" /><line x1=\"437.5\" y1=\"212.5\" x2=\"437.5\" y2=\"206.25\" stroke-linecap=\"round\" style=\"stroke:black;stroke-width:2\" /><line x1=\"437.5\" y1=\"206.25\" x2=\"443.75\" y2=\"206.25\" stroke-linecap=\"round\" style=\"stroke:black;stroke-width:2\" /><line x1=\"443.75\" y1=\"206.25\" x2=\"443.75\" y2=\"203.125\" stroke-linecap=\"round\" style=\"stroke:black;stroke-width:2\" /><line x1=\"443.75\" y1=\"203.125\" x2=\"443.75\" y2=\"209.375\" stroke-linecap=\"round\" style=\"stroke:black;stroke-width:2\" /><line x1=\"443.75\" y1=\"209.375\" x2=\"443.75\" y2=\"206.25\" stroke-linecap=\"round\" style=\"stroke:black;stroke-width:2\" /><line x1=\"443.75\" y1=\"206.25\" x2=\"437.5\" y2=\"206.25\" stroke-linecap=\"round\" style=\"stroke:black;stroke-width:2\" /><line x1=\"437.5\" y1=\"206.25\" x2=\"437.5\" y2=\"218.75\" stroke-linecap=\"round\" style=\"stroke:black;stroke-width:2\" /><line x1=\"437.5\" y1=\"218.75\" x2=\"443.75\" y2=\"218.75\" stroke-linecap=\"round\" style=\"stroke:black;stroke-width:2\" /><line x1=\"443.75\" y1=\"218.75\" x2=\"443.75\" y2=\"215.625\" stroke-linecap=\"round\" style=\"stroke:black;stroke-width:2\" /><line x1=\"443.75\" y1=\"215.625\" x2=\"443.75\" y2=\"221.875\" stroke-linecap=\"round\" style=\"stroke:black;stroke-width:2\" /><line x1=\"443.75\" y1=\"221.875\" x2=\"443.75\" y2=\"218.75\" stroke-linecap=\"round\" style=\"stroke:black;stroke-width:2\" /><line x1=\"443.75\" y1=\"218.75\" x2=\"437.5\" y2=\"218.75\" stroke-linecap=\"round\" style=\"stroke:black;stroke-width:2\" /><line x1=\"437.5\" y1=\"218.75\" x2=\"437.5\" y2=\"212.5\" stroke-linecap=\"round\" style=\"stroke:black;stroke-width:2\" /><line x1=\"437.5\" y1=\"212.5\" x2=\"425.0\" y2=\"212.5\" stroke-linecap=\"round\" style=\"stroke:black;stroke-width:2\" /><line x1=\"425.0\" y1=\"212.5\" x2=\"425.0\" y2=\"237.5\" stroke-linecap=\"round\" style=\"stroke:black;stroke-width:2\" /><line x1=\"425.0\" y1=\"237.5\" x2=\"437.5\" y2=\"237.5\" stroke-linecap=\"round\" style=\"stroke:black;stroke-width:2\" /><line x1=\"437.5\" y1=\"237.5\" x2=\"437.5\" y2=\"231.25\" stroke-linecap=\"round\" style=\"stroke:black;stroke-width:2\" /><line x1=\"437.5\" y1=\"231.25\" x2=\"443.75\" y2=\"231.25\" stroke-linecap=\"round\" style=\"stroke:black;stroke-width:2\" /><line x1=\"443.75\" y1=\"231.25\" x2=\"443.75\" y2=\"228.125\" stroke-linecap=\"round\" style=\"stroke:black;stroke-width:2\" /><line x1=\"443.75\" y1=\"228.125\" x2=\"443.75\" y2=\"234.375\" stroke-linecap=\"round\" style=\"stroke:black;stroke-width:2\" /><line x1=\"443.75\" y1=\"234.375\" x2=\"443.75\" y2=\"231.25\" stroke-linecap=\"round\" style=\"stroke:black;stroke-width:2\" /><line x1=\"443.75\" y1=\"231.25\" x2=\"437.5\" y2=\"231.25\" stroke-linecap=\"round\" style=\"stroke:black;stroke-width:2\" /><line x1=\"437.5\" y1=\"231.25\" x2=\"437.5\" y2=\"243.75\" stroke-linecap=\"round\" style=\"stroke:black;stroke-width:2\" /><line x1=\"437.5\" y1=\"243.75\" x2=\"443.75\" y2=\"243.75\" stroke-linecap=\"round\" style=\"stroke:black;stroke-width:2\" /><line x1=\"443.75\" y1=\"243.75\" x2=\"443.75\" y2=\"240.625\" stroke-linecap=\"round\" style=\"stroke:black;stroke-width:2\" /><line x1=\"443.75\" y1=\"240.625\" x2=\"443.75\" y2=\"246.875\" stroke-linecap=\"round\" style=\"stroke:black;stroke-width:2\" /><line x1=\"443.75\" y1=\"246.875\" x2=\"443.75\" y2=\"243.75\" stroke-linecap=\"round\" style=\"stroke:black;stroke-width:2\" /><line x1=\"443.75\" y1=\"243.75\" x2=\"437.5\" y2=\"243.75\" stroke-linecap=\"round\" style=\"stroke:black;stroke-width:2\" /><line x1=\"437.5\" y1=\"243.75\" x2=\"437.5\" y2=\"237.5\" stroke-linecap=\"round\" style=\"stroke:black;stroke-width:2\" /><line x1=\"437.5\" y1=\"237.5\" x2=\"425.0\" y2=\"237.5\" stroke-linecap=\"round\" style=\"stroke:black;stroke-width:2\" /><line x1=\"425.0\" y1=\"237.5\" x2=\"425.0\" y2=\"225.0\" stroke-linecap=\"round\" style=\"stroke:black;stroke-width:2\" /><line x1=\"425.0\" y1=\"225.0\" x2=\"400.0\" y2=\"225.0\" stroke-linecap=\"round\" style=\"stroke:black;stroke-width:2\" /><line x1=\"400.0\" y1=\"225.0\" x2=\"400.0\" y2=\"200.0\" stroke-linecap=\"round\" style=\"stroke:black;stroke-width:2\" /><line x1=\"400.0\" y1=\"200.0\" x2=\"350.0\" y2=\"200.0\" stroke-linecap=\"round\" style=\"stroke:black;stroke-width:2\" /><line x1=\"350.0\" y1=\"200.0\" x2=\"350.0\" y2=\"300.0\" stroke-linecap=\"round\" style=\"stroke:black;stroke-width:2\" /><line x1=\"350.0\" y1=\"300.0\" x2=\"400.0\" y2=\"300.0\" stroke-linecap=\"round\" style=\"stroke:black;stroke-width:2\" /><line x1=\"400.0\" y1=\"300.0\" x2=\"400.0\" y2=\"275.0\" stroke-linecap=\"round\" style=\"stroke:black;stroke-width:2\" /><line x1=\"400.0\" y1=\"275.0\" x2=\"425.0\" y2=\"275.0\" stroke-linecap=\"round\" style=\"stroke:black;stroke-width:2\" /><line x1=\"425.0\" y1=\"275.0\" x2=\"425.0\" y2=\"262.5\" stroke-linecap=\"round\" style=\"stroke:black;stroke-width:2\" /><line x1=\"425.0\" y1=\"262.5\" x2=\"437.5\" y2=\"262.5\" stroke-linecap=\"round\" style=\"stroke:black;stroke-width:2\" /><line x1=\"437.5\" y1=\"262.5\" x2=\"437.5\" y2=\"256.25\" stroke-linecap=\"round\" style=\"stroke:black;stroke-width:2\" /><line x1=\"437.5\" y1=\"256.25\" x2=\"443.75\" y2=\"256.25\" stroke-linecap=\"round\" style=\"stroke:black;stroke-width:2\" /><line x1=\"443.75\" y1=\"256.25\" x2=\"443.75\" y2=\"253.125\" stroke-linecap=\"round\" style=\"stroke:black;stroke-width:2\" /><line x1=\"443.75\" y1=\"253.125\" x2=\"443.75\" y2=\"259.375\" stroke-linecap=\"round\" style=\"stroke:black;stroke-width:2\" /><line x1=\"443.75\" y1=\"259.375\" x2=\"443.75\" y2=\"256.25\" stroke-linecap=\"round\" style=\"stroke:black;stroke-width:2\" /><line x1=\"443.75\" y1=\"256.25\" x2=\"437.5\" y2=\"256.25\" stroke-linecap=\"round\" style=\"stroke:black;stroke-width:2\" /><line x1=\"437.5\" y1=\"256.25\" x2=\"437.5\" y2=\"268.75\" stroke-linecap=\"round\" style=\"stroke:black;stroke-width:2\" /><line x1=\"437.5\" y1=\"268.75\" x2=\"443.75\" y2=\"268.75\" stroke-linecap=\"round\" style=\"stroke:black;stroke-width:2\" /><line x1=\"443.75\" y1=\"268.75\" x2=\"443.75\" y2=\"265.625\" stroke-linecap=\"round\" style=\"stroke:black;stroke-width:2\" /><line x1=\"443.75\" y1=\"265.625\" x2=\"443.75\" y2=\"271.875\" stroke-linecap=\"round\" style=\"stroke:black;stroke-width:2\" /><line x1=\"443.75\" y1=\"271.875\" x2=\"443.75\" y2=\"268.75\" stroke-linecap=\"round\" style=\"stroke:black;stroke-width:2\" /><line x1=\"443.75\" y1=\"268.75\" x2=\"437.5\" y2=\"268.75\" stroke-linecap=\"round\" style=\"stroke:black;stroke-width:2\" /><line x1=\"437.5\" y1=\"268.75\" x2=\"437.5\" y2=\"262.5\" stroke-linecap=\"round\" style=\"stroke:black;stroke-width:2\" /><line x1=\"437.5\" y1=\"262.5\" x2=\"425.0\" y2=\"262.5\" stroke-linecap=\"round\" style=\"stroke:black;stroke-width:2\" /><line x1=\"425.0\" y1=\"262.5\" x2=\"425.0\" y2=\"287.5\" stroke-linecap=\"round\" style=\"stroke:black;stroke-width:2\" /><line x1=\"425.0\" y1=\"287.5\" x2=\"437.5\" y2=\"287.5\" stroke-linecap=\"round\" style=\"stroke:black;stroke-width:2\" /><line x1=\"437.5\" y1=\"287.5\" x2=\"437.5\" y2=\"281.25\" stroke-linecap=\"round\" style=\"stroke:black;stroke-width:2\" /><line x1=\"437.5\" y1=\"281.25\" x2=\"443.75\" y2=\"281.25\" stroke-linecap=\"round\" style=\"stroke:black;stroke-width:2\" /><line x1=\"443.75\" y1=\"281.25\" x2=\"443.75\" y2=\"278.125\" stroke-linecap=\"round\" style=\"stroke:black;stroke-width:2\" /><line x1=\"443.75\" y1=\"278.125\" x2=\"443.75\" y2=\"284.375\" stroke-linecap=\"round\" style=\"stroke:black;stroke-width:2\" /><line x1=\"443.75\" y1=\"284.375\" x2=\"443.75\" y2=\"281.25\" stroke-linecap=\"round\" style=\"stroke:black;stroke-width:2\" /><line x1=\"443.75\" y1=\"281.25\" x2=\"437.5\" y2=\"281.25\" stroke-linecap=\"round\" style=\"stroke:black;stroke-width:2\" /><line x1=\"437.5\" y1=\"281.25\" x2=\"437.5\" y2=\"293.75\" stroke-linecap=\"round\" style=\"stroke:black;stroke-width:2\" /><line x1=\"437.5\" y1=\"293.75\" x2=\"443.75\" y2=\"293.75\" stroke-linecap=\"round\" style=\"stroke:black;stroke-width:2\" /><line x1=\"443.75\" y1=\"293.75\" x2=\"443.75\" y2=\"290.625\" stroke-linecap=\"round\" style=\"stroke:black;stroke-width:2\" /><line x1=\"443.75\" y1=\"290.625\" x2=\"443.75\" y2=\"296.875\" stroke-linecap=\"round\" style=\"stroke:black;stroke-width:2\" /><line x1=\"443.75\" y1=\"296.875\" x2=\"443.75\" y2=\"293.75\" stroke-linecap=\"round\" style=\"stroke:black;stroke-width:2\" /><line x1=\"443.75\" y1=\"293.75\" x2=\"437.5\" y2=\"293.75\" stroke-linecap=\"round\" style=\"stroke:black;stroke-width:2\" /><line x1=\"437.5\" y1=\"293.75\" x2=\"437.5\" y2=\"287.5\" stroke-linecap=\"round\" style=\"stroke:black;stroke-width:2\" /><line x1=\"437.5\" y1=\"287.5\" x2=\"425.0\" y2=\"287.5\" stroke-linecap=\"round\" style=\"stroke:black;stroke-width:2\" /><line x1=\"425.0\" y1=\"287.5\" x2=\"425.0\" y2=\"275.0\" stroke-linecap=\"round\" style=\"stroke:black;stroke-width:2\" /><line x1=\"425.0\" y1=\"275.0\" x2=\"400.0\" y2=\"275.0\" stroke-linecap=\"round\" style=\"stroke:black;stroke-width:2\" /><line x1=\"400.0\" y1=\"275.0\" x2=\"400.0\" y2=\"325.0\" stroke-linecap=\"round\" style=\"stroke:black;stroke-width:2\" /><line x1=\"400.0\" y1=\"325.0\" x2=\"425.0\" y2=\"325.0\" stroke-linecap=\"round\" style=\"stroke:black;stroke-width:2\" /><line x1=\"425.0\" y1=\"325.0\" x2=\"425.0\" y2=\"312.5\" stroke-linecap=\"round\" style=\"stroke:black;stroke-width:2\" /><line x1=\"425.0\" y1=\"312.5\" x2=\"437.5\" y2=\"312.5\" stroke-linecap=\"round\" style=\"stroke:black;stroke-width:2\" /><line x1=\"437.5\" y1=\"312.5\" x2=\"437.5\" y2=\"306.25\" stroke-linecap=\"round\" style=\"stroke:black;stroke-width:2\" /><line x1=\"437.5\" y1=\"306.25\" x2=\"443.75\" y2=\"306.25\" stroke-linecap=\"round\" style=\"stroke:black;stroke-width:2\" /><line x1=\"443.75\" y1=\"306.25\" x2=\"443.75\" y2=\"303.125\" stroke-linecap=\"round\" style=\"stroke:black;stroke-width:2\" /><line x1=\"443.75\" y1=\"303.125\" x2=\"443.75\" y2=\"309.375\" stroke-linecap=\"round\" style=\"stroke:black;stroke-width:2\" /><line x1=\"443.75\" y1=\"309.375\" x2=\"443.75\" y2=\"306.25\" stroke-linecap=\"round\" style=\"stroke:black;stroke-width:2\" /><line x1=\"443.75\" y1=\"306.25\" x2=\"437.5\" y2=\"306.25\" stroke-linecap=\"round\" style=\"stroke:black;stroke-width:2\" /><line x1=\"437.5\" y1=\"306.25\" x2=\"437.5\" y2=\"318.75\" stroke-linecap=\"round\" style=\"stroke:black;stroke-width:2\" /><line x1=\"437.5\" y1=\"318.75\" x2=\"443.75\" y2=\"318.75\" stroke-linecap=\"round\" style=\"stroke:black;stroke-width:2\" /><line x1=\"443.75\" y1=\"318.75\" x2=\"443.75\" y2=\"315.625\" stroke-linecap=\"round\" style=\"stroke:black;stroke-width:2\" /><line x1=\"443.75\" y1=\"315.625\" x2=\"443.75\" y2=\"321.875\" stroke-linecap=\"round\" style=\"stroke:black;stroke-width:2\" /><line x1=\"443.75\" y1=\"321.875\" x2=\"443.75\" y2=\"318.75\" stroke-linecap=\"round\" style=\"stroke:black;stroke-width:2\" /><line x1=\"443.75\" y1=\"318.75\" x2=\"437.5\" y2=\"318.75\" stroke-linecap=\"round\" style=\"stroke:black;stroke-width:2\" /><line x1=\"437.5\" y1=\"318.75\" x2=\"437.5\" y2=\"312.5\" stroke-linecap=\"round\" style=\"stroke:black;stroke-width:2\" /><line x1=\"437.5\" y1=\"312.5\" x2=\"425.0\" y2=\"312.5\" stroke-linecap=\"round\" style=\"stroke:black;stroke-width:2\" /><line x1=\"425.0\" y1=\"312.5\" x2=\"425.0\" y2=\"337.5\" stroke-linecap=\"round\" style=\"stroke:black;stroke-width:2\" /><line x1=\"425.0\" y1=\"337.5\" x2=\"437.5\" y2=\"337.5\" stroke-linecap=\"round\" style=\"stroke:black;stroke-width:2\" /><line x1=\"437.5\" y1=\"337.5\" x2=\"437.5\" y2=\"331.25\" stroke-linecap=\"round\" style=\"stroke:black;stroke-width:2\" /><line x1=\"437.5\" y1=\"331.25\" x2=\"443.75\" y2=\"331.25\" stroke-linecap=\"round\" style=\"stroke:black;stroke-width:2\" /><line x1=\"443.75\" y1=\"331.25\" x2=\"443.75\" y2=\"328.125\" stroke-linecap=\"round\" style=\"stroke:black;stroke-width:2\" /><line x1=\"443.75\" y1=\"328.125\" x2=\"443.75\" y2=\"334.375\" stroke-linecap=\"round\" style=\"stroke:black;stroke-width:2\" /><line x1=\"443.75\" y1=\"334.375\" x2=\"443.75\" y2=\"331.25\" stroke-linecap=\"round\" style=\"stroke:black;stroke-width:2\" /><line x1=\"443.75\" y1=\"331.25\" x2=\"437.5\" y2=\"331.25\" stroke-linecap=\"round\" style=\"stroke:black;stroke-width:2\" /><line x1=\"437.5\" y1=\"331.25\" x2=\"437.5\" y2=\"343.75\" stroke-linecap=\"round\" style=\"stroke:black;stroke-width:2\" /><line x1=\"437.5\" y1=\"343.75\" x2=\"443.75\" y2=\"343.75\" stroke-linecap=\"round\" style=\"stroke:black;stroke-width:2\" /><line x1=\"443.75\" y1=\"343.75\" x2=\"443.75\" y2=\"340.625\" stroke-linecap=\"round\" style=\"stroke:black;stroke-width:2\" /><line x1=\"443.75\" y1=\"340.625\" x2=\"443.75\" y2=\"346.875\" stroke-linecap=\"round\" style=\"stroke:black;stroke-width:2\" /><line x1=\"443.75\" y1=\"346.875\" x2=\"443.75\" y2=\"343.75\" stroke-linecap=\"round\" style=\"stroke:black;stroke-width:2\" /><line x1=\"443.75\" y1=\"343.75\" x2=\"437.5\" y2=\"343.75\" stroke-linecap=\"round\" style=\"stroke:black;stroke-width:2\" /><line x1=\"437.5\" y1=\"343.75\" x2=\"437.5\" y2=\"337.5\" stroke-linecap=\"round\" style=\"stroke:black;stroke-width:2\" /><line x1=\"437.5\" y1=\"337.5\" x2=\"425.0\" y2=\"337.5\" stroke-linecap=\"round\" style=\"stroke:black;stroke-width:2\" /><line x1=\"425.0\" y1=\"337.5\" x2=\"425.0\" y2=\"325.0\" stroke-linecap=\"round\" style=\"stroke:black;stroke-width:2\" /><line x1=\"425.0\" y1=\"325.0\" x2=\"400.0\" y2=\"325.0\" stroke-linecap=\"round\" style=\"stroke:black;stroke-width:2\" /><line x1=\"400.0\" y1=\"325.0\" x2=\"400.0\" y2=\"300.0\" stroke-linecap=\"round\" style=\"stroke:black;stroke-width:2\" /><line x1=\"400.0\" y1=\"300.0\" x2=\"350.0\" y2=\"300.0\" stroke-linecap=\"round\" style=\"stroke:black;stroke-width:2\" /><line x1=\"350.0\" y1=\"300.0\" x2=\"350.0\" y2=\"250.0\" stroke-linecap=\"round\" style=\"stroke:black;stroke-width:2\" /><line x1=\"350.0\" y1=\"250.0\" x2=\"340.0\" y2=\"250.0\" stroke-linecap=\"round\" style=\"stroke:black;stroke-width:2\" /><line x1=\"340.0\" y1=\"250.0\" x2=\"330.0\" y2=\"250.0\" stroke-linecap=\"round\" style=\"stroke:black;stroke-width:2\" /><line x1=\"330.0\" y1=\"250.0\" x2=\"320.0\" y2=\"250.0\" stroke-linecap=\"round\" style=\"stroke:black;stroke-width:2\" /><line x1=\"320.0\" y1=\"250.0\" x2=\"310.0\" y2=\"250.0\" stroke-linecap=\"round\" style=\"stroke:black;stroke-width:2\" /><line x1=\"310.0\" y1=\"250.0\" x2=\"300.0\" y2=\"250.0\" stroke-linecap=\"round\" style=\"stroke:black;stroke-width:2\" /><line x1=\"300.0\" y1=\"250.0\" x2=\"290.0\" y2=\"250.0\" stroke-linecap=\"round\" style=\"stroke:black;stroke-width:2\" /><line x1=\"290.0\" y1=\"250.0\" x2=\"280.0\" y2=\"250.0\" stroke-linecap=\"round\" style=\"stroke:black;stroke-width:2\" /><line x1=\"280.0\" y1=\"250.0\" x2=\"270.0\" y2=\"250.0\" stroke-linecap=\"round\" style=\"stroke:black;stroke-width:2\" /><line x1=\"270.0\" y1=\"250.0\" x2=\"260.0\" y2=\"250.0\" stroke-linecap=\"round\" style=\"stroke:black;stroke-width:2\" /><line x1=\"260.0\" y1=\"250.0\" x2=\"250.0\" y2=\"250.0\" stroke-linecap=\"round\" style=\"stroke:black;stroke-width:2\" />\n",
              "        \n",
              "        \n",
              "        <g id=\"turtle2\" visibility=\"visible\" transform=\"rotate(-90,250.0,250.0) translate(250.0, 250.0)\">\n",
              "<polygon points=\"0,16 2,14 1,10 4,7 7,9 9,8 6,5 7,1 5,-3 8,-6 6,-8 4,-5 0,-7 -4,-5 -6,-8 -8,-6 -5,-3 -7,1 -6,5 -9,8 -7,9 -4,7 -1,10 -2,14\" transform=\"skewX(0) scale(1,1)\" style=\"stroke:black;stroke-width:1;fill:black\" />\n",
              "</g>\n",
              "      </svg>\n",
              "    "
            ],
            "text/plain": [
              "<IPython.core.display.HTML object>"
            ]
          },
          "metadata": {},
          "output_type": "display_data"
        }
      ],
      "source": [
        "# The chai function\n",
        "\n",
        "import ColabTurtlePlus.Turtle as t\n",
        "\n",
        "t.clearscreen()      # it's good to start every cell with this\n",
        "t.setup(500,500)     # setup the drawing area to be 500 pixels x 500 pixels\n",
        "t.showborder()       # show the border of the drawing area\n",
        "\n",
        "t.bgcolor(\"AliceBlue\")   # adjust to your preferences!\n",
        "t.shape(\"turtle2\")\n",
        "t.speed(10)\n",
        "t.width(2)\n",
        "\n",
        "def chai(size):\n",
        "    \"\"\"Our chai function!\"\"\"\n",
        "    if (size < 5):\n",
        "        return\n",
        "    else:\n",
        "        t.forward(size)\n",
        "        t.left(90)\n",
        "        t.forward(size/2)\n",
        "        t.right(90)\n",
        "\n",
        "        chai(size/2)\n",
        "\n",
        "        t.right(90)\n",
        "        t.forward(size)\n",
        "        t.left(90)\n",
        "\n",
        "        chai(size/2)\n",
        "\n",
        "        t.left(90)\n",
        "        t.forward(size/2)\n",
        "        t.right(90)\n",
        "        t.backward(size)\n",
        "        return\n",
        "\n",
        "#\n",
        "# This runs the chai function:\n",
        "#\n",
        "chai(100)"
      ]
    },
    {
      "cell_type": "markdown",
      "metadata": {
        "id": "BEEgtG4jDt12"
      },
      "source": [
        "When you run this code with `chai(100)`, you should see a side-view \"T\"!\n",
        "\n",
        "\n",
        "Take a moment to digest what `chai` draws:\n",
        "+ How is the final \"T\" shape formed? You might act it out, on paper or in person!\n",
        "+ Notice where in the \"T\"  the two hash-tagged `# recurse here` comments in the code, at the \"T\"'s top ends...\n",
        "+ Next, you'll add one recursive branch, then a second:\n",
        "\n",
        "To that end, add one branch of recursion to `chai`:\n",
        "\n",
        "+ First, paste this recursive call: `chai(size/2)` between the two calls to `t.right(90)` (i.e., where the first recursion is called for.\n",
        "\n",
        "Try it out!\n",
        "\n",
        "<hr>\n",
        "\n",
        "<b>Next</b>, add a second branch.\n",
        "\n",
        "+ That is, place a _second_ recursive call to `chai(size/2)` between the two calls to `t.left(90)`\n",
        "\n",
        "It's nothing more than a second branch, __but__ because it's called recursively on _all_ of the subbranches, the resulting work - and visual intricacy - is _much more_ than doubled!\n",
        "\n",
        "Again, try it out!\n",
        "\n",
        "<hr>\n",
        "\n",
        "In the end, branching recursion works by creating a smaller version of the overall structure at <b><i>more than one location</i></b> within that structure.\n",
        "\n",
        "\n",
        "Take a moment again here to analyze the final `chai` function, the branching-recursion one:\n",
        "+ Why does it draw such a complex figure?\n",
        "+ Again, it might help to act it out -- or use paper. You'll see that a _lot_ of bookkeeping is going on! The process is keeping track of where in the recursion it is ... <i>at all times</i>.\n",
        "\n",
        "<br>\n",
        "\n",
        "<font size = \"+1.5\">Key idea: <b>Be sure to end where you began</b>\n",
        "\n",
        "***One key*** to making branching recursion \"work\" is _making sure that your turtle __ends__ at the same __location__ that it begins, and ends up __facing the same direction__._ That ensures the statements after the recursive calls are moving the turtle as expected -- and that the subsequent drawing is \"right on schedule\"!\n",
        "\n",
        "No need to customize `chai` here.\n",
        "\n",
        "Instead, you'll customize it with `svtree`, our <i>side-view tree</i>, next:\n",
        "\n"
      ]
    },
    {
      "cell_type": "markdown",
      "metadata": {
        "id": "hztMWEZUM9-9"
      },
      "source": [
        " ## <font color = \"blue\"> <b>Turtle Task #4: The `svtree` function</b>  </font> <font size = \"-1\"> [10 points]</font>\n",
        "\n",
        "\n",
        "Next, you'll write another branching example: the _side-view_ tree.\n",
        "\n",
        "\"Branching\" seems like a particularly appropriate descriptor in this case!\n",
        "\n",
        "The idea is to create a function that draws the _side view_ of a tree, hence `svtree`. Read over this docstring to get a sense of the two arguments. Then, look over the outline and images below the code:"
      ]
    },
    {
      "cell_type": "code",
      "execution_count": 49,
      "metadata": {
        "colab": {
          "base_uri": "https://localhost:8080/",
          "height": 521
        },
        "id": "1FHfXGUENPUG",
        "outputId": "6b0f420e-1060-458a-a014-434443ba1bb1"
      },
      "outputs": [
        {
          "data": {
            "text/html": [
              "\n",
              "      <svg width=\"500\" height=\"500\">  \n",
              "        <rect width=\"100%\" height=\"100%\" style=\"fill:aliceblue;stroke:gray;stroke-width:1\"/>\n",
              "        \n",
              "        \n",
              "        <line x1=\"100.0\" y1=\"250.0\" x2=\"150.0\" y2=\"250.0\" stroke-linecap=\"round\" style=\"stroke:black;stroke-width:2\" /><line x1=\"150.0\" y1=\"250.0\" x2=\"171.651\" y2=\"237.5\" stroke-linecap=\"round\" style=\"stroke:black;stroke-width:2\" /><line x1=\"171.651\" y1=\"237.5\" x2=\"177.901\" y2=\"226.675\" stroke-linecap=\"round\" style=\"stroke:black;stroke-width:2\" /><line x1=\"177.901\" y1=\"226.675\" x2=\"177.901\" y2=\"220.425\" stroke-linecap=\"round\" style=\"stroke:black;stroke-width:2\" /><line x1=\"177.901\" y1=\"220.425\" x2=\"177.901\" y2=\"226.675\" stroke-linecap=\"round\" style=\"stroke:black;stroke-width:2\" /><line x1=\"177.901\" y1=\"226.675\" x2=\"183.314\" y2=\"223.55\" stroke-linecap=\"round\" style=\"stroke:black;stroke-width:2\" /><line x1=\"183.314\" y1=\"223.55\" x2=\"177.901\" y2=\"226.675\" stroke-linecap=\"round\" style=\"stroke:black;stroke-width:2\" /><line x1=\"177.901\" y1=\"226.675\" x2=\"171.651\" y2=\"237.5\" stroke-linecap=\"round\" style=\"stroke:black;stroke-width:2\" /><line x1=\"171.651\" y1=\"237.5\" x2=\"184.151\" y2=\"237.5\" stroke-linecap=\"round\" style=\"stroke:black;stroke-width:2\" /><line x1=\"184.151\" y1=\"237.5\" x2=\"189.564\" y2=\"234.375\" stroke-linecap=\"round\" style=\"stroke:black;stroke-width:2\" /><line x1=\"189.564\" y1=\"234.375\" x2=\"184.151\" y2=\"237.5\" stroke-linecap=\"round\" style=\"stroke:black;stroke-width:2\" /><line x1=\"184.151\" y1=\"237.5\" x2=\"189.564\" y2=\"240.625\" stroke-linecap=\"round\" style=\"stroke:black;stroke-width:2\" /><line x1=\"189.564\" y1=\"240.625\" x2=\"184.151\" y2=\"237.5\" stroke-linecap=\"round\" style=\"stroke:black;stroke-width:2\" /><line x1=\"184.151\" y1=\"237.5\" x2=\"171.651\" y2=\"237.5\" stroke-linecap=\"round\" style=\"stroke:black;stroke-width:2\" /><line x1=\"171.651\" y1=\"237.5\" x2=\"150.0\" y2=\"250.0\" stroke-linecap=\"round\" style=\"stroke:black;stroke-width:2\" /><line x1=\"150.0\" y1=\"250.0\" x2=\"171.651\" y2=\"262.5\" stroke-linecap=\"round\" style=\"stroke:black;stroke-width:2\" /><line x1=\"171.651\" y1=\"262.5\" x2=\"184.151\" y2=\"262.5\" stroke-linecap=\"round\" style=\"stroke:black;stroke-width:2\" /><line x1=\"184.151\" y1=\"262.5\" x2=\"189.564\" y2=\"259.375\" stroke-linecap=\"round\" style=\"stroke:black;stroke-width:2\" /><line x1=\"189.564\" y1=\"259.375\" x2=\"184.151\" y2=\"262.5\" stroke-linecap=\"round\" style=\"stroke:black;stroke-width:2\" /><line x1=\"184.151\" y1=\"262.5\" x2=\"189.564\" y2=\"265.625\" stroke-linecap=\"round\" style=\"stroke:black;stroke-width:2\" /><line x1=\"189.564\" y1=\"265.625\" x2=\"184.151\" y2=\"262.5\" stroke-linecap=\"round\" style=\"stroke:black;stroke-width:2\" /><line x1=\"184.151\" y1=\"262.5\" x2=\"171.651\" y2=\"262.5\" stroke-linecap=\"round\" style=\"stroke:black;stroke-width:2\" /><line x1=\"171.651\" y1=\"262.5\" x2=\"177.901\" y2=\"273.325\" stroke-linecap=\"round\" style=\"stroke:black;stroke-width:2\" /><line x1=\"177.901\" y1=\"273.325\" x2=\"183.314\" y2=\"276.45\" stroke-linecap=\"round\" style=\"stroke:black;stroke-width:2\" /><line x1=\"183.314\" y1=\"276.45\" x2=\"177.901\" y2=\"273.325\" stroke-linecap=\"round\" style=\"stroke:black;stroke-width:2\" /><line x1=\"177.901\" y1=\"273.325\" x2=\"177.901\" y2=\"279.575\" stroke-linecap=\"round\" style=\"stroke:black;stroke-width:2\" /><line x1=\"177.901\" y1=\"279.575\" x2=\"177.901\" y2=\"273.325\" stroke-linecap=\"round\" style=\"stroke:black;stroke-width:2\" /><line x1=\"177.901\" y1=\"273.325\" x2=\"171.651\" y2=\"262.5\" stroke-linecap=\"round\" style=\"stroke:black;stroke-width:2\" /><line x1=\"171.651\" y1=\"262.5\" x2=\"150.0\" y2=\"250.0\" stroke-linecap=\"round\" style=\"stroke:black;stroke-width:2\" /><line x1=\"150.0\" y1=\"250.0\" x2=\"140.0\" y2=\"250.0\" stroke-linecap=\"round\" style=\"stroke:black;stroke-width:2\" /><line x1=\"140.0\" y1=\"250.0\" x2=\"130.0\" y2=\"250.0\" stroke-linecap=\"round\" style=\"stroke:black;stroke-width:2\" /><line x1=\"130.0\" y1=\"250.0\" x2=\"120.0\" y2=\"250.0\" stroke-linecap=\"round\" style=\"stroke:black;stroke-width:2\" /><line x1=\"120.0\" y1=\"250.0\" x2=\"110.0\" y2=\"250.0\" stroke-linecap=\"round\" style=\"stroke:black;stroke-width:2\" /><line x1=\"110.0\" y1=\"250.0\" x2=\"100.0\" y2=\"250.0\" stroke-linecap=\"round\" style=\"stroke:black;stroke-width:2\" />\n",
              "        \n",
              "        \n",
              "        <g id=\"turtle2\" visibility=\"visible\" transform=\"rotate(-90,100.0,250.0) translate(100.0, 250.0)\">\n",
              "<polygon points=\"0,16 2,14 1,10 4,7 7,9 9,8 6,5 7,1 5,-3 8,-6 6,-8 4,-5 0,-7 -4,-5 -6,-8 -8,-6 -5,-3 -7,1 -6,5 -9,8 -7,9 -4,7 -1,10 -2,14\" transform=\"skewX(0) scale(1,1)\" style=\"stroke:black;stroke-width:1;fill:black\" />\n",
              "</g>\n",
              "      </svg>\n",
              "    "
            ],
            "text/plain": [
              "<IPython.core.display.HTML object>"
            ]
          },
          "metadata": {},
          "output_type": "display_data"
        }
      ],
      "source": [
        "import ColabTurtlePlus.Turtle as t\n",
        "\n",
        "t.clearscreen()      # it's good to start every cell with this\n",
        "t.setup(500,500)     # setup the drawing area to be 500 pixels x 500 pixels\n",
        "t.showborder()       # show the border of the drawing area\n",
        "\n",
        "t.bgcolor(\"AliceBlue\")   # adjust to your preferences!\n",
        "t.shape(\"turtle2\")\n",
        "t.speed(10)\n",
        "t.width(2)\n",
        "\n",
        "def svtree(trunklength, levels):\n",
        "    \"\"\"svtree: draws a side-view tree\n",
        "       trunklength = the length of the first line drawn (\"the trunk\")\n",
        "       levels = the depth of recursion to which it continues branching\n",
        "    \"\"\"\n",
        "    if levels == 0:\n",
        "        return\n",
        "    else:\n",
        "        t.forward(trunklength)\n",
        "        t.left(30)\n",
        "        svtree(trunklength/2, levels-1)\n",
        "        t.right(60)\n",
        "        svtree(trunklength/2, levels-1)\n",
        "        t.left(30)\n",
        "        t.backward(trunklength)\n",
        "\n",
        "#\n",
        "# setup - move the turtle backward a bit:\n",
        "#\n",
        "t.penup()\n",
        "t.backward(150)\n",
        "t.pendown()\n",
        "\n",
        "# Go!  One example:\n",
        "svtree(50, 4)\n",
        "\n",
        "# try svtree(100,5)\n"
      ]
    },
    {
      "cell_type": "markdown",
      "metadata": {
        "id": "0pQOhwduNYAw"
      },
      "source": [
        "### <font color = \"blue\"> **More on `svtree`...**\n",
        "\n",
        "Before diving in, take a look at two examples and some analysis. First, here is an example of the possible output when `svtree(50, 2)` is run:\n",
        "\n",
        "\n",
        "<img src = \"https://www.cs.hmc.edu/twiki/pub/CS5Fall2022/Lab2Turtle/svtree_2.png\" height=\"142px\">\n",
        "\n",
        "Caution: because the function draws a sideways tree, it can go off the screen really fast. The lines of code at the bottom (`t.penup()` through `t.pendown()`) ensure that that doesn't happen, so make sure that you call svtree _after_ them.\n",
        "\n",
        "Here is an example of the output from our function when `svtree(128, 6)` is run:\n",
        "\n",
        "<img src = \"https://www.cs.hmc.edu/twiki/pub/CS5Fall2022/Lab2Turtle/svtree_6.png\" height=\"200px\">\n",
        "\n",
        "\n",
        "Note that this __really__ is side-view!\n",
        "\n",
        "Also, if `svtree(50, 0)` is run, the result should be no drawing at all. _The base case occurs when `levels` equals 0._\n",
        "\n",
        "<br>\n",
        "\n",
        "<font size = \"+1.5\"> <b> Strategy and analysis </font></b>\n",
        "\n",
        "**Base case:**   for `svtree`, you want to draw nothing (and `return` from `svtree`) when `levels == 0`.\n",
        "\n",
        "**Recursive case:**   We tackle it conceptually.\n",
        "\n",
        "Here is a picture showing the self-similar breakdown of `svtree` (from the Gold slides). This is, in fact, an almost complete map of the svtree code!\n",
        "\n",
        "\n",
        "<img src = \"https://www.cs.hmc.edu/twiki/pub/CS5/Lab2Turtle/svtree.png\" height=\"442px\">\n",
        "\n",
        "\n",
        "The key to happiness with recursive drawing is this: ___the pen must be back at the start (root) of the tree at the end of the function call, and the turtle must be facing in the original direction!___ That way, each portion of the recursion \"takes care of itself\" relative to the other parts of the image. Here are the steps:\n",
        "\n",
        "- Go forward the `trunklength`.\n",
        "- Turn left some amount.\n",
        "- Recur! (call `svtree` with a fraction of the `trunklength` and 1 fewer levels).\n",
        "- Turn right some amount (if you want to be symmetric, turn right by double the amount you turned left).\n",
        "- Recur again! (make the same call to `svtree` with a fraction of the `trunklength` and 1 fewer levels).\n",
        "- _Finish up, part 1_: Turn left so that the turtle is facing its original direction (if your tree is symmetric, the same as the original left turn).\n",
        "- _finish up, part 2_: Go __backward__ the original `trunklength`.\n",
        "\n",
        "<br>\n",
        "\n",
        "**Notes and Hints**\n",
        "\n",
        "- Don't worry about the exact angle of branching...\n",
        "- Don't worry about the exact amount of reduction of the trunklength in sub-branches, etc.\n",
        "- Design your own tree by making aesthetic choices for each of these!\n",
        "\n",
        "Also, calling `t.left(90)` before the code at the bottom will yield a more traditional, skyward, tree pose!\n",
        "\n",
        "\n",
        "\n",
        "\n",
        "\n",
        "\n",
        "\n",
        "\n"
      ]
    },
    {
      "cell_type": "markdown",
      "metadata": {
        "id": "yBoWs_GvPzGP"
      },
      "source": [
        "#### **Try more branches!**\n",
        "\n",
        "Once you have the `svtree` function working, alter it so that it has three or more branches, instead of only two...\n",
        "\n",
        "- You can get some very dense \"foliage\" very quickly.\n",
        "- Even more \"life-like\" results are possible if you use non-identical branching angles and size multipliers.\n",
        "- Also, you could have the `pensize` or `pencolor` depend on the value of `levels`.\n",
        "- If you make the final \"level\" red, you can create an apple tree.\n",
        "   - See the `dot` example from `tri` for other ways to add fruit to a tree...\n",
        "- Or, if you make that final \"level\" a random color, you can produce fall-foliage-type effects..."
      ]
    },
    {
      "cell_type": "markdown",
      "metadata": {
        "id": "IHnTo1HZQAnF"
      },
      "source": [
        "For the fourth task, as with the previous ones,\n",
        "+ leave in the notebook your final/favorite tree, one that's different from this page's provided examples.\n",
        "\n"
      ]
    },
    {
      "cell_type": "markdown",
      "metadata": {
        "id": "I5wCTsO_QN68"
      },
      "source": [
        "### _What - only two branches?!_    \n",
        "\n",
        " As the branching factor increases, things can get __icy__... or, perhaps, numbing:"
      ]
    },
    {
      "cell_type": "markdown",
      "metadata": {
        "id": "kCe2pKeiQt1V"
      },
      "source": [
        "## <font color = \"blue\"> <b>Turtle Task #5: The `flakeside` function </b> <font size = \"-1\"> [10 points]</font>\n",
        "\n",
        "A challenge! The Koch Snowflake is an example of _deeply_ branching recursion.\n",
        "\n",
        "The Koch snowflake is a fractal with three identical sides—it's the sides themselves that are defined recursively, not the set of three of them.\n",
        "\n",
        "Because of this, we provide the overall `snowflake` function for you to use—it's here.\n",
        "\n",
        "<b>Note</b> - you won't be able to use the <tt>snowflake</tt> function until you define `flakeside` below."
      ]
    },
    {
      "cell_type": "code",
      "execution_count": 67,
      "metadata": {
        "colab": {
          "base_uri": "https://localhost:8080/",
          "height": 521
        },
        "id": "PwbAEbdARUGk",
        "outputId": "1596a7c9-3ccc-495e-e09a-836fca90964e"
      },
      "outputs": [
        {
          "data": {
            "text/html": [
              "\n",
              "      <svg width=\"500\" height=\"500\">  \n",
              "        <rect width=\"100%\" height=\"100%\" style=\"fill:aliceblue;stroke:gray;stroke-width:1\"/>\n",
              "        \n",
              "        \n",
              "        <line x1=\"250.0\" y1=\"250.0\" x2=\"272.222\" y2=\"250.0\" stroke-linecap=\"round\" style=\"stroke:black;stroke-width:2\" /><line x1=\"272.222\" y1=\"250.0\" x2=\"283.333\" y2=\"269.245\" stroke-linecap=\"round\" style=\"stroke:black;stroke-width:2\" /><line x1=\"283.333\" y1=\"269.245\" x2=\"294.444\" y2=\"250.0\" stroke-linecap=\"round\" style=\"stroke:black;stroke-width:2\" /><line x1=\"294.444\" y1=\"250.0\" x2=\"316.666\" y2=\"250.0\" stroke-linecap=\"round\" style=\"stroke:black;stroke-width:2\" /><line x1=\"316.666\" y1=\"250.0\" x2=\"327.777\" y2=\"269.245\" stroke-linecap=\"round\" style=\"stroke:black;stroke-width:2\" /><line x1=\"327.777\" y1=\"269.245\" x2=\"316.666\" y2=\"288.49\" stroke-linecap=\"round\" style=\"stroke:black;stroke-width:2\" /><line x1=\"316.666\" y1=\"288.49\" x2=\"338.888\" y2=\"288.49\" stroke-linecap=\"round\" style=\"stroke:black;stroke-width:2\" /><line x1=\"338.888\" y1=\"288.49\" x2=\"349.999\" y2=\"307.735\" stroke-linecap=\"round\" style=\"stroke:black;stroke-width:2\" /><line x1=\"349.999\" y1=\"307.735\" x2=\"361.11\" y2=\"288.49\" stroke-linecap=\"round\" style=\"stroke:black;stroke-width:2\" /><line x1=\"361.11\" y1=\"288.49\" x2=\"383.332\" y2=\"288.49\" stroke-linecap=\"round\" style=\"stroke:black;stroke-width:2\" /><line x1=\"383.332\" y1=\"288.49\" x2=\"372.221\" y2=\"269.245\" stroke-linecap=\"round\" style=\"stroke:black;stroke-width:2\" /><line x1=\"372.221\" y1=\"269.245\" x2=\"383.332\" y2=\"250.0\" stroke-linecap=\"round\" style=\"stroke:black;stroke-width:2\" /><line x1=\"383.332\" y1=\"250.0\" x2=\"405.554\" y2=\"250.0\" stroke-linecap=\"round\" style=\"stroke:black;stroke-width:2\" /><line x1=\"405.554\" y1=\"250.0\" x2=\"416.665\" y2=\"269.245\" stroke-linecap=\"round\" style=\"stroke:black;stroke-width:2\" /><line x1=\"416.665\" y1=\"269.245\" x2=\"427.776\" y2=\"250.0\" stroke-linecap=\"round\" style=\"stroke:black;stroke-width:2\" /><line x1=\"427.776\" y1=\"250.0\" x2=\"449.998\" y2=\"250.0\" stroke-linecap=\"round\" style=\"stroke:black;stroke-width:2\" /><line x1=\"449.998\" y1=\"250.0\" x2=\"438.887\" y2=\"230.755\" stroke-linecap=\"round\" style=\"stroke:black;stroke-width:2\" /><line x1=\"438.887\" y1=\"230.755\" x2=\"449.998\" y2=\"211.51\" stroke-linecap=\"round\" style=\"stroke:black;stroke-width:2\" /><line x1=\"449.998\" y1=\"211.51\" x2=\"427.776\" y2=\"211.51\" stroke-linecap=\"round\" style=\"stroke:black;stroke-width:2\" /><line x1=\"427.776\" y1=\"211.51\" x2=\"416.665\" y2=\"192.265\" stroke-linecap=\"round\" style=\"stroke:black;stroke-width:2\" /><line x1=\"416.665\" y1=\"192.265\" x2=\"427.776\" y2=\"173.02\" stroke-linecap=\"round\" style=\"stroke:black;stroke-width:2\" /><line x1=\"427.776\" y1=\"173.02\" x2=\"449.998\" y2=\"173.02\" stroke-linecap=\"round\" style=\"stroke:black;stroke-width:2\" /><line x1=\"449.998\" y1=\"173.02\" x2=\"438.887\" y2=\"153.775\" stroke-linecap=\"round\" style=\"stroke:black;stroke-width:2\" /><line x1=\"438.887\" y1=\"153.775\" x2=\"449.998\" y2=\"134.53\" stroke-linecap=\"round\" style=\"stroke:black;stroke-width:2\" /><line x1=\"449.998\" y1=\"134.53\" x2=\"427.776\" y2=\"134.53\" stroke-linecap=\"round\" style=\"stroke:black;stroke-width:2\" /><line x1=\"427.776\" y1=\"134.53\" x2=\"416.665\" y2=\"115.285\" stroke-linecap=\"round\" style=\"stroke:black;stroke-width:2\" /><line x1=\"416.665\" y1=\"115.285\" x2=\"405.554\" y2=\"134.53\" stroke-linecap=\"round\" style=\"stroke:black;stroke-width:2\" /><line x1=\"405.554\" y1=\"134.53\" x2=\"383.332\" y2=\"134.53\" stroke-linecap=\"round\" style=\"stroke:black;stroke-width:2\" /><line x1=\"383.332\" y1=\"134.53\" x2=\"372.221\" y2=\"115.285\" stroke-linecap=\"round\" style=\"stroke:black;stroke-width:2\" /><line x1=\"372.221\" y1=\"115.285\" x2=\"383.332\" y2=\"96.04\" stroke-linecap=\"round\" style=\"stroke:black;stroke-width:2\" /><line x1=\"383.332\" y1=\"96.04\" x2=\"361.11\" y2=\"96.04\" stroke-linecap=\"round\" style=\"stroke:black;stroke-width:2\" /><line x1=\"361.11\" y1=\"96.04\" x2=\"349.999\" y2=\"76.795\" stroke-linecap=\"round\" style=\"stroke:black;stroke-width:2\" /><line x1=\"349.999\" y1=\"76.795\" x2=\"338.888\" y2=\"96.04\" stroke-linecap=\"round\" style=\"stroke:black;stroke-width:2\" /><line x1=\"338.888\" y1=\"96.04\" x2=\"316.666\" y2=\"96.04\" stroke-linecap=\"round\" style=\"stroke:black;stroke-width:2\" /><line x1=\"316.666\" y1=\"96.04\" x2=\"327.777\" y2=\"115.285\" stroke-linecap=\"round\" style=\"stroke:black;stroke-width:2\" /><line x1=\"327.777\" y1=\"115.285\" x2=\"316.666\" y2=\"134.53\" stroke-linecap=\"round\" style=\"stroke:black;stroke-width:2\" /><line x1=\"316.666\" y1=\"134.53\" x2=\"294.444\" y2=\"134.53\" stroke-linecap=\"round\" style=\"stroke:black;stroke-width:2\" /><line x1=\"294.444\" y1=\"134.53\" x2=\"283.333\" y2=\"115.285\" stroke-linecap=\"round\" style=\"stroke:black;stroke-width:2\" /><line x1=\"283.333\" y1=\"115.285\" x2=\"272.222\" y2=\"134.53\" stroke-linecap=\"round\" style=\"stroke:black;stroke-width:2\" /><line x1=\"272.222\" y1=\"134.53\" x2=\"250.0\" y2=\"134.53\" stroke-linecap=\"round\" style=\"stroke:black;stroke-width:2\" /><line x1=\"250.0\" y1=\"134.53\" x2=\"261.111\" y2=\"153.775\" stroke-linecap=\"round\" style=\"stroke:black;stroke-width:2\" /><line x1=\"261.111\" y1=\"153.775\" x2=\"250.0\" y2=\"173.02\" stroke-linecap=\"round\" style=\"stroke:black;stroke-width:2\" /><line x1=\"250.0\" y1=\"173.02\" x2=\"272.222\" y2=\"173.02\" stroke-linecap=\"round\" style=\"stroke:black;stroke-width:2\" /><line x1=\"272.222\" y1=\"173.02\" x2=\"283.333\" y2=\"192.265\" stroke-linecap=\"round\" style=\"stroke:black;stroke-width:2\" /><line x1=\"283.333\" y1=\"192.265\" x2=\"272.222\" y2=\"211.51\" stroke-linecap=\"round\" style=\"stroke:black;stroke-width:2\" /><line x1=\"272.222\" y1=\"211.51\" x2=\"250.0\" y2=\"211.51\" stroke-linecap=\"round\" style=\"stroke:black;stroke-width:2\" /><line x1=\"250.0\" y1=\"211.51\" x2=\"261.111\" y2=\"230.755\" stroke-linecap=\"round\" style=\"stroke:black;stroke-width:2\" /><line x1=\"261.111\" y1=\"230.755\" x2=\"250.0\" y2=\"250.0\" stroke-linecap=\"round\" style=\"stroke:black;stroke-width:2\" />\n",
              "        \n",
              "        \n",
              "        <g id=\"turtle2\" visibility=\"visible\" transform=\"rotate(30,250.0,250.0) translate(250.0, 250.0)\">\n",
              "<polygon points=\"0,16 2,14 1,10 4,7 7,9 9,8 6,5 7,1 5,-3 8,-6 6,-8 4,-5 0,-7 -4,-5 -6,-8 -8,-6 -5,-3 -7,1 -6,5 -9,8 -7,9 -4,7 -1,10 -2,14\" transform=\"skewX(0) scale(1,1)\" style=\"stroke:black;stroke-width:1;fill:black\" />\n",
              "<animateTransform id = \"one\" attributeName=\"transform\" \n",
              "                      type=\"scale\"\n",
              "                      from=\"1 1\" to=\"1 1\"\n",
              "                      begin=\"0s\" dur=\"0.01s\"\n",
              "                      repeatCount=\"1\"\n",
              "                      additive=\"sum\"\n",
              "                      fill=\"freeze\"\n",
              "                /><animateTransform attributeName=\"transform\"\n",
              "                    type=\"rotate\"\n",
              "                    from=\"0 0 0\" to =\"-120 0 0\"\n",
              "                    begin=\"one.end\" dur=\"0.10666666666666666s\"\n",
              "                    repeatCount=\"1\"\n",
              "                    additive=\"sum\"\n",
              "                    fill=\"freeze\"\n",
              "                /></g>\n",
              "      </svg>\n",
              "    "
            ],
            "text/plain": [
              "<IPython.core.display.HTML object>"
            ]
          },
          "metadata": {},
          "output_type": "display_data"
        }
      ],
      "source": [
        "import ColabTurtlePlus.Turtle as t\n",
        "\n",
        "t.clearscreen()      # it's good to start every cell with this\n",
        "t.setup(500,500)     # setup the drawing area to be 500 pixels x 500 pixels\n",
        "t.showborder()       # show the border of the drawing area\n",
        "\n",
        "t.bgcolor(\"AliceBlue\")   # adjust to your preferences!\n",
        "t.shape(\"turtle2\")\n",
        "t.speed(10)\n",
        "t.width(2)\n",
        "\n",
        "def flakeside(sidelength, levels):\n",
        "    \"\"\" flakeside draws _one side_ of the fractal Koch snowflake\n",
        "    \"\"\"\n",
        "    if levels == 0:\n",
        "      t.forward(sidelength)\n",
        "      return\n",
        "    else:\n",
        "      flakeside(sidelength/3, levels-1)\n",
        "      t.right(60)\n",
        "      flakeside(sidelength/3, levels-1)\n",
        "      t.left(120)\n",
        "      flakeside(sidelength/3, levels-1)\n",
        "      t.right(60)\n",
        "      flakeside(sidelength/3, levels-1)\n",
        "\n",
        "def snowflake(sidelength, levels):\n",
        "    \"\"\"Fractal snowflake function, complete.\n",
        "       sidelength: pixels in the largest-scale triangle side\n",
        "       levels: the number of recursive levels in each side\n",
        "    \"\"\"\n",
        "    flakeside(sidelength, levels)     # needs to be implemented - see below\n",
        "    t.left(120)\n",
        "    flakeside(sidelength, levels)\n",
        "    t.left(120)\n",
        "    flakeside(sidelength, levels)\n",
        "    t.left(120)\n",
        "\n",
        "snowflake(200,2)"
      ]
    },
    {
      "cell_type": "markdown",
      "metadata": {
        "id": "OkAsXbEhRn4-"
      },
      "source": [
        "### <font color = \"blue\"> **Writing the `flakeside` function!**\n",
        "\n",
        "Your task is to implement `flakeside(sidelength, levels)`, which will draw one snowflake side:\n",
        "\n",
        "There is a starter code below. First, here is a graphical summary of a snowflake-side's structure:\n",
        "\n",
        "<img src = \"https://www.cs.hmc.edu/twiki/pub/CS5/Lab2Turtle/flakeside.png\" height=\"542px\">"
      ]
    },
    {
      "cell_type": "code",
      "execution_count": 64,
      "metadata": {
        "colab": {
          "base_uri": "https://localhost:8080/",
          "height": 521
        },
        "id": "c5JjE7a5R3EV",
        "outputId": "5b8adde0-3529-4d76-a948-901707ea3872"
      },
      "outputs": [
        {
          "data": {
            "text/html": [
              "\n",
              "      <svg width=\"500\" height=\"500\">  \n",
              "        <rect width=\"100%\" height=\"100%\" style=\"fill:aliceblue;stroke:gray;stroke-width:1\"/>\n",
              "        \n",
              "        \n",
              "        <line x1=\"50.0\" y1=\"250.0\" x2=\"83.333\" y2=\"250.0\" stroke-linecap=\"round\" style=\"stroke:black;stroke-width:2\" /><line x1=\"83.333\" y1=\"250.0\" x2=\"100.0\" y2=\"278.868\" stroke-linecap=\"round\" style=\"stroke:black;stroke-width:2\" /><line x1=\"100.0\" y1=\"278.868\" x2=\"116.667\" y2=\"250.0\" stroke-linecap=\"round\" style=\"stroke:black;stroke-width:2\" /><line x1=\"116.667\" y1=\"250.0\" x2=\"150.0\" y2=\"250.0\" stroke-linecap=\"round\" style=\"stroke:black;stroke-width:2\" /><line x1=\"150.0\" y1=\"250.0\" x2=\"166.667\" y2=\"278.868\" stroke-linecap=\"round\" style=\"stroke:black;stroke-width:2\" /><line x1=\"166.667\" y1=\"278.868\" x2=\"150.0\" y2=\"307.736\" stroke-linecap=\"round\" style=\"stroke:black;stroke-width:2\" /><line x1=\"150.0\" y1=\"307.736\" x2=\"183.333\" y2=\"307.736\" stroke-linecap=\"round\" style=\"stroke:black;stroke-width:2\" /><line x1=\"183.333\" y1=\"307.736\" x2=\"200.0\" y2=\"336.604\" stroke-linecap=\"round\" style=\"stroke:black;stroke-width:2\" /><line x1=\"200.0\" y1=\"336.604\" x2=\"216.667\" y2=\"307.736\" stroke-linecap=\"round\" style=\"stroke:black;stroke-width:2\" /><line x1=\"216.667\" y1=\"307.736\" x2=\"250.0\" y2=\"307.736\" stroke-linecap=\"round\" style=\"stroke:black;stroke-width:2\" /><line x1=\"250.0\" y1=\"307.736\" x2=\"233.333\" y2=\"278.868\" stroke-linecap=\"round\" style=\"stroke:black;stroke-width:2\" /><line x1=\"233.333\" y1=\"278.868\" x2=\"250.0\" y2=\"250.0\" stroke-linecap=\"round\" style=\"stroke:black;stroke-width:2\" /><line x1=\"250.0\" y1=\"250.0\" x2=\"283.333\" y2=\"250.0\" stroke-linecap=\"round\" style=\"stroke:black;stroke-width:2\" /><line x1=\"283.333\" y1=\"250.0\" x2=\"300.0\" y2=\"278.868\" stroke-linecap=\"round\" style=\"stroke:black;stroke-width:2\" /><line x1=\"300.0\" y1=\"278.868\" x2=\"316.667\" y2=\"250.0\" stroke-linecap=\"round\" style=\"stroke:black;stroke-width:2\" /><line x1=\"316.667\" y1=\"250.0\" x2=\"326.667\" y2=\"250.0\" stroke-linecap=\"round\" style=\"stroke:black;stroke-width:2\" /><line x1=\"326.667\" y1=\"250.0\" x2=\"336.667\" y2=\"250.0\" stroke-linecap=\"round\" style=\"stroke:black;stroke-width:2\" /><line x1=\"336.667\" y1=\"250.0\" x2=\"346.667\" y2=\"250.0\" stroke-linecap=\"round\" style=\"stroke:black;stroke-width:2\" /><line x1=\"346.667\" y1=\"250.0\" x2=\"350.0003333333333\" y2=\"250.0\" stroke-linecap=\"round\" style=\"stroke:black;stroke-width:2\" />\n",
              "        \n",
              "        \n",
              "        <g id=\"turtle2\" visibility=\"visible\" transform=\"rotate(-90,350.0003333333333,250.0) translate(350.0003333333333, 250.0)\">\n",
              "<polygon points=\"0,16 2,14 1,10 4,7 7,9 9,8 6,5 7,1 5,-3 8,-6 6,-8 4,-5 0,-7 -4,-5 -6,-8 -8,-6 -5,-3 -7,1 -6,5 -9,8 -7,9 -4,7 -1,10 -2,14\" transform=\"skewX(0) scale(1,1)\" style=\"stroke:black;stroke-width:1;fill:black\" />\n",
              "</g>\n",
              "      </svg>\n",
              "    "
            ],
            "text/plain": [
              "<IPython.core.display.HTML object>"
            ]
          },
          "metadata": {},
          "output_type": "display_data"
        }
      ],
      "source": [
        "import ColabTurtlePlus.Turtle as t\n",
        "\n",
        "t.clearscreen()      # it's good to start every cell with this\n",
        "t.setup(500,500)     # setup the drawing area to be 500 pixels x 500 pixels\n",
        "t.showborder()       # show the border of the drawing area\n",
        "\n",
        "t.bgcolor(\"AliceBlue\")   # adjust to your preferences!\n",
        "t.shape(\"turtle2\")\n",
        "t.speed(10)\n",
        "t.width(2)\n",
        "\n",
        "def flakeside(sidelength, levels):\n",
        "    \"\"\" flakeside draws _one side_ of the fractal Koch snowflake\n",
        "    \"\"\"\n",
        "    if levels == 0:\n",
        "      t.forward(sidelength)\n",
        "      return\n",
        "    else:\n",
        "      flakeside(sidelength/3, levels-1)\n",
        "      t.right(60)\n",
        "      flakeside(sidelength/3, levels-1)\n",
        "      t.left(120)\n",
        "      flakeside(sidelength/3, levels-1)\n",
        "      t.right(60)\n",
        "      flakeside(sidelength/3, levels-1)\n",
        "\n",
        "#\n",
        "# try it!\n",
        "#\n",
        "t.penup()\n",
        "t.goto(-200,0)  # move the pen to a \"southwest\" corner...\n",
        "t.pendown()\n",
        "\n",
        "flakeside(300,2)  # try it...\n"
      ]
    },
    {
      "cell_type": "markdown",
      "metadata": {
        "id": "NhV44qPTSrrh"
      },
      "source": [
        "### <font color= \"salmon\"> Hints for  flakeside\n",
        "\n",
        "\n",
        "\n",
        "- A base-case Koch snowflake side is simply a straight line of length `sidelength`!\n",
        "- Other than the base case, you should never draw a line directly. Instead, use a recursive call to `flakeside`.\n",
        "- Each recursive level replaces the _middle third_ of the snowflake's side with a \"bump,\" i.e., two sides that would be part of a one-third-scale equilateral triangle.\n",
        "- Notice there are four _sub-sides_ to each flake side. This means that `flakeside` will call itself recursively ___four times___!\n",
        "- At the three spots _between_ those four calls, there will be an appropriate turn...\n",
        "- Thus, the recursive case will include seven total lines (4 recursions and three turns)."
      ]
    },
    {
      "cell_type": "markdown",
      "metadata": {
        "id": "UYKpOVENTG61"
      },
      "source": [
        "#### **Calls to try...**\n",
        "\n",
        "- Try `flakeside(300, 0)`—make sure you get a straight line\n",
        "- Try `flakeside(300, 1)`—make sure you get a four-segment contour\n",
        "- Try `flakeside(300, 2)`—make sure you get four \"level-1\" flakesides\n",
        "- Try `flakeside(300, 3)`—pretty! and pretty cool! Olaf approves.\n",
        "\n",
        "\n",
        "Remember that `flakeside` is creating ___only one___ of the three sides of the snowflake!\n",
        "\n",
        "- Because of this, it does __not__ have to end in the same location as it begins.\n",
        "- After all, if it did, all three sides of the overall snowflake would be on top of one another."
      ]
    },
    {
      "cell_type": "markdown",
      "metadata": {
        "id": "Tq1S1_iKTg4b"
      },
      "source": [
        "### From `flakeside` to `snowflake`\n",
        "\n",
        "Once your `flakeside` function works, try out `snowflake`!\n",
        "\n",
        "- The `snowflake` function simply calls `flakeside` three times.\n",
        "- Depending on the directions that `flakeside` uses, you may need to change the `left`s in `snowflake` to `right`s.\n",
        "- Examples to try might include `snowflake(300, 2)` and `snowflake(300, 3)`\n",
        "\n",
        "Like `svtree`, if you are having trouble seeing everything you may need to move the turtle at the beginning. Try:\n",
        "```\n",
        "t.penup()\n",
        "t.setposition(x, y)\n",
        "t.pendown()\n",
        "```\n",
        "Put the coordinates you want into `setposition`. Note that `(0, 0)` is the upper left corner.\n",
        "\n",
        "Here are images of four different values of `levels` for a snowflake, `0`, `1`, `2`, and `3`:\n",
        "\n",
        "\n",
        "<img src = \"http://www.cs.hmc.edu/~cs5grad/cs5/koch.png\" height=\"442px\">\n",
        "\n",
        "\n",
        "Consider the following script:\n",
        "```\n",
        "t.penup()\n",
        "t.goto(-200,-100)  # move the pen to a \"southwest\" corner...\n",
        "t.pendown()\n",
        "snowflake(300,2)   # two recursive levels deep!\n",
        "```\n",
        "Here's an in-progress run from this script:\n",
        "\n",
        "<img src = \"https://www.cs.hmc.edu/twiki/pub/CS5Fall2022/Lab2Turtle/snowflake_partial.png\" height=\"442px\">\n",
        "\n",
        "Try it here:\n",
        "\n",
        "\n",
        "\n",
        "\n"
      ]
    },
    {
      "cell_type": "code",
      "execution_count": 68,
      "metadata": {
        "colab": {
          "base_uri": "https://localhost:8080/",
          "height": 521
        },
        "id": "6HrMaSOH-0rP",
        "outputId": "54130f08-eb38-46ec-9054-894717b98d68"
      },
      "outputs": [
        {
          "data": {
            "text/html": [
              "\n",
              "      <svg width=\"500\" height=\"500\">  \n",
              "        <rect width=\"100%\" height=\"100%\" style=\"fill:aliceblue;stroke:gray;stroke-width:1\"/>\n",
              "        \n",
              "        \n",
              "        <line x1=\"50.0\" y1=\"350.0\" x2=\"83.333\" y2=\"350.0\" stroke-linecap=\"round\" style=\"stroke:black;stroke-width:2\" /><line x1=\"83.333\" y1=\"350.0\" x2=\"100.0\" y2=\"378.868\" stroke-linecap=\"round\" style=\"stroke:black;stroke-width:2\" /><line x1=\"100.0\" y1=\"378.868\" x2=\"116.667\" y2=\"350.0\" stroke-linecap=\"round\" style=\"stroke:black;stroke-width:2\" /><line x1=\"116.667\" y1=\"350.0\" x2=\"150.0\" y2=\"350.0\" stroke-linecap=\"round\" style=\"stroke:black;stroke-width:2\" /><line x1=\"150.0\" y1=\"350.0\" x2=\"166.667\" y2=\"378.868\" stroke-linecap=\"round\" style=\"stroke:black;stroke-width:2\" /><line x1=\"166.667\" y1=\"378.868\" x2=\"150.0\" y2=\"407.736\" stroke-linecap=\"round\" style=\"stroke:black;stroke-width:2\" /><line x1=\"150.0\" y1=\"407.736\" x2=\"183.333\" y2=\"407.736\" stroke-linecap=\"round\" style=\"stroke:black;stroke-width:2\" /><line x1=\"183.333\" y1=\"407.736\" x2=\"200.0\" y2=\"436.604\" stroke-linecap=\"round\" style=\"stroke:black;stroke-width:2\" /><line x1=\"200.0\" y1=\"436.604\" x2=\"216.667\" y2=\"407.736\" stroke-linecap=\"round\" style=\"stroke:black;stroke-width:2\" /><line x1=\"216.667\" y1=\"407.736\" x2=\"250.0\" y2=\"407.736\" stroke-linecap=\"round\" style=\"stroke:black;stroke-width:2\" /><line x1=\"250.0\" y1=\"407.736\" x2=\"233.333\" y2=\"378.868\" stroke-linecap=\"round\" style=\"stroke:black;stroke-width:2\" /><line x1=\"233.333\" y1=\"378.868\" x2=\"250.0\" y2=\"350.0\" stroke-linecap=\"round\" style=\"stroke:black;stroke-width:2\" /><line x1=\"250.0\" y1=\"350.0\" x2=\"283.333\" y2=\"350.0\" stroke-linecap=\"round\" style=\"stroke:black;stroke-width:2\" /><line x1=\"283.333\" y1=\"350.0\" x2=\"300.0\" y2=\"378.868\" stroke-linecap=\"round\" style=\"stroke:black;stroke-width:2\" /><line x1=\"300.0\" y1=\"378.868\" x2=\"316.667\" y2=\"350.0\" stroke-linecap=\"round\" style=\"stroke:black;stroke-width:2\" /><line x1=\"316.667\" y1=\"350.0\" x2=\"350.0\" y2=\"350.0\" stroke-linecap=\"round\" style=\"stroke:black;stroke-width:2\" /><line x1=\"350.0\" y1=\"350.0\" x2=\"333.333\" y2=\"321.132\" stroke-linecap=\"round\" style=\"stroke:black;stroke-width:2\" /><line x1=\"333.333\" y1=\"321.132\" x2=\"350.0\" y2=\"292.264\" stroke-linecap=\"round\" style=\"stroke:black;stroke-width:2\" /><line x1=\"350.0\" y1=\"292.264\" x2=\"316.667\" y2=\"292.264\" stroke-linecap=\"round\" style=\"stroke:black;stroke-width:2\" /><line x1=\"316.667\" y1=\"292.264\" x2=\"300.0\" y2=\"263.396\" stroke-linecap=\"round\" style=\"stroke:black;stroke-width:2\" /><line x1=\"300.0\" y1=\"263.396\" x2=\"316.667\" y2=\"234.528\" stroke-linecap=\"round\" style=\"stroke:black;stroke-width:2\" /><line x1=\"316.667\" y1=\"234.528\" x2=\"350.0\" y2=\"234.528\" stroke-linecap=\"round\" style=\"stroke:black;stroke-width:2\" /><line x1=\"350.0\" y1=\"234.528\" x2=\"333.333\" y2=\"205.66\" stroke-linecap=\"round\" style=\"stroke:black;stroke-width:2\" /><line x1=\"333.333\" y1=\"205.66\" x2=\"350.0\" y2=\"176.792\" stroke-linecap=\"round\" style=\"stroke:black;stroke-width:2\" /><line x1=\"350.0\" y1=\"176.792\" x2=\"316.667\" y2=\"176.792\" stroke-linecap=\"round\" style=\"stroke:black;stroke-width:2\" /><line x1=\"316.667\" y1=\"176.792\" x2=\"300.0\" y2=\"147.924\" stroke-linecap=\"round\" style=\"stroke:black;stroke-width:2\" /><line x1=\"300.0\" y1=\"147.924\" x2=\"283.333\" y2=\"176.792\" stroke-linecap=\"round\" style=\"stroke:black;stroke-width:2\" /><line x1=\"283.333\" y1=\"176.792\" x2=\"250.0\" y2=\"176.792\" stroke-linecap=\"round\" style=\"stroke:black;stroke-width:2\" /><line x1=\"250.0\" y1=\"176.792\" x2=\"233.333\" y2=\"147.924\" stroke-linecap=\"round\" style=\"stroke:black;stroke-width:2\" /><line x1=\"233.333\" y1=\"147.924\" x2=\"250.0\" y2=\"119.056\" stroke-linecap=\"round\" style=\"stroke:black;stroke-width:2\" /><line x1=\"250.0\" y1=\"119.056\" x2=\"216.667\" y2=\"119.056\" stroke-linecap=\"round\" style=\"stroke:black;stroke-width:2\" /><line x1=\"216.667\" y1=\"119.056\" x2=\"200.0\" y2=\"90.188\" stroke-linecap=\"round\" style=\"stroke:black;stroke-width:2\" /><line x1=\"200.0\" y1=\"90.188\" x2=\"183.333\" y2=\"119.056\" stroke-linecap=\"round\" style=\"stroke:black;stroke-width:2\" /><line x1=\"183.333\" y1=\"119.056\" x2=\"150.0\" y2=\"119.056\" stroke-linecap=\"round\" style=\"stroke:black;stroke-width:2\" /><line x1=\"150.0\" y1=\"119.056\" x2=\"166.667\" y2=\"147.924\" stroke-linecap=\"round\" style=\"stroke:black;stroke-width:2\" /><line x1=\"166.667\" y1=\"147.924\" x2=\"150.0\" y2=\"176.792\" stroke-linecap=\"round\" style=\"stroke:black;stroke-width:2\" /><line x1=\"150.0\" y1=\"176.792\" x2=\"116.667\" y2=\"176.792\" stroke-linecap=\"round\" style=\"stroke:black;stroke-width:2\" /><line x1=\"116.667\" y1=\"176.792\" x2=\"100.0\" y2=\"147.924\" stroke-linecap=\"round\" style=\"stroke:black;stroke-width:2\" /><line x1=\"100.0\" y1=\"147.924\" x2=\"83.333\" y2=\"176.792\" stroke-linecap=\"round\" style=\"stroke:black;stroke-width:2\" /><line x1=\"83.333\" y1=\"176.792\" x2=\"50.0\" y2=\"176.792\" stroke-linecap=\"round\" style=\"stroke:black;stroke-width:2\" /><line x1=\"50.0\" y1=\"176.792\" x2=\"66.667\" y2=\"205.66\" stroke-linecap=\"round\" style=\"stroke:black;stroke-width:2\" /><line x1=\"66.667\" y1=\"205.66\" x2=\"50.0\" y2=\"234.528\" stroke-linecap=\"round\" style=\"stroke:black;stroke-width:2\" /><line x1=\"50.0\" y1=\"234.528\" x2=\"83.333\" y2=\"234.528\" stroke-linecap=\"round\" style=\"stroke:black;stroke-width:2\" /><line x1=\"83.333\" y1=\"234.528\" x2=\"100.0\" y2=\"263.396\" stroke-linecap=\"round\" style=\"stroke:black;stroke-width:2\" /><line x1=\"100.0\" y1=\"263.396\" x2=\"83.333\" y2=\"292.264\" stroke-linecap=\"round\" style=\"stroke:black;stroke-width:2\" /><line x1=\"83.333\" y1=\"292.264\" x2=\"50.0\" y2=\"292.264\" stroke-linecap=\"round\" style=\"stroke:black;stroke-width:2\" /><line x1=\"50.0\" y1=\"292.264\" x2=\"66.667\" y2=\"321.132\" stroke-linecap=\"round\" style=\"stroke:black;stroke-width:2\" /><line x1=\"66.667\" y1=\"321.132\" x2=\"50.0\" y2=\"350.0\" stroke-linecap=\"round\" style=\"stroke:black;stroke-width:2\" />\n",
              "        \n",
              "        \n",
              "        <g id=\"turtle2\" visibility=\"visible\" transform=\"rotate(30,50.0,350.0) translate(50.0, 350.0)\">\n",
              "<polygon points=\"0,16 2,14 1,10 4,7 7,9 9,8 6,5 7,1 5,-3 8,-6 6,-8 4,-5 0,-7 -4,-5 -6,-8 -8,-6 -5,-3 -7,1 -6,5 -9,8 -7,9 -4,7 -1,10 -2,14\" transform=\"skewX(0) scale(1,1)\" style=\"stroke:black;stroke-width:1;fill:black\" />\n",
              "<animateTransform id = \"one\" attributeName=\"transform\" \n",
              "                      type=\"scale\"\n",
              "                      from=\"1 1\" to=\"1 1\"\n",
              "                      begin=\"0s\" dur=\"0.01s\"\n",
              "                      repeatCount=\"1\"\n",
              "                      additive=\"sum\"\n",
              "                      fill=\"freeze\"\n",
              "                /><animateTransform attributeName=\"transform\"\n",
              "                    type=\"rotate\"\n",
              "                    from=\"0 0 0\" to =\"-120 0 0\"\n",
              "                    begin=\"one.end\" dur=\"0.10666666666666666s\"\n",
              "                    repeatCount=\"1\"\n",
              "                    additive=\"sum\"\n",
              "                    fill=\"freeze\"\n",
              "                /></g>\n",
              "      </svg>\n",
              "    "
            ],
            "text/plain": [
              "<IPython.core.display.HTML object>"
            ]
          },
          "metadata": {},
          "output_type": "display_data"
        }
      ],
      "source": [
        "#\n",
        "# Drawing the Koch snowflake\n",
        "#\n",
        "\n",
        "t.clearscreen()      # it's good to start every cell with this\n",
        "t.setup(500,500)     # setup the drawing area to be 500 pixels x 500 pixels\n",
        "t.showborder()       # show the border of the drawing area\n",
        "\n",
        "t.bgcolor(\"AliceBlue\")   # adjust to your preferences!\n",
        "t.shape(\"turtle2\")\n",
        "t.speed(10)\n",
        "t.width(2)\n",
        "\n",
        "\n",
        "\n",
        "# You'll need both the snowflake function (provided) and flakeside, which you will have written:\n",
        "def flakeside(sidelength, levels):\n",
        "    \"\"\" flakeside draws _one side_ of the fractal Koch snowflake\n",
        "    \"\"\"\n",
        "    if levels == 0:\n",
        "      t.forward(sidelength)\n",
        "      return\n",
        "    else:\n",
        "      flakeside(sidelength/3, levels-1)\n",
        "      t.right(60)\n",
        "      flakeside(sidelength/3, levels-1)\n",
        "      t.left(120)\n",
        "      flakeside(sidelength/3, levels-1)\n",
        "      t.right(60)\n",
        "      flakeside(sidelength/3, levels-1)\n",
        "\n",
        "def snowflake(sidelength, levels):\n",
        "    \"\"\"Fractal snowflake function, complete.\n",
        "       sidelength: pixels in the largest-scale triangle side\n",
        "       levels: the number of recursive levels in each side\n",
        "    \"\"\"\n",
        "    flakeside(sidelength, levels)     # needs to be implemented - see below\n",
        "    t.left(120)\n",
        "    flakeside(sidelength, levels)\n",
        "    t.left(120)\n",
        "    flakeside(sidelength, levels)\n",
        "    t.left(120)\n",
        "t.penup()\n",
        "t.goto(-200,-100)  # move the pen to a \"southwest\" corner...\n",
        "t.pendown()\n",
        "\n",
        "snowflake(300,2)   # two recursive levels deep!\n",
        "\n",
        "#\n",
        "# Try three - or four - levels, as well."
      ]
    },
    {
      "cell_type": "markdown",
      "metadata": {
        "id": "ztXw3JL-B1V1"
      },
      "source": [
        "#### More snow!\n",
        "\n",
        "There is lots more about the Koch snowflake and its kin...   \n",
        "\n",
        "Google around and you'll find that branching recursion and fractals are one and the same thing:\n",
        "\n",
        "- [the Koch Snowflake](https://en.wikipedia.org/wiki/Koch_snowflake)\n",
        "- [the Menger Sponge](https://en.wikipedia.org/wiki/Menger_sponge)\n",
        "- [Julia Sets](https://en.wikipedia.org/wiki/Julia_set#/media/File:Julia_set,_plotted_with_Matplotlib.svg)\n",
        "- [space-filling curves](https://en.wikipedia.org/wiki/Space-filling_curve)\n",
        "\n",
        "\n",
        "<br>"
      ]
    },
    {
      "cell_type": "markdown",
      "metadata": {
        "id": "7OtpwkwL1Uao"
      },
      "source": [
        "# <font color = \"dodgerblue\"> **Submitting...**\n",
        "\n",
        "To submit,\n",
        "+ first, download your <tt>.ipynb</tt> notebook - with your turtle images present\n",
        "+ then upload the resulting file to GradeScope\n",
        "\n",
        "You're set!\n",
        "\n",
        "<br>\n",
        "\n",
        "If you're in the mood for more turtle (or have homework in other courses to procrastinate...), read on!\n",
        "\n"
      ]
    },
    {
      "cell_type": "markdown",
      "metadata": {
        "id": "m_n0JcwaaqVC"
      },
      "source": [
        "### More turtle?\n",
        "\n",
        "<b>Extra credit options</b>\n",
        "\n",
        "If you enjoy creating turtle graphics, whether recursive or not, you're invited to try more!\n",
        "\n",
        "+ For extra-credit of up to +8.42 points, include additional cell(s) with your own custom-designed turtle creations...  (and the code used to create them)\n",
        "  + This is your \"turtle-graphics portfolio\"!\n",
        "+ In fact, you may already have a portfolio! If you've already created a work you like, you can always copy the code to a new cell and then continue working/developing from there. It's completely OK if it was accidental!\n",
        "+ Feel free to build something new, whether by designed or <i>unencumbered by strategic assembly</i> ...\n",
        "+ Since lab does usually have as much e.c., if you do create additional turtle-artwork, please submit you under this week's e.c. problem, <tt>hw2pr5</tt>\n",
        "\n",
        "\n",
        "The grutors - and we - look forward to your turtle-visions!\n",
        "\n",
        "<br>\n",
        "\n",
        "<i>Happy turtling!</i>\n"
      ]
    },
    {
      "cell_type": "code",
      "execution_count": null,
      "metadata": {
        "id": "NDBKSska90kK"
      },
      "outputs": [],
      "source": [
        "# run this cell to create a good-job-for-finishing star 🤩\n",
        "\n",
        "t.clearscreen()      # it's good to start every cell with this\n",
        "t.setup(500,500)     # setup the drawing area to be 500 pixels x 500 pixels\n",
        "t.showborder()       # show the border of the drawing area\n",
        "\n",
        "t.bgcolor(\"AliceBlue\")   # adjust to your preferences!\n",
        "t.shape(\"turtle2\")\n",
        "t.speed(10)\n",
        "t.width(2)\n",
        "\n",
        "def star(n):\n",
        "    \"\"\" draws a star!\n",
        "        call with star(5)\n",
        "    \"\"\"\n",
        "    if n == 0:\n",
        "        return\n",
        "    else:\n",
        "        t.forward(100)\n",
        "        t.right(144)\n",
        "        star(n-1)\n",
        "\n",
        "t.fillcolor(\"gold\")\n",
        "t.begin_fill()\n",
        "star(5)\n",
        "t.end_fill()\n",
        "\n",
        "t.penup()\n",
        "t.backward(100)\n",
        "t.pendown()"
      ]
    }
  ],
  "metadata": {
    "colab": {
      "provenance": []
    },
    "kernelspec": {
      "display_name": "Python 3",
      "name": "python3"
    },
    "language_info": {
      "codemirror_mode": {
        "name": "ipython",
        "version": 3
      },
      "file_extension": ".py",
      "mimetype": "text/x-python",
      "name": "python",
      "nbconvert_exporter": "python",
      "pygments_lexer": "ipython3",
      "version": "3.10.11"
    }
  },
  "nbformat": 4,
  "nbformat_minor": 0
}
